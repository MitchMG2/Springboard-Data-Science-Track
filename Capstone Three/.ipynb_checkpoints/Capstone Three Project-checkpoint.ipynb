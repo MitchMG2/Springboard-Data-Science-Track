{
 "cells": [
  {
   "cell_type": "markdown",
   "metadata": {},
   "source": [
    "Imports"
   ]
  },
  {
   "cell_type": "code",
   "execution_count": 2,
   "metadata": {
    "execution": {
     "iopub.execute_input": "2021-02-18T01:50:04.641821Z",
     "iopub.status.busy": "2021-02-18T01:50:04.641630Z",
     "iopub.status.idle": "2021-02-18T01:50:04.644146Z",
     "shell.execute_reply": "2021-02-18T01:50:04.643749Z",
     "shell.execute_reply.started": "2021-02-18T01:50:04.641800Z"
    }
   },
   "outputs": [],
   "source": [
    "import pandas as pd\n",
    "import numpy as np\n",
    "import matplotlib.pyplot as plt\n",
    "import datetime\n",
    "import os\n",
    "import sqlite3"
   ]
  },
  {
   "cell_type": "markdown",
   "metadata": {},
   "source": [
    "Create a sql connection from which to read tables"
   ]
  },
  {
   "cell_type": "code",
   "execution_count": 3,
   "metadata": {
    "execution": {
     "iopub.execute_input": "2021-02-18T01:50:37.245778Z",
     "iopub.status.busy": "2021-02-18T01:50:37.245589Z",
     "iopub.status.idle": "2021-02-18T01:50:37.248748Z",
     "shell.execute_reply": "2021-02-18T01:50:37.248100Z",
     "shell.execute_reply.started": "2021-02-18T01:50:37.245756Z"
    }
   },
   "outputs": [],
   "source": [
    "con = sqlite3.connect(\"data/database.sqlite\")"
   ]
  },
  {
   "cell_type": "code",
   "execution_count": 5,
   "metadata": {
    "execution": {
     "iopub.execute_input": "2021-02-18T01:56:09.335877Z",
     "iopub.status.busy": "2021-02-18T01:56:09.335723Z",
     "iopub.status.idle": "2021-02-18T01:56:09.338098Z",
     "shell.execute_reply": "2021-02-18T01:56:09.337595Z",
     "shell.execute_reply.started": "2021-02-18T01:56:09.335861Z"
    }
   },
   "outputs": [],
   "source": [
    "cursor = con.cursor()"
   ]
  },
  {
   "cell_type": "code",
   "execution_count": null,
   "metadata": {},
   "outputs": [],
   "source": [
    "tables = pd.read_sql(\"\"\"SELECT * FROM sqlite_master WHERE type='table'\"\"\", c)"
   ]
  },
  {
   "cell_type": "markdown",
   "metadata": {},
   "source": [
    "Dump all the tables into separate csv files to make life easier"
   ]
  },
  {
   "cell_type": "code",
   "execution_count": 7,
   "metadata": {
    "execution": {
     "iopub.execute_input": "2021-02-18T01:59:12.711925Z",
     "iopub.status.busy": "2021-02-18T01:59:12.711778Z",
     "iopub.status.idle": "2021-02-18T01:59:25.770563Z",
     "shell.execute_reply": "2021-02-18T01:59:25.770093Z",
     "shell.execute_reply.started": "2021-02-18T01:59:12.711909Z"
    }
   },
   "outputs": [],
   "source": [
    "cursor.execute(\"SELECT name FROM sqlite_master WHERE type='table';\")\n",
    "tables = cursor.fetchall()\n",
    "for table_name in tables:\n",
    "    table_name = table_name[0]\n",
    "    table = pd.read_sql_query(\"SELECT * from %s\" % table_name, con)\n",
    "    table.to_csv('data/' + table_name + '.csv', index_label='index')\n",
    "cursor.close()\n",
    "con.close()"
   ]
  },
  {
   "cell_type": "code",
   "execution_count": 8,
   "metadata": {
    "execution": {
     "iopub.execute_input": "2021-02-18T01:59:52.667089Z",
     "iopub.status.busy": "2021-02-18T01:59:52.666912Z",
     "iopub.status.idle": "2021-02-18T01:59:52.669796Z",
     "shell.execute_reply": "2021-02-18T01:59:52.669350Z",
     "shell.execute_reply.started": "2021-02-18T01:59:52.667069Z"
    }
   },
   "outputs": [
    {
     "name": "stdout",
     "output_type": "stream",
     "text": [
      "[('sqlite_sequence',), ('Player_Attributes',), ('Player',), ('Match',), ('League',), ('Country',), ('Team',), ('Team_Attributes',)]\n"
     ]
    }
   ],
   "source": [
    "print(tables)"
   ]
  },
  {
   "cell_type": "markdown",
   "metadata": {},
   "source": [
    "Import all newly created csv files/tables"
   ]
  },
  {
   "cell_type": "code",
   "execution_count": 16,
   "metadata": {
    "execution": {
     "iopub.execute_input": "2021-02-18T02:03:33.088214Z",
     "iopub.status.busy": "2021-02-18T02:03:33.088034Z",
     "iopub.status.idle": "2021-02-18T02:03:33.091681Z",
     "shell.execute_reply": "2021-02-18T02:03:33.090914Z",
     "shell.execute_reply.started": "2021-02-18T02:03:33.088193Z"
    }
   },
   "outputs": [
    {
     "name": "stdout",
     "output_type": "stream",
     "text": [
      "sqlite_sequence.csv\n",
      "Player_Attributes.csv\n",
      "Player.csv\n",
      "Match.csv\n",
      "League.csv\n",
      "Country.csv\n",
      "Team.csv\n",
      "Team_Attributes.csv\n"
     ]
    }
   ],
   "source": [
    "### We created the variable \"tables\" \n",
    "### from where the csv naming convention for the dump came from\n",
    "### So it can be looped to import all the tables\n",
    "for table_name in tables:\n",
    "    print(str(table_name[0]) + '.csv')"
   ]
  },
  {
   "cell_type": "code",
   "execution_count": null,
   "metadata": {},
   "outputs": [],
   "source": []
  }
 ],
 "metadata": {
  "kernelspec": {
   "display_name": "Python 3",
   "language": "python",
   "name": "python3"
  },
  "language_info": {
   "codemirror_mode": {
    "name": "ipython",
    "version": 3
   },
   "file_extension": ".py",
   "mimetype": "text/x-python",
   "name": "python",
   "nbconvert_exporter": "python",
   "pygments_lexer": "ipython3",
   "version": "3.9.1"
  }
 },
 "nbformat": 4,
 "nbformat_minor": 4
}
