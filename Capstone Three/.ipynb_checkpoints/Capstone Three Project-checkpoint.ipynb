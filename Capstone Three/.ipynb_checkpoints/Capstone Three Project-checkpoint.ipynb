{
 "cells": [
  {
   "cell_type": "markdown",
   "metadata": {},
   "source": [
    "### Imports"
   ]
  },
  {
   "cell_type": "code",
   "execution_count": 31,
   "metadata": {
    "execution": {
     "iopub.execute_input": "2021-02-18T23:37:17.477813Z",
     "iopub.status.busy": "2021-02-18T23:37:17.477524Z",
     "iopub.status.idle": "2021-02-18T23:37:17.480220Z",
     "shell.execute_reply": "2021-02-18T23:37:17.479854Z",
     "shell.execute_reply.started": "2021-02-18T23:37:17.477784Z"
    },
    "tags": []
   },
   "outputs": [],
   "source": [
    "import pandas as pd\n",
    "import numpy as np\n",
    "import matplotlib.pyplot as plt\n",
    "import datetime\n",
    "import os\n",
    "import sqlite3"
   ]
  },
  {
   "cell_type": "markdown",
   "metadata": {},
   "source": [
    "Create a sql connection from which to read tables"
   ]
  },
  {
   "cell_type": "code",
   "execution_count": 32,
   "metadata": {
    "execution": {
     "iopub.execute_input": "2021-02-18T23:37:18.209244Z",
     "iopub.status.busy": "2021-02-18T23:37:18.209090Z",
     "iopub.status.idle": "2021-02-18T23:37:18.214202Z",
     "shell.execute_reply": "2021-02-18T23:37:18.213486Z",
     "shell.execute_reply.started": "2021-02-18T23:37:18.209228Z"
    },
    "tags": []
   },
   "outputs": [],
   "source": [
    "con = sqlite3.connect(\"data/database.sqlite\")\n",
    "cursor = con.cursor()\n",
    "\n",
    "#### CURSOR IS POTENTIALLY REDUNDANT"
   ]
  },
  {
   "cell_type": "markdown",
   "metadata": {
    "execution": {
     "iopub.execute_input": "2021-02-18T01:56:09.335877Z",
     "iopub.status.busy": "2021-02-18T01:56:09.335723Z",
     "iopub.status.idle": "2021-02-18T01:56:09.338098Z",
     "shell.execute_reply": "2021-02-18T01:56:09.337595Z",
     "shell.execute_reply.started": "2021-02-18T01:56:09.335861Z"
    }
   },
   "source": [
    "### Prelimanary Analysis"
   ]
  },
  {
   "cell_type": "markdown",
   "metadata": {
    "execution": {
     "iopub.execute_input": "2021-02-18T19:24:56.447791Z",
     "iopub.status.busy": "2021-02-18T19:24:56.447597Z",
     "iopub.status.idle": "2021-02-18T19:24:56.450827Z",
     "shell.execute_reply": "2021-02-18T19:24:56.450326Z",
     "shell.execute_reply.started": "2021-02-18T19:24:56.447768Z"
    }
   },
   "source": [
    "Read Tables"
   ]
  },
  {
   "cell_type": "code",
   "execution_count": 33,
   "metadata": {
    "execution": {
     "iopub.execute_input": "2021-02-18T23:37:19.702668Z",
     "iopub.status.busy": "2021-02-18T23:37:19.702514Z",
     "iopub.status.idle": "2021-02-18T23:37:19.716105Z",
     "shell.execute_reply": "2021-02-18T23:37:19.715490Z",
     "shell.execute_reply.started": "2021-02-18T23:37:19.702652Z"
    },
    "tags": []
   },
   "outputs": [
    {
     "name": "stdout",
     "output_type": "stream",
     "text": [
      "    type               name           tbl_name  rootpage  \\\n",
      "0  table    sqlite_sequence    sqlite_sequence         4   \n",
      "1  table  Player_Attributes  Player_Attributes        11   \n",
      "2  table             Player             Player        14   \n",
      "3  table              Match              Match        18   \n",
      "4  table             League             League        24   \n",
      "5  table            Country            Country        26   \n",
      "6  table               Team               Team        29   \n",
      "7  table    Team_Attributes    Team_Attributes         2   \n",
      "\n",
      "                                                 sql  \n",
      "0             CREATE TABLE sqlite_sequence(name,seq)  \n",
      "1  CREATE TABLE \"Player_Attributes\" (\\n\\t`id`\\tIN...  \n",
      "2  CREATE TABLE `Player` (\\n\\t`id`\\tINTEGER PRIMA...  \n",
      "3  CREATE TABLE `Match` (\\n\\t`id`\\tINTEGER PRIMAR...  \n",
      "4  CREATE TABLE `League` (\\n\\t`id`\\tINTEGER PRIMA...  \n",
      "5  CREATE TABLE `Country` (\\n\\t`id`\\tINTEGER PRIM...  \n",
      "6  CREATE TABLE \"Team\" (\\n\\t`id`\\tINTEGER PRIMARY...  \n",
      "7  CREATE TABLE `Team_Attributes` (\\n\\t`id`\\tINTE...  \n"
     ]
    }
   ],
   "source": [
    "tables = pd.read_sql(\"SELECT * FROM sqlite_master WHERE type='table'\", con)\n",
    "print(tables)"
   ]
  },
  {
   "cell_type": "markdown",
   "metadata": {},
   "source": [
    "Print all tables in a for loop:"
   ]
  },
  {
   "cell_type": "code",
   "execution_count": 34,
   "metadata": {
    "execution": {
     "iopub.execute_input": "2021-02-18T23:37:23.082437Z",
     "iopub.status.busy": "2021-02-18T23:37:23.082210Z",
     "iopub.status.idle": "2021-02-18T23:37:23.190608Z",
     "shell.execute_reply": "2021-02-18T23:37:23.190225Z",
     "shell.execute_reply.started": "2021-02-18T23:37:23.082417Z"
    },
    "tags": []
   },
   "outputs": [
    {
     "name": "stdout",
     "output_type": "stream",
     "text": [
      "SQLITE_SEQUENCE    COUNT(*)\n",
      "0         7 \n",
      "       name     seq\n",
      "0     Team  103916\n",
      "1  Country   51958\n",
      "2   League   51958\n",
      "3    Match   51958\n",
      "4   Player   11075 \n",
      "\n",
      "\n",
      "\n",
      "PLAYER_ATTRIBUTES    COUNT(*)\n",
      "0    183978 \n",
      "    id  player_fifa_api_id  player_api_id                 date  overall_rating  \\\n",
      "0   1              218353         505942  2016-02-18 00:00:00              67   \n",
      "1   2              218353         505942  2015-11-19 00:00:00              67   \n",
      "2   3              218353         505942  2015-09-21 00:00:00              62   \n",
      "3   4              218353         505942  2015-03-20 00:00:00              61   \n",
      "4   5              218353         505942  2007-02-22 00:00:00              61   \n",
      "\n",
      "   potential preferred_foot attacking_work_rate defensive_work_rate  crossing  \\\n",
      "0         71          right              medium              medium        49   \n",
      "1         71          right              medium              medium        49   \n",
      "2         66          right              medium              medium        49   \n",
      "3         65          right              medium              medium        48   \n",
      "4         65          right              medium              medium        48   \n",
      "\n",
      "   ...  vision  penalties  marking  standing_tackle  sliding_tackle  \\\n",
      "0  ...      54         48       65               69              69   \n",
      "1  ...      54         48       65               69              69   \n",
      "2  ...      54         48       65               66              69   \n",
      "3  ...      53         47       62               63              66   \n",
      "4  ...      53         47       62               63              66   \n",
      "\n",
      "   gk_diving  gk_handling  gk_kicking  gk_positioning  gk_reflexes  \n",
      "0          6           11          10               8            8  \n",
      "1          6           11          10               8            8  \n",
      "2          6           11          10               8            8  \n",
      "3          5           10           9               7            7  \n",
      "4          5           10           9               7            7  \n",
      "\n",
      "[5 rows x 42 columns] \n",
      "\n",
      "\n",
      "\n",
      "PLAYER    COUNT(*)\n",
      "0     11060 \n",
      "    id  player_api_id         player_name  player_fifa_api_id  \\\n",
      "0   1         505942  Aaron Appindangoye              218353   \n",
      "1   2         155782     Aaron Cresswell              189615   \n",
      "2   3         162549         Aaron Doran              186170   \n",
      "3   4          30572       Aaron Galindo              140161   \n",
      "4   5          23780        Aaron Hughes               17725   \n",
      "\n",
      "              birthday  height  weight  \n",
      "0  1992-02-29 00:00:00  182.88     187  \n",
      "1  1989-12-15 00:00:00  170.18     146  \n",
      "2  1991-05-13 00:00:00  170.18     163  \n",
      "3  1982-05-08 00:00:00  182.88     198  \n",
      "4  1979-11-08 00:00:00  182.88     154   \n",
      "\n",
      "\n",
      "\n",
      "MATCH    COUNT(*)\n",
      "0     25979 \n",
      "    id  country_id  league_id     season  stage                 date  \\\n",
      "0   1           1          1  2008/2009      1  2008-08-17 00:00:00   \n",
      "1   2           1          1  2008/2009      1  2008-08-16 00:00:00   \n",
      "2   3           1          1  2008/2009      1  2008-08-16 00:00:00   \n",
      "3   4           1          1  2008/2009      1  2008-08-17 00:00:00   \n",
      "4   5           1          1  2008/2009      1  2008-08-16 00:00:00   \n",
      "\n",
      "   match_api_id  home_team_api_id  away_team_api_id  home_team_goal  ...  \\\n",
      "0        492473              9987              9993               1  ...   \n",
      "1        492474             10000              9994               0  ...   \n",
      "2        492475              9984              8635               0  ...   \n",
      "3        492476              9991              9998               5  ...   \n",
      "4        492477              7947              9985               1  ...   \n",
      "\n",
      "    SJA   VCH   VCD   VCA   GBH   GBD   GBA   BSH   BSD   BSA  \n",
      "0  4.00  1.65  3.40  4.50  1.78  3.25  4.00  1.73  3.40  4.20  \n",
      "1  3.80  2.00  3.25  3.25  1.85  3.25  3.75  1.91  3.25  3.60  \n",
      "2  2.50  2.35  3.25  2.65  2.50  3.20  2.50  2.30  3.20  2.75  \n",
      "3  7.50  1.45  3.75  6.50  1.50  3.75  5.50  1.44  3.75  6.50  \n",
      "4  1.73  4.50  3.40  1.65  4.50  3.50  1.65  4.75  3.30  1.67  \n",
      "\n",
      "[5 rows x 115 columns] \n",
      "\n",
      "\n",
      "\n",
      "LEAGUE    COUNT(*)\n",
      "0        11 \n",
      "       id  country_id                    name\n",
      "0      1           1  Belgium Jupiler League\n",
      "1   1729        1729  England Premier League\n",
      "2   4769        4769          France Ligue 1\n",
      "3   7809        7809   Germany 1. Bundesliga\n",
      "4  10257       10257           Italy Serie A \n",
      "\n",
      "\n",
      "\n",
      "COUNTRY    COUNT(*)\n",
      "0        11 \n",
      "       id     name\n",
      "0      1  Belgium\n",
      "1   1729  England\n",
      "2   4769   France\n",
      "3   7809  Germany\n",
      "4  10257    Italy \n",
      "\n",
      "\n",
      "\n",
      "TEAM    COUNT(*)\n",
      "0       299 \n",
      "    id  team_api_id  team_fifa_api_id     team_long_name team_short_name\n",
      "0   1         9987               673           KRC Genk             GEN\n",
      "1   2         9993               675       Beerschot AC             BAC\n",
      "2   3        10000             15005   SV Zulte-Waregem             ZUL\n",
      "3   4         9994              2007   Sporting Lokeren             LOK\n",
      "4   5         9984              1750  KSV Cercle Brugge             CEB \n",
      "\n",
      "\n",
      "\n",
      "TEAM_ATTRIBUTES    COUNT(*)\n",
      "0      1458 \n",
      "    id  team_fifa_api_id  team_api_id                 date  buildUpPlaySpeed  \\\n",
      "0   1               434         9930  2010-02-22 00:00:00                60   \n",
      "1   2               434         9930  2014-09-19 00:00:00                52   \n",
      "2   3               434         9930  2015-09-10 00:00:00                47   \n",
      "3   4                77         8485  2010-02-22 00:00:00                70   \n",
      "4   5                77         8485  2011-02-22 00:00:00                47   \n",
      "\n",
      "  buildUpPlaySpeedClass  buildUpPlayDribbling buildUpPlayDribblingClass  \\\n",
      "0              Balanced                   NaN                    Little   \n",
      "1              Balanced                  48.0                    Normal   \n",
      "2              Balanced                  41.0                    Normal   \n",
      "3                  Fast                   NaN                    Little   \n",
      "4              Balanced                   NaN                    Little   \n",
      "\n",
      "   buildUpPlayPassing buildUpPlayPassingClass  ... chanceCreationShooting  \\\n",
      "0                  50                   Mixed  ...                     55   \n",
      "1                  56                   Mixed  ...                     64   \n",
      "2                  54                   Mixed  ...                     64   \n",
      "3                  70                    Long  ...                     70   \n",
      "4                  52                   Mixed  ...                     52   \n",
      "\n",
      "   chanceCreationShootingClass chanceCreationPositioningClass  \\\n",
      "0                       Normal                      Organised   \n",
      "1                       Normal                      Organised   \n",
      "2                       Normal                      Organised   \n",
      "3                         Lots                      Organised   \n",
      "4                       Normal                      Organised   \n",
      "\n",
      "   defencePressure defencePressureClass  defenceAggression  \\\n",
      "0               50               Medium                 55   \n",
      "1               47               Medium                 44   \n",
      "2               47               Medium                 44   \n",
      "3               60               Medium                 70   \n",
      "4               47               Medium                 47   \n",
      "\n",
      "  defenceAggressionClass defenceTeamWidth  defenceTeamWidthClass  \\\n",
      "0                  Press               45                 Normal   \n",
      "1                  Press               54                 Normal   \n",
      "2                  Press               54                 Normal   \n",
      "3                 Double               70                   Wide   \n",
      "4                  Press               52                 Normal   \n",
      "\n",
      "  defenceDefenderLineClass  \n",
      "0                    Cover  \n",
      "1                    Cover  \n",
      "2                    Cover  \n",
      "3                    Cover  \n",
      "4                    Cover  \n",
      "\n",
      "[5 rows x 25 columns] \n",
      "\n",
      "\n",
      "\n"
     ]
    }
   ],
   "source": [
    "for table_name in tables['name']:\n",
    "    print(table_name.upper(), pd.read_sql_query(\"SELECT COUNT(*) FROM %s\" % table_name, con), \"\\n\", pd.read_sql_query(\"SELECT * from %s LIMIT 5\" % table_name, con), \"\\n\\n\\n\")"
   ]
  },
  {
   "cell_type": "markdown",
   "metadata": {},
   "source": [
    "# OBJECTIVES\n",
    "\n",
    "Average Number of Goals scored each team\n",
    "Average Number of goals conceded each team\n",
    "^^^ Same as above but home vs away advantage\n",
    "^^^ Same as above but for overall league team is in (which league more competitive?)\n",
    "Average Stats of players in team\n",
    "Min-Max player stats per team (everyone is average? Few excellent players and few bad players same team?\n",
    "\n",
    "Count most used shapes\n",
    "Average goals scored and conceded per shape\n",
    "\n",
    "Assign shape to team and see if stats match up of shape vs team performance using shape.\n",
    "\n",
    "Impactful substitutions and/or starters? (harry winks starts, game is gone)\n"
   ]
  },
  {
   "cell_type": "markdown",
   "metadata": {},
   "source": [
    "Dump all the tables into separate csv files to make life easier"
   ]
  },
  {
   "cell_type": "code",
   "execution_count": 7,
   "metadata": {
    "execution": {
     "iopub.execute_input": "2021-02-18T01:59:12.711925Z",
     "iopub.status.busy": "2021-02-18T01:59:12.711778Z",
     "iopub.status.idle": "2021-02-18T01:59:25.770563Z",
     "shell.execute_reply": "2021-02-18T01:59:25.770093Z",
     "shell.execute_reply.started": "2021-02-18T01:59:12.711909Z"
    }
   },
   "outputs": [],
   "source": [
    "cursor.execute(\"SELECT name FROM sqlite_master WHERE type='table';\")\n",
    "tables = cursor.fetchall()\n",
    "for table_name in tables:\n",
    "    table_name = table_name[0]\n",
    "    table = pd.read_sql_query(\"SELECT * from %s\" % table_name, con)\n",
    "    table.to_csv('data/' + table_name + '.csv', index_label='index')\n",
    "cursor.close()\n",
    "con.close()"
   ]
  },
  {
   "cell_type": "code",
   "execution_count": 8,
   "metadata": {
    "execution": {
     "iopub.execute_input": "2021-02-18T01:59:52.667089Z",
     "iopub.status.busy": "2021-02-18T01:59:52.666912Z",
     "iopub.status.idle": "2021-02-18T01:59:52.669796Z",
     "shell.execute_reply": "2021-02-18T01:59:52.669350Z",
     "shell.execute_reply.started": "2021-02-18T01:59:52.667069Z"
    }
   },
   "outputs": [
    {
     "name": "stdout",
     "output_type": "stream",
     "text": [
      "[('sqlite_sequence',), ('Player_Attributes',), ('Player',), ('Match',), ('League',), ('Country',), ('Team',), ('Team_Attributes',)]\n"
     ]
    }
   ],
   "source": [
    "print(tables)"
   ]
  },
  {
   "cell_type": "markdown",
   "metadata": {},
   "source": [
    "Import all newly created csv files/tables"
   ]
  },
  {
   "cell_type": "code",
   "execution_count": 16,
   "metadata": {
    "execution": {
     "iopub.execute_input": "2021-02-18T02:03:33.088214Z",
     "iopub.status.busy": "2021-02-18T02:03:33.088034Z",
     "iopub.status.idle": "2021-02-18T02:03:33.091681Z",
     "shell.execute_reply": "2021-02-18T02:03:33.090914Z",
     "shell.execute_reply.started": "2021-02-18T02:03:33.088193Z"
    }
   },
   "outputs": [
    {
     "name": "stdout",
     "output_type": "stream",
     "text": [
      "sqlite_sequence.csv\n",
      "Player_Attributes.csv\n",
      "Player.csv\n",
      "Match.csv\n",
      "League.csv\n",
      "Country.csv\n",
      "Team.csv\n",
      "Team_Attributes.csv\n"
     ]
    }
   ],
   "source": [
    "### We created the variable \"tables\" \n",
    "### from where the csv naming convention for the dump came from\n",
    "### So it can be looped to import all the tables\n",
    "for table_name in tables:\n",
    "    print(str(table_name[0]) + '.csv')"
   ]
  },
  {
   "cell_type": "code",
   "execution_count": null,
   "metadata": {},
   "outputs": [],
   "source": []
  }
 ],
 "metadata": {
  "kernelspec": {
   "display_name": "Python 3",
   "language": "python",
   "name": "python3"
  },
  "language_info": {
   "codemirror_mode": {
    "name": "ipython",
    "version": 3
   },
   "file_extension": ".py",
   "mimetype": "text/x-python",
   "name": "python",
   "nbconvert_exporter": "python",
   "pygments_lexer": "ipython3",
   "version": "3.9.1"
  }
 },
 "nbformat": 4,
 "nbformat_minor": 4
}
