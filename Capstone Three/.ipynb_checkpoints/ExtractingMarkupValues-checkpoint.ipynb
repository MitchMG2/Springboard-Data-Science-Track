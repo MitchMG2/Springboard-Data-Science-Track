{
 "cells": [
  {
   "cell_type": "markdown",
   "metadata": {},
   "source": [
    "### Imports"
   ]
  },
  {
   "cell_type": "code",
   "execution_count": 259,
   "metadata": {
    "execution": {
     "iopub.execute_input": "2021-04-16T05:49:51.284549Z",
     "iopub.status.busy": "2021-04-16T05:49:51.284180Z",
     "iopub.status.idle": "2021-04-16T05:49:51.288120Z",
     "shell.execute_reply": "2021-04-16T05:49:51.287646Z",
     "shell.execute_reply.started": "2021-04-16T05:49:51.284509Z"
    },
    "tags": []
   },
   "outputs": [],
   "source": [
    "import pandas as pd\n",
    "import numpy as np\n",
    "import matplotlib.pyplot as plt\n",
    "import datetime\n",
    "import os\n",
    "from bs4 import BeautifulSoup\n",
    "from collections import Counter"
   ]
  },
  {
   "cell_type": "code",
   "execution_count": 260,
   "metadata": {
    "execution": {
     "iopub.execute_input": "2021-04-16T05:49:51.506910Z",
     "iopub.status.busy": "2021-04-16T05:49:51.506760Z",
     "iopub.status.idle": "2021-04-16T05:49:53.267011Z",
     "shell.execute_reply": "2021-04-16T05:49:53.266559Z",
     "shell.execute_reply.started": "2021-04-16T05:49:51.506894Z"
    },
    "tags": []
   },
   "outputs": [],
   "source": [
    "Match = pd.read_csv('data/match_with_stats.csv')"
   ]
  },
  {
   "cell_type": "code",
   "execution_count": 261,
   "metadata": {
    "execution": {
     "iopub.execute_input": "2021-04-16T05:49:53.279913Z",
     "iopub.status.busy": "2021-04-16T05:49:53.279696Z",
     "iopub.status.idle": "2021-04-16T05:49:53.283634Z",
     "shell.execute_reply": "2021-04-16T05:49:53.282983Z",
     "shell.execute_reply.started": "2021-04-16T05:49:53.279892Z"
    },
    "tags": []
   },
   "outputs": [
    {
     "data": {
      "text/plain": [
       "array(['id', 'country_id', 'league_id', 'season', 'stage', 'date',\n",
       "       'match_api_id', 'home_team_api_id', 'away_team_api_id',\n",
       "       'home_team_goal', 'away_team_goal', 'home_player_Y1',\n",
       "       'home_player_Y2', 'home_player_Y3', 'home_player_Y4',\n",
       "       'home_player_Y5', 'home_player_Y6', 'home_player_Y7',\n",
       "       'home_player_Y8', 'home_player_Y9', 'home_player_Y10',\n",
       "       'home_player_Y11', 'away_player_Y1', 'away_player_Y2',\n",
       "       'away_player_Y3', 'away_player_Y4', 'away_player_Y5',\n",
       "       'away_player_Y6', 'away_player_Y7', 'away_player_Y8',\n",
       "       'away_player_Y9', 'away_player_Y10', 'away_player_Y11',\n",
       "       'home_player_1', 'home_player_2', 'home_player_3', 'home_player_4',\n",
       "       'home_player_5', 'home_player_6', 'home_player_7', 'home_player_8',\n",
       "       'home_player_9', 'home_player_10', 'home_player_11',\n",
       "       'away_player_1', 'away_player_2', 'away_player_3', 'away_player_4',\n",
       "       'away_player_5', 'away_player_6', 'away_player_7', 'away_player_8',\n",
       "       'away_player_9', 'away_player_10', 'away_player_11', 'goal',\n",
       "       'shoton', 'shotoff', 'foulcommit', 'card', 'cross', 'corner',\n",
       "       'possession'], dtype=object)"
      ]
     },
     "execution_count": 261,
     "metadata": {},
     "output_type": "execute_result"
    }
   ],
   "source": [
    "Match.columns.values"
   ]
  },
  {
   "cell_type": "code",
   "execution_count": 262,
   "metadata": {
    "execution": {
     "iopub.execute_input": "2021-04-16T05:49:53.284793Z",
     "iopub.status.busy": "2021-04-16T05:49:53.284618Z",
     "iopub.status.idle": "2021-04-16T05:49:53.297715Z",
     "shell.execute_reply": "2021-04-16T05:49:53.297154Z",
     "shell.execute_reply.started": "2021-04-16T05:49:53.284770Z"
    },
    "tags": []
   },
   "outputs": [],
   "source": [
    "####Most of these stats are not consistent throughout games and are freak events\n",
    "###Should not be used to predict match outcome\n",
    "###Relevant Columns\n",
    "rel_stat_cols = ['possession', 'foulcommit']"
   ]
  },
  {
   "cell_type": "code",
   "execution_count": 265,
   "metadata": {
    "execution": {
     "iopub.execute_input": "2021-04-16T05:50:01.146347Z",
     "iopub.status.busy": "2021-04-16T05:50:01.145800Z",
     "iopub.status.idle": "2021-04-16T05:50:01.151461Z",
     "shell.execute_reply": "2021-04-16T05:50:01.148876Z",
     "shell.execute_reply.started": "2021-04-16T05:50:01.146266Z"
    },
    "tags": []
   },
   "outputs": [],
   "source": [
    "from xml.etree import ElementTree as ET"
   ]
  },
  {
   "cell_type": "code",
   "execution_count": 266,
   "metadata": {
    "execution": {
     "iopub.execute_input": "2021-04-16T05:50:03.439546Z",
     "iopub.status.busy": "2021-04-16T05:50:03.439360Z",
     "iopub.status.idle": "2021-04-16T05:50:03.443402Z",
     "shell.execute_reply": "2021-04-16T05:50:03.443001Z",
     "shell.execute_reply.started": "2021-04-16T05:50:03.439530Z"
    },
    "tags": []
   },
   "outputs": [],
   "source": [
    "Markup_Stats = pd.DataFrame(columns = ['home_possession', 'away_possession', 'home_fouls', 'away_fouls'])"
   ]
  },
  {
   "cell_type": "code",
   "execution_count": 267,
   "metadata": {
    "execution": {
     "iopub.execute_input": "2021-04-16T05:50:05.108422Z",
     "iopub.status.busy": "2021-04-16T05:50:05.107714Z",
     "iopub.status.idle": "2021-04-16T05:50:20.478145Z",
     "shell.execute_reply": "2021-04-16T05:50:20.477766Z",
     "shell.execute_reply.started": "2021-04-16T05:50:05.108396Z"
    },
    "tags": []
   },
   "outputs": [],
   "source": [
    "for i in range(len(Match)):\n",
    "    root = ET.fromstring(Match['possession'][i])\n",
    "    for el in root.findall('value'):\n",
    "        full_t = int(el.find('elapsed').text)\n",
    "        if full_t == 90:\n",
    "            h_pos = el.find('homepos')\n",
    "            a_pos = el.find('awaypos')\n",
    "            if h_pos is not None:\n",
    "                home_poss = int(h_pos.text)\n",
    "            else:\n",
    "                h_pos = None\n",
    "            if a_pos is not None:\n",
    "                away_poss = int(a_pos.text)\n",
    "            else:\n",
    "                a_pos = None\n",
    "    #print({'home_possession': home_poss, 'away_possession': away_poss})\n",
    "    #Markup_Stats.append({'home_possession': home_poss, 'away_possession': away_poss}, ignore_index=True)\n",
    "    root2 = ET.fromstring(Match['foulcommit'][i])\n",
    "    foul_list = []\n",
    "    for el in root2.findall('value'):\n",
    "        foul_comm = el.find('type').text\n",
    "        if foul_comm == 'foulcommit':\n",
    "            node = el.find('team')\n",
    "            if node is not None:\n",
    "                foul_inst = int(node.text)\n",
    "                foul_list.append(foul_inst)\n",
    "            else:\n",
    "                node = None\n",
    "    foul_count = list(dict(Counter(foul_list)).items())\n",
    "    if not foul_count:\n",
    "        #print({'home_fouls': 0, 'away_fouls': 0})\n",
    "        Markup_Stats = Markup_Stats.append({'home_possession': home_poss, 'away_possession': away_poss, 'home_fouls': 0, 'away_fouls': 0}, ignore_index=True)\n",
    "    elif len(foul_count) == 1:\n",
    "        #print({'home_fouls': foul_count[0][1], 'away_fouls': 0})\n",
    "        Markup_Stats = Markup_Stats.append({'home_possession': home_poss, 'away_possession': away_poss, 'home_fouls': foul_count[0][1], 'away_fouls': 0}, ignore_index=True)\n",
    "    elif foul_count:\n",
    "        #print({'home_fouls': foul_count[0][1], 'away_fouls': foul_count[1][1]})\n",
    "        Markup_Stats = Markup_Stats.append({'home_possession': home_poss, 'away_possession': away_poss, 'home_fouls': foul_count[0][1], 'away_fouls': foul_count[1][1]}, ignore_index=True)\n",
    "    #print(i)\n",
    "#2962 problematic"
   ]
  },
  {
   "cell_type": "code",
   "execution_count": null,
   "metadata": {
    "tags": []
   },
   "outputs": [],
   "source": [
    "root3 = ET.fromstring(Match['foulcommit'][5019])\n",
    "foul_list = []\n",
    "for el in root3.findall('value'):\n",
    "    foul_comm = el.find('type').text\n",
    "    if foul_comm == 'foulcommit':\n",
    "        node = el.find('team')\n",
    "        if node is not None:\n",
    "            foul_inst = int(node.text)\n",
    "            foul_list.append(foul_inst)\n",
    "        else:\n",
    "            node = None\n",
    "foul_count = list(dict(Counter(foul_list)).items())\n",
    "print(foul_count)\n",
    "if not foul_count:\n",
    "    print({'home_fouls': 0, 'away_fouls': 0})\n",
    "elif len(foul_count) == 1:\n",
    "    print({'home_fouls': foul_count[0][1], 'away_fouls': 0})\n",
    "elif foul_count:\n",
    "    print({'home_fouls': foul_count[0][1], 'away_fouls': foul_count[1][1]})"
   ]
  },
  {
   "cell_type": "code",
   "execution_count": 268,
   "metadata": {
    "execution": {
     "iopub.execute_input": "2021-04-16T05:50:37.072197Z",
     "iopub.status.busy": "2021-04-16T05:50:37.072046Z",
     "iopub.status.idle": "2021-04-16T05:50:37.074905Z",
     "shell.execute_reply": "2021-04-16T05:50:37.074472Z",
     "shell.execute_reply.started": "2021-04-16T05:50:37.072181Z"
    },
    "tags": []
   },
   "outputs": [
    {
     "data": {
      "text/plain": [
       "(13321, 4)"
      ]
     },
     "execution_count": 268,
     "metadata": {},
     "output_type": "execute_result"
    }
   ],
   "source": [
    "Markup_Stats.shape"
   ]
  },
  {
   "cell_type": "code",
   "execution_count": 269,
   "metadata": {
    "execution": {
     "iopub.execute_input": "2021-04-16T05:50:49.831303Z",
     "iopub.status.busy": "2021-04-16T05:50:49.831147Z",
     "iopub.status.idle": "2021-04-16T05:50:49.838945Z",
     "shell.execute_reply": "2021-04-16T05:50:49.837880Z",
     "shell.execute_reply.started": "2021-04-16T05:50:49.831288Z"
    },
    "tags": []
   },
   "outputs": [
    {
     "data": {
      "text/html": [
       "<div>\n",
       "<style scoped>\n",
       "    .dataframe tbody tr th:only-of-type {\n",
       "        vertical-align: middle;\n",
       "    }\n",
       "\n",
       "    .dataframe tbody tr th {\n",
       "        vertical-align: top;\n",
       "    }\n",
       "\n",
       "    .dataframe thead th {\n",
       "        text-align: right;\n",
       "    }\n",
       "</style>\n",
       "<table border=\"1\" class=\"dataframe\">\n",
       "  <thead>\n",
       "    <tr style=\"text-align: right;\">\n",
       "      <th></th>\n",
       "      <th>home_possession</th>\n",
       "      <th>away_possession</th>\n",
       "      <th>home_fouls</th>\n",
       "      <th>away_fouls</th>\n",
       "    </tr>\n",
       "  </thead>\n",
       "  <tbody>\n",
       "    <tr>\n",
       "      <th>0</th>\n",
       "      <td>55</td>\n",
       "      <td>45</td>\n",
       "      <td>11</td>\n",
       "      <td>16</td>\n",
       "    </tr>\n",
       "    <tr>\n",
       "      <th>1</th>\n",
       "      <td>66</td>\n",
       "      <td>34</td>\n",
       "      <td>9</td>\n",
       "      <td>11</td>\n",
       "    </tr>\n",
       "    <tr>\n",
       "      <th>2</th>\n",
       "      <td>46</td>\n",
       "      <td>54</td>\n",
       "      <td>12</td>\n",
       "      <td>13</td>\n",
       "    </tr>\n",
       "    <tr>\n",
       "      <th>3</th>\n",
       "      <td>52</td>\n",
       "      <td>48</td>\n",
       "      <td>14</td>\n",
       "      <td>13</td>\n",
       "    </tr>\n",
       "    <tr>\n",
       "      <th>4</th>\n",
       "      <td>51</td>\n",
       "      <td>49</td>\n",
       "      <td>11</td>\n",
       "      <td>11</td>\n",
       "    </tr>\n",
       "  </tbody>\n",
       "</table>\n",
       "</div>"
      ],
      "text/plain": [
       "  home_possession away_possession home_fouls away_fouls\n",
       "0              55              45         11         16\n",
       "1              66              34          9         11\n",
       "2              46              54         12         13\n",
       "3              52              48         14         13\n",
       "4              51              49         11         11"
      ]
     },
     "execution_count": 269,
     "metadata": {},
     "output_type": "execute_result"
    }
   ],
   "source": [
    "Markup_Stats.head(5)"
   ]
  },
  {
   "cell_type": "code",
   "execution_count": 270,
   "metadata": {
    "execution": {
     "iopub.execute_input": "2021-04-16T05:50:50.257476Z",
     "iopub.status.busy": "2021-04-16T05:50:50.256910Z",
     "iopub.status.idle": "2021-04-16T05:50:50.266010Z",
     "shell.execute_reply": "2021-04-16T05:50:50.265646Z",
     "shell.execute_reply.started": "2021-04-16T05:50:50.257411Z"
    },
    "tags": []
   },
   "outputs": [
    {
     "data": {
      "text/html": [
       "<div>\n",
       "<style scoped>\n",
       "    .dataframe tbody tr th:only-of-type {\n",
       "        vertical-align: middle;\n",
       "    }\n",
       "\n",
       "    .dataframe tbody tr th {\n",
       "        vertical-align: top;\n",
       "    }\n",
       "\n",
       "    .dataframe thead th {\n",
       "        text-align: right;\n",
       "    }\n",
       "</style>\n",
       "<table border=\"1\" class=\"dataframe\">\n",
       "  <thead>\n",
       "    <tr style=\"text-align: right;\">\n",
       "      <th></th>\n",
       "      <th>home_possession</th>\n",
       "      <th>away_possession</th>\n",
       "      <th>home_fouls</th>\n",
       "      <th>away_fouls</th>\n",
       "    </tr>\n",
       "  </thead>\n",
       "  <tbody>\n",
       "    <tr>\n",
       "      <th>13221</th>\n",
       "      <td>52</td>\n",
       "      <td>48</td>\n",
       "      <td>11</td>\n",
       "      <td>8</td>\n",
       "    </tr>\n",
       "    <tr>\n",
       "      <th>13222</th>\n",
       "      <td>62</td>\n",
       "      <td>38</td>\n",
       "      <td>12</td>\n",
       "      <td>14</td>\n",
       "    </tr>\n",
       "    <tr>\n",
       "      <th>13223</th>\n",
       "      <td>62</td>\n",
       "      <td>38</td>\n",
       "      <td>0</td>\n",
       "      <td>0</td>\n",
       "    </tr>\n",
       "    <tr>\n",
       "      <th>13224</th>\n",
       "      <td>62</td>\n",
       "      <td>38</td>\n",
       "      <td>0</td>\n",
       "      <td>0</td>\n",
       "    </tr>\n",
       "    <tr>\n",
       "      <th>13225</th>\n",
       "      <td>62</td>\n",
       "      <td>38</td>\n",
       "      <td>0</td>\n",
       "      <td>0</td>\n",
       "    </tr>\n",
       "    <tr>\n",
       "      <th>...</th>\n",
       "      <td>...</td>\n",
       "      <td>...</td>\n",
       "      <td>...</td>\n",
       "      <td>...</td>\n",
       "    </tr>\n",
       "    <tr>\n",
       "      <th>13316</th>\n",
       "      <td>62</td>\n",
       "      <td>38</td>\n",
       "      <td>0</td>\n",
       "      <td>0</td>\n",
       "    </tr>\n",
       "    <tr>\n",
       "      <th>13317</th>\n",
       "      <td>62</td>\n",
       "      <td>38</td>\n",
       "      <td>0</td>\n",
       "      <td>0</td>\n",
       "    </tr>\n",
       "    <tr>\n",
       "      <th>13318</th>\n",
       "      <td>62</td>\n",
       "      <td>38</td>\n",
       "      <td>0</td>\n",
       "      <td>0</td>\n",
       "    </tr>\n",
       "    <tr>\n",
       "      <th>13319</th>\n",
       "      <td>62</td>\n",
       "      <td>38</td>\n",
       "      <td>0</td>\n",
       "      <td>0</td>\n",
       "    </tr>\n",
       "    <tr>\n",
       "      <th>13320</th>\n",
       "      <td>62</td>\n",
       "      <td>38</td>\n",
       "      <td>0</td>\n",
       "      <td>0</td>\n",
       "    </tr>\n",
       "  </tbody>\n",
       "</table>\n",
       "<p>100 rows × 4 columns</p>\n",
       "</div>"
      ],
      "text/plain": [
       "      home_possession away_possession home_fouls away_fouls\n",
       "13221              52              48         11          8\n",
       "13222              62              38         12         14\n",
       "13223              62              38          0          0\n",
       "13224              62              38          0          0\n",
       "13225              62              38          0          0\n",
       "...               ...             ...        ...        ...\n",
       "13316              62              38          0          0\n",
       "13317              62              38          0          0\n",
       "13318              62              38          0          0\n",
       "13319              62              38          0          0\n",
       "13320              62              38          0          0\n",
       "\n",
       "[100 rows x 4 columns]"
      ]
     },
     "execution_count": 270,
     "metadata": {},
     "output_type": "execute_result"
    }
   ],
   "source": [
    "Markup_Stats.tail(100)"
   ]
  },
  {
   "cell_type": "code",
   "execution_count": 276,
   "metadata": {
    "execution": {
     "iopub.execute_input": "2021-04-16T05:52:31.942401Z",
     "iopub.status.busy": "2021-04-16T05:52:31.941795Z",
     "iopub.status.idle": "2021-04-16T05:52:31.951183Z",
     "shell.execute_reply": "2021-04-16T05:52:31.950759Z",
     "shell.execute_reply.started": "2021-04-16T05:52:31.942373Z"
    },
    "tags": []
   },
   "outputs": [
    {
     "data": {
      "text/plain": [
       "home_possession  away_possession  home_fouls  away_fouls\n",
       "62               38               0           0             98\n",
       "dtype: int64"
      ]
     },
     "execution_count": 276,
     "metadata": {},
     "output_type": "execute_result"
    }
   ],
   "source": [
    "Markup_Stats.iloc[13223:].value_counts()"
   ]
  },
  {
   "cell_type": "markdown",
   "metadata": {},
   "source": [
    "Every match from 13223 onwards seems to be identical/repetitive data"
   ]
  },
  {
   "cell_type": "code",
   "execution_count": 277,
   "metadata": {
    "execution": {
     "iopub.execute_input": "2021-04-16T05:53:56.090667Z",
     "iopub.status.busy": "2021-04-16T05:53:56.090146Z",
     "iopub.status.idle": "2021-04-16T05:53:56.096102Z",
     "shell.execute_reply": "2021-04-16T05:53:56.094558Z",
     "shell.execute_reply.started": "2021-04-16T05:53:56.090606Z"
    }
   },
   "outputs": [],
   "source": [
    "red_mark_stats = Markup_Stats.iloc[:13223]"
   ]
  },
  {
   "cell_type": "code",
   "execution_count": 279,
   "metadata": {
    "execution": {
     "iopub.execute_input": "2021-04-16T05:54:23.215056Z",
     "iopub.status.busy": "2021-04-16T05:54:23.214744Z",
     "iopub.status.idle": "2021-04-16T05:54:23.218877Z",
     "shell.execute_reply": "2021-04-16T05:54:23.218459Z",
     "shell.execute_reply.started": "2021-04-16T05:54:23.215022Z"
    },
    "tags": []
   },
   "outputs": [
    {
     "data": {
      "text/plain": [
       "(13223, 4)"
      ]
     },
     "execution_count": 279,
     "metadata": {},
     "output_type": "execute_result"
    }
   ],
   "source": [
    "red_mark_stats.shape"
   ]
  },
  {
   "cell_type": "code",
   "execution_count": 280,
   "metadata": {
    "execution": {
     "iopub.execute_input": "2021-04-16T05:54:30.212589Z",
     "iopub.status.busy": "2021-04-16T05:54:30.212283Z",
     "iopub.status.idle": "2021-04-16T05:54:30.225547Z",
     "shell.execute_reply": "2021-04-16T05:54:30.224833Z",
     "shell.execute_reply.started": "2021-04-16T05:54:30.212552Z"
    }
   },
   "outputs": [
    {
     "data": {
      "text/html": [
       "<div>\n",
       "<style scoped>\n",
       "    .dataframe tbody tr th:only-of-type {\n",
       "        vertical-align: middle;\n",
       "    }\n",
       "\n",
       "    .dataframe tbody tr th {\n",
       "        vertical-align: top;\n",
       "    }\n",
       "\n",
       "    .dataframe thead th {\n",
       "        text-align: right;\n",
       "    }\n",
       "</style>\n",
       "<table border=\"1\" class=\"dataframe\">\n",
       "  <thead>\n",
       "    <tr style=\"text-align: right;\">\n",
       "      <th></th>\n",
       "      <th>home_possession</th>\n",
       "      <th>away_possession</th>\n",
       "      <th>home_fouls</th>\n",
       "      <th>away_fouls</th>\n",
       "    </tr>\n",
       "  </thead>\n",
       "  <tbody>\n",
       "    <tr>\n",
       "      <th>13218</th>\n",
       "      <td>49</td>\n",
       "      <td>51</td>\n",
       "      <td>26</td>\n",
       "      <td>10</td>\n",
       "    </tr>\n",
       "    <tr>\n",
       "      <th>13219</th>\n",
       "      <td>50</td>\n",
       "      <td>50</td>\n",
       "      <td>11</td>\n",
       "      <td>10</td>\n",
       "    </tr>\n",
       "    <tr>\n",
       "      <th>13220</th>\n",
       "      <td>52</td>\n",
       "      <td>48</td>\n",
       "      <td>8</td>\n",
       "      <td>15</td>\n",
       "    </tr>\n",
       "    <tr>\n",
       "      <th>13221</th>\n",
       "      <td>52</td>\n",
       "      <td>48</td>\n",
       "      <td>11</td>\n",
       "      <td>8</td>\n",
       "    </tr>\n",
       "    <tr>\n",
       "      <th>13222</th>\n",
       "      <td>62</td>\n",
       "      <td>38</td>\n",
       "      <td>12</td>\n",
       "      <td>14</td>\n",
       "    </tr>\n",
       "  </tbody>\n",
       "</table>\n",
       "</div>"
      ],
      "text/plain": [
       "      home_possession away_possession home_fouls away_fouls\n",
       "13218              49              51         26         10\n",
       "13219              50              50         11         10\n",
       "13220              52              48          8         15\n",
       "13221              52              48         11          8\n",
       "13222              62              38         12         14"
      ]
     },
     "execution_count": 280,
     "metadata": {},
     "output_type": "execute_result"
    }
   ],
   "source": [
    "red_mark_stats.tail(5)"
   ]
  },
  {
   "cell_type": "code",
   "execution_count": 281,
   "metadata": {
    "execution": {
     "iopub.execute_input": "2021-04-16T05:54:35.775857Z",
     "iopub.status.busy": "2021-04-16T05:54:35.775527Z",
     "iopub.status.idle": "2021-04-16T05:54:35.784407Z",
     "shell.execute_reply": "2021-04-16T05:54:35.782025Z",
     "shell.execute_reply.started": "2021-04-16T05:54:35.775808Z"
    }
   },
   "outputs": [
    {
     "data": {
      "text/html": [
       "<div>\n",
       "<style scoped>\n",
       "    .dataframe tbody tr th:only-of-type {\n",
       "        vertical-align: middle;\n",
       "    }\n",
       "\n",
       "    .dataframe tbody tr th {\n",
       "        vertical-align: top;\n",
       "    }\n",
       "\n",
       "    .dataframe thead th {\n",
       "        text-align: right;\n",
       "    }\n",
       "</style>\n",
       "<table border=\"1\" class=\"dataframe\">\n",
       "  <thead>\n",
       "    <tr style=\"text-align: right;\">\n",
       "      <th></th>\n",
       "      <th>home_possession</th>\n",
       "      <th>away_possession</th>\n",
       "      <th>home_fouls</th>\n",
       "      <th>away_fouls</th>\n",
       "    </tr>\n",
       "  </thead>\n",
       "  <tbody>\n",
       "    <tr>\n",
       "      <th>0</th>\n",
       "      <td>55</td>\n",
       "      <td>45</td>\n",
       "      <td>11</td>\n",
       "      <td>16</td>\n",
       "    </tr>\n",
       "    <tr>\n",
       "      <th>1</th>\n",
       "      <td>66</td>\n",
       "      <td>34</td>\n",
       "      <td>9</td>\n",
       "      <td>11</td>\n",
       "    </tr>\n",
       "    <tr>\n",
       "      <th>2</th>\n",
       "      <td>46</td>\n",
       "      <td>54</td>\n",
       "      <td>12</td>\n",
       "      <td>13</td>\n",
       "    </tr>\n",
       "    <tr>\n",
       "      <th>3</th>\n",
       "      <td>52</td>\n",
       "      <td>48</td>\n",
       "      <td>14</td>\n",
       "      <td>13</td>\n",
       "    </tr>\n",
       "    <tr>\n",
       "      <th>4</th>\n",
       "      <td>51</td>\n",
       "      <td>49</td>\n",
       "      <td>11</td>\n",
       "      <td>11</td>\n",
       "    </tr>\n",
       "  </tbody>\n",
       "</table>\n",
       "</div>"
      ],
      "text/plain": [
       "  home_possession away_possession home_fouls away_fouls\n",
       "0              55              45         11         16\n",
       "1              66              34          9         11\n",
       "2              46              54         12         13\n",
       "3              52              48         14         13\n",
       "4              51              49         11         11"
      ]
     },
     "execution_count": 281,
     "metadata": {},
     "output_type": "execute_result"
    }
   ],
   "source": [
    "red_mark_stats.head(5)"
   ]
  },
  {
   "cell_type": "code",
   "execution_count": null,
   "metadata": {},
   "outputs": [],
   "source": [
    " "
   ]
  }
 ],
 "metadata": {
  "kernelspec": {
   "display_name": "Python 3",
   "language": "python",
   "name": "python3"
  },
  "language_info": {
   "codemirror_mode": {
    "name": "ipython",
    "version": 3
   },
   "file_extension": ".py",
   "mimetype": "text/x-python",
   "name": "python",
   "nbconvert_exporter": "python",
   "pygments_lexer": "ipython3",
   "version": "3.9.3"
  }
 },
 "nbformat": 4,
 "nbformat_minor": 4
}
