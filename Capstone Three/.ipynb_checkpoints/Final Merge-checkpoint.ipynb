{
 "cells": [
  {
   "cell_type": "markdown",
   "metadata": {},
   "source": [
    "### Imports"
   ]
  },
  {
   "cell_type": "code",
   "execution_count": 1,
   "metadata": {
    "execution": {
     "iopub.execute_input": "2021-04-23T06:03:22.017348Z",
     "iopub.status.busy": "2021-04-23T06:03:22.017133Z",
     "iopub.status.idle": "2021-04-23T06:03:22.649938Z",
     "shell.execute_reply": "2021-04-23T06:03:22.649487Z",
     "shell.execute_reply.started": "2021-04-23T06:03:22.017325Z"
    },
    "tags": []
   },
   "outputs": [],
   "source": [
    "import pandas as pd\n",
    "import numpy as np\n",
    "import matplotlib.pyplot as plt\n",
    "import datetime\n",
    "import os"
   ]
  },
  {
   "cell_type": "code",
   "execution_count": 2,
   "metadata": {
    "execution": {
     "iopub.execute_input": "2021-04-23T06:03:22.654147Z",
     "iopub.status.busy": "2021-04-23T06:03:22.654035Z",
     "iopub.status.idle": "2021-04-23T06:03:23.253586Z",
     "shell.execute_reply": "2021-04-23T06:03:23.252913Z",
     "shell.execute_reply.started": "2021-04-23T06:03:22.654132Z"
    },
    "tags": []
   },
   "outputs": [],
   "source": [
    "Country = pd.read_csv('data/Country.csv')\n",
    "League = pd.read_csv('data/League.csv')\n",
    "Match = pd.read_csv('data/statless_matches.csv')\n",
    "Player = pd.read_csv('data/player_red.csv')\n",
    "Player_att = pd.read_csv('data/player_att_red.csv')\n",
    "Team = pd.read_csv('data/team_red.csv')\n",
    "Team_att = pd.read_csv('data/team_att_red.csv')"
   ]
  },
  {
   "cell_type": "code",
   "execution_count": 3,
   "metadata": {
    "execution": {
     "iopub.execute_input": "2021-04-23T06:03:23.254761Z",
     "iopub.status.busy": "2021-04-23T06:03:23.254561Z",
     "iopub.status.idle": "2021-04-23T06:03:23.258657Z",
     "shell.execute_reply": "2021-04-23T06:03:23.257978Z",
     "shell.execute_reply.started": "2021-04-23T06:03:23.254727Z"
    },
    "tags": []
   },
   "outputs": [
    {
     "data": {
      "text/plain": [
       "array(['id', 'country_id', 'league_id', 'season', 'stage', 'date',\n",
       "       'match_api_id', 'home_team_api_id', 'away_team_api_id',\n",
       "       'home_team_goal', 'away_team_goal', 'home_player_Y1',\n",
       "       'home_player_Y2', 'home_player_Y3', 'home_player_Y4',\n",
       "       'home_player_Y5', 'home_player_Y6', 'home_player_Y7',\n",
       "       'home_player_Y8', 'home_player_Y9', 'home_player_Y10',\n",
       "       'home_player_Y11', 'away_player_Y1', 'away_player_Y2',\n",
       "       'away_player_Y3', 'away_player_Y4', 'away_player_Y5',\n",
       "       'away_player_Y6', 'away_player_Y7', 'away_player_Y8',\n",
       "       'away_player_Y9', 'away_player_Y10', 'away_player_Y11',\n",
       "       'home_player_1', 'home_player_2', 'home_player_3', 'home_player_4',\n",
       "       'home_player_5', 'home_player_6', 'home_player_7', 'home_player_8',\n",
       "       'home_player_9', 'home_player_10', 'home_player_11',\n",
       "       'away_player_1', 'away_player_2', 'away_player_3', 'away_player_4',\n",
       "       'away_player_5', 'away_player_6', 'away_player_7', 'away_player_8',\n",
       "       'away_player_9', 'away_player_10', 'away_player_11'], dtype=object)"
      ]
     },
     "execution_count": 3,
     "metadata": {},
     "output_type": "execute_result"
    }
   ],
   "source": [
    "Match.columns.values"
   ]
  },
  {
   "cell_type": "code",
   "execution_count": 4,
   "metadata": {
    "execution": {
     "iopub.execute_input": "2021-04-23T06:03:23.260211Z",
     "iopub.status.busy": "2021-04-23T06:03:23.259867Z",
     "iopub.status.idle": "2021-04-23T06:03:23.264446Z",
     "shell.execute_reply": "2021-04-23T06:03:23.263857Z",
     "shell.execute_reply.started": "2021-04-23T06:03:23.260175Z"
    },
    "tags": []
   },
   "outputs": [],
   "source": [
    "y_coord = ['home_player_Y1',\n",
    "       'home_player_Y2', 'home_player_Y3', 'home_player_Y4',\n",
    "       'home_player_Y5', 'home_player_Y6', 'home_player_Y7',\n",
    "       'home_player_Y8', 'home_player_Y9', 'home_player_Y10',\n",
    "       'home_player_Y11', 'away_player_Y1', 'away_player_Y2',\n",
    "       'away_player_Y3', 'away_player_Y4', 'away_player_Y5',\n",
    "       'away_player_Y6', 'away_player_Y7', 'away_player_Y8',\n",
    "       'away_player_Y9', 'away_player_Y10', 'away_player_Y11']"
   ]
  },
  {
   "cell_type": "code",
   "execution_count": 5,
   "metadata": {
    "execution": {
     "iopub.execute_input": "2021-04-23T06:03:23.265526Z",
     "iopub.status.busy": "2021-04-23T06:03:23.265323Z",
     "iopub.status.idle": "2021-04-23T06:03:23.270064Z",
     "shell.execute_reply": "2021-04-23T06:03:23.269717Z",
     "shell.execute_reply.started": "2021-04-23T06:03:23.265502Z"
    },
    "tags": []
   },
   "outputs": [
    {
     "data": {
      "text/plain": [
       "Index(['id', 'player_api_id', 'overall_rating', 'potential',\n",
       "       'attacking_work_rate', 'defensive_work_rate', 'crossing', 'finishing',\n",
       "       'heading_accuracy', 'short_passing', 'volleys', 'dribbling', 'curve',\n",
       "       'free_kick_accuracy', 'long_passing', 'ball_control', 'acceleration',\n",
       "       'sprint_speed', 'agility', 'reactions', 'balance', 'shot_power',\n",
       "       'jumping', 'stamina', 'strength', 'long_shots', 'aggression',\n",
       "       'interceptions', 'positioning', 'vision', 'penalties', 'marking',\n",
       "       'standing_tackle', 'sliding_tackle', 'gk_diving', 'gk_handling',\n",
       "       'gk_kicking', 'gk_positioning', 'gk_reflexes'],\n",
       "      dtype='object')"
      ]
     },
     "execution_count": 5,
     "metadata": {},
     "output_type": "execute_result"
    }
   ],
   "source": [
    "Player_att.columns"
   ]
  },
  {
   "cell_type": "markdown",
   "metadata": {},
   "source": [
    "player_y1 is ALWAYS goalkeeper at coordinate 1.0\n",
    "<br>\n",
    "y2-y5 is almost always defender at coordinate 3. Set 3 as default for defenders\n",
    "\n",
    "coordinate 6-8 should be midfield\n",
    "coordinate 9-11 is striker zone"
   ]
  },
  {
   "cell_type": "markdown",
   "metadata": {},
   "source": [
    "Attempt to create team averages for defensive, offensive, midfield stats, gk stats."
   ]
  },
  {
   "cell_type": "code",
   "execution_count": 6,
   "metadata": {
    "execution": {
     "iopub.execute_input": "2021-04-23T06:03:23.347942Z",
     "iopub.status.busy": "2021-04-23T06:03:23.347791Z",
     "iopub.status.idle": "2021-04-23T06:03:23.390499Z",
     "shell.execute_reply": "2021-04-23T06:03:23.390016Z",
     "shell.execute_reply.started": "2021-04-23T06:03:23.347926Z"
    },
    "tags": []
   },
   "outputs": [
    {
     "name": "stdout",
     "output_type": "stream",
     "text": [
      "id                    183978.0\n",
      "player_api_id         750584.0\n",
      "overall_rating            94.0\n",
      "potential                 97.0\n",
      "crossing                  95.0\n",
      "finishing                 97.0\n",
      "heading_accuracy          98.0\n",
      "short_passing             97.0\n",
      "volleys                   93.0\n",
      "dribbling                 97.0\n",
      "curve                     94.0\n",
      "free_kick_accuracy        97.0\n",
      "long_passing              97.0\n",
      "ball_control              97.0\n",
      "acceleration              97.0\n",
      "sprint_speed              97.0\n",
      "agility                   96.0\n",
      "reactions                 96.0\n",
      "balance                   96.0\n",
      "shot_power                97.0\n",
      "jumping                   96.0\n",
      "stamina                   96.0\n",
      "strength                  96.0\n",
      "long_shots                96.0\n",
      "aggression                97.0\n",
      "interceptions             96.0\n",
      "positioning               96.0\n",
      "vision                    97.0\n",
      "penalties                 96.0\n",
      "marking                   96.0\n",
      "standing_tackle           95.0\n",
      "sliding_tackle            95.0\n",
      "gk_diving                 94.0\n",
      "gk_handling               93.0\n",
      "gk_kicking                97.0\n",
      "gk_positioning            96.0\n",
      "gk_reflexes               96.0\n",
      "dtype: float64\n"
     ]
    }
   ],
   "source": [
    "print(Player_att.max())"
   ]
  },
  {
   "cell_type": "markdown",
   "metadata": {},
   "source": [
    "Player Attributes all out of 100"
   ]
  },
  {
   "cell_type": "markdown",
   "metadata": {
    "tags": []
   },
   "source": [
    "Pseudocode:\n",
    "    Create new dataframe named avgatts\n",
    "    Create merged dataset with all columns of all players (1000ish columns)\n",
    "\n",
    "IN AN INDEPENDENT TABLE\n",
    "    PER PLAYER HOME:\n",
    "        if home_player_Y1 == 1.0\n",
    "            import gk_att columns on home_player_1\n",
    "        elif 2.0 <= home_player_Y1 <= 5\n",
    "            import def_att columns on home_player_1\n",
    "        elif 5.5 <= home_player_Y1 <= 8.0\n",
    "            import mid_att columns on home_player_1\n",
    "        elif 8.5 <= home_player_Y1 <= 11.0\n",
    "            import attack_att columns on home_player_1\n",
    "        import overall_rating\n",
    "    PER PLAYER AWAY:\n",
    "        if away_player_Y1 == 1.0\n",
    "            import gk_att columns on away_player_1\n",
    "        elif 2.0 <= away_player_Y1 <= 5\n",
    "            import def_att columns on away_player_1\n",
    "        elif 5.5 <= away_player_Y1 <= 8.0\n",
    "            import mid_att columns on away_player_1\n",
    "        elif 8.5 <= away_player_Y1 <= 11.0\n",
    "            import attack_att columns on away_player_1\n",
    "        import overall_rating\n",
    "USE CONCAT!!!!!\n",
    "AVERAGES\n",
    "    final columns per game should be:\n",
    "        home_overall_rating, away_overall_rating, home_att_average, away_att_avg\n",
    "    "
   ]
  },
  {
   "cell_type": "code",
   "execution_count": 47,
   "metadata": {
    "execution": {
     "iopub.execute_input": "2021-04-16T00:18:55.345918Z",
     "iopub.status.busy": "2021-04-16T00:18:55.345773Z",
     "iopub.status.idle": "2021-04-16T00:18:55.347910Z",
     "shell.execute_reply": "2021-04-16T00:18:55.347453Z",
     "shell.execute_reply.started": "2021-04-16T00:18:55.345903Z"
    },
    "tags": []
   },
   "outputs": [],
   "source": [
    "### True false test goalkeeper based on value == 1.0\n",
    "####Test Successful\n",
    "#for i in range(11):\n",
    "#    for x in range(len(Match)):\n",
    "#        if Match.iloc[:,i+11][x] == 1.0:\n",
    "#            print('goalkeeper')\n",
    "#        else:\n",
    "#            print('outfield')\n",
    "    #Match.iloc[:,i+33] #home_p1\n",
    "    #Match.iloc[:,i+44] #away_p1\n",
    "    #Match.iloc[:,i+11] #homeY1\n",
    "    #Match.iloc[:,i+22] #awayY1"
   ]
  },
  {
   "cell_type": "code",
   "execution_count": null,
   "metadata": {
    "tags": []
   },
   "outputs": [],
   "source": [
    "###Test Based on Multiple elif statements\n",
    "###Test Successful\n",
    "\n",
    "#for i in range(11):\n",
    "#    for x in range(len(Match)):\n",
    "#        if Match.iloc[:,i+11][x] == 1.0:\n",
    "#            print('getgkvalues')\n",
    "#        elif 2.0 <= Match.iloc[:,i+11][x] <= 5:\n",
    "#            print('getdefvalues')\n",
    "#        elif 5.5 <= Match.iloc[:,i+11][x] <= 8.0:\n",
    "#            print('getmidvalues')\n",
    "#        elif 8.5 <= Match.iloc[:,i+11][x] <= 11.0:\n",
    "#            print('getattvalues')\n",
    "            "
   ]
  },
  {
   "cell_type": "code",
   "execution_count": 7,
   "metadata": {
    "execution": {
     "iopub.execute_input": "2021-04-23T06:03:28.253794Z",
     "iopub.status.busy": "2021-04-23T06:03:28.253614Z",
     "iopub.status.idle": "2021-04-23T06:03:28.256052Z",
     "shell.execute_reply": "2021-04-23T06:03:28.255687Z",
     "shell.execute_reply.started": "2021-04-23T06:03:28.253775Z"
    },
    "tags": []
   },
   "outputs": [],
   "source": [
    "y = 1, 2, 3\n",
    "###Integers classification algo\n",
    "#### 1 = homewin\n",
    "### 3 = homeloss\n",
    "###If keep cat vars, use get_dummies (encode them)"
   ]
  },
  {
   "cell_type": "code",
   "execution_count": 51,
   "metadata": {
    "execution": {
     "iopub.execute_input": "2021-04-23T06:26:38.495792Z",
     "iopub.status.busy": "2021-04-23T06:26:38.495668Z",
     "iopub.status.idle": "2021-04-23T06:26:38.497894Z",
     "shell.execute_reply": "2021-04-23T06:26:38.497498Z",
     "shell.execute_reply.started": "2021-04-23T06:26:38.495775Z"
    },
    "tags": []
   },
   "outputs": [],
   "source": [
    "match_cols=['id', 'country_id', 'league_id', 'season', 'stage', 'date',\n",
    "       'match_api_id', 'home_team_api_id', 'away_team_api_id']"
   ]
  },
  {
   "cell_type": "code",
   "execution_count": 52,
   "metadata": {
    "execution": {
     "iopub.execute_input": "2021-04-23T06:26:38.498699Z",
     "iopub.status.busy": "2021-04-23T06:26:38.498584Z",
     "iopub.status.idle": "2021-04-23T06:26:38.511521Z",
     "shell.execute_reply": "2021-04-23T06:26:38.511104Z",
     "shell.execute_reply.started": "2021-04-23T06:26:38.498685Z"
    },
    "tags": []
   },
   "outputs": [],
   "source": [
    "merged_match = Match[match_cols]"
   ]
  },
  {
   "cell_type": "code",
   "execution_count": 10,
   "metadata": {
    "execution": {
     "iopub.execute_input": "2021-04-23T06:03:30.395505Z",
     "iopub.status.busy": "2021-04-23T06:03:30.395320Z",
     "iopub.status.idle": "2021-04-23T06:03:30.399078Z",
     "shell.execute_reply": "2021-04-23T06:03:30.398578Z",
     "shell.execute_reply.started": "2021-04-23T06:03:30.395483Z"
    },
    "tags": []
   },
   "outputs": [
    {
     "data": {
      "text/plain": [
       "148286.0"
      ]
     },
     "execution_count": 10,
     "metadata": {},
     "output_type": "execute_result"
    }
   ],
   "source": [
    "Match.iloc[:,6+33][0]"
   ]
  },
  {
   "cell_type": "code",
   "execution_count": 11,
   "metadata": {
    "execution": {
     "iopub.execute_input": "2021-04-23T06:03:31.678425Z",
     "iopub.status.busy": "2021-04-23T06:03:31.677859Z",
     "iopub.status.idle": "2021-04-23T06:03:31.699818Z",
     "shell.execute_reply": "2021-04-23T06:03:31.698868Z",
     "shell.execute_reply.started": "2021-04-23T06:03:31.678356Z"
    },
    "tags": []
   },
   "outputs": [
    {
     "data": {
      "text/html": [
       "<div>\n",
       "<style scoped>\n",
       "    .dataframe tbody tr th:only-of-type {\n",
       "        vertical-align: middle;\n",
       "    }\n",
       "\n",
       "    .dataframe tbody tr th {\n",
       "        vertical-align: top;\n",
       "    }\n",
       "\n",
       "    .dataframe thead th {\n",
       "        text-align: right;\n",
       "    }\n",
       "</style>\n",
       "<table border=\"1\" class=\"dataframe\">\n",
       "  <thead>\n",
       "    <tr style=\"text-align: right;\">\n",
       "      <th></th>\n",
       "      <th>id</th>\n",
       "      <th>player_api_id</th>\n",
       "      <th>overall_rating</th>\n",
       "      <th>potential</th>\n",
       "      <th>attacking_work_rate</th>\n",
       "      <th>defensive_work_rate</th>\n",
       "      <th>crossing</th>\n",
       "      <th>finishing</th>\n",
       "      <th>heading_accuracy</th>\n",
       "      <th>short_passing</th>\n",
       "      <th>...</th>\n",
       "      <th>vision</th>\n",
       "      <th>penalties</th>\n",
       "      <th>marking</th>\n",
       "      <th>standing_tackle</th>\n",
       "      <th>sliding_tackle</th>\n",
       "      <th>gk_diving</th>\n",
       "      <th>gk_handling</th>\n",
       "      <th>gk_kicking</th>\n",
       "      <th>gk_positioning</th>\n",
       "      <th>gk_reflexes</th>\n",
       "    </tr>\n",
       "  </thead>\n",
       "  <tbody>\n",
       "    <tr>\n",
       "      <th>148285</th>\n",
       "      <td>148286</td>\n",
       "      <td>301812</td>\n",
       "      <td>64.0</td>\n",
       "      <td>64.0</td>\n",
       "      <td>medium</td>\n",
       "      <td>medium</td>\n",
       "      <td>15.0</td>\n",
       "      <td>11.0</td>\n",
       "      <td>17.0</td>\n",
       "      <td>29.0</td>\n",
       "      <td>...</td>\n",
       "      <td>17.0</td>\n",
       "      <td>27.0</td>\n",
       "      <td>11.0</td>\n",
       "      <td>17.0</td>\n",
       "      <td>13.0</td>\n",
       "      <td>67.0</td>\n",
       "      <td>60.0</td>\n",
       "      <td>62.0</td>\n",
       "      <td>63.0</td>\n",
       "      <td>69.0</td>\n",
       "    </tr>\n",
       "  </tbody>\n",
       "</table>\n",
       "<p>1 rows × 39 columns</p>\n",
       "</div>"
      ],
      "text/plain": [
       "            id  player_api_id  overall_rating  potential attacking_work_rate  \\\n",
       "148285  148286         301812            64.0       64.0              medium   \n",
       "\n",
       "       defensive_work_rate  crossing  finishing  heading_accuracy  \\\n",
       "148285              medium      15.0       11.0              17.0   \n",
       "\n",
       "        short_passing  ...  vision  penalties  marking  standing_tackle  \\\n",
       "148285           29.0  ...    17.0       27.0     11.0             17.0   \n",
       "\n",
       "        sliding_tackle  gk_diving  gk_handling  gk_kicking  gk_positioning  \\\n",
       "148285            13.0       67.0         60.0        62.0            63.0   \n",
       "\n",
       "        gk_reflexes  \n",
       "148285         69.0  \n",
       "\n",
       "[1 rows x 39 columns]"
      ]
     },
     "execution_count": 11,
     "metadata": {},
     "output_type": "execute_result"
    }
   ],
   "source": [
    "Player_att.loc[Player_att['id'] == 148286.0]"
   ]
  },
  {
   "cell_type": "code",
   "execution_count": 12,
   "metadata": {
    "execution": {
     "iopub.execute_input": "2021-04-23T06:03:33.565871Z",
     "iopub.status.busy": "2021-04-23T06:03:33.565679Z",
     "iopub.status.idle": "2021-04-23T06:03:33.575188Z",
     "shell.execute_reply": "2021-04-23T06:03:33.573598Z",
     "shell.execute_reply.started": "2021-04-23T06:03:33.565849Z"
    },
    "tags": []
   },
   "outputs": [
    {
     "data": {
      "text/plain": [
       "0         38327.0\n",
       "1         36835.0\n",
       "2         34480.0\n",
       "3         38327.0\n",
       "4         37900.0\n",
       "           ...   \n",
       "21356    274776.0\n",
       "21357     42231.0\n",
       "21358     33272.0\n",
       "21359    157856.0\n",
       "21360    274787.0\n",
       "Name: home_player_1, Length: 21361, dtype: float64"
      ]
     },
     "execution_count": 12,
     "metadata": {},
     "output_type": "execute_result"
    }
   ],
   "source": [
    "Match.iloc[:,0+33]"
   ]
  },
  {
   "cell_type": "code",
   "execution_count": 134,
   "metadata": {
    "execution": {
     "iopub.execute_input": "2021-04-23T00:55:41.944914Z",
     "iopub.status.busy": "2021-04-23T00:55:41.944764Z",
     "iopub.status.idle": "2021-04-23T00:55:41.952653Z",
     "shell.execute_reply": "2021-04-23T00:55:41.952258Z",
     "shell.execute_reply.started": "2021-04-23T00:55:41.944899Z"
    },
    "tags": []
   },
   "outputs": [
    {
     "data": {
      "text/html": [
       "<div>\n",
       "<style scoped>\n",
       "    .dataframe tbody tr th:only-of-type {\n",
       "        vertical-align: middle;\n",
       "    }\n",
       "\n",
       "    .dataframe tbody tr th {\n",
       "        vertical-align: top;\n",
       "    }\n",
       "\n",
       "    .dataframe thead th {\n",
       "        text-align: right;\n",
       "    }\n",
       "</style>\n",
       "<table border=\"1\" class=\"dataframe\">\n",
       "  <thead>\n",
       "    <tr style=\"text-align: right;\">\n",
       "      <th></th>\n",
       "      <th>gk_diving</th>\n",
       "      <th>gk_handling</th>\n",
       "      <th>gk_kicking</th>\n",
       "      <th>gk_positioning</th>\n",
       "      <th>gk_reflexes</th>\n",
       "    </tr>\n",
       "  </thead>\n",
       "  <tbody>\n",
       "    <tr>\n",
       "      <th>148285</th>\n",
       "      <td>67.0</td>\n",
       "      <td>60.0</td>\n",
       "      <td>62.0</td>\n",
       "      <td>63.0</td>\n",
       "      <td>69.0</td>\n",
       "    </tr>\n",
       "  </tbody>\n",
       "</table>\n",
       "</div>"
      ],
      "text/plain": [
       "        gk_diving  gk_handling  gk_kicking  gk_positioning  gk_reflexes\n",
       "148285       67.0         60.0        62.0            63.0         69.0"
      ]
     },
     "execution_count": 134,
     "metadata": {},
     "output_type": "execute_result"
    }
   ],
   "source": [
    "Player_att.loc[Player_att['id'] == Match.iloc[:,6+33][0], gk_att]"
   ]
  },
  {
   "cell_type": "code",
   "execution_count": 119,
   "metadata": {
    "execution": {
     "iopub.execute_input": "2021-04-23T00:52:23.784934Z",
     "iopub.status.busy": "2021-04-23T00:52:23.784743Z",
     "iopub.status.idle": "2021-04-23T00:52:23.801767Z",
     "shell.execute_reply": "2021-04-23T00:52:23.801326Z",
     "shell.execute_reply.started": "2021-04-23T00:52:23.784913Z"
    },
    "tags": []
   },
   "outputs": [
    {
     "data": {
      "text/html": [
       "<div>\n",
       "<style scoped>\n",
       "    .dataframe tbody tr th:only-of-type {\n",
       "        vertical-align: middle;\n",
       "    }\n",
       "\n",
       "    .dataframe tbody tr th {\n",
       "        vertical-align: top;\n",
       "    }\n",
       "\n",
       "    .dataframe thead th {\n",
       "        text-align: right;\n",
       "    }\n",
       "</style>\n",
       "<table border=\"1\" class=\"dataframe\">\n",
       "  <thead>\n",
       "    <tr style=\"text-align: right;\">\n",
       "      <th></th>\n",
       "      <th>id</th>\n",
       "      <th>player_api_id</th>\n",
       "      <th>overall_rating</th>\n",
       "      <th>potential</th>\n",
       "      <th>attacking_work_rate</th>\n",
       "      <th>defensive_work_rate</th>\n",
       "      <th>crossing</th>\n",
       "      <th>finishing</th>\n",
       "      <th>heading_accuracy</th>\n",
       "      <th>short_passing</th>\n",
       "      <th>...</th>\n",
       "      <th>vision</th>\n",
       "      <th>penalties</th>\n",
       "      <th>marking</th>\n",
       "      <th>standing_tackle</th>\n",
       "      <th>sliding_tackle</th>\n",
       "      <th>gk_diving</th>\n",
       "      <th>gk_handling</th>\n",
       "      <th>gk_kicking</th>\n",
       "      <th>gk_positioning</th>\n",
       "      <th>gk_reflexes</th>\n",
       "    </tr>\n",
       "  </thead>\n",
       "  <tbody>\n",
       "    <tr>\n",
       "      <th>0</th>\n",
       "      <td>1</td>\n",
       "      <td>505942</td>\n",
       "      <td>67.0</td>\n",
       "      <td>71.0</td>\n",
       "      <td>medium</td>\n",
       "      <td>medium</td>\n",
       "      <td>49.0</td>\n",
       "      <td>44.0</td>\n",
       "      <td>71.0</td>\n",
       "      <td>61.0</td>\n",
       "      <td>...</td>\n",
       "      <td>54.0</td>\n",
       "      <td>48.0</td>\n",
       "      <td>65.0</td>\n",
       "      <td>69.0</td>\n",
       "      <td>69.0</td>\n",
       "      <td>6.0</td>\n",
       "      <td>11.0</td>\n",
       "      <td>10.0</td>\n",
       "      <td>8.0</td>\n",
       "      <td>8.0</td>\n",
       "    </tr>\n",
       "  </tbody>\n",
       "</table>\n",
       "<p>1 rows × 39 columns</p>\n",
       "</div>"
      ],
      "text/plain": [
       "   id  player_api_id  overall_rating  potential attacking_work_rate  \\\n",
       "0   1         505942            67.0       71.0              medium   \n",
       "\n",
       "  defensive_work_rate  crossing  finishing  heading_accuracy  short_passing  \\\n",
       "0              medium      49.0       44.0              71.0           61.0   \n",
       "\n",
       "   ...  vision  penalties  marking  standing_tackle  sliding_tackle  \\\n",
       "0  ...    54.0       48.0     65.0             69.0            69.0   \n",
       "\n",
       "   gk_diving  gk_handling  gk_kicking  gk_positioning  gk_reflexes  \n",
       "0        6.0         11.0        10.0             8.0          8.0  \n",
       "\n",
       "[1 rows x 39 columns]"
      ]
     },
     "execution_count": 119,
     "metadata": {},
     "output_type": "execute_result"
    }
   ],
   "source": [
    "Player_att.loc[Player_att['id'] == Match.iloc[:,0+11][1]]"
   ]
  },
  {
   "cell_type": "code",
   "execution_count": 135,
   "metadata": {
    "execution": {
     "iopub.execute_input": "2021-04-23T00:55:55.309933Z",
     "iopub.status.busy": "2021-04-23T00:55:55.309735Z",
     "iopub.status.idle": "2021-04-23T00:55:55.313432Z",
     "shell.execute_reply": "2021-04-23T00:55:55.313112Z",
     "shell.execute_reply.started": "2021-04-23T00:55:55.309912Z"
    },
    "tags": []
   },
   "outputs": [
    {
     "data": {
      "text/plain": [
       "38327.0"
      ]
     },
     "execution_count": 135,
     "metadata": {},
     "output_type": "execute_result"
    }
   ],
   "source": [
    "Match.iloc[:,0+33][0]"
   ]
  },
  {
   "cell_type": "code",
   "execution_count": 15,
   "metadata": {
    "execution": {
     "iopub.execute_input": "2021-04-23T06:03:53.474524Z",
     "iopub.status.busy": "2021-04-23T06:03:53.474369Z",
     "iopub.status.idle": "2021-04-23T06:03:53.478578Z",
     "shell.execute_reply": "2021-04-23T06:03:53.477592Z",
     "shell.execute_reply.started": "2021-04-23T06:03:53.474508Z"
    },
    "tags": []
   },
   "outputs": [],
   "source": [
    "team_att = ['crossing', 'finishing',\n",
    "       'heading_accuracy', 'short_passing', 'volleys', 'dribbling', 'curve',\n",
    "       'free_kick_accuracy', 'long_passing', 'ball_control', 'acceleration',\n",
    "       'sprint_speed', 'agility', 'reactions', 'balance', 'shot_power',\n",
    "       'jumping', 'stamina', 'strength', 'long_shots', 'aggression',\n",
    "       'interceptions', 'positioning', 'vision', 'penalties', 'marking',\n",
    "       'standing_tackle', 'sliding_tackle', 'gk_diving', 'gk_handling',\n",
    "       'gk_kicking', 'gk_positioning', 'gk_reflexes']"
   ]
  },
  {
   "cell_type": "code",
   "execution_count": 16,
   "metadata": {
    "execution": {
     "iopub.execute_input": "2021-04-23T06:03:53.835355Z",
     "iopub.status.busy": "2021-04-23T06:03:53.835195Z",
     "iopub.status.idle": "2021-04-23T06:03:53.838526Z",
     "shell.execute_reply": "2021-04-23T06:03:53.838109Z",
     "shell.execute_reply.started": "2021-04-23T06:03:53.835339Z"
    },
    "tags": []
   },
   "outputs": [],
   "source": [
    "team_att_split = ['crossing_h', 'finishing_h',\n",
    "       'heading_accuracy_h', 'short_passing_h', 'volleys_h', 'dribbling_h', 'curve_h',\n",
    "       'free_kick_accuracy_h', 'long_passing_h', 'ball_control_h', 'acceleration_h',\n",
    "       'sprint_speed_h', 'agility_h', 'reactions_h', 'balance_h', 'shot_power_h',\n",
    "       'jumping_h', 'stamina_h', 'strength_h', 'long_shots_h', 'aggression_h',\n",
    "       'interceptions_h', 'positioning_h', 'vision_h', 'penalties_h', 'marking_h',\n",
    "       'standing_tackle_h', 'sliding_tackle_h', 'gk_diving_h', 'gk_handling_h',\n",
    "       'gk_kicking_h', 'gk_positioning_h', 'gk_reflexes_h', 'crossing_a', 'finishing_a',\n",
    "       'heading_accuracy_a', 'short_passing_a', 'volleys_a', 'dribbling_a', 'curve_a',\n",
    "       'free_kick_accuracy_a', 'long_passing_a', 'ball_control_a', 'acceleration_a',\n",
    "       'sprint_speed_a', 'agility_a', 'reactions_a', 'balance_a', 'shot_power_a',\n",
    "       'jumping_a', 'stamina_a', 'strength_a', 'long_shots_a', 'aggression_a',\n",
    "       'interceptions_a', 'positioning_a', 'vision_a', 'penalties_a', 'marking_a',\n",
    "       'standing_tackle_a', 'sliding_tackle_a', 'gk_diving_a', 'gk_handling_a',\n",
    "       'gk_kicking_a', 'gk_positioning_a', 'gk_reflexes_a']"
   ]
  },
  {
   "cell_type": "code",
   "execution_count": 50,
   "metadata": {
    "execution": {
     "iopub.execute_input": "2021-04-23T06:15:53.899796Z",
     "iopub.status.busy": "2021-04-23T06:15:53.899577Z",
     "iopub.status.idle": "2021-04-23T06:26:38.476882Z",
     "shell.execute_reply": "2021-04-23T06:26:38.476457Z",
     "shell.execute_reply.started": "2021-04-23T06:15:53.899771Z"
    },
    "tags": []
   },
   "outputs": [],
   "source": [
    "###Home Player extract Columns pseudocode\n",
    "###Test Failed\n",
    "\n",
    "###Initialize column variables (one per attribute)\n",
    "###One per attribute (sum and count for avging at the end)\n",
    "#\n",
    "team_cts = ['home_strikers', 'home_midfielders', 'home_defenders', 'away_strikers', 'away_midfielders', 'away_defenders', 'match_winner']\n",
    "team_atts_table = pd.DataFrame(columns=team_att_split + team_cts, index=range(len(Match)))\n",
    "#print(tmp_tmp_tmp)\n",
    "\n",
    "for x in range(len(Match)): #if else statements filter player position\n",
    "    ###Home team\n",
    "    att_ct_h = 0\n",
    "    mid_ct_h = 0\n",
    "    def_ct_h = 0\n",
    "    gk_ct_h = 0\n",
    "    team_tmp_h = pd.DataFrame()\n",
    "    #Away team\n",
    "    att_ct_a = 0\n",
    "    mid_ct_a = 0\n",
    "    def_ct_a = 0\n",
    "    gk_ct_a = 0\n",
    "    team_tmp_a = pd.DataFrame()\n",
    "    #Home Team\n",
    "    for i in range(11): #per player\n",
    "        #Home Team\n",
    "        if Match.iloc[:,i+11][x] == 1.0: #goalkeepers\n",
    "            gk_ct_h += 1\n",
    "        elif 2.0 <= Match.iloc[:,i+11][x] <= 5: #defenders\n",
    "            def_ct_h += 1\n",
    "        elif 5.5 <= Match.iloc[:,i+11][x] <= 8.0: #midfielders\n",
    "            mid_ct_h += 1\n",
    "        elif 8.5 <= Match.iloc[:,i+11][x] <= 11.0: #strikers\n",
    "            att_ct_h += 1\n",
    "        team_tmp_h = team_tmp_h.append(Player_att.loc[Player_att['id'] == Match.iloc[x ,i+33], team_att])\n",
    "            \n",
    "        #away team\n",
    "        if Match.iloc[:,i+22][x] == 1.0: #goalkeepers\n",
    "            gk_ct_a += 1\n",
    "        elif 2.0 <= Match.iloc[:,i+22][x] <= 5: #defenders\n",
    "            def_ct_a += 1\n",
    "        elif 5.5 <= Match.iloc[:,i+22][x] <= 8.0: #midfielders\n",
    "            mid_ct_a += 1\n",
    "        elif 8.5 <= Match.iloc[:,i+22][x] <= 11.0: #strikers\n",
    "            att_ct_a += 1\n",
    "        team_tmp_a = team_tmp_a.append(Player_att.loc[Player_att['id'] == Match.iloc[x ,i+44], team_att])\n",
    "    tt_max_h = team_tmp_h.max(axis=0)\n",
    "    tt_max_a = team_tmp_a.max(axis=0)\n",
    "    \n",
    "    for attribute in range(len(team_att)):\n",
    "        #print(attribute)\n",
    "        team_atts_table.iloc[x, attribute] = tt_max_h.iloc[attribute]\n",
    "        team_atts_table.iloc[x, attribute+33] = tt_max_a.iloc[attribute]\n",
    "    team_atts_table.loc[x, 'home_strikers'] = att_ct_h # run 3 times\n",
    "    team_atts_table.loc[x, 'home_midfielders'] = mid_ct_h\n",
    "    team_atts_table.loc[x, 'home_defenders'] = def_ct_h\n",
    "    team_atts_table.loc[x, 'away_strikers'] = att_ct_a # run 3 times\n",
    "    team_atts_table.loc[x, 'away_midfielders'] = mid_ct_a\n",
    "    team_atts_table.loc[x, 'away_defenders'] = def_ct_a\n",
    "    \n",
    "    if Match['home_team_goal'][x] > Match['away_team_goal'][x]:\n",
    "        team_atts_table.loc[x, 'match_winner'] = 1\n",
    "    elif Match['home_team_goal'][x] == Match['away_team_goal'][x]:\n",
    "        team_atts_table.loc[x, 'match_winner'] = 2\n",
    "    elif Match['home_team_goal'][x] < Match['away_team_goal'][x]:\n",
    "        team_atts_table.loc[x, 'match_winner'] = 3        \n",
    "    #tmp_tmp_tmp.iloc[x,:] = tt_max\n",
    "    #print(tmp_tmp_tmp)\n",
    "    #print(\"Formations: \\n\", att_ct, mid_ct, def_ct, gk_ct)\n",
    "    #merged_match = merged_match.merge(tt_max, how='left', left_index=True ) #\n",
    "\n",
    "#merge player_attributes on player_id match player_id filtering (columnsfil),\n",
    "###Code can be modified to count number of defender, attackers, midfielders \n",
    "### and append those values to Match dataframe\n",
    "\n",
    "###Merge (concat may not align correctly)\n",
    "###append to df, give suffix based on i(1-11),\n",
    "###Then at the end of loop create column for each attribute (distiguish based on position)\n",
    "###At very end create newcolumn\n",
    "###mention SOME hiccups (not all)"
   ]
  },
  {
   "cell_type": "code",
   "execution_count": 53,
   "metadata": {
    "execution": {
     "iopub.execute_input": "2021-04-23T06:26:38.512227Z",
     "iopub.status.busy": "2021-04-23T06:26:38.512108Z",
     "iopub.status.idle": "2021-04-23T06:26:38.538197Z",
     "shell.execute_reply": "2021-04-23T06:26:38.537682Z",
     "shell.execute_reply.started": "2021-04-23T06:26:38.512211Z"
    },
    "tags": []
   },
   "outputs": [
    {
     "data": {
      "text/html": [
       "<div>\n",
       "<style scoped>\n",
       "    .dataframe tbody tr th:only-of-type {\n",
       "        vertical-align: middle;\n",
       "    }\n",
       "\n",
       "    .dataframe tbody tr th {\n",
       "        vertical-align: top;\n",
       "    }\n",
       "\n",
       "    .dataframe thead th {\n",
       "        text-align: right;\n",
       "    }\n",
       "</style>\n",
       "<table border=\"1\" class=\"dataframe\">\n",
       "  <thead>\n",
       "    <tr style=\"text-align: right;\">\n",
       "      <th></th>\n",
       "      <th>crossing_h</th>\n",
       "      <th>finishing_h</th>\n",
       "      <th>heading_accuracy_h</th>\n",
       "      <th>short_passing_h</th>\n",
       "      <th>volleys_h</th>\n",
       "      <th>dribbling_h</th>\n",
       "      <th>curve_h</th>\n",
       "      <th>free_kick_accuracy_h</th>\n",
       "      <th>long_passing_h</th>\n",
       "      <th>ball_control_h</th>\n",
       "      <th>...</th>\n",
       "      <th>gk_kicking_a</th>\n",
       "      <th>gk_positioning_a</th>\n",
       "      <th>gk_reflexes_a</th>\n",
       "      <th>home_strikers</th>\n",
       "      <th>home_midfielders</th>\n",
       "      <th>home_defenders</th>\n",
       "      <th>away_strikers</th>\n",
       "      <th>away_midfielders</th>\n",
       "      <th>away_defenders</th>\n",
       "      <th>match_winner</th>\n",
       "    </tr>\n",
       "  </thead>\n",
       "  <tbody>\n",
       "    <tr>\n",
       "      <th>0</th>\n",
       "      <td>83.0</td>\n",
       "      <td>65.0</td>\n",
       "      <td>83.0</td>\n",
       "      <td>87.0</td>\n",
       "      <td>68.0</td>\n",
       "      <td>81.0</td>\n",
       "      <td>80.0</td>\n",
       "      <td>84.0</td>\n",
       "      <td>85.0</td>\n",
       "      <td>83.0</td>\n",
       "      <td>...</td>\n",
       "      <td>14.0</td>\n",
       "      <td>15.0</td>\n",
       "      <td>14.0</td>\n",
       "      <td>2</td>\n",
       "      <td>4</td>\n",
       "      <td>4</td>\n",
       "      <td>2</td>\n",
       "      <td>4</td>\n",
       "      <td>4</td>\n",
       "      <td>1</td>\n",
       "    </tr>\n",
       "    <tr>\n",
       "      <th>1</th>\n",
       "      <td>81.0</td>\n",
       "      <td>77.0</td>\n",
       "      <td>78.0</td>\n",
       "      <td>83.0</td>\n",
       "      <td>76.0</td>\n",
       "      <td>75.0</td>\n",
       "      <td>79.0</td>\n",
       "      <td>83.0</td>\n",
       "      <td>78.0</td>\n",
       "      <td>83.0</td>\n",
       "      <td>...</td>\n",
       "      <td>69.0</td>\n",
       "      <td>66.0</td>\n",
       "      <td>67.0</td>\n",
       "      <td>2</td>\n",
       "      <td>4</td>\n",
       "      <td>4</td>\n",
       "      <td>2</td>\n",
       "      <td>4</td>\n",
       "      <td>4</td>\n",
       "      <td>3</td>\n",
       "    </tr>\n",
       "    <tr>\n",
       "      <th>2</th>\n",
       "      <td>70.0</td>\n",
       "      <td>60.0</td>\n",
       "      <td>61.0</td>\n",
       "      <td>73.0</td>\n",
       "      <td>59.0</td>\n",
       "      <td>77.0</td>\n",
       "      <td>69.0</td>\n",
       "      <td>71.0</td>\n",
       "      <td>67.0</td>\n",
       "      <td>78.0</td>\n",
       "      <td>...</td>\n",
       "      <td>65.0</td>\n",
       "      <td>60.0</td>\n",
       "      <td>72.0</td>\n",
       "      <td>2</td>\n",
       "      <td>4</td>\n",
       "      <td>4</td>\n",
       "      <td>2</td>\n",
       "      <td>4</td>\n",
       "      <td>4</td>\n",
       "      <td>1</td>\n",
       "    </tr>\n",
       "    <tr>\n",
       "      <th>3</th>\n",
       "      <td>83.0</td>\n",
       "      <td>75.0</td>\n",
       "      <td>83.0</td>\n",
       "      <td>83.0</td>\n",
       "      <td>63.0</td>\n",
       "      <td>81.0</td>\n",
       "      <td>74.0</td>\n",
       "      <td>75.0</td>\n",
       "      <td>82.0</td>\n",
       "      <td>83.0</td>\n",
       "      <td>...</td>\n",
       "      <td>54.0</td>\n",
       "      <td>55.0</td>\n",
       "      <td>63.0</td>\n",
       "      <td>2</td>\n",
       "      <td>4</td>\n",
       "      <td>4</td>\n",
       "      <td>2</td>\n",
       "      <td>4</td>\n",
       "      <td>4</td>\n",
       "      <td>1</td>\n",
       "    </tr>\n",
       "    <tr>\n",
       "      <th>4</th>\n",
       "      <td>70.0</td>\n",
       "      <td>68.0</td>\n",
       "      <td>71.0</td>\n",
       "      <td>75.0</td>\n",
       "      <td>70.0</td>\n",
       "      <td>70.0</td>\n",
       "      <td>77.0</td>\n",
       "      <td>73.0</td>\n",
       "      <td>72.0</td>\n",
       "      <td>73.0</td>\n",
       "      <td>...</td>\n",
       "      <td>79.0</td>\n",
       "      <td>69.0</td>\n",
       "      <td>69.0</td>\n",
       "      <td>2</td>\n",
       "      <td>4</td>\n",
       "      <td>4</td>\n",
       "      <td>2</td>\n",
       "      <td>4</td>\n",
       "      <td>4</td>\n",
       "      <td>2</td>\n",
       "    </tr>\n",
       "    <tr>\n",
       "      <th>5</th>\n",
       "      <td>86.0</td>\n",
       "      <td>72.0</td>\n",
       "      <td>78.0</td>\n",
       "      <td>84.0</td>\n",
       "      <td>67.0</td>\n",
       "      <td>77.0</td>\n",
       "      <td>88.0</td>\n",
       "      <td>83.0</td>\n",
       "      <td>83.0</td>\n",
       "      <td>83.0</td>\n",
       "      <td>...</td>\n",
       "      <td>65.0</td>\n",
       "      <td>60.0</td>\n",
       "      <td>72.0</td>\n",
       "      <td>2</td>\n",
       "      <td>4</td>\n",
       "      <td>4</td>\n",
       "      <td>2</td>\n",
       "      <td>4</td>\n",
       "      <td>4</td>\n",
       "      <td>1</td>\n",
       "    </tr>\n",
       "    <tr>\n",
       "      <th>6</th>\n",
       "      <td>78.0</td>\n",
       "      <td>90.0</td>\n",
       "      <td>82.0</td>\n",
       "      <td>86.0</td>\n",
       "      <td>76.0</td>\n",
       "      <td>75.0</td>\n",
       "      <td>69.0</td>\n",
       "      <td>75.0</td>\n",
       "      <td>79.0</td>\n",
       "      <td>79.0</td>\n",
       "      <td>...</td>\n",
       "      <td>62.0</td>\n",
       "      <td>63.0</td>\n",
       "      <td>69.0</td>\n",
       "      <td>2</td>\n",
       "      <td>4</td>\n",
       "      <td>4</td>\n",
       "      <td>2</td>\n",
       "      <td>4</td>\n",
       "      <td>4</td>\n",
       "      <td>1</td>\n",
       "    </tr>\n",
       "    <tr>\n",
       "      <th>7</th>\n",
       "      <td>83.0</td>\n",
       "      <td>63.0</td>\n",
       "      <td>76.0</td>\n",
       "      <td>83.0</td>\n",
       "      <td>62.0</td>\n",
       "      <td>81.0</td>\n",
       "      <td>74.0</td>\n",
       "      <td>75.0</td>\n",
       "      <td>78.0</td>\n",
       "      <td>83.0</td>\n",
       "      <td>...</td>\n",
       "      <td>69.0</td>\n",
       "      <td>66.0</td>\n",
       "      <td>67.0</td>\n",
       "      <td>2</td>\n",
       "      <td>4</td>\n",
       "      <td>4</td>\n",
       "      <td>2</td>\n",
       "      <td>4</td>\n",
       "      <td>4</td>\n",
       "      <td>1</td>\n",
       "    </tr>\n",
       "    <tr>\n",
       "      <th>8</th>\n",
       "      <td>78.0</td>\n",
       "      <td>90.0</td>\n",
       "      <td>82.0</td>\n",
       "      <td>86.0</td>\n",
       "      <td>76.0</td>\n",
       "      <td>75.0</td>\n",
       "      <td>69.0</td>\n",
       "      <td>75.0</td>\n",
       "      <td>79.0</td>\n",
       "      <td>79.0</td>\n",
       "      <td>...</td>\n",
       "      <td>14.0</td>\n",
       "      <td>15.0</td>\n",
       "      <td>14.0</td>\n",
       "      <td>2</td>\n",
       "      <td>4</td>\n",
       "      <td>4</td>\n",
       "      <td>2</td>\n",
       "      <td>4</td>\n",
       "      <td>4</td>\n",
       "      <td>1</td>\n",
       "    </tr>\n",
       "    <tr>\n",
       "      <th>9</th>\n",
       "      <td>81.0</td>\n",
       "      <td>77.0</td>\n",
       "      <td>75.0</td>\n",
       "      <td>83.0</td>\n",
       "      <td>76.0</td>\n",
       "      <td>75.0</td>\n",
       "      <td>79.0</td>\n",
       "      <td>83.0</td>\n",
       "      <td>78.0</td>\n",
       "      <td>83.0</td>\n",
       "      <td>...</td>\n",
       "      <td>14.0</td>\n",
       "      <td>15.0</td>\n",
       "      <td>14.0</td>\n",
       "      <td>2</td>\n",
       "      <td>4</td>\n",
       "      <td>4</td>\n",
       "      <td>2</td>\n",
       "      <td>4</td>\n",
       "      <td>4</td>\n",
       "      <td>3</td>\n",
       "    </tr>\n",
       "  </tbody>\n",
       "</table>\n",
       "<p>10 rows × 73 columns</p>\n",
       "</div>"
      ],
      "text/plain": [
       "  crossing_h finishing_h heading_accuracy_h short_passing_h volleys_h  \\\n",
       "0       83.0        65.0               83.0            87.0      68.0   \n",
       "1       81.0        77.0               78.0            83.0      76.0   \n",
       "2       70.0        60.0               61.0            73.0      59.0   \n",
       "3       83.0        75.0               83.0            83.0      63.0   \n",
       "4       70.0        68.0               71.0            75.0      70.0   \n",
       "5       86.0        72.0               78.0            84.0      67.0   \n",
       "6       78.0        90.0               82.0            86.0      76.0   \n",
       "7       83.0        63.0               76.0            83.0      62.0   \n",
       "8       78.0        90.0               82.0            86.0      76.0   \n",
       "9       81.0        77.0               75.0            83.0      76.0   \n",
       "\n",
       "  dribbling_h curve_h free_kick_accuracy_h long_passing_h ball_control_h  ...  \\\n",
       "0        81.0    80.0                 84.0           85.0           83.0  ...   \n",
       "1        75.0    79.0                 83.0           78.0           83.0  ...   \n",
       "2        77.0    69.0                 71.0           67.0           78.0  ...   \n",
       "3        81.0    74.0                 75.0           82.0           83.0  ...   \n",
       "4        70.0    77.0                 73.0           72.0           73.0  ...   \n",
       "5        77.0    88.0                 83.0           83.0           83.0  ...   \n",
       "6        75.0    69.0                 75.0           79.0           79.0  ...   \n",
       "7        81.0    74.0                 75.0           78.0           83.0  ...   \n",
       "8        75.0    69.0                 75.0           79.0           79.0  ...   \n",
       "9        75.0    79.0                 83.0           78.0           83.0  ...   \n",
       "\n",
       "  gk_kicking_a gk_positioning_a gk_reflexes_a home_strikers home_midfielders  \\\n",
       "0         14.0             15.0          14.0             2                4   \n",
       "1         69.0             66.0          67.0             2                4   \n",
       "2         65.0             60.0          72.0             2                4   \n",
       "3         54.0             55.0          63.0             2                4   \n",
       "4         79.0             69.0          69.0             2                4   \n",
       "5         65.0             60.0          72.0             2                4   \n",
       "6         62.0             63.0          69.0             2                4   \n",
       "7         69.0             66.0          67.0             2                4   \n",
       "8         14.0             15.0          14.0             2                4   \n",
       "9         14.0             15.0          14.0             2                4   \n",
       "\n",
       "  home_defenders away_strikers away_midfielders away_defenders match_winner  \n",
       "0              4             2                4              4            1  \n",
       "1              4             2                4              4            3  \n",
       "2              4             2                4              4            1  \n",
       "3              4             2                4              4            1  \n",
       "4              4             2                4              4            2  \n",
       "5              4             2                4              4            1  \n",
       "6              4             2                4              4            1  \n",
       "7              4             2                4              4            1  \n",
       "8              4             2                4              4            1  \n",
       "9              4             2                4              4            3  \n",
       "\n",
       "[10 rows x 73 columns]"
      ]
     },
     "execution_count": 53,
     "metadata": {},
     "output_type": "execute_result"
    }
   ],
   "source": [
    "team_atts_table.head(10)"
   ]
  },
  {
   "cell_type": "code",
   "execution_count": 54,
   "metadata": {
    "execution": {
     "iopub.execute_input": "2021-04-23T06:26:38.539410Z",
     "iopub.status.busy": "2021-04-23T06:26:38.539163Z",
     "iopub.status.idle": "2021-04-23T06:26:38.587431Z",
     "shell.execute_reply": "2021-04-23T06:26:38.586856Z",
     "shell.execute_reply.started": "2021-04-23T06:26:38.539380Z"
    },
    "tags": []
   },
   "outputs": [],
   "source": [
    "merged_match = merged_match.merge(team_atts_table, how='left', left_index=True, right_index=True)"
   ]
  },
  {
   "cell_type": "code",
   "execution_count": 56,
   "metadata": {
    "execution": {
     "iopub.execute_input": "2021-04-23T06:27:31.096071Z",
     "iopub.status.busy": "2021-04-23T06:27:31.095889Z",
     "iopub.status.idle": "2021-04-23T06:27:31.113540Z",
     "shell.execute_reply": "2021-04-23T06:27:31.112992Z",
     "shell.execute_reply.started": "2021-04-23T06:27:31.096048Z"
    },
    "tags": []
   },
   "outputs": [
    {
     "data": {
      "text/html": [
       "<div>\n",
       "<style scoped>\n",
       "    .dataframe tbody tr th:only-of-type {\n",
       "        vertical-align: middle;\n",
       "    }\n",
       "\n",
       "    .dataframe tbody tr th {\n",
       "        vertical-align: top;\n",
       "    }\n",
       "\n",
       "    .dataframe thead th {\n",
       "        text-align: right;\n",
       "    }\n",
       "</style>\n",
       "<table border=\"1\" class=\"dataframe\">\n",
       "  <thead>\n",
       "    <tr style=\"text-align: right;\">\n",
       "      <th></th>\n",
       "      <th>id</th>\n",
       "      <th>country_id</th>\n",
       "      <th>league_id</th>\n",
       "      <th>season</th>\n",
       "      <th>stage</th>\n",
       "      <th>date</th>\n",
       "      <th>match_api_id</th>\n",
       "      <th>home_team_api_id</th>\n",
       "      <th>away_team_api_id</th>\n",
       "      <th>crossing_h</th>\n",
       "      <th>...</th>\n",
       "      <th>gk_kicking_a</th>\n",
       "      <th>gk_positioning_a</th>\n",
       "      <th>gk_reflexes_a</th>\n",
       "      <th>home_strikers</th>\n",
       "      <th>home_midfielders</th>\n",
       "      <th>home_defenders</th>\n",
       "      <th>away_strikers</th>\n",
       "      <th>away_midfielders</th>\n",
       "      <th>away_defenders</th>\n",
       "      <th>match_winner</th>\n",
       "    </tr>\n",
       "  </thead>\n",
       "  <tbody>\n",
       "    <tr>\n",
       "      <th>21356</th>\n",
       "      <td>25973</td>\n",
       "      <td>24558</td>\n",
       "      <td>24558</td>\n",
       "      <td>2015/2016</td>\n",
       "      <td>8</td>\n",
       "      <td>2015-09-13 00:00:00</td>\n",
       "      <td>1992089</td>\n",
       "      <td>10243</td>\n",
       "      <td>10191</td>\n",
       "      <td>72.0</td>\n",
       "      <td>...</td>\n",
       "      <td>15.0</td>\n",
       "      <td>14.0</td>\n",
       "      <td>13.0</td>\n",
       "      <td>2</td>\n",
       "      <td>4</td>\n",
       "      <td>4</td>\n",
       "      <td>1</td>\n",
       "      <td>5</td>\n",
       "      <td>4</td>\n",
       "      <td>2</td>\n",
       "    </tr>\n",
       "    <tr>\n",
       "      <th>21357</th>\n",
       "      <td>25975</td>\n",
       "      <td>24558</td>\n",
       "      <td>24558</td>\n",
       "      <td>2015/2016</td>\n",
       "      <td>9</td>\n",
       "      <td>2015-09-22 00:00:00</td>\n",
       "      <td>1992091</td>\n",
       "      <td>10190</td>\n",
       "      <td>10191</td>\n",
       "      <td>77.0</td>\n",
       "      <td>...</td>\n",
       "      <td>14.0</td>\n",
       "      <td>13.0</td>\n",
       "      <td>13.0</td>\n",
       "      <td>1</td>\n",
       "      <td>5</td>\n",
       "      <td>4</td>\n",
       "      <td>1</td>\n",
       "      <td>5</td>\n",
       "      <td>4</td>\n",
       "      <td>1</td>\n",
       "    </tr>\n",
       "    <tr>\n",
       "      <th>21358</th>\n",
       "      <td>25976</td>\n",
       "      <td>24558</td>\n",
       "      <td>24558</td>\n",
       "      <td>2015/2016</td>\n",
       "      <td>9</td>\n",
       "      <td>2015-09-23 00:00:00</td>\n",
       "      <td>1992092</td>\n",
       "      <td>9824</td>\n",
       "      <td>10199</td>\n",
       "      <td>77.0</td>\n",
       "      <td>...</td>\n",
       "      <td>67.0</td>\n",
       "      <td>73.0</td>\n",
       "      <td>77.0</td>\n",
       "      <td>3</td>\n",
       "      <td>4</td>\n",
       "      <td>3</td>\n",
       "      <td>3</td>\n",
       "      <td>3</td>\n",
       "      <td>4</td>\n",
       "      <td>3</td>\n",
       "    </tr>\n",
       "    <tr>\n",
       "      <th>21359</th>\n",
       "      <td>25977</td>\n",
       "      <td>24558</td>\n",
       "      <td>24558</td>\n",
       "      <td>2015/2016</td>\n",
       "      <td>9</td>\n",
       "      <td>2015-09-23 00:00:00</td>\n",
       "      <td>1992093</td>\n",
       "      <td>9956</td>\n",
       "      <td>10179</td>\n",
       "      <td>70.0</td>\n",
       "      <td>...</td>\n",
       "      <td>68.0</td>\n",
       "      <td>78.0</td>\n",
       "      <td>69.0</td>\n",
       "      <td>1</td>\n",
       "      <td>5</td>\n",
       "      <td>4</td>\n",
       "      <td>1</td>\n",
       "      <td>5</td>\n",
       "      <td>4</td>\n",
       "      <td>1</td>\n",
       "    </tr>\n",
       "    <tr>\n",
       "      <th>21360</th>\n",
       "      <td>25979</td>\n",
       "      <td>24558</td>\n",
       "      <td>24558</td>\n",
       "      <td>2015/2016</td>\n",
       "      <td>9</td>\n",
       "      <td>2015-09-23 00:00:00</td>\n",
       "      <td>1992095</td>\n",
       "      <td>10192</td>\n",
       "      <td>9931</td>\n",
       "      <td>75.0</td>\n",
       "      <td>...</td>\n",
       "      <td>16.0</td>\n",
       "      <td>14.0</td>\n",
       "      <td>15.0</td>\n",
       "      <td>2</td>\n",
       "      <td>4</td>\n",
       "      <td>4</td>\n",
       "      <td>1</td>\n",
       "      <td>5</td>\n",
       "      <td>4</td>\n",
       "      <td>1</td>\n",
       "    </tr>\n",
       "  </tbody>\n",
       "</table>\n",
       "<p>5 rows × 82 columns</p>\n",
       "</div>"
      ],
      "text/plain": [
       "          id  country_id  league_id     season  stage                 date  \\\n",
       "21356  25973       24558      24558  2015/2016      8  2015-09-13 00:00:00   \n",
       "21357  25975       24558      24558  2015/2016      9  2015-09-22 00:00:00   \n",
       "21358  25976       24558      24558  2015/2016      9  2015-09-23 00:00:00   \n",
       "21359  25977       24558      24558  2015/2016      9  2015-09-23 00:00:00   \n",
       "21360  25979       24558      24558  2015/2016      9  2015-09-23 00:00:00   \n",
       "\n",
       "       match_api_id  home_team_api_id  away_team_api_id crossing_h  ...  \\\n",
       "21356       1992089             10243             10191       72.0  ...   \n",
       "21357       1992091             10190             10191       77.0  ...   \n",
       "21358       1992092              9824             10199       77.0  ...   \n",
       "21359       1992093              9956             10179       70.0  ...   \n",
       "21360       1992095             10192              9931       75.0  ...   \n",
       "\n",
       "      gk_kicking_a gk_positioning_a gk_reflexes_a home_strikers  \\\n",
       "21356         15.0             14.0          13.0             2   \n",
       "21357         14.0             13.0          13.0             1   \n",
       "21358         67.0             73.0          77.0             3   \n",
       "21359         68.0             78.0          69.0             1   \n",
       "21360         16.0             14.0          15.0             2   \n",
       "\n",
       "      home_midfielders home_defenders away_strikers away_midfielders  \\\n",
       "21356                4              4             1                5   \n",
       "21357                5              4             1                5   \n",
       "21358                4              3             3                3   \n",
       "21359                5              4             1                5   \n",
       "21360                4              4             1                5   \n",
       "\n",
       "      away_defenders match_winner  \n",
       "21356              4            2  \n",
       "21357              4            1  \n",
       "21358              4            3  \n",
       "21359              4            1  \n",
       "21360              4            1  \n",
       "\n",
       "[5 rows x 82 columns]"
      ]
     },
     "execution_count": 56,
     "metadata": {},
     "output_type": "execute_result"
    }
   ],
   "source": [
    "merged_match.tail(5)"
   ]
  },
  {
   "cell_type": "code",
   "execution_count": 57,
   "metadata": {
    "execution": {
     "iopub.execute_input": "2021-04-23T06:28:03.553000Z",
     "iopub.status.busy": "2021-04-23T06:28:03.552846Z",
     "iopub.status.idle": "2021-04-23T06:28:04.111719Z",
     "shell.execute_reply": "2021-04-23T06:28:04.111324Z",
     "shell.execute_reply.started": "2021-04-23T06:28:03.552984Z"
    }
   },
   "outputs": [],
   "source": [
    "merged_match.to_csv('data/' + 'match_team_atts_added')"
   ]
  },
  {
   "cell_type": "markdown",
   "metadata": {},
   "source": [
    "Y Coordinates are useless and possibly sourced incorrectly. To mitigate this take max of each and use as absolute value per stat column"
   ]
  },
  {
   "cell_type": "code",
   "execution_count": null,
   "metadata": {
    "tags": []
   },
   "outputs": [],
   "source": [
    "for x in range(10): #if else statements filter player position\n",
    "    ###Home team\n",
    "    team_tmp = pd.DataFrame()\n",
    "    for i in range(11): #per player\n",
    "            gk_ct += 1\n",
    "            team_tmp = team_tmp.append(Player_att.loc[Player_att['id'] == Match.iloc[:,i+33][x], team_att])\n",
    "    print(team_tmp.max(axis=0, skipna=True)) #"
   ]
  },
  {
   "cell_type": "code",
   "execution_count": 9,
   "metadata": {
    "execution": {
     "iopub.execute_input": "2021-04-22T23:29:47.246404Z",
     "iopub.status.busy": "2021-04-22T23:29:47.246094Z",
     "iopub.status.idle": "2021-04-22T23:29:47.756302Z",
     "shell.execute_reply": "2021-04-22T23:29:47.755848Z",
     "shell.execute_reply.started": "2021-04-22T23:29:47.246370Z"
    }
   },
   "outputs": [],
   "source": [
    "merged_match_test1 = pd.merge(Match, Player_att, how='left', left_on='home_player_1', right_on='id', suffixes=(None, '_h1'))\n",
    "merged_match_test1 = merged_match_test1.merge(Player_att, how='left', left_on='home_player_2', right_on='id', suffixes=(None, '_h2'))\n",
    "merged_match_test1 = merged_match_test1.merge(Player_att, how='left', left_on='home_player_3', right_on='id', suffixes=(None, '_h3'))\n",
    "merged_match_test1 = merged_match_test1.merge(Player_att, how='left', left_on='home_player_4', right_on='id', suffixes=(None, '_h4'))\n",
    "merged_match_test1 = merged_match_test1.merge(Player_att, how='left', left_on='home_player_5', right_on='id', suffixes=(None, '_h5'))\n",
    "merged_match_test1 = merged_match_test1.merge(Player_att, how='left', left_on='home_player_2', right_on='id', suffixes=(None, '_h6'))\n",
    "merged_match_test1 = merged_match_test1.merge(Player_att, how='left', left_on='home_player_3', right_on='id', suffixes=(None, '_h7'))\n",
    "merged_match_test1 = merged_match_test1.merge(Player_att, how='left', left_on='home_player_4', right_on='id', suffixes=(None, '_h8'))\n",
    "merged_match_test1 = merged_match_test1.merge(Player_att, how='left', left_on='home_player_5', right_on='id', suffixes=(None, '_h9'))\n",
    "merged_match_test1 = merged_match_test1.merge(Player_att, how='left', left_on='home_player_4', right_on='id', suffixes=(None, '_h10'))\n",
    "merged_match_test1 = merged_match_test1.merge(Player_att, how='left', left_on='home_player_5', right_on='id', suffixes=(None, '_h11'))"
   ]
  },
  {
   "cell_type": "markdown",
   "metadata": {},
   "source": [
    "merged match attributes on id keep track of id\n",
    "put id back in match attributes dataframe"
   ]
  },
  {
   "cell_type": "code",
   "execution_count": null,
   "metadata": {},
   "outputs": [],
   "source": []
  }
 ],
 "metadata": {
  "kernelspec": {
   "display_name": "Python 3",
   "language": "python",
   "name": "python3"
  },
  "language_info": {
   "codemirror_mode": {
    "name": "ipython",
    "version": 3
   },
   "file_extension": ".py",
   "mimetype": "text/x-python",
   "name": "python",
   "nbconvert_exporter": "python",
   "pygments_lexer": "ipython3",
   "version": "3.9.3"
  }
 },
 "nbformat": 4,
 "nbformat_minor": 4
}
