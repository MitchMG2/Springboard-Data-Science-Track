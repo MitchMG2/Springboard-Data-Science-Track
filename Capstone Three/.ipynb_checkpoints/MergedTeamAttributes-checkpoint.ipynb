{
 "cells": [
  {
   "cell_type": "markdown",
   "metadata": {},
   "source": [
    "### Imports"
   ]
  },
  {
   "cell_type": "code",
   "execution_count": 1,
   "metadata": {
    "execution": {
     "iopub.execute_input": "2021-04-15T23:30:04.749108Z",
     "iopub.status.busy": "2021-04-15T23:30:04.748686Z",
     "iopub.status.idle": "2021-04-15T23:30:05.454890Z",
     "shell.execute_reply": "2021-04-15T23:30:05.454413Z",
     "shell.execute_reply.started": "2021-04-15T23:30:04.749062Z"
    },
    "tags": []
   },
   "outputs": [],
   "source": [
    "import pandas as pd\n",
    "import numpy as np\n",
    "import matplotlib.pyplot as plt\n",
    "import datetime\n",
    "import os"
   ]
  },
  {
   "cell_type": "code",
   "execution_count": 2,
   "metadata": {
    "execution": {
     "iopub.execute_input": "2021-04-15T23:30:05.459657Z",
     "iopub.status.busy": "2021-04-15T23:30:05.459537Z",
     "iopub.status.idle": "2021-04-15T23:30:06.127229Z",
     "shell.execute_reply": "2021-04-15T23:30:06.126844Z",
     "shell.execute_reply.started": "2021-04-15T23:30:05.459643Z"
    },
    "tags": []
   },
   "outputs": [],
   "source": [
    "Country = pd.read_csv('data/Country.csv')\n",
    "League = pd.read_csv('data/League.csv')\n",
    "Match = pd.read_csv('data/statless_matches.csv')\n",
    "Player = pd.read_csv('data/player_red.csv')\n",
    "Player_att = pd.read_csv('data/player_att_red.csv')\n",
    "Team = pd.read_csv('data/team_red.csv')\n",
    "Team_att = pd.read_csv('data/team_att_red.csv')"
   ]
  },
  {
   "cell_type": "code",
   "execution_count": 3,
   "metadata": {
    "execution": {
     "iopub.execute_input": "2021-04-15T23:30:06.148827Z",
     "iopub.status.busy": "2021-04-15T23:30:06.148610Z",
     "iopub.status.idle": "2021-04-15T23:30:06.153186Z",
     "shell.execute_reply": "2021-04-15T23:30:06.152653Z",
     "shell.execute_reply.started": "2021-04-15T23:30:06.148800Z"
    },
    "tags": []
   },
   "outputs": [
    {
     "data": {
      "text/plain": [
       "array(['id', 'country_id', 'league_id', 'season', 'stage', 'date',\n",
       "       'match_api_id', 'home_team_api_id', 'away_team_api_id',\n",
       "       'home_team_goal', 'away_team_goal', 'home_player_Y1',\n",
       "       'home_player_Y2', 'home_player_Y3', 'home_player_Y4',\n",
       "       'home_player_Y5', 'home_player_Y6', 'home_player_Y7',\n",
       "       'home_player_Y8', 'home_player_Y9', 'home_player_Y10',\n",
       "       'home_player_Y11', 'away_player_Y1', 'away_player_Y2',\n",
       "       'away_player_Y3', 'away_player_Y4', 'away_player_Y5',\n",
       "       'away_player_Y6', 'away_player_Y7', 'away_player_Y8',\n",
       "       'away_player_Y9', 'away_player_Y10', 'away_player_Y11',\n",
       "       'home_player_1', 'home_player_2', 'home_player_3', 'home_player_4',\n",
       "       'home_player_5', 'home_player_6', 'home_player_7', 'home_player_8',\n",
       "       'home_player_9', 'home_player_10', 'home_player_11',\n",
       "       'away_player_1', 'away_player_2', 'away_player_3', 'away_player_4',\n",
       "       'away_player_5', 'away_player_6', 'away_player_7', 'away_player_8',\n",
       "       'away_player_9', 'away_player_10', 'away_player_11'], dtype=object)"
      ]
     },
     "execution_count": 3,
     "metadata": {},
     "output_type": "execute_result"
    }
   ],
   "source": [
    "Match.columns.values"
   ]
  },
  {
   "cell_type": "code",
   "execution_count": 4,
   "metadata": {
    "execution": {
     "iopub.execute_input": "2021-04-15T23:30:07.868720Z",
     "iopub.status.busy": "2021-04-15T23:30:07.868474Z",
     "iopub.status.idle": "2021-04-15T23:30:07.871323Z",
     "shell.execute_reply": "2021-04-15T23:30:07.870906Z",
     "shell.execute_reply.started": "2021-04-15T23:30:07.868691Z"
    },
    "tags": []
   },
   "outputs": [],
   "source": [
    "y_coord = ['home_player_Y1',\n",
    "       'home_player_Y2', 'home_player_Y3', 'home_player_Y4',\n",
    "       'home_player_Y5', 'home_player_Y6', 'home_player_Y7',\n",
    "       'home_player_Y8', 'home_player_Y9', 'home_player_Y10',\n",
    "       'home_player_Y11', 'away_player_Y1', 'away_player_Y2',\n",
    "       'away_player_Y3', 'away_player_Y4', 'away_player_Y5',\n",
    "       'away_player_Y6', 'away_player_Y7', 'away_player_Y8',\n",
    "       'away_player_Y9', 'away_player_Y10', 'away_player_Y11']"
   ]
  },
  {
   "cell_type": "markdown",
   "metadata": {},
   "source": [
    "player_y1 is ALWAYS goalkeeper at coordinate 1.0\n",
    "<br>\n",
    "y2-y5 is almost always defender at coordinate 3. Set 3 as default for defenders\n",
    "\n",
    "coordinate 6-8 should be midfield\n",
    "coordinate 9-11 is striker zone"
   ]
  },
  {
   "cell_type": "markdown",
   "metadata": {},
   "source": [
    "Attempt to create team averages for defensive, offensive, midfield stats, gk stats."
   ]
  },
  {
   "cell_type": "code",
   "execution_count": 17,
   "metadata": {
    "execution": {
     "iopub.execute_input": "2021-04-15T23:36:50.050067Z",
     "iopub.status.busy": "2021-04-15T23:36:50.049888Z",
     "iopub.status.idle": "2021-04-15T23:36:50.096597Z",
     "shell.execute_reply": "2021-04-15T23:36:50.096236Z",
     "shell.execute_reply.started": "2021-04-15T23:36:50.050046Z"
    },
    "tags": []
   },
   "outputs": [
    {
     "name": "stdout",
     "output_type": "stream",
     "text": [
      "id                    183978.0\n",
      "player_api_id         750584.0\n",
      "overall_rating            94.0\n",
      "potential                 97.0\n",
      "crossing                  95.0\n",
      "finishing                 97.0\n",
      "heading_accuracy          98.0\n",
      "short_passing             97.0\n",
      "volleys                   93.0\n",
      "dribbling                 97.0\n",
      "curve                     94.0\n",
      "free_kick_accuracy        97.0\n",
      "long_passing              97.0\n",
      "ball_control              97.0\n",
      "acceleration              97.0\n",
      "sprint_speed              97.0\n",
      "agility                   96.0\n",
      "reactions                 96.0\n",
      "balance                   96.0\n",
      "shot_power                97.0\n",
      "jumping                   96.0\n",
      "stamina                   96.0\n",
      "strength                  96.0\n",
      "long_shots                96.0\n",
      "aggression                97.0\n",
      "interceptions             96.0\n",
      "positioning               96.0\n",
      "vision                    97.0\n",
      "penalties                 96.0\n",
      "marking                   96.0\n",
      "standing_tackle           95.0\n",
      "sliding_tackle            95.0\n",
      "gk_diving                 94.0\n",
      "gk_handling               93.0\n",
      "gk_kicking                97.0\n",
      "gk_positioning            96.0\n",
      "gk_reflexes               96.0\n",
      "dtype: float64\n"
     ]
    }
   ],
   "source": [
    "print(Player_att.max())"
   ]
  },
  {
   "cell_type": "markdown",
   "metadata": {},
   "source": [
    "Player Attributes all out of 100"
   ]
  },
  {
   "cell_type": "code",
   "execution_count": null,
   "metadata": {},
   "outputs": [],
   "source": [
    "attk_att = ['attacking_work_rate', 'defensive_work_rate', 'crossing',\n",
    "       'finishing', 'heading_accuracy', 'short_passing', 'volleys',\n",
    "       'dribbling', 'curve', 'free_kick_accuracy', 'acceleration', 'sprint_speed', 'agility',\n",
    "       'reactions', 'shot_power', 'penalties']\n",
    "mid_att=['attacking_work_rate', 'defensive_work_rate', 'crossing',\n",
    "       'finishing', 'heading_accuracy', 'short_passing', 'volleys',\n",
    "       'dribbling', 'curve', 'free_kick_accuracy', 'long_passing',\n",
    "       'ball_control', 'acceleration', 'sprint_speed', 'agility',\n",
    "       'reactions', 'balance', 'shot_power', 'jumping', 'stamina',\n",
    "       'strength', 'long_shots', 'aggression', 'interceptions',\n",
    "       'positioning', 'vision', 'penalties', 'marking', 'standing_tackle',\n",
    "       'sliding_tackle']\n",
    "def_att=['strength', 'long_shots', 'aggression', 'interceptions',\n",
    "       'positioning', 'vision', 'marking', 'standing_tackle']\n",
    "gk_att=['gk_diving', 'gk_handling', 'gk_kicking',\n",
    "       'gk_positioning', 'gk_reflexes']"
   ]
  },
  {
   "cell_type": "code",
   "execution_count": 18,
   "metadata": {
    "execution": {
     "iopub.execute_input": "2021-04-16T00:01:58.247864Z",
     "iopub.status.busy": "2021-04-16T00:01:58.247679Z",
     "iopub.status.idle": "2021-04-16T00:01:58.253743Z",
     "shell.execute_reply": "2021-04-16T00:01:58.252779Z",
     "shell.execute_reply.started": "2021-04-16T00:01:58.247843Z"
    },
    "tags": []
   },
   "outputs": [
    {
     "ename": "SyntaxError",
     "evalue": "invalid syntax (<ipython-input-18-dcdfb340f716>, line 1)",
     "output_type": "error",
     "traceback": [
      "\u001b[0;36m  File \u001b[0;32m\"<ipython-input-18-dcdfb340f716>\"\u001b[0;36m, line \u001b[0;32m1\u001b[0m\n\u001b[0;31m    Pseudocode:\u001b[0m\n\u001b[0m               ^\u001b[0m\n\u001b[0;31mSyntaxError\u001b[0m\u001b[0;31m:\u001b[0m invalid syntax\n"
     ]
    }
   ],
   "source": [
    "Pseudocode:\n",
    "    Create new dataframe named avgatts\n",
    "    Create merged dataset with all columns of all players (1000ish columns)\n",
    "\n",
    "IN AN INDEPENDENT TABLE\n",
    "    PER PLAYER HOME:\n",
    "        if home_player_Y1 == 1.0\n",
    "            import gk_att columns on home_player_1\n",
    "        elif 2.0 <= home_player_Y1 <= 5\n",
    "            import def_att columns on home_player_1\n",
    "        elif 5.5 <= home_player_Y1 <= 8.0\n",
    "            import mid_att columns on home_player_1\n",
    "        elif 8.5 <= home_player_Y1 <= 11.0\n",
    "            import attack_att columns on home_player_1\n",
    "        import overall_rating\n",
    "    PER PLAYER AWAY:\n",
    "        if away_player_Y1 == 1.0\n",
    "            import gk_att columns on away_player_1\n",
    "        elif 2.0 <= away_player_Y1 <= 5\n",
    "            import def_att columns on away_player_1\n",
    "        elif 5.5 <= away_player_Y1 <= 8.0\n",
    "            import mid_att columns on away_player_1\n",
    "        elif 8.5 <= away_player_Y1 <= 11.0\n",
    "            import attack_att columns on away_player_1\n",
    "        import overall_rating\n",
    "USE CONCAT!!!!!\n",
    "AVERAGES\n",
    "    final columns per game should be:\n",
    "        home_overall_rating, away_overall_rating, home_att_average, away_att_avg\n",
    "    "
   ]
  },
  {
   "cell_type": "code",
   "execution_count": 47,
   "metadata": {
    "execution": {
     "iopub.execute_input": "2021-04-16T00:18:55.345918Z",
     "iopub.status.busy": "2021-04-16T00:18:55.345773Z",
     "iopub.status.idle": "2021-04-16T00:18:55.347910Z",
     "shell.execute_reply": "2021-04-16T00:18:55.347453Z",
     "shell.execute_reply.started": "2021-04-16T00:18:55.345903Z"
    },
    "tags": []
   },
   "outputs": [],
   "source": [
    "### True false test goalkeeper based on value == 1.0\n",
    "####Test Successful\n",
    "#for i in range(11):\n",
    "#    for x in range(len(Match)):\n",
    "#        if Match.iloc[:,i+11][x] == 1.0:\n",
    "#            print('goalkeeper')\n",
    "#        else:\n",
    "#            print('outfield')\n",
    "    #Match.iloc[:,i+33] #home_p1\n",
    "    #Match.iloc[:,i+44] #away_p1\n",
    "    #Match.iloc[:,i+11] #homeY1\n",
    "    #Match.iloc[:,i+22] #awayY1"
   ]
  },
  {
   "cell_type": "code",
   "execution_count": null,
   "metadata": {
    "tags": []
   },
   "outputs": [],
   "source": [
    "###Test Based on Multiple elif statements\n",
    "###Test Successful\n",
    "\n",
    "#for i in range(11):\n",
    "#    for x in range(len(Match)):\n",
    "#        if Match.iloc[:,i+11][x] == 1.0:\n",
    "#            print('getgkvalues')\n",
    "#        elif 2.0 <= Match.iloc[:,i+11][x] <= 5:\n",
    "#            print('getdefvalues')\n",
    "#        elif 5.5 <= Match.iloc[:,i+11][x] <= 8.0:\n",
    "#            print('getmidvalues')\n",
    "#        elif 8.5 <= Match.iloc[:,i+11][x] <= 11.0:\n",
    "#            print('getattvalues')\n",
    "            "
   ]
  },
  {
   "cell_type": "code",
   "execution_count": 52,
   "metadata": {
    "execution": {
     "iopub.execute_input": "2021-04-16T00:27:26.022704Z",
     "iopub.status.busy": "2021-04-16T00:27:26.022530Z",
     "iopub.status.idle": "2021-04-16T00:27:45.934180Z",
     "shell.execute_reply": "2021-04-16T00:27:45.933768Z",
     "shell.execute_reply.started": "2021-04-16T00:27:26.022684Z"
    }
   },
   "outputs": [
    {
     "name": "stdout",
     "output_type": "stream",
     "text": [
      "234971 0\n"
     ]
    }
   ],
   "source": [
    "###Home Player extract Columns pseudocode\n",
    "###Test Pending\n",
    "\n",
    "###Initialize column variables (one per attribute)\n",
    "###One per attribute (sum and count for avging at the end)\n",
    "for i in range(11): #per player\n",
    "    ###Home team\n",
    "    for x in range(len(Match)): #if else statements filter player position\n",
    "        if Match.iloc[:,i+11][x] == 1.0: #goalkeepers\n",
    "            merged Match.iloc[:,i+44] on Player_att columns (gk_att)\n",
    "        elif 2.0 <= Match.iloc[:,i+11][x] <= 5: #defenders\n",
    "            merged Match.iloc[:,i+44] on Player_att columns (def_att)\n",
    "        elif 5.5 <= Match.iloc[:,i+11][x] <= 8.0: #midfielders\n",
    "            merged Match.iloc[:,i+44] on Player_att columns (mid_att)\n",
    "        elif 8.5 <= Match.iloc[:,i+11][x] <= 11.0: #strikers\n",
    "            merged Match.iloc[:,i+44] on Player_att columns (attk_att)\n",
    "            \n",
    "    THEN TAKE AVERAGE OF ENTIRE THING\n",
    "final columns per game should be:\n",
    "        home_player_rating, away_player_rating, home_att_avg, away_att_avg\n",
    "\n",
    "merge player_attributes on player_id match player_id filtering (columnsfil),\n",
    "###Code can be modified to count number of defender, attackers, midfielders \n",
    "### and append those values to Match dataframe\n",
    "\n",
    "###Merge (concat may not align correctly)\n",
    "###append to df, give suffix based on i(1-11),\n",
    "###Then at the end of loop create column for each attribute (distiguish based on position)\n",
    "###At very end create newcolumn"
   ]
  },
  {
   "cell_type": "code",
   "execution_count": null,
   "metadata": {},
   "outputs": [],
   "source": [
    "y = 1, 2, 3\n",
    "###Integers classification algo\n",
    "#### 1 = homewin\n",
    "### 3 = homeloss\n",
    "###If keep cat vars, use get_dummies (encode them)"
   ]
  },
  {
   "cell_type": "code",
   "execution_count": null,
   "metadata": {},
   "outputs": [],
   "source": []
  },
  {
   "cell_type": "code",
   "execution_count": null,
   "metadata": {},
   "outputs": [],
   "source": [
    "merged_match_test1 = pd.merge(Match, Player_att, how='left', left_on='home_player_1', right_on='id', suffixes=(None, '_h1'))\n",
    "merged_match_test1 = merged_match_test1.merge(Player_att, how='left', left_on='home_player_2', right_on='id', suffixes=(None, '_h2'))\n",
    "merged_match_test1 = merged_match_test1.merge(Player_att, how='left', left_on='home_player_3', right_on='id', suffixes=(None, '_h3'))\n",
    "merged_match_test1 = merged_match_test1.merge(Player_att, how='left', left_on='home_player_4', right_on='id', suffixes=(None, '_h4'))\n",
    "merged_match_test1 = merged_match_test1.merge(Player_att, how='left', left_on='home_player_5', right_on='id', suffixes=(None, '_h5'))\n",
    "merged_match_test1 = merged_match_test1.merge(Player_att, how='left', left_on='home_player_2', right_on='id', suffixes=(None, '_h6'))\n",
    "merged_match_test1 = merged_match_test1.merge(Player_att, how='left', left_on='home_player_3', right_on='id', suffixes=(None, '_h7'))\n",
    "merged_match_test1 = merged_match_test1.merge(Player_att, how='left', left_on='home_player_4', right_on='id', suffixes=(None, '_h8'))\n",
    "merged_match_test1 = merged_match_test1.merge(Player_att, how='left', left_on='home_player_5', right_on='id', suffixes=(None, '_h9'))\n",
    "merged_match_test1 = merged_match_test1.merge(Player_att, how='left', left_on='home_player_4', right_on='id', suffixes=(None, '_h10'))\n",
    "merged_match_test1 = merged_match_test1.merge(Player_att, how='left', left_on='home_player_5', right_on='id', suffixes=(None, '_h11'))"
   ]
  }
 ],
 "metadata": {
  "kernelspec": {
   "display_name": "Python 3",
   "language": "python",
   "name": "python3"
  },
  "language_info": {
   "codemirror_mode": {
    "name": "ipython",
    "version": 3
   },
   "file_extension": ".py",
   "mimetype": "text/x-python",
   "name": "python",
   "nbconvert_exporter": "python",
   "pygments_lexer": "ipython3",
   "version": "3.9.3"
  }
 },
 "nbformat": 4,
 "nbformat_minor": 4
}
