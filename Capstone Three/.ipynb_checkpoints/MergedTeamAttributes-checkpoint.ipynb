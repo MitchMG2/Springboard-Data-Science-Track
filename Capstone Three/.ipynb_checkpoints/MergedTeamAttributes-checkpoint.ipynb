{
 "cells": [
  {
   "cell_type": "markdown",
   "metadata": {},
   "source": [
    "### Imports"
   ]
  },
  {
   "cell_type": "code",
   "execution_count": 5,
   "metadata": {
    "execution": {
     "iopub.execute_input": "2021-04-08T22:53:32.566119Z",
     "iopub.status.busy": "2021-04-08T22:53:32.565749Z",
     "iopub.status.idle": "2021-04-08T22:53:32.570602Z",
     "shell.execute_reply": "2021-04-08T22:53:32.570111Z",
     "shell.execute_reply.started": "2021-04-08T22:53:32.566076Z"
    },
    "tags": []
   },
   "outputs": [],
   "source": [
    "import pandas as pd\n",
    "import numpy as np\n",
    "import matplotlib.pyplot as plt\n",
    "import datetime\n",
    "import os"
   ]
  },
  {
   "cell_type": "code",
   "execution_count": 15,
   "metadata": {
    "execution": {
     "iopub.execute_input": "2021-04-08T23:12:12.506180Z",
     "iopub.status.busy": "2021-04-08T23:12:12.505972Z",
     "iopub.status.idle": "2021-04-08T23:12:13.065222Z",
     "shell.execute_reply": "2021-04-08T23:12:13.064798Z",
     "shell.execute_reply.started": "2021-04-08T23:12:12.506162Z"
    },
    "tags": []
   },
   "outputs": [],
   "source": [
    "Country = pd.read_csv('data/Country.csv')\n",
    "League = pd.read_csv('data/League.csv')\n",
    "Match = pd.read_csv('data/statless_matches.csv')\n",
    "Player = pd.read_csv('data/player_red.csv')\n",
    "Player_att = pd.read_csv('data/player_att_red.csv')\n",
    "Team = pd.read_csv('data/team_red.csv')\n",
    "Team_att = pd.read_csv('data/team_att_red.csv')"
   ]
  },
  {
   "cell_type": "code",
   "execution_count": 17,
   "metadata": {
    "execution": {
     "iopub.execute_input": "2021-04-08T23:23:41.129096Z",
     "iopub.status.busy": "2021-04-08T23:23:41.128744Z",
     "iopub.status.idle": "2021-04-08T23:23:41.133137Z",
     "shell.execute_reply": "2021-04-08T23:23:41.132720Z",
     "shell.execute_reply.started": "2021-04-08T23:23:41.129055Z"
    },
    "tags": []
   },
   "outputs": [
    {
     "data": {
      "text/plain": [
       "array(['id', 'country_id', 'league_id', 'season', 'stage', 'date',\n",
       "       'match_api_id', 'home_team_api_id', 'away_team_api_id',\n",
       "       'home_team_goal', 'away_team_goal', 'home_player_Y1',\n",
       "       'home_player_Y2', 'home_player_Y3', 'home_player_Y4',\n",
       "       'home_player_Y5', 'home_player_Y6', 'home_player_Y7',\n",
       "       'home_player_Y8', 'home_player_Y9', 'home_player_Y10',\n",
       "       'home_player_Y11', 'away_player_Y1', 'away_player_Y2',\n",
       "       'away_player_Y3', 'away_player_Y4', 'away_player_Y5',\n",
       "       'away_player_Y6', 'away_player_Y7', 'away_player_Y8',\n",
       "       'away_player_Y9', 'away_player_Y10', 'away_player_Y11',\n",
       "       'home_player_1', 'home_player_2', 'home_player_3', 'home_player_4',\n",
       "       'home_player_5', 'home_player_6', 'home_player_7', 'home_player_8',\n",
       "       'home_player_9', 'home_player_10', 'home_player_11',\n",
       "       'away_player_1', 'away_player_2', 'away_player_3', 'away_player_4',\n",
       "       'away_player_5', 'away_player_6', 'away_player_7', 'away_player_8',\n",
       "       'away_player_9', 'away_player_10', 'away_player_11'], dtype=object)"
      ]
     },
     "execution_count": 17,
     "metadata": {},
     "output_type": "execute_result"
    }
   ],
   "source": [
    "Match.columns.values"
   ]
  },
  {
   "cell_type": "code",
   "execution_count": 20,
   "metadata": {
    "execution": {
     "iopub.execute_input": "2021-04-08T23:25:26.022251Z",
     "iopub.status.busy": "2021-04-08T23:25:26.022097Z",
     "iopub.status.idle": "2021-04-08T23:25:26.025847Z",
     "shell.execute_reply": "2021-04-08T23:25:26.024732Z",
     "shell.execute_reply.started": "2021-04-08T23:25:26.022235Z"
    },
    "tags": []
   },
   "outputs": [],
   "source": [
    "y_coord = ['home_player_Y1',\n",
    "       'home_player_Y2', 'home_player_Y3', 'home_player_Y4',\n",
    "       'home_player_Y5', 'home_player_Y6', 'home_player_Y7',\n",
    "       'home_player_Y8', 'home_player_Y9', 'home_player_Y10',\n",
    "       'home_player_Y11', 'away_player_Y1', 'away_player_Y2',\n",
    "       'away_player_Y3', 'away_player_Y4', 'away_player_Y5',\n",
    "       'away_player_Y6', 'away_player_Y7', 'away_player_Y8',\n",
    "       'away_player_Y9', 'away_player_Y10', 'away_player_Y11']"
   ]
  },
  {
   "cell_type": "code",
   "execution_count": 21,
   "metadata": {
    "execution": {
     "iopub.execute_input": "2021-04-08T23:25:37.013986Z",
     "iopub.status.busy": "2021-04-08T23:25:37.013807Z",
     "iopub.status.idle": "2021-04-08T23:25:37.020689Z",
     "shell.execute_reply": "2021-04-08T23:25:37.020248Z",
     "shell.execute_reply.started": "2021-04-08T23:25:37.013964Z"
    }
   },
   "outputs": [
    {
     "name": "stdout",
     "output_type": "stream",
     "text": [
      "0        10.0\n",
      "1        10.0\n",
      "2        10.0\n",
      "3        10.0\n",
      "4        10.0\n",
      "         ... \n",
      "21356    11.0\n",
      "21357    11.0\n",
      "21358    11.0\n",
      "21359    11.0\n",
      "21360    11.0\n",
      "Length: 21361, dtype: float64\n"
     ]
    }
   ],
   "source": [
    "print(Match[y_coord].max(axis=1))"
   ]
  },
  {
   "cell_type": "code",
   "execution_count": 22,
   "metadata": {
    "execution": {
     "iopub.execute_input": "2021-04-08T23:25:50.591569Z",
     "iopub.status.busy": "2021-04-08T23:25:50.591389Z",
     "iopub.status.idle": "2021-04-08T23:25:50.598123Z",
     "shell.execute_reply": "2021-04-08T23:25:50.597717Z",
     "shell.execute_reply.started": "2021-04-08T23:25:50.591548Z"
    }
   },
   "outputs": [
    {
     "name": "stdout",
     "output_type": "stream",
     "text": [
      "0        1.0\n",
      "1        1.0\n",
      "2        1.0\n",
      "3        1.0\n",
      "4        1.0\n",
      "        ... \n",
      "21356    1.0\n",
      "21357    1.0\n",
      "21358    1.0\n",
      "21359    1.0\n",
      "21360    1.0\n",
      "Length: 21361, dtype: float64\n"
     ]
    }
   ],
   "source": [
    "print(Match[y_coord].min(axis=1))"
   ]
  },
  {
   "cell_type": "code",
   "execution_count": 24,
   "metadata": {
    "execution": {
     "iopub.execute_input": "2021-04-08T23:26:02.999627Z",
     "iopub.status.busy": "2021-04-08T23:26:02.999392Z",
     "iopub.status.idle": "2021-04-08T23:26:03.007048Z",
     "shell.execute_reply": "2021-04-08T23:26:03.006229Z",
     "shell.execute_reply.started": "2021-04-08T23:26:02.999601Z"
    },
    "tags": []
   },
   "outputs": [
    {
     "name": "stdout",
     "output_type": "stream",
     "text": [
      "0        5.545455\n",
      "1        5.545455\n",
      "2        5.545455\n",
      "3        5.545455\n",
      "4        5.545455\n",
      "           ...   \n",
      "21356    5.500000\n",
      "21357    5.454545\n",
      "21358    6.045455\n",
      "21359    5.454545\n",
      "21360    5.500000\n",
      "Length: 21361, dtype: float64\n"
     ]
    }
   ],
   "source": [
    "print(Match[y_coord].mean(axis=1))"
   ]
  },
  {
   "cell_type": "code",
   "execution_count": 30,
   "metadata": {
    "execution": {
     "iopub.execute_input": "2021-04-08T23:30:42.702913Z",
     "iopub.status.busy": "2021-04-08T23:30:42.702690Z",
     "iopub.status.idle": "2021-04-08T23:30:42.791966Z",
     "shell.execute_reply": "2021-04-08T23:30:42.790570Z",
     "shell.execute_reply.started": "2021-04-08T23:30:42.702889Z"
    },
    "tags": []
   },
   "outputs": [
    {
     "name": "stdout",
     "output_type": "stream",
     "text": [
      "      home_player_Y1  home_player_Y2  home_player_Y3  home_player_Y4  \\\n",
      "1.0          21361.0             NaN             NaN             NaN   \n",
      "3.0              NaN         21361.0         21360.0         21356.0   \n",
      "5.0              NaN             NaN             1.0             5.0   \n",
      "6.0              NaN             NaN             NaN             NaN   \n",
      "7.0              NaN             NaN             NaN             NaN   \n",
      "8.0              NaN             NaN             NaN             NaN   \n",
      "9.0              NaN             NaN             NaN             NaN   \n",
      "10.0             NaN             NaN             NaN             NaN   \n",
      "11.0             NaN             NaN             NaN             NaN   \n",
      "\n",
      "      home_player_Y5  home_player_Y6  home_player_Y7  home_player_Y8  \\\n",
      "1.0              NaN             NaN             NaN             NaN   \n",
      "3.0          20033.0           248.0             3.0             4.0   \n",
      "5.0             37.0          1597.0           718.0           402.0   \n",
      "6.0              6.0          7217.0          6341.0           461.0   \n",
      "7.0           1284.0         12235.0         13660.0         13958.0   \n",
      "8.0              1.0            61.0           634.0          6517.0   \n",
      "9.0              NaN             3.0             5.0            19.0   \n",
      "10.0             NaN             NaN             NaN             NaN   \n",
      "11.0             NaN             NaN             NaN             NaN   \n",
      "\n",
      "      home_player_Y9  home_player_Y10  ...  away_player_Y2  away_player_Y3  \\\n",
      "1.0              NaN              NaN  ...             NaN             NaN   \n",
      "3.0              NaN              NaN  ...         21361.0         21361.0   \n",
      "5.0              NaN              NaN  ...             NaN             NaN   \n",
      "6.0             53.0             69.0  ...             NaN             NaN   \n",
      "7.0           8667.0           1063.0  ...             NaN             NaN   \n",
      "8.0           7260.0           6407.0  ...             NaN             NaN   \n",
      "9.0           1167.0           1426.0  ...             NaN             NaN   \n",
      "10.0          4214.0          11743.0  ...             NaN             NaN   \n",
      "11.0             NaN            653.0  ...             NaN             NaN   \n",
      "\n",
      "      away_player_Y4  away_player_Y5  away_player_Y6  away_player_Y7  \\\n",
      "1.0              NaN             NaN             NaN             NaN   \n",
      "3.0          21360.0         20004.0           311.0             3.0   \n",
      "5.0              1.0            33.0          1554.0           663.0   \n",
      "6.0              NaN            10.0          7277.0          6336.0   \n",
      "7.0              NaN          1313.0         12152.0         13651.0   \n",
      "8.0              NaN             NaN            64.0           706.0   \n",
      "9.0              NaN             1.0             3.0             2.0   \n",
      "10.0             NaN             NaN             NaN             NaN   \n",
      "11.0             NaN             NaN             NaN             NaN   \n",
      "\n",
      "      away_player_Y8  away_player_Y9  away_player_Y10  away_player_Y11  \n",
      "1.0              NaN             NaN              NaN              NaN  \n",
      "3.0              1.0             NaN              NaN              NaN  \n",
      "5.0            364.0             NaN              NaN              NaN  \n",
      "6.0            495.0            74.0             72.0              NaN  \n",
      "7.0          13932.0          8673.0           1414.0              1.0  \n",
      "8.0           6545.0          7258.0           6466.0              1.0  \n",
      "9.0             22.0          1137.0           1443.0              NaN  \n",
      "10.0             2.0          4219.0          11349.0          11352.0  \n",
      "11.0             NaN             NaN            617.0          10007.0  \n",
      "\n",
      "[9 rows x 22 columns]\n"
     ]
    }
   ],
   "source": [
    "print(Match[y_coord].apply(pd.Series.value_counts))"
   ]
  },
  {
   "cell_type": "markdown",
   "metadata": {},
   "source": [
    "player_y1 is ALWAYS goalkeeper at coordinate 1.0\n",
    "<br>\n",
    "y2-y5 is almost always defender at coordinate 3. Set 3 as default for defenders\n",
    "\n",
    "coordinate 6-8 should be midfield\n",
    "coordinate 9-11 is striker zone"
   ]
  },
  {
   "cell_type": "code",
   "execution_count": null,
   "metadata": {},
   "outputs": [],
   "source": []
  }
 ],
 "metadata": {
  "kernelspec": {
   "display_name": "Python 3",
   "language": "python",
   "name": "python3"
  },
  "language_info": {
   "codemirror_mode": {
    "name": "ipython",
    "version": 3
   },
   "file_extension": ".py",
   "mimetype": "text/x-python",
   "name": "python",
   "nbconvert_exporter": "python",
   "pygments_lexer": "ipython3",
   "version": "3.9.2"
  }
 },
 "nbformat": 4,
 "nbformat_minor": 4
}
