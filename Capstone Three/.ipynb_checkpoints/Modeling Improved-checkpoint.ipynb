{
 "cells": [
  {
   "cell_type": "markdown",
   "metadata": {},
   "source": [
    "### Imports"
   ]
  },
  {
   "cell_type": "code",
   "execution_count": 1,
   "metadata": {
    "execution": {
     "iopub.execute_input": "2021-05-14T02:17:08.231639Z",
     "iopub.status.busy": "2021-05-14T02:17:08.231441Z",
     "iopub.status.idle": "2021-05-14T02:17:08.936013Z",
     "shell.execute_reply": "2021-05-14T02:17:08.935593Z",
     "shell.execute_reply.started": "2021-05-14T02:17:08.231609Z"
    },
    "tags": []
   },
   "outputs": [],
   "source": [
    "import pandas as pd\n",
    "import numpy as np\n",
    "import os\n",
    "import pickle\n",
    "import matplotlib.pyplot as plt\n",
    "import seaborn as sns\n",
    "import itertools\n",
    "from sklearn import __version__ as sklearn_version\n",
    "from sklearn.preprocessing import scale\n",
    "from sklearn.model_selection import train_test_split, cross_validate, GridSearchCV, learning_curve, cross_val_score\n",
    "from sklearn.preprocessing import StandardScaler, MinMaxScaler\n",
    "from sklearn.dummy import DummyRegressor\n",
    "from sklearn.ensemble import RandomForestClassifier\n",
    "from sklearn.metrics import r2_score, mean_squared_error, mean_absolute_error, confusion_matrix\n",
    "from sklearn.pipeline import make_pipeline, Pipeline\n",
    "from sklearn.impute import SimpleImputer\n",
    "from sklearn.feature_selection import SelectKBest, f_regression\n",
    "from sklearn.svm import SVC\n",
    "from sklearn.linear_model import RidgeClassifier, LogisticRegression\n",
    "from sklearn.neighbors import KNeighborsClassifier\n",
    "import datetime"
   ]
  },
  {
   "cell_type": "code",
   "execution_count": 2,
   "metadata": {
    "execution": {
     "iopub.execute_input": "2021-05-14T02:17:08.936762Z",
     "iopub.status.busy": "2021-05-14T02:17:08.936647Z",
     "iopub.status.idle": "2021-05-14T02:17:09.059671Z",
     "shell.execute_reply": "2021-05-14T02:17:09.059276Z",
     "shell.execute_reply.started": "2021-05-14T02:17:08.936747Z"
    },
    "tags": []
   },
   "outputs": [],
   "source": [
    "df = pd.read_csv('data/Final_merged_dataset_clean.csv')"
   ]
  },
  {
   "cell_type": "code",
   "execution_count": 3,
   "metadata": {
    "execution": {
     "iopub.execute_input": "2021-05-14T02:17:09.060370Z",
     "iopub.status.busy": "2021-05-14T02:17:09.060251Z",
     "iopub.status.idle": "2021-05-14T02:17:09.078050Z",
     "shell.execute_reply": "2021-05-14T02:17:09.077577Z",
     "shell.execute_reply.started": "2021-05-14T02:17:09.060355Z"
    },
    "tags": []
   },
   "outputs": [
    {
     "data": {
      "text/html": [
       "<div>\n",
       "<style scoped>\n",
       "    .dataframe tbody tr th:only-of-type {\n",
       "        vertical-align: middle;\n",
       "    }\n",
       "\n",
       "    .dataframe tbody tr th {\n",
       "        vertical-align: top;\n",
       "    }\n",
       "\n",
       "    .dataframe thead th {\n",
       "        text-align: right;\n",
       "    }\n",
       "</style>\n",
       "<table border=\"1\" class=\"dataframe\">\n",
       "  <thead>\n",
       "    <tr style=\"text-align: right;\">\n",
       "      <th></th>\n",
       "      <th>id</th>\n",
       "      <th>home_team_api_id</th>\n",
       "      <th>away_team_api_id</th>\n",
       "      <th>crossing_h</th>\n",
       "      <th>finishing_h</th>\n",
       "      <th>heading_accuracy_h</th>\n",
       "      <th>short_passing_h</th>\n",
       "      <th>volleys_h</th>\n",
       "      <th>dribbling_h</th>\n",
       "      <th>curve_h</th>\n",
       "      <th>...</th>\n",
       "      <th>defenceAggression_h</th>\n",
       "      <th>defenceTeamWidth_h</th>\n",
       "      <th>buildUpPlaySpeed_a</th>\n",
       "      <th>buildUpPlayPassing_a</th>\n",
       "      <th>chanceCreationPassing_a</th>\n",
       "      <th>chanceCreationCrossing_a</th>\n",
       "      <th>chanceCreationShooting_a</th>\n",
       "      <th>defencePressure_a</th>\n",
       "      <th>defenceAggression_a</th>\n",
       "      <th>defenceTeamWidth_a</th>\n",
       "    </tr>\n",
       "  </thead>\n",
       "  <tbody>\n",
       "    <tr>\n",
       "      <th>0</th>\n",
       "      <td>1729</td>\n",
       "      <td>10260</td>\n",
       "      <td>10261</td>\n",
       "      <td>81.0</td>\n",
       "      <td>72.0</td>\n",
       "      <td>81.0</td>\n",
       "      <td>81.0</td>\n",
       "      <td>79.0</td>\n",
       "      <td>79.0</td>\n",
       "      <td>79.0</td>\n",
       "      <td>...</td>\n",
       "      <td>48.000000</td>\n",
       "      <td>54.833333</td>\n",
       "      <td>58.166667</td>\n",
       "      <td>55.333333</td>\n",
       "      <td>53.500000</td>\n",
       "      <td>57.333333</td>\n",
       "      <td>49.833333</td>\n",
       "      <td>46.666667</td>\n",
       "      <td>48.333333</td>\n",
       "      <td>48.333333</td>\n",
       "    </tr>\n",
       "    <tr>\n",
       "      <th>1</th>\n",
       "      <td>1730</td>\n",
       "      <td>9825</td>\n",
       "      <td>8659</td>\n",
       "      <td>77.0</td>\n",
       "      <td>80.0</td>\n",
       "      <td>90.0</td>\n",
       "      <td>88.0</td>\n",
       "      <td>79.0</td>\n",
       "      <td>79.0</td>\n",
       "      <td>80.0</td>\n",
       "      <td>...</td>\n",
       "      <td>46.500000</td>\n",
       "      <td>50.500000</td>\n",
       "      <td>57.500000</td>\n",
       "      <td>51.500000</td>\n",
       "      <td>53.000000</td>\n",
       "      <td>56.000000</td>\n",
       "      <td>54.666667</td>\n",
       "      <td>43.000000</td>\n",
       "      <td>45.666667</td>\n",
       "      <td>54.833333</td>\n",
       "    </tr>\n",
       "    <tr>\n",
       "      <th>2</th>\n",
       "      <td>1731</td>\n",
       "      <td>8472</td>\n",
       "      <td>8650</td>\n",
       "      <td>79.0</td>\n",
       "      <td>66.0</td>\n",
       "      <td>78.0</td>\n",
       "      <td>82.0</td>\n",
       "      <td>69.0</td>\n",
       "      <td>80.0</td>\n",
       "      <td>78.0</td>\n",
       "      <td>...</td>\n",
       "      <td>52.166667</td>\n",
       "      <td>51.833333</td>\n",
       "      <td>57.666667</td>\n",
       "      <td>44.333333</td>\n",
       "      <td>41.333333</td>\n",
       "      <td>47.833333</td>\n",
       "      <td>57.333333</td>\n",
       "      <td>51.000000</td>\n",
       "      <td>52.500000</td>\n",
       "      <td>56.000000</td>\n",
       "    </tr>\n",
       "    <tr>\n",
       "      <th>3</th>\n",
       "      <td>1732</td>\n",
       "      <td>8654</td>\n",
       "      <td>8528</td>\n",
       "      <td>81.0</td>\n",
       "      <td>71.0</td>\n",
       "      <td>77.0</td>\n",
       "      <td>87.0</td>\n",
       "      <td>69.0</td>\n",
       "      <td>81.0</td>\n",
       "      <td>80.0</td>\n",
       "      <td>...</td>\n",
       "      <td>42.833333</td>\n",
       "      <td>40.166667</td>\n",
       "      <td>47.166667</td>\n",
       "      <td>50.666667</td>\n",
       "      <td>52.666667</td>\n",
       "      <td>55.500000</td>\n",
       "      <td>45.500000</td>\n",
       "      <td>50.000000</td>\n",
       "      <td>54.000000</td>\n",
       "      <td>46.000000</td>\n",
       "    </tr>\n",
       "    <tr>\n",
       "      <th>4</th>\n",
       "      <td>1734</td>\n",
       "      <td>8668</td>\n",
       "      <td>8655</td>\n",
       "      <td>74.0</td>\n",
       "      <td>80.0</td>\n",
       "      <td>74.0</td>\n",
       "      <td>83.0</td>\n",
       "      <td>77.0</td>\n",
       "      <td>80.0</td>\n",
       "      <td>78.0</td>\n",
       "      <td>...</td>\n",
       "      <td>57.500000</td>\n",
       "      <td>56.333333</td>\n",
       "      <td>52.500000</td>\n",
       "      <td>63.833333</td>\n",
       "      <td>57.000000</td>\n",
       "      <td>56.000000</td>\n",
       "      <td>42.000000</td>\n",
       "      <td>45.666667</td>\n",
       "      <td>55.000000</td>\n",
       "      <td>46.666667</td>\n",
       "    </tr>\n",
       "  </tbody>\n",
       "</table>\n",
       "<p>5 rows × 96 columns</p>\n",
       "</div>"
      ],
      "text/plain": [
       "     id  home_team_api_id  away_team_api_id  crossing_h  finishing_h  \\\n",
       "0  1729             10260             10261        81.0         72.0   \n",
       "1  1730              9825              8659        77.0         80.0   \n",
       "2  1731              8472              8650        79.0         66.0   \n",
       "3  1732              8654              8528        81.0         71.0   \n",
       "4  1734              8668              8655        74.0         80.0   \n",
       "\n",
       "   heading_accuracy_h  short_passing_h  volleys_h  dribbling_h  curve_h  ...  \\\n",
       "0                81.0             81.0       79.0         79.0     79.0  ...   \n",
       "1                90.0             88.0       79.0         79.0     80.0  ...   \n",
       "2                78.0             82.0       69.0         80.0     78.0  ...   \n",
       "3                77.0             87.0       69.0         81.0     80.0  ...   \n",
       "4                74.0             83.0       77.0         80.0     78.0  ...   \n",
       "\n",
       "   defenceAggression_h  defenceTeamWidth_h  buildUpPlaySpeed_a  \\\n",
       "0            48.000000           54.833333           58.166667   \n",
       "1            46.500000           50.500000           57.500000   \n",
       "2            52.166667           51.833333           57.666667   \n",
       "3            42.833333           40.166667           47.166667   \n",
       "4            57.500000           56.333333           52.500000   \n",
       "\n",
       "   buildUpPlayPassing_a  chanceCreationPassing_a  chanceCreationCrossing_a  \\\n",
       "0             55.333333                53.500000                 57.333333   \n",
       "1             51.500000                53.000000                 56.000000   \n",
       "2             44.333333                41.333333                 47.833333   \n",
       "3             50.666667                52.666667                 55.500000   \n",
       "4             63.833333                57.000000                 56.000000   \n",
       "\n",
       "   chanceCreationShooting_a  defencePressure_a  defenceAggression_a  \\\n",
       "0                 49.833333          46.666667            48.333333   \n",
       "1                 54.666667          43.000000            45.666667   \n",
       "2                 57.333333          51.000000            52.500000   \n",
       "3                 45.500000          50.000000            54.000000   \n",
       "4                 42.000000          45.666667            55.000000   \n",
       "\n",
       "   defenceTeamWidth_a  \n",
       "0           48.333333  \n",
       "1           54.833333  \n",
       "2           56.000000  \n",
       "3           46.000000  \n",
       "4           46.666667  \n",
       "\n",
       "[5 rows x 96 columns]"
      ]
     },
     "execution_count": 3,
     "metadata": {},
     "output_type": "execute_result"
    }
   ],
   "source": [
    "df.head(5)"
   ]
  },
  {
   "cell_type": "code",
   "execution_count": 4,
   "metadata": {
    "execution": {
     "iopub.execute_input": "2021-05-14T02:17:09.079390Z",
     "iopub.status.busy": "2021-05-14T02:17:09.079270Z",
     "iopub.status.idle": "2021-05-14T02:17:09.105743Z",
     "shell.execute_reply": "2021-05-14T02:17:09.105322Z",
     "shell.execute_reply.started": "2021-05-14T02:17:09.079375Z"
    },
    "tags": []
   },
   "outputs": [],
   "source": [
    "X_train, X_test, y_train, y_test = train_test_split(df.drop(columns=['match_winner', 'id', 'home_team_api_id', 'away_team_api_id', 'fouls_h', 'fouls_a']), \n",
    "                                                    df.match_winner, test_size=0.3, \n",
    "                                                    random_state=47)"
   ]
  },
  {
   "cell_type": "code",
   "execution_count": 5,
   "metadata": {
    "execution": {
     "iopub.execute_input": "2021-05-14T02:17:09.106915Z",
     "iopub.status.busy": "2021-05-14T02:17:09.106776Z",
     "iopub.status.idle": "2021-05-14T02:17:09.135270Z",
     "shell.execute_reply": "2021-05-14T02:17:09.134797Z",
     "shell.execute_reply.started": "2021-05-14T02:17:09.106896Z"
    },
    "tags": []
   },
   "outputs": [
    {
     "data": {
      "text/plain": [
       "((9307, 90), (3990, 90))"
      ]
     },
     "execution_count": 5,
     "metadata": {},
     "output_type": "execute_result"
    }
   ],
   "source": [
    "X_train.shape, X_test.shape"
   ]
  },
  {
   "cell_type": "code",
   "execution_count": 6,
   "metadata": {
    "execution": {
     "iopub.execute_input": "2021-05-14T02:17:09.136099Z",
     "iopub.status.busy": "2021-05-14T02:17:09.135963Z",
     "iopub.status.idle": "2021-05-14T02:17:09.166460Z",
     "shell.execute_reply": "2021-05-14T02:17:09.166029Z",
     "shell.execute_reply.started": "2021-05-14T02:17:09.136082Z"
    },
    "tags": []
   },
   "outputs": [
    {
     "data": {
      "text/plain": [
       "((9307,), (3990,))"
      ]
     },
     "execution_count": 6,
     "metadata": {},
     "output_type": "execute_result"
    }
   ],
   "source": [
    "y_train.shape, y_test.shape"
   ]
  },
  {
   "cell_type": "code",
   "execution_count": 7,
   "metadata": {
    "execution": {
     "iopub.execute_input": "2021-05-14T02:17:09.167299Z",
     "iopub.status.busy": "2021-05-14T02:17:09.167152Z",
     "iopub.status.idle": "2021-05-14T02:17:09.192164Z",
     "shell.execute_reply": "2021-05-14T02:17:09.191471Z",
     "shell.execute_reply.started": "2021-05-14T02:17:09.167280Z"
    },
    "tags": []
   },
   "outputs": [
    {
     "data": {
      "text/plain": [
       "1.8189534758783712"
      ]
     },
     "execution_count": 7,
     "metadata": {},
     "output_type": "execute_result"
    }
   ],
   "source": [
    "train_mean = y_train.mean()\n",
    "train_mean"
   ]
  },
  {
   "cell_type": "markdown",
   "metadata": {},
   "source": [
    "Draw most likely outcome, though this could be influence by even distribution of wins and losses for home teams"
   ]
  },
  {
   "cell_type": "code",
   "execution_count": 8,
   "metadata": {
    "execution": {
     "iopub.execute_input": "2021-05-14T02:17:09.193263Z",
     "iopub.status.busy": "2021-05-14T02:17:09.193100Z",
     "iopub.status.idle": "2021-05-14T02:17:09.219119Z",
     "shell.execute_reply": "2021-05-14T02:17:09.218705Z",
     "shell.execute_reply.started": "2021-05-14T02:17:09.193238Z"
    },
    "tags": []
   },
   "outputs": [
    {
     "data": {
      "text/plain": [
       "array([[1.81895348]])"
      ]
     },
     "execution_count": 8,
     "metadata": {},
     "output_type": "execute_result"
    }
   ],
   "source": [
    "dumb_reg = DummyRegressor(strategy='mean')\n",
    "dumb_reg.fit(X_train, y_train)\n",
    "dumb_reg.constant_"
   ]
  },
  {
   "cell_type": "code",
   "execution_count": 9,
   "metadata": {
    "execution": {
     "iopub.execute_input": "2021-05-14T02:17:09.219947Z",
     "iopub.status.busy": "2021-05-14T02:17:09.219813Z",
     "iopub.status.idle": "2021-05-14T02:17:09.283032Z",
     "shell.execute_reply": "2021-05-14T02:17:09.282343Z",
     "shell.execute_reply.started": "2021-05-14T02:17:09.219930Z"
    },
    "tags": []
   },
   "outputs": [],
   "source": [
    "X_defaults_median = X_train.median()\n",
    "X_train = X_train.fillna(X_defaults_median)\n",
    "X_test = X_test.fillna(X_defaults_median)"
   ]
  },
  {
   "cell_type": "code",
   "execution_count": 10,
   "metadata": {
    "execution": {
     "iopub.execute_input": "2021-05-14T02:17:09.284283Z",
     "iopub.status.busy": "2021-05-14T02:17:09.284065Z",
     "iopub.status.idle": "2021-05-14T02:17:09.287012Z",
     "shell.execute_reply": "2021-05-14T02:17:09.286573Z",
     "shell.execute_reply.started": "2021-05-14T02:17:09.284243Z"
    },
    "tags": []
   },
   "outputs": [],
   "source": [
    "scaler = StandardScaler()"
   ]
  },
  {
   "cell_type": "code",
   "execution_count": 11,
   "metadata": {
    "execution": {
     "iopub.execute_input": "2021-05-14T02:17:09.287900Z",
     "iopub.status.busy": "2021-05-14T02:17:09.287757Z",
     "iopub.status.idle": "2021-05-14T02:17:09.315726Z",
     "shell.execute_reply": "2021-05-14T02:17:09.315233Z",
     "shell.execute_reply.started": "2021-05-14T02:17:09.287880Z"
    },
    "tags": []
   },
   "outputs": [],
   "source": [
    "svc = SVC()"
   ]
  },
  {
   "cell_type": "code",
   "execution_count": 12,
   "metadata": {
    "execution": {
     "iopub.execute_input": "2021-05-14T02:17:09.316592Z",
     "iopub.status.busy": "2021-05-14T02:17:09.316446Z",
     "iopub.status.idle": "2021-05-14T02:17:09.355550Z",
     "shell.execute_reply": "2021-05-14T02:17:09.355110Z",
     "shell.execute_reply.started": "2021-05-14T02:17:09.316571Z"
    },
    "tags": []
   },
   "outputs": [
    {
     "data": {
      "text/plain": [
       "StandardScaler()"
      ]
     },
     "execution_count": 12,
     "metadata": {},
     "output_type": "execute_result"
    }
   ],
   "source": [
    "scaler.fit(X_train)"
   ]
  },
  {
   "cell_type": "code",
   "execution_count": 13,
   "metadata": {
    "execution": {
     "iopub.execute_input": "2021-05-14T02:17:09.356316Z",
     "iopub.status.busy": "2021-05-14T02:17:09.356178Z",
     "iopub.status.idle": "2021-05-14T02:17:09.373480Z",
     "shell.execute_reply": "2021-05-14T02:17:09.373002Z",
     "shell.execute_reply.started": "2021-05-14T02:17:09.356298Z"
    },
    "tags": []
   },
   "outputs": [],
   "source": [
    "X_tr = scaler.transform(X_train)\n",
    "X_te = scaler.transform(X_test)"
   ]
  },
  {
   "cell_type": "markdown",
   "metadata": {},
   "source": [
    "# Logistic Regression"
   ]
  },
  {
   "cell_type": "code",
   "execution_count": 14,
   "metadata": {
    "execution": {
     "iopub.execute_input": "2021-05-14T02:17:09.374377Z",
     "iopub.status.busy": "2021-05-14T02:17:09.374222Z",
     "iopub.status.idle": "2021-05-14T02:17:09.400368Z",
     "shell.execute_reply": "2021-05-14T02:17:09.399890Z",
     "shell.execute_reply.started": "2021-05-14T02:17:09.374354Z"
    },
    "tags": []
   },
   "outputs": [],
   "source": [
    "log_reg = LogisticRegression(max_iter = 200)"
   ]
  },
  {
   "cell_type": "code",
   "execution_count": 15,
   "metadata": {
    "execution": {
     "iopub.execute_input": "2021-05-14T02:17:09.401227Z",
     "iopub.status.busy": "2021-05-14T02:17:09.401082Z",
     "iopub.status.idle": "2021-05-14T02:17:10.079027Z",
     "shell.execute_reply": "2021-05-14T02:17:10.078614Z",
     "shell.execute_reply.started": "2021-05-14T02:17:09.401204Z"
    },
    "tags": []
   },
   "outputs": [
    {
     "data": {
      "text/plain": [
       "LogisticRegression(max_iter=200)"
      ]
     },
     "execution_count": 15,
     "metadata": {},
     "output_type": "execute_result"
    }
   ],
   "source": [
    "log_reg.fit(X_tr, y_train)"
   ]
  },
  {
   "cell_type": "code",
   "execution_count": 16,
   "metadata": {
    "execution": {
     "iopub.execute_input": "2021-05-14T02:17:10.079897Z",
     "iopub.status.busy": "2021-05-14T02:17:10.079763Z",
     "iopub.status.idle": "2021-05-14T02:17:10.229923Z",
     "shell.execute_reply": "2021-05-14T02:17:10.229573Z",
     "shell.execute_reply.started": "2021-05-14T02:17:10.079879Z"
    },
    "tags": []
   },
   "outputs": [
    {
     "data": {
      "text/plain": [
       "[<matplotlib.lines.Line2D at 0x7fefe3dcb7f0>]"
      ]
     },
     "execution_count": 16,
     "metadata": {},
     "output_type": "execute_result"
    },
    {
     "data": {
      "image/png": "[encoded data removed]",
      "text/plain": [
       "<Figure size 432x288 with 1 Axes>"
      ]
     },
     "metadata": {
      "needs_background": "light"
     },
     "output_type": "display_data"
    }
   ],
   "source": [
    "plt.plot(log_reg.predict(X_te))"
   ]
  },
  {
   "cell_type": "markdown",
   "metadata": {
    "execution": {
     "iopub.execute_input": "2021-05-14T00:18:04.086493Z",
     "iopub.status.busy": "2021-05-14T00:18:04.086337Z",
     "iopub.status.idle": "2021-05-14T00:18:04.089159Z",
     "shell.execute_reply": "2021-05-14T00:18:04.088228Z",
     "shell.execute_reply.started": "2021-05-14T00:18:04.086477Z"
    }
   },
   "source": [
    "# KNeighborsClassifier"
   ]
  },
  {
   "cell_type": "code",
   "execution_count": 17,
   "metadata": {
    "execution": {
     "iopub.execute_input": "2021-05-14T02:17:10.230636Z",
     "iopub.status.busy": "2021-05-14T02:17:10.230523Z",
     "iopub.status.idle": "2021-05-14T02:17:10.232801Z",
     "shell.execute_reply": "2021-05-14T02:17:10.232387Z",
     "shell.execute_reply.started": "2021-05-14T02:17:10.230621Z"
    }
   },
   "outputs": [],
   "source": [
    "knn = KNeighborsClassifier()"
   ]
  },
  {
   "cell_type": "code",
   "execution_count": 18,
   "metadata": {
    "execution": {
     "iopub.execute_input": "2021-05-14T02:17:10.233623Z",
     "iopub.status.busy": "2021-05-14T02:17:10.233509Z",
     "iopub.status.idle": "2021-05-14T02:17:10.261566Z",
     "shell.execute_reply": "2021-05-14T02:17:10.261051Z",
     "shell.execute_reply.started": "2021-05-14T02:17:10.233608Z"
    },
    "tags": []
   },
   "outputs": [
    {
     "data": {
      "text/plain": [
       "KNeighborsClassifier()"
      ]
     },
     "execution_count": 18,
     "metadata": {},
     "output_type": "execute_result"
    }
   ],
   "source": [
    "knn.fit(X_tr, y_train)"
   ]
  },
  {
   "cell_type": "code",
   "execution_count": 19,
   "metadata": {
    "execution": {
     "iopub.execute_input": "2021-05-14T02:17:10.262553Z",
     "iopub.status.busy": "2021-05-14T02:17:10.262381Z",
     "iopub.status.idle": "2021-05-14T02:17:12.735155Z",
     "shell.execute_reply": "2021-05-14T02:17:12.734684Z",
     "shell.execute_reply.started": "2021-05-14T02:17:10.262534Z"
    }
   },
   "outputs": [
    {
     "data": {
      "text/plain": [
       "[<matplotlib.lines.Line2D at 0x7fefe3ce5580>]"
      ]
     },
     "execution_count": 19,
     "metadata": {},
     "output_type": "execute_result"
    },
    {
     "data": {
      "image/png": "[encoded data removed]",
      "text/plain": [
       "<Figure size 432x288 with 1 Axes>"
      ]
     },
     "metadata": {
      "needs_background": "light"
     },
     "output_type": "display_data"
    }
   ],
   "source": [
    "plt.plot(knn.predict(X_te))"
   ]
  },
  {
   "cell_type": "markdown",
   "metadata": {
    "execution": {
     "iopub.execute_input": "2021-05-14T00:19:31.727168Z",
     "iopub.status.busy": "2021-05-14T00:19:31.727013Z",
     "iopub.status.idle": "2021-05-14T00:19:31.729216Z",
     "shell.execute_reply": "2021-05-14T00:19:31.728815Z",
     "shell.execute_reply.started": "2021-05-14T00:19:31.727151Z"
    }
   },
   "source": [
    "# Random Forest"
   ]
  },
  {
   "cell_type": "code",
   "execution_count": 20,
   "metadata": {
    "execution": {
     "iopub.execute_input": "2021-05-14T02:17:12.736252Z",
     "iopub.status.busy": "2021-05-14T02:17:12.736073Z",
     "iopub.status.idle": "2021-05-14T02:17:12.738795Z",
     "shell.execute_reply": "2021-05-14T02:17:12.738314Z",
     "shell.execute_reply.started": "2021-05-14T02:17:12.736227Z"
    }
   },
   "outputs": [],
   "source": [
    "rf = RandomForestClassifier()"
   ]
  },
  {
   "cell_type": "code",
   "execution_count": 21,
   "metadata": {
    "execution": {
     "iopub.execute_input": "2021-05-14T02:17:12.739792Z",
     "iopub.status.busy": "2021-05-14T02:17:12.739602Z",
     "iopub.status.idle": "2021-05-14T02:17:15.483458Z",
     "shell.execute_reply": "2021-05-14T02:17:15.483090Z",
     "shell.execute_reply.started": "2021-05-14T02:17:12.739768Z"
    },
    "tags": []
   },
   "outputs": [
    {
     "data": {
      "text/plain": [
       "RandomForestClassifier()"
      ]
     },
     "execution_count": 21,
     "metadata": {},
     "output_type": "execute_result"
    }
   ],
   "source": [
    "rf.fit(X_tr, y_train)"
   ]
  },
  {
   "cell_type": "code",
   "execution_count": 22,
   "metadata": {
    "execution": {
     "iopub.execute_input": "2021-05-14T02:17:15.486234Z",
     "iopub.status.busy": "2021-05-14T02:17:15.486032Z",
     "iopub.status.idle": "2021-05-14T02:17:15.704719Z",
     "shell.execute_reply": "2021-05-14T02:17:15.704287Z",
     "shell.execute_reply.started": "2021-05-14T02:17:15.486206Z"
    },
    "tags": []
   },
   "outputs": [
    {
     "data": {
      "text/plain": [
       "[<matplotlib.lines.Line2D at 0x7fefe3c0d040>]"
      ]
     },
     "execution_count": 22,
     "metadata": {},
     "output_type": "execute_result"
    },
    {
     "data": {
      "image/png": "[encoded data removed]",
      "text/plain": [
       "<Figure size 432x288 with 1 Axes>"
      ]
     },
     "metadata": {
      "needs_background": "light"
     },
     "output_type": "display_data"
    }
   ],
   "source": [
    "plt.plot(rf.predict(X_te))"
   ]
  },
  {
   "cell_type": "code",
   "execution_count": 23,
   "metadata": {
    "execution": {
     "iopub.execute_input": "2021-05-14T02:17:15.706213Z",
     "iopub.status.busy": "2021-05-14T02:17:15.706059Z",
     "iopub.status.idle": "2021-05-14T02:17:15.708542Z",
     "shell.execute_reply": "2021-05-14T02:17:15.707996Z",
     "shell.execute_reply.started": "2021-05-14T02:17:15.706197Z"
    }
   },
   "outputs": [],
   "source": [
    "rc = RidgeClassifier()"
   ]
  },
  {
   "cell_type": "code",
   "execution_count": 24,
   "metadata": {
    "execution": {
     "iopub.execute_input": "2021-05-14T02:17:15.709796Z",
     "iopub.status.busy": "2021-05-14T02:17:15.709521Z",
     "iopub.status.idle": "2021-05-14T02:17:15.809135Z",
     "shell.execute_reply": "2021-05-14T02:17:15.808586Z",
     "shell.execute_reply.started": "2021-05-14T02:17:15.709751Z"
    }
   },
   "outputs": [
    {
     "data": {
      "text/plain": [
       "RidgeClassifier()"
      ]
     },
     "execution_count": 24,
     "metadata": {},
     "output_type": "execute_result"
    }
   ],
   "source": [
    "rc.fit(X_tr, y_train)"
   ]
  },
  {
   "cell_type": "code",
   "execution_count": 25,
   "metadata": {
    "execution": {
     "iopub.execute_input": "2021-05-14T02:17:15.810394Z",
     "iopub.status.busy": "2021-05-14T02:17:15.810178Z",
     "iopub.status.idle": "2021-05-14T02:17:15.956702Z",
     "shell.execute_reply": "2021-05-14T02:17:15.956311Z",
     "shell.execute_reply.started": "2021-05-14T02:17:15.810365Z"
    }
   },
   "outputs": [
    {
     "data": {
      "text/plain": [
       "[<matplotlib.lines.Line2D at 0x7fefe3bf3eb0>]"
      ]
     },
     "execution_count": 25,
     "metadata": {},
     "output_type": "execute_result"
    },
    {
     "data": {
      "image/png": "[encoded data removed]",
      "text/plain": [
       "<Figure size 432x288 with 1 Axes>"
      ]
     },
     "metadata": {
      "needs_background": "light"
     },
     "output_type": "display_data"
    }
   ],
   "source": [
    "plt.plot(rc.predict(X_te))"
   ]
  },
  {
   "cell_type": "markdown",
   "metadata": {},
   "source": [
    "# Initial Model Metrics"
   ]
  },
  {
   "cell_type": "code",
   "execution_count": 26,
   "metadata": {
    "execution": {
     "iopub.execute_input": "2021-05-14T02:17:15.957511Z",
     "iopub.status.busy": "2021-05-14T02:17:15.957338Z",
     "iopub.status.idle": "2021-05-14T02:17:15.959599Z",
     "shell.execute_reply": "2021-05-14T02:17:15.959222Z",
     "shell.execute_reply.started": "2021-05-14T02:17:15.957495Z"
    },
    "tags": []
   },
   "outputs": [],
   "source": [
    "models = [log_reg, knn, rf, rc]"
   ]
  },
  {
   "cell_type": "code",
   "execution_count": 27,
   "metadata": {
    "execution": {
     "iopub.execute_input": "2021-05-14T02:17:15.960452Z",
     "iopub.status.busy": "2021-05-14T02:17:15.960331Z",
     "iopub.status.idle": "2021-05-14T02:17:19.995888Z",
     "shell.execute_reply": "2021-05-14T02:17:19.995319Z",
     "shell.execute_reply.started": "2021-05-14T02:17:15.960437Z"
    }
   },
   "outputs": [
    {
     "name": "stdout",
     "output_type": "stream",
     "text": [
      "LogisticRegression(max_iter=200) [-0.80451128 -0.77443609 -0.76817043 -0.76441103 -0.79197995]\n",
      "KNeighborsClassifier() [-0.78571429 -0.79072682 -0.79072682 -0.75689223 -0.79949875]\n",
      "RandomForestClassifier() [-0.71052632 -0.74686717 -0.76441103 -0.77944862 -0.74937343]\n",
      "RidgeClassifier() [-0.80576441 -0.76942356 -0.79072682 -0.76942356 -0.79448622]\n"
     ]
    }
   ],
   "source": [
    "for i, model in enumerate(models):\n",
    "    cv_results = cross_validate(model, X_te, y_test, scoring='neg_mean_absolute_error', cv=5, n_jobs=-1)\n",
    "    print(model, cv_results['test_score'])"
   ]
  },
  {
   "cell_type": "code",
   "execution_count": 28,
   "metadata": {
    "execution": {
     "iopub.execute_input": "2021-05-14T02:17:19.997397Z",
     "iopub.status.busy": "2021-05-14T02:17:19.997197Z",
     "iopub.status.idle": "2021-05-14T02:17:22.536227Z",
     "shell.execute_reply": "2021-05-14T02:17:22.535712Z",
     "shell.execute_reply.started": "2021-05-14T02:17:19.997371Z"
    },
    "tags": []
   },
   "outputs": [
    {
     "name": "stdout",
     "output_type": "stream",
     "text": [
      "LogisticRegression(max_iter=200) 0.47468671679197993\n",
      "KNeighborsClassifier() 0.4421052631578947\n",
      "RandomForestClassifier() 0.47769423558897245\n",
      "RidgeClassifier() 0.47468671679197993\n"
     ]
    }
   ],
   "source": [
    "for i, model in enumerate(models):\n",
    "    print(model, model.score(X_te, y_test))"
   ]
  },
  {
   "cell_type": "code",
   "execution_count": 29,
   "metadata": {
    "execution": {
     "iopub.execute_input": "2021-05-14T02:17:22.537074Z",
     "iopub.status.busy": "2021-05-14T02:17:22.536938Z",
     "iopub.status.idle": "2021-05-14T02:17:22.540481Z",
     "shell.execute_reply": "2021-05-14T02:17:22.540151Z",
     "shell.execute_reply.started": "2021-05-14T02:17:22.537056Z"
    },
    "tags": []
   },
   "outputs": [
    {
     "name": "stdout",
     "output_type": "stream",
     "text": [
      "LogisticRegression(max_iter=200) {'C': 1.0, 'class_weight': None, 'dual': False, 'fit_intercept': True, 'intercept_scaling': 1, 'l1_ratio': None, 'max_iter': 200, 'multi_class': 'auto', 'n_jobs': None, 'penalty': 'l2', 'random_state': None, 'solver': 'lbfgs', 'tol': 0.0001, 'verbose': 0, 'warm_start': False}\n",
      "KNeighborsClassifier() {'algorithm': 'auto', 'leaf_size': 30, 'metric': 'minkowski', 'metric_params': None, 'n_jobs': None, 'n_neighbors': 5, 'p': 2, 'weights': 'uniform'}\n",
      "RandomForestClassifier() {'bootstrap': True, 'ccp_alpha': 0.0, 'class_weight': None, 'criterion': 'gini', 'max_depth': None, 'max_features': 'auto', 'max_leaf_nodes': None, 'max_samples': None, 'min_impurity_decrease': 0.0, 'min_impurity_split': None, 'min_samples_leaf': 1, 'min_samples_split': 2, 'min_weight_fraction_leaf': 0.0, 'n_estimators': 100, 'n_jobs': None, 'oob_score': False, 'random_state': None, 'verbose': 0, 'warm_start': False}\n",
      "RidgeClassifier() {'alpha': 1.0, 'class_weight': None, 'copy_X': True, 'fit_intercept': True, 'max_iter': None, 'normalize': False, 'random_state': None, 'solver': 'auto', 'tol': 0.001}\n"
     ]
    }
   ],
   "source": [
    "for i, model in enumerate(models):\n",
    "    print(model, model.get_params())"
   ]
  },
  {
   "cell_type": "code",
   "execution_count": 30,
   "metadata": {
    "execution": {
     "iopub.execute_input": "2021-05-14T02:17:23.620596Z",
     "iopub.status.busy": "2021-05-14T02:17:23.620409Z",
     "iopub.status.idle": "2021-05-14T02:17:41.618601Z",
     "shell.execute_reply": "2021-05-14T02:17:41.618125Z",
     "shell.execute_reply.started": "2021-05-14T02:17:23.620571Z"
    },
    "tags": []
   },
   "outputs": [
    {
     "name": "stdout",
     "output_type": "stream",
     "text": [
      "LogisticRegression(max_iter=200) -1.273769920310102 0.017022716625906615\n",
      "KNeighborsClassifier() -1.186851946016111 0.016799640002049164\n",
      "RandomForestClassifier() -1.1834059509716952 0.034602592154350714\n",
      "RidgeClassifier() -1.2742006624760258 0.012707238064775202\n"
     ]
    }
   ],
   "source": [
    "for i, model in enumerate(models):\n",
    "    cv_results = cross_val_score(model, X_tr, y_train, scoring='neg_mean_squared_error')\n",
    "    print(model, cv_results.mean(), cv_results.std())"
   ]
  },
  {
   "cell_type": "markdown",
   "metadata": {},
   "source": [
    "# Hyperparameter Tuning"
   ]
  },
  {
   "cell_type": "code",
   "execution_count": 31,
   "metadata": {
    "execution": {
     "iopub.execute_input": "2021-05-14T02:14:32.014809Z",
     "iopub.status.busy": "2021-05-14T02:14:32.014668Z",
     "iopub.status.idle": "2021-05-14T02:14:32.018407Z",
     "shell.execute_reply": "2021-05-14T02:14:32.018002Z",
     "shell.execute_reply.started": "2021-05-14T02:14:32.014791Z"
    },
    "tags": []
   },
   "outputs": [
    {
     "name": "stdout",
     "output_type": "stream",
     "text": [
      "{0: {}, 1: {'n_neighbors': [1, 5, 10, 20, 50, 100, 200], 'weights': ['uniform', 'distance'], 'leaf_size': [5, 10, 20, 30, 50], 'p': [1, 2], 'n_jobs': [-1]}, 2: {'n_estimators': [20, 50, 100, 200], 'n_jobs': [-1]}, 3: {}}\n"
     ]
    }
   ],
   "source": [
    "param_search = {}\n",
    "param_search[0] = {}\n",
    "param_search[1] = {'n_neighbors' : [1, 5, 10, 20, 50, 100, 200], 'weights' : ['uniform', 'distance'], \n",
    "                       'leaf_size' : [5, 10, 20, 30, 50], 'p' : [1,2] ,'n_jobs' :[-1]}\n",
    "param_search[2] = {'n_estimators' : [20, 50, 100, 200], 'n_jobs' : [-1]}\n",
    "param_search[3] = {}\n",
    "tuned_results = []\n",
    "tuned_best_score = []\n",
    "tuned_best_estimator = []\n",
    "print(param_search)"
   ]
  },
  {
   "cell_type": "code",
   "execution_count": null,
   "metadata": {
    "execution": {
     "iopub.execute_input": "2021-05-14T02:14:32.019169Z",
     "iopub.status.busy": "2021-05-14T02:14:32.018994Z"
    },
    "tags": []
   },
   "outputs": [
    {
     "name": "stderr",
     "output_type": "stream",
     "text": [
      "/home/mitch/.local/lib/python3.9/site-packages/sklearn/linear_model/_logistic.py:763: ConvergenceWarning: lbfgs failed to converge (status=1):\n",
      "STOP: TOTAL NO. of ITERATIONS REACHED LIMIT.\n",
      "\n",
      "Increase the number of iterations (max_iter) or scale the data as shown in:\n",
      "    https://scikit-learn.org/stable/modules/preprocessing.html\n",
      "Please also refer to the documentation for alternative solver options:\n",
      "    https://scikit-learn.org/stable/modules/linear_model.html#logistic-regression\n",
      "  n_iter_i = _check_optimize_result(\n",
      "/home/mitch/.local/lib/python3.9/site-packages/sklearn/linear_model/_logistic.py:763: ConvergenceWarning: lbfgs failed to converge (status=1):\n",
      "STOP: TOTAL NO. of ITERATIONS REACHED LIMIT.\n",
      "\n",
      "Increase the number of iterations (max_iter) or scale the data as shown in:\n",
      "    https://scikit-learn.org/stable/modules/preprocessing.html\n",
      "Please also refer to the documentation for alternative solver options:\n",
      "    https://scikit-learn.org/stable/modules/linear_model.html#logistic-regression\n",
      "  n_iter_i = _check_optimize_result(\n",
      "/home/mitch/.local/lib/python3.9/site-packages/sklearn/linear_model/_logistic.py:763: ConvergenceWarning: lbfgs failed to converge (status=1):\n",
      "STOP: TOTAL NO. of ITERATIONS REACHED LIMIT.\n",
      "\n",
      "Increase the number of iterations (max_iter) or scale the data as shown in:\n",
      "    https://scikit-learn.org/stable/modules/preprocessing.html\n",
      "Please also refer to the documentation for alternative solver options:\n",
      "    https://scikit-learn.org/stable/modules/linear_model.html#logistic-regression\n",
      "  n_iter_i = _check_optimize_result(\n",
      "/home/mitch/.local/lib/python3.9/site-packages/sklearn/linear_model/_logistic.py:763: ConvergenceWarning: lbfgs failed to converge (status=1):\n",
      "STOP: TOTAL NO. of ITERATIONS REACHED LIMIT.\n",
      "\n",
      "Increase the number of iterations (max_iter) or scale the data as shown in:\n",
      "    https://scikit-learn.org/stable/modules/preprocessing.html\n",
      "Please also refer to the documentation for alternative solver options:\n",
      "    https://scikit-learn.org/stable/modules/linear_model.html#logistic-regression\n",
      "  n_iter_i = _check_optimize_result(\n",
      "/home/mitch/.local/lib/python3.9/site-packages/sklearn/linear_model/_logistic.py:763: ConvergenceWarning: lbfgs failed to converge (status=1):\n",
      "STOP: TOTAL NO. of ITERATIONS REACHED LIMIT.\n",
      "\n",
      "Increase the number of iterations (max_iter) or scale the data as shown in:\n",
      "    https://scikit-learn.org/stable/modules/preprocessing.html\n",
      "Please also refer to the documentation for alternative solver options:\n",
      "    https://scikit-learn.org/stable/modules/linear_model.html#logistic-regression\n",
      "  n_iter_i = _check_optimize_result(\n",
      "/home/mitch/.local/lib/python3.9/site-packages/sklearn/linear_model/_logistic.py:763: ConvergenceWarning: lbfgs failed to converge (status=1):\n",
      "STOP: TOTAL NO. of ITERATIONS REACHED LIMIT.\n",
      "\n",
      "Increase the number of iterations (max_iter) or scale the data as shown in:\n",
      "    https://scikit-learn.org/stable/modules/preprocessing.html\n",
      "Please also refer to the documentation for alternative solver options:\n",
      "    https://scikit-learn.org/stable/modules/linear_model.html#logistic-regression\n",
      "  n_iter_i = _check_optimize_result(\n"
     ]
    },
    {
     "name": "stdout",
     "output_type": "stream",
     "text": [
      "LogisticRegression() -1.27355492438781\n"
     ]
    }
   ],
   "source": [
    "for i, model in enumerate(models):\n",
    "    #if name != 'LR':\n",
    "    gsearch = GridSearchCV(estimator=model, param_grid = param_search[i], scoring = 'neg_mean_squared_error')\n",
    "    #if name != 'RFR':\n",
    "    gsearch.fit(X_tr, y_train)\n",
    "    #else :\n",
    "       # gsearch.fit(X_tr, y_train.values.ravel())\n",
    "    best_score = gsearch.best_score_\n",
    "    best_model = gsearch.best_estimator_\n",
    "    tuned_results.append(gsearch)\n",
    "    tuned_best_score.append(best_score)\n",
    "    tuned_best_estimator.append(best_model)\n",
    "    print(best_model, best_score)"
   ]
  },
  {
   "cell_type": "code",
   "execution_count": null,
   "metadata": {
    "tags": []
   },
   "outputs": [],
   "source": [
    "for model in tuned_best_estimator:\n",
    "    model.fit(X_tr, y_train)\n",
    "    plt.figure()\n",
    "    plt.plot(model.predict(X_te))\n",
    "    print(model)\n",
    "plt.show()"
   ]
  },
  {
   "cell_type": "code",
   "execution_count": null,
   "metadata": {},
   "outputs": [],
   "source": [
    "importance = rf.feature_importances_\n",
    "importance.sort()\n",
    "plt.bar([x for x in range(len(importance))], importance)\n",
    "plt.show()"
   ]
  },
  {
   "cell_type": "code",
   "execution_count": null,
   "metadata": {},
   "outputs": [],
   "source": []
  },
  {
   "cell_type": "code",
   "execution_count": null,
   "metadata": {},
   "outputs": [],
   "source": [
    "#Code task 18#\n",
    "#Call `pipe`'s `get_params()` method to get a dict of available parameters and print their names\n",
    "#using dict's `keys()` method\n",
    "#pipe.get_params().keys()"
   ]
  },
  {
   "cell_type": "markdown",
   "metadata": {},
   "source": [
    "The above can be particularly useful as your pipelines becomes more complex (you can even nest pipelines within pipelines)."
   ]
  },
  {
   "cell_type": "code",
   "execution_count": null,
   "metadata": {},
   "outputs": [],
   "source": [
    "#k = [k+1 for k in range(len(X_train.columns))]\n",
    "#grid_params = {'selectkbest__k': k}"
   ]
  },
  {
   "cell_type": "markdown",
   "metadata": {},
   "source": [
    "Now you have a range of `k` to investigate. Is 1 feature best? 2? 3? 4? All of them? You could write a for loop and iterate over each possible value, doing all the housekeeping oyurselves to track the best value of k. But this is  a common task so there's a built in function in `sklearn`. This is [`GridSearchCV`](https://scikit-learn.org/stable/modules/generated/sklearn.model_selection.GridSearchCV.html).\n",
    "This takes the pipeline object, in fact it takes anything with a `.fit()` and `.predict()` method. In simple cases with no feature selection or imputation or feature scaling etc. you may see the classifier or regressor object itself directly passed into `GridSearchCV`. The other key input is the parameters and values to search over. Optional parameters include the cross-validation strategy and number of CPUs to use."
   ]
  },
  {
   "cell_type": "code",
   "execution_count": null,
   "metadata": {},
   "outputs": [],
   "source": [
    "#lr_grid_cv = GridSearchCV(pipe, param_grid=grid_params, cv=5, n_jobs=-1)"
   ]
  },
  {
   "cell_type": "code",
   "execution_count": null,
   "metadata": {},
   "outputs": [],
   "source": [
    "#lr_grid_cv.fit(X_train, y_train)"
   ]
  },
  {
   "cell_type": "code",
   "execution_count": null,
   "metadata": {},
   "outputs": [],
   "source": [
    "#score_mean = lr_grid_cv.cv_results_['mean_test_score']\n",
    "#score_std = lr_grid_cv.cv_results_['std_test_score']\n",
    "#cv_k = [k for k in lr_grid_cv.cv_results_['param_selectkbest__k']]"
   ]
  },
  {
   "cell_type": "code",
   "execution_count": null,
   "metadata": {},
   "outputs": [],
   "source": [
    "#Code task 19#\n",
    "#Print the `best_params_` attribute of `lr_grid_cv`\n",
    "#lr_grid_cv.best_params_"
   ]
  },
  {
   "cell_type": "code",
   "execution_count": null,
   "metadata": {},
   "outputs": [],
   "source": [
    "#Code task 20#\n",
    "#Assign the value of k from the above dict of `best_params_` and assign it to `best_k`\n",
    "#best_k = lr_grid_cv.best_params_['selectkbest__k']\n",
    "#plt.subplots(figsize=(10, 5))\n",
    "#plt.errorbar(cv_k, score_mean, yerr=score_std)\n",
    "#plt.axvline(x=best_k, c='r', ls='--', alpha=.5)\n",
    "#plt.xlabel('k')\n",
    "#plt.ylabel('CV score (r-squared)')\n",
    "#plt.title('Pipeline mean CV score (error bars +/- 1sd)');"
   ]
  },
  {
   "cell_type": "markdown",
   "metadata": {},
   "source": [
    "The above suggests a good value for k is 8. There was an initial rapid increase with k, followed by a slow decline. Also noticeable is the variance of the results greatly increase above k=8. As you increasingly overfit, expect greater swings in performance as different points move in and out of the train/test folds."
   ]
  },
  {
   "cell_type": "markdown",
   "metadata": {},
   "source": [
    "Which features were most useful? Step into your best model, shown below. Starting with the fitted grid search object, you get the best estimator, then the named step 'selectkbest', for which you can its `get_support()` method for a logical mask of the features selected."
   ]
  },
  {
   "cell_type": "code",
   "execution_count": null,
   "metadata": {},
   "outputs": [],
   "source": [
    "#selected = lr_grid_cv.best_estimator_.named_steps.selectkbest.get_support()"
   ]
  },
  {
   "cell_type": "code",
   "execution_count": null,
   "metadata": {},
   "outputs": [],
   "source": [
    "plt.hist(df['match_winner'])"
   ]
  },
  {
   "cell_type": "code",
   "execution_count": null,
   "metadata": {
    "tags": []
   },
   "outputs": [],
   "source": [
    "from sklearn.metrics import confusion_matrix\n",
    "pl_list = []\n",
    "for model in tuned_best_estimator:\n",
    "    y_pred = model.predict(X_te)\n",
    "    pl_list.append(confusion_matrix(y_test,y_pred))"
   ]
  },
  {
   "cell_type": "code",
   "execution_count": null,
   "metadata": {},
   "outputs": [],
   "source": [
    "pl_list"
   ]
  },
  {
   "cell_type": "code",
   "execution_count": null,
   "metadata": {
    "tags": []
   },
   "outputs": [],
   "source": [
    "class_names=['1', '2', '3'] # name  of classes"
   ]
  },
  {
   "cell_type": "code",
   "execution_count": null,
   "metadata": {
    "tags": []
   },
   "outputs": [],
   "source": [
    "def plot_confusion_matrix(cm, classes ,\n",
    "                          normalize=False,\n",
    "                          title='Confusion matrix',\n",
    "                          cmap=plt.cm.Blues):\n",
    "    \"\"\"\n",
    "    This function prints and plots the confusion matrix.\n",
    "    Normalization can be applied by setting `normalize=True`.\n",
    "    \"\"\"\n",
    "    if normalize:\n",
    "        cm = cm.astype('float') / cm.sum(axis=1)[:, np.newaxis]\n",
    "        print(\"Normalized confusion matrix\")\n",
    "    else:\n",
    "        print('Confusion matrix, without normalization')\n",
    "\n",
    "    print(cm)\n",
    "    plt.figure()\n",
    "    plt.imshow(cm, interpolation='nearest', cmap=cmap)\n",
    "    plt.title(title)\n",
    "    plt.colorbar()\n",
    "    tick_marks = np.arange(len(classes))\n",
    "    plt.xticks(tick_marks, classes, rotation=45)\n",
    "    plt.yticks(tick_marks, classes)\n",
    "\n",
    "    fmt = '.2f' if normalize else 'd'\n",
    "    thresh = cm.max() / 2.\n",
    "    for i, j in itertools.product(range(cm.shape[0]), range(cm.shape[1])):\n",
    "        plt.text(j, i, format(cm[i, j], fmt),\n",
    "                 horizontalalignment=\"center\",\n",
    "                 color=\"white\" if cm[i, j] > thresh else \"black\")\n",
    "\n",
    "    plt.ylabel('True label')\n",
    "    plt.xlabel('Predicted label')\n",
    "    plt.tight_layout()\n"
   ]
  },
  {
   "cell_type": "code",
   "execution_count": null,
   "metadata": {
    "tags": []
   },
   "outputs": [],
   "source": [
    "for i, model in enumerate(tuned_best_estimator):\n",
    "    plot_confusion_matrix(pl_list[i], class_names)"
   ]
  },
  {
   "cell_type": "code",
   "execution_count": null,
   "metadata": {},
   "outputs": [],
   "source": []
  }
 ],
 "metadata": {
  "kernelspec": {
   "display_name": "Python 3",
   "language": "python",
   "name": "python3"
  },
  "language_info": {
   "codemirror_mode": {
    "name": "ipython",
    "version": 3
   },
   "file_extension": ".py",
   "mimetype": "text/x-python",
   "name": "python",
   "nbconvert_exporter": "python",
   "pygments_lexer": "ipython3",
   "version": "3.9.5"
  }
 },
 "nbformat": 4,
 "nbformat_minor": 4
}
