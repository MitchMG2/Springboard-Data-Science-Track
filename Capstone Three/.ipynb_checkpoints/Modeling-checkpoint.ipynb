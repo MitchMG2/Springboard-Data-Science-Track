{
 "cells": [
  {
   "cell_type": "markdown",
   "metadata": {},
   "source": [
    "### Imports"
   ]
  },
  {
   "cell_type": "code",
   "execution_count": 58,
   "metadata": {
    "execution": {
     "iopub.execute_input": "2021-05-14T00:27:20.570588Z",
     "iopub.status.busy": "2021-05-14T00:27:20.570424Z",
     "iopub.status.idle": "2021-05-14T00:27:20.575306Z",
     "shell.execute_reply": "2021-05-14T00:27:20.574237Z",
     "shell.execute_reply.started": "2021-05-14T00:27:20.570571Z"
    },
    "tags": []
   },
   "outputs": [],
   "source": [
    "import pandas as pd\n",
    "import numpy as np\n",
    "import os\n",
    "import pickle\n",
    "import matplotlib.pyplot as plt\n",
    "import seaborn as sns\n",
    "from sklearn import __version__ as sklearn_version\n",
    "from sklearn.decomposition import PCA\n",
    "from sklearn.preprocessing import scale\n",
    "from sklearn.model_selection import train_test_split, cross_validate, GridSearchCV, learning_curve, cross_val_score\n",
    "from sklearn.preprocessing import StandardScaler, MinMaxScaler\n",
    "from sklearn.dummy import DummyRegressor\n",
    "from sklearn.ensemble import RandomForestClassifier\n",
    "from sklearn.metrics import r2_score, mean_squared_error, mean_absolute_error\n",
    "from sklearn.pipeline import make_pipeline, Pipeline\n",
    "from sklearn.impute import SimpleImputer\n",
    "from sklearn.feature_selection import SelectKBest, f_regression\n",
    "from sklearn.svm import SVC\n",
    "from sklearn.linear_model import RidgeClassifier, LogisticRegression\n",
    "from sklearn.neighbors import KNeighborsClassifier\n",
    "import datetime"
   ]
  },
  {
   "cell_type": "code",
   "execution_count": 2,
   "metadata": {
    "execution": {
     "iopub.execute_input": "2021-05-14T00:13:44.674919Z",
     "iopub.status.busy": "2021-05-14T00:13:44.674788Z",
     "iopub.status.idle": "2021-05-14T00:13:44.761010Z",
     "shell.execute_reply": "2021-05-14T00:13:44.760622Z",
     "shell.execute_reply.started": "2021-05-14T00:13:44.674902Z"
    },
    "tags": []
   },
   "outputs": [],
   "source": [
    "df = pd.read_csv('data/Final_merged_dataset_clean.csv')"
   ]
  },
  {
   "cell_type": "code",
   "execution_count": 3,
   "metadata": {
    "execution": {
     "iopub.execute_input": "2021-05-14T00:13:44.761757Z",
     "iopub.status.busy": "2021-05-14T00:13:44.761644Z",
     "iopub.status.idle": "2021-05-14T00:13:44.788936Z",
     "shell.execute_reply": "2021-05-14T00:13:44.788476Z",
     "shell.execute_reply.started": "2021-05-14T00:13:44.761742Z"
    },
    "tags": []
   },
   "outputs": [
    {
     "data": {
      "text/html": [
       "<div>\n",
       "<style scoped>\n",
       "    .dataframe tbody tr th:only-of-type {\n",
       "        vertical-align: middle;\n",
       "    }\n",
       "\n",
       "    .dataframe tbody tr th {\n",
       "        vertical-align: top;\n",
       "    }\n",
       "\n",
       "    .dataframe thead th {\n",
       "        text-align: right;\n",
       "    }\n",
       "</style>\n",
       "<table border=\"1\" class=\"dataframe\">\n",
       "  <thead>\n",
       "    <tr style=\"text-align: right;\">\n",
       "      <th></th>\n",
       "      <th>id</th>\n",
       "      <th>home_team_api_id</th>\n",
       "      <th>away_team_api_id</th>\n",
       "      <th>crossing_h</th>\n",
       "      <th>finishing_h</th>\n",
       "      <th>heading_accuracy_h</th>\n",
       "      <th>short_passing_h</th>\n",
       "      <th>volleys_h</th>\n",
       "      <th>dribbling_h</th>\n",
       "      <th>curve_h</th>\n",
       "      <th>...</th>\n",
       "      <th>defenceAggression_h</th>\n",
       "      <th>defenceTeamWidth_h</th>\n",
       "      <th>buildUpPlaySpeed_a</th>\n",
       "      <th>buildUpPlayPassing_a</th>\n",
       "      <th>chanceCreationPassing_a</th>\n",
       "      <th>chanceCreationCrossing_a</th>\n",
       "      <th>chanceCreationShooting_a</th>\n",
       "      <th>defencePressure_a</th>\n",
       "      <th>defenceAggression_a</th>\n",
       "      <th>defenceTeamWidth_a</th>\n",
       "    </tr>\n",
       "  </thead>\n",
       "  <tbody>\n",
       "    <tr>\n",
       "      <th>0</th>\n",
       "      <td>1729</td>\n",
       "      <td>10260</td>\n",
       "      <td>10261</td>\n",
       "      <td>81.0</td>\n",
       "      <td>72.0</td>\n",
       "      <td>81.0</td>\n",
       "      <td>81.0</td>\n",
       "      <td>79.0</td>\n",
       "      <td>79.0</td>\n",
       "      <td>79.0</td>\n",
       "      <td>...</td>\n",
       "      <td>48.000000</td>\n",
       "      <td>54.833333</td>\n",
       "      <td>58.166667</td>\n",
       "      <td>55.333333</td>\n",
       "      <td>53.500000</td>\n",
       "      <td>57.333333</td>\n",
       "      <td>49.833333</td>\n",
       "      <td>46.666667</td>\n",
       "      <td>48.333333</td>\n",
       "      <td>48.333333</td>\n",
       "    </tr>\n",
       "    <tr>\n",
       "      <th>1</th>\n",
       "      <td>1730</td>\n",
       "      <td>9825</td>\n",
       "      <td>8659</td>\n",
       "      <td>77.0</td>\n",
       "      <td>80.0</td>\n",
       "      <td>90.0</td>\n",
       "      <td>88.0</td>\n",
       "      <td>79.0</td>\n",
       "      <td>79.0</td>\n",
       "      <td>80.0</td>\n",
       "      <td>...</td>\n",
       "      <td>46.500000</td>\n",
       "      <td>50.500000</td>\n",
       "      <td>57.500000</td>\n",
       "      <td>51.500000</td>\n",
       "      <td>53.000000</td>\n",
       "      <td>56.000000</td>\n",
       "      <td>54.666667</td>\n",
       "      <td>43.000000</td>\n",
       "      <td>45.666667</td>\n",
       "      <td>54.833333</td>\n",
       "    </tr>\n",
       "    <tr>\n",
       "      <th>2</th>\n",
       "      <td>1731</td>\n",
       "      <td>8472</td>\n",
       "      <td>8650</td>\n",
       "      <td>79.0</td>\n",
       "      <td>66.0</td>\n",
       "      <td>78.0</td>\n",
       "      <td>82.0</td>\n",
       "      <td>69.0</td>\n",
       "      <td>80.0</td>\n",
       "      <td>78.0</td>\n",
       "      <td>...</td>\n",
       "      <td>52.166667</td>\n",
       "      <td>51.833333</td>\n",
       "      <td>57.666667</td>\n",
       "      <td>44.333333</td>\n",
       "      <td>41.333333</td>\n",
       "      <td>47.833333</td>\n",
       "      <td>57.333333</td>\n",
       "      <td>51.000000</td>\n",
       "      <td>52.500000</td>\n",
       "      <td>56.000000</td>\n",
       "    </tr>\n",
       "    <tr>\n",
       "      <th>3</th>\n",
       "      <td>1732</td>\n",
       "      <td>8654</td>\n",
       "      <td>8528</td>\n",
       "      <td>81.0</td>\n",
       "      <td>71.0</td>\n",
       "      <td>77.0</td>\n",
       "      <td>87.0</td>\n",
       "      <td>69.0</td>\n",
       "      <td>81.0</td>\n",
       "      <td>80.0</td>\n",
       "      <td>...</td>\n",
       "      <td>42.833333</td>\n",
       "      <td>40.166667</td>\n",
       "      <td>47.166667</td>\n",
       "      <td>50.666667</td>\n",
       "      <td>52.666667</td>\n",
       "      <td>55.500000</td>\n",
       "      <td>45.500000</td>\n",
       "      <td>50.000000</td>\n",
       "      <td>54.000000</td>\n",
       "      <td>46.000000</td>\n",
       "    </tr>\n",
       "    <tr>\n",
       "      <th>4</th>\n",
       "      <td>1734</td>\n",
       "      <td>8668</td>\n",
       "      <td>8655</td>\n",
       "      <td>74.0</td>\n",
       "      <td>80.0</td>\n",
       "      <td>74.0</td>\n",
       "      <td>83.0</td>\n",
       "      <td>77.0</td>\n",
       "      <td>80.0</td>\n",
       "      <td>78.0</td>\n",
       "      <td>...</td>\n",
       "      <td>57.500000</td>\n",
       "      <td>56.333333</td>\n",
       "      <td>52.500000</td>\n",
       "      <td>63.833333</td>\n",
       "      <td>57.000000</td>\n",
       "      <td>56.000000</td>\n",
       "      <td>42.000000</td>\n",
       "      <td>45.666667</td>\n",
       "      <td>55.000000</td>\n",
       "      <td>46.666667</td>\n",
       "    </tr>\n",
       "  </tbody>\n",
       "</table>\n",
       "<p>5 rows × 96 columns</p>\n",
       "</div>"
      ],
      "text/plain": [
       "     id  home_team_api_id  away_team_api_id  crossing_h  finishing_h  \\\n",
       "0  1729             10260             10261        81.0         72.0   \n",
       "1  1730              9825              8659        77.0         80.0   \n",
       "2  1731              8472              8650        79.0         66.0   \n",
       "3  1732              8654              8528        81.0         71.0   \n",
       "4  1734              8668              8655        74.0         80.0   \n",
       "\n",
       "   heading_accuracy_h  short_passing_h  volleys_h  dribbling_h  curve_h  ...  \\\n",
       "0                81.0             81.0       79.0         79.0     79.0  ...   \n",
       "1                90.0             88.0       79.0         79.0     80.0  ...   \n",
       "2                78.0             82.0       69.0         80.0     78.0  ...   \n",
       "3                77.0             87.0       69.0         81.0     80.0  ...   \n",
       "4                74.0             83.0       77.0         80.0     78.0  ...   \n",
       "\n",
       "   defenceAggression_h  defenceTeamWidth_h  buildUpPlaySpeed_a  \\\n",
       "0            48.000000           54.833333           58.166667   \n",
       "1            46.500000           50.500000           57.500000   \n",
       "2            52.166667           51.833333           57.666667   \n",
       "3            42.833333           40.166667           47.166667   \n",
       "4            57.500000           56.333333           52.500000   \n",
       "\n",
       "   buildUpPlayPassing_a  chanceCreationPassing_a  chanceCreationCrossing_a  \\\n",
       "0             55.333333                53.500000                 57.333333   \n",
       "1             51.500000                53.000000                 56.000000   \n",
       "2             44.333333                41.333333                 47.833333   \n",
       "3             50.666667                52.666667                 55.500000   \n",
       "4             63.833333                57.000000                 56.000000   \n",
       "\n",
       "   chanceCreationShooting_a  defencePressure_a  defenceAggression_a  \\\n",
       "0                 49.833333          46.666667            48.333333   \n",
       "1                 54.666667          43.000000            45.666667   \n",
       "2                 57.333333          51.000000            52.500000   \n",
       "3                 45.500000          50.000000            54.000000   \n",
       "4                 42.000000          45.666667            55.000000   \n",
       "\n",
       "   defenceTeamWidth_a  \n",
       "0           48.333333  \n",
       "1           54.833333  \n",
       "2           56.000000  \n",
       "3           46.000000  \n",
       "4           46.666667  \n",
       "\n",
       "[5 rows x 96 columns]"
      ]
     },
     "execution_count": 3,
     "metadata": {},
     "output_type": "execute_result"
    }
   ],
   "source": [
    "df.head(5)"
   ]
  },
  {
   "cell_type": "code",
   "execution_count": 4,
   "metadata": {
    "execution": {
     "iopub.execute_input": "2021-05-14T00:13:44.790000Z",
     "iopub.status.busy": "2021-05-14T00:13:44.789775Z",
     "iopub.status.idle": "2021-05-14T00:13:44.803472Z",
     "shell.execute_reply": "2021-05-14T00:13:44.803101Z",
     "shell.execute_reply.started": "2021-05-14T00:13:44.789976Z"
    },
    "tags": []
   },
   "outputs": [],
   "source": [
    "X_train, X_test, y_train, y_test = train_test_split(df.drop(columns=['match_winner', 'id', 'home_team_api_id', 'away_team_api_id', 'fouls_h', 'fouls_a']), \n",
    "                                                    df.match_winner, test_size=0.3, \n",
    "                                                    random_state=47)"
   ]
  },
  {
   "cell_type": "code",
   "execution_count": 5,
   "metadata": {
    "execution": {
     "iopub.execute_input": "2021-05-14T00:13:44.804392Z",
     "iopub.status.busy": "2021-05-14T00:13:44.804209Z",
     "iopub.status.idle": "2021-05-14T00:13:44.820495Z",
     "shell.execute_reply": "2021-05-14T00:13:44.819972Z",
     "shell.execute_reply.started": "2021-05-14T00:13:44.804370Z"
    },
    "tags": []
   },
   "outputs": [
    {
     "data": {
      "text/plain": [
       "((9307, 90), (3990, 90))"
      ]
     },
     "execution_count": 5,
     "metadata": {},
     "output_type": "execute_result"
    }
   ],
   "source": [
    "X_train.shape, X_test.shape"
   ]
  },
  {
   "cell_type": "code",
   "execution_count": 6,
   "metadata": {
    "execution": {
     "iopub.execute_input": "2021-05-14T00:13:44.822875Z",
     "iopub.status.busy": "2021-05-14T00:13:44.822654Z",
     "iopub.status.idle": "2021-05-14T00:13:44.831484Z",
     "shell.execute_reply": "2021-05-14T00:13:44.831108Z",
     "shell.execute_reply.started": "2021-05-14T00:13:44.822846Z"
    },
    "tags": []
   },
   "outputs": [
    {
     "data": {
      "text/plain": [
       "((9307,), (3990,))"
      ]
     },
     "execution_count": 6,
     "metadata": {},
     "output_type": "execute_result"
    }
   ],
   "source": [
    "y_train.shape, y_test.shape"
   ]
  },
  {
   "cell_type": "code",
   "execution_count": 7,
   "metadata": {
    "execution": {
     "iopub.execute_input": "2021-05-14T00:13:44.832598Z",
     "iopub.status.busy": "2021-05-14T00:13:44.832464Z",
     "iopub.status.idle": "2021-05-14T00:13:44.846969Z",
     "shell.execute_reply": "2021-05-14T00:13:44.846248Z",
     "shell.execute_reply.started": "2021-05-14T00:13:44.832580Z"
    },
    "tags": []
   },
   "outputs": [
    {
     "data": {
      "text/plain": [
       "1.8189534758783712"
      ]
     },
     "execution_count": 7,
     "metadata": {},
     "output_type": "execute_result"
    }
   ],
   "source": [
    "train_mean = y_train.mean()\n",
    "train_mean"
   ]
  },
  {
   "cell_type": "markdown",
   "metadata": {},
   "source": [
    "Draw most likely outcome, though this could be influence by even distribution of wins and losses for home teams"
   ]
  },
  {
   "cell_type": "code",
   "execution_count": 8,
   "metadata": {
    "execution": {
     "iopub.execute_input": "2021-05-14T00:13:44.847866Z",
     "iopub.status.busy": "2021-05-14T00:13:44.847717Z",
     "iopub.status.idle": "2021-05-14T00:13:44.857875Z",
     "shell.execute_reply": "2021-05-14T00:13:44.857494Z",
     "shell.execute_reply.started": "2021-05-14T00:13:44.847850Z"
    },
    "tags": []
   },
   "outputs": [
    {
     "data": {
      "text/plain": [
       "array([[1.81895348]])"
      ]
     },
     "execution_count": 8,
     "metadata": {},
     "output_type": "execute_result"
    }
   ],
   "source": [
    "dumb_reg = DummyRegressor(strategy='mean')\n",
    "dumb_reg.fit(X_train, y_train)\n",
    "dumb_reg.constant_"
   ]
  },
  {
   "cell_type": "code",
   "execution_count": 9,
   "metadata": {
    "execution": {
     "iopub.execute_input": "2021-05-14T00:13:44.858669Z",
     "iopub.status.busy": "2021-05-14T00:13:44.858485Z",
     "iopub.status.idle": "2021-05-14T00:13:44.910475Z",
     "shell.execute_reply": "2021-05-14T00:13:44.909831Z",
     "shell.execute_reply.started": "2021-05-14T00:13:44.858653Z"
    },
    "tags": []
   },
   "outputs": [],
   "source": [
    "X_defaults_median = X_train.median()\n",
    "X_train = X_train.fillna(X_defaults_median)\n",
    "X_test = X_test.fillna(X_defaults_median)"
   ]
  },
  {
   "cell_type": "code",
   "execution_count": 10,
   "metadata": {
    "execution": {
     "iopub.execute_input": "2021-05-14T00:13:44.911342Z",
     "iopub.status.busy": "2021-05-14T00:13:44.911191Z",
     "iopub.status.idle": "2021-05-14T00:13:44.914076Z",
     "shell.execute_reply": "2021-05-14T00:13:44.913503Z",
     "shell.execute_reply.started": "2021-05-14T00:13:44.911321Z"
    },
    "tags": []
   },
   "outputs": [],
   "source": [
    "scaler = StandardScaler()"
   ]
  },
  {
   "cell_type": "code",
   "execution_count": 11,
   "metadata": {
    "execution": {
     "iopub.execute_input": "2021-05-14T00:13:44.914959Z",
     "iopub.status.busy": "2021-05-14T00:13:44.914812Z",
     "iopub.status.idle": "2021-05-14T00:13:44.934915Z",
     "shell.execute_reply": "2021-05-14T00:13:44.934329Z",
     "shell.execute_reply.started": "2021-05-14T00:13:44.914939Z"
    },
    "tags": []
   },
   "outputs": [],
   "source": [
    "svc = SVC()"
   ]
  },
  {
   "cell_type": "code",
   "execution_count": 12,
   "metadata": {
    "execution": {
     "iopub.execute_input": "2021-05-14T00:13:44.935890Z",
     "iopub.status.busy": "2021-05-14T00:13:44.935732Z",
     "iopub.status.idle": "2021-05-14T00:13:44.947864Z",
     "shell.execute_reply": "2021-05-14T00:13:44.947389Z",
     "shell.execute_reply.started": "2021-05-14T00:13:44.935868Z"
    },
    "tags": []
   },
   "outputs": [],
   "source": [
    "pca = PCA(n_components=20)"
   ]
  },
  {
   "cell_type": "code",
   "execution_count": 13,
   "metadata": {
    "execution": {
     "iopub.execute_input": "2021-05-14T00:13:44.948927Z",
     "iopub.status.busy": "2021-05-14T00:13:44.948699Z",
     "iopub.status.idle": "2021-05-14T00:13:44.978535Z",
     "shell.execute_reply": "2021-05-14T00:13:44.978091Z",
     "shell.execute_reply.started": "2021-05-14T00:13:44.948896Z"
    },
    "tags": []
   },
   "outputs": [
    {
     "data": {
      "text/plain": [
       "StandardScaler()"
      ]
     },
     "execution_count": 13,
     "metadata": {},
     "output_type": "execute_result"
    }
   ],
   "source": [
    "scaler.fit(X_train)"
   ]
  },
  {
   "cell_type": "code",
   "execution_count": 14,
   "metadata": {
    "execution": {
     "iopub.execute_input": "2021-05-14T00:13:44.979445Z",
     "iopub.status.busy": "2021-05-14T00:13:44.979294Z",
     "iopub.status.idle": "2021-05-14T00:13:44.993123Z",
     "shell.execute_reply": "2021-05-14T00:13:44.992655Z",
     "shell.execute_reply.started": "2021-05-14T00:13:44.979424Z"
    },
    "tags": []
   },
   "outputs": [],
   "source": [
    "X_tr = scaler.transform(X_train)\n",
    "X_te = scaler.transform(X_test)"
   ]
  },
  {
   "cell_type": "code",
   "execution_count": 44,
   "metadata": {
    "execution": {
     "iopub.execute_input": "2021-05-14T00:21:10.894718Z",
     "iopub.status.busy": "2021-05-14T00:21:10.894075Z",
     "iopub.status.idle": "2021-05-14T00:21:10.920564Z",
     "shell.execute_reply": "2021-05-14T00:21:10.919619Z",
     "shell.execute_reply.started": "2021-05-14T00:21:10.894642Z"
    },
    "tags": []
   },
   "outputs": [
    {
     "data": {
      "text/plain": [
       "array([[ 4.46944633, -1.31552458, -2.36541532, ..., -0.44965596,\n",
       "        -0.40173376,  0.41904779],\n",
       "       [ 2.39397707,  2.85037834,  0.88441721, ..., -1.472232  ,\n",
       "         0.19463067, -0.20139635],\n",
       "       [-4.05809927, -0.32851606, -0.66799607, ..., -0.61608692,\n",
       "        -0.29369024,  1.22481342],\n",
       "       ...,\n",
       "       [ 5.3959061 ,  2.01338314, -0.08767861, ..., -1.72992514,\n",
       "         1.00769539, -1.80755024],\n",
       "       [ 2.44414649, -2.03873908,  0.22168298, ..., -2.42906761,\n",
       "         2.12145172,  1.8145039 ],\n",
       "       [-6.31353761, -1.19933253,  3.20225393, ..., -0.86416466,\n",
       "        -0.34733266, -0.21928302]])"
      ]
     },
     "execution_count": 44,
     "metadata": {},
     "output_type": "execute_result"
    }
   ],
   "source": [
    "pca.fit(X_tr)"
   ]
  },
  {
   "cell_type": "code",
   "execution_count": 16,
   "metadata": {
    "execution": {
     "iopub.execute_input": "2021-05-14T00:13:45.230751Z",
     "iopub.status.busy": "2021-05-14T00:13:45.230547Z",
     "iopub.status.idle": "2021-05-14T00:13:45.263762Z",
     "shell.execute_reply": "2021-05-14T00:13:45.263324Z",
     "shell.execute_reply.started": "2021-05-14T00:13:45.230727Z"
    },
    "tags": []
   },
   "outputs": [],
   "source": [
    "X_tr = pca.transform(X_tr)\n",
    "X_te = pca.transform(X_te)"
   ]
  },
  {
   "cell_type": "markdown",
   "metadata": {},
   "source": [
    "# Logistic Regression"
   ]
  },
  {
   "cell_type": "code",
   "execution_count": 17,
   "metadata": {
    "execution": {
     "iopub.execute_input": "2021-05-14T00:13:45.264668Z",
     "iopub.status.busy": "2021-05-14T00:13:45.264537Z",
     "iopub.status.idle": "2021-05-14T00:13:45.266800Z",
     "shell.execute_reply": "2021-05-14T00:13:45.266388Z",
     "shell.execute_reply.started": "2021-05-14T00:13:45.264647Z"
    },
    "tags": []
   },
   "outputs": [],
   "source": [
    "log_reg = LogisticRegression(solver = 'lbfgs')"
   ]
  },
  {
   "cell_type": "code",
   "execution_count": 18,
   "metadata": {
    "execution": {
     "iopub.execute_input": "2021-05-14T00:13:45.267764Z",
     "iopub.status.busy": "2021-05-14T00:13:45.267590Z",
     "iopub.status.idle": "2021-05-14T00:13:45.331687Z",
     "shell.execute_reply": "2021-05-14T00:13:45.331107Z",
     "shell.execute_reply.started": "2021-05-14T00:13:45.267748Z"
    },
    "tags": []
   },
   "outputs": [
    {
     "data": {
      "text/plain": [
       "LogisticRegression()"
      ]
     },
     "execution_count": 18,
     "metadata": {},
     "output_type": "execute_result"
    }
   ],
   "source": [
    "log_reg.fit(X_tr, y_train)"
   ]
  },
  {
   "cell_type": "code",
   "execution_count": 30,
   "metadata": {
    "execution": {
     "iopub.execute_input": "2021-05-14T00:16:10.458652Z",
     "iopub.status.busy": "2021-05-14T00:16:10.458463Z",
     "iopub.status.idle": "2021-05-14T00:16:10.583212Z",
     "shell.execute_reply": "2021-05-14T00:16:10.582779Z",
     "shell.execute_reply.started": "2021-05-14T00:16:10.458630Z"
    },
    "tags": []
   },
   "outputs": [
    {
     "data": {
      "text/plain": [
       "[<matplotlib.lines.Line2D at 0x7ffa12140790>]"
      ]
     },
     "execution_count": 30,
     "metadata": {},
     "output_type": "execute_result"
    },
    {
     "data": {
      "image/png": "[encoded data removed]",
      "text/plain": [
       "<Figure size 432x288 with 1 Axes>"
      ]
     },
     "metadata": {
      "needs_background": "light"
     },
     "output_type": "display_data"
    }
   ],
   "source": [
    "plt.plot(log_reg.predict(X_te))"
   ]
  },
  {
   "cell_type": "markdown",
   "metadata": {
    "execution": {
     "iopub.execute_input": "2021-05-14T00:18:04.086493Z",
     "iopub.status.busy": "2021-05-14T00:18:04.086337Z",
     "iopub.status.idle": "2021-05-14T00:18:04.089159Z",
     "shell.execute_reply": "2021-05-14T00:18:04.088228Z",
     "shell.execute_reply.started": "2021-05-14T00:18:04.086477Z"
    }
   },
   "source": [
    "# KNeighborsClassifier"
   ]
  },
  {
   "cell_type": "code",
   "execution_count": 32,
   "metadata": {
    "execution": {
     "iopub.execute_input": "2021-05-14T00:18:22.249049Z",
     "iopub.status.busy": "2021-05-14T00:18:22.248811Z",
     "iopub.status.idle": "2021-05-14T00:18:22.252161Z",
     "shell.execute_reply": "2021-05-14T00:18:22.251361Z",
     "shell.execute_reply.started": "2021-05-14T00:18:22.249020Z"
    }
   },
   "outputs": [],
   "source": [
    "knn = KNeighborsClassifier()"
   ]
  },
  {
   "cell_type": "code",
   "execution_count": 43,
   "metadata": {
    "execution": {
     "iopub.execute_input": "2021-05-14T00:21:01.347427Z",
     "iopub.status.busy": "2021-05-14T00:21:01.346867Z",
     "iopub.status.idle": "2021-05-14T00:21:01.355912Z",
     "shell.execute_reply": "2021-05-14T00:21:01.355030Z",
     "shell.execute_reply.started": "2021-05-14T00:21:01.347362Z"
    },
    "tags": []
   },
   "outputs": [
    {
     "data": {
      "text/plain": [
       "KNeighborsClassifier()"
      ]
     },
     "execution_count": 43,
     "metadata": {},
     "output_type": "execute_result"
    }
   ],
   "source": [
    "knn.fit(X_tr, y_train)"
   ]
  },
  {
   "cell_type": "code",
   "execution_count": 34,
   "metadata": {
    "execution": {
     "iopub.execute_input": "2021-05-14T00:18:45.829341Z",
     "iopub.status.busy": "2021-05-14T00:18:45.829024Z",
     "iopub.status.idle": "2021-05-14T00:18:46.788014Z",
     "shell.execute_reply": "2021-05-14T00:18:46.787566Z",
     "shell.execute_reply.started": "2021-05-14T00:18:45.829306Z"
    }
   },
   "outputs": [
    {
     "data": {
      "text/plain": [
       "[<matplotlib.lines.Line2D at 0x7ffa10c73e80>]"
      ]
     },
     "execution_count": 34,
     "metadata": {},
     "output_type": "execute_result"
    },
    {
     "data": {
      "image/png": "[encoded data removed]",
      "text/plain": [
       "<Figure size 432x288 with 1 Axes>"
      ]
     },
     "metadata": {
      "needs_background": "light"
     },
     "output_type": "display_data"
    }
   ],
   "source": [
    "plt.plot(knn.predict(X_te))"
   ]
  },
  {
   "cell_type": "markdown",
   "metadata": {
    "execution": {
     "iopub.execute_input": "2021-05-14T00:19:31.727168Z",
     "iopub.status.busy": "2021-05-14T00:19:31.727013Z",
     "iopub.status.idle": "2021-05-14T00:19:31.729216Z",
     "shell.execute_reply": "2021-05-14T00:19:31.728815Z",
     "shell.execute_reply.started": "2021-05-14T00:19:31.727151Z"
    }
   },
   "source": [
    "# Random Forest"
   ]
  },
  {
   "cell_type": "code",
   "execution_count": 36,
   "metadata": {
    "execution": {
     "iopub.execute_input": "2021-05-14T00:19:41.926149Z",
     "iopub.status.busy": "2021-05-14T00:19:41.925967Z",
     "iopub.status.idle": "2021-05-14T00:19:41.931469Z",
     "shell.execute_reply": "2021-05-14T00:19:41.930018Z",
     "shell.execute_reply.started": "2021-05-14T00:19:41.926127Z"
    }
   },
   "outputs": [],
   "source": [
    "rf = RandomForestClassifier()"
   ]
  },
  {
   "cell_type": "code",
   "execution_count": 41,
   "metadata": {
    "execution": {
     "iopub.execute_input": "2021-05-14T00:20:53.640560Z",
     "iopub.status.busy": "2021-05-14T00:20:53.640407Z",
     "iopub.status.idle": "2021-05-14T00:20:56.634395Z",
     "shell.execute_reply": "2021-05-14T00:20:56.633992Z",
     "shell.execute_reply.started": "2021-05-14T00:20:53.640544Z"
    },
    "tags": []
   },
   "outputs": [
    {
     "data": {
      "text/plain": [
       "RandomForestClassifier()"
      ]
     },
     "execution_count": 41,
     "metadata": {},
     "output_type": "execute_result"
    }
   ],
   "source": [
    "rf.fit(X_tr, y_train)"
   ]
  },
  {
   "cell_type": "code",
   "execution_count": 39,
   "metadata": {
    "execution": {
     "iopub.execute_input": "2021-05-14T00:20:16.994178Z",
     "iopub.status.busy": "2021-05-14T00:20:16.993624Z",
     "iopub.status.idle": "2021-05-14T00:20:17.182750Z",
     "shell.execute_reply": "2021-05-14T00:20:17.182307Z",
     "shell.execute_reply.started": "2021-05-14T00:20:16.994111Z"
    },
    "tags": []
   },
   "outputs": [
    {
     "data": {
      "text/plain": [
       "[<matplotlib.lines.Line2D at 0x7ffa10936f40>]"
      ]
     },
     "execution_count": 39,
     "metadata": {},
     "output_type": "execute_result"
    },
    {
     "data": {
      "image/png": "[encoded data removed]",
      "text/plain": [
       "<Figure size 432x288 with 1 Axes>"
      ]
     },
     "metadata": {
      "needs_background": "light"
     },
     "output_type": "display_data"
    }
   ],
   "source": [
    "plt.plot(rf.predict(X_te))"
   ]
  },
  {
   "cell_type": "code",
   "execution_count": 52,
   "metadata": {
    "execution": {
     "iopub.execute_input": "2021-05-14T00:24:07.960327Z",
     "iopub.status.busy": "2021-05-14T00:24:07.959780Z",
     "iopub.status.idle": "2021-05-14T00:24:07.964069Z",
     "shell.execute_reply": "2021-05-14T00:24:07.962782Z",
     "shell.execute_reply.started": "2021-05-14T00:24:07.960243Z"
    }
   },
   "outputs": [],
   "source": [
    "rc = RidgeClassifier()"
   ]
  },
  {
   "cell_type": "code",
   "execution_count": 53,
   "metadata": {
    "execution": {
     "iopub.execute_input": "2021-05-14T00:24:14.180355Z",
     "iopub.status.busy": "2021-05-14T00:24:14.180163Z",
     "iopub.status.idle": "2021-05-14T00:24:14.192135Z",
     "shell.execute_reply": "2021-05-14T00:24:14.191794Z",
     "shell.execute_reply.started": "2021-05-14T00:24:14.180331Z"
    }
   },
   "outputs": [
    {
     "data": {
      "text/plain": [
       "RidgeClassifier()"
      ]
     },
     "execution_count": 53,
     "metadata": {},
     "output_type": "execute_result"
    }
   ],
   "source": [
    "rc.fit(X_tr, y_train)"
   ]
  },
  {
   "cell_type": "code",
   "execution_count": 54,
   "metadata": {
    "execution": {
     "iopub.execute_input": "2021-05-14T00:24:21.367762Z",
     "iopub.status.busy": "2021-05-14T00:24:21.367615Z",
     "iopub.status.idle": "2021-05-14T00:24:21.545429Z",
     "shell.execute_reply": "2021-05-14T00:24:21.545045Z",
     "shell.execute_reply.started": "2021-05-14T00:24:21.367746Z"
    }
   },
   "outputs": [
    {
     "data": {
      "text/plain": [
       "[<matplotlib.lines.Line2D at 0x7ffa10e91760>]"
      ]
     },
     "execution_count": 54,
     "metadata": {},
     "output_type": "execute_result"
    },
    {
     "data": {
      "image/png": "[encoded data removed]",
      "text/plain": [
       "<Figure size 432x288 with 1 Axes>"
      ]
     },
     "metadata": {
      "needs_background": "light"
     },
     "output_type": "display_data"
    }
   ],
   "source": [
    "plt.plot(rc.predict(X_te))"
   ]
  },
  {
   "cell_type": "markdown",
   "metadata": {},
   "source": [
    "# Initial Model Metrics"
   ]
  },
  {
   "cell_type": "code",
   "execution_count": 55,
   "metadata": {
    "execution": {
     "iopub.execute_input": "2021-05-14T00:24:27.802902Z",
     "iopub.status.busy": "2021-05-14T00:24:27.802745Z",
     "iopub.status.idle": "2021-05-14T00:24:27.805018Z",
     "shell.execute_reply": "2021-05-14T00:24:27.804616Z",
     "shell.execute_reply.started": "2021-05-14T00:24:27.802885Z"
    },
    "tags": []
   },
   "outputs": [],
   "source": [
    "models = [log_reg, knn, rf, rc]"
   ]
  },
  {
   "cell_type": "code",
   "execution_count": 57,
   "metadata": {
    "execution": {
     "iopub.execute_input": "2021-05-14T00:25:10.328386Z",
     "iopub.status.busy": "2021-05-14T00:25:10.328215Z",
     "iopub.status.idle": "2021-05-14T00:25:13.164858Z",
     "shell.execute_reply": "2021-05-14T00:25:13.164314Z",
     "shell.execute_reply.started": "2021-05-14T00:25:10.328369Z"
    }
   },
   "outputs": [
    {
     "name": "stdout",
     "output_type": "stream",
     "text": [
      "LogisticRegression() [-0.80701754 -0.78320802 -0.78446115 -0.78320802 -0.79323308]\n",
      "KNeighborsClassifier() [-0.78571429 -0.81328321 -0.79323308 -0.79197995 -0.79448622]\n",
      "RandomForestClassifier() [-0.77694236 -0.78320802 -0.79323308 -0.80200501 -0.81203008]\n",
      "RidgeClassifier() [-0.81578947 -0.78822055 -0.79323308 -0.78571429 -0.79197995]\n"
     ]
    }
   ],
   "source": [
    "for i, model in enumerate(models):\n",
    "    cv_results = cross_validate(model, X_te, y_test, scoring='neg_mean_absolute_error', cv=5, n_jobs=-1)\n",
    "    print(model, cv_results['test_score'])"
   ]
  },
  {
   "cell_type": "code",
   "execution_count": 56,
   "metadata": {
    "execution": {
     "iopub.execute_input": "2021-05-14T00:24:28.304803Z",
     "iopub.status.busy": "2021-05-14T00:24:28.304603Z",
     "iopub.status.idle": "2021-05-14T00:24:29.206007Z",
     "shell.execute_reply": "2021-05-14T00:24:29.205545Z",
     "shell.execute_reply.started": "2021-05-14T00:24:28.304781Z"
    },
    "tags": []
   },
   "outputs": [
    {
     "name": "stdout",
     "output_type": "stream",
     "text": [
      "LogisticRegression() 0.47268170426065165\n",
      "KNeighborsClassifier() 0.43508771929824563\n",
      "RandomForestClassifier() 0.4739348370927318\n",
      "RidgeClassifier() 0.47218045112781953\n"
     ]
    }
   ],
   "source": [
    "for i, model in enumerate(models):\n",
    "    print(model, model.score(X_te, y_test))"
   ]
  },
  {
   "cell_type": "code",
   "execution_count": 62,
   "metadata": {
    "execution": {
     "iopub.execute_input": "2021-05-14T01:02:40.078177Z",
     "iopub.status.busy": "2021-05-14T01:02:40.078021Z",
     "iopub.status.idle": "2021-05-14T01:02:40.081896Z",
     "shell.execute_reply": "2021-05-14T01:02:40.081491Z",
     "shell.execute_reply.started": "2021-05-14T01:02:40.078161Z"
    },
    "tags": []
   },
   "outputs": [
    {
     "name": "stdout",
     "output_type": "stream",
     "text": [
      "LogisticRegression() {'C': 1.0, 'class_weight': None, 'dual': False, 'fit_intercept': True, 'intercept_scaling': 1, 'l1_ratio': None, 'max_iter': 100, 'multi_class': 'auto', 'n_jobs': None, 'penalty': 'l2', 'random_state': None, 'solver': 'lbfgs', 'tol': 0.0001, 'verbose': 0, 'warm_start': False}\n",
      "KNeighborsClassifier() {'algorithm': 'auto', 'leaf_size': 30, 'metric': 'minkowski', 'metric_params': None, 'n_jobs': None, 'n_neighbors': 5, 'p': 2, 'weights': 'uniform'}\n",
      "RandomForestClassifier() {'bootstrap': True, 'ccp_alpha': 0.0, 'class_weight': None, 'criterion': 'gini', 'max_depth': None, 'max_features': 'auto', 'max_leaf_nodes': None, 'max_samples': None, 'min_impurity_decrease': 0.0, 'min_impurity_split': None, 'min_samples_leaf': 1, 'min_samples_split': 2, 'min_weight_fraction_leaf': 0.0, 'n_estimators': 100, 'n_jobs': None, 'oob_score': False, 'random_state': None, 'verbose': 0, 'warm_start': False}\n",
      "RidgeClassifier() {'alpha': 1.0, 'class_weight': None, 'copy_X': True, 'fit_intercept': True, 'max_iter': None, 'normalize': False, 'random_state': None, 'solver': 'auto', 'tol': 0.001}\n"
     ]
    }
   ],
   "source": [
    "for i, model in enumerate(models):\n",
    "    print(model, model.get_params())"
   ]
  },
  {
   "cell_type": "code",
   "execution_count": 82,
   "metadata": {
    "execution": {
     "iopub.execute_input": "2021-05-14T01:15:50.281504Z",
     "iopub.status.busy": "2021-05-14T01:15:50.281310Z",
     "iopub.status.idle": "2021-05-14T01:16:03.930823Z",
     "shell.execute_reply": "2021-05-14T01:16:03.930461Z",
     "shell.execute_reply.started": "2021-05-14T01:15:50.281482Z"
    },
    "tags": []
   },
   "outputs": [
    {
     "name": "stdout",
     "output_type": "stream",
     "text": [
      "LogisticRegression() -1.3249138429092615 0.0165166638623184\n",
      "KNeighborsClassifier() -1.2445466933627152 0.018311394546377077\n",
      "RandomForestClassifier() -1.290318199736695 0.028931625191428004\n",
      "RidgeClassifier() -1.3222285582690896 0.017000419453552414\n"
     ]
    }
   ],
   "source": [
    "for i, model in enumerate(models):\n",
    "    cv_results = cross_val_score(model, X_tr, y_train, scoring='neg_mean_squared_error')\n",
    "    print(model, cv_results.mean(), cv_results.std())"
   ]
  },
  {
   "cell_type": "markdown",
   "metadata": {},
   "source": [
    "# Hyperparameter Tuning"
   ]
  },
  {
   "cell_type": "code",
   "execution_count": 77,
   "metadata": {
    "execution": {
     "iopub.execute_input": "2021-05-14T01:09:57.250013Z",
     "iopub.status.busy": "2021-05-14T01:09:57.249551Z",
     "iopub.status.idle": "2021-05-14T01:09:57.259573Z",
     "shell.execute_reply": "2021-05-14T01:09:57.259138Z",
     "shell.execute_reply.started": "2021-05-14T01:09:57.249958Z"
    },
    "tags": []
   },
   "outputs": [
    {
     "name": "stdout",
     "output_type": "stream",
     "text": [
      "{0: {}, 1: {'n_neighbors': [1, 5, 10, 20, 50, 100, 200], 'weights': ['uniform', 'distance'], 'leaf_size': [5, 10, 20, 30, 50], 'p': [1, 2], 'n_jobs': [-1]}, 2: {'n_estimators': [20, 50, 100, 200], 'n_jobs': [-1]}, 3: {}}\n"
     ]
    }
   ],
   "source": [
    "param_search = {}\n",
    "param_search[0] = {}\n",
    "param_search[1] = {'n_neighbors' : [1, 5, 10, 20, 50, 100, 200], 'weights' : ['uniform', 'distance'], \n",
    "                       'leaf_size' : [5, 10, 20, 30, 50], 'p' : [1,2] ,'n_jobs' :[-1]}\n",
    "param_search[2] = {'n_estimators' : [20, 50, 100, 200], 'n_jobs' : [-1]}\n",
    "param_search[3] = {}\n",
    "tuned_results = []\n",
    "tuned_best_score = []\n",
    "tuned_best_estimator = []\n",
    "print(param_search)"
   ]
  },
  {
   "cell_type": "code",
   "execution_count": 79,
   "metadata": {
    "execution": {
     "iopub.execute_input": "2021-05-14T01:10:02.767896Z",
     "iopub.status.busy": "2021-05-14T01:10:02.767697Z",
     "iopub.status.idle": "2021-05-14T01:13:00.290020Z",
     "shell.execute_reply": "2021-05-14T01:13:00.289413Z",
     "shell.execute_reply.started": "2021-05-14T01:10:02.767872Z"
    },
    "tags": []
   },
   "outputs": [
    {
     "name": "stdout",
     "output_type": "stream",
     "text": [
      "LogisticRegression()\n",
      "-1.3249138429092615 LogisticRegression()\n",
      "KNeighborsClassifier()\n",
      "-1.2445466933627152 KNeighborsClassifier(leaf_size=5, n_jobs=-1)\n",
      "RandomForestClassifier()\n",
      "-1.2782828145823222 RandomForestClassifier(n_estimators=200, n_jobs=-1)\n",
      "RidgeClassifier()\n",
      "-1.3222285582690896 RidgeClassifier()\n"
     ]
    }
   ],
   "source": [
    "for i, model in enumerate(models):\n",
    "    #if name != 'LR':\n",
    "    gsearch = GridSearchCV(estimator=model, param_grid = param_search[i], scoring = 'neg_mean_squared_error')\n",
    "    #if name != 'RFR':\n",
    "    gsearch.fit(X_tr, y_train)\n",
    "    #else :\n",
    "       # gsearch.fit(X_tr, y_train.values.ravel())\n",
    "    best_score = gsearch.best_score_\n",
    "    best_model = gsearch.best_estimator_\n",
    "    tuned_results.append(gsearch)\n",
    "    tuned_best_score.append(best_score)\n",
    "    tuned_best_estimator.append(best_model)\n",
    "    print(best_model, best_score)"
   ]
  },
  {
   "cell_type": "code",
   "execution_count": 88,
   "metadata": {
    "execution": {
     "iopub.execute_input": "2021-05-14T01:18:20.152100Z",
     "iopub.status.busy": "2021-05-14T01:18:20.151873Z",
     "iopub.status.idle": "2021-05-14T01:18:22.604700Z",
     "shell.execute_reply": "2021-05-14T01:18:22.604314Z",
     "shell.execute_reply.started": "2021-05-14T01:18:20.152074Z"
    },
    "tags": []
   },
   "outputs": [
    {
     "name": "stdout",
     "output_type": "stream",
     "text": [
      "LogisticRegression()\n",
      "KNeighborsClassifier(leaf_size=5, n_jobs=-1)\n",
      "RandomForestClassifier(n_estimators=200, n_jobs=-1)\n",
      "RidgeClassifier()\n"
     ]
    },
    {
     "data": {
      "image/png": "[encoded data removed]",
      "text/plain": [
       "<Figure size 432x288 with 1 Axes>"
      ]
     },
     "metadata": {
      "needs_background": "light"
     },
     "output_type": "display_data"
    },
    {
     "data": {
      "image/png": "[encoded data removed]",
      "text/plain": [
       "<Figure size 432x288 with 1 Axes>"
      ]
     },
     "metadata": {
      "needs_background": "light"
     },
     "output_type": "display_data"
    },
    {
     "data": {
      "image/png": "[encoded data removed]",
      "text/plain": [
       "<Figure size 432x288 with 1 Axes>"
      ]
     },
     "metadata": {
      "needs_background": "light"
     },
     "output_type": "display_data"
    },
    {
     "data": {
      "image/png": "[encoded data removed]",
      "text/plain": [
       "<Figure size 432x288 with 1 Axes>"
      ]
     },
     "metadata": {
      "needs_background": "light"
     },
     "output_type": "display_data"
    }
   ],
   "source": [
    "for model in tuned_best_estimator:\n",
    "    model.fit(X_tr, y_train)\n",
    "    plt.figure()\n",
    "    plt.plot(model.predict(X_te))\n",
    "    print(model)\n",
    "plt.show()"
   ]
  },
  {
   "cell_type": "code",
   "execution_count": 89,
   "metadata": {
    "execution": {
     "iopub.execute_input": "2021-05-14T01:19:57.137736Z",
     "iopub.status.busy": "2021-05-14T01:19:57.137502Z",
     "iopub.status.idle": "2021-05-14T01:19:57.270072Z",
     "shell.execute_reply": "2021-05-14T01:19:57.269682Z",
     "shell.execute_reply.started": "2021-05-14T01:19:57.137710Z"
    }
   },
   "outputs": [
    {
     "data": {
      "image/png": "[encoded data removed]",
      "text/plain": [
       "<Figure size 432x288 with 1 Axes>"
      ]
     },
     "metadata": {
      "needs_background": "light"
     },
     "output_type": "display_data"
    }
   ],
   "source": [
    "importance = rf.feature_importances_\n",
    "importance.sort()\n",
    "plt.bar([x for x in range(len(importance))], importance)\n",
    "plt.show()"
   ]
  },
  {
   "cell_type": "code",
   "execution_count": 95,
   "metadata": {
    "execution": {
     "iopub.execute_input": "2021-05-14T01:26:17.487684Z",
     "iopub.status.busy": "2021-05-14T01:26:17.487507Z",
     "iopub.status.idle": "2021-05-14T01:26:17.620277Z",
     "shell.execute_reply": "2021-05-14T01:26:17.619732Z",
     "shell.execute_reply.started": "2021-05-14T01:26:17.487664Z"
    },
    "tags": []
   },
   "outputs": [
    {
     "name": "stdout",
     "output_type": "stream",
     "text": [
      "20\n"
     ]
    },
    {
     "ename": "NameError",
     "evalue": "name 'X' is not defined",
     "output_type": "error",
     "traceback": [
      "\u001b[0;31m---------------------------------------------------------------------------\u001b[0m",
      "\u001b[0;31mNameError\u001b[0m                                 Traceback (most recent call last)",
      "\u001b[0;32m<ipython-input-95-fad41897501c>\u001b[0m in \u001b[0;36m<module>\u001b[0;34m\u001b[0m\n\u001b[1;32m      9\u001b[0m \u001b[0mplt\u001b[0m\u001b[0;34m.\u001b[0m\u001b[0mfigure\u001b[0m\u001b[0;34m(\u001b[0m\u001b[0mfigsize\u001b[0m\u001b[0;34m=\u001b[0m\u001b[0;34m(\u001b[0m\u001b[0;36m10\u001b[0m\u001b[0;34m,\u001b[0m\u001b[0;36m10\u001b[0m\u001b[0;34m)\u001b[0m\u001b[0;34m)\u001b[0m\u001b[0;34m\u001b[0m\u001b[0;34m\u001b[0m\u001b[0m\n\u001b[1;32m     10\u001b[0m \u001b[0mplt\u001b[0m\u001b[0;34m.\u001b[0m\u001b[0mbarh\u001b[0m\u001b[0;34m(\u001b[0m\u001b[0mpos\u001b[0m\u001b[0;34m,\u001b[0m \u001b[0mfeature_importance\u001b[0m\u001b[0;34m[\u001b[0m\u001b[0msorted_idx\u001b[0m\u001b[0;34m]\u001b[0m\u001b[0;34m,\u001b[0m \u001b[0malign\u001b[0m\u001b[0;34m=\u001b[0m\u001b[0;34m'center'\u001b[0m\u001b[0;34m)\u001b[0m\u001b[0;34m\u001b[0m\u001b[0;34m\u001b[0m\u001b[0m\n\u001b[0;32m---> 11\u001b[0;31m \u001b[0mplt\u001b[0m\u001b[0;34m.\u001b[0m\u001b[0myticks\u001b[0m\u001b[0;34m(\u001b[0m\u001b[0mpos\u001b[0m\u001b[0;34m,\u001b[0m \u001b[0mX\u001b[0m\u001b[0;34m.\u001b[0m\u001b[0mcolumns\u001b[0m\u001b[0;34m[\u001b[0m\u001b[0msorted_idx\u001b[0m\u001b[0;34m]\u001b[0m\u001b[0;34m)\u001b[0m\u001b[0;34m\u001b[0m\u001b[0;34m\u001b[0m\u001b[0m\n\u001b[0m\u001b[1;32m     12\u001b[0m \u001b[0mplt\u001b[0m\u001b[0;34m.\u001b[0m\u001b[0mxlabel\u001b[0m\u001b[0;34m(\u001b[0m\u001b[0;34m'Relative Importance'\u001b[0m\u001b[0;34m)\u001b[0m\u001b[0;34m\u001b[0m\u001b[0;34m\u001b[0m\u001b[0m\n\u001b[1;32m     13\u001b[0m \u001b[0mplt\u001b[0m\u001b[0;34m.\u001b[0m\u001b[0mtitle\u001b[0m\u001b[0;34m(\u001b[0m\u001b[0;34m'Variable Importance'\u001b[0m\u001b[0;34m)\u001b[0m\u001b[0;34m\u001b[0m\u001b[0;34m\u001b[0m\u001b[0m\n",
      "\u001b[0;31mNameError\u001b[0m: name 'X' is not defined"
     ]
    },
    {
     "data": {
      "image/png": "[encoded data removed]",
      "text/plain": [
       "<Figure size 720x720 with 1 Axes>"
      ]
     },
     "metadata": {
      "needs_background": "light"
     },
     "output_type": "display_data"
    }
   ],
   "source": [
    "feature_importance = tuned_best_estimator[2].feature_importances_\n",
    "# make importances relative to max importance\n",
    "feature_importance = 100.0 * (feature_importance / feature_importance.max())[:30]\n",
    "sorted_idx = np.argsort(feature_importance)[:30]\n",
    "\n",
    "pos = np.arange(sorted_idx.shape[0]) + .5\n",
    "print(pos.size)\n",
    "sorted_idx.size\n",
    "plt.figure(figsize=(10,10))\n",
    "plt.barh(pos, feature_importance[sorted_idx], align='center')\n",
    "plt.yticks(pos, X.columns[sorted_idx])\n",
    "plt.xlabel('Relative Importance')\n",
    "plt.title('Variable Importance')\n",
    "plt.show()"
   ]
  },
  {
   "cell_type": "code",
   "execution_count": null,
   "metadata": {},
   "outputs": [],
   "source": []
  }
 ],
 "metadata": {
  "kernelspec": {
   "display_name": "Python 3",
   "language": "python",
   "name": "python3"
  },
  "language_info": {
   "codemirror_mode": {
    "name": "ipython",
    "version": 3
   },
   "file_extension": ".py",
   "mimetype": "text/x-python",
   "name": "python",
   "nbconvert_exporter": "python",
   "pygments_lexer": "ipython3",
   "version": "3.9.5"
  }
 },
 "nbformat": 4,
 "nbformat_minor": 4
}
