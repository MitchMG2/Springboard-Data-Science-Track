{
 "cells": [
  {
   "cell_type": "markdown",
   "metadata": {},
   "source": [
    "### Imports"
   ]
  },
  {
   "cell_type": "code",
   "execution_count": 1,
   "metadata": {
    "execution": {
     "iopub.execute_input": "2021-04-08T22:51:20.318192Z",
     "iopub.status.busy": "2021-04-08T22:51:20.318075Z",
     "iopub.status.idle": "2021-04-08T22:51:20.646704Z",
     "shell.execute_reply": "2021-04-08T22:51:20.646228Z",
     "shell.execute_reply.started": "2021-04-08T22:51:20.318176Z"
    },
    "tags": []
   },
   "outputs": [],
   "source": [
    "import pandas as pd\n",
    "import numpy as np\n",
    "import matplotlib.pyplot as plt\n",
    "import datetime\n",
    "import os\n",
    "import sqlite3"
   ]
  },
  {
   "cell_type": "markdown",
   "metadata": {},
   "source": [
    "Create a sql connection from which to read tables"
   ]
  },
  {
   "cell_type": "code",
   "execution_count": 2,
   "metadata": {
    "execution": {
     "iopub.execute_input": "2021-04-08T22:51:20.647714Z",
     "iopub.status.busy": "2021-04-08T22:51:20.647532Z",
     "iopub.status.idle": "2021-04-08T22:51:20.651190Z",
     "shell.execute_reply": "2021-04-08T22:51:20.650620Z",
     "shell.execute_reply.started": "2021-04-08T22:51:20.647692Z"
    },
    "tags": []
   },
   "outputs": [],
   "source": [
    "con = sqlite3.connect(\"data/database.sqlite\")\n",
    "cursor = con.cursor()\n",
    "\n",
    "#### WHEN TO USE CURSOR EXECUTE VS PD.READ_SQL?????"
   ]
  },
  {
   "cell_type": "markdown",
   "metadata": {
    "execution": {
     "iopub.execute_input": "2021-02-18T01:56:09.335877Z",
     "iopub.status.busy": "2021-02-18T01:56:09.335723Z",
     "iopub.status.idle": "2021-02-18T01:56:09.338098Z",
     "shell.execute_reply": "2021-02-18T01:56:09.337595Z",
     "shell.execute_reply.started": "2021-02-18T01:56:09.335861Z"
    }
   },
   "source": [
    "### Extract Tables"
   ]
  },
  {
   "cell_type": "markdown",
   "metadata": {
    "execution": {
     "iopub.execute_input": "2021-02-18T19:24:56.447791Z",
     "iopub.status.busy": "2021-02-18T19:24:56.447597Z",
     "iopub.status.idle": "2021-02-18T19:24:56.450827Z",
     "shell.execute_reply": "2021-02-18T19:24:56.450326Z",
     "shell.execute_reply.started": "2021-02-18T19:24:56.447768Z"
    }
   },
   "source": [
    "Read Tables"
   ]
  },
  {
   "cell_type": "code",
   "execution_count": 3,
   "metadata": {
    "execution": {
     "iopub.execute_input": "2021-04-08T22:51:20.652266Z",
     "iopub.status.busy": "2021-04-08T22:51:20.652079Z",
     "iopub.status.idle": "2021-04-08T22:51:20.660112Z",
     "shell.execute_reply": "2021-04-08T22:51:20.659633Z",
     "shell.execute_reply.started": "2021-04-08T22:51:20.652241Z"
    },
    "tags": []
   },
   "outputs": [
    {
     "name": "stdout",
     "output_type": "stream",
     "text": [
      "    type               name           tbl_name  rootpage  \\\n",
      "0  table    sqlite_sequence    sqlite_sequence         4   \n",
      "1  table  Player_Attributes  Player_Attributes        11   \n",
      "2  table             Player             Player        14   \n",
      "3  table              Match              Match        18   \n",
      "4  table             League             League        24   \n",
      "5  table            Country            Country        26   \n",
      "6  table               Team               Team        29   \n",
      "7  table    Team_Attributes    Team_Attributes         2   \n",
      "\n",
      "                                                 sql  \n",
      "0             CREATE TABLE sqlite_sequence(name,seq)  \n",
      "1  CREATE TABLE \"Player_Attributes\" (\\n\\t`id`\\tIN...  \n",
      "2  CREATE TABLE `Player` (\\n\\t`id`\\tINTEGER PRIMA...  \n",
      "3  CREATE TABLE `Match` (\\n\\t`id`\\tINTEGER PRIMAR...  \n",
      "4  CREATE TABLE `League` (\\n\\t`id`\\tINTEGER PRIMA...  \n",
      "5  CREATE TABLE `Country` (\\n\\t`id`\\tINTEGER PRIM...  \n",
      "6  CREATE TABLE \"Team\" (\\n\\t`id`\\tINTEGER PRIMARY...  \n",
      "7  CREATE TABLE `Team_Attributes` (\\n\\t`id`\\tINTE...  \n"
     ]
    }
   ],
   "source": [
    "tables = pd.read_sql(\"SELECT * FROM sqlite_master WHERE type='table'\", con)\n",
    "print(tables)"
   ]
  },
  {
   "cell_type": "markdown",
   "metadata": {},
   "source": [
    "Print all tables in a for loop:"
   ]
  },
  {
   "cell_type": "code",
   "execution_count": 4,
   "metadata": {
    "execution": {
     "iopub.execute_input": "2021-04-08T22:51:20.661053Z",
     "iopub.status.busy": "2021-04-08T22:51:20.660922Z",
     "iopub.status.idle": "2021-04-08T22:51:20.743524Z",
     "shell.execute_reply": "2021-04-08T22:51:20.742997Z",
     "shell.execute_reply.started": "2021-04-08T22:51:20.661036Z"
    },
    "tags": []
   },
   "outputs": [
    {
     "name": "stdout",
     "output_type": "stream",
     "text": [
      "SQLITE_SEQUENCE    COUNT(*)\n",
      "0         7 \n",
      "       name     seq\n",
      "0     Team  103916\n",
      "1  Country   51958\n",
      "2   League   51958\n",
      "3    Match   51958\n",
      "4   Player   11075 \n",
      "\n",
      "\n",
      "\n",
      "PLAYER_ATTRIBUTES    COUNT(*)\n",
      "0    183978 \n",
      "    id  player_fifa_api_id  player_api_id                 date  overall_rating  \\\n",
      "0   1              218353         505942  2016-02-18 00:00:00              67   \n",
      "1   2              218353         505942  2015-11-19 00:00:00              67   \n",
      "2   3              218353         505942  2015-09-21 00:00:00              62   \n",
      "3   4              218353         505942  2015-03-20 00:00:00              61   \n",
      "4   5              218353         505942  2007-02-22 00:00:00              61   \n",
      "\n",
      "   potential preferred_foot attacking_work_rate defensive_work_rate  crossing  \\\n",
      "0         71          right              medium              medium        49   \n",
      "1         71          right              medium              medium        49   \n",
      "2         66          right              medium              medium        49   \n",
      "3         65          right              medium              medium        48   \n",
      "4         65          right              medium              medium        48   \n",
      "\n",
      "   ...  vision  penalties  marking  standing_tackle  sliding_tackle  \\\n",
      "0  ...      54         48       65               69              69   \n",
      "1  ...      54         48       65               69              69   \n",
      "2  ...      54         48       65               66              69   \n",
      "3  ...      53         47       62               63              66   \n",
      "4  ...      53         47       62               63              66   \n",
      "\n",
      "   gk_diving  gk_handling  gk_kicking  gk_positioning  gk_reflexes  \n",
      "0          6           11          10               8            8  \n",
      "1          6           11          10               8            8  \n",
      "2          6           11          10               8            8  \n",
      "3          5           10           9               7            7  \n",
      "4          5           10           9               7            7  \n",
      "\n",
      "[5 rows x 42 columns] \n",
      "\n",
      "\n",
      "\n",
      "PLAYER    COUNT(*)\n",
      "0     11060 \n",
      "    id  player_api_id         player_name  player_fifa_api_id  \\\n",
      "0   1         505942  Aaron Appindangoye              218353   \n",
      "1   2         155782     Aaron Cresswell              189615   \n",
      "2   3         162549         Aaron Doran              186170   \n",
      "3   4          30572       Aaron Galindo              140161   \n",
      "4   5          23780        Aaron Hughes               17725   \n",
      "\n",
      "              birthday  height  weight  \n",
      "0  1992-02-29 00:00:00  182.88     187  \n",
      "1  1989-12-15 00:00:00  170.18     146  \n",
      "2  1991-05-13 00:00:00  170.18     163  \n",
      "3  1982-05-08 00:00:00  182.88     198  \n",
      "4  1979-11-08 00:00:00  182.88     154   \n",
      "\n",
      "\n",
      "\n",
      "MATCH    COUNT(*)\n",
      "0     25979 \n",
      "    id  country_id  league_id     season  stage                 date  \\\n",
      "0   1           1          1  2008/2009      1  2008-08-17 00:00:00   \n",
      "1   2           1          1  2008/2009      1  2008-08-16 00:00:00   \n",
      "2   3           1          1  2008/2009      1  2008-08-16 00:00:00   \n",
      "3   4           1          1  2008/2009      1  2008-08-17 00:00:00   \n",
      "4   5           1          1  2008/2009      1  2008-08-16 00:00:00   \n",
      "\n",
      "   match_api_id  home_team_api_id  away_team_api_id  home_team_goal  ...  \\\n",
      "0        492473              9987              9993               1  ...   \n",
      "1        492474             10000              9994               0  ...   \n",
      "2        492475              9984              8635               0  ...   \n",
      "3        492476              9991              9998               5  ...   \n",
      "4        492477              7947              9985               1  ...   \n",
      "\n",
      "    SJA   VCH   VCD   VCA   GBH   GBD   GBA   BSH   BSD   BSA  \n",
      "0  4.00  1.65  3.40  4.50  1.78  3.25  4.00  1.73  3.40  4.20  \n",
      "1  3.80  2.00  3.25  3.25  1.85  3.25  3.75  1.91  3.25  3.60  \n",
      "2  2.50  2.35  3.25  2.65  2.50  3.20  2.50  2.30  3.20  2.75  \n",
      "3  7.50  1.45  3.75  6.50  1.50  3.75  5.50  1.44  3.75  6.50  \n",
      "4  1.73  4.50  3.40  1.65  4.50  3.50  1.65  4.75  3.30  1.67  \n",
      "\n",
      "[5 rows x 115 columns] \n",
      "\n",
      "\n",
      "\n",
      "LEAGUE    COUNT(*)\n",
      "0        11 \n",
      "       id  country_id                    name\n",
      "0      1           1  Belgium Jupiler League\n",
      "1   1729        1729  England Premier League\n",
      "2   4769        4769          France Ligue 1\n",
      "3   7809        7809   Germany 1. Bundesliga\n",
      "4  10257       10257           Italy Serie A \n",
      "\n",
      "\n",
      "\n",
      "COUNTRY    COUNT(*)\n",
      "0        11 \n",
      "       id     name\n",
      "0      1  Belgium\n",
      "1   1729  England\n",
      "2   4769   France\n",
      "3   7809  Germany\n",
      "4  10257    Italy \n",
      "\n",
      "\n",
      "\n",
      "TEAM    COUNT(*)\n",
      "0       299 \n",
      "    id  team_api_id  team_fifa_api_id     team_long_name team_short_name\n",
      "0   1         9987               673           KRC Genk             GEN\n",
      "1   2         9993               675       Beerschot AC             BAC\n",
      "2   3        10000             15005   SV Zulte-Waregem             ZUL\n",
      "3   4         9994              2007   Sporting Lokeren             LOK\n",
      "4   5         9984              1750  KSV Cercle Brugge             CEB \n",
      "\n",
      "\n",
      "\n",
      "TEAM_ATTRIBUTES    COUNT(*)\n",
      "0      1458 \n",
      "    id  team_fifa_api_id  team_api_id                 date  buildUpPlaySpeed  \\\n",
      "0   1               434         9930  2010-02-22 00:00:00                60   \n",
      "1   2               434         9930  2014-09-19 00:00:00                52   \n",
      "2   3               434         9930  2015-09-10 00:00:00                47   \n",
      "3   4                77         8485  2010-02-22 00:00:00                70   \n",
      "4   5                77         8485  2011-02-22 00:00:00                47   \n",
      "\n",
      "  buildUpPlaySpeedClass  buildUpPlayDribbling buildUpPlayDribblingClass  \\\n",
      "0              Balanced                   NaN                    Little   \n",
      "1              Balanced                  48.0                    Normal   \n",
      "2              Balanced                  41.0                    Normal   \n",
      "3                  Fast                   NaN                    Little   \n",
      "4              Balanced                   NaN                    Little   \n",
      "\n",
      "   buildUpPlayPassing buildUpPlayPassingClass  ... chanceCreationShooting  \\\n",
      "0                  50                   Mixed  ...                     55   \n",
      "1                  56                   Mixed  ...                     64   \n",
      "2                  54                   Mixed  ...                     64   \n",
      "3                  70                    Long  ...                     70   \n",
      "4                  52                   Mixed  ...                     52   \n",
      "\n",
      "   chanceCreationShootingClass chanceCreationPositioningClass  \\\n",
      "0                       Normal                      Organised   \n",
      "1                       Normal                      Organised   \n",
      "2                       Normal                      Organised   \n",
      "3                         Lots                      Organised   \n",
      "4                       Normal                      Organised   \n",
      "\n",
      "   defencePressure defencePressureClass  defenceAggression  \\\n",
      "0               50               Medium                 55   \n",
      "1               47               Medium                 44   \n",
      "2               47               Medium                 44   \n",
      "3               60               Medium                 70   \n",
      "4               47               Medium                 47   \n",
      "\n",
      "  defenceAggressionClass defenceTeamWidth  defenceTeamWidthClass  \\\n",
      "0                  Press               45                 Normal   \n",
      "1                  Press               54                 Normal   \n",
      "2                  Press               54                 Normal   \n",
      "3                 Double               70                   Wide   \n",
      "4                  Press               52                 Normal   \n",
      "\n",
      "  defenceDefenderLineClass  \n",
      "0                    Cover  \n",
      "1                    Cover  \n",
      "2                    Cover  \n",
      "3                    Cover  \n",
      "4                    Cover  \n",
      "\n",
      "[5 rows x 25 columns] \n",
      "\n",
      "\n",
      "\n"
     ]
    }
   ],
   "source": [
    "for table_name in tables['name']:\n",
    "    print(table_name.upper(), pd.read_sql_query(\"SELECT COUNT(*) FROM %s\" % table_name, con), \"\\n\", pd.read_sql_query(\"SELECT * from %s LIMIT 5\" % table_name, con), \"\\n\\n\\n\")"
   ]
  },
  {
   "cell_type": "markdown",
   "metadata": {},
   "source": [
    "# OBJECTIVES\n",
    "\n",
    "Average Number of Goals scored each team\n",
    "Average Number of goals conceded each team\n",
    "^^^ Same as above but home vs away advantage\n",
    "^^^ Same as above but for overall league team is in (which league more competitive?)\n",
    "Average Stats of players in team\n",
    "Min-Max player stats per team (everyone is average? Few excellent players and few bad players same team?\n",
    "\n",
    "Count most used formations\n",
    "Average goals scored and conceded per formation\n",
    "\n",
    "Assign formation to team and see if stats match up of formation vs team performance using formation.\n",
    "\n",
    "Impactful substitutions and/or starters? (harry winks starts, game is gone)\n"
   ]
  },
  {
   "cell_type": "markdown",
   "metadata": {},
   "source": [
    "Dump all the tables into separate csv files to make life easier"
   ]
  },
  {
   "cell_type": "code",
   "execution_count": 5,
   "metadata": {
    "execution": {
     "iopub.execute_input": "2021-04-08T22:51:20.744829Z",
     "iopub.status.busy": "2021-04-08T22:51:20.744580Z",
     "iopub.status.idle": "2021-04-08T22:51:33.536867Z",
     "shell.execute_reply": "2021-04-08T22:51:33.536479Z",
     "shell.execute_reply.started": "2021-04-08T22:51:20.744795Z"
    },
    "tags": []
   },
   "outputs": [],
   "source": [
    "cursor.execute(\"SELECT name FROM sqlite_master WHERE type='table';\")\n",
    "tables = cursor.fetchall()\n",
    "for table_name in tables:\n",
    "    table_name = table_name[0]\n",
    "    table = pd.read_sql_query(\"SELECT * from %s\" % table_name, con)\n",
    "    table.to_csv('data/' + table_name + '.csv', index_label='index')"
   ]
  },
  {
   "cell_type": "code",
   "execution_count": 6,
   "metadata": {
    "execution": {
     "iopub.execute_input": "2021-04-08T22:51:33.538672Z",
     "iopub.status.busy": "2021-04-08T22:51:33.538450Z",
     "iopub.status.idle": "2021-04-08T22:51:33.542277Z",
     "shell.execute_reply": "2021-04-08T22:51:33.541648Z",
     "shell.execute_reply.started": "2021-04-08T22:51:33.538642Z"
    },
    "tags": []
   },
   "outputs": [
    {
     "name": "stdout",
     "output_type": "stream",
     "text": [
      "[('sqlite_sequence',), ('Player_Attributes',), ('Player',), ('Match',), ('League',), ('Country',), ('Team',), ('Team_Attributes',)]\n"
     ]
    }
   ],
   "source": [
    "print(tables)"
   ]
  },
  {
   "cell_type": "markdown",
   "metadata": {},
   "source": [
    "Import all newly created csv files/tables"
   ]
  },
  {
   "cell_type": "code",
   "execution_count": 7,
   "metadata": {
    "execution": {
     "iopub.execute_input": "2021-04-08T22:51:33.543476Z",
     "iopub.status.busy": "2021-04-08T22:51:33.543330Z",
     "iopub.status.idle": "2021-04-08T22:51:33.550096Z",
     "shell.execute_reply": "2021-04-08T22:51:33.549627Z",
     "shell.execute_reply.started": "2021-04-08T22:51:33.543458Z"
    },
    "tags": []
   },
   "outputs": [
    {
     "name": "stdout",
     "output_type": "stream",
     "text": [
      "sqlite_sequence.csv\n",
      "Player_Attributes.csv\n",
      "Player.csv\n",
      "Match.csv\n",
      "League.csv\n",
      "Country.csv\n",
      "Team.csv\n",
      "Team_Attributes.csv\n"
     ]
    }
   ],
   "source": [
    "### We created the variable \"tables\" \n",
    "### from where the csv naming convention for the dump came from\n",
    "### So it can be looped to import all the tables\n",
    "for table_name in tables:\n",
    "    print(str(table_name[0]) + '.csv')"
   ]
  },
  {
   "cell_type": "code",
   "execution_count": 8,
   "metadata": {
    "execution": {
     "iopub.execute_input": "2021-04-08T22:51:33.550988Z",
     "iopub.status.busy": "2021-04-08T22:51:33.550849Z",
     "iopub.status.idle": "2021-04-08T22:51:33.554789Z",
     "shell.execute_reply": "2021-04-08T22:51:33.554185Z",
     "shell.execute_reply.started": "2021-04-08T22:51:33.550969Z"
    }
   },
   "outputs": [],
   "source": [
    "cursor.close()\n",
    "con.close()"
   ]
  },
  {
   "cell_type": "markdown",
   "metadata": {},
   "source": [
    "### Create variables from Tables"
   ]
  },
  {
   "cell_type": "code",
   "execution_count": 9,
   "metadata": {
    "execution": {
     "iopub.execute_input": "2021-04-08T22:51:33.556401Z",
     "iopub.status.busy": "2021-04-08T22:51:33.556105Z",
     "iopub.status.idle": "2021-04-08T22:51:35.954545Z",
     "shell.execute_reply": "2021-04-08T22:51:35.954159Z",
     "shell.execute_reply.started": "2021-04-08T22:51:33.556376Z"
    },
    "tags": []
   },
   "outputs": [],
   "source": [
    "Player_Attributes = pd.read_csv('data/Player_Attributes.csv')\n",
    "Player = pd.read_csv('data/Player.csv')\n",
    "Match = pd.read_csv('data/Match.csv')\n",
    "League = pd.read_csv('data/League.csv')\n",
    "Country = pd.read_csv('data/Country.csv')\n",
    "Team = pd.read_csv('data/Team.csv')\n",
    "Team_Attributes = pd.read_csv('data/Team_Attributes.csv')"
   ]
  },
  {
   "cell_type": "code",
   "execution_count": 10,
   "metadata": {
    "execution": {
     "iopub.execute_input": "2021-04-08T22:51:35.955218Z",
     "iopub.status.busy": "2021-04-08T22:51:35.955107Z",
     "iopub.status.idle": "2021-04-08T22:51:35.986678Z",
     "shell.execute_reply": "2021-04-08T22:51:35.986309Z",
     "shell.execute_reply.started": "2021-04-08T22:51:35.955204Z"
    },
    "tags": []
   },
   "outputs": [],
   "source": [
    "Player_Attributes.drop(['index'], axis=1, inplace=True)\n",
    "Player.drop(['index'], axis=1, inplace=True)\n",
    "Match.drop(['index'], axis=1, inplace=True)\n",
    "League.drop(['index'], axis=1, inplace=True)\n",
    "Country.drop(['index'], axis=1, inplace=True)\n",
    "Team.drop(['index'], axis=1, inplace=True)\n",
    "Team_Attributes.drop(['index'], axis=1, inplace=True)"
   ]
  },
  {
   "cell_type": "code",
   "execution_count": 11,
   "metadata": {
    "execution": {
     "iopub.execute_input": "2021-04-08T22:51:35.987375Z",
     "iopub.status.busy": "2021-04-08T22:51:35.987262Z",
     "iopub.status.idle": "2021-04-08T22:51:35.989478Z",
     "shell.execute_reply": "2021-04-08T22:51:35.989151Z",
     "shell.execute_reply.started": "2021-04-08T22:51:35.987360Z"
    },
    "tags": []
   },
   "outputs": [],
   "source": [
    "tables = [Player_Attributes, Player, Match, League, Country, Team, Team_Attributes]\n",
    "table_names = ['Player_Attributes', 'Player', 'Match', 'League', 'Country', 'Team', 'Team_Attributes']"
   ]
  },
  {
   "cell_type": "code",
   "execution_count": 12,
   "metadata": {
    "execution": {
     "iopub.execute_input": "2021-04-08T22:51:35.990186Z",
     "iopub.status.busy": "2021-04-08T22:51:35.990019Z",
     "iopub.status.idle": "2021-04-08T22:51:35.994586Z",
     "shell.execute_reply": "2021-04-08T22:51:35.994252Z",
     "shell.execute_reply.started": "2021-04-08T22:51:35.990163Z"
    },
    "tags": []
   },
   "outputs": [
    {
     "data": {
      "text/plain": [
       "'Match'"
      ]
     },
     "execution_count": 12,
     "metadata": {},
     "output_type": "execute_result"
    }
   ],
   "source": [
    "table_names[2]"
   ]
  },
  {
   "cell_type": "markdown",
   "metadata": {},
   "source": [
    "## Table Analysis"
   ]
  },
  {
   "cell_type": "code",
   "execution_count": 13,
   "metadata": {
    "execution": {
     "iopub.execute_input": "2021-04-08T22:51:35.995379Z",
     "iopub.status.busy": "2021-04-08T22:51:35.995222Z",
     "iopub.status.idle": "2021-04-08T22:51:35.999912Z",
     "shell.execute_reply": "2021-04-08T22:51:35.999417Z",
     "shell.execute_reply.started": "2021-04-08T22:51:35.995359Z"
    },
    "tags": []
   },
   "outputs": [
    {
     "name": "stdout",
     "output_type": "stream",
     "text": [
      "Player_Attributes :  (183978, 42)\n",
      "Player :  (11060, 7)\n",
      "Match :  (25979, 115)\n",
      "League :  (11, 3)\n",
      "Country :  (11, 2)\n",
      "Team :  (299, 5)\n",
      "Team_Attributes :  (1458, 25)\n"
     ]
    }
   ],
   "source": [
    "for table in range(len(table_names)):\n",
    "    print(table_names[table], ': ', tables[table].shape)"
   ]
  },
  {
   "cell_type": "code",
   "execution_count": 14,
   "metadata": {
    "execution": {
     "iopub.execute_input": "2021-04-08T22:51:36.000852Z",
     "iopub.status.busy": "2021-04-08T22:51:36.000672Z",
     "iopub.status.idle": "2021-04-08T22:51:36.006782Z",
     "shell.execute_reply": "2021-04-08T22:51:36.006029Z",
     "shell.execute_reply.started": "2021-04-08T22:51:36.000824Z"
    },
    "tags": []
   },
   "outputs": [
    {
     "name": "stdout",
     "output_type": "stream",
     "text": [
      "Player_Attributes Column Names:\n",
      "\n",
      " ['id' 'player_fifa_api_id' 'player_api_id' 'date' 'overall_rating'\n",
      " 'potential' 'preferred_foot' 'attacking_work_rate' 'defensive_work_rate'\n",
      " 'crossing' 'finishing' 'heading_accuracy' 'short_passing' 'volleys'\n",
      " 'dribbling' 'curve' 'free_kick_accuracy' 'long_passing' 'ball_control'\n",
      " 'acceleration' 'sprint_speed' 'agility' 'reactions' 'balance'\n",
      " 'shot_power' 'jumping' 'stamina' 'strength' 'long_shots' 'aggression'\n",
      " 'interceptions' 'positioning' 'vision' 'penalties' 'marking'\n",
      " 'standing_tackle' 'sliding_tackle' 'gk_diving' 'gk_handling' 'gk_kicking'\n",
      " 'gk_positioning' 'gk_reflexes'] \n",
      "\n",
      "Player Column Names:\n",
      "\n",
      " ['id' 'player_api_id' 'player_name' 'player_fifa_api_id' 'birthday'\n",
      " 'height' 'weight'] \n",
      "\n",
      "Match Column Names:\n",
      "\n",
      " ['id' 'country_id' 'league_id' 'season' 'stage' 'date' 'match_api_id'\n",
      " 'home_team_api_id' 'away_team_api_id' 'home_team_goal' 'away_team_goal'\n",
      " 'home_player_X1' 'home_player_X2' 'home_player_X3' 'home_player_X4'\n",
      " 'home_player_X5' 'home_player_X6' 'home_player_X7' 'home_player_X8'\n",
      " 'home_player_X9' 'home_player_X10' 'home_player_X11' 'away_player_X1'\n",
      " 'away_player_X2' 'away_player_X3' 'away_player_X4' 'away_player_X5'\n",
      " 'away_player_X6' 'away_player_X7' 'away_player_X8' 'away_player_X9'\n",
      " 'away_player_X10' 'away_player_X11' 'home_player_Y1' 'home_player_Y2'\n",
      " 'home_player_Y3' 'home_player_Y4' 'home_player_Y5' 'home_player_Y6'\n",
      " 'home_player_Y7' 'home_player_Y8' 'home_player_Y9' 'home_player_Y10'\n",
      " 'home_player_Y11' 'away_player_Y1' 'away_player_Y2' 'away_player_Y3'\n",
      " 'away_player_Y4' 'away_player_Y5' 'away_player_Y6' 'away_player_Y7'\n",
      " 'away_player_Y8' 'away_player_Y9' 'away_player_Y10' 'away_player_Y11'\n",
      " 'home_player_1' 'home_player_2' 'home_player_3' 'home_player_4'\n",
      " 'home_player_5' 'home_player_6' 'home_player_7' 'home_player_8'\n",
      " 'home_player_9' 'home_player_10' 'home_player_11' 'away_player_1'\n",
      " 'away_player_2' 'away_player_3' 'away_player_4' 'away_player_5'\n",
      " 'away_player_6' 'away_player_7' 'away_player_8' 'away_player_9'\n",
      " 'away_player_10' 'away_player_11' 'goal' 'shoton' 'shotoff' 'foulcommit'\n",
      " 'card' 'cross' 'corner' 'possession' 'B365H' 'B365D' 'B365A' 'BWH' 'BWD'\n",
      " 'BWA' 'IWH' 'IWD' 'IWA' 'LBH' 'LBD' 'LBA' 'PSH' 'PSD' 'PSA' 'WHH' 'WHD'\n",
      " 'WHA' 'SJH' 'SJD' 'SJA' 'VCH' 'VCD' 'VCA' 'GBH' 'GBD' 'GBA' 'BSH' 'BSD'\n",
      " 'BSA'] \n",
      "\n",
      "League Column Names:\n",
      "\n",
      " ['id' 'country_id' 'name'] \n",
      "\n",
      "Country Column Names:\n",
      "\n",
      " ['id' 'name'] \n",
      "\n",
      "Team Column Names:\n",
      "\n",
      " ['id' 'team_api_id' 'team_fifa_api_id' 'team_long_name' 'team_short_name'] \n",
      "\n",
      "Team_Attributes Column Names:\n",
      "\n",
      " ['id' 'team_fifa_api_id' 'team_api_id' 'date' 'buildUpPlaySpeed'\n",
      " 'buildUpPlaySpeedClass' 'buildUpPlayDribbling'\n",
      " 'buildUpPlayDribblingClass' 'buildUpPlayPassing'\n",
      " 'buildUpPlayPassingClass' 'buildUpPlayPositioningClass'\n",
      " 'chanceCreationPassing' 'chanceCreationPassingClass'\n",
      " 'chanceCreationCrossing' 'chanceCreationCrossingClass'\n",
      " 'chanceCreationShooting' 'chanceCreationShootingClass'\n",
      " 'chanceCreationPositioningClass' 'defencePressure' 'defencePressureClass'\n",
      " 'defenceAggression' 'defenceAggressionClass' 'defenceTeamWidth'\n",
      " 'defenceTeamWidthClass' 'defenceDefenderLineClass'] \n",
      "\n"
     ]
    }
   ],
   "source": [
    "for table in range(len(table_names)):\n",
    "    print(table_names[table], 'Column Names:\\n\\n', tables[table].columns.values, '\\n')"
   ]
  },
  {
   "cell_type": "code",
   "execution_count": 15,
   "metadata": {
    "execution": {
     "iopub.execute_input": "2021-04-08T22:51:36.008190Z",
     "iopub.status.busy": "2021-04-08T22:51:36.007909Z",
     "iopub.status.idle": "2021-04-08T22:51:36.073488Z",
     "shell.execute_reply": "2021-04-08T22:51:36.072752Z",
     "shell.execute_reply.started": "2021-04-08T22:51:36.008165Z"
    },
    "tags": []
   },
   "outputs": [
    {
     "name": "stdout",
     "output_type": "stream",
     "text": [
      "Player_Attributes NaN Values Percentage: \n",
      " id                     0.000000\n",
      "player_fifa_api_id     0.000000\n",
      "player_api_id          0.000000\n",
      "date                   0.000000\n",
      "overall_rating         0.454402\n",
      "potential              0.454402\n",
      "preferred_foot         0.454402\n",
      "attacking_work_rate    1.755645\n",
      "defensive_work_rate    0.454402\n",
      "crossing               0.454402\n",
      "finishing              0.454402\n",
      "heading_accuracy       0.454402\n",
      "short_passing          0.454402\n",
      "volleys                1.474633\n",
      "dribbling              0.454402\n",
      "curve                  1.474633\n",
      "free_kick_accuracy     0.454402\n",
      "long_passing           0.454402\n",
      "ball_control           0.454402\n",
      "acceleration           0.454402\n",
      "sprint_speed           0.454402\n",
      "agility                1.474633\n",
      "reactions              0.454402\n",
      "balance                1.474633\n",
      "shot_power             0.454402\n",
      "jumping                1.474633\n",
      "stamina                0.454402\n",
      "strength               0.454402\n",
      "long_shots             0.454402\n",
      "aggression             0.454402\n",
      "interceptions          0.454402\n",
      "positioning            0.454402\n",
      "vision                 1.474633\n",
      "penalties              0.454402\n",
      "marking                0.454402\n",
      "standing_tackle        0.454402\n",
      "sliding_tackle         1.474633\n",
      "gk_diving              0.454402\n",
      "gk_handling            0.454402\n",
      "gk_kicking             0.454402\n",
      "gk_positioning         0.454402\n",
      "gk_reflexes            0.454402\n",
      "dtype: float64 \n",
      "\n",
      "Player NaN Values Percentage: \n",
      " id                    0.0\n",
      "player_api_id         0.0\n",
      "player_name           0.0\n",
      "player_fifa_api_id    0.0\n",
      "birthday              0.0\n",
      "height                0.0\n",
      "weight                0.0\n",
      "dtype: float64 \n",
      "\n",
      "Match NaN Values Percentage: \n",
      " id             0.000000\n",
      "country_id     0.000000\n",
      "league_id      0.000000\n",
      "season         0.000000\n",
      "stage          0.000000\n",
      "                ...    \n",
      "GBD           45.486739\n",
      "GBA           45.486739\n",
      "BSH           45.490589\n",
      "BSD           45.490589\n",
      "BSA           45.490589\n",
      "Length: 115, dtype: float64 \n",
      "\n",
      "League NaN Values Percentage: \n",
      " id            0.0\n",
      "country_id    0.0\n",
      "name          0.0\n",
      "dtype: float64 \n",
      "\n",
      "Country NaN Values Percentage: \n",
      " id      0.0\n",
      "name    0.0\n",
      "dtype: float64 \n",
      "\n",
      "Team NaN Values Percentage: \n",
      " id                  0.00000\n",
      "team_api_id         0.00000\n",
      "team_fifa_api_id    3.67893\n",
      "team_long_name      0.00000\n",
      "team_short_name     0.00000\n",
      "dtype: float64 \n",
      "\n",
      "Team_Attributes NaN Values Percentage: \n",
      " id                                 0.000000\n",
      "team_fifa_api_id                   0.000000\n",
      "team_api_id                        0.000000\n",
      "date                               0.000000\n",
      "buildUpPlaySpeed                   0.000000\n",
      "buildUpPlaySpeedClass              0.000000\n",
      "buildUpPlayDribbling              66.460905\n",
      "buildUpPlayDribblingClass          0.000000\n",
      "buildUpPlayPassing                 0.000000\n",
      "buildUpPlayPassingClass            0.000000\n",
      "buildUpPlayPositioningClass        0.000000\n",
      "chanceCreationPassing              0.000000\n",
      "chanceCreationPassingClass         0.000000\n",
      "chanceCreationCrossing             0.000000\n",
      "chanceCreationCrossingClass        0.000000\n",
      "chanceCreationShooting             0.000000\n",
      "chanceCreationShootingClass        0.000000\n",
      "chanceCreationPositioningClass     0.000000\n",
      "defencePressure                    0.000000\n",
      "defencePressureClass               0.000000\n",
      "defenceAggression                  0.000000\n",
      "defenceAggressionClass             0.000000\n",
      "defenceTeamWidth                   0.000000\n",
      "defenceTeamWidthClass              0.000000\n",
      "defenceDefenderLineClass           0.000000\n",
      "dtype: float64 \n",
      "\n"
     ]
    }
   ],
   "source": [
    "for table in range(len(table_names)):\n",
    "    na_pct = tables[table].isna().sum()/tables[table].shape[0] * 100\n",
    "    print(table_names[table], 'NaN Values Percentage: \\n', na_pct, '\\n')"
   ]
  },
  {
   "cell_type": "markdown",
   "metadata": {},
   "source": [
    "### View NaN percentage of dataset"
   ]
  },
  {
   "cell_type": "code",
   "execution_count": 16,
   "metadata": {
    "execution": {
     "iopub.execute_input": "2021-04-08T22:51:36.074903Z",
     "iopub.status.busy": "2021-04-08T22:51:36.074656Z",
     "iopub.status.idle": "2021-04-08T22:51:36.097280Z",
     "shell.execute_reply": "2021-04-08T22:51:36.096830Z",
     "shell.execute_reply.started": "2021-04-08T22:51:36.074880Z"
    },
    "tags": []
   },
   "outputs": [
    {
     "name": "stdout",
     "output_type": "stream",
     "text": [
      "id                   0.000000\n",
      "country_id           0.000000\n",
      "league_id            0.000000\n",
      "season               0.000000\n",
      "stage                0.000000\n",
      "date                 0.000000\n",
      "match_api_id         0.000000\n",
      "home_team_api_id     0.000000\n",
      "away_team_api_id     0.000000\n",
      "home_team_goal       0.000000\n",
      "away_team_goal       0.000000\n",
      "home_player_X1       7.009508\n",
      "home_player_X2       7.009508\n",
      "home_player_X3       7.051850\n",
      "home_player_X4       7.051850\n",
      "home_player_X5       7.051850\n",
      "home_player_X6       7.051850\n",
      "home_player_X7       7.051850\n",
      "home_player_X8       7.051850\n",
      "home_player_X9       7.051850\n",
      "home_player_X10      7.051850\n",
      "home_player_X11      7.051850\n",
      "away_player_X1       7.051850\n",
      "away_player_X2       7.051850\n",
      "away_player_X3       7.051850\n",
      "away_player_X4       7.051850\n",
      "away_player_X5       7.051850\n",
      "away_player_X6       7.051850\n",
      "away_player_X7       7.051850\n",
      "away_player_X8       7.051850\n",
      "away_player_X9       7.055699\n",
      "away_player_X10      7.055699\n",
      "away_player_X11      7.078794\n",
      "home_player_Y1       7.009508\n",
      "home_player_Y2       7.009508\n",
      "home_player_Y3       7.051850\n",
      "home_player_Y4       7.051850\n",
      "home_player_Y5       7.051850\n",
      "home_player_Y6       7.051850\n",
      "home_player_Y7       7.051850\n",
      "home_player_Y8       7.051850\n",
      "home_player_Y9       7.051850\n",
      "home_player_Y10      7.051850\n",
      "home_player_Y11      7.051850\n",
      "away_player_Y1       7.051850\n",
      "away_player_Y2       7.051850\n",
      "away_player_Y3       7.051850\n",
      "away_player_Y4       7.051850\n",
      "away_player_Y5       7.051850\n",
      "away_player_Y6       7.051850\n",
      "away_player_Y7       7.051850\n",
      "away_player_Y8       7.051850\n",
      "away_player_Y9       7.055699\n",
      "away_player_Y10      7.055699\n",
      "away_player_Y11      7.078794\n",
      "home_player_1        4.711498\n",
      "home_player_2        5.061781\n",
      "home_player_3        4.930906\n",
      "home_player_4        5.092575\n",
      "home_player_5        5.065630\n",
      "home_player_6        5.100273\n",
      "home_player_7        4.723046\n",
      "home_player_8        5.038685\n",
      "home_player_9        4.900112\n",
      "home_player_10       5.527541\n",
      "home_player_11       5.985604\n",
      "away_player_1        4.749990\n",
      "away_player_2        4.919358\n",
      "away_player_3        4.977097\n",
      "away_player_4        5.084876\n",
      "away_player_5        5.138766\n",
      "away_player_6        5.054082\n",
      "away_player_7        4.753840\n",
      "away_player_8        5.161862\n",
      "away_player_9        5.111821\n",
      "away_player_10       5.546788\n",
      "away_player_11       5.981754\n",
      "goal                45.275030\n",
      "shoton              45.275030\n",
      "shotoff             45.275030\n",
      "foulcommit          45.275030\n",
      "card                45.275030\n",
      "cross               45.275030\n",
      "corner              45.275030\n",
      "possession          45.275030\n",
      "B365H               13.037453\n",
      "B365D               13.037453\n",
      "B365A               13.037453\n",
      "BWH                 13.102891\n",
      "BWD                 13.102891\n",
      "BWA                 13.102891\n",
      "IWH                 13.314600\n",
      "IWD                 13.314600\n",
      "IWA                 13.314600\n",
      "LBH                 13.176027\n",
      "LBD                 13.176027\n",
      "LBA                 13.176027\n",
      "PSH                 57.011432\n",
      "PSD                 57.011432\n",
      "PSA                 57.011432\n",
      "WHH                 13.118288\n",
      "WHD                 13.118288\n",
      "WHA                 13.118288\n",
      "SJH                 34.189153\n",
      "SJD                 34.189153\n",
      "SJA                 34.189153\n",
      "VCH                 13.129836\n",
      "VCD                 13.129836\n",
      "VCA                 13.129836\n",
      "GBH                 45.486739\n",
      "GBD                 45.486739\n",
      "GBA                 45.486739\n",
      "BSH                 45.490589\n",
      "BSD                 45.490589\n",
      "BSA                 45.490589\n",
      "dtype: float64\n"
     ]
    }
   ],
   "source": [
    "with pd.option_context('display.max_rows', None, 'display.max_columns', None): \n",
    "    print(tables[2].isna().sum()/tables[2].shape[0] * 100)"
   ]
  },
  {
   "cell_type": "markdown",
   "metadata": {},
   "source": [
    "Multiple rows in the \"Match\" table contain 13% or more worth of NaN data. Each column will have to be dealt with seperately with regards to either dropping the entire column, or imputing the data."
   ]
  },
  {
   "cell_type": "code",
   "execution_count": 17,
   "metadata": {
    "execution": {
     "iopub.execute_input": "2021-04-08T22:51:36.098259Z",
     "iopub.status.busy": "2021-04-08T22:51:36.098084Z",
     "iopub.status.idle": "2021-04-08T22:51:36.136121Z",
     "shell.execute_reply": "2021-04-08T22:51:36.135625Z",
     "shell.execute_reply.started": "2021-04-08T22:51:36.098236Z"
    },
    "tags": []
   },
   "outputs": [
    {
     "name": "stdout",
     "output_type": "stream",
     "text": [
      "          id  country_id  league_id     season  stage                 date  \\\n",
      "25974  25975       24558      24558  2015/2016      9  2015-09-22 00:00:00   \n",
      "25975  25976       24558      24558  2015/2016      9  2015-09-23 00:00:00   \n",
      "25976  25977       24558      24558  2015/2016      9  2015-09-23 00:00:00   \n",
      "25977  25978       24558      24558  2015/2016      9  2015-09-22 00:00:00   \n",
      "25978  25979       24558      24558  2015/2016      9  2015-09-23 00:00:00   \n",
      "\n",
      "       match_api_id  home_team_api_id  away_team_api_id  home_team_goal  \\\n",
      "25974       1992091             10190             10191               1   \n",
      "25975       1992092              9824             10199               1   \n",
      "25976       1992093              9956             10179               2   \n",
      "25977       1992094              7896             10243               0   \n",
      "25978       1992095             10192              9931               4   \n",
      "\n",
      "       away_team_goal  home_player_X1  home_player_X2  home_player_X3  \\\n",
      "25974               0             1.0             2.0             4.0   \n",
      "25975               2             1.0             3.0             5.0   \n",
      "25976               0             1.0             2.0             4.0   \n",
      "25977               0             1.0             2.0             4.0   \n",
      "25978               3             1.0             2.0             4.0   \n",
      "\n",
      "       home_player_X4  home_player_X5  home_player_X6  home_player_X7  \\\n",
      "25974             6.0             8.0             4.0             6.0   \n",
      "25975             7.0             2.0             4.0             6.0   \n",
      "25976             6.0             8.0             4.0             6.0   \n",
      "25977             6.0             8.0             3.0             7.0   \n",
      "25978             6.0             8.0             2.0             4.0   \n",
      "\n",
      "       home_player_X8  home_player_X9  home_player_X10  home_player_X11  \\\n",
      "25974             3.0             5.0              7.0              5.0   \n",
      "25975             8.0             5.0              4.0              6.0   \n",
      "25976             3.0             5.0              7.0              5.0   \n",
      "25977             5.0             3.0              5.0              7.0   \n",
      "25978             6.0             8.0              4.0              6.0   \n",
      "\n",
      "       away_player_X1  away_player_X2  away_player_X3  away_player_X4  \\\n",
      "25974             1.0             2.0             4.0             6.0   \n",
      "25975             1.0             2.0             4.0             6.0   \n",
      "25976             1.0             2.0             4.0             6.0   \n",
      "25977             1.0             2.0             4.0             6.0   \n",
      "25978             1.0             2.0             4.0             6.0   \n",
      "\n",
      "       away_player_X5  away_player_X6  away_player_X7  away_player_X8  \\\n",
      "25974             8.0             4.0             6.0             3.0   \n",
      "25975             8.0             3.0             5.0             7.0   \n",
      "25976             8.0             4.0             6.0             3.0   \n",
      "25977             8.0             4.0             6.0             3.0   \n",
      "25978             8.0             4.0             6.0             3.0   \n",
      "\n",
      "       away_player_X9  away_player_X10  away_player_X11  home_player_Y1  \\\n",
      "25974             5.0              7.0              5.0             1.0   \n",
      "25975             3.0              5.0              7.0             1.0   \n",
      "25976             5.0              7.0              5.0             1.0   \n",
      "25977             5.0              7.0              5.0             1.0   \n",
      "25978             5.0              7.0              5.0             1.0   \n",
      "\n",
      "       home_player_Y2  home_player_Y3  home_player_Y4  home_player_Y5  \\\n",
      "25974             3.0             3.0             3.0             3.0   \n",
      "25975             3.0             3.0             3.0             7.0   \n",
      "25976             3.0             3.0             3.0             3.0   \n",
      "25977             3.0             3.0             3.0             3.0   \n",
      "25978             3.0             3.0             3.0             3.0   \n",
      "\n",
      "       home_player_Y6  home_player_Y7  home_player_Y8  home_player_Y9  \\\n",
      "25974             6.0             6.0             8.0             8.0   \n",
      "25975             7.0             7.0             7.0             9.0   \n",
      "25976             6.0             6.0             8.0             8.0   \n",
      "25977             7.0             7.0             7.0            10.0   \n",
      "25978             7.0             7.0             7.0             7.0   \n",
      "\n",
      "       home_player_Y10  home_player_Y11  away_player_Y1  away_player_Y2  \\\n",
      "25974              8.0             11.0             1.0             3.0   \n",
      "25975             11.0             11.0             1.0             3.0   \n",
      "25976              8.0             11.0             1.0             3.0   \n",
      "25977             10.0             10.0             1.0             3.0   \n",
      "25978             10.0             10.0             1.0             3.0   \n",
      "\n",
      "       away_player_Y3  away_player_Y4  away_player_Y5  away_player_Y6  \\\n",
      "25974             3.0             3.0             3.0             6.0   \n",
      "25975             3.0             3.0             3.0             7.0   \n",
      "25976             3.0             3.0             3.0             6.0   \n",
      "25977             3.0             3.0             3.0             6.0   \n",
      "25978             3.0             3.0             3.0             6.0   \n",
      "\n",
      "       away_player_Y7  away_player_Y8  away_player_Y9  away_player_Y10  \\\n",
      "25974             6.0             8.0             8.0              8.0   \n",
      "25975             7.0             7.0            10.0             10.0   \n",
      "25976             6.0             8.0             8.0              8.0   \n",
      "25977             6.0             8.0             8.0              8.0   \n",
      "25978             6.0             8.0             8.0              8.0   \n",
      "\n",
      "       away_player_Y11  home_player_1  home_player_2  home_player_3  \\\n",
      "25974             11.0        42231.0       678384.0        95220.0   \n",
      "25975             10.0        33272.0        41621.0        25813.0   \n",
      "25976             11.0       157856.0       274779.0       177689.0   \n",
      "25977             11.0            NaN         8881.0       173534.0   \n",
      "25978             11.0       274787.0       492132.0       108451.0   \n",
      "\n",
      "       home_player_4  home_player_5  home_player_6  home_player_7  \\\n",
      "25974       638592.0       413155.0        45780.0       171229.0   \n",
      "25975       257845.0       114735.0        42237.0       113227.0   \n",
      "25976       294256.0        42258.0        39979.0       173936.0   \n",
      "25977        39646.0       282287.0       340790.0       393337.0   \n",
      "25978        25815.0        94553.0       384376.0       598355.0   \n",
      "\n",
      "       home_player_8  home_player_9  home_player_10  home_player_11  \\\n",
      "25974        67333.0       119839.0        143790.0        195215.0   \n",
      "25975       358156.0        32343.0        531309.0         37257.0   \n",
      "25976       147959.0       451983.0         80564.0        289472.0   \n",
      "25977         8893.0       614454.0         93229.0        178142.0   \n",
      "25978        36785.0        45174.0        302079.0         71764.0   \n",
      "\n",
      "       away_player_1  away_player_2  away_player_3  away_player_4  \\\n",
      "25974       462944.0       563066.0         8800.0        67304.0   \n",
      "25975        42276.0       114792.0       150007.0       178119.0   \n",
      "25976        10637.0        67349.0       202663.0        32597.0   \n",
      "25977       274776.0       121080.0       197757.0       260964.0   \n",
      "25978       156175.0        95216.0       172768.0        22834.0   \n",
      "\n",
      "       away_player_5  away_player_6  away_player_7  away_player_8  \\\n",
      "25974       158253.0       133126.0       186524.0        93223.0   \n",
      "25975        27232.0       570830.0       260708.0       201704.0   \n",
      "25976       114794.0       188114.0        25840.0       482200.0   \n",
      "25977       231614.0       113235.0        41116.0       462608.0   \n",
      "25978       458806.0       207234.0        25772.0        40274.0   \n",
      "\n",
      "       away_player_9  away_player_10  away_player_11 goal shoton shotoff  \\\n",
      "25974       121115.0        232110.0        289732.0  NaN    NaN     NaN   \n",
      "25975        36382.0         34082.0         95257.0  NaN    NaN     NaN   \n",
      "25976        95230.0        451335.0        275122.0  NaN    NaN     NaN   \n",
      "25977        42262.0         92252.0        194532.0  NaN    NaN     NaN   \n",
      "25978        34035.0         41726.0        527103.0  NaN    NaN     NaN   \n",
      "\n",
      "      foulcommit card cross corner possession  B365H  B365D  B365A  BWH  BWD  \\\n",
      "25974        NaN  NaN   NaN    NaN        NaN    NaN    NaN    NaN  NaN  NaN   \n",
      "25975        NaN  NaN   NaN    NaN        NaN    NaN    NaN    NaN  NaN  NaN   \n",
      "25976        NaN  NaN   NaN    NaN        NaN    NaN    NaN    NaN  NaN  NaN   \n",
      "25977        NaN  NaN   NaN    NaN        NaN    NaN    NaN    NaN  NaN  NaN   \n",
      "25978        NaN  NaN   NaN    NaN        NaN    NaN    NaN    NaN  NaN  NaN   \n",
      "\n",
      "       BWA  IWH  IWD  IWA  LBH  LBD  LBA  PSH  PSD  PSA  WHH  WHD  WHA  SJH  \\\n",
      "25974  NaN  NaN  NaN  NaN  NaN  NaN  NaN  NaN  NaN  NaN  NaN  NaN  NaN  NaN   \n",
      "25975  NaN  NaN  NaN  NaN  NaN  NaN  NaN  NaN  NaN  NaN  NaN  NaN  NaN  NaN   \n",
      "25976  NaN  NaN  NaN  NaN  NaN  NaN  NaN  NaN  NaN  NaN  NaN  NaN  NaN  NaN   \n",
      "25977  NaN  NaN  NaN  NaN  NaN  NaN  NaN  NaN  NaN  NaN  NaN  NaN  NaN  NaN   \n",
      "25978  NaN  NaN  NaN  NaN  NaN  NaN  NaN  NaN  NaN  NaN  NaN  NaN  NaN  NaN   \n",
      "\n",
      "       SJD  SJA  VCH  VCD  VCA  GBH  GBD  GBA  BSH  BSD  BSA  \n",
      "25974  NaN  NaN  NaN  NaN  NaN  NaN  NaN  NaN  NaN  NaN  NaN  \n",
      "25975  NaN  NaN  NaN  NaN  NaN  NaN  NaN  NaN  NaN  NaN  NaN  \n",
      "25976  NaN  NaN  NaN  NaN  NaN  NaN  NaN  NaN  NaN  NaN  NaN  \n",
      "25977  NaN  NaN  NaN  NaN  NaN  NaN  NaN  NaN  NaN  NaN  NaN  \n",
      "25978  NaN  NaN  NaN  NaN  NaN  NaN  NaN  NaN  NaN  NaN  NaN  \n"
     ]
    }
   ],
   "source": [
    "with pd.option_context('display.max_rows', None, 'display.max_columns', None): \n",
    "    print(tables[2].tail(5))"
   ]
  },
  {
   "cell_type": "markdown",
   "metadata": {},
   "source": [
    "### Some notes"
   ]
  },
  {
   "cell_type": "markdown",
   "metadata": {},
   "source": [
    "Home player X and Home player Y (and their away counterparts) contain information that cannot be translated accurately to the model and are pretty much useless except to create visuals of formations. For now this adds an unneccesary extra layer of dimensionality so it will be dropped."
   ]
  },
  {
   "cell_type": "markdown",
   "metadata": {
    "execution": {
     "iopub.execute_input": "2021-04-08T21:08:50.052851Z",
     "iopub.status.busy": "2021-04-08T21:08:50.052647Z",
     "iopub.status.idle": "2021-04-08T21:08:50.055892Z",
     "shell.execute_reply": "2021-04-08T21:08:50.055339Z",
     "shell.execute_reply.started": "2021-04-08T21:08:50.052828Z"
    },
    "tags": []
   },
   "source": [
    "Rows containing missing home and away players average around 5%, therefore it should be safe to drop these rows since it retains around 95% of the data"
   ]
  },
  {
   "cell_type": "markdown",
   "metadata": {},
   "source": [
    "Goalkeeper stats can be heavily influenced by outfield players, despite outfielders contributing nothing towards goalkeeping. Therefore when calculating player attributes goalkeeper should be isolated. This can be found by running something like max gk stat, and isolating the player id from the rest and then running avg calculations there."
   ]
  },
  {
   "cell_type": "markdown",
   "metadata": {},
   "source": [
    "Similarly I should be able to calculate the average Y coordinate value of the defending players. Then run some fuction that says:\n",
    "\n",
    "if Y < (avg defending player value)\n",
    "calculate average of relevant defensive columns"
   ]
  },
  {
   "cell_type": "markdown",
   "metadata": {},
   "source": [
    "Betting odds columns are basically gambling house predictions also possibly done by analyzing the very stats being calculated in this project. Conventional wisdom also states that teams with odds in their favor are probably more likely to win their games. \n",
    "\n",
    "Since this does not contribute towards analyzing an actual teams performance and can heavily skew the model, along with a large portion of the Match data missing these odds as well: gambling odds will be dropped entirely."
   ]
  },
  {
   "cell_type": "markdown",
   "metadata": {},
   "source": [
    "Unfortunately some of the most important match stats such as goals, shoton, shotoff, foulcommit, card, cross, corner, possession have around 45% of NaN values. These stats in particular are the most important to assess a team's performance throughout each individual game. Without them most modeling will end up relying on the sum/average of each teams individual player stats."
   ]
  },
  {
   "cell_type": "markdown",
   "metadata": {},
   "source": [
    "### Match Table Analysis and Cleaning"
   ]
  },
  {
   "cell_type": "code",
   "execution_count": 18,
   "metadata": {
    "execution": {
     "iopub.execute_input": "2021-04-08T22:51:36.136986Z",
     "iopub.status.busy": "2021-04-08T22:51:36.136840Z",
     "iopub.status.idle": "2021-04-08T22:51:36.146033Z",
     "shell.execute_reply": "2021-04-08T22:51:36.145410Z",
     "shell.execute_reply.started": "2021-04-08T22:51:36.136966Z"
    },
    "tags": []
   },
   "outputs": [
    {
     "name": "stdout",
     "output_type": "stream",
     "text": [
      "[nan\n",
      " '<possession><value><comment>56</comment><event_incident_typefk>352</event_incident_typefk><elapsed>25</elapsed><subtype>possession</subtype><sortorder>1</sortorder><awaypos>44</awaypos><homepos>56</homepos><n>68</n><type>special</type><id>379029</id></value><value><comment>54</comment><elapsed_plus>1</elapsed_plus><event_incident_typefk>352</event_incident_typefk><elapsed>45</elapsed><subtype>possession</subtype><sortorder>4</sortorder><awaypos>46</awaypos><homepos>54</homepos><n>117</n><type>special</type><id>379251</id></value><value><comment>54</comment><event_incident_typefk>352</event_incident_typefk><elapsed>70</elapsed><subtype>possession</subtype><sortorder>0</sortorder><awaypos>46</awaypos><homepos>54</homepos><n>190</n><type>special</type><id>379443</id></value><value><comment>55</comment><elapsed_plus>5</elapsed_plus><event_incident_typefk>352</event_incident_typefk><elapsed>90</elapsed><subtype>possession</subtype><sortorder>1</sortorder><awaypos>45</awaypos><homepos>55</homepos><n>252</n><type>special</type><id>379575</id></value></possession>'\n",
      " '<possession><value><comment>65</comment><event_incident_typefk>352</event_incident_typefk><elapsed>27</elapsed><subtype>possession</subtype><sortorder>0</sortorder><awaypos>35</awaypos><homepos>65</homepos><n>67</n><type>special</type><id>375608</id></value><value><comment>61</comment><elapsed_plus>2</elapsed_plus><event_incident_typefk>352</event_incident_typefk><elapsed>45</elapsed><subtype>possession</subtype><sortorder>1</sortorder><awaypos>39</awaypos><homepos>61</homepos><n>114</n><type>special</type><id>375663</id></value><value><comment>65</comment><event_incident_typefk>352</event_incident_typefk><elapsed>74</elapsed><subtype>possession</subtype><sortorder>3</sortorder><awaypos>35</awaypos><homepos>65</homepos><n>177</n><type>special</type><id>375787</id></value><value><comment>66</comment><elapsed_plus>3</elapsed_plus><event_incident_typefk>352</event_incident_typefk><elapsed>90</elapsed><subtype>possession</subtype><sortorder>2</sortorder><awaypos>34</awaypos><homepos>66</homepos><n>199</n><type>special</type><id>375909</id></value></possession>'\n",
      " ...\n",
      " '<possession><value><comment>49</comment><stats><homepos>49</homepos><awaypos>51</awaypos></stats><event_incident_typefk>352</event_incident_typefk><elapsed>21</elapsed><subtype>possession</subtype><sortorder>1</sortorder><awaypos>51</awaypos><homepos>49</homepos><n>84</n><type>special</type><id>4959914</id></value><value><comment>54</comment><stats><homepos>54</homepos><awaypos>46</awaypos></stats><event_incident_typefk>352</event_incident_typefk><elapsed>45</elapsed><subtype>possession</subtype><sortorder>0</sortorder><awaypos>46</awaypos><homepos>54</homepos><n>200</n><type>special</type><id>4959989</id></value><value><comment>54</comment><stats><homepos>54</homepos><awaypos>46</awaypos></stats><event_incident_typefk>352</event_incident_typefk><elapsed>66</elapsed><subtype>possession</subtype><sortorder>1</sortorder><awaypos>46</awaypos><homepos>54</homepos><n>313</n><type>special</type><id>4960077</id></value><value><comment>52</comment><stats><homepos>52</homepos><awaypos>48</awaypos></stats><elapsed_plus>1</elapsed_plus><event_incident_typefk>352</event_incident_typefk><elapsed>90</elapsed><subtype>possession</subtype><sortorder>3</sortorder><awaypos>48</awaypos><homepos>52</homepos><n>414</n><type>special</type><id>4960149</id></value></possession>'\n",
      " '<possession><value><comment>50</comment><stats><homepos>50</homepos><awaypos>50</awaypos></stats><event_incident_typefk>352</event_incident_typefk><elapsed>23</elapsed><subtype>possession</subtype><sortorder>0</sortorder><awaypos>50</awaypos><homepos>50</homepos><n>170</n><type>special</type><id>4946470</id></value><value><comment>46</comment><stats><homepos>46</homepos><awaypos>54</awaypos></stats><event_incident_typefk>352</event_incident_typefk><elapsed>42</elapsed><subtype>possession</subtype><sortorder>1</sortorder><awaypos>54</awaypos><homepos>46</homepos><n>317</n><type>special</type><id>4946731</id></value><value><comment>46</comment><stats><homepos>46</homepos><awaypos>54</awaypos></stats><event_incident_typefk>352</event_incident_typefk><elapsed>68</elapsed><subtype>possession</subtype><sortorder>3</sortorder><awaypos>54</awaypos><homepos>46</homepos><n>472</n><type>special</type><id>4947172</id></value><value><comment>45</comment><stats><homepos>45</homepos><awaypos>55</awaypos></stats><event_incident_typefk>352</event_incident_typefk><elapsed>85</elapsed><subtype>possession</subtype><sortorder>2</sortorder><awaypos>55</awaypos><homepos>45</homepos><n>581</n><type>special</type><id>4947481</id></value></possession>'\n",
      " '<possession><value><comment>59</comment><stats><homepos>59</homepos><awaypos>41</awaypos></stats><event_incident_typefk>352</event_incident_typefk><elapsed>22</elapsed><subtype>possession</subtype><sortorder>2</sortorder><awaypos>41</awaypos><homepos>59</homepos><n>204</n><type>special</type><id>4940420</id></value><value><comment>61</comment><stats><homepos>61</homepos><awaypos>39</awaypos></stats><event_incident_typefk>352</event_incident_typefk><elapsed>45</elapsed><subtype>possession</subtype><sortorder>0</sortorder><awaypos>39</awaypos><homepos>61</homepos><n>308</n><type>special</type><id>4940639</id></value><value><comment>60</comment><stats><homepos>60</homepos><awaypos>40</awaypos></stats><event_incident_typefk>352</event_incident_typefk><elapsed>68</elapsed><subtype>possession</subtype><sortorder>1</sortorder><awaypos>40</awaypos><homepos>60</homepos><n>381</n><type>special</type><id>4940941</id></value><value><comment>62</comment><stats><homepos>62</homepos><awaypos>38</awaypos></stats><elapsed_plus>1</elapsed_plus><event_incident_typefk>352</event_incident_typefk><elapsed>90</elapsed><subtype>possession</subtype><sortorder>2</sortorder><awaypos>38</awaypos><homepos>62</homepos><n>491</n><type>special</type><id>4941128</id></value></possession>']\n"
     ]
    }
   ],
   "source": [
    "print(Match['possession'].unique())"
   ]
  },
  {
   "cell_type": "markdown",
   "metadata": {},
   "source": [
    "Furthermore, the aforementioned columns almost look like some sort of markup language? Attached below is a sample of a value after running it through an HTML beautifier:"
   ]
  },
  {
   "cell_type": "markdown",
   "metadata": {
    "execution": {
     "iopub.execute_input": "2021-04-08T21:48:47.525606Z",
     "iopub.status.busy": "2021-04-08T21:48:47.525406Z",
     "iopub.status.idle": "2021-04-08T21:48:47.534549Z",
     "shell.execute_reply": "2021-04-08T21:48:47.534039Z",
     "shell.execute_reply.started": "2021-04-08T21:48:47.525573Z"
    },
    "tags": []
   },
   "source": [
    "![Beautified]('images/beautified_code.png')"
   ]
  },
  {
   "cell_type": "code",
   "execution_count": 19,
   "metadata": {
    "execution": {
     "iopub.execute_input": "2021-04-08T22:51:36.147186Z",
     "iopub.status.busy": "2021-04-08T22:51:36.146969Z",
     "iopub.status.idle": "2021-04-08T22:51:36.151669Z",
     "shell.execute_reply": "2021-04-08T22:51:36.151162Z",
     "shell.execute_reply.started": "2021-04-08T22:51:36.147163Z"
    }
   },
   "outputs": [
    {
     "data": {
      "text/plain": [
       "(25979, 115)"
      ]
     },
     "execution_count": 19,
     "metadata": {},
     "output_type": "execute_result"
    }
   ],
   "source": [
    "Match.shape"
   ]
  },
  {
   "cell_type": "markdown",
   "metadata": {},
   "source": [
    "Considering Match has 25,000 rows, it might be worth exploring dropping all matches without the important match statistics data. This will be put off for now"
   ]
  },
  {
   "cell_type": "code",
   "execution_count": 20,
   "metadata": {
    "execution": {
     "iopub.execute_input": "2021-04-08T22:51:36.152852Z",
     "iopub.status.busy": "2021-04-08T22:51:36.152656Z",
     "iopub.status.idle": "2021-04-08T22:51:36.159943Z",
     "shell.execute_reply": "2021-04-08T22:51:36.159560Z",
     "shell.execute_reply.started": "2021-04-08T22:51:36.152827Z"
    }
   },
   "outputs": [
    {
     "data": {
      "text/plain": [
       "array(['id', 'country_id', 'league_id', 'season', 'stage', 'date',\n",
       "       'match_api_id', 'home_team_api_id', 'away_team_api_id',\n",
       "       'home_team_goal', 'away_team_goal', 'home_player_X1',\n",
       "       'home_player_X2', 'home_player_X3', 'home_player_X4',\n",
       "       'home_player_X5', 'home_player_X6', 'home_player_X7',\n",
       "       'home_player_X8', 'home_player_X9', 'home_player_X10',\n",
       "       'home_player_X11', 'away_player_X1', 'away_player_X2',\n",
       "       'away_player_X3', 'away_player_X4', 'away_player_X5',\n",
       "       'away_player_X6', 'away_player_X7', 'away_player_X8',\n",
       "       'away_player_X9', 'away_player_X10', 'away_player_X11',\n",
       "       'home_player_Y1', 'home_player_Y2', 'home_player_Y3',\n",
       "       'home_player_Y4', 'home_player_Y5', 'home_player_Y6',\n",
       "       'home_player_Y7', 'home_player_Y8', 'home_player_Y9',\n",
       "       'home_player_Y10', 'home_player_Y11', 'away_player_Y1',\n",
       "       'away_player_Y2', 'away_player_Y3', 'away_player_Y4',\n",
       "       'away_player_Y5', 'away_player_Y6', 'away_player_Y7',\n",
       "       'away_player_Y8', 'away_player_Y9', 'away_player_Y10',\n",
       "       'away_player_Y11', 'home_player_1', 'home_player_2',\n",
       "       'home_player_3', 'home_player_4', 'home_player_5', 'home_player_6',\n",
       "       'home_player_7', 'home_player_8', 'home_player_9',\n",
       "       'home_player_10', 'home_player_11', 'away_player_1',\n",
       "       'away_player_2', 'away_player_3', 'away_player_4', 'away_player_5',\n",
       "       'away_player_6', 'away_player_7', 'away_player_8', 'away_player_9',\n",
       "       'away_player_10', 'away_player_11', 'goal', 'shoton', 'shotoff',\n",
       "       'foulcommit', 'card', 'cross', 'corner', 'possession', 'B365H',\n",
       "       'B365D', 'B365A', 'BWH', 'BWD', 'BWA', 'IWH', 'IWD', 'IWA', 'LBH',\n",
       "       'LBD', 'LBA', 'PSH', 'PSD', 'PSA', 'WHH', 'WHD', 'WHA', 'SJH',\n",
       "       'SJD', 'SJA', 'VCH', 'VCD', 'VCA', 'GBH', 'GBD', 'GBA', 'BSH',\n",
       "       'BSD', 'BSA'], dtype=object)"
      ]
     },
     "execution_count": 20,
     "metadata": {},
     "output_type": "execute_result"
    }
   ],
   "source": [
    "Match.columns.values"
   ]
  },
  {
   "cell_type": "markdown",
   "metadata": {},
   "source": [
    "Create list of columns to drop. X coordinate isnt as important as Y coordinate to determine striker vs midfielder vs defender vs goalkeeper. It was previously explained that betting odds are not beneficial to keep"
   ]
  },
  {
   "cell_type": "code",
   "execution_count": 21,
   "metadata": {
    "execution": {
     "iopub.execute_input": "2021-04-08T22:51:36.160711Z",
     "iopub.status.busy": "2021-04-08T22:51:36.160569Z",
     "iopub.status.idle": "2021-04-08T22:51:36.165576Z",
     "shell.execute_reply": "2021-04-08T22:51:36.165232Z",
     "shell.execute_reply.started": "2021-04-08T22:51:36.160693Z"
    },
    "tags": []
   },
   "outputs": [],
   "source": [
    "drop_cols = ['home_player_X1',\n",
    "       'home_player_X2', 'home_player_X3', 'home_player_X4',\n",
    "       'home_player_X5', 'home_player_X6', 'home_player_X7',\n",
    "       'home_player_X8', 'home_player_X9', 'home_player_X10',\n",
    "       'home_player_X11', 'away_player_X1', 'away_player_X2',\n",
    "       'away_player_X3', 'away_player_X4', 'away_player_X5',\n",
    "       'away_player_X6', 'away_player_X7', 'away_player_X8',\n",
    "       'away_player_X9', 'away_player_X10', 'away_player_X11','B365H',\n",
    "       'B365D', 'B365A', 'BWH', 'BWD', 'BWA', 'IWH', 'IWD', 'IWA', 'LBH',\n",
    "       'LBD', 'LBA', 'PSH', 'PSD', 'PSA', 'WHH', 'WHD', 'WHA', 'SJH',\n",
    "       'SJD', 'SJA', 'VCH', 'VCD', 'VCA', 'GBH', 'GBD', 'GBA', 'BSH',\n",
    "       'BSD', 'BSA']"
   ]
  },
  {
   "cell_type": "code",
   "execution_count": 22,
   "metadata": {
    "execution": {
     "iopub.execute_input": "2021-04-08T22:51:36.166309Z",
     "iopub.status.busy": "2021-04-08T22:51:36.166175Z",
     "iopub.status.idle": "2021-04-08T22:51:36.175437Z",
     "shell.execute_reply": "2021-04-08T22:51:36.174615Z",
     "shell.execute_reply.started": "2021-04-08T22:51:36.166290Z"
    },
    "tags": []
   },
   "outputs": [],
   "source": [
    "match_reduced = Match.drop(columns=drop_cols)"
   ]
  },
  {
   "cell_type": "code",
   "execution_count": 23,
   "metadata": {
    "execution": {
     "iopub.execute_input": "2021-04-08T22:51:36.176311Z",
     "iopub.status.busy": "2021-04-08T22:51:36.176183Z",
     "iopub.status.idle": "2021-04-08T22:51:36.179216Z",
     "shell.execute_reply": "2021-04-08T22:51:36.178802Z",
     "shell.execute_reply.started": "2021-04-08T22:51:36.176296Z"
    }
   },
   "outputs": [
    {
     "data": {
      "text/plain": [
       "(25979, 63)"
      ]
     },
     "execution_count": 23,
     "metadata": {},
     "output_type": "execute_result"
    }
   ],
   "source": [
    "match_reduced.shape"
   ]
  },
  {
   "cell_type": "markdown",
   "metadata": {
    "execution": {
     "iopub.execute_input": "2021-04-08T21:55:13.822736Z",
     "iopub.status.busy": "2021-04-08T21:55:13.822553Z",
     "iopub.status.idle": "2021-04-08T21:55:13.826233Z",
     "shell.execute_reply": "2021-04-08T21:55:13.825532Z",
     "shell.execute_reply.started": "2021-04-08T21:55:13.822715Z"
    }
   },
   "source": [
    "Drop NaN rows for players"
   ]
  },
  {
   "cell_type": "code",
   "execution_count": 24,
   "metadata": {
    "execution": {
     "iopub.execute_input": "2021-04-08T22:51:36.181907Z",
     "iopub.status.busy": "2021-04-08T22:51:36.181733Z",
     "iopub.status.idle": "2021-04-08T22:51:36.185990Z",
     "shell.execute_reply": "2021-04-08T22:51:36.185161Z",
     "shell.execute_reply.started": "2021-04-08T22:51:36.181883Z"
    }
   },
   "outputs": [],
   "source": [
    "#NaN columns to filter\n",
    "drop_rows = ['home_player_Y1', 'home_player_Y2', 'home_player_Y3',\n",
    "       'home_player_Y4', 'home_player_Y5', 'home_player_Y6',\n",
    "       'home_player_Y7', 'home_player_Y8', 'home_player_Y9',\n",
    "       'home_player_Y10', 'home_player_Y11', 'away_player_Y1',\n",
    "       'away_player_Y2', 'away_player_Y3', 'away_player_Y4',\n",
    "       'away_player_Y5', 'away_player_Y6', 'away_player_Y7',\n",
    "       'away_player_Y8', 'away_player_Y9', 'away_player_Y10',\n",
    "       'away_player_Y11', 'home_player_1', 'home_player_2',\n",
    "       'home_player_3', 'home_player_4', 'home_player_5', 'home_player_6',\n",
    "       'home_player_7', 'home_player_8', 'home_player_9',\n",
    "       'home_player_10', 'home_player_11', 'away_player_1',\n",
    "       'away_player_2', 'away_player_3', 'away_player_4', 'away_player_5',\n",
    "       'away_player_6', 'away_player_7', 'away_player_8', 'away_player_9',\n",
    "       'away_player_10', 'away_player_11']"
   ]
  },
  {
   "cell_type": "code",
   "execution_count": 25,
   "metadata": {
    "execution": {
     "iopub.execute_input": "2021-04-08T22:51:36.187575Z",
     "iopub.status.busy": "2021-04-08T22:51:36.187354Z",
     "iopub.status.idle": "2021-04-08T22:51:36.205765Z",
     "shell.execute_reply": "2021-04-08T22:51:36.205235Z",
     "shell.execute_reply.started": "2021-04-08T22:51:36.187551Z"
    },
    "tags": []
   },
   "outputs": [
    {
     "data": {
      "text/plain": [
       "(21361, 63)"
      ]
     },
     "execution_count": 25,
     "metadata": {},
     "output_type": "execute_result"
    }
   ],
   "source": [
    "match_reduced = match_reduced.dropna(subset=drop_rows)\n",
    "match_reduced.shape"
   ]
  },
  {
   "cell_type": "code",
   "execution_count": 26,
   "metadata": {
    "execution": {
     "iopub.execute_input": "2021-04-08T22:51:36.206649Z",
     "iopub.status.busy": "2021-04-08T22:51:36.206496Z",
     "iopub.status.idle": "2021-04-08T22:51:36.216372Z",
     "shell.execute_reply": "2021-04-08T22:51:36.215899Z",
     "shell.execute_reply.started": "2021-04-08T22:51:36.206630Z"
    },
    "tags": []
   },
   "outputs": [
    {
     "data": {
      "text/plain": [
       "home_player_Y1     0\n",
       "home_player_Y2     0\n",
       "home_player_Y3     0\n",
       "home_player_Y4     0\n",
       "home_player_Y5     0\n",
       "home_player_Y6     0\n",
       "home_player_Y7     0\n",
       "home_player_Y8     0\n",
       "home_player_Y9     0\n",
       "home_player_Y10    0\n",
       "home_player_Y11    0\n",
       "away_player_Y1     0\n",
       "away_player_Y2     0\n",
       "away_player_Y3     0\n",
       "away_player_Y4     0\n",
       "away_player_Y5     0\n",
       "away_player_Y6     0\n",
       "away_player_Y7     0\n",
       "away_player_Y8     0\n",
       "away_player_Y9     0\n",
       "away_player_Y10    0\n",
       "away_player_Y11    0\n",
       "home_player_1      0\n",
       "home_player_2      0\n",
       "home_player_3      0\n",
       "home_player_4      0\n",
       "home_player_5      0\n",
       "home_player_6      0\n",
       "home_player_7      0\n",
       "home_player_8      0\n",
       "home_player_9      0\n",
       "home_player_10     0\n",
       "home_player_11     0\n",
       "away_player_1      0\n",
       "away_player_2      0\n",
       "away_player_3      0\n",
       "away_player_4      0\n",
       "away_player_5      0\n",
       "away_player_6      0\n",
       "away_player_7      0\n",
       "away_player_8      0\n",
       "away_player_9      0\n",
       "away_player_10     0\n",
       "away_player_11     0\n",
       "dtype: int64"
      ]
     },
     "execution_count": 26,
     "metadata": {},
     "output_type": "execute_result"
    }
   ],
   "source": [
    "match_reduced[drop_rows].isna().sum()"
   ]
  },
  {
   "cell_type": "markdown",
   "metadata": {},
   "source": [
    "Match Reduced should be saved into a new csv now"
   ]
  },
  {
   "cell_type": "code",
   "execution_count": 27,
   "metadata": {
    "execution": {
     "iopub.execute_input": "2021-04-08T22:51:36.217486Z",
     "iopub.status.busy": "2021-04-08T22:51:36.217261Z",
     "iopub.status.idle": "2021-04-08T22:51:41.357780Z",
     "shell.execute_reply": "2021-04-08T22:51:41.357369Z",
     "shell.execute_reply.started": "2021-04-08T22:51:36.217459Z"
    }
   },
   "outputs": [],
   "source": [
    "match_reduced.to_csv('data/'  + 'match_red.csv', index= False)"
   ]
  },
  {
   "cell_type": "code",
   "execution_count": 28,
   "metadata": {
    "execution": {
     "iopub.execute_input": "2021-04-08T22:51:41.358771Z",
     "iopub.status.busy": "2021-04-08T22:51:41.358564Z",
     "iopub.status.idle": "2021-04-08T22:51:41.361640Z",
     "shell.execute_reply": "2021-04-08T22:51:41.360983Z",
     "shell.execute_reply.started": "2021-04-08T22:51:41.358747Z"
    },
    "tags": []
   },
   "outputs": [
    {
     "name": "stdout",
     "output_type": "stream",
     "text": [
      "Player_Attributes\n",
      "Player\n",
      "Match\n",
      "League\n",
      "Country\n",
      "Team\n",
      "Team_Attributes\n"
     ]
    }
   ],
   "source": [
    "for table in table_names:\n",
    "    print(table)"
   ]
  },
  {
   "cell_type": "code",
   "execution_count": 29,
   "metadata": {
    "execution": {
     "iopub.execute_input": "2021-04-08T22:51:41.362930Z",
     "iopub.status.busy": "2021-04-08T22:51:41.362727Z",
     "iopub.status.idle": "2021-04-08T22:51:41.407061Z",
     "shell.execute_reply": "2021-04-08T22:51:41.406566Z",
     "shell.execute_reply.started": "2021-04-08T22:51:41.362911Z"
    }
   },
   "outputs": [
    {
     "name": "stdout",
     "output_type": "stream",
     "text": [
      "Player_Attributes NaN Values Percentage: \n",
      " id                     0.000000\n",
      "player_fifa_api_id     0.000000\n",
      "player_api_id          0.000000\n",
      "date                   0.000000\n",
      "overall_rating         0.454402\n",
      "potential              0.454402\n",
      "preferred_foot         0.454402\n",
      "attacking_work_rate    1.755645\n",
      "defensive_work_rate    0.454402\n",
      "crossing               0.454402\n",
      "finishing              0.454402\n",
      "heading_accuracy       0.454402\n",
      "short_passing          0.454402\n",
      "volleys                1.474633\n",
      "dribbling              0.454402\n",
      "curve                  1.474633\n",
      "free_kick_accuracy     0.454402\n",
      "long_passing           0.454402\n",
      "ball_control           0.454402\n",
      "acceleration           0.454402\n",
      "sprint_speed           0.454402\n",
      "agility                1.474633\n",
      "reactions              0.454402\n",
      "balance                1.474633\n",
      "shot_power             0.454402\n",
      "jumping                1.474633\n",
      "stamina                0.454402\n",
      "strength               0.454402\n",
      "long_shots             0.454402\n",
      "aggression             0.454402\n",
      "interceptions          0.454402\n",
      "positioning            0.454402\n",
      "vision                 1.474633\n",
      "penalties              0.454402\n",
      "marking                0.454402\n",
      "standing_tackle        0.454402\n",
      "sliding_tackle         1.474633\n",
      "gk_diving              0.454402\n",
      "gk_handling            0.454402\n",
      "gk_kicking             0.454402\n",
      "gk_positioning         0.454402\n",
      "gk_reflexes            0.454402\n",
      "dtype: float64 \n",
      "\n",
      "Player NaN Values Percentage: \n",
      " id                    0.0\n",
      "player_api_id         0.0\n",
      "player_name           0.0\n",
      "player_fifa_api_id    0.0\n",
      "birthday              0.0\n",
      "height                0.0\n",
      "weight                0.0\n",
      "dtype: float64 \n",
      "\n",
      "League NaN Values Percentage: \n",
      " id            0.0\n",
      "country_id    0.0\n",
      "name          0.0\n",
      "dtype: float64 \n",
      "\n",
      "Country NaN Values Percentage: \n",
      " id      0.0\n",
      "name    0.0\n",
      "dtype: float64 \n",
      "\n",
      "Team NaN Values Percentage: \n",
      " id                  0.00000\n",
      "team_api_id         0.00000\n",
      "team_fifa_api_id    3.67893\n",
      "team_long_name      0.00000\n",
      "team_short_name     0.00000\n",
      "dtype: float64 \n",
      "\n",
      "Team_Attributes NaN Values Percentage: \n",
      " id                                 0.000000\n",
      "team_fifa_api_id                   0.000000\n",
      "team_api_id                        0.000000\n",
      "date                               0.000000\n",
      "buildUpPlaySpeed                   0.000000\n",
      "buildUpPlaySpeedClass              0.000000\n",
      "buildUpPlayDribbling              66.460905\n",
      "buildUpPlayDribblingClass          0.000000\n",
      "buildUpPlayPassing                 0.000000\n",
      "buildUpPlayPassingClass            0.000000\n",
      "buildUpPlayPositioningClass        0.000000\n",
      "chanceCreationPassing              0.000000\n",
      "chanceCreationPassingClass         0.000000\n",
      "chanceCreationCrossing             0.000000\n",
      "chanceCreationCrossingClass        0.000000\n",
      "chanceCreationShooting             0.000000\n",
      "chanceCreationShootingClass        0.000000\n",
      "chanceCreationPositioningClass     0.000000\n",
      "defencePressure                    0.000000\n",
      "defencePressureClass               0.000000\n",
      "defenceAggression                  0.000000\n",
      "defenceAggressionClass             0.000000\n",
      "defenceTeamWidth                   0.000000\n",
      "defenceTeamWidthClass              0.000000\n",
      "defenceDefenderLineClass           0.000000\n",
      "dtype: float64 \n",
      "\n"
     ]
    }
   ],
   "source": [
    "for table in range(len(table_names)):\n",
    "    if table != 2:\n",
    "        na_pct = tables[table].isna().sum()/tables[table].shape[0] * 100\n",
    "        print(table_names[table], 'NaN Values Percentage: \\n', na_pct, '\\n')"
   ]
  },
  {
   "cell_type": "code",
   "execution_count": 30,
   "metadata": {
    "execution": {
     "iopub.execute_input": "2021-04-08T22:51:41.408117Z",
     "iopub.status.busy": "2021-04-08T22:51:41.407941Z",
     "iopub.status.idle": "2021-04-08T22:51:41.413719Z",
     "shell.execute_reply": "2021-04-08T22:51:41.413193Z",
     "shell.execute_reply.started": "2021-04-08T22:51:41.408094Z"
    }
   },
   "outputs": [
    {
     "data": {
      "text/plain": [
       "array([nan, 48., 41., 64., 57., 70., 53., 47., 40., 43., 46., 61., 49.,\n",
       "       66., 51., 32., 37., 45., 52., 50., 38., 55., 35., 63., 30., 29.,\n",
       "       34., 24., 39., 31., 60., 44., 36., 56., 54., 33., 59., 58., 42.,\n",
       "       69., 62., 67., 65., 77., 28., 68., 71., 26., 27., 74.])"
      ]
     },
     "execution_count": 30,
     "metadata": {},
     "output_type": "execute_result"
    }
   ],
   "source": [
    "Team_Attributes['buildUpPlayDribbling'].unique()"
   ]
  },
  {
   "cell_type": "markdown",
   "metadata": {},
   "source": [
    "Notes, fifa api id columns are not necessary, date column on players is not necessary, team attributes buildupPlayDribbling contains a large amount of NaN values, drop column overall. Player name and birthday is irrelevant. Player attributes has such small amount of NaN rows percentage-wise that it might be better to leave the data as is, rather than drop rows due to less than 1% of NaN values. Imputing with averages would attribute values to these players we do not know they actually posses. "
   ]
  },
  {
   "cell_type": "code",
   "execution_count": 31,
   "metadata": {
    "execution": {
     "iopub.execute_input": "2021-04-08T22:51:41.414838Z",
     "iopub.status.busy": "2021-04-08T22:51:41.414576Z",
     "iopub.status.idle": "2021-04-08T22:51:41.435313Z",
     "shell.execute_reply": "2021-04-08T22:51:41.434828Z",
     "shell.execute_reply.started": "2021-04-08T22:51:41.414812Z"
    },
    "tags": []
   },
   "outputs": [],
   "source": [
    "player_att_red = Player_Attributes.drop(columns = ['player_fifa_api_id', 'date'])"
   ]
  },
  {
   "cell_type": "code",
   "execution_count": 32,
   "metadata": {
    "execution": {
     "iopub.execute_input": "2021-04-08T22:51:41.436450Z",
     "iopub.status.busy": "2021-04-08T22:51:41.436245Z",
     "iopub.status.idle": "2021-04-08T22:51:41.442736Z",
     "shell.execute_reply": "2021-04-08T22:51:41.442260Z",
     "shell.execute_reply.started": "2021-04-08T22:51:41.436426Z"
    }
   },
   "outputs": [],
   "source": [
    "player_red = Player.drop(columns = ['player_name', 'player_fifa_api_id', 'birthday'])"
   ]
  },
  {
   "cell_type": "code",
   "execution_count": 33,
   "metadata": {
    "execution": {
     "iopub.execute_input": "2021-04-08T22:51:41.443511Z",
     "iopub.status.busy": "2021-04-08T22:51:41.443364Z",
     "iopub.status.idle": "2021-04-08T22:51:41.447923Z",
     "shell.execute_reply": "2021-04-08T22:51:41.447483Z",
     "shell.execute_reply.started": "2021-04-08T22:51:41.443494Z"
    },
    "tags": []
   },
   "outputs": [],
   "source": [
    "team_red = Team.drop(columns = 'team_fifa_api_id')"
   ]
  },
  {
   "cell_type": "code",
   "execution_count": 34,
   "metadata": {
    "execution": {
     "iopub.execute_input": "2021-04-08T22:51:41.448651Z",
     "iopub.status.busy": "2021-04-08T22:51:41.448527Z",
     "iopub.status.idle": "2021-04-08T22:51:41.453945Z",
     "shell.execute_reply": "2021-04-08T22:51:41.453606Z",
     "shell.execute_reply.started": "2021-04-08T22:51:41.448636Z"
    },
    "tags": []
   },
   "outputs": [],
   "source": [
    "team_att_red = Team_Attributes.drop(columns = ['buildUpPlayDribbling', 'team_fifa_api_id', 'date'])"
   ]
  },
  {
   "cell_type": "code",
   "execution_count": 35,
   "metadata": {
    "execution": {
     "iopub.execute_input": "2021-04-08T22:51:41.454788Z",
     "iopub.status.busy": "2021-04-08T22:51:41.454665Z",
     "iopub.status.idle": "2021-04-08T22:51:44.470016Z",
     "shell.execute_reply": "2021-04-08T22:51:44.469625Z",
     "shell.execute_reply.started": "2021-04-08T22:51:41.454773Z"
    },
    "tags": []
   },
   "outputs": [],
   "source": [
    "player_att_red.to_csv('data/'  + 'player_att_red.csv', index= False)\n",
    "player_red.to_csv('data/'  + 'player_red.csv', index= False)\n",
    "team_red.to_csv('data/'  + 'team_red.csv', index= False)\n",
    "team_att_red.to_csv('data/'  + 'team_att_red.csv', index= False)"
   ]
  },
  {
   "cell_type": "code",
   "execution_count": 36,
   "metadata": {
    "execution": {
     "iopub.execute_input": "2021-04-08T22:51:44.470704Z",
     "iopub.status.busy": "2021-04-08T22:51:44.470575Z",
     "iopub.status.idle": "2021-04-08T22:51:44.473837Z",
     "shell.execute_reply": "2021-04-08T22:51:44.473193Z",
     "shell.execute_reply.started": "2021-04-08T22:51:44.470690Z"
    }
   },
   "outputs": [
    {
     "name": "stdout",
     "output_type": "stream",
     "text": [
      "Player_Attributes :  (183978, 42)\n",
      "Player :  (11060, 7)\n",
      "Match :  (25979, 115)\n",
      "League :  (11, 3)\n",
      "Country :  (11, 2)\n",
      "Team :  (299, 5)\n",
      "Team_Attributes :  (1458, 25)\n"
     ]
    }
   ],
   "source": [
    "for table in range(len(table_names)):\n",
    "    print(table_names[table], ': ', tables[table].shape)"
   ]
  },
  {
   "cell_type": "code",
   "execution_count": 37,
   "metadata": {
    "execution": {
     "iopub.execute_input": "2021-04-08T22:51:44.474926Z",
     "iopub.status.busy": "2021-04-08T22:51:44.474711Z",
     "iopub.status.idle": "2021-04-08T22:51:44.482294Z",
     "shell.execute_reply": "2021-04-08T22:51:44.481828Z",
     "shell.execute_reply.started": "2021-04-08T22:51:44.474895Z"
    },
    "tags": []
   },
   "outputs": [
    {
     "data": {
      "text/plain": [
       "((183978, 40), (11060, 4), (21361, 63), (11, 3), (11, 2), (299, 4), (1458, 22))"
      ]
     },
     "execution_count": 37,
     "metadata": {},
     "output_type": "execute_result"
    }
   ],
   "source": [
    "player_att_red.shape, player_red.shape, match_reduced.shape, League.shape, Country.shape, team_red.shape, team_att_red.shape"
   ]
  },
  {
   "cell_type": "markdown",
   "metadata": {
    "execution": {
     "iopub.execute_input": "2021-04-08T22:39:08.434040Z",
     "iopub.status.busy": "2021-04-08T22:39:08.433864Z",
     "iopub.status.idle": "2021-04-08T22:39:08.437686Z",
     "shell.execute_reply": "2021-04-08T22:39:08.436972Z",
     "shell.execute_reply.started": "2021-04-08T22:39:08.434020Z"
    }
   },
   "source": [
    "Also create an alternate match_reduced table with the 45% NaN match stats values dropped, should I wish to pursue that route."
   ]
  },
  {
   "cell_type": "code",
   "execution_count": 38,
   "metadata": {
    "execution": {
     "iopub.execute_input": "2021-04-08T22:51:44.483155Z",
     "iopub.status.busy": "2021-04-08T22:51:44.482993Z",
     "iopub.status.idle": "2021-04-08T22:51:44.489687Z",
     "shell.execute_reply": "2021-04-08T22:51:44.488888Z",
     "shell.execute_reply.started": "2021-04-08T22:51:44.483135Z"
    },
    "tags": []
   },
   "outputs": [
    {
     "data": {
      "text/plain": [
       "(21361, 63)"
      ]
     },
     "execution_count": 38,
     "metadata": {},
     "output_type": "execute_result"
    }
   ],
   "source": [
    "match_reduced.shape"
   ]
  },
  {
   "cell_type": "code",
   "execution_count": 39,
   "metadata": {
    "execution": {
     "iopub.execute_input": "2021-04-08T22:51:51.407165Z",
     "iopub.status.busy": "2021-04-08T22:51:51.407052Z",
     "iopub.status.idle": "2021-04-08T22:51:51.411289Z",
     "shell.execute_reply": "2021-04-08T22:51:51.410900Z",
     "shell.execute_reply.started": "2021-04-08T22:51:51.407151Z"
    },
    "tags": []
   },
   "outputs": [
    {
     "data": {
      "text/plain": [
       "8040"
      ]
     },
     "execution_count": 39,
     "metadata": {},
     "output_type": "execute_result"
    }
   ],
   "source": [
    "match_reduced['possession'].isna().sum()"
   ]
  },
  {
   "cell_type": "code",
   "execution_count": 41,
   "metadata": {
    "execution": {
     "iopub.execute_input": "2021-04-08T22:52:48.715419Z",
     "iopub.status.busy": "2021-04-08T22:52:48.715196Z",
     "iopub.status.idle": "2021-04-08T22:52:48.718224Z",
     "shell.execute_reply": "2021-04-08T22:52:48.717697Z",
     "shell.execute_reply.started": "2021-04-08T22:52:48.715397Z"
    },
    "tags": []
   },
   "outputs": [],
   "source": [
    "drop_stats = ['possession', 'shoton', 'shotoff','foulcommit', 'card', 'cross', 'corner']"
   ]
  },
  {
   "cell_type": "code",
   "execution_count": 42,
   "metadata": {
    "execution": {
     "iopub.execute_input": "2021-04-08T22:52:51.415135Z",
     "iopub.status.busy": "2021-04-08T22:52:51.414949Z",
     "iopub.status.idle": "2021-04-08T22:52:51.434722Z",
     "shell.execute_reply": "2021-04-08T22:52:51.434246Z",
     "shell.execute_reply.started": "2021-04-08T22:52:51.415113Z"
    },
    "tags": []
   },
   "outputs": [
    {
     "data": {
      "text/plain": [
       "(13321, 63)"
      ]
     },
     "execution_count": 42,
     "metadata": {},
     "output_type": "execute_result"
    }
   ],
   "source": [
    "match_stats_full = match_reduced.dropna(subset=drop_stats)\n",
    "match_stats_full.shape"
   ]
  },
  {
   "cell_type": "code",
   "execution_count": 43,
   "metadata": {
    "execution": {
     "iopub.execute_input": "2021-04-08T22:53:24.644904Z",
     "iopub.status.busy": "2021-04-08T22:53:24.644625Z",
     "iopub.status.idle": "2021-04-08T22:53:31.200462Z",
     "shell.execute_reply": "2021-04-08T22:53:31.199827Z",
     "shell.execute_reply.started": "2021-04-08T22:53:24.644870Z"
    }
   },
   "outputs": [],
   "source": [
    "match_stats_full.to_csv('data/'  + 'match_with_stats.csv', index= False)"
   ]
  },
  {
   "cell_type": "markdown",
   "metadata": {},
   "source": [
    "Also create match table without the stats columns in case they prove too problematic to extract useful values from"
   ]
  },
  {
   "cell_type": "code",
   "execution_count": 44,
   "metadata": {
    "execution": {
     "iopub.execute_input": "2021-04-08T23:11:01.716531Z",
     "iopub.status.busy": "2021-04-08T23:11:01.716375Z",
     "iopub.status.idle": "2021-04-08T23:11:01.718887Z",
     "shell.execute_reply": "2021-04-08T23:11:01.718411Z",
     "shell.execute_reply.started": "2021-04-08T23:11:01.716515Z"
    }
   },
   "outputs": [],
   "source": [
    "stat_cols = ['goal',\n",
    "       'shoton', 'shotoff', 'foulcommit', 'card', 'cross', 'corner',\n",
    "       'possession']"
   ]
  },
  {
   "cell_type": "code",
   "execution_count": 45,
   "metadata": {
    "execution": {
     "iopub.execute_input": "2021-04-08T23:11:28.048889Z",
     "iopub.status.busy": "2021-04-08T23:11:28.048715Z",
     "iopub.status.idle": "2021-04-08T23:11:28.053394Z",
     "shell.execute_reply": "2021-04-08T23:11:28.052904Z",
     "shell.execute_reply.started": "2021-04-08T23:11:28.048874Z"
    }
   },
   "outputs": [],
   "source": [
    "statlessmatches = match_reduced.drop(columns=stat_cols)"
   ]
  },
  {
   "cell_type": "code",
   "execution_count": 46,
   "metadata": {
    "execution": {
     "iopub.execute_input": "2021-04-08T23:11:34.538046Z",
     "iopub.status.busy": "2021-04-08T23:11:34.537837Z",
     "iopub.status.idle": "2021-04-08T23:11:34.541266Z",
     "shell.execute_reply": "2021-04-08T23:11:34.540872Z",
     "shell.execute_reply.started": "2021-04-08T23:11:34.538024Z"
    }
   },
   "outputs": [
    {
     "data": {
      "text/plain": [
       "(21361, 55)"
      ]
     },
     "execution_count": 46,
     "metadata": {},
     "output_type": "execute_result"
    }
   ],
   "source": [
    "statlessmatches.shape"
   ]
  },
  {
   "cell_type": "code",
   "execution_count": 47,
   "metadata": {
    "execution": {
     "iopub.execute_input": "2021-04-08T23:11:59.102033Z",
     "iopub.status.busy": "2021-04-08T23:11:59.101779Z",
     "iopub.status.idle": "2021-04-08T23:11:59.634564Z",
     "shell.execute_reply": "2021-04-08T23:11:59.634149Z",
     "shell.execute_reply.started": "2021-04-08T23:11:59.102006Z"
    }
   },
   "outputs": [],
   "source": [
    "statlessmatches.to_csv('data/'  + 'statless_matches.csv', index= False)"
   ]
  },
  {
   "cell_type": "code",
   "execution_count": null,
   "metadata": {},
   "outputs": [],
   "source": []
  }
 ],
 "metadata": {
  "kernelspec": {
   "display_name": "Python 3",
   "language": "python",
   "name": "python3"
  },
  "language_info": {
   "codemirror_mode": {
    "name": "ipython",
    "version": 3
   },
   "file_extension": ".py",
   "mimetype": "text/x-python",
   "name": "python",
   "nbconvert_exporter": "python",
   "pygments_lexer": "ipython3",
   "version": "3.9.2"
  }
 },
 "nbformat": 4,
 "nbformat_minor": 4
}
