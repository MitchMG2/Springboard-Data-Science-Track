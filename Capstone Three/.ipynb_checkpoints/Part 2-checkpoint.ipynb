{
 "cells": [
  {
   "cell_type": "markdown",
   "metadata": {},
   "source": [
    "### Imports"
   ]
  },
  {
   "cell_type": "code",
   "execution_count": 5,
   "metadata": {
    "execution": {
     "iopub.execute_input": "2021-04-08T22:53:32.566119Z",
     "iopub.status.busy": "2021-04-08T22:53:32.565749Z",
     "iopub.status.idle": "2021-04-08T22:53:32.570602Z",
     "shell.execute_reply": "2021-04-08T22:53:32.570111Z",
     "shell.execute_reply.started": "2021-04-08T22:53:32.566076Z"
    },
    "tags": []
   },
   "outputs": [],
   "source": [
    "import pandas as pd\n",
    "import numpy as np\n",
    "import matplotlib.pyplot as plt\n",
    "import datetime\n",
    "import os"
   ]
  },
  {
   "cell_type": "code",
   "execution_count": 34,
   "metadata": {
    "execution": {
     "iopub.execute_input": "2021-04-09T00:39:28.631534Z",
     "iopub.status.busy": "2021-04-09T00:39:28.631150Z",
     "iopub.status.idle": "2021-04-09T00:39:29.124399Z",
     "shell.execute_reply": "2021-04-09T00:39:29.124018Z",
     "shell.execute_reply.started": "2021-04-09T00:39:28.631504Z"
    },
    "tags": []
   },
   "outputs": [],
   "source": [
    "Country = pd.read_csv('data/Country.csv')\n",
    "League = pd.read_csv('data/League.csv')\n",
    "Match = pd.read_csv('data/statless_matches.csv')\n",
    "Player = pd.read_csv('data/player_red.csv')\n",
    "Player_att = pd.read_csv('data/player_att_red.csv')\n",
    "Team = pd.read_csv('data/team_red.csv')\n",
    "Team_att = pd.read_csv('data/team_att_red.csv')"
   ]
  },
  {
   "cell_type": "code",
   "execution_count": 17,
   "metadata": {
    "execution": {
     "iopub.execute_input": "2021-04-08T23:23:41.129096Z",
     "iopub.status.busy": "2021-04-08T23:23:41.128744Z",
     "iopub.status.idle": "2021-04-08T23:23:41.133137Z",
     "shell.execute_reply": "2021-04-08T23:23:41.132720Z",
     "shell.execute_reply.started": "2021-04-08T23:23:41.129055Z"
    },
    "tags": []
   },
   "outputs": [
    {
     "data": {
      "text/plain": [
       "array(['id', 'country_id', 'league_id', 'season', 'stage', 'date',\n",
       "       'match_api_id', 'home_team_api_id', 'away_team_api_id',\n",
       "       'home_team_goal', 'away_team_goal', 'home_player_Y1',\n",
       "       'home_player_Y2', 'home_player_Y3', 'home_player_Y4',\n",
       "       'home_player_Y5', 'home_player_Y6', 'home_player_Y7',\n",
       "       'home_player_Y8', 'home_player_Y9', 'home_player_Y10',\n",
       "       'home_player_Y11', 'away_player_Y1', 'away_player_Y2',\n",
       "       'away_player_Y3', 'away_player_Y4', 'away_player_Y5',\n",
       "       'away_player_Y6', 'away_player_Y7', 'away_player_Y8',\n",
       "       'away_player_Y9', 'away_player_Y10', 'away_player_Y11',\n",
       "       'home_player_1', 'home_player_2', 'home_player_3', 'home_player_4',\n",
       "       'home_player_5', 'home_player_6', 'home_player_7', 'home_player_8',\n",
       "       'home_player_9', 'home_player_10', 'home_player_11',\n",
       "       'away_player_1', 'away_player_2', 'away_player_3', 'away_player_4',\n",
       "       'away_player_5', 'away_player_6', 'away_player_7', 'away_player_8',\n",
       "       'away_player_9', 'away_player_10', 'away_player_11'], dtype=object)"
      ]
     },
     "execution_count": 17,
     "metadata": {},
     "output_type": "execute_result"
    }
   ],
   "source": [
    "Match.columns.values"
   ]
  },
  {
   "cell_type": "code",
   "execution_count": 20,
   "metadata": {
    "execution": {
     "iopub.execute_input": "2021-04-08T23:25:26.022251Z",
     "iopub.status.busy": "2021-04-08T23:25:26.022097Z",
     "iopub.status.idle": "2021-04-08T23:25:26.025847Z",
     "shell.execute_reply": "2021-04-08T23:25:26.024732Z",
     "shell.execute_reply.started": "2021-04-08T23:25:26.022235Z"
    },
    "tags": []
   },
   "outputs": [],
   "source": [
    "y_coord = ['home_player_Y1',\n",
    "       'home_player_Y2', 'home_player_Y3', 'home_player_Y4',\n",
    "       'home_player_Y5', 'home_player_Y6', 'home_player_Y7',\n",
    "       'home_player_Y8', 'home_player_Y9', 'home_player_Y10',\n",
    "       'home_player_Y11', 'away_player_Y1', 'away_player_Y2',\n",
    "       'away_player_Y3', 'away_player_Y4', 'away_player_Y5',\n",
    "       'away_player_Y6', 'away_player_Y7', 'away_player_Y8',\n",
    "       'away_player_Y9', 'away_player_Y10', 'away_player_Y11']"
   ]
  },
  {
   "cell_type": "code",
   "execution_count": 21,
   "metadata": {
    "execution": {
     "iopub.execute_input": "2021-04-08T23:25:37.013986Z",
     "iopub.status.busy": "2021-04-08T23:25:37.013807Z",
     "iopub.status.idle": "2021-04-08T23:25:37.020689Z",
     "shell.execute_reply": "2021-04-08T23:25:37.020248Z",
     "shell.execute_reply.started": "2021-04-08T23:25:37.013964Z"
    }
   },
   "outputs": [
    {
     "name": "stdout",
     "output_type": "stream",
     "text": [
      "0        10.0\n",
      "1        10.0\n",
      "2        10.0\n",
      "3        10.0\n",
      "4        10.0\n",
      "         ... \n",
      "21356    11.0\n",
      "21357    11.0\n",
      "21358    11.0\n",
      "21359    11.0\n",
      "21360    11.0\n",
      "Length: 21361, dtype: float64\n"
     ]
    }
   ],
   "source": [
    "print(Match[y_coord].max(axis=1))"
   ]
  },
  {
   "cell_type": "code",
   "execution_count": 22,
   "metadata": {
    "execution": {
     "iopub.execute_input": "2021-04-08T23:25:50.591569Z",
     "iopub.status.busy": "2021-04-08T23:25:50.591389Z",
     "iopub.status.idle": "2021-04-08T23:25:50.598123Z",
     "shell.execute_reply": "2021-04-08T23:25:50.597717Z",
     "shell.execute_reply.started": "2021-04-08T23:25:50.591548Z"
    }
   },
   "outputs": [
    {
     "name": "stdout",
     "output_type": "stream",
     "text": [
      "0        1.0\n",
      "1        1.0\n",
      "2        1.0\n",
      "3        1.0\n",
      "4        1.0\n",
      "        ... \n",
      "21356    1.0\n",
      "21357    1.0\n",
      "21358    1.0\n",
      "21359    1.0\n",
      "21360    1.0\n",
      "Length: 21361, dtype: float64\n"
     ]
    }
   ],
   "source": [
    "print(Match[y_coord].min(axis=1))"
   ]
  },
  {
   "cell_type": "code",
   "execution_count": 24,
   "metadata": {
    "execution": {
     "iopub.execute_input": "2021-04-08T23:26:02.999627Z",
     "iopub.status.busy": "2021-04-08T23:26:02.999392Z",
     "iopub.status.idle": "2021-04-08T23:26:03.007048Z",
     "shell.execute_reply": "2021-04-08T23:26:03.006229Z",
     "shell.execute_reply.started": "2021-04-08T23:26:02.999601Z"
    },
    "tags": []
   },
   "outputs": [
    {
     "name": "stdout",
     "output_type": "stream",
     "text": [
      "0        5.545455\n",
      "1        5.545455\n",
      "2        5.545455\n",
      "3        5.545455\n",
      "4        5.545455\n",
      "           ...   \n",
      "21356    5.500000\n",
      "21357    5.454545\n",
      "21358    6.045455\n",
      "21359    5.454545\n",
      "21360    5.500000\n",
      "Length: 21361, dtype: float64\n"
     ]
    }
   ],
   "source": [
    "print(Match[y_coord].mean(axis=1))"
   ]
  },
  {
   "cell_type": "code",
   "execution_count": 30,
   "metadata": {
    "execution": {
     "iopub.execute_input": "2021-04-08T23:30:42.702913Z",
     "iopub.status.busy": "2021-04-08T23:30:42.702690Z",
     "iopub.status.idle": "2021-04-08T23:30:42.791966Z",
     "shell.execute_reply": "2021-04-08T23:30:42.790570Z",
     "shell.execute_reply.started": "2021-04-08T23:30:42.702889Z"
    },
    "tags": []
   },
   "outputs": [
    {
     "name": "stdout",
     "output_type": "stream",
     "text": [
      "      home_player_Y1  home_player_Y2  home_player_Y3  home_player_Y4  \\\n",
      "1.0          21361.0             NaN             NaN             NaN   \n",
      "3.0              NaN         21361.0         21360.0         21356.0   \n",
      "5.0              NaN             NaN             1.0             5.0   \n",
      "6.0              NaN             NaN             NaN             NaN   \n",
      "7.0              NaN             NaN             NaN             NaN   \n",
      "8.0              NaN             NaN             NaN             NaN   \n",
      "9.0              NaN             NaN             NaN             NaN   \n",
      "10.0             NaN             NaN             NaN             NaN   \n",
      "11.0             NaN             NaN             NaN             NaN   \n",
      "\n",
      "      home_player_Y5  home_player_Y6  home_player_Y7  home_player_Y8  \\\n",
      "1.0              NaN             NaN             NaN             NaN   \n",
      "3.0          20033.0           248.0             3.0             4.0   \n",
      "5.0             37.0          1597.0           718.0           402.0   \n",
      "6.0              6.0          7217.0          6341.0           461.0   \n",
      "7.0           1284.0         12235.0         13660.0         13958.0   \n",
      "8.0              1.0            61.0           634.0          6517.0   \n",
      "9.0              NaN             3.0             5.0            19.0   \n",
      "10.0             NaN             NaN             NaN             NaN   \n",
      "11.0             NaN             NaN             NaN             NaN   \n",
      "\n",
      "      home_player_Y9  home_player_Y10  ...  away_player_Y2  away_player_Y3  \\\n",
      "1.0              NaN              NaN  ...             NaN             NaN   \n",
      "3.0              NaN              NaN  ...         21361.0         21361.0   \n",
      "5.0              NaN              NaN  ...             NaN             NaN   \n",
      "6.0             53.0             69.0  ...             NaN             NaN   \n",
      "7.0           8667.0           1063.0  ...             NaN             NaN   \n",
      "8.0           7260.0           6407.0  ...             NaN             NaN   \n",
      "9.0           1167.0           1426.0  ...             NaN             NaN   \n",
      "10.0          4214.0          11743.0  ...             NaN             NaN   \n",
      "11.0             NaN            653.0  ...             NaN             NaN   \n",
      "\n",
      "      away_player_Y4  away_player_Y5  away_player_Y6  away_player_Y7  \\\n",
      "1.0              NaN             NaN             NaN             NaN   \n",
      "3.0          21360.0         20004.0           311.0             3.0   \n",
      "5.0              1.0            33.0          1554.0           663.0   \n",
      "6.0              NaN            10.0          7277.0          6336.0   \n",
      "7.0              NaN          1313.0         12152.0         13651.0   \n",
      "8.0              NaN             NaN            64.0           706.0   \n",
      "9.0              NaN             1.0             3.0             2.0   \n",
      "10.0             NaN             NaN             NaN             NaN   \n",
      "11.0             NaN             NaN             NaN             NaN   \n",
      "\n",
      "      away_player_Y8  away_player_Y9  away_player_Y10  away_player_Y11  \n",
      "1.0              NaN             NaN              NaN              NaN  \n",
      "3.0              1.0             NaN              NaN              NaN  \n",
      "5.0            364.0             NaN              NaN              NaN  \n",
      "6.0            495.0            74.0             72.0              NaN  \n",
      "7.0          13932.0          8673.0           1414.0              1.0  \n",
      "8.0           6545.0          7258.0           6466.0              1.0  \n",
      "9.0             22.0          1137.0           1443.0              NaN  \n",
      "10.0             2.0          4219.0          11349.0          11352.0  \n",
      "11.0             NaN             NaN            617.0          10007.0  \n",
      "\n",
      "[9 rows x 22 columns]\n"
     ]
    }
   ],
   "source": [
    "print(Match[y_coord].apply(pd.Series.value_counts))"
   ]
  },
  {
   "cell_type": "markdown",
   "metadata": {},
   "source": [
    "player_y1 is ALWAYS goalkeeper at coordinate 1.0\n",
    "<br>\n",
    "y2-y5 is almost always defender at coordinate 3. Set 3 as default for defenders\n",
    "\n",
    "coordinate 6-8 should be midfield\n",
    "coordinate 9-11 is striker zone"
   ]
  },
  {
   "cell_type": "code",
   "execution_count": 35,
   "metadata": {
    "execution": {
     "iopub.execute_input": "2021-04-09T00:39:31.481689Z",
     "iopub.status.busy": "2021-04-09T00:39:31.481501Z",
     "iopub.status.idle": "2021-04-09T00:39:31.501599Z",
     "shell.execute_reply": "2021-04-09T00:39:31.501158Z",
     "shell.execute_reply.started": "2021-04-09T00:39:31.481668Z"
    },
    "tags": []
   },
   "outputs": [
    {
     "data": {
      "text/html": [
       "<div>\n",
       "<style scoped>\n",
       "    .dataframe tbody tr th:only-of-type {\n",
       "        vertical-align: middle;\n",
       "    }\n",
       "\n",
       "    .dataframe tbody tr th {\n",
       "        vertical-align: top;\n",
       "    }\n",
       "\n",
       "    .dataframe thead th {\n",
       "        text-align: right;\n",
       "    }\n",
       "</style>\n",
       "<table border=\"1\" class=\"dataframe\">\n",
       "  <thead>\n",
       "    <tr style=\"text-align: right;\">\n",
       "      <th></th>\n",
       "      <th>id</th>\n",
       "      <th>player_api_id</th>\n",
       "      <th>overall_rating</th>\n",
       "      <th>potential</th>\n",
       "      <th>attacking_work_rate</th>\n",
       "      <th>defensive_work_rate</th>\n",
       "      <th>crossing</th>\n",
       "      <th>finishing</th>\n",
       "      <th>heading_accuracy</th>\n",
       "      <th>short_passing</th>\n",
       "      <th>...</th>\n",
       "      <th>vision</th>\n",
       "      <th>penalties</th>\n",
       "      <th>marking</th>\n",
       "      <th>standing_tackle</th>\n",
       "      <th>sliding_tackle</th>\n",
       "      <th>gk_diving</th>\n",
       "      <th>gk_handling</th>\n",
       "      <th>gk_kicking</th>\n",
       "      <th>gk_positioning</th>\n",
       "      <th>gk_reflexes</th>\n",
       "    </tr>\n",
       "  </thead>\n",
       "  <tbody>\n",
       "    <tr>\n",
       "      <th>0</th>\n",
       "      <td>1</td>\n",
       "      <td>505942</td>\n",
       "      <td>67.0</td>\n",
       "      <td>71.0</td>\n",
       "      <td>medium</td>\n",
       "      <td>medium</td>\n",
       "      <td>49.0</td>\n",
       "      <td>44.0</td>\n",
       "      <td>71.0</td>\n",
       "      <td>61.0</td>\n",
       "      <td>...</td>\n",
       "      <td>54.0</td>\n",
       "      <td>48.0</td>\n",
       "      <td>65.0</td>\n",
       "      <td>69.0</td>\n",
       "      <td>69.0</td>\n",
       "      <td>6.0</td>\n",
       "      <td>11.0</td>\n",
       "      <td>10.0</td>\n",
       "      <td>8.0</td>\n",
       "      <td>8.0</td>\n",
       "    </tr>\n",
       "    <tr>\n",
       "      <th>1</th>\n",
       "      <td>2</td>\n",
       "      <td>505942</td>\n",
       "      <td>67.0</td>\n",
       "      <td>71.0</td>\n",
       "      <td>medium</td>\n",
       "      <td>medium</td>\n",
       "      <td>49.0</td>\n",
       "      <td>44.0</td>\n",
       "      <td>71.0</td>\n",
       "      <td>61.0</td>\n",
       "      <td>...</td>\n",
       "      <td>54.0</td>\n",
       "      <td>48.0</td>\n",
       "      <td>65.0</td>\n",
       "      <td>69.0</td>\n",
       "      <td>69.0</td>\n",
       "      <td>6.0</td>\n",
       "      <td>11.0</td>\n",
       "      <td>10.0</td>\n",
       "      <td>8.0</td>\n",
       "      <td>8.0</td>\n",
       "    </tr>\n",
       "    <tr>\n",
       "      <th>2</th>\n",
       "      <td>3</td>\n",
       "      <td>505942</td>\n",
       "      <td>62.0</td>\n",
       "      <td>66.0</td>\n",
       "      <td>medium</td>\n",
       "      <td>medium</td>\n",
       "      <td>49.0</td>\n",
       "      <td>44.0</td>\n",
       "      <td>71.0</td>\n",
       "      <td>61.0</td>\n",
       "      <td>...</td>\n",
       "      <td>54.0</td>\n",
       "      <td>48.0</td>\n",
       "      <td>65.0</td>\n",
       "      <td>66.0</td>\n",
       "      <td>69.0</td>\n",
       "      <td>6.0</td>\n",
       "      <td>11.0</td>\n",
       "      <td>10.0</td>\n",
       "      <td>8.0</td>\n",
       "      <td>8.0</td>\n",
       "    </tr>\n",
       "  </tbody>\n",
       "</table>\n",
       "<p>3 rows × 39 columns</p>\n",
       "</div>"
      ],
      "text/plain": [
       "   id  player_api_id  overall_rating  potential attacking_work_rate  \\\n",
       "0   1         505942            67.0       71.0              medium   \n",
       "1   2         505942            67.0       71.0              medium   \n",
       "2   3         505942            62.0       66.0              medium   \n",
       "\n",
       "  defensive_work_rate  crossing  finishing  heading_accuracy  short_passing  \\\n",
       "0              medium      49.0       44.0              71.0           61.0   \n",
       "1              medium      49.0       44.0              71.0           61.0   \n",
       "2              medium      49.0       44.0              71.0           61.0   \n",
       "\n",
       "   ...  vision  penalties  marking  standing_tackle  sliding_tackle  \\\n",
       "0  ...    54.0       48.0     65.0             69.0            69.0   \n",
       "1  ...    54.0       48.0     65.0             69.0            69.0   \n",
       "2  ...    54.0       48.0     65.0             66.0            69.0   \n",
       "\n",
       "   gk_diving  gk_handling  gk_kicking  gk_positioning  gk_reflexes  \n",
       "0        6.0         11.0        10.0             8.0          8.0  \n",
       "1        6.0         11.0        10.0             8.0          8.0  \n",
       "2        6.0         11.0        10.0             8.0          8.0  \n",
       "\n",
       "[3 rows x 39 columns]"
      ]
     },
     "execution_count": 35,
     "metadata": {},
     "output_type": "execute_result"
    }
   ],
   "source": [
    "Player_att.head(3)"
   ]
  },
  {
   "cell_type": "code",
   "execution_count": 36,
   "metadata": {
    "execution": {
     "iopub.execute_input": "2021-04-09T00:39:53.807248Z",
     "iopub.status.busy": "2021-04-09T00:39:53.807092Z",
     "iopub.status.idle": "2021-04-09T00:39:53.811719Z",
     "shell.execute_reply": "2021-04-09T00:39:53.810510Z",
     "shell.execute_reply.started": "2021-04-09T00:39:53.807233Z"
    }
   },
   "outputs": [
    {
     "data": {
      "text/plain": [
       "array(['id', 'player_api_id', 'overall_rating', 'potential',\n",
       "       'attacking_work_rate', 'defensive_work_rate', 'crossing',\n",
       "       'finishing', 'heading_accuracy', 'short_passing', 'volleys',\n",
       "       'dribbling', 'curve', 'free_kick_accuracy', 'long_passing',\n",
       "       'ball_control', 'acceleration', 'sprint_speed', 'agility',\n",
       "       'reactions', 'balance', 'shot_power', 'jumping', 'stamina',\n",
       "       'strength', 'long_shots', 'aggression', 'interceptions',\n",
       "       'positioning', 'vision', 'penalties', 'marking', 'standing_tackle',\n",
       "       'sliding_tackle', 'gk_diving', 'gk_handling', 'gk_kicking',\n",
       "       'gk_positioning', 'gk_reflexes'], dtype=object)"
      ]
     },
     "execution_count": 36,
     "metadata": {},
     "output_type": "execute_result"
    }
   ],
   "source": [
    "Player_att.columns.values"
   ]
  },
  {
   "cell_type": "code",
   "execution_count": null,
   "metadata": {},
   "outputs": [],
   "source": []
  }
 ],
 "metadata": {
  "kernelspec": {
   "display_name": "Python 3",
   "language": "python",
   "name": "python3"
  },
  "language_info": {
   "codemirror_mode": {
    "name": "ipython",
    "version": 3
   },
   "file_extension": ".py",
   "mimetype": "text/x-python",
   "name": "python",
   "nbconvert_exporter": "python",
   "pygments_lexer": "ipython3",
   "version": "3.9.2"
  }
 },
 "nbformat": 4,
 "nbformat_minor": 4
}
