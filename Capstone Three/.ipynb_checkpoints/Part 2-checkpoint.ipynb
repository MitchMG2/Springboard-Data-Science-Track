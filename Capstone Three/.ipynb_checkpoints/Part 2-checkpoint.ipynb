{
 "cells": [
  {
   "cell_type": "markdown",
   "metadata": {},
   "source": [
    "### Imports"
   ]
  },
  {
   "cell_type": "code",
   "execution_count": 1,
   "metadata": {
    "execution": {
     "iopub.execute_input": "2021-04-09T00:55:49.339611Z",
     "iopub.status.busy": "2021-04-09T00:55:49.339395Z",
     "iopub.status.idle": "2021-04-09T00:55:49.671786Z",
     "shell.execute_reply": "2021-04-09T00:55:49.671391Z",
     "shell.execute_reply.started": "2021-04-09T00:55:49.339571Z"
    },
    "tags": []
   },
   "outputs": [],
   "source": [
    "import pandas as pd\n",
    "import numpy as np\n",
    "import matplotlib.pyplot as plt\n",
    "import datetime\n",
    "import os"
   ]
  },
  {
   "cell_type": "code",
   "execution_count": 2,
   "metadata": {
    "execution": {
     "iopub.execute_input": "2021-04-09T00:55:49.672538Z",
     "iopub.status.busy": "2021-04-09T00:55:49.672426Z",
     "iopub.status.idle": "2021-04-09T00:55:50.187218Z",
     "shell.execute_reply": "2021-04-09T00:55:50.186832Z",
     "shell.execute_reply.started": "2021-04-09T00:55:49.672524Z"
    },
    "tags": []
   },
   "outputs": [],
   "source": [
    "Country = pd.read_csv('data/Country.csv')\n",
    "League = pd.read_csv('data/League.csv')\n",
    "Match = pd.read_csv('data/statless_matches.csv')\n",
    "Player = pd.read_csv('data/player_red.csv')\n",
    "Player_att = pd.read_csv('data/player_att_red.csv')\n",
    "Team = pd.read_csv('data/team_red.csv')\n",
    "Team_att = pd.read_csv('data/team_att_red.csv')"
   ]
  },
  {
   "cell_type": "code",
   "execution_count": 3,
   "metadata": {
    "execution": {
     "iopub.execute_input": "2021-04-09T00:55:50.187979Z",
     "iopub.status.busy": "2021-04-09T00:55:50.187841Z",
     "iopub.status.idle": "2021-04-09T00:55:50.192371Z",
     "shell.execute_reply": "2021-04-09T00:55:50.191865Z",
     "shell.execute_reply.started": "2021-04-09T00:55:50.187962Z"
    },
    "tags": []
   },
   "outputs": [
    {
     "data": {
      "text/plain": [
       "array(['id', 'country_id', 'league_id', 'season', 'stage', 'date',\n",
       "       'match_api_id', 'home_team_api_id', 'away_team_api_id',\n",
       "       'home_team_goal', 'away_team_goal', 'home_player_Y1',\n",
       "       'home_player_Y2', 'home_player_Y3', 'home_player_Y4',\n",
       "       'home_player_Y5', 'home_player_Y6', 'home_player_Y7',\n",
       "       'home_player_Y8', 'home_player_Y9', 'home_player_Y10',\n",
       "       'home_player_Y11', 'away_player_Y1', 'away_player_Y2',\n",
       "       'away_player_Y3', 'away_player_Y4', 'away_player_Y5',\n",
       "       'away_player_Y6', 'away_player_Y7', 'away_player_Y8',\n",
       "       'away_player_Y9', 'away_player_Y10', 'away_player_Y11',\n",
       "       'home_player_1', 'home_player_2', 'home_player_3', 'home_player_4',\n",
       "       'home_player_5', 'home_player_6', 'home_player_7', 'home_player_8',\n",
       "       'home_player_9', 'home_player_10', 'home_player_11',\n",
       "       'away_player_1', 'away_player_2', 'away_player_3', 'away_player_4',\n",
       "       'away_player_5', 'away_player_6', 'away_player_7', 'away_player_8',\n",
       "       'away_player_9', 'away_player_10', 'away_player_11'], dtype=object)"
      ]
     },
     "execution_count": 3,
     "metadata": {},
     "output_type": "execute_result"
    }
   ],
   "source": [
    "Match.columns.values"
   ]
  },
  {
   "cell_type": "code",
   "execution_count": 4,
   "metadata": {
    "execution": {
     "iopub.execute_input": "2021-04-09T00:55:50.193560Z",
     "iopub.status.busy": "2021-04-09T00:55:50.193359Z",
     "iopub.status.idle": "2021-04-09T00:55:50.200890Z",
     "shell.execute_reply": "2021-04-09T00:55:50.200434Z",
     "shell.execute_reply.started": "2021-04-09T00:55:50.193526Z"
    },
    "tags": []
   },
   "outputs": [],
   "source": [
    "y_coord = ['home_player_Y1',\n",
    "       'home_player_Y2', 'home_player_Y3', 'home_player_Y4',\n",
    "       'home_player_Y5', 'home_player_Y6', 'home_player_Y7',\n",
    "       'home_player_Y8', 'home_player_Y9', 'home_player_Y10',\n",
    "       'home_player_Y11', 'away_player_Y1', 'away_player_Y2',\n",
    "       'away_player_Y3', 'away_player_Y4', 'away_player_Y5',\n",
    "       'away_player_Y6', 'away_player_Y7', 'away_player_Y8',\n",
    "       'away_player_Y9', 'away_player_Y10', 'away_player_Y11']"
   ]
  },
  {
   "cell_type": "code",
   "execution_count": 5,
   "metadata": {
    "execution": {
     "iopub.execute_input": "2021-04-09T00:55:50.201781Z",
     "iopub.status.busy": "2021-04-09T00:55:50.201632Z",
     "iopub.status.idle": "2021-04-09T00:55:50.209463Z",
     "shell.execute_reply": "2021-04-09T00:55:50.209096Z",
     "shell.execute_reply.started": "2021-04-09T00:55:50.201761Z"
    }
   },
   "outputs": [
    {
     "name": "stdout",
     "output_type": "stream",
     "text": [
      "0        10.0\n",
      "1        10.0\n",
      "2        10.0\n",
      "3        10.0\n",
      "4        10.0\n",
      "         ... \n",
      "21356    11.0\n",
      "21357    11.0\n",
      "21358    11.0\n",
      "21359    11.0\n",
      "21360    11.0\n",
      "Length: 21361, dtype: float64\n"
     ]
    }
   ],
   "source": [
    "print(Match[y_coord].max(axis=1))"
   ]
  },
  {
   "cell_type": "code",
   "execution_count": 6,
   "metadata": {
    "execution": {
     "iopub.execute_input": "2021-04-09T00:55:50.210865Z",
     "iopub.status.busy": "2021-04-09T00:55:50.210730Z",
     "iopub.status.idle": "2021-04-09T00:55:50.219649Z",
     "shell.execute_reply": "2021-04-09T00:55:50.219058Z",
     "shell.execute_reply.started": "2021-04-09T00:55:50.210847Z"
    }
   },
   "outputs": [
    {
     "name": "stdout",
     "output_type": "stream",
     "text": [
      "0        1.0\n",
      "1        1.0\n",
      "2        1.0\n",
      "3        1.0\n",
      "4        1.0\n",
      "        ... \n",
      "21356    1.0\n",
      "21357    1.0\n",
      "21358    1.0\n",
      "21359    1.0\n",
      "21360    1.0\n",
      "Length: 21361, dtype: float64\n"
     ]
    }
   ],
   "source": [
    "print(Match[y_coord].min(axis=1))"
   ]
  },
  {
   "cell_type": "code",
   "execution_count": 7,
   "metadata": {
    "execution": {
     "iopub.execute_input": "2021-04-09T00:55:50.221323Z",
     "iopub.status.busy": "2021-04-09T00:55:50.221102Z",
     "iopub.status.idle": "2021-04-09T00:55:50.233864Z",
     "shell.execute_reply": "2021-04-09T00:55:50.232881Z",
     "shell.execute_reply.started": "2021-04-09T00:55:50.221295Z"
    },
    "tags": []
   },
   "outputs": [
    {
     "name": "stdout",
     "output_type": "stream",
     "text": [
      "0        5.545455\n",
      "1        5.545455\n",
      "2        5.545455\n",
      "3        5.545455\n",
      "4        5.545455\n",
      "           ...   \n",
      "21356    5.500000\n",
      "21357    5.454545\n",
      "21358    6.045455\n",
      "21359    5.454545\n",
      "21360    5.500000\n",
      "Length: 21361, dtype: float64\n"
     ]
    }
   ],
   "source": [
    "print(Match[y_coord].mean(axis=1))"
   ]
  },
  {
   "cell_type": "code",
   "execution_count": 8,
   "metadata": {
    "execution": {
     "iopub.execute_input": "2021-04-09T00:55:50.237000Z",
     "iopub.status.busy": "2021-04-09T00:55:50.236664Z",
     "iopub.status.idle": "2021-04-09T00:55:50.272551Z",
     "shell.execute_reply": "2021-04-09T00:55:50.272161Z",
     "shell.execute_reply.started": "2021-04-09T00:55:50.236972Z"
    },
    "tags": []
   },
   "outputs": [
    {
     "name": "stdout",
     "output_type": "stream",
     "text": [
      "      home_player_Y1  home_player_Y2  home_player_Y3  home_player_Y4  \\\n",
      "1.0          21361.0             NaN             NaN             NaN   \n",
      "3.0              NaN         21361.0         21360.0         21356.0   \n",
      "5.0              NaN             NaN             1.0             5.0   \n",
      "6.0              NaN             NaN             NaN             NaN   \n",
      "7.0              NaN             NaN             NaN             NaN   \n",
      "8.0              NaN             NaN             NaN             NaN   \n",
      "9.0              NaN             NaN             NaN             NaN   \n",
      "10.0             NaN             NaN             NaN             NaN   \n",
      "11.0             NaN             NaN             NaN             NaN   \n",
      "\n",
      "      home_player_Y5  home_player_Y6  home_player_Y7  home_player_Y8  \\\n",
      "1.0              NaN             NaN             NaN             NaN   \n",
      "3.0          20033.0           248.0             3.0             4.0   \n",
      "5.0             37.0          1597.0           718.0           402.0   \n",
      "6.0              6.0          7217.0          6341.0           461.0   \n",
      "7.0           1284.0         12235.0         13660.0         13958.0   \n",
      "8.0              1.0            61.0           634.0          6517.0   \n",
      "9.0              NaN             3.0             5.0            19.0   \n",
      "10.0             NaN             NaN             NaN             NaN   \n",
      "11.0             NaN             NaN             NaN             NaN   \n",
      "\n",
      "      home_player_Y9  home_player_Y10  ...  away_player_Y2  away_player_Y3  \\\n",
      "1.0              NaN              NaN  ...             NaN             NaN   \n",
      "3.0              NaN              NaN  ...         21361.0         21361.0   \n",
      "5.0              NaN              NaN  ...             NaN             NaN   \n",
      "6.0             53.0             69.0  ...             NaN             NaN   \n",
      "7.0           8667.0           1063.0  ...             NaN             NaN   \n",
      "8.0           7260.0           6407.0  ...             NaN             NaN   \n",
      "9.0           1167.0           1426.0  ...             NaN             NaN   \n",
      "10.0          4214.0          11743.0  ...             NaN             NaN   \n",
      "11.0             NaN            653.0  ...             NaN             NaN   \n",
      "\n",
      "      away_player_Y4  away_player_Y5  away_player_Y6  away_player_Y7  \\\n",
      "1.0              NaN             NaN             NaN             NaN   \n",
      "3.0          21360.0         20004.0           311.0             3.0   \n",
      "5.0              1.0            33.0          1554.0           663.0   \n",
      "6.0              NaN            10.0          7277.0          6336.0   \n",
      "7.0              NaN          1313.0         12152.0         13651.0   \n",
      "8.0              NaN             NaN            64.0           706.0   \n",
      "9.0              NaN             1.0             3.0             2.0   \n",
      "10.0             NaN             NaN             NaN             NaN   \n",
      "11.0             NaN             NaN             NaN             NaN   \n",
      "\n",
      "      away_player_Y8  away_player_Y9  away_player_Y10  away_player_Y11  \n",
      "1.0              NaN             NaN              NaN              NaN  \n",
      "3.0              1.0             NaN              NaN              NaN  \n",
      "5.0            364.0             NaN              NaN              NaN  \n",
      "6.0            495.0            74.0             72.0              NaN  \n",
      "7.0          13932.0          8673.0           1414.0              1.0  \n",
      "8.0           6545.0          7258.0           6466.0              1.0  \n",
      "9.0             22.0          1137.0           1443.0              NaN  \n",
      "10.0             2.0          4219.0          11349.0          11352.0  \n",
      "11.0             NaN             NaN            617.0          10007.0  \n",
      "\n",
      "[9 rows x 22 columns]\n"
     ]
    }
   ],
   "source": [
    "print(Match[y_coord].apply(pd.Series.value_counts))"
   ]
  },
  {
   "cell_type": "markdown",
   "metadata": {},
   "source": [
    "player_y1 is ALWAYS goalkeeper at coordinate 1.0\n",
    "<br>\n",
    "y2-y5 is almost always defender at coordinate 3. Set 3 as default for defenders\n",
    "\n",
    "coordinate 6-8 should be midfield\n",
    "coordinate 9-11 is striker zone"
   ]
  },
  {
   "cell_type": "code",
   "execution_count": 9,
   "metadata": {
    "execution": {
     "iopub.execute_input": "2021-04-09T00:55:50.273345Z",
     "iopub.status.busy": "2021-04-09T00:55:50.273225Z",
     "iopub.status.idle": "2021-04-09T00:55:50.293109Z",
     "shell.execute_reply": "2021-04-09T00:55:50.292251Z",
     "shell.execute_reply.started": "2021-04-09T00:55:50.273329Z"
    },
    "tags": []
   },
   "outputs": [
    {
     "data": {
      "text/html": [
       "<div>\n",
       "<style scoped>\n",
       "    .dataframe tbody tr th:only-of-type {\n",
       "        vertical-align: middle;\n",
       "    }\n",
       "\n",
       "    .dataframe tbody tr th {\n",
       "        vertical-align: top;\n",
       "    }\n",
       "\n",
       "    .dataframe thead th {\n",
       "        text-align: right;\n",
       "    }\n",
       "</style>\n",
       "<table border=\"1\" class=\"dataframe\">\n",
       "  <thead>\n",
       "    <tr style=\"text-align: right;\">\n",
       "      <th></th>\n",
       "      <th>id</th>\n",
       "      <th>player_api_id</th>\n",
       "      <th>overall_rating</th>\n",
       "      <th>potential</th>\n",
       "      <th>attacking_work_rate</th>\n",
       "      <th>defensive_work_rate</th>\n",
       "      <th>crossing</th>\n",
       "      <th>finishing</th>\n",
       "      <th>heading_accuracy</th>\n",
       "      <th>short_passing</th>\n",
       "      <th>...</th>\n",
       "      <th>vision</th>\n",
       "      <th>penalties</th>\n",
       "      <th>marking</th>\n",
       "      <th>standing_tackle</th>\n",
       "      <th>sliding_tackle</th>\n",
       "      <th>gk_diving</th>\n",
       "      <th>gk_handling</th>\n",
       "      <th>gk_kicking</th>\n",
       "      <th>gk_positioning</th>\n",
       "      <th>gk_reflexes</th>\n",
       "    </tr>\n",
       "  </thead>\n",
       "  <tbody>\n",
       "    <tr>\n",
       "      <th>0</th>\n",
       "      <td>1</td>\n",
       "      <td>505942</td>\n",
       "      <td>67.0</td>\n",
       "      <td>71.0</td>\n",
       "      <td>medium</td>\n",
       "      <td>medium</td>\n",
       "      <td>49.0</td>\n",
       "      <td>44.0</td>\n",
       "      <td>71.0</td>\n",
       "      <td>61.0</td>\n",
       "      <td>...</td>\n",
       "      <td>54.0</td>\n",
       "      <td>48.0</td>\n",
       "      <td>65.0</td>\n",
       "      <td>69.0</td>\n",
       "      <td>69.0</td>\n",
       "      <td>6.0</td>\n",
       "      <td>11.0</td>\n",
       "      <td>10.0</td>\n",
       "      <td>8.0</td>\n",
       "      <td>8.0</td>\n",
       "    </tr>\n",
       "    <tr>\n",
       "      <th>1</th>\n",
       "      <td>2</td>\n",
       "      <td>505942</td>\n",
       "      <td>67.0</td>\n",
       "      <td>71.0</td>\n",
       "      <td>medium</td>\n",
       "      <td>medium</td>\n",
       "      <td>49.0</td>\n",
       "      <td>44.0</td>\n",
       "      <td>71.0</td>\n",
       "      <td>61.0</td>\n",
       "      <td>...</td>\n",
       "      <td>54.0</td>\n",
       "      <td>48.0</td>\n",
       "      <td>65.0</td>\n",
       "      <td>69.0</td>\n",
       "      <td>69.0</td>\n",
       "      <td>6.0</td>\n",
       "      <td>11.0</td>\n",
       "      <td>10.0</td>\n",
       "      <td>8.0</td>\n",
       "      <td>8.0</td>\n",
       "    </tr>\n",
       "    <tr>\n",
       "      <th>2</th>\n",
       "      <td>3</td>\n",
       "      <td>505942</td>\n",
       "      <td>62.0</td>\n",
       "      <td>66.0</td>\n",
       "      <td>medium</td>\n",
       "      <td>medium</td>\n",
       "      <td>49.0</td>\n",
       "      <td>44.0</td>\n",
       "      <td>71.0</td>\n",
       "      <td>61.0</td>\n",
       "      <td>...</td>\n",
       "      <td>54.0</td>\n",
       "      <td>48.0</td>\n",
       "      <td>65.0</td>\n",
       "      <td>66.0</td>\n",
       "      <td>69.0</td>\n",
       "      <td>6.0</td>\n",
       "      <td>11.0</td>\n",
       "      <td>10.0</td>\n",
       "      <td>8.0</td>\n",
       "      <td>8.0</td>\n",
       "    </tr>\n",
       "  </tbody>\n",
       "</table>\n",
       "<p>3 rows × 39 columns</p>\n",
       "</div>"
      ],
      "text/plain": [
       "   id  player_api_id  overall_rating  potential attacking_work_rate  \\\n",
       "0   1         505942            67.0       71.0              medium   \n",
       "1   2         505942            67.0       71.0              medium   \n",
       "2   3         505942            62.0       66.0              medium   \n",
       "\n",
       "  defensive_work_rate  crossing  finishing  heading_accuracy  short_passing  \\\n",
       "0              medium      49.0       44.0              71.0           61.0   \n",
       "1              medium      49.0       44.0              71.0           61.0   \n",
       "2              medium      49.0       44.0              71.0           61.0   \n",
       "\n",
       "   ...  vision  penalties  marking  standing_tackle  sliding_tackle  \\\n",
       "0  ...    54.0       48.0     65.0             69.0            69.0   \n",
       "1  ...    54.0       48.0     65.0             69.0            69.0   \n",
       "2  ...    54.0       48.0     65.0             66.0            69.0   \n",
       "\n",
       "   gk_diving  gk_handling  gk_kicking  gk_positioning  gk_reflexes  \n",
       "0        6.0         11.0        10.0             8.0          8.0  \n",
       "1        6.0         11.0        10.0             8.0          8.0  \n",
       "2        6.0         11.0        10.0             8.0          8.0  \n",
       "\n",
       "[3 rows x 39 columns]"
      ]
     },
     "execution_count": 9,
     "metadata": {},
     "output_type": "execute_result"
    }
   ],
   "source": [
    "Player_att.head(3)"
   ]
  },
  {
   "cell_type": "code",
   "execution_count": 10,
   "metadata": {
    "execution": {
     "iopub.execute_input": "2021-04-09T00:55:50.294364Z",
     "iopub.status.busy": "2021-04-09T00:55:50.294163Z",
     "iopub.status.idle": "2021-04-09T00:55:50.298361Z",
     "shell.execute_reply": "2021-04-09T00:55:50.297735Z",
     "shell.execute_reply.started": "2021-04-09T00:55:50.294342Z"
    }
   },
   "outputs": [
    {
     "data": {
      "text/plain": [
       "array(['id', 'player_api_id', 'overall_rating', 'potential',\n",
       "       'attacking_work_rate', 'defensive_work_rate', 'crossing',\n",
       "       'finishing', 'heading_accuracy', 'short_passing', 'volleys',\n",
       "       'dribbling', 'curve', 'free_kick_accuracy', 'long_passing',\n",
       "       'ball_control', 'acceleration', 'sprint_speed', 'agility',\n",
       "       'reactions', 'balance', 'shot_power', 'jumping', 'stamina',\n",
       "       'strength', 'long_shots', 'aggression', 'interceptions',\n",
       "       'positioning', 'vision', 'penalties', 'marking', 'standing_tackle',\n",
       "       'sliding_tackle', 'gk_diving', 'gk_handling', 'gk_kicking',\n",
       "       'gk_positioning', 'gk_reflexes'], dtype=object)"
      ]
     },
     "execution_count": 10,
     "metadata": {},
     "output_type": "execute_result"
    }
   ],
   "source": [
    "Player_att.columns.values"
   ]
  },
  {
   "cell_type": "code",
   "execution_count": 51,
   "metadata": {
    "execution": {
     "iopub.execute_input": "2021-04-09T01:20:58.569626Z",
     "iopub.status.busy": "2021-04-09T01:20:58.569271Z",
     "iopub.status.idle": "2021-04-09T01:20:59.049295Z",
     "shell.execute_reply": "2021-04-09T01:20:59.048890Z",
     "shell.execute_reply.started": "2021-04-09T01:20:58.569573Z"
    },
    "tags": []
   },
   "outputs": [],
   "source": [
    "merged_match_test1 = pd.merge(Match, Player_att, how='left', left_on='home_player_1', right_on='id', suffixes=(None, '_h1'))\n",
    "merged_match_test1 = merged_match_test1.merge(Player_att, how='left', left_on='home_player_2', right_on='id', suffixes=(None, '_h2'))\n",
    "merged_match_test1 = merged_match_test1.merge(Player_att, how='left', left_on='home_player_3', right_on='id', suffixes=(None, '_h3'))\n",
    "merged_match_test1 = merged_match_test1.merge(Player_att, how='left', left_on='home_player_4', right_on='id', suffixes=(None, '_h4'))\n",
    "merged_match_test1 = merged_match_test1.merge(Player_att, how='left', left_on='home_player_5', right_on='id', suffixes=(None, '_h5'))\n",
    "merged_match_test1 = merged_match_test1.merge(Player_att, how='left', left_on='home_player_2', right_on='id', suffixes=(None, '_h6'))\n",
    "merged_match_test1 = merged_match_test1.merge(Player_att, how='left', left_on='home_player_3', right_on='id', suffixes=(None, '_h7'))\n",
    "merged_match_test1 = merged_match_test1.merge(Player_att, how='left', left_on='home_player_4', right_on='id', suffixes=(None, '_h8'))\n",
    "merged_match_test1 = merged_match_test1.merge(Player_att, how='left', left_on='home_player_5', right_on='id', suffixes=(None, '_h9'))\n",
    "merged_match_test1 = merged_match_test1.merge(Player_att, how='left', left_on='home_player_4', right_on='id', suffixes=(None, '_h10'))\n",
    "merged_match_test1 = merged_match_test1.merge(Player_att, how='left', left_on='home_player_5', right_on='id', suffixes=(None, '_h11'))"
   ]
  },
  {
   "cell_type": "code",
   "execution_count": 53,
   "metadata": {
    "execution": {
     "iopub.execute_input": "2021-04-09T01:22:50.923486Z",
     "iopub.status.busy": "2021-04-09T01:22:50.923183Z",
     "iopub.status.idle": "2021-04-09T01:22:51.623128Z",
     "shell.execute_reply": "2021-04-09T01:22:51.622708Z",
     "shell.execute_reply.started": "2021-04-09T01:22:50.923453Z"
    }
   },
   "outputs": [],
   "source": [
    "merged_match_test1 = merged_match_test1.merge(Player_att, how='left', left_on='away_player_1', right_on='id', suffixes=(None, '_a1'))\n",
    "merged_match_test1 = merged_match_test1.merge(Player_att, how='left', left_on='away_player_2', right_on='id', suffixes=(None, '_a2'))\n",
    "merged_match_test1 = merged_match_test1.merge(Player_att, how='left', left_on='away_player_3', right_on='id', suffixes=(None, '_a3'))\n",
    "merged_match_test1 = merged_match_test1.merge(Player_att, how='left', left_on='away_player_4', right_on='id', suffixes=(None, '_a4'))\n",
    "merged_match_test1 = merged_match_test1.merge(Player_att, how='left', left_on='away_player_5', right_on='id', suffixes=(None, '_a5'))\n",
    "merged_match_test1 = merged_match_test1.merge(Player_att, how='left', left_on='away_player_6', right_on='id', suffixes=(None, '_a6'))\n",
    "merged_match_test1 = merged_match_test1.merge(Player_att, how='left', left_on='away_player_7', right_on='id', suffixes=(None, '_a7'))\n",
    "merged_match_test1 = merged_match_test1.merge(Player_att, how='left', left_on='away_player_8', right_on='id', suffixes=(None, '_a8'))\n",
    "merged_match_test1 = merged_match_test1.merge(Player_att, how='left', left_on='away_player_9', right_on='id', suffixes=(None, '_a9'))\n",
    "merged_match_test1 = merged_match_test1.merge(Player_att, how='left', left_on='away_player_10', right_on='id', suffixes=(None, '_a10'))\n",
    "merged_match_test1 = merged_match_test1.merge(Player_att, how='left', left_on='away_player_11', right_on='id', suffixes=(None, '_a11'))"
   ]
  },
  {
   "cell_type": "code",
   "execution_count": 54,
   "metadata": {
    "execution": {
     "iopub.execute_input": "2021-04-09T01:22:52.399222Z",
     "iopub.status.busy": "2021-04-09T01:22:52.398996Z",
     "iopub.status.idle": "2021-04-09T01:22:52.405059Z",
     "shell.execute_reply": "2021-04-09T01:22:52.404563Z",
     "shell.execute_reply.started": "2021-04-09T01:22:52.399198Z"
    },
    "tags": []
   },
   "outputs": [
    {
     "data": {
      "text/plain": [
       "array(['id', 'country_id', 'league_id', 'season', 'stage', 'date',\n",
       "       'match_api_id', 'home_team_api_id', 'away_team_api_id',\n",
       "       'home_team_goal', 'away_team_goal', 'home_player_Y1',\n",
       "       'home_player_Y2', 'home_player_Y3', 'home_player_Y4',\n",
       "       'home_player_Y5', 'home_player_Y6', 'home_player_Y7',\n",
       "       'home_player_Y8', 'home_player_Y9', 'home_player_Y10',\n",
       "       'home_player_Y11', 'away_player_Y1', 'away_player_Y2',\n",
       "       'away_player_Y3', 'away_player_Y4', 'away_player_Y5',\n",
       "       'away_player_Y6', 'away_player_Y7', 'away_player_Y8',\n",
       "       'away_player_Y9', 'away_player_Y10', 'away_player_Y11',\n",
       "       'home_player_1', 'home_player_2', 'home_player_3', 'home_player_4',\n",
       "       'home_player_5', 'home_player_6', 'home_player_7', 'home_player_8',\n",
       "       'home_player_9', 'home_player_10', 'home_player_11',\n",
       "       'away_player_1', 'away_player_2', 'away_player_3', 'away_player_4',\n",
       "       'away_player_5', 'away_player_6', 'away_player_7', 'away_player_8',\n",
       "       'away_player_9', 'away_player_10', 'away_player_11', 'id_h1',\n",
       "       'player_api_id', 'overall_rating', 'potential',\n",
       "       'attacking_work_rate', 'defensive_work_rate', 'crossing',\n",
       "       'finishing', 'heading_accuracy', 'short_passing', 'volleys',\n",
       "       'dribbling', 'curve', 'free_kick_accuracy', 'long_passing',\n",
       "       'ball_control', 'acceleration', 'sprint_speed', 'agility',\n",
       "       'reactions', 'balance', 'shot_power', 'jumping', 'stamina',\n",
       "       'strength', 'long_shots', 'aggression', 'interceptions',\n",
       "       'positioning', 'vision', 'penalties', 'marking', 'standing_tackle',\n",
       "       'sliding_tackle', 'gk_diving', 'gk_handling', 'gk_kicking',\n",
       "       'gk_positioning', 'gk_reflexes', 'id_h2', 'player_api_id_h2',\n",
       "       'overall_rating_h2', 'potential_h2', 'attacking_work_rate_h2',\n",
       "       'defensive_work_rate_h2', 'crossing_h2', 'finishing_h2',\n",
       "       'heading_accuracy_h2', 'short_passing_h2', 'volleys_h2',\n",
       "       'dribbling_h2', 'curve_h2', 'free_kick_accuracy_h2',\n",
       "       'long_passing_h2', 'ball_control_h2', 'acceleration_h2',\n",
       "       'sprint_speed_h2', 'agility_h2', 'reactions_h2', 'balance_h2',\n",
       "       'shot_power_h2', 'jumping_h2', 'stamina_h2', 'strength_h2',\n",
       "       'long_shots_h2', 'aggression_h2', 'interceptions_h2',\n",
       "       'positioning_h2', 'vision_h2', 'penalties_h2', 'marking_h2',\n",
       "       'standing_tackle_h2', 'sliding_tackle_h2', 'gk_diving_h2',\n",
       "       'gk_handling_h2', 'gk_kicking_h2', 'gk_positioning_h2',\n",
       "       'gk_reflexes_h2', 'id_h3', 'player_api_id_h3', 'overall_rating_h3',\n",
       "       'potential_h3', 'attacking_work_rate_h3', 'defensive_work_rate_h3',\n",
       "       'crossing_h3', 'finishing_h3', 'heading_accuracy_h3',\n",
       "       'short_passing_h3', 'volleys_h3', 'dribbling_h3', 'curve_h3',\n",
       "       'free_kick_accuracy_h3', 'long_passing_h3', 'ball_control_h3',\n",
       "       'acceleration_h3', 'sprint_speed_h3', 'agility_h3', 'reactions_h3',\n",
       "       'balance_h3', 'shot_power_h3', 'jumping_h3', 'stamina_h3',\n",
       "       'strength_h3', 'long_shots_h3', 'aggression_h3',\n",
       "       'interceptions_h3', 'positioning_h3', 'vision_h3', 'penalties_h3',\n",
       "       'marking_h3', 'standing_tackle_h3', 'sliding_tackle_h3',\n",
       "       'gk_diving_h3', 'gk_handling_h3', 'gk_kicking_h3',\n",
       "       'gk_positioning_h3', 'gk_reflexes_h3', 'id_h4', 'player_api_id_h4',\n",
       "       'overall_rating_h4', 'potential_h4', 'attacking_work_rate_h4',\n",
       "       'defensive_work_rate_h4', 'crossing_h4', 'finishing_h4',\n",
       "       'heading_accuracy_h4', 'short_passing_h4', 'volleys_h4',\n",
       "       'dribbling_h4', 'curve_h4', 'free_kick_accuracy_h4',\n",
       "       'long_passing_h4', 'ball_control_h4', 'acceleration_h4',\n",
       "       'sprint_speed_h4', 'agility_h4', 'reactions_h4', 'balance_h4',\n",
       "       'shot_power_h4', 'jumping_h4', 'stamina_h4', 'strength_h4',\n",
       "       'long_shots_h4', 'aggression_h4', 'interceptions_h4',\n",
       "       'positioning_h4', 'vision_h4', 'penalties_h4', 'marking_h4',\n",
       "       'standing_tackle_h4', 'sliding_tackle_h4', 'gk_diving_h4',\n",
       "       'gk_handling_h4', 'gk_kicking_h4', 'gk_positioning_h4',\n",
       "       'gk_reflexes_h4', 'id_h5', 'player_api_id_h5', 'overall_rating_h5',\n",
       "       'potential_h5', 'attacking_work_rate_h5', 'defensive_work_rate_h5',\n",
       "       'crossing_h5', 'finishing_h5', 'heading_accuracy_h5',\n",
       "       'short_passing_h5', 'volleys_h5', 'dribbling_h5', 'curve_h5',\n",
       "       'free_kick_accuracy_h5', 'long_passing_h5', 'ball_control_h5',\n",
       "       'acceleration_h5', 'sprint_speed_h5', 'agility_h5', 'reactions_h5',\n",
       "       'balance_h5', 'shot_power_h5', 'jumping_h5', 'stamina_h5',\n",
       "       'strength_h5', 'long_shots_h5', 'aggression_h5',\n",
       "       'interceptions_h5', 'positioning_h5', 'vision_h5', 'penalties_h5',\n",
       "       'marking_h5', 'standing_tackle_h5', 'sliding_tackle_h5',\n",
       "       'gk_diving_h5', 'gk_handling_h5', 'gk_kicking_h5',\n",
       "       'gk_positioning_h5', 'gk_reflexes_h5', 'id_h6', 'player_api_id_h6',\n",
       "       'overall_rating_h6', 'potential_h6', 'attacking_work_rate_h6',\n",
       "       'defensive_work_rate_h6', 'crossing_h6', 'finishing_h6',\n",
       "       'heading_accuracy_h6', 'short_passing_h6', 'volleys_h6',\n",
       "       'dribbling_h6', 'curve_h6', 'free_kick_accuracy_h6',\n",
       "       'long_passing_h6', 'ball_control_h6', 'acceleration_h6',\n",
       "       'sprint_speed_h6', 'agility_h6', 'reactions_h6', 'balance_h6',\n",
       "       'shot_power_h6', 'jumping_h6', 'stamina_h6', 'strength_h6',\n",
       "       'long_shots_h6', 'aggression_h6', 'interceptions_h6',\n",
       "       'positioning_h6', 'vision_h6', 'penalties_h6', 'marking_h6',\n",
       "       'standing_tackle_h6', 'sliding_tackle_h6', 'gk_diving_h6',\n",
       "       'gk_handling_h6', 'gk_kicking_h6', 'gk_positioning_h6',\n",
       "       'gk_reflexes_h6', 'id_h7', 'player_api_id_h7', 'overall_rating_h7',\n",
       "       'potential_h7', 'attacking_work_rate_h7', 'defensive_work_rate_h7',\n",
       "       'crossing_h7', 'finishing_h7', 'heading_accuracy_h7',\n",
       "       'short_passing_h7', 'volleys_h7', 'dribbling_h7', 'curve_h7',\n",
       "       'free_kick_accuracy_h7', 'long_passing_h7', 'ball_control_h7',\n",
       "       'acceleration_h7', 'sprint_speed_h7', 'agility_h7', 'reactions_h7',\n",
       "       'balance_h7', 'shot_power_h7', 'jumping_h7', 'stamina_h7',\n",
       "       'strength_h7', 'long_shots_h7', 'aggression_h7',\n",
       "       'interceptions_h7', 'positioning_h7', 'vision_h7', 'penalties_h7',\n",
       "       'marking_h7', 'standing_tackle_h7', 'sliding_tackle_h7',\n",
       "       'gk_diving_h7', 'gk_handling_h7', 'gk_kicking_h7',\n",
       "       'gk_positioning_h7', 'gk_reflexes_h7', 'id_h8', 'player_api_id_h8',\n",
       "       'overall_rating_h8', 'potential_h8', 'attacking_work_rate_h8',\n",
       "       'defensive_work_rate_h8', 'crossing_h8', 'finishing_h8',\n",
       "       'heading_accuracy_h8', 'short_passing_h8', 'volleys_h8',\n",
       "       'dribbling_h8', 'curve_h8', 'free_kick_accuracy_h8',\n",
       "       'long_passing_h8', 'ball_control_h8', 'acceleration_h8',\n",
       "       'sprint_speed_h8', 'agility_h8', 'reactions_h8', 'balance_h8',\n",
       "       'shot_power_h8', 'jumping_h8', 'stamina_h8', 'strength_h8',\n",
       "       'long_shots_h8', 'aggression_h8', 'interceptions_h8',\n",
       "       'positioning_h8', 'vision_h8', 'penalties_h8', 'marking_h8',\n",
       "       'standing_tackle_h8', 'sliding_tackle_h8', 'gk_diving_h8',\n",
       "       'gk_handling_h8', 'gk_kicking_h8', 'gk_positioning_h8',\n",
       "       'gk_reflexes_h8', 'id_h9', 'player_api_id_h9', 'overall_rating_h9',\n",
       "       'potential_h9', 'attacking_work_rate_h9', 'defensive_work_rate_h9',\n",
       "       'crossing_h9', 'finishing_h9', 'heading_accuracy_h9',\n",
       "       'short_passing_h9', 'volleys_h9', 'dribbling_h9', 'curve_h9',\n",
       "       'free_kick_accuracy_h9', 'long_passing_h9', 'ball_control_h9',\n",
       "       'acceleration_h9', 'sprint_speed_h9', 'agility_h9', 'reactions_h9',\n",
       "       'balance_h9', 'shot_power_h9', 'jumping_h9', 'stamina_h9',\n",
       "       'strength_h9', 'long_shots_h9', 'aggression_h9',\n",
       "       'interceptions_h9', 'positioning_h9', 'vision_h9', 'penalties_h9',\n",
       "       'marking_h9', 'standing_tackle_h9', 'sliding_tackle_h9',\n",
       "       'gk_diving_h9', 'gk_handling_h9', 'gk_kicking_h9',\n",
       "       'gk_positioning_h9', 'gk_reflexes_h9', 'id_h10',\n",
       "       'player_api_id_h10', 'overall_rating_h10', 'potential_h10',\n",
       "       'attacking_work_rate_h10', 'defensive_work_rate_h10',\n",
       "       'crossing_h10', 'finishing_h10', 'heading_accuracy_h10',\n",
       "       'short_passing_h10', 'volleys_h10', 'dribbling_h10', 'curve_h10',\n",
       "       'free_kick_accuracy_h10', 'long_passing_h10', 'ball_control_h10',\n",
       "       'acceleration_h10', 'sprint_speed_h10', 'agility_h10',\n",
       "       'reactions_h10', 'balance_h10', 'shot_power_h10', 'jumping_h10',\n",
       "       'stamina_h10', 'strength_h10', 'long_shots_h10', 'aggression_h10',\n",
       "       'interceptions_h10', 'positioning_h10', 'vision_h10',\n",
       "       'penalties_h10', 'marking_h10', 'standing_tackle_h10',\n",
       "       'sliding_tackle_h10', 'gk_diving_h10', 'gk_handling_h10',\n",
       "       'gk_kicking_h10', 'gk_positioning_h10', 'gk_reflexes_h10',\n",
       "       'id_h11', 'player_api_id_h11', 'overall_rating_h11',\n",
       "       'potential_h11', 'attacking_work_rate_h11',\n",
       "       'defensive_work_rate_h11', 'crossing_h11', 'finishing_h11',\n",
       "       'heading_accuracy_h11', 'short_passing_h11', 'volleys_h11',\n",
       "       'dribbling_h11', 'curve_h11', 'free_kick_accuracy_h11',\n",
       "       'long_passing_h11', 'ball_control_h11', 'acceleration_h11',\n",
       "       'sprint_speed_h11', 'agility_h11', 'reactions_h11', 'balance_h11',\n",
       "       'shot_power_h11', 'jumping_h11', 'stamina_h11', 'strength_h11',\n",
       "       'long_shots_h11', 'aggression_h11', 'interceptions_h11',\n",
       "       'positioning_h11', 'vision_h11', 'penalties_h11', 'marking_h11',\n",
       "       'standing_tackle_h11', 'sliding_tackle_h11', 'gk_diving_h11',\n",
       "       'gk_handling_h11', 'gk_kicking_h11', 'gk_positioning_h11',\n",
       "       'gk_reflexes_h11', 'id_a1', 'player_api_id_a1',\n",
       "       'overall_rating_a1', 'potential_a1', 'attacking_work_rate_a1',\n",
       "       'defensive_work_rate_a1', 'crossing_a1', 'finishing_a1',\n",
       "       'heading_accuracy_a1', 'short_passing_a1', 'volleys_a1',\n",
       "       'dribbling_a1', 'curve_a1', 'free_kick_accuracy_a1',\n",
       "       'long_passing_a1', 'ball_control_a1', 'acceleration_a1',\n",
       "       'sprint_speed_a1', 'agility_a1', 'reactions_a1', 'balance_a1',\n",
       "       'shot_power_a1', 'jumping_a1', 'stamina_a1', 'strength_a1',\n",
       "       'long_shots_a1', 'aggression_a1', 'interceptions_a1',\n",
       "       'positioning_a1', 'vision_a1', 'penalties_a1', 'marking_a1',\n",
       "       'standing_tackle_a1', 'sliding_tackle_a1', 'gk_diving_a1',\n",
       "       'gk_handling_a1', 'gk_kicking_a1', 'gk_positioning_a1',\n",
       "       'gk_reflexes_a1', 'id_a2', 'player_api_id_a2', 'overall_rating_a2',\n",
       "       'potential_a2', 'attacking_work_rate_a2', 'defensive_work_rate_a2',\n",
       "       'crossing_a2', 'finishing_a2', 'heading_accuracy_a2',\n",
       "       'short_passing_a2', 'volleys_a2', 'dribbling_a2', 'curve_a2',\n",
       "       'free_kick_accuracy_a2', 'long_passing_a2', 'ball_control_a2',\n",
       "       'acceleration_a2', 'sprint_speed_a2', 'agility_a2', 'reactions_a2',\n",
       "       'balance_a2', 'shot_power_a2', 'jumping_a2', 'stamina_a2',\n",
       "       'strength_a2', 'long_shots_a2', 'aggression_a2',\n",
       "       'interceptions_a2', 'positioning_a2', 'vision_a2', 'penalties_a2',\n",
       "       'marking_a2', 'standing_tackle_a2', 'sliding_tackle_a2',\n",
       "       'gk_diving_a2', 'gk_handling_a2', 'gk_kicking_a2',\n",
       "       'gk_positioning_a2', 'gk_reflexes_a2', 'id_a3', 'player_api_id_a3',\n",
       "       'overall_rating_a3', 'potential_a3', 'attacking_work_rate_a3',\n",
       "       'defensive_work_rate_a3', 'crossing_a3', 'finishing_a3',\n",
       "       'heading_accuracy_a3', 'short_passing_a3', 'volleys_a3',\n",
       "       'dribbling_a3', 'curve_a3', 'free_kick_accuracy_a3',\n",
       "       'long_passing_a3', 'ball_control_a3', 'acceleration_a3',\n",
       "       'sprint_speed_a3', 'agility_a3', 'reactions_a3', 'balance_a3',\n",
       "       'shot_power_a3', 'jumping_a3', 'stamina_a3', 'strength_a3',\n",
       "       'long_shots_a3', 'aggression_a3', 'interceptions_a3',\n",
       "       'positioning_a3', 'vision_a3', 'penalties_a3', 'marking_a3',\n",
       "       'standing_tackle_a3', 'sliding_tackle_a3', 'gk_diving_a3',\n",
       "       'gk_handling_a3', 'gk_kicking_a3', 'gk_positioning_a3',\n",
       "       'gk_reflexes_a3', 'id_a4', 'player_api_id_a4', 'overall_rating_a4',\n",
       "       'potential_a4', 'attacking_work_rate_a4', 'defensive_work_rate_a4',\n",
       "       'crossing_a4', 'finishing_a4', 'heading_accuracy_a4',\n",
       "       'short_passing_a4', 'volleys_a4', 'dribbling_a4', 'curve_a4',\n",
       "       'free_kick_accuracy_a4', 'long_passing_a4', 'ball_control_a4',\n",
       "       'acceleration_a4', 'sprint_speed_a4', 'agility_a4', 'reactions_a4',\n",
       "       'balance_a4', 'shot_power_a4', 'jumping_a4', 'stamina_a4',\n",
       "       'strength_a4', 'long_shots_a4', 'aggression_a4',\n",
       "       'interceptions_a4', 'positioning_a4', 'vision_a4', 'penalties_a4',\n",
       "       'marking_a4', 'standing_tackle_a4', 'sliding_tackle_a4',\n",
       "       'gk_diving_a4', 'gk_handling_a4', 'gk_kicking_a4',\n",
       "       'gk_positioning_a4', 'gk_reflexes_a4', 'id_a5', 'player_api_id_a5',\n",
       "       'overall_rating_a5', 'potential_a5', 'attacking_work_rate_a5',\n",
       "       'defensive_work_rate_a5', 'crossing_a5', 'finishing_a5',\n",
       "       'heading_accuracy_a5', 'short_passing_a5', 'volleys_a5',\n",
       "       'dribbling_a5', 'curve_a5', 'free_kick_accuracy_a5',\n",
       "       'long_passing_a5', 'ball_control_a5', 'acceleration_a5',\n",
       "       'sprint_speed_a5', 'agility_a5', 'reactions_a5', 'balance_a5',\n",
       "       'shot_power_a5', 'jumping_a5', 'stamina_a5', 'strength_a5',\n",
       "       'long_shots_a5', 'aggression_a5', 'interceptions_a5',\n",
       "       'positioning_a5', 'vision_a5', 'penalties_a5', 'marking_a5',\n",
       "       'standing_tackle_a5', 'sliding_tackle_a5', 'gk_diving_a5',\n",
       "       'gk_handling_a5', 'gk_kicking_a5', 'gk_positioning_a5',\n",
       "       'gk_reflexes_a5', 'id_a6', 'player_api_id_a6', 'overall_rating_a6',\n",
       "       'potential_a6', 'attacking_work_rate_a6', 'defensive_work_rate_a6',\n",
       "       'crossing_a6', 'finishing_a6', 'heading_accuracy_a6',\n",
       "       'short_passing_a6', 'volleys_a6', 'dribbling_a6', 'curve_a6',\n",
       "       'free_kick_accuracy_a6', 'long_passing_a6', 'ball_control_a6',\n",
       "       'acceleration_a6', 'sprint_speed_a6', 'agility_a6', 'reactions_a6',\n",
       "       'balance_a6', 'shot_power_a6', 'jumping_a6', 'stamina_a6',\n",
       "       'strength_a6', 'long_shots_a6', 'aggression_a6',\n",
       "       'interceptions_a6', 'positioning_a6', 'vision_a6', 'penalties_a6',\n",
       "       'marking_a6', 'standing_tackle_a6', 'sliding_tackle_a6',\n",
       "       'gk_diving_a6', 'gk_handling_a6', 'gk_kicking_a6',\n",
       "       'gk_positioning_a6', 'gk_reflexes_a6', 'id_a7', 'player_api_id_a7',\n",
       "       'overall_rating_a7', 'potential_a7', 'attacking_work_rate_a7',\n",
       "       'defensive_work_rate_a7', 'crossing_a7', 'finishing_a7',\n",
       "       'heading_accuracy_a7', 'short_passing_a7', 'volleys_a7',\n",
       "       'dribbling_a7', 'curve_a7', 'free_kick_accuracy_a7',\n",
       "       'long_passing_a7', 'ball_control_a7', 'acceleration_a7',\n",
       "       'sprint_speed_a7', 'agility_a7', 'reactions_a7', 'balance_a7',\n",
       "       'shot_power_a7', 'jumping_a7', 'stamina_a7', 'strength_a7',\n",
       "       'long_shots_a7', 'aggression_a7', 'interceptions_a7',\n",
       "       'positioning_a7', 'vision_a7', 'penalties_a7', 'marking_a7',\n",
       "       'standing_tackle_a7', 'sliding_tackle_a7', 'gk_diving_a7',\n",
       "       'gk_handling_a7', 'gk_kicking_a7', 'gk_positioning_a7',\n",
       "       'gk_reflexes_a7', 'id_a8', 'player_api_id_a8', 'overall_rating_a8',\n",
       "       'potential_a8', 'attacking_work_rate_a8', 'defensive_work_rate_a8',\n",
       "       'crossing_a8', 'finishing_a8', 'heading_accuracy_a8',\n",
       "       'short_passing_a8', 'volleys_a8', 'dribbling_a8', 'curve_a8',\n",
       "       'free_kick_accuracy_a8', 'long_passing_a8', 'ball_control_a8',\n",
       "       'acceleration_a8', 'sprint_speed_a8', 'agility_a8', 'reactions_a8',\n",
       "       'balance_a8', 'shot_power_a8', 'jumping_a8', 'stamina_a8',\n",
       "       'strength_a8', 'long_shots_a8', 'aggression_a8',\n",
       "       'interceptions_a8', 'positioning_a8', 'vision_a8', 'penalties_a8',\n",
       "       'marking_a8', 'standing_tackle_a8', 'sliding_tackle_a8',\n",
       "       'gk_diving_a8', 'gk_handling_a8', 'gk_kicking_a8',\n",
       "       'gk_positioning_a8', 'gk_reflexes_a8', 'id_a9', 'player_api_id_a9',\n",
       "       'overall_rating_a9', 'potential_a9', 'attacking_work_rate_a9',\n",
       "       'defensive_work_rate_a9', 'crossing_a9', 'finishing_a9',\n",
       "       'heading_accuracy_a9', 'short_passing_a9', 'volleys_a9',\n",
       "       'dribbling_a9', 'curve_a9', 'free_kick_accuracy_a9',\n",
       "       'long_passing_a9', 'ball_control_a9', 'acceleration_a9',\n",
       "       'sprint_speed_a9', 'agility_a9', 'reactions_a9', 'balance_a9',\n",
       "       'shot_power_a9', 'jumping_a9', 'stamina_a9', 'strength_a9',\n",
       "       'long_shots_a9', 'aggression_a9', 'interceptions_a9',\n",
       "       'positioning_a9', 'vision_a9', 'penalties_a9', 'marking_a9',\n",
       "       'standing_tackle_a9', 'sliding_tackle_a9', 'gk_diving_a9',\n",
       "       'gk_handling_a9', 'gk_kicking_a9', 'gk_positioning_a9',\n",
       "       'gk_reflexes_a9', 'id_a10', 'player_api_id_a10',\n",
       "       'overall_rating_a10', 'potential_a10', 'attacking_work_rate_a10',\n",
       "       'defensive_work_rate_a10', 'crossing_a10', 'finishing_a10',\n",
       "       'heading_accuracy_a10', 'short_passing_a10', 'volleys_a10',\n",
       "       'dribbling_a10', 'curve_a10', 'free_kick_accuracy_a10',\n",
       "       'long_passing_a10', 'ball_control_a10', 'acceleration_a10',\n",
       "       'sprint_speed_a10', 'agility_a10', 'reactions_a10', 'balance_a10',\n",
       "       'shot_power_a10', 'jumping_a10', 'stamina_a10', 'strength_a10',\n",
       "       'long_shots_a10', 'aggression_a10', 'interceptions_a10',\n",
       "       'positioning_a10', 'vision_a10', 'penalties_a10', 'marking_a10',\n",
       "       'standing_tackle_a10', 'sliding_tackle_a10', 'gk_diving_a10',\n",
       "       'gk_handling_a10', 'gk_kicking_a10', 'gk_positioning_a10',\n",
       "       'gk_reflexes_a10', 'id_a11', 'player_api_id_a11',\n",
       "       'overall_rating_a11', 'potential_a11', 'attacking_work_rate_a11',\n",
       "       'defensive_work_rate_a11', 'crossing_a11', 'finishing_a11',\n",
       "       'heading_accuracy_a11', 'short_passing_a11', 'volleys_a11',\n",
       "       'dribbling_a11', 'curve_a11', 'free_kick_accuracy_a11',\n",
       "       'long_passing_a11', 'ball_control_a11', 'acceleration_a11',\n",
       "       'sprint_speed_a11', 'agility_a11', 'reactions_a11', 'balance_a11',\n",
       "       'shot_power_a11', 'jumping_a11', 'stamina_a11', 'strength_a11',\n",
       "       'long_shots_a11', 'aggression_a11', 'interceptions_a11',\n",
       "       'positioning_a11', 'vision_a11', 'penalties_a11', 'marking_a11',\n",
       "       'standing_tackle_a11', 'sliding_tackle_a11', 'gk_diving_a11',\n",
       "       'gk_handling_a11', 'gk_kicking_a11', 'gk_positioning_a11',\n",
       "       'gk_reflexes_a11'], dtype=object)"
      ]
     },
     "execution_count": 54,
     "metadata": {},
     "output_type": "execute_result"
    }
   ],
   "source": [
    "merged_match_test1.columns.values"
   ]
  },
  {
   "cell_type": "code",
   "execution_count": 30,
   "metadata": {
    "execution": {
     "iopub.execute_input": "2021-04-09T01:02:26.040534Z",
     "iopub.status.busy": "2021-04-09T01:02:26.040356Z",
     "iopub.status.idle": "2021-04-09T01:02:26.057117Z",
     "shell.execute_reply": "2021-04-09T01:02:26.056743Z",
     "shell.execute_reply.started": "2021-04-09T01:02:26.040514Z"
    },
    "tags": []
   },
   "outputs": [
    {
     "data": {
      "text/html": [
       "<div>\n",
       "<style scoped>\n",
       "    .dataframe tbody tr th:only-of-type {\n",
       "        vertical-align: middle;\n",
       "    }\n",
       "\n",
       "    .dataframe tbody tr th {\n",
       "        vertical-align: top;\n",
       "    }\n",
       "\n",
       "    .dataframe thead th {\n",
       "        text-align: right;\n",
       "    }\n",
       "</style>\n",
       "<table border=\"1\" class=\"dataframe\">\n",
       "  <thead>\n",
       "    <tr style=\"text-align: right;\">\n",
       "      <th></th>\n",
       "      <th>id</th>\n",
       "      <th>player_api_id</th>\n",
       "      <th>overall_rating</th>\n",
       "      <th>potential</th>\n",
       "      <th>attacking_work_rate</th>\n",
       "      <th>defensive_work_rate</th>\n",
       "      <th>crossing</th>\n",
       "      <th>finishing</th>\n",
       "      <th>heading_accuracy</th>\n",
       "      <th>short_passing</th>\n",
       "      <th>...</th>\n",
       "      <th>vision</th>\n",
       "      <th>penalties</th>\n",
       "      <th>marking</th>\n",
       "      <th>standing_tackle</th>\n",
       "      <th>sliding_tackle</th>\n",
       "      <th>gk_diving</th>\n",
       "      <th>gk_handling</th>\n",
       "      <th>gk_kicking</th>\n",
       "      <th>gk_positioning</th>\n",
       "      <th>gk_reflexes</th>\n",
       "    </tr>\n",
       "  </thead>\n",
       "  <tbody>\n",
       "    <tr>\n",
       "      <th>67897</th>\n",
       "      <td>67898</td>\n",
       "      <td>157630</td>\n",
       "      <td>77.0</td>\n",
       "      <td>77.0</td>\n",
       "      <td>medium</td>\n",
       "      <td>high</td>\n",
       "      <td>51.0</td>\n",
       "      <td>23.0</td>\n",
       "      <td>81.0</td>\n",
       "      <td>72.0</td>\n",
       "      <td>...</td>\n",
       "      <td>59.0</td>\n",
       "      <td>60.0</td>\n",
       "      <td>76.0</td>\n",
       "      <td>74.0</td>\n",
       "      <td>75.0</td>\n",
       "      <td>9.0</td>\n",
       "      <td>13.0</td>\n",
       "      <td>8.0</td>\n",
       "      <td>13.0</td>\n",
       "      <td>6.0</td>\n",
       "    </tr>\n",
       "  </tbody>\n",
       "</table>\n",
       "<p>1 rows × 39 columns</p>\n",
       "</div>"
      ],
      "text/plain": [
       "          id  player_api_id  overall_rating  potential attacking_work_rate  \\\n",
       "67897  67898         157630            77.0       77.0              medium   \n",
       "\n",
       "      defensive_work_rate  crossing  finishing  heading_accuracy  \\\n",
       "67897                high      51.0       23.0              81.0   \n",
       "\n",
       "       short_passing  ...  vision  penalties  marking  standing_tackle  \\\n",
       "67897           72.0  ...    59.0       60.0     76.0             74.0   \n",
       "\n",
       "       sliding_tackle  gk_diving  gk_handling  gk_kicking  gk_positioning  \\\n",
       "67897            75.0        9.0         13.0         8.0            13.0   \n",
       "\n",
       "       gk_reflexes  \n",
       "67897          6.0  \n",
       "\n",
       "[1 rows x 39 columns]"
      ]
     },
     "execution_count": 30,
     "metadata": {},
     "output_type": "execute_result"
    }
   ],
   "source": [
    "Player_att.loc[Player_att['id'] == 67898]"
   ]
  },
  {
   "cell_type": "code",
   "execution_count": 55,
   "metadata": {
    "execution": {
     "iopub.execute_input": "2021-04-09T01:23:09.673216Z",
     "iopub.status.busy": "2021-04-09T01:23:09.672966Z",
     "iopub.status.idle": "2021-04-09T01:23:09.677061Z",
     "shell.execute_reply": "2021-04-09T01:23:09.675877Z",
     "shell.execute_reply.started": "2021-04-09T01:23:09.673188Z"
    }
   },
   "outputs": [
    {
     "data": {
      "text/plain": [
       "(21361, 913)"
      ]
     },
     "execution_count": 55,
     "metadata": {},
     "output_type": "execute_result"
    }
   ],
   "source": [
    "merged_match_test1.shape"
   ]
  },
  {
   "cell_type": "code",
   "execution_count": null,
   "metadata": {},
   "outputs": [],
   "source": []
  }
 ],
 "metadata": {
  "kernelspec": {
   "display_name": "Python 3",
   "language": "python",
   "name": "python3"
  },
  "language_info": {
   "codemirror_mode": {
    "name": "ipython",
    "version": 3
   },
   "file_extension": ".py",
   "mimetype": "text/x-python",
   "name": "python",
   "nbconvert_exporter": "python",
   "pygments_lexer": "ipython3",
   "version": "3.9.2"
  }
 },
 "nbformat": 4,
 "nbformat_minor": 4
}
