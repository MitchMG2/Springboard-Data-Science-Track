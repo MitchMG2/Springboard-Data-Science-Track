{
 "cells": [
  {
   "cell_type": "markdown",
   "metadata": {},
   "source": [
    "### Imports"
   ]
  },
  {
   "cell_type": "code",
   "execution_count": 1,
   "metadata": {
    "execution": {
     "iopub.execute_input": "2021-04-29T23:04:41.128971Z",
     "iopub.status.busy": "2021-04-29T23:04:41.128567Z",
     "iopub.status.idle": "2021-04-29T23:04:41.555570Z",
     "shell.execute_reply": "2021-04-29T23:04:41.555176Z",
     "shell.execute_reply.started": "2021-04-29T23:04:41.128923Z"
    },
    "tags": []
   },
   "outputs": [],
   "source": [
    "import pandas as pd\n",
    "import numpy as np\n",
    "import matplotlib.pyplot as plt\n",
    "import datetime\n",
    "import os\n",
    "from bs4 import BeautifulSoup\n",
    "from collections import Counter"
   ]
  },
  {
   "cell_type": "code",
   "execution_count": 2,
   "metadata": {
    "execution": {
     "iopub.execute_input": "2021-04-29T23:04:41.560040Z",
     "iopub.status.busy": "2021-04-29T23:04:41.559927Z",
     "iopub.status.idle": "2021-04-29T23:04:43.175716Z",
     "shell.execute_reply": "2021-04-29T23:04:43.175203Z",
     "shell.execute_reply.started": "2021-04-29T23:04:41.560025Z"
    },
    "tags": []
   },
   "outputs": [],
   "source": [
    "Match = pd.read_csv('data/match_with_stats.csv')"
   ]
  },
  {
   "cell_type": "code",
   "execution_count": 3,
   "metadata": {
    "execution": {
     "iopub.execute_input": "2021-04-29T23:04:43.176834Z",
     "iopub.status.busy": "2021-04-29T23:04:43.176676Z",
     "iopub.status.idle": "2021-04-29T23:04:43.180361Z",
     "shell.execute_reply": "2021-04-29T23:04:43.179914Z",
     "shell.execute_reply.started": "2021-04-29T23:04:43.176813Z"
    },
    "tags": []
   },
   "outputs": [
    {
     "data": {
      "text/plain": [
       "array(['id', 'country_id', 'league_id', 'season', 'stage', 'date',\n",
       "       'match_api_id', 'home_team_api_id', 'away_team_api_id',\n",
       "       'home_team_goal', 'away_team_goal', 'home_player_Y1',\n",
       "       'home_player_Y2', 'home_player_Y3', 'home_player_Y4',\n",
       "       'home_player_Y5', 'home_player_Y6', 'home_player_Y7',\n",
       "       'home_player_Y8', 'home_player_Y9', 'home_player_Y10',\n",
       "       'home_player_Y11', 'away_player_Y1', 'away_player_Y2',\n",
       "       'away_player_Y3', 'away_player_Y4', 'away_player_Y5',\n",
       "       'away_player_Y6', 'away_player_Y7', 'away_player_Y8',\n",
       "       'away_player_Y9', 'away_player_Y10', 'away_player_Y11',\n",
       "       'home_player_1', 'home_player_2', 'home_player_3', 'home_player_4',\n",
       "       'home_player_5', 'home_player_6', 'home_player_7', 'home_player_8',\n",
       "       'home_player_9', 'home_player_10', 'home_player_11',\n",
       "       'away_player_1', 'away_player_2', 'away_player_3', 'away_player_4',\n",
       "       'away_player_5', 'away_player_6', 'away_player_7', 'away_player_8',\n",
       "       'away_player_9', 'away_player_10', 'away_player_11', 'goal',\n",
       "       'shoton', 'shotoff', 'foulcommit', 'card', 'cross', 'corner',\n",
       "       'possession'], dtype=object)"
      ]
     },
     "execution_count": 3,
     "metadata": {},
     "output_type": "execute_result"
    }
   ],
   "source": [
    "Match.columns.values"
   ]
  },
  {
   "cell_type": "code",
   "execution_count": 4,
   "metadata": {
    "execution": {
     "iopub.execute_input": "2021-04-29T23:04:43.189961Z",
     "iopub.status.busy": "2021-04-29T23:04:43.189779Z",
     "iopub.status.idle": "2021-04-29T23:04:43.192195Z",
     "shell.execute_reply": "2021-04-29T23:04:43.191755Z",
     "shell.execute_reply.started": "2021-04-29T23:04:43.189939Z"
    },
    "tags": []
   },
   "outputs": [],
   "source": [
    "####Most of these stats are not consistent throughout games and are freak events\n",
    "###Should not be used to predict match outcome\n",
    "###Relevant Columns\n",
    "rel_stat_cols = ['possession', 'foulcommit']"
   ]
  },
  {
   "cell_type": "code",
   "execution_count": 5,
   "metadata": {
    "execution": {
     "iopub.execute_input": "2021-04-29T23:04:43.192982Z",
     "iopub.status.busy": "2021-04-29T23:04:43.192865Z",
     "iopub.status.idle": "2021-04-29T23:04:43.195704Z",
     "shell.execute_reply": "2021-04-29T23:04:43.195335Z",
     "shell.execute_reply.started": "2021-04-29T23:04:43.192967Z"
    },
    "tags": []
   },
   "outputs": [],
   "source": [
    "from xml.etree import ElementTree as ET"
   ]
  },
  {
   "cell_type": "code",
   "execution_count": 6,
   "metadata": {
    "execution": {
     "iopub.execute_input": "2021-04-29T23:04:43.229395Z",
     "iopub.status.busy": "2021-04-29T23:04:43.229179Z",
     "iopub.status.idle": "2021-04-29T23:04:43.233685Z",
     "shell.execute_reply": "2021-04-29T23:04:43.233080Z",
     "shell.execute_reply.started": "2021-04-29T23:04:43.229369Z"
    },
    "tags": []
   },
   "outputs": [],
   "source": [
    "Markup_Stats = pd.DataFrame(columns = ['home_possession', 'away_possession', 'home_fouls', 'away_fouls'])"
   ]
  },
  {
   "cell_type": "code",
   "execution_count": 7,
   "metadata": {
    "execution": {
     "iopub.execute_input": "2021-04-29T23:04:44.313494Z",
     "iopub.status.busy": "2021-04-29T23:04:44.313334Z",
     "iopub.status.idle": "2021-04-29T23:05:00.343346Z",
     "shell.execute_reply": "2021-04-29T23:05:00.342946Z",
     "shell.execute_reply.started": "2021-04-29T23:04:44.313478Z"
    },
    "tags": []
   },
   "outputs": [],
   "source": [
    "for i in range(len(Match)):\n",
    "    root = ET.fromstring(Match['possession'][i])\n",
    "    for el in root.findall('value'):\n",
    "        full_t = int(el.find('elapsed').text)\n",
    "        if full_t == 90:\n",
    "            h_pos = el.find('homepos')\n",
    "            a_pos = el.find('awaypos')\n",
    "            if h_pos is not None:\n",
    "                home_poss = int(h_pos.text)\n",
    "            else:\n",
    "                h_pos = None\n",
    "            if a_pos is not None:\n",
    "                away_poss = int(a_pos.text)\n",
    "            else:\n",
    "                a_pos = None\n",
    "    #print({'home_possession': home_poss, 'away_possession': away_poss})\n",
    "    #Markup_Stats.append({'home_possession': home_poss, 'away_possession': away_poss}, ignore_index=True)\n",
    "    root2 = ET.fromstring(Match['foulcommit'][i])\n",
    "    foul_list = []\n",
    "    for el in root2.findall('value'):\n",
    "        foul_comm = el.find('type').text\n",
    "        if foul_comm == 'foulcommit':\n",
    "            node = el.find('team')\n",
    "            if node is not None:\n",
    "                foul_inst = int(node.text)\n",
    "                foul_list.append(foul_inst)\n",
    "            else:\n",
    "                node = None\n",
    "    foul_count = list(dict(Counter(foul_list)).items())\n",
    "    if not foul_count:\n",
    "        #print({'home_fouls': 0, 'away_fouls': 0})\n",
    "        Markup_Stats = Markup_Stats.append({'home_possession': home_poss, 'away_possession': away_poss, 'home_fouls': 0, 'away_fouls': 0}, ignore_index=True)\n",
    "    elif len(foul_count) == 1:\n",
    "        #print({'home_fouls': foul_count[0][1], 'away_fouls': 0})\n",
    "        Markup_Stats = Markup_Stats.append({'home_possession': home_poss, 'away_possession': away_poss, 'home_fouls': foul_count[0][1], 'away_fouls': 0}, ignore_index=True)\n",
    "    elif foul_count:\n",
    "        #print({'home_fouls': foul_count[0][1], 'away_fouls': foul_count[1][1]})\n",
    "        Markup_Stats = Markup_Stats.append({'home_possession': home_poss, 'away_possession': away_poss, 'home_fouls': foul_count[0][1], 'away_fouls': foul_count[1][1]}, ignore_index=True)\n",
    "    #print(i)\n",
    "#2962 problematic"
   ]
  },
  {
   "cell_type": "code",
   "execution_count": 8,
   "metadata": {
    "execution": {
     "iopub.execute_input": "2021-04-29T23:05:00.351795Z",
     "iopub.status.busy": "2021-04-29T23:05:00.351682Z",
     "iopub.status.idle": "2021-04-29T23:05:00.356245Z",
     "shell.execute_reply": "2021-04-29T23:05:00.355742Z",
     "shell.execute_reply.started": "2021-04-29T23:05:00.351780Z"
    },
    "tags": []
   },
   "outputs": [
    {
     "name": "stdout",
     "output_type": "stream",
     "text": [
      "[(10189, 3)]\n",
      "{'home_fouls': 3, 'away_fouls': 0}\n"
     ]
    }
   ],
   "source": [
    "root3 = ET.fromstring(Match['foulcommit'][5019])\n",
    "foul_list = []\n",
    "for el in root3.findall('value'):\n",
    "    foul_comm = el.find('type').text\n",
    "    if foul_comm == 'foulcommit':\n",
    "        node = el.find('team')\n",
    "        if node is not None:\n",
    "            foul_inst = int(node.text)\n",
    "            foul_list.append(foul_inst)\n",
    "        else:\n",
    "            node = None\n",
    "foul_count = list(dict(Counter(foul_list)).items())\n",
    "print(foul_count)\n",
    "if not foul_count:\n",
    "    print({'home_fouls': 0, 'away_fouls': 0})\n",
    "elif len(foul_count) == 1:\n",
    "    print({'home_fouls': foul_count[0][1], 'away_fouls': 0})\n",
    "elif foul_count:\n",
    "    print({'home_fouls': foul_count[0][1], 'away_fouls': foul_count[1][1]})"
   ]
  },
  {
   "cell_type": "code",
   "execution_count": 9,
   "metadata": {
    "execution": {
     "iopub.execute_input": "2021-04-29T23:05:00.357621Z",
     "iopub.status.busy": "2021-04-29T23:05:00.357442Z",
     "iopub.status.idle": "2021-04-29T23:05:00.367550Z",
     "shell.execute_reply": "2021-04-29T23:05:00.367080Z",
     "shell.execute_reply.started": "2021-04-29T23:05:00.357596Z"
    },
    "tags": []
   },
   "outputs": [
    {
     "data": {
      "text/plain": [
       "(13321, 4)"
      ]
     },
     "execution_count": 9,
     "metadata": {},
     "output_type": "execute_result"
    }
   ],
   "source": [
    "Markup_Stats.shape"
   ]
  },
  {
   "cell_type": "code",
   "execution_count": 10,
   "metadata": {
    "execution": {
     "iopub.execute_input": "2021-04-29T23:05:00.368615Z",
     "iopub.status.busy": "2021-04-29T23:05:00.368427Z",
     "iopub.status.idle": "2021-04-29T23:05:00.378366Z",
     "shell.execute_reply": "2021-04-29T23:05:00.377921Z",
     "shell.execute_reply.started": "2021-04-29T23:05:00.368590Z"
    },
    "tags": []
   },
   "outputs": [
    {
     "data": {
      "text/html": [
       "<div>\n",
       "<style scoped>\n",
       "    .dataframe tbody tr th:only-of-type {\n",
       "        vertical-align: middle;\n",
       "    }\n",
       "\n",
       "    .dataframe tbody tr th {\n",
       "        vertical-align: top;\n",
       "    }\n",
       "\n",
       "    .dataframe thead th {\n",
       "        text-align: right;\n",
       "    }\n",
       "</style>\n",
       "<table border=\"1\" class=\"dataframe\">\n",
       "  <thead>\n",
       "    <tr style=\"text-align: right;\">\n",
       "      <th></th>\n",
       "      <th>home_possession</th>\n",
       "      <th>away_possession</th>\n",
       "      <th>home_fouls</th>\n",
       "      <th>away_fouls</th>\n",
       "    </tr>\n",
       "  </thead>\n",
       "  <tbody>\n",
       "    <tr>\n",
       "      <th>0</th>\n",
       "      <td>55</td>\n",
       "      <td>45</td>\n",
       "      <td>11</td>\n",
       "      <td>16</td>\n",
       "    </tr>\n",
       "    <tr>\n",
       "      <th>1</th>\n",
       "      <td>66</td>\n",
       "      <td>34</td>\n",
       "      <td>9</td>\n",
       "      <td>11</td>\n",
       "    </tr>\n",
       "    <tr>\n",
       "      <th>2</th>\n",
       "      <td>46</td>\n",
       "      <td>54</td>\n",
       "      <td>12</td>\n",
       "      <td>13</td>\n",
       "    </tr>\n",
       "    <tr>\n",
       "      <th>3</th>\n",
       "      <td>52</td>\n",
       "      <td>48</td>\n",
       "      <td>14</td>\n",
       "      <td>13</td>\n",
       "    </tr>\n",
       "    <tr>\n",
       "      <th>4</th>\n",
       "      <td>51</td>\n",
       "      <td>49</td>\n",
       "      <td>11</td>\n",
       "      <td>11</td>\n",
       "    </tr>\n",
       "  </tbody>\n",
       "</table>\n",
       "</div>"
      ],
      "text/plain": [
       "  home_possession away_possession home_fouls away_fouls\n",
       "0              55              45         11         16\n",
       "1              66              34          9         11\n",
       "2              46              54         12         13\n",
       "3              52              48         14         13\n",
       "4              51              49         11         11"
      ]
     },
     "execution_count": 10,
     "metadata": {},
     "output_type": "execute_result"
    }
   ],
   "source": [
    "Markup_Stats.head(5)"
   ]
  },
  {
   "cell_type": "code",
   "execution_count": 11,
   "metadata": {
    "execution": {
     "iopub.execute_input": "2021-04-29T23:05:00.379375Z",
     "iopub.status.busy": "2021-04-29T23:05:00.379183Z",
     "iopub.status.idle": "2021-04-29T23:05:00.389156Z",
     "shell.execute_reply": "2021-04-29T23:05:00.388739Z",
     "shell.execute_reply.started": "2021-04-29T23:05:00.379355Z"
    },
    "tags": []
   },
   "outputs": [
    {
     "data": {
      "text/html": [
       "<div>\n",
       "<style scoped>\n",
       "    .dataframe tbody tr th:only-of-type {\n",
       "        vertical-align: middle;\n",
       "    }\n",
       "\n",
       "    .dataframe tbody tr th {\n",
       "        vertical-align: top;\n",
       "    }\n",
       "\n",
       "    .dataframe thead th {\n",
       "        text-align: right;\n",
       "    }\n",
       "</style>\n",
       "<table border=\"1\" class=\"dataframe\">\n",
       "  <thead>\n",
       "    <tr style=\"text-align: right;\">\n",
       "      <th></th>\n",
       "      <th>home_possession</th>\n",
       "      <th>away_possession</th>\n",
       "      <th>home_fouls</th>\n",
       "      <th>away_fouls</th>\n",
       "    </tr>\n",
       "  </thead>\n",
       "  <tbody>\n",
       "    <tr>\n",
       "      <th>13221</th>\n",
       "      <td>52</td>\n",
       "      <td>48</td>\n",
       "      <td>11</td>\n",
       "      <td>8</td>\n",
       "    </tr>\n",
       "    <tr>\n",
       "      <th>13222</th>\n",
       "      <td>62</td>\n",
       "      <td>38</td>\n",
       "      <td>12</td>\n",
       "      <td>14</td>\n",
       "    </tr>\n",
       "    <tr>\n",
       "      <th>13223</th>\n",
       "      <td>62</td>\n",
       "      <td>38</td>\n",
       "      <td>0</td>\n",
       "      <td>0</td>\n",
       "    </tr>\n",
       "    <tr>\n",
       "      <th>13224</th>\n",
       "      <td>62</td>\n",
       "      <td>38</td>\n",
       "      <td>0</td>\n",
       "      <td>0</td>\n",
       "    </tr>\n",
       "    <tr>\n",
       "      <th>13225</th>\n",
       "      <td>62</td>\n",
       "      <td>38</td>\n",
       "      <td>0</td>\n",
       "      <td>0</td>\n",
       "    </tr>\n",
       "    <tr>\n",
       "      <th>...</th>\n",
       "      <td>...</td>\n",
       "      <td>...</td>\n",
       "      <td>...</td>\n",
       "      <td>...</td>\n",
       "    </tr>\n",
       "    <tr>\n",
       "      <th>13316</th>\n",
       "      <td>62</td>\n",
       "      <td>38</td>\n",
       "      <td>0</td>\n",
       "      <td>0</td>\n",
       "    </tr>\n",
       "    <tr>\n",
       "      <th>13317</th>\n",
       "      <td>62</td>\n",
       "      <td>38</td>\n",
       "      <td>0</td>\n",
       "      <td>0</td>\n",
       "    </tr>\n",
       "    <tr>\n",
       "      <th>13318</th>\n",
       "      <td>62</td>\n",
       "      <td>38</td>\n",
       "      <td>0</td>\n",
       "      <td>0</td>\n",
       "    </tr>\n",
       "    <tr>\n",
       "      <th>13319</th>\n",
       "      <td>62</td>\n",
       "      <td>38</td>\n",
       "      <td>0</td>\n",
       "      <td>0</td>\n",
       "    </tr>\n",
       "    <tr>\n",
       "      <th>13320</th>\n",
       "      <td>62</td>\n",
       "      <td>38</td>\n",
       "      <td>0</td>\n",
       "      <td>0</td>\n",
       "    </tr>\n",
       "  </tbody>\n",
       "</table>\n",
       "<p>100 rows × 4 columns</p>\n",
       "</div>"
      ],
      "text/plain": [
       "      home_possession away_possession home_fouls away_fouls\n",
       "13221              52              48         11          8\n",
       "13222              62              38         12         14\n",
       "13223              62              38          0          0\n",
       "13224              62              38          0          0\n",
       "13225              62              38          0          0\n",
       "...               ...             ...        ...        ...\n",
       "13316              62              38          0          0\n",
       "13317              62              38          0          0\n",
       "13318              62              38          0          0\n",
       "13319              62              38          0          0\n",
       "13320              62              38          0          0\n",
       "\n",
       "[100 rows x 4 columns]"
      ]
     },
     "execution_count": 11,
     "metadata": {},
     "output_type": "execute_result"
    }
   ],
   "source": [
    "Markup_Stats.tail(100)"
   ]
  },
  {
   "cell_type": "code",
   "execution_count": 12,
   "metadata": {
    "execution": {
     "iopub.execute_input": "2021-04-29T23:05:00.390066Z",
     "iopub.status.busy": "2021-04-29T23:05:00.389934Z",
     "iopub.status.idle": "2021-04-29T23:05:00.397603Z",
     "shell.execute_reply": "2021-04-29T23:05:00.397118Z",
     "shell.execute_reply.started": "2021-04-29T23:05:00.390049Z"
    },
    "tags": []
   },
   "outputs": [
    {
     "data": {
      "text/plain": [
       "home_possession  away_possession  home_fouls  away_fouls\n",
       "62               38               0           0             98\n",
       "dtype: int64"
      ]
     },
     "execution_count": 12,
     "metadata": {},
     "output_type": "execute_result"
    }
   ],
   "source": [
    "Markup_Stats.iloc[13223:].value_counts()"
   ]
  },
  {
   "cell_type": "markdown",
   "metadata": {},
   "source": [
    "Every match from 13223 onwards seems to be identical/repetitive data"
   ]
  },
  {
   "cell_type": "code",
   "execution_count": 13,
   "metadata": {
    "execution": {
     "iopub.execute_input": "2021-04-29T23:05:00.399134Z",
     "iopub.status.busy": "2021-04-29T23:05:00.398876Z",
     "iopub.status.idle": "2021-04-29T23:05:00.401795Z",
     "shell.execute_reply": "2021-04-29T23:05:00.401409Z",
     "shell.execute_reply.started": "2021-04-29T23:05:00.399110Z"
    },
    "tags": []
   },
   "outputs": [],
   "source": [
    "red_mark_stats = Markup_Stats.iloc[:13223]"
   ]
  },
  {
   "cell_type": "code",
   "execution_count": 14,
   "metadata": {
    "execution": {
     "iopub.execute_input": "2021-04-29T23:05:00.402612Z",
     "iopub.status.busy": "2021-04-29T23:05:00.402496Z",
     "iopub.status.idle": "2021-04-29T23:05:00.405839Z",
     "shell.execute_reply": "2021-04-29T23:05:00.405465Z",
     "shell.execute_reply.started": "2021-04-29T23:05:00.402596Z"
    },
    "tags": []
   },
   "outputs": [
    {
     "data": {
      "text/plain": [
       "(13223, 4)"
      ]
     },
     "execution_count": 14,
     "metadata": {},
     "output_type": "execute_result"
    }
   ],
   "source": [
    "red_mark_stats.shape"
   ]
  },
  {
   "cell_type": "code",
   "execution_count": 15,
   "metadata": {
    "execution": {
     "iopub.execute_input": "2021-04-29T23:05:00.406565Z",
     "iopub.status.busy": "2021-04-29T23:05:00.406444Z",
     "iopub.status.idle": "2021-04-29T23:05:00.415694Z",
     "shell.execute_reply": "2021-04-29T23:05:00.415214Z",
     "shell.execute_reply.started": "2021-04-29T23:05:00.406549Z"
    },
    "tags": []
   },
   "outputs": [
    {
     "data": {
      "text/html": [
       "<div>\n",
       "<style scoped>\n",
       "    .dataframe tbody tr th:only-of-type {\n",
       "        vertical-align: middle;\n",
       "    }\n",
       "\n",
       "    .dataframe tbody tr th {\n",
       "        vertical-align: top;\n",
       "    }\n",
       "\n",
       "    .dataframe thead th {\n",
       "        text-align: right;\n",
       "    }\n",
       "</style>\n",
       "<table border=\"1\" class=\"dataframe\">\n",
       "  <thead>\n",
       "    <tr style=\"text-align: right;\">\n",
       "      <th></th>\n",
       "      <th>home_possession</th>\n",
       "      <th>away_possession</th>\n",
       "      <th>home_fouls</th>\n",
       "      <th>away_fouls</th>\n",
       "    </tr>\n",
       "  </thead>\n",
       "  <tbody>\n",
       "    <tr>\n",
       "      <th>13218</th>\n",
       "      <td>49</td>\n",
       "      <td>51</td>\n",
       "      <td>26</td>\n",
       "      <td>10</td>\n",
       "    </tr>\n",
       "    <tr>\n",
       "      <th>13219</th>\n",
       "      <td>50</td>\n",
       "      <td>50</td>\n",
       "      <td>11</td>\n",
       "      <td>10</td>\n",
       "    </tr>\n",
       "    <tr>\n",
       "      <th>13220</th>\n",
       "      <td>52</td>\n",
       "      <td>48</td>\n",
       "      <td>8</td>\n",
       "      <td>15</td>\n",
       "    </tr>\n",
       "    <tr>\n",
       "      <th>13221</th>\n",
       "      <td>52</td>\n",
       "      <td>48</td>\n",
       "      <td>11</td>\n",
       "      <td>8</td>\n",
       "    </tr>\n",
       "    <tr>\n",
       "      <th>13222</th>\n",
       "      <td>62</td>\n",
       "      <td>38</td>\n",
       "      <td>12</td>\n",
       "      <td>14</td>\n",
       "    </tr>\n",
       "  </tbody>\n",
       "</table>\n",
       "</div>"
      ],
      "text/plain": [
       "      home_possession away_possession home_fouls away_fouls\n",
       "13218              49              51         26         10\n",
       "13219              50              50         11         10\n",
       "13220              52              48          8         15\n",
       "13221              52              48         11          8\n",
       "13222              62              38         12         14"
      ]
     },
     "execution_count": 15,
     "metadata": {},
     "output_type": "execute_result"
    }
   ],
   "source": [
    "red_mark_stats.tail(5)"
   ]
  },
  {
   "cell_type": "code",
   "execution_count": 16,
   "metadata": {
    "execution": {
     "iopub.execute_input": "2021-04-22T23:41:14.366134Z",
     "iopub.status.busy": "2021-04-22T23:41:14.365957Z",
     "iopub.status.idle": "2021-04-22T23:41:14.388383Z",
     "shell.execute_reply": "2021-04-22T23:41:14.388012Z",
     "shell.execute_reply.started": "2021-04-22T23:41:14.366117Z"
    }
   },
   "outputs": [
    {
     "data": {
      "text/html": [
       "<div>\n",
       "<style scoped>\n",
       "    .dataframe tbody tr th:only-of-type {\n",
       "        vertical-align: middle;\n",
       "    }\n",
       "\n",
       "    .dataframe tbody tr th {\n",
       "        vertical-align: top;\n",
       "    }\n",
       "\n",
       "    .dataframe thead th {\n",
       "        text-align: right;\n",
       "    }\n",
       "</style>\n",
       "<table border=\"1\" class=\"dataframe\">\n",
       "  <thead>\n",
       "    <tr style=\"text-align: right;\">\n",
       "      <th></th>\n",
       "      <th>home_possession</th>\n",
       "      <th>away_possession</th>\n",
       "      <th>home_fouls</th>\n",
       "      <th>away_fouls</th>\n",
       "    </tr>\n",
       "  </thead>\n",
       "  <tbody>\n",
       "    <tr>\n",
       "      <th>0</th>\n",
       "      <td>55</td>\n",
       "      <td>45</td>\n",
       "      <td>11</td>\n",
       "      <td>16</td>\n",
       "    </tr>\n",
       "    <tr>\n",
       "      <th>1</th>\n",
       "      <td>66</td>\n",
       "      <td>34</td>\n",
       "      <td>9</td>\n",
       "      <td>11</td>\n",
       "    </tr>\n",
       "    <tr>\n",
       "      <th>2</th>\n",
       "      <td>46</td>\n",
       "      <td>54</td>\n",
       "      <td>12</td>\n",
       "      <td>13</td>\n",
       "    </tr>\n",
       "    <tr>\n",
       "      <th>3</th>\n",
       "      <td>52</td>\n",
       "      <td>48</td>\n",
       "      <td>14</td>\n",
       "      <td>13</td>\n",
       "    </tr>\n",
       "    <tr>\n",
       "      <th>4</th>\n",
       "      <td>51</td>\n",
       "      <td>49</td>\n",
       "      <td>11</td>\n",
       "      <td>11</td>\n",
       "    </tr>\n",
       "  </tbody>\n",
       "</table>\n",
       "</div>"
      ],
      "text/plain": [
       "  home_possession away_possession home_fouls away_fouls\n",
       "0              55              45         11         16\n",
       "1              66              34          9         11\n",
       "2              46              54         12         13\n",
       "3              52              48         14         13\n",
       "4              51              49         11         11"
      ]
     },
     "execution_count": 16,
     "metadata": {},
     "output_type": "execute_result"
    }
   ],
   "source": [
    "red_mark_stats.head(5)"
   ]
  },
  {
   "cell_type": "code",
   "execution_count": 17,
   "metadata": {
    "execution": {
     "iopub.execute_input": "2021-04-22T23:41:14.389092Z",
     "iopub.status.busy": "2021-04-22T23:41:14.388949Z",
     "iopub.status.idle": "2021-04-22T23:41:14.431069Z",
     "shell.execute_reply": "2021-04-22T23:41:14.430681Z",
     "shell.execute_reply.started": "2021-04-22T23:41:14.389077Z"
    }
   },
   "outputs": [],
   "source": [
    " red_mark_stats.to_csv('data/' + 'reduced_match_stats.csv')"
   ]
  }
 ],
 "metadata": {
  "kernelspec": {
   "display_name": "Python 3",
   "language": "python",
   "name": "python3"
  },
  "language_info": {
   "codemirror_mode": {
    "name": "ipython",
    "version": 3
   },
   "file_extension": ".py",
   "mimetype": "text/x-python",
   "name": "python",
   "nbconvert_exporter": "python",
   "pygments_lexer": "ipython3",
   "version": "3.9.4"
  }
 },
 "nbformat": 4,
 "nbformat_minor": 4
}
