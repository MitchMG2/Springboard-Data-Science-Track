{
 "cells": [
  {
   "cell_type": "markdown",
   "metadata": {},
   "source": [
    "### Imports"
   ]
  },
  {
   "cell_type": "code",
   "execution_count": 148,
   "metadata": {
    "execution": {
     "iopub.execute_input": "2021-05-21T01:17:46.239027Z",
     "iopub.status.busy": "2021-05-21T01:17:46.238726Z",
     "iopub.status.idle": "2021-05-21T01:17:46.244105Z",
     "shell.execute_reply": "2021-05-21T01:17:46.243356Z",
     "shell.execute_reply.started": "2021-05-21T01:17:46.238987Z"
    },
    "tags": []
   },
   "outputs": [],
   "source": [
    "import pandas as pd\n",
    "import numpy as np\n",
    "import os\n",
    "import pickle\n",
    "import matplotlib.pyplot as plt\n",
    "import seaborn as sns\n",
    "import itertools\n",
    "from sklearn import __version__ as sklearn_version\n",
    "from sklearn.preprocessing import scale\n",
    "from sklearn.model_selection import train_test_split, cross_validate, GridSearchCV, learning_curve, cross_val_score, KFold\n",
    "from sklearn.preprocessing import StandardScaler, MinMaxScaler\n",
    "from sklearn.dummy import DummyRegressor\n",
    "from sklearn.ensemble import RandomForestClassifier\n",
    "from sklearn.metrics import confusion_matrix, make_scorer, accuracy_score, precision_score, recall_score\n",
    "from sklearn.pipeline import make_pipeline, Pipeline\n",
    "from sklearn.impute import SimpleImputer\n",
    "from sklearn.feature_selection import SelectKBest, f_regression\n",
    "from sklearn.svm import SVC\n",
    "from sklearn.linear_model import RidgeClassifier, LogisticRegression\n",
    "from sklearn.neighbors import KNeighborsClassifier\n",
    "import datetime"
   ]
  },
  {
   "cell_type": "code",
   "execution_count": 149,
   "metadata": {
    "execution": {
     "iopub.execute_input": "2021-05-21T01:17:46.379356Z",
     "iopub.status.busy": "2021-05-21T01:17:46.379202Z",
     "iopub.status.idle": "2021-05-21T01:17:46.473068Z",
     "shell.execute_reply": "2021-05-21T01:17:46.472669Z",
     "shell.execute_reply.started": "2021-05-21T01:17:46.379341Z"
    },
    "tags": []
   },
   "outputs": [],
   "source": [
    "df = pd.read_csv('data/Final_merged_dataset_clean.csv')"
   ]
  },
  {
   "cell_type": "code",
   "execution_count": 150,
   "metadata": {
    "execution": {
     "iopub.execute_input": "2021-05-21T01:17:46.512833Z",
     "iopub.status.busy": "2021-05-21T01:17:46.512711Z",
     "iopub.status.idle": "2021-05-21T01:17:46.527412Z",
     "shell.execute_reply": "2021-05-21T01:17:46.527029Z",
     "shell.execute_reply.started": "2021-05-21T01:17:46.512819Z"
    },
    "tags": []
   },
   "outputs": [
    {
     "data": {
      "text/html": [
       "<div>\n",
       "<style scoped>\n",
       "    .dataframe tbody tr th:only-of-type {\n",
       "        vertical-align: middle;\n",
       "    }\n",
       "\n",
       "    .dataframe tbody tr th {\n",
       "        vertical-align: top;\n",
       "    }\n",
       "\n",
       "    .dataframe thead th {\n",
       "        text-align: right;\n",
       "    }\n",
       "</style>\n",
       "<table border=\"1\" class=\"dataframe\">\n",
       "  <thead>\n",
       "    <tr style=\"text-align: right;\">\n",
       "      <th></th>\n",
       "      <th>id</th>\n",
       "      <th>home_team_api_id</th>\n",
       "      <th>away_team_api_id</th>\n",
       "      <th>crossing_h</th>\n",
       "      <th>finishing_h</th>\n",
       "      <th>heading_accuracy_h</th>\n",
       "      <th>short_passing_h</th>\n",
       "      <th>volleys_h</th>\n",
       "      <th>dribbling_h</th>\n",
       "      <th>curve_h</th>\n",
       "      <th>...</th>\n",
       "      <th>defenceAggression_h</th>\n",
       "      <th>defenceTeamWidth_h</th>\n",
       "      <th>buildUpPlaySpeed_a</th>\n",
       "      <th>buildUpPlayPassing_a</th>\n",
       "      <th>chanceCreationPassing_a</th>\n",
       "      <th>chanceCreationCrossing_a</th>\n",
       "      <th>chanceCreationShooting_a</th>\n",
       "      <th>defencePressure_a</th>\n",
       "      <th>defenceAggression_a</th>\n",
       "      <th>defenceTeamWidth_a</th>\n",
       "    </tr>\n",
       "  </thead>\n",
       "  <tbody>\n",
       "    <tr>\n",
       "      <th>0</th>\n",
       "      <td>1729</td>\n",
       "      <td>10260</td>\n",
       "      <td>10261</td>\n",
       "      <td>81.0</td>\n",
       "      <td>72.0</td>\n",
       "      <td>81.0</td>\n",
       "      <td>81.0</td>\n",
       "      <td>79.0</td>\n",
       "      <td>79.0</td>\n",
       "      <td>79.0</td>\n",
       "      <td>...</td>\n",
       "      <td>48.000000</td>\n",
       "      <td>54.833333</td>\n",
       "      <td>58.166667</td>\n",
       "      <td>55.333333</td>\n",
       "      <td>53.500000</td>\n",
       "      <td>57.333333</td>\n",
       "      <td>49.833333</td>\n",
       "      <td>46.666667</td>\n",
       "      <td>48.333333</td>\n",
       "      <td>48.333333</td>\n",
       "    </tr>\n",
       "    <tr>\n",
       "      <th>1</th>\n",
       "      <td>1730</td>\n",
       "      <td>9825</td>\n",
       "      <td>8659</td>\n",
       "      <td>77.0</td>\n",
       "      <td>80.0</td>\n",
       "      <td>90.0</td>\n",
       "      <td>88.0</td>\n",
       "      <td>79.0</td>\n",
       "      <td>79.0</td>\n",
       "      <td>80.0</td>\n",
       "      <td>...</td>\n",
       "      <td>46.500000</td>\n",
       "      <td>50.500000</td>\n",
       "      <td>57.500000</td>\n",
       "      <td>51.500000</td>\n",
       "      <td>53.000000</td>\n",
       "      <td>56.000000</td>\n",
       "      <td>54.666667</td>\n",
       "      <td>43.000000</td>\n",
       "      <td>45.666667</td>\n",
       "      <td>54.833333</td>\n",
       "    </tr>\n",
       "    <tr>\n",
       "      <th>2</th>\n",
       "      <td>1731</td>\n",
       "      <td>8472</td>\n",
       "      <td>8650</td>\n",
       "      <td>79.0</td>\n",
       "      <td>66.0</td>\n",
       "      <td>78.0</td>\n",
       "      <td>82.0</td>\n",
       "      <td>69.0</td>\n",
       "      <td>80.0</td>\n",
       "      <td>78.0</td>\n",
       "      <td>...</td>\n",
       "      <td>52.166667</td>\n",
       "      <td>51.833333</td>\n",
       "      <td>57.666667</td>\n",
       "      <td>44.333333</td>\n",
       "      <td>41.333333</td>\n",
       "      <td>47.833333</td>\n",
       "      <td>57.333333</td>\n",
       "      <td>51.000000</td>\n",
       "      <td>52.500000</td>\n",
       "      <td>56.000000</td>\n",
       "    </tr>\n",
       "    <tr>\n",
       "      <th>3</th>\n",
       "      <td>1732</td>\n",
       "      <td>8654</td>\n",
       "      <td>8528</td>\n",
       "      <td>81.0</td>\n",
       "      <td>71.0</td>\n",
       "      <td>77.0</td>\n",
       "      <td>87.0</td>\n",
       "      <td>69.0</td>\n",
       "      <td>81.0</td>\n",
       "      <td>80.0</td>\n",
       "      <td>...</td>\n",
       "      <td>42.833333</td>\n",
       "      <td>40.166667</td>\n",
       "      <td>47.166667</td>\n",
       "      <td>50.666667</td>\n",
       "      <td>52.666667</td>\n",
       "      <td>55.500000</td>\n",
       "      <td>45.500000</td>\n",
       "      <td>50.000000</td>\n",
       "      <td>54.000000</td>\n",
       "      <td>46.000000</td>\n",
       "    </tr>\n",
       "    <tr>\n",
       "      <th>4</th>\n",
       "      <td>1734</td>\n",
       "      <td>8668</td>\n",
       "      <td>8655</td>\n",
       "      <td>74.0</td>\n",
       "      <td>80.0</td>\n",
       "      <td>74.0</td>\n",
       "      <td>83.0</td>\n",
       "      <td>77.0</td>\n",
       "      <td>80.0</td>\n",
       "      <td>78.0</td>\n",
       "      <td>...</td>\n",
       "      <td>57.500000</td>\n",
       "      <td>56.333333</td>\n",
       "      <td>52.500000</td>\n",
       "      <td>63.833333</td>\n",
       "      <td>57.000000</td>\n",
       "      <td>56.000000</td>\n",
       "      <td>42.000000</td>\n",
       "      <td>45.666667</td>\n",
       "      <td>55.000000</td>\n",
       "      <td>46.666667</td>\n",
       "    </tr>\n",
       "  </tbody>\n",
       "</table>\n",
       "<p>5 rows × 96 columns</p>\n",
       "</div>"
      ],
      "text/plain": [
       "     id  home_team_api_id  away_team_api_id  crossing_h  finishing_h  \\\n",
       "0  1729             10260             10261        81.0         72.0   \n",
       "1  1730              9825              8659        77.0         80.0   \n",
       "2  1731              8472              8650        79.0         66.0   \n",
       "3  1732              8654              8528        81.0         71.0   \n",
       "4  1734              8668              8655        74.0         80.0   \n",
       "\n",
       "   heading_accuracy_h  short_passing_h  volleys_h  dribbling_h  curve_h  ...  \\\n",
       "0                81.0             81.0       79.0         79.0     79.0  ...   \n",
       "1                90.0             88.0       79.0         79.0     80.0  ...   \n",
       "2                78.0             82.0       69.0         80.0     78.0  ...   \n",
       "3                77.0             87.0       69.0         81.0     80.0  ...   \n",
       "4                74.0             83.0       77.0         80.0     78.0  ...   \n",
       "\n",
       "   defenceAggression_h  defenceTeamWidth_h  buildUpPlaySpeed_a  \\\n",
       "0            48.000000           54.833333           58.166667   \n",
       "1            46.500000           50.500000           57.500000   \n",
       "2            52.166667           51.833333           57.666667   \n",
       "3            42.833333           40.166667           47.166667   \n",
       "4            57.500000           56.333333           52.500000   \n",
       "\n",
       "   buildUpPlayPassing_a  chanceCreationPassing_a  chanceCreationCrossing_a  \\\n",
       "0             55.333333                53.500000                 57.333333   \n",
       "1             51.500000                53.000000                 56.000000   \n",
       "2             44.333333                41.333333                 47.833333   \n",
       "3             50.666667                52.666667                 55.500000   \n",
       "4             63.833333                57.000000                 56.000000   \n",
       "\n",
       "   chanceCreationShooting_a  defencePressure_a  defenceAggression_a  \\\n",
       "0                 49.833333          46.666667            48.333333   \n",
       "1                 54.666667          43.000000            45.666667   \n",
       "2                 57.333333          51.000000            52.500000   \n",
       "3                 45.500000          50.000000            54.000000   \n",
       "4                 42.000000          45.666667            55.000000   \n",
       "\n",
       "   defenceTeamWidth_a  \n",
       "0           48.333333  \n",
       "1           54.833333  \n",
       "2           56.000000  \n",
       "3           46.000000  \n",
       "4           46.666667  \n",
       "\n",
       "[5 rows x 96 columns]"
      ]
     },
     "execution_count": 150,
     "metadata": {},
     "output_type": "execute_result"
    }
   ],
   "source": [
    "df.head(5)"
   ]
  },
  {
   "cell_type": "code",
   "execution_count": 151,
   "metadata": {
    "execution": {
     "iopub.execute_input": "2021-05-21T01:17:46.652822Z",
     "iopub.status.busy": "2021-05-21T01:17:46.652644Z",
     "iopub.status.idle": "2021-05-21T01:17:46.663448Z",
     "shell.execute_reply": "2021-05-21T01:17:46.663037Z",
     "shell.execute_reply.started": "2021-05-21T01:17:46.652807Z"
    },
    "tags": []
   },
   "outputs": [],
   "source": [
    "X_train, X_test, y_train, y_test = train_test_split(df.drop(columns=['match_winner', 'id', 'home_team_api_id', 'away_team_api_id', 'fouls_h', 'fouls_a']), \n",
    "                                                    df.match_winner, test_size=0.3, \n",
    "                                                    random_state=47)"
   ]
  },
  {
   "cell_type": "code",
   "execution_count": 152,
   "metadata": {
    "execution": {
     "iopub.execute_input": "2021-05-21T01:17:46.785939Z",
     "iopub.status.busy": "2021-05-21T01:17:46.785792Z",
     "iopub.status.idle": "2021-05-21T01:17:46.789171Z",
     "shell.execute_reply": "2021-05-21T01:17:46.788654Z",
     "shell.execute_reply.started": "2021-05-21T01:17:46.785923Z"
    },
    "tags": []
   },
   "outputs": [
    {
     "data": {
      "text/plain": [
       "((9307, 90), (3990, 90))"
      ]
     },
     "execution_count": 152,
     "metadata": {},
     "output_type": "execute_result"
    }
   ],
   "source": [
    "X_train.shape, X_test.shape"
   ]
  },
  {
   "cell_type": "code",
   "execution_count": 153,
   "metadata": {
    "execution": {
     "iopub.execute_input": "2021-05-21T01:17:46.923158Z",
     "iopub.status.busy": "2021-05-21T01:17:46.922973Z",
     "iopub.status.idle": "2021-05-21T01:17:46.926183Z",
     "shell.execute_reply": "2021-05-21T01:17:46.925692Z",
     "shell.execute_reply.started": "2021-05-21T01:17:46.923134Z"
    },
    "tags": []
   },
   "outputs": [
    {
     "data": {
      "text/plain": [
       "((9307,), (3990,))"
      ]
     },
     "execution_count": 153,
     "metadata": {},
     "output_type": "execute_result"
    }
   ],
   "source": [
    "y_train.shape, y_test.shape"
   ]
  },
  {
   "cell_type": "code",
   "execution_count": 154,
   "metadata": {
    "execution": {
     "iopub.execute_input": "2021-05-21T01:17:47.071596Z",
     "iopub.status.busy": "2021-05-21T01:17:47.071399Z",
     "iopub.status.idle": "2021-05-21T01:17:47.075347Z",
     "shell.execute_reply": "2021-05-21T01:17:47.074795Z",
     "shell.execute_reply.started": "2021-05-21T01:17:47.071575Z"
    },
    "tags": []
   },
   "outputs": [
    {
     "data": {
      "text/plain": [
       "1.8189534758783712"
      ]
     },
     "execution_count": 154,
     "metadata": {},
     "output_type": "execute_result"
    }
   ],
   "source": [
    "train_mean = y_train.mean()\n",
    "train_mean"
   ]
  },
  {
   "cell_type": "markdown",
   "metadata": {},
   "source": [
    "Draw most likely outcome, though this could be influence by even distribution of wins and losses for home teams"
   ]
  },
  {
   "cell_type": "code",
   "execution_count": 155,
   "metadata": {
    "execution": {
     "iopub.execute_input": "2021-05-21T01:17:47.391182Z",
     "iopub.status.busy": "2021-05-21T01:17:47.390970Z",
     "iopub.status.idle": "2021-05-21T01:17:47.395146Z",
     "shell.execute_reply": "2021-05-21T01:17:47.394718Z",
     "shell.execute_reply.started": "2021-05-21T01:17:47.391159Z"
    },
    "tags": []
   },
   "outputs": [
    {
     "data": {
      "text/plain": [
       "array([[1.81895348]])"
      ]
     },
     "execution_count": 155,
     "metadata": {},
     "output_type": "execute_result"
    }
   ],
   "source": [
    "dumb_reg = DummyRegressor(strategy='mean')\n",
    "dumb_reg.fit(X_train, y_train)\n",
    "dumb_reg.constant_"
   ]
  },
  {
   "cell_type": "code",
   "execution_count": 156,
   "metadata": {
    "execution": {
     "iopub.execute_input": "2021-05-21T01:17:47.529533Z",
     "iopub.status.busy": "2021-05-21T01:17:47.529383Z",
     "iopub.status.idle": "2021-05-21T01:17:47.569663Z",
     "shell.execute_reply": "2021-05-21T01:17:47.569253Z",
     "shell.execute_reply.started": "2021-05-21T01:17:47.529518Z"
    },
    "tags": []
   },
   "outputs": [],
   "source": [
    "X_defaults_median = X_train.median()\n",
    "X_train = X_train.fillna(X_defaults_median)\n",
    "X_test = X_test.fillna(X_defaults_median)"
   ]
  },
  {
   "cell_type": "code",
   "execution_count": 157,
   "metadata": {
    "execution": {
     "iopub.execute_input": "2021-05-21T01:17:47.685855Z",
     "iopub.status.busy": "2021-05-21T01:17:47.685708Z",
     "iopub.status.idle": "2021-05-21T01:17:47.687879Z",
     "shell.execute_reply": "2021-05-21T01:17:47.687479Z",
     "shell.execute_reply.started": "2021-05-21T01:17:47.685840Z"
    },
    "tags": []
   },
   "outputs": [],
   "source": [
    "scaler = StandardScaler()"
   ]
  },
  {
   "cell_type": "code",
   "execution_count": 158,
   "metadata": {
    "execution": {
     "iopub.execute_input": "2021-05-21T01:17:47.843565Z",
     "iopub.status.busy": "2021-05-21T01:17:47.843419Z",
     "iopub.status.idle": "2021-05-21T01:17:47.856094Z",
     "shell.execute_reply": "2021-05-21T01:17:47.855683Z",
     "shell.execute_reply.started": "2021-05-21T01:17:47.843551Z"
    },
    "tags": []
   },
   "outputs": [
    {
     "data": {
      "text/plain": [
       "StandardScaler()"
      ]
     },
     "execution_count": 158,
     "metadata": {},
     "output_type": "execute_result"
    }
   ],
   "source": [
    "scaler.fit(X_train)"
   ]
  },
  {
   "cell_type": "code",
   "execution_count": 159,
   "metadata": {
    "execution": {
     "iopub.execute_input": "2021-05-21T01:17:47.994174Z",
     "iopub.status.busy": "2021-05-21T01:17:47.994030Z",
     "iopub.status.idle": "2021-05-21T01:17:48.005533Z",
     "shell.execute_reply": "2021-05-21T01:17:48.005169Z",
     "shell.execute_reply.started": "2021-05-21T01:17:47.994159Z"
    },
    "tags": []
   },
   "outputs": [],
   "source": [
    "X_tr = scaler.transform(X_train)\n",
    "X_te = scaler.transform(X_test)"
   ]
  },
  {
   "cell_type": "markdown",
   "metadata": {},
   "source": [
    "# Logistic Regression"
   ]
  },
  {
   "cell_type": "code",
   "execution_count": 160,
   "metadata": {
    "execution": {
     "iopub.execute_input": "2021-05-21T01:17:48.295311Z",
     "iopub.status.busy": "2021-05-21T01:17:48.295025Z",
     "iopub.status.idle": "2021-05-21T01:17:48.298315Z",
     "shell.execute_reply": "2021-05-21T01:17:48.297560Z",
     "shell.execute_reply.started": "2021-05-21T01:17:48.295291Z"
    },
    "tags": []
   },
   "outputs": [],
   "source": [
    "log_reg = LogisticRegression(max_iter = 200)"
   ]
  },
  {
   "cell_type": "code",
   "execution_count": 161,
   "metadata": {
    "execution": {
     "iopub.execute_input": "2021-05-21T01:17:48.445542Z",
     "iopub.status.busy": "2021-05-21T01:17:48.445345Z",
     "iopub.status.idle": "2021-05-21T01:17:49.105441Z",
     "shell.execute_reply": "2021-05-21T01:17:49.104996Z",
     "shell.execute_reply.started": "2021-05-21T01:17:48.445523Z"
    },
    "tags": []
   },
   "outputs": [
    {
     "data": {
      "text/plain": [
       "LogisticRegression(max_iter=200)"
      ]
     },
     "execution_count": 161,
     "metadata": {},
     "output_type": "execute_result"
    }
   ],
   "source": [
    "log_reg.fit(X_tr, y_train)"
   ]
  },
  {
   "cell_type": "code",
   "execution_count": 162,
   "metadata": {
    "execution": {
     "iopub.execute_input": "2021-05-21T01:17:49.139738Z",
     "iopub.status.busy": "2021-05-21T01:17:49.139628Z",
     "iopub.status.idle": "2021-05-21T01:17:49.263326Z",
     "shell.execute_reply": "2021-05-21T01:17:49.262963Z",
     "shell.execute_reply.started": "2021-05-21T01:17:49.139724Z"
    },
    "tags": []
   },
   "outputs": [
    {
     "data": {
      "text/plain": [
       "[<matplotlib.lines.Line2D at 0x7efc7d498fd0>]"
      ]
     },
     "execution_count": 162,
     "metadata": {},
     "output_type": "execute_result"
    },
    {
     "data": {
      "image/png": "[encoded data removed]",
      "text/plain": [
       "<Figure size 432x288 with 1 Axes>"
      ]
     },
     "metadata": {
      "needs_background": "light"
     },
     "output_type": "display_data"
    }
   ],
   "source": [
    "plt.plot(log_reg.predict(X_te))"
   ]
  },
  {
   "cell_type": "markdown",
   "metadata": {
    "execution": {
     "iopub.execute_input": "2021-05-14T00:18:04.086493Z",
     "iopub.status.busy": "2021-05-14T00:18:04.086337Z",
     "iopub.status.idle": "2021-05-14T00:18:04.089159Z",
     "shell.execute_reply": "2021-05-14T00:18:04.088228Z",
     "shell.execute_reply.started": "2021-05-14T00:18:04.086477Z"
    }
   },
   "source": [
    "# KNeighborsClassifier"
   ]
  },
  {
   "cell_type": "code",
   "execution_count": 163,
   "metadata": {
    "execution": {
     "iopub.execute_input": "2021-05-21T01:17:49.264153Z",
     "iopub.status.busy": "2021-05-21T01:17:49.264046Z",
     "iopub.status.idle": "2021-05-21T01:17:49.266214Z",
     "shell.execute_reply": "2021-05-21T01:17:49.265792Z",
     "shell.execute_reply.started": "2021-05-21T01:17:49.264139Z"
    },
    "tags": []
   },
   "outputs": [],
   "source": [
    "knn = KNeighborsClassifier()"
   ]
  },
  {
   "cell_type": "code",
   "execution_count": 164,
   "metadata": {
    "execution": {
     "iopub.execute_input": "2021-05-21T01:17:49.266990Z",
     "iopub.status.busy": "2021-05-21T01:17:49.266877Z",
     "iopub.status.idle": "2021-05-21T01:17:49.272402Z",
     "shell.execute_reply": "2021-05-21T01:17:49.271813Z",
     "shell.execute_reply.started": "2021-05-21T01:17:49.266975Z"
    },
    "tags": []
   },
   "outputs": [
    {
     "data": {
      "text/plain": [
       "KNeighborsClassifier()"
      ]
     },
     "execution_count": 164,
     "metadata": {},
     "output_type": "execute_result"
    }
   ],
   "source": [
    "knn.fit(X_tr, y_train)"
   ]
  },
  {
   "cell_type": "code",
   "execution_count": 165,
   "metadata": {
    "execution": {
     "iopub.execute_input": "2021-05-21T01:17:49.311236Z",
     "iopub.status.busy": "2021-05-21T01:17:49.311114Z",
     "iopub.status.idle": "2021-05-21T01:17:51.880872Z",
     "shell.execute_reply": "2021-05-21T01:17:51.880321Z",
     "shell.execute_reply.started": "2021-05-21T01:17:49.311222Z"
    },
    "tags": []
   },
   "outputs": [
    {
     "data": {
      "text/plain": [
       "[<matplotlib.lines.Line2D at 0x7efc7d40d9a0>]"
      ]
     },
     "execution_count": 165,
     "metadata": {},
     "output_type": "execute_result"
    },
    {
     "data": {
      "image/png": "[encoded data removed]",
      "text/plain": [
       "<Figure size 432x288 with 1 Axes>"
      ]
     },
     "metadata": {
      "needs_background": "light"
     },
     "output_type": "display_data"
    }
   ],
   "source": [
    "plt.plot(knn.predict(X_te))"
   ]
  },
  {
   "cell_type": "markdown",
   "metadata": {
    "execution": {
     "iopub.execute_input": "2021-05-14T00:19:31.727168Z",
     "iopub.status.busy": "2021-05-14T00:19:31.727013Z",
     "iopub.status.idle": "2021-05-14T00:19:31.729216Z",
     "shell.execute_reply": "2021-05-14T00:19:31.728815Z",
     "shell.execute_reply.started": "2021-05-14T00:19:31.727151Z"
    }
   },
   "source": [
    "# Random Forest"
   ]
  },
  {
   "cell_type": "code",
   "execution_count": 166,
   "metadata": {
    "execution": {
     "iopub.execute_input": "2021-05-21T01:17:51.987121Z",
     "iopub.status.busy": "2021-05-21T01:17:51.986932Z",
     "iopub.status.idle": "2021-05-21T01:17:51.989694Z",
     "shell.execute_reply": "2021-05-21T01:17:51.989224Z",
     "shell.execute_reply.started": "2021-05-21T01:17:51.987098Z"
    },
    "tags": []
   },
   "outputs": [],
   "source": [
    "rf = RandomForestClassifier()"
   ]
  },
  {
   "cell_type": "code",
   "execution_count": 167,
   "metadata": {
    "execution": {
     "iopub.execute_input": "2021-05-21T01:17:51.990668Z",
     "iopub.status.busy": "2021-05-21T01:17:51.990486Z",
     "iopub.status.idle": "2021-05-21T01:17:54.711365Z",
     "shell.execute_reply": "2021-05-21T01:17:54.710999Z",
     "shell.execute_reply.started": "2021-05-21T01:17:51.990646Z"
    },
    "tags": []
   },
   "outputs": [
    {
     "data": {
      "text/plain": [
       "RandomForestClassifier()"
      ]
     },
     "execution_count": 167,
     "metadata": {},
     "output_type": "execute_result"
    }
   ],
   "source": [
    "rf.fit(X_tr, y_train)"
   ]
  },
  {
   "cell_type": "code",
   "execution_count": 168,
   "metadata": {
    "execution": {
     "iopub.execute_input": "2021-05-21T01:17:54.712070Z",
     "iopub.status.busy": "2021-05-21T01:17:54.711960Z",
     "iopub.status.idle": "2021-05-21T01:17:54.894915Z",
     "shell.execute_reply": "2021-05-21T01:17:54.894550Z",
     "shell.execute_reply.started": "2021-05-21T01:17:54.712056Z"
    },
    "tags": []
   },
   "outputs": [
    {
     "data": {
      "text/plain": [
       "[<matplotlib.lines.Line2D at 0x7efc7d38fdf0>]"
      ]
     },
     "execution_count": 168,
     "metadata": {},
     "output_type": "execute_result"
    },
    {
     "data": {
      "image/png": "[encoded data removed]",
      "text/plain": [
       "<Figure size 432x288 with 1 Axes>"
      ]
     },
     "metadata": {
      "needs_background": "light"
     },
     "output_type": "display_data"
    }
   ],
   "source": [
    "plt.plot(rf.predict(X_te))"
   ]
  },
  {
   "cell_type": "markdown",
   "metadata": {},
   "source": [
    "# Ridge Classifier"
   ]
  },
  {
   "cell_type": "code",
   "execution_count": 169,
   "metadata": {
    "execution": {
     "iopub.execute_input": "2021-05-21T01:17:54.896174Z",
     "iopub.status.busy": "2021-05-21T01:17:54.896031Z",
     "iopub.status.idle": "2021-05-21T01:17:54.898635Z",
     "shell.execute_reply": "2021-05-21T01:17:54.898023Z",
     "shell.execute_reply.started": "2021-05-21T01:17:54.896154Z"
    },
    "tags": []
   },
   "outputs": [],
   "source": [
    "rc = RidgeClassifier()"
   ]
  },
  {
   "cell_type": "code",
   "execution_count": 170,
   "metadata": {
    "execution": {
     "iopub.execute_input": "2021-05-21T01:17:54.900116Z",
     "iopub.status.busy": "2021-05-21T01:17:54.899946Z",
     "iopub.status.idle": "2021-05-21T01:17:54.956765Z",
     "shell.execute_reply": "2021-05-21T01:17:54.956235Z",
     "shell.execute_reply.started": "2021-05-21T01:17:54.900094Z"
    },
    "tags": []
   },
   "outputs": [
    {
     "data": {
      "text/plain": [
       "RidgeClassifier()"
      ]
     },
     "execution_count": 170,
     "metadata": {},
     "output_type": "execute_result"
    }
   ],
   "source": [
    "rc.fit(X_tr, y_train)"
   ]
  },
  {
   "cell_type": "code",
   "execution_count": 171,
   "metadata": {
    "execution": {
     "iopub.execute_input": "2021-05-21T01:17:54.957737Z",
     "iopub.status.busy": "2021-05-21T01:17:54.957574Z",
     "iopub.status.idle": "2021-05-21T01:17:55.070231Z",
     "shell.execute_reply": "2021-05-21T01:17:55.069848Z",
     "shell.execute_reply.started": "2021-05-21T01:17:54.957718Z"
    },
    "tags": []
   },
   "outputs": [
    {
     "data": {
      "text/plain": [
       "[<matplotlib.lines.Line2D at 0x7efc7d312190>]"
      ]
     },
     "execution_count": 171,
     "metadata": {},
     "output_type": "execute_result"
    },
    {
     "data": {
      "image/png": "[encoded data removed]",
      "text/plain": [
       "<Figure size 432x288 with 1 Axes>"
      ]
     },
     "metadata": {
      "needs_background": "light"
     },
     "output_type": "display_data"
    }
   ],
   "source": [
    "plt.plot(rc.predict(X_te))"
   ]
  },
  {
   "cell_type": "markdown",
   "metadata": {},
   "source": [
    "# Support Vectors"
   ]
  },
  {
   "cell_type": "code",
   "execution_count": 172,
   "metadata": {
    "execution": {
     "iopub.execute_input": "2021-05-21T01:17:55.071031Z",
     "iopub.status.busy": "2021-05-21T01:17:55.070919Z",
     "iopub.status.idle": "2021-05-21T01:17:55.073013Z",
     "shell.execute_reply": "2021-05-21T01:17:55.072646Z",
     "shell.execute_reply.started": "2021-05-21T01:17:55.071016Z"
    },
    "tags": []
   },
   "outputs": [],
   "source": [
    "svc = SVC()"
   ]
  },
  {
   "cell_type": "code",
   "execution_count": 173,
   "metadata": {
    "execution": {
     "iopub.execute_input": "2021-05-21T01:17:55.073719Z",
     "iopub.status.busy": "2021-05-21T01:17:55.073607Z",
     "iopub.status.idle": "2021-05-21T01:18:05.695211Z",
     "shell.execute_reply": "2021-05-21T01:18:05.694807Z",
     "shell.execute_reply.started": "2021-05-21T01:17:55.073705Z"
    },
    "tags": []
   },
   "outputs": [
    {
     "data": {
      "text/plain": [
       "SVC()"
      ]
     },
     "execution_count": 173,
     "metadata": {},
     "output_type": "execute_result"
    }
   ],
   "source": [
    "svc.fit(X_tr, y_train)"
   ]
  },
  {
   "cell_type": "code",
   "execution_count": 174,
   "metadata": {
    "execution": {
     "iopub.execute_input": "2021-05-21T01:18:05.696009Z",
     "iopub.status.busy": "2021-05-21T01:18:05.695863Z",
     "iopub.status.idle": "2021-05-21T01:18:06.125066Z",
     "shell.execute_reply": "2021-05-21T01:18:06.124713Z",
     "shell.execute_reply.started": "2021-05-21T01:18:05.695994Z"
    },
    "tags": []
   },
   "outputs": [
    {
     "data": {
      "text/plain": [
       "[<matplotlib.lines.Line2D at 0x7efc7d52bd90>]"
      ]
     },
     "execution_count": 174,
     "metadata": {},
     "output_type": "execute_result"
    },
    {
     "data": {
      "image/png": "[encoded data removed]",
      "text/plain": [
       "<Figure size 432x288 with 1 Axes>"
      ]
     },
     "metadata": {
      "needs_background": "light"
     },
     "output_type": "display_data"
    }
   ],
   "source": [
    "plt.plot(rf.predict(X_te))"
   ]
  },
  {
   "cell_type": "markdown",
   "metadata": {},
   "source": [
    "# Initial Model Metrics"
   ]
  },
  {
   "cell_type": "code",
   "execution_count": 175,
   "metadata": {
    "execution": {
     "iopub.execute_input": "2021-05-21T01:18:06.125762Z",
     "iopub.status.busy": "2021-05-21T01:18:06.125656Z",
     "iopub.status.idle": "2021-05-21T01:18:06.127833Z",
     "shell.execute_reply": "2021-05-21T01:18:06.127450Z",
     "shell.execute_reply.started": "2021-05-21T01:18:06.125748Z"
    },
    "tags": []
   },
   "outputs": [],
   "source": [
    "scoring = {'accuracy' : make_scorer(accuracy_score), \n",
    "           'precision' : make_scorer(precision_score), \n",
    "           'recall' : make_scorer(recall_score)}"
   ]
  },
  {
   "cell_type": "code",
   "execution_count": 176,
   "metadata": {
    "execution": {
     "iopub.execute_input": "2021-05-21T01:18:06.128604Z",
     "iopub.status.busy": "2021-05-21T01:18:06.128480Z",
     "iopub.status.idle": "2021-05-21T01:18:06.131520Z",
     "shell.execute_reply": "2021-05-21T01:18:06.131089Z",
     "shell.execute_reply.started": "2021-05-21T01:18:06.128589Z"
    },
    "tags": []
   },
   "outputs": [],
   "source": [
    "models = [log_reg, knn, rf, rc, svc]"
   ]
  },
  {
   "cell_type": "code",
   "execution_count": 177,
   "metadata": {
    "execution": {
     "iopub.execute_input": "2021-05-21T01:18:06.132444Z",
     "iopub.status.busy": "2021-05-21T01:18:06.132262Z",
     "iopub.status.idle": "2021-05-21T01:18:06.134979Z",
     "shell.execute_reply": "2021-05-21T01:18:06.134561Z",
     "shell.execute_reply.started": "2021-05-21T01:18:06.132423Z"
    },
    "tags": []
   },
   "outputs": [],
   "source": [
    "kfold = KFold(n_splits=10)"
   ]
  },
  {
   "cell_type": "code",
   "execution_count": 178,
   "metadata": {
    "execution": {
     "iopub.execute_input": "2021-05-21T01:18:06.135742Z",
     "iopub.status.busy": "2021-05-21T01:18:06.135620Z",
     "iopub.status.idle": "2021-05-21T01:18:19.575921Z",
     "shell.execute_reply": "2021-05-21T01:18:19.575358Z",
     "shell.execute_reply.started": "2021-05-21T01:18:06.135727Z"
    },
    "tags": []
   },
   "outputs": [
    {
     "name": "stdout",
     "output_type": "stream",
     "text": [
      "LogisticRegression(max_iter=200) [nan nan nan nan nan nan nan nan nan nan] [nan nan nan nan nan nan nan nan nan nan] [nan nan nan nan nan nan nan nan nan nan]\n",
      "KNeighborsClassifier() [nan nan nan nan nan nan nan nan nan nan] [nan nan nan nan nan nan nan nan nan nan] [nan nan nan nan nan nan nan nan nan nan]\n",
      "RandomForestClassifier() [nan nan nan nan nan nan nan nan nan nan] [nan nan nan nan nan nan nan nan nan nan] [nan nan nan nan nan nan nan nan nan nan]\n",
      "RidgeClassifier() [nan nan nan nan nan nan nan nan nan nan] [nan nan nan nan nan nan nan nan nan nan] [nan nan nan nan nan nan nan nan nan nan]\n",
      "SVC() [nan nan nan nan nan nan nan nan nan nan] [nan nan nan nan nan nan nan nan nan nan] [nan nan nan nan nan nan nan nan nan nan]\n"
     ]
    }
   ],
   "source": [
    "for i, model in enumerate(models):\n",
    "    cv_results = cross_validate(model, X_te, y_test, cv=kfold, scoring=scoring, n_jobs=-1)\n",
    "    print(model, cv_results['test_accuracy'], cv_results['test_precision'], cv_results['test_recall'])"
   ]
  },
  {
   "cell_type": "code",
   "execution_count": 179,
   "metadata": {
    "execution": {
     "iopub.execute_input": "2021-05-21T01:18:19.577932Z",
     "iopub.status.busy": "2021-05-21T01:18:19.577805Z",
     "iopub.status.idle": "2021-05-21T01:18:26.022077Z",
     "shell.execute_reply": "2021-05-21T01:18:26.021595Z",
     "shell.execute_reply.started": "2021-05-21T01:18:19.577911Z"
    },
    "tags": []
   },
   "outputs": [
    {
     "name": "stdout",
     "output_type": "stream",
     "text": [
      "LogisticRegression(max_iter=200) 0.47468671679197993\n",
      "KNeighborsClassifier() 0.4421052631578947\n",
      "RandomForestClassifier() 0.47794486215538845\n",
      "RidgeClassifier() 0.47468671679197993\n",
      "SVC() 0.48621553884711777\n"
     ]
    }
   ],
   "source": [
    "for i, model in enumerate(models):\n",
    "    print(model, model.score(X_te, y_test))"
   ]
  },
  {
   "cell_type": "code",
   "execution_count": 180,
   "metadata": {
    "execution": {
     "iopub.execute_input": "2021-05-21T01:18:26.092687Z",
     "iopub.status.busy": "2021-05-21T01:18:26.092490Z",
     "iopub.status.idle": "2021-05-21T01:18:26.098255Z",
     "shell.execute_reply": "2021-05-21T01:18:26.097687Z",
     "shell.execute_reply.started": "2021-05-21T01:18:26.092665Z"
    },
    "tags": []
   },
   "outputs": [
    {
     "name": "stdout",
     "output_type": "stream",
     "text": [
      "LogisticRegression(max_iter=200) {'C': 1.0, 'class_weight': None, 'dual': False, 'fit_intercept': True, 'intercept_scaling': 1, 'l1_ratio': None, 'max_iter': 200, 'multi_class': 'auto', 'n_jobs': None, 'penalty': 'l2', 'random_state': None, 'solver': 'lbfgs', 'tol': 0.0001, 'verbose': 0, 'warm_start': False}\n",
      "KNeighborsClassifier() {'algorithm': 'auto', 'leaf_size': 30, 'metric': 'minkowski', 'metric_params': None, 'n_jobs': None, 'n_neighbors': 5, 'p': 2, 'weights': 'uniform'}\n",
      "RandomForestClassifier() {'bootstrap': True, 'ccp_alpha': 0.0, 'class_weight': None, 'criterion': 'gini', 'max_depth': None, 'max_features': 'auto', 'max_leaf_nodes': None, 'max_samples': None, 'min_impurity_decrease': 0.0, 'min_impurity_split': None, 'min_samples_leaf': 1, 'min_samples_split': 2, 'min_weight_fraction_leaf': 0.0, 'n_estimators': 100, 'n_jobs': None, 'oob_score': False, 'random_state': None, 'verbose': 0, 'warm_start': False}\n",
      "RidgeClassifier() {'alpha': 1.0, 'class_weight': None, 'copy_X': True, 'fit_intercept': True, 'max_iter': None, 'normalize': False, 'random_state': None, 'solver': 'auto', 'tol': 0.001}\n",
      "SVC() {'C': 1.0, 'break_ties': False, 'cache_size': 200, 'class_weight': None, 'coef0': 0.0, 'decision_function_shape': 'ovr', 'degree': 3, 'gamma': 'scale', 'kernel': 'rbf', 'max_iter': -1, 'probability': False, 'random_state': None, 'shrinking': True, 'tol': 0.001, 'verbose': False}\n"
     ]
    }
   ],
   "source": [
    "for i, model in enumerate(models):\n",
    "    print(model, model.get_params())"
   ]
  },
  {
   "cell_type": "code",
   "execution_count": 181,
   "metadata": {
    "execution": {
     "iopub.execute_input": "2021-05-21T01:18:26.099377Z",
     "iopub.status.busy": "2021-05-21T01:18:26.099185Z",
     "iopub.status.idle": "2021-05-21T01:19:23.174694Z",
     "shell.execute_reply": "2021-05-21T01:19:23.174183Z",
     "shell.execute_reply.started": "2021-05-21T01:18:26.099350Z"
    },
    "tags": []
   },
   "outputs": [
    {
     "name": "stdout",
     "output_type": "stream",
     "text": [
      "LogisticRegression(max_iter=200) 0.4859787451279615 0.0034349075394915656\n",
      "KNeighborsClassifier() 0.4504134559166012 0.009197858101198863\n",
      "RandomForestClassifier() 0.49317744349358855 0.0075305525758989425\n",
      "RidgeClassifier() 0.48909431019784816 0.0029444487041901776\n",
      "SVC() 0.5024175353560073 0.0031375981204166173\n"
     ]
    }
   ],
   "source": [
    "for i, model in enumerate(models):\n",
    "    cv_results = cross_val_score(model, X_tr, y_train, scoring='accuracy')\n",
    "    print(model, cv_results.mean(), cv_results.std())"
   ]
  },
  {
   "cell_type": "markdown",
   "metadata": {},
   "source": [
    "# Feature Selection"
   ]
  },
  {
   "cell_type": "code",
   "execution_count": 182,
   "metadata": {
    "execution": {
     "iopub.execute_input": "2021-05-21T01:19:23.178034Z",
     "iopub.status.busy": "2021-05-21T01:19:23.177895Z",
     "iopub.status.idle": "2021-05-21T01:19:23.180625Z",
     "shell.execute_reply": "2021-05-21T01:19:23.180170Z",
     "shell.execute_reply.started": "2021-05-21T01:19:23.178018Z"
    },
    "tags": []
   },
   "outputs": [],
   "source": [
    "k = [k+1 for k in range(len(X_train.columns))]\n",
    "grid_params = {'selectkbest__k': k}"
   ]
  },
  {
   "cell_type": "code",
   "execution_count": 183,
   "metadata": {
    "execution": {
     "iopub.execute_input": "2021-05-21T01:19:23.182444Z",
     "iopub.status.busy": "2021-05-21T01:19:23.182245Z",
     "iopub.status.idle": "2021-05-21T01:19:23.193013Z",
     "shell.execute_reply": "2021-05-21T01:19:23.192398Z",
     "shell.execute_reply.started": "2021-05-21T01:19:23.182420Z"
    },
    "tags": []
   },
   "outputs": [],
   "source": [
    "skb = SelectKBest(k=20)"
   ]
  },
  {
   "cell_type": "code",
   "execution_count": 184,
   "metadata": {
    "execution": {
     "iopub.execute_input": "2021-05-21T01:19:23.194125Z",
     "iopub.status.busy": "2021-05-21T01:19:23.193921Z",
     "iopub.status.idle": "2021-05-21T01:20:25.990019Z",
     "shell.execute_reply": "2021-05-21T01:20:25.989536Z",
     "shell.execute_reply.started": "2021-05-21T01:19:23.194102Z"
    },
    "tags": []
   },
   "outputs": [
    {
     "name": "stdout",
     "output_type": "stream",
     "text": [
      "LogisticRegression(max_iter=200) [nan nan nan nan nan nan nan nan nan nan] [nan nan nan nan nan nan nan nan nan nan] [nan nan nan nan nan nan nan nan nan nan]\n",
      "KNeighborsClassifier() [nan nan nan nan nan nan nan nan nan nan] [nan nan nan nan nan nan nan nan nan nan] [nan nan nan nan nan nan nan nan nan nan]\n",
      "RandomForestClassifier() [nan nan nan nan nan nan nan nan nan nan] [nan nan nan nan nan nan nan nan nan nan] [nan nan nan nan nan nan nan nan nan nan]\n",
      "RidgeClassifier() [nan nan nan nan nan nan nan nan nan nan] [nan nan nan nan nan nan nan nan nan nan] [nan nan nan nan nan nan nan nan nan nan]\n",
      "SVC() [nan nan nan nan nan nan nan nan nan nan] [nan nan nan nan nan nan nan nan nan nan] [nan nan nan nan nan nan nan nan nan nan]\n"
     ]
    }
   ],
   "source": [
    "for i, model in enumerate(models):\n",
    "    cv_results = cross_validate(model, X_train, y_train, cv=kfold, scoring=scoring, n_jobs=-1)\n",
    "    print(model, cv_results['test_accuracy'], cv_results['test_precision'], cv_results['test_recall'])"
   ]
  },
  {
   "cell_type": "code",
   "execution_count": 185,
   "metadata": {
    "execution": {
     "iopub.execute_input": "2021-05-21T01:20:25.991679Z",
     "iopub.status.busy": "2021-05-21T01:20:25.991518Z",
     "iopub.status.idle": "2021-05-21T01:20:26.009019Z",
     "shell.execute_reply": "2021-05-21T01:20:26.008258Z",
     "shell.execute_reply.started": "2021-05-21T01:20:25.991659Z"
    },
    "tags": []
   },
   "outputs": [
    {
     "data": {
      "text/plain": [
       "SelectKBest(k=20)"
      ]
     },
     "execution_count": 185,
     "metadata": {},
     "output_type": "execute_result"
    }
   ],
   "source": [
    "skb.fit(X_train, y_train)"
   ]
  },
  {
   "cell_type": "code",
   "execution_count": 186,
   "metadata": {
    "execution": {
     "iopub.execute_input": "2021-05-21T01:20:26.010259Z",
     "iopub.status.busy": "2021-05-21T01:20:26.009982Z",
     "iopub.status.idle": "2021-05-21T01:20:26.031363Z",
     "shell.execute_reply": "2021-05-21T01:20:26.030665Z",
     "shell.execute_reply.started": "2021-05-21T01:20:26.010224Z"
    },
    "tags": []
   },
   "outputs": [
    {
     "data": {
      "text/plain": [
       "(9307, 20)"
      ]
     },
     "execution_count": 186,
     "metadata": {},
     "output_type": "execute_result"
    }
   ],
   "source": [
    "skb.transform(X_train).shape"
   ]
  },
  {
   "cell_type": "code",
   "execution_count": 187,
   "metadata": {
    "execution": {
     "iopub.execute_input": "2021-05-21T01:20:26.032447Z",
     "iopub.status.busy": "2021-05-21T01:20:26.032268Z",
     "iopub.status.idle": "2021-05-21T01:20:26.047116Z",
     "shell.execute_reply": "2021-05-21T01:20:26.046736Z",
     "shell.execute_reply.started": "2021-05-21T01:20:26.032426Z"
    },
    "tags": []
   },
   "outputs": [],
   "source": [
    "kbest_score = {}\n",
    "for i, score in enumerate(skb.scores_):\n",
    "    #print(X_train.columns.values[i], score)\n",
    "    kbest_score[X_train.columns.values[i]] = score"
   ]
  },
  {
   "cell_type": "code",
   "execution_count": 188,
   "metadata": {
    "execution": {
     "iopub.execute_input": "2021-05-21T01:20:26.047877Z",
     "iopub.status.busy": "2021-05-21T01:20:26.047763Z",
     "iopub.status.idle": "2021-05-21T01:20:26.077513Z",
     "shell.execute_reply": "2021-05-21T01:20:26.077095Z",
     "shell.execute_reply.started": "2021-05-21T01:20:26.047863Z"
    },
    "tags": []
   },
   "outputs": [
    {
     "name": "stdout",
     "output_type": "stream",
     "text": [
      "{'free_kick_accuracy_a': 0.003946553201582885, 'finishing_h': 0.015565629742610313, 'long_passing_h': 0.040844261830737076, 'curve_a': 0.061915289489999976, 'home_defenders': 0.0660321043947787, 'crossing_h': 0.07886987650736431, 'away_defenders': 0.0895365022578001, 'chanceCreationPassing_a': 0.25969027849397364, 'shot_power_a': 0.29016225114711786, 'crossing_a': 0.32911133897976785, 'stamina_a': 0.34460426092515006, 'gk_reflexes_h': 0.4539603102463932, 'sprint_speed_h': 0.4559009584110194, 'gk_diving_h': 0.5005759732617799, 'gk_positioning_a': 0.5170637261695158, 'balance_h': 0.5197769716014378, 'acceleration_h': 0.5227393364890152, 'gk_handling_a': 0.5301290481221081, 'free_kick_accuracy_h': 0.5553630122227696, 'dribbling_h': 0.6315776766146874, 'gk_diving_a': 0.70553812995803, 'gk_handling_h': 0.7703392166103782, 'gk_reflexes_a': 0.7718228303405128, 'strength_h': 0.7810897810573842, 'sprint_speed_a': 0.8086125323198872, 'dribbling_a': 0.8093665614809129, 'gk_positioning_h': 0.8590426473490717, 'agility_a': 1.0964806942030394, 'acceleration_a': 1.1484644132498856, 'long_shots_h': 1.1619470678123527, 'long_shots_a': 1.1918239004116769, 'agility_h': 1.2841265522058116, 'curve_h': 1.329088472940288, 'gk_kicking_h': 1.334434611134502, 'gk_kicking_a': 1.3471519781883232, 'ball_control_a': 1.4549370978157106, 'reactions_h': 1.5894859714735248, 'ball_control_h': 1.5961832356478456, 'long_passing_a': 1.6001109009430932, 'marking_h': 1.6788038309648592, 'home_midfielders': 1.7289051084493172, 'sliding_tackle_a': 1.8035572617288063, 'volleys_a': 1.827597291672935, 'chanceCreationCrossing_h': 1.9504791912903683, 'stamina_h': 2.045566855177299, 'finishing_a': 2.110804367031542, 'buildUpPlaySpeed_h': 2.1845935406211034, 'sliding_tackle_h': 2.4935161860352726, 'home_strikers': 2.829500394956055, 'buildUpPlaySpeed_a': 2.916541369849516, 'jumping_a': 3.170442288266633, 'strength_a': 3.2632358254794767, 'chanceCreationCrossing_a': 3.823430641778827, 'balance_a': 3.8560727222412754, 'chanceCreationPassing_h': 4.116974309868762, 'shot_power_h': 4.147798969281314, 'short_passing_h': 4.417183339647625, 'positioning_h': 4.451276847925383, 'penalties_a': 4.62564735186949, 'jumping_h': 4.860277138582823, 'penalties_h': 5.381116111943287, 'marking_a': 5.495361368597323, 'heading_accuracy_h': 5.5166924447646775, 'away_midfielders': 5.764043254989248, 'aggression_h': 6.029485974237208, 'vision_a': 6.735743156822005, 'short_passing_a': 6.808360913607796, 'standing_tackle_a': 7.123940006119333, 'aggression_a': 7.396953956705028, 'reactions_a': 7.460395019203794, 'standing_tackle_h': 8.216783298657624, 'volleys_h': 8.234677642372453, 'positioning_a': 8.885799640702036, 'defenceTeamWidth_h': 9.402922669093543, 'defenceAggression_h': 9.895751764710184, 'heading_accuracy_a': 10.294047971900262, 'defenceTeamWidth_a': 10.341126325468851, 'defenceAggression_a': 11.136874549094873, 'away_strikers': 11.235765519864557, 'interceptions_h': 12.99113488768439, 'vision_h': 14.890572297013604, 'possession_h': 15.1942238973895, 'chanceCreationShooting_a': 28.16873000380979, 'interceptions_a': 28.603195266336108, 'chanceCreationShooting_h': 30.72459740662652, 'defencePressure_h': 68.15745446168533, 'buildUpPlayPassing_a': 76.62631898110682, 'defencePressure_a': 77.68463052053018, 'buildUpPlayPassing_h': 81.90724385968889}\n"
     ]
    }
   ],
   "source": [
    "sorted_values = sorted(kbest_score.values()) # Sort the values\n",
    "kbest_sorted = {}\n",
    "for i in sorted_values:\n",
    "    for k in kbest_score.keys():\n",
    "        if kbest_score[k] == i:\n",
    "            kbest_sorted[k] = kbest_score[k]\n",
    "            break\n",
    "print(kbest_sorted)"
   ]
  },
  {
   "cell_type": "code",
   "execution_count": 189,
   "metadata": {
    "execution": {
     "iopub.execute_input": "2021-05-21T01:20:26.078175Z",
     "iopub.status.busy": "2021-05-21T01:20:26.078050Z",
     "iopub.status.idle": "2021-05-21T01:20:26.098758Z",
     "shell.execute_reply": "2021-05-21T01:20:26.098318Z",
     "shell.execute_reply.started": "2021-05-21T01:20:26.078160Z"
    },
    "tags": []
   },
   "outputs": [],
   "source": [
    "features = list(kbest_sorted.keys())[:20]"
   ]
  },
  {
   "cell_type": "code",
   "execution_count": 190,
   "metadata": {
    "execution": {
     "iopub.execute_input": "2021-05-21T01:20:26.099557Z",
     "iopub.status.busy": "2021-05-21T01:20:26.099438Z",
     "iopub.status.idle": "2021-05-21T01:20:26.133108Z",
     "shell.execute_reply": "2021-05-21T01:20:26.132708Z",
     "shell.execute_reply.started": "2021-05-21T01:20:26.099542Z"
    },
    "tags": []
   },
   "outputs": [],
   "source": [
    "X2_train, X2_test, y2_train, y2_test = train_test_split(df[features], \n",
    "                                                    df.match_winner, test_size=0.3)"
   ]
  },
  {
   "cell_type": "code",
   "execution_count": 191,
   "metadata": {
    "execution": {
     "iopub.execute_input": "2021-05-21T01:20:26.134176Z",
     "iopub.status.busy": "2021-05-21T01:20:26.133972Z",
     "iopub.status.idle": "2021-05-21T01:20:26.151070Z",
     "shell.execute_reply": "2021-05-21T01:20:26.150550Z",
     "shell.execute_reply.started": "2021-05-21T01:20:26.134153Z"
    },
    "tags": []
   },
   "outputs": [
    {
     "data": {
      "text/plain": [
       "1.8197055979370367"
      ]
     },
     "execution_count": 191,
     "metadata": {},
     "output_type": "execute_result"
    }
   ],
   "source": [
    "train_mean2 = y2_train.mean()\n",
    "train_mean2"
   ]
  },
  {
   "cell_type": "markdown",
   "metadata": {},
   "source": [
    "Draw most likely outcome, though this could be influence by even distribution of wins and losses for home teams"
   ]
  },
  {
   "cell_type": "code",
   "execution_count": 192,
   "metadata": {
    "execution": {
     "iopub.execute_input": "2021-05-21T01:20:26.151968Z",
     "iopub.status.busy": "2021-05-21T01:20:26.151841Z",
     "iopub.status.idle": "2021-05-21T01:20:26.168621Z",
     "shell.execute_reply": "2021-05-21T01:20:26.167958Z",
     "shell.execute_reply.started": "2021-05-21T01:20:26.151953Z"
    },
    "tags": []
   },
   "outputs": [
    {
     "data": {
      "text/plain": [
       "array([[1.8197056]])"
      ]
     },
     "execution_count": 192,
     "metadata": {},
     "output_type": "execute_result"
    }
   ],
   "source": [
    "dumb_reg2 = DummyRegressor(strategy='mean')\n",
    "dumb_reg2.fit(X2_train, y2_train)\n",
    "dumb_reg2.constant_"
   ]
  },
  {
   "cell_type": "code",
   "execution_count": 193,
   "metadata": {
    "execution": {
     "iopub.execute_input": "2021-05-21T01:20:26.169915Z",
     "iopub.status.busy": "2021-05-21T01:20:26.169673Z",
     "iopub.status.idle": "2021-05-21T01:20:26.203150Z",
     "shell.execute_reply": "2021-05-21T01:20:26.202735Z",
     "shell.execute_reply.started": "2021-05-21T01:20:26.169891Z"
    },
    "tags": []
   },
   "outputs": [],
   "source": [
    "X2_defaults_median = X2_train.median()\n",
    "X2_train = X2_train.fillna(X2_defaults_median)\n",
    "X2_test = X2_test.fillna(X2_defaults_median)"
   ]
  },
  {
   "cell_type": "code",
   "execution_count": 194,
   "metadata": {
    "execution": {
     "iopub.execute_input": "2021-05-21T01:20:26.242699Z",
     "iopub.status.busy": "2021-05-21T01:20:26.242548Z",
     "iopub.status.idle": "2021-05-21T01:20:26.244962Z",
     "shell.execute_reply": "2021-05-21T01:20:26.244501Z",
     "shell.execute_reply.started": "2021-05-21T01:20:26.242684Z"
    },
    "tags": []
   },
   "outputs": [],
   "source": [
    "scaler2 = StandardScaler()"
   ]
  },
  {
   "cell_type": "code",
   "execution_count": 195,
   "metadata": {
    "execution": {
     "iopub.execute_input": "2021-05-21T01:20:26.325627Z",
     "iopub.status.busy": "2021-05-21T01:20:26.325507Z",
     "iopub.status.idle": "2021-05-21T01:20:26.332580Z",
     "shell.execute_reply": "2021-05-21T01:20:26.331987Z",
     "shell.execute_reply.started": "2021-05-21T01:20:26.325612Z"
    },
    "tags": []
   },
   "outputs": [
    {
     "data": {
      "text/plain": [
       "StandardScaler()"
      ]
     },
     "execution_count": 195,
     "metadata": {},
     "output_type": "execute_result"
    }
   ],
   "source": [
    "scaler2.fit(X2_train)"
   ]
  },
  {
   "cell_type": "code",
   "execution_count": 196,
   "metadata": {
    "execution": {
     "iopub.execute_input": "2021-05-21T01:20:26.444033Z",
     "iopub.status.busy": "2021-05-21T01:20:26.443918Z",
     "iopub.status.idle": "2021-05-21T01:20:26.449657Z",
     "shell.execute_reply": "2021-05-21T01:20:26.449311Z",
     "shell.execute_reply.started": "2021-05-21T01:20:26.444018Z"
    },
    "tags": []
   },
   "outputs": [],
   "source": [
    "X2_tr = scaler2.transform(X2_train)\n",
    "X2_te = scaler2.transform(X2_test)"
   ]
  },
  {
   "cell_type": "code",
   "execution_count": 197,
   "metadata": {
    "execution": {
     "iopub.execute_input": "2021-05-21T01:20:26.450342Z",
     "iopub.status.busy": "2021-05-21T01:20:26.450221Z",
     "iopub.status.idle": "2021-05-21T01:20:35.461572Z",
     "shell.execute_reply": "2021-05-21T01:20:35.461229Z",
     "shell.execute_reply.started": "2021-05-21T01:20:26.450328Z"
    },
    "tags": []
   },
   "outputs": [
    {
     "data": {
      "image/png": "[encoded data removed]",
      "text/plain": [
       "<Figure size 432x288 with 1 Axes>"
      ]
     },
     "metadata": {
      "needs_background": "light"
     },
     "output_type": "display_data"
    },
    {
     "data": {
      "image/png": "[encoded data removed]",
      "text/plain": [
       "<Figure size 432x288 with 1 Axes>"
      ]
     },
     "metadata": {
      "needs_background": "light"
     },
     "output_type": "display_data"
    },
    {
     "data": {
      "image/png": "[encoded data removed]",
      "text/plain": [
       "<Figure size 432x288 with 1 Axes>"
      ]
     },
     "metadata": {
      "needs_background": "light"
     },
     "output_type": "display_data"
    },
    {
     "data": {
      "image/png": "[encoded data removed]",
      "text/plain": [
       "<Figure size 432x288 with 1 Axes>"
      ]
     },
     "metadata": {
      "needs_background": "light"
     },
     "output_type": "display_data"
    },
    {
     "data": {
      "image/png": "[encoded data removed]",
      "text/plain": [
       "<Figure size 432x288 with 1 Axes>"
      ]
     },
     "metadata": {
      "needs_background": "light"
     },
     "output_type": "display_data"
    }
   ],
   "source": [
    "for i, model in enumerate(models):\n",
    "    model.fit(X2_tr, y2_train)\n",
    "    plt.figure()\n",
    "    plt.plot(model.predict(X2_te))\n",
    "    plt.title(model)"
   ]
  },
  {
   "cell_type": "markdown",
   "metadata": {},
   "source": [
    "# Hyperparameter Tuning"
   ]
  },
  {
   "cell_type": "code",
   "execution_count": 198,
   "metadata": {
    "execution": {
     "iopub.execute_input": "2021-05-21T01:20:35.462318Z",
     "iopub.status.busy": "2021-05-21T01:20:35.462149Z",
     "iopub.status.idle": "2021-05-21T01:20:35.465762Z",
     "shell.execute_reply": "2021-05-21T01:20:35.465416Z",
     "shell.execute_reply.started": "2021-05-21T01:20:35.462303Z"
    },
    "tags": []
   },
   "outputs": [
    {
     "name": "stdout",
     "output_type": "stream",
     "text": [
      "{0: {}, 1: {'n_neighbors': [1, 5, 10, 20, 50, 100, 200], 'weights': ['uniform', 'distance'], 'leaf_size': [5, 10, 20, 30, 50], 'p': [1, 2], 'n_jobs': [-1]}, 2: {'n_estimators': [20, 50, 100, 200], 'n_jobs': [-1]}, 3: {}}\n"
     ]
    }
   ],
   "source": [
    "param_search = {}\n",
    "param_search[0] = {}\n",
    "param_search[1] = {'n_neighbors' : [1, 5, 10, 20, 50, 100, 200], 'weights' : ['uniform', 'distance'], \n",
    "                       'leaf_size' : [5, 10, 20, 30, 50], 'p' : [1,2] ,'n_jobs' :[-1]}\n",
    "param_search[2] = {'n_estimators' : [20, 50, 100, 200], 'n_jobs' : [-1]}\n",
    "param_search[3] = {}\n",
    "tuned_results = []\n",
    "tuned_best_score = []\n",
    "tuned_best_estimator = []\n",
    "print(param_search)"
   ]
  },
  {
   "cell_type": "code",
   "execution_count": null,
   "metadata": {},
   "outputs": [],
   "source": []
  },
  {
   "cell_type": "code",
   "execution_count": 199,
   "metadata": {
    "execution": {
     "iopub.execute_input": "2021-05-21T01:20:35.466501Z",
     "iopub.status.busy": "2021-05-21T01:20:35.466388Z",
     "iopub.status.idle": "2021-05-21T01:20:35.504958Z",
     "shell.execute_reply": "2021-05-21T01:20:35.504068Z",
     "shell.execute_reply.started": "2021-05-21T01:20:35.466486Z"
    },
    "tags": []
   },
   "outputs": [],
   "source": [
    "#for i, model in enumerate(models):\n",
    "    #if name != 'LR':\n",
    "#    gsearch = GridSearchCV(estimator=model, param_grid = param_search[i], scoring = 'accuracy')\n",
    "    #if name != 'RFR':\n",
    "#    gsearch.fit(X_tr, y_train)\n",
    "    #else :\n",
    "       # gsearch.fit(X_tr, y_train.values.ravel())\n",
    "#    best_score = gsearch.best_score_\n",
    "#    best_model = gsearch.best_estimator_\n",
    "#    tuned_results.append(gsearch)\n",
    "#    tuned_best_score.append(best_score)\n",
    "#    tuned_best_estimator.append(best_model)\n",
    "#    print(best_model, best_score)"
   ]
  },
  {
   "cell_type": "code",
   "execution_count": 200,
   "metadata": {
    "execution": {
     "iopub.execute_input": "2021-05-21T01:20:35.506378Z",
     "iopub.status.busy": "2021-05-21T01:20:35.506119Z",
     "iopub.status.idle": "2021-05-21T01:20:35.556248Z",
     "shell.execute_reply": "2021-05-21T01:20:35.555817Z",
     "shell.execute_reply.started": "2021-05-21T01:20:35.506352Z"
    },
    "tags": []
   },
   "outputs": [],
   "source": [
    "#for model in tuned_best_estimator:\n",
    "#    model.fit(X_tr, y_train)\n",
    "#    plt.figure()\n",
    "#    plt.plot(model.predict(X_te))\n",
    "#    print(model)\n",
    "#plt.show()"
   ]
  },
  {
   "cell_type": "code",
   "execution_count": 201,
   "metadata": {
    "execution": {
     "iopub.execute_input": "2021-05-21T01:20:35.557024Z",
     "iopub.status.busy": "2021-05-21T01:20:35.556906Z",
     "iopub.status.idle": "2021-05-21T01:20:35.727282Z",
     "shell.execute_reply": "2021-05-21T01:20:35.726743Z",
     "shell.execute_reply.started": "2021-05-21T01:20:35.557007Z"
    },
    "tags": []
   },
   "outputs": [
    {
     "data": {
      "image/png": "[encoded data removed]",
      "text/plain": [
       "<Figure size 432x288 with 1 Axes>"
      ]
     },
     "metadata": {
      "needs_background": "light"
     },
     "output_type": "display_data"
    }
   ],
   "source": [
    "importance = rf.feature_importances_\n",
    "importance.sort()\n",
    "plt.bar([x for x in range(len(importance))], importance)\n",
    "plt.show()"
   ]
  },
  {
   "cell_type": "code",
   "execution_count": 202,
   "metadata": {
    "execution": {
     "iopub.execute_input": "2021-05-21T01:20:35.728349Z",
     "iopub.status.busy": "2021-05-21T01:20:35.728160Z",
     "iopub.status.idle": "2021-05-21T01:20:35.828732Z",
     "shell.execute_reply": "2021-05-21T01:20:35.828254Z",
     "shell.execute_reply.started": "2021-05-21T01:20:35.728327Z"
    },
    "tags": []
   },
   "outputs": [
    {
     "data": {
      "text/plain": [
       "(array([6155.,    0.,    0.,    0.,    0., 3373.,    0.,    0.,    0.,\n",
       "        3769.]),\n",
       " array([1. , 1.2, 1.4, 1.6, 1.8, 2. , 2.2, 2.4, 2.6, 2.8, 3. ]),\n",
       " <BarContainer object of 10 artists>)"
      ]
     },
     "execution_count": 202,
     "metadata": {},
     "output_type": "execute_result"
    },
    {
     "data": {
      "image/png": "[encoded data removed]",
      "text/plain": [
       "<Figure size 432x288 with 1 Axes>"
      ]
     },
     "metadata": {
      "needs_background": "light"
     },
     "output_type": "display_data"
    }
   ],
   "source": [
    "plt.hist(df['match_winner'])"
   ]
  },
  {
   "cell_type": "code",
   "execution_count": 203,
   "metadata": {
    "execution": {
     "iopub.execute_input": "2021-05-21T01:20:35.829728Z",
     "iopub.status.busy": "2021-05-21T01:20:35.829564Z",
     "iopub.status.idle": "2021-05-21T01:20:38.401609Z",
     "shell.execute_reply": "2021-05-21T01:20:38.401220Z",
     "shell.execute_reply.started": "2021-05-21T01:20:35.829706Z"
    },
    "tags": []
   },
   "outputs": [],
   "source": [
    "from sklearn.metrics import confusion_matrix\n",
    "pl_list = []\n",
    "for i, model in enumerate(models):\n",
    "    y2_pred = model.predict(X2_te)\n",
    "    pl_list.append(confusion_matrix(y2_test,y2_pred))"
   ]
  },
  {
   "cell_type": "code",
   "execution_count": 207,
   "metadata": {
    "execution": {
     "iopub.execute_input": "2021-05-21T01:21:59.358142Z",
     "iopub.status.busy": "2021-05-21T01:21:59.357964Z",
     "iopub.status.idle": "2021-05-21T01:21:59.360371Z",
     "shell.execute_reply": "2021-05-21T01:21:59.359977Z",
     "shell.execute_reply.started": "2021-05-21T01:21:59.358126Z"
    },
    "tags": []
   },
   "outputs": [],
   "source": [
    "class_names=['3', '2', '1'] # name  of classes"
   ]
  },
  {
   "cell_type": "code",
   "execution_count": 208,
   "metadata": {
    "execution": {
     "iopub.execute_input": "2021-05-21T01:22:00.049624Z",
     "iopub.status.busy": "2021-05-21T01:22:00.049422Z",
     "iopub.status.idle": "2021-05-21T01:22:00.057463Z",
     "shell.execute_reply": "2021-05-21T01:22:00.056974Z",
     "shell.execute_reply.started": "2021-05-21T01:22:00.049602Z"
    },
    "tags": []
   },
   "outputs": [],
   "source": [
    "def plot_confusion_matrix(cm, classes ,\n",
    "                          normalize=False,\n",
    "                          title='Confusion matrix',\n",
    "                          cmap=plt.cm.Blues):\n",
    "    \"\"\"\n",
    "    This function prints and plots the confusion matrix.\n",
    "    Normalization can be applied by setting `normalize=True`.\n",
    "    \"\"\"\n",
    "    if normalize:\n",
    "        cm = cm.astype('float') / cm.sum(axis=1)[:, np.newaxis]\n",
    "        print(\"Normalized confusion matrix\")\n",
    "    else:\n",
    "        print('Confusion matrix, without normalization')\n",
    "\n",
    "    print(cm)\n",
    "    plt.figure()\n",
    "    plt.imshow(cm, interpolation='nearest', cmap=cmap)\n",
    "    plt.title(title)\n",
    "    plt.colorbar()\n",
    "    tick_marks = np.arange(len(classes))\n",
    "    plt.xticks(tick_marks, classes, rotation=45)\n",
    "    plt.yticks(tick_marks, classes)\n",
    "\n",
    "    fmt = '.2f' if normalize else 'd'\n",
    "    thresh = cm.max() / 2.\n",
    "    for i, j in itertools.product(range(cm.shape[0]), range(cm.shape[1])):\n",
    "        plt.text(j, i, format(cm[i, j], fmt),\n",
    "                 horizontalalignment=\"center\",\n",
    "                 color=\"white\" if cm[i, j] > thresh else \"black\")\n",
    "\n",
    "    plt.ylabel('True label')\n",
    "    plt.xlabel('Predicted label')\n",
    "    plt.tight_layout()\n"
   ]
  },
  {
   "cell_type": "code",
   "execution_count": 209,
   "metadata": {
    "execution": {
     "iopub.execute_input": "2021-05-21T01:22:00.606438Z",
     "iopub.status.busy": "2021-05-21T01:22:00.606286Z",
     "iopub.status.idle": "2021-05-21T01:22:01.218267Z",
     "shell.execute_reply": "2021-05-21T01:22:01.217742Z",
     "shell.execute_reply.started": "2021-05-21T01:22:00.606423Z"
    },
    "tags": []
   },
   "outputs": [
    {
     "name": "stdout",
     "output_type": "stream",
     "text": [
      "Confusion matrix, without normalization\n",
      "[[1862    0    1]\n",
      " [ 972    0    0]\n",
      " [1155    0    0]]\n",
      "Confusion matrix, without normalization\n",
      "[[1331  315  217]\n",
      " [ 640  182  150]\n",
      " [ 759  212  184]]\n",
      "Confusion matrix, without normalization\n",
      "[[1543  136  184]\n",
      " [ 742   72  158]\n",
      " [ 817   83  255]]\n",
      "Confusion matrix, without normalization\n",
      "[[1862    0    1]\n",
      " [ 972    0    0]\n",
      " [1155    0    0]]\n",
      "Confusion matrix, without normalization\n",
      "[[1775    2   86]\n",
      " [ 916    2   54]\n",
      " [1042    1  112]]\n"
     ]
    },
    {
     "data": {
      "image/png": "[encoded data removed]",
      "text/plain": [
       "<Figure size 432x288 with 2 Axes>"
      ]
     },
     "metadata": {
      "needs_background": "light"
     },
     "output_type": "display_data"
    },
    {
     "data": {
      "image/png": "[encoded data removed]",
      "text/plain": [
       "<Figure size 432x288 with 2 Axes>"
      ]
     },
     "metadata": {
      "needs_background": "light"
     },
     "output_type": "display_data"
    },
    {
     "data": {
      "image/png": "[encoded data removed]",
      "text/plain": [
       "<Figure size 432x288 with 2 Axes>"
      ]
     },
     "metadata": {
      "needs_background": "light"
     },
     "output_type": "display_data"
    },
    {
     "data": {
      "image/png": "[encoded data removed]",
      "text/plain": [
       "<Figure size 432x288 with 2 Axes>"
      ]
     },
     "metadata": {
      "needs_background": "light"
     },
     "output_type": "display_data"
    },
    {
     "data": {
      "image/png": "[encoded data removed]",
      "text/plain": [
       "<Figure size 432x288 with 2 Axes>"
      ]
     },
     "metadata": {
      "needs_background": "light"
     },
     "output_type": "display_data"
    }
   ],
   "source": [
    "for i, model in enumerate(models):\n",
    "    plot_confusion_matrix(pl_list[i], class_names, title=model)"
   ]
  },
  {
   "cell_type": "code",
   "execution_count": 210,
   "metadata": {
    "execution": {
     "iopub.execute_input": "2021-05-21T01:22:40.030506Z",
     "iopub.status.busy": "2021-05-21T01:22:40.030345Z",
     "iopub.status.idle": "2021-05-21T01:22:40.033659Z",
     "shell.execute_reply": "2021-05-21T01:22:40.033151Z",
     "shell.execute_reply.started": "2021-05-21T01:22:40.030490Z"
    }
   },
   "outputs": [
    {
     "data": {
      "text/plain": [
       "['free_kick_accuracy_a',\n",
       " 'finishing_h',\n",
       " 'long_passing_h',\n",
       " 'curve_a',\n",
       " 'home_defenders',\n",
       " 'crossing_h',\n",
       " 'away_defenders',\n",
       " 'chanceCreationPassing_a',\n",
       " 'shot_power_a',\n",
       " 'crossing_a',\n",
       " 'stamina_a',\n",
       " 'gk_reflexes_h',\n",
       " 'sprint_speed_h',\n",
       " 'gk_diving_h',\n",
       " 'gk_positioning_a',\n",
       " 'balance_h',\n",
       " 'acceleration_h',\n",
       " 'gk_handling_a',\n",
       " 'free_kick_accuracy_h',\n",
       " 'dribbling_h']"
      ]
     },
     "execution_count": 210,
     "metadata": {},
     "output_type": "execute_result"
    }
   ],
   "source": [
    "features"
   ]
  },
  {
   "cell_type": "code",
   "execution_count": 223,
   "metadata": {
    "execution": {
     "iopub.execute_input": "2021-05-21T01:25:49.465863Z",
     "iopub.status.busy": "2021-05-21T01:25:49.465310Z",
     "iopub.status.idle": "2021-05-21T01:25:51.392056Z",
     "shell.execute_reply": "2021-05-21T01:25:51.391544Z",
     "shell.execute_reply.started": "2021-05-21T01:25:49.465799Z"
    },
    "tags": []
   },
   "outputs": [
    {
     "name": "stdout",
     "output_type": "stream",
     "text": [
      "free_kick_accuracy_a\n",
      "finishing_h\n",
      "long_passing_h\n",
      "curve_a\n",
      "home_defenders\n",
      "crossing_h\n",
      "away_defenders\n",
      "chanceCreationPassing_a\n",
      "shot_power_a\n",
      "crossing_a\n",
      "stamina_a\n",
      "gk_reflexes_h\n",
      "sprint_speed_h\n",
      "gk_diving_h\n",
      "gk_positioning_a\n",
      "balance_h\n",
      "acceleration_h\n",
      "gk_handling_a\n",
      "free_kick_accuracy_h\n",
      "dribbling_h\n"
     ]
    },
    {
     "data": {
      "image/png": "[encoded data removed]",
      "text/plain": [
       "<Figure size 432x288 with 1 Axes>"
      ]
     },
     "metadata": {
      "needs_background": "light"
     },
     "output_type": "display_data"
    },
    {
     "data": {
      "image/png": "[encoded data removed]",
      "text/plain": [
       "<Figure size 432x288 with 1 Axes>"
      ]
     },
     "metadata": {
      "needs_background": "light"
     },
     "output_type": "display_data"
    },
    {
     "data": {
      "image/png": "[encoded data removed]",
      "text/plain": [
       "<Figure size 432x288 with 1 Axes>"
      ]
     },
     "metadata": {
      "needs_background": "light"
     },
     "output_type": "display_data"
    },
    {
     "data": {
      "image/png": "[encoded data removed]",
      "text/plain": [
       "<Figure size 432x288 with 1 Axes>"
      ]
     },
     "metadata": {
      "needs_background": "light"
     },
     "output_type": "display_data"
    },
    {
     "data": {
      "image/png": "[encoded data removed]",
      "text/plain": [
       "<Figure size 432x288 with 1 Axes>"
      ]
     },
     "metadata": {
      "needs_background": "light"
     },
     "output_type": "display_data"
    },
    {
     "data": {
      "image/png": "[encoded data removed]",
      "text/plain": [
       "<Figure size 432x288 with 1 Axes>"
      ]
     },
     "metadata": {
      "needs_background": "light"
     },
     "output_type": "display_data"
    },
    {
     "data": {
      "image/png": "[encoded data removed]",
      "text/plain": [
       "<Figure size 432x288 with 1 Axes>"
      ]
     },
     "metadata": {
      "needs_background": "light"
     },
     "output_type": "display_data"
    },
    {
     "data": {
      "image/png": "[encoded data removed]",
      "text/plain": [
       "<Figure size 432x288 with 1 Axes>"
      ]
     },
     "metadata": {
      "needs_background": "light"
     },
     "output_type": "display_data"
    },
    {
     "data": {
      "image/png": "[encoded data removed]",
      "text/plain": [
       "<Figure size 432x288 with 1 Axes>"
      ]
     },
     "metadata": {
      "needs_background": "light"
     },
     "output_type": "display_data"
    },
    {
     "data": {
      "image/png": "[encoded data removed]",
      "text/plain": [
       "<Figure size 432x288 with 1 Axes>"
      ]
     },
     "metadata": {
      "needs_background": "light"
     },
     "output_type": "display_data"
    },
    {
     "data": {
      "image/png": "[encoded data removed]",
      "text/plain": [
       "<Figure size 432x288 with 1 Axes>"
      ]
     },
     "metadata": {
      "needs_background": "light"
     },
     "output_type": "display_data"
    },
    {
     "data": {
      "image/png": "[encoded data removed]",
      "text/plain": [
       "<Figure size 432x288 with 1 Axes>"
      ]
     },
     "metadata": {
      "needs_background": "light"
     },
     "output_type": "display_data"
    },
    {
     "data": {
      "image/png": "[encoded data removed]",
      "text/plain": [
       "<Figure size 432x288 with 1 Axes>"
      ]
     },
     "metadata": {
      "needs_background": "light"
     },
     "output_type": "display_data"
    },
    {
     "data": {
      "image/png": "[encoded data removed]",
      "text/plain": [
       "<Figure size 432x288 with 1 Axes>"
      ]
     },
     "metadata": {
      "needs_background": "light"
     },
     "output_type": "display_data"
    },
    {
     "data": {
      "image/png": "[encoded data removed]",
      "text/plain": [
       "<Figure size 432x288 with 1 Axes>"
      ]
     },
     "metadata": {
      "needs_background": "light"
     },
     "output_type": "display_data"
    },
    {
     "data": {
      "image/png": "[encoded data removed]",
      "text/plain": [
       "<Figure size 432x288 with 1 Axes>"
      ]
     },
     "metadata": {
      "needs_background": "light"
     },
     "output_type": "display_data"
    },
    {
     "data": {
      "image/png": "[encoded data removed]",
      "text/plain": [
       "<Figure size 432x288 with 1 Axes>"
      ]
     },
     "metadata": {
      "needs_background": "light"
     },
     "output_type": "display_data"
    },
    {
     "data": {
      "image/png": "[encoded data removed]",
      "text/plain": [
       "<Figure size 432x288 with 1 Axes>"
      ]
     },
     "metadata": {
      "needs_background": "light"
     },
     "output_type": "display_data"
    },
    {
     "data": {
      "image/png": "[encoded data removed]",
      "text/plain": [
       "<Figure size 432x288 with 1 Axes>"
      ]
     },
     "metadata": {
      "needs_background": "light"
     },
     "output_type": "display_data"
    },
    {
     "data": {
      "image/png": "[encoded data removed]",
      "text/plain": [
       "<Figure size 432x288 with 1 Axes>"
      ]
     },
     "metadata": {
      "needs_background": "light"
     },
     "output_type": "display_data"
    }
   ],
   "source": [
    "for i in features:\n",
    "    print(i)\n",
    "    plt.figure()\n",
    "    plt.hist(df[i])"
   ]
  },
  {
   "cell_type": "code",
   "execution_count": 231,
   "metadata": {
    "execution": {
     "iopub.execute_input": "2021-05-21T01:41:48.744561Z",
     "iopub.status.busy": "2021-05-21T01:41:48.744374Z",
     "iopub.status.idle": "2021-05-21T01:41:48.747341Z",
     "shell.execute_reply": "2021-05-21T01:41:48.746810Z",
     "shell.execute_reply.started": "2021-05-21T01:41:48.744538Z"
    },
    "tags": []
   },
   "outputs": [],
   "source": [
    "pipe = make_pipeline(\n",
    "    SimpleImputer(strategy='median'), \n",
    "    StandardScaler(),\n",
    "    SelectKBest(),\n",
    "    LogisticRegression(max_iter=200),\n",
    ")"
   ]
  },
  {
   "cell_type": "code",
   "execution_count": 232,
   "metadata": {
    "execution": {
     "iopub.execute_input": "2021-05-21T01:42:10.638837Z",
     "iopub.status.busy": "2021-05-21T01:42:10.638624Z",
     "iopub.status.idle": "2021-05-21T01:42:10.762401Z",
     "shell.execute_reply": "2021-05-21T01:42:10.761944Z",
     "shell.execute_reply.started": "2021-05-21T01:42:10.638811Z"
    }
   },
   "outputs": [
    {
     "data": {
      "text/plain": [
       "Pipeline(steps=[('simpleimputer', SimpleImputer(strategy='median')),\n",
       "                ('standardscaler', StandardScaler()),\n",
       "                ('selectkbest', SelectKBest()),\n",
       "                ('logisticregression', LogisticRegression(max_iter=200))])"
      ]
     },
     "execution_count": 232,
     "metadata": {},
     "output_type": "execute_result"
    }
   ],
   "source": [
    "pipe.fit(X_train, y_train)"
   ]
  },
  {
   "cell_type": "code",
   "execution_count": 236,
   "metadata": {
    "execution": {
     "iopub.execute_input": "2021-05-21T01:43:19.103599Z",
     "iopub.status.busy": "2021-05-21T01:43:19.103412Z",
     "iopub.status.idle": "2021-05-21T01:43:19.107540Z",
     "shell.execute_reply": "2021-05-21T01:43:19.106490Z",
     "shell.execute_reply.started": "2021-05-21T01:43:19.103576Z"
    },
    "tags": []
   },
   "outputs": [],
   "source": [
    "k = [k+1 for k in range(len(X_train.columns))]\n",
    "grid_params = {'selectkbest__k': k}"
   ]
  },
  {
   "cell_type": "code",
   "execution_count": 237,
   "metadata": {
    "execution": {
     "iopub.execute_input": "2021-05-21T01:43:31.484505Z",
     "iopub.status.busy": "2021-05-21T01:43:31.484309Z",
     "iopub.status.idle": "2021-05-21T01:43:31.487265Z",
     "shell.execute_reply": "2021-05-21T01:43:31.486741Z",
     "shell.execute_reply.started": "2021-05-21T01:43:31.484480Z"
    }
   },
   "outputs": [],
   "source": [
    "lr_grid_cv = GridSearchCV(pipe, param_grid=grid_params, cv=5, n_jobs=-1)"
   ]
  },
  {
   "cell_type": "code",
   "execution_count": 238,
   "metadata": {
    "execution": {
     "iopub.execute_input": "2021-05-21T01:44:26.691405Z",
     "iopub.status.busy": "2021-05-21T01:44:26.691241Z",
     "iopub.status.idle": "2021-05-21T01:45:17.172299Z",
     "shell.execute_reply": "2021-05-21T01:45:17.171859Z",
     "shell.execute_reply.started": "2021-05-21T01:44:26.691390Z"
    }
   },
   "outputs": [
    {
     "data": {
      "text/plain": [
       "GridSearchCV(cv=5,\n",
       "             estimator=Pipeline(steps=[('simpleimputer',\n",
       "                                        SimpleImputer(strategy='median')),\n",
       "                                       ('standardscaler', StandardScaler()),\n",
       "                                       ('selectkbest', SelectKBest()),\n",
       "                                       ('logisticregression',\n",
       "                                        LogisticRegression(max_iter=200))]),\n",
       "             n_jobs=-1,\n",
       "             param_grid={'selectkbest__k': [1, 2, 3, 4, 5, 6, 7, 8, 9, 10, 11,\n",
       "                                            12, 13, 14, 15, 16, 17, 18, 19, 20,\n",
       "                                            21, 22, 23, 24, 25, 26, 27, 28, 29,\n",
       "                                            30, ...]})"
      ]
     },
     "execution_count": 238,
     "metadata": {},
     "output_type": "execute_result"
    }
   ],
   "source": [
    "lr_grid_cv.fit(X_train, y_train)"
   ]
  },
  {
   "cell_type": "code",
   "execution_count": 240,
   "metadata": {
    "execution": {
     "iopub.execute_input": "2021-05-21T01:45:28.126510Z",
     "iopub.status.busy": "2021-05-21T01:45:28.126356Z",
     "iopub.status.idle": "2021-05-21T01:45:28.129199Z",
     "shell.execute_reply": "2021-05-21T01:45:28.128795Z",
     "shell.execute_reply.started": "2021-05-21T01:45:28.126495Z"
    }
   },
   "outputs": [],
   "source": [
    "score_mean = lr_grid_cv.cv_results_['mean_test_score']\n",
    "score_std = lr_grid_cv.cv_results_['std_test_score']\n",
    "cv_k = [k for k in lr_grid_cv.cv_results_['param_selectkbest__k']]"
   ]
  },
  {
   "cell_type": "code",
   "execution_count": 243,
   "metadata": {
    "execution": {
     "iopub.execute_input": "2021-05-21T01:48:00.436229Z",
     "iopub.status.busy": "2021-05-21T01:48:00.435978Z",
     "iopub.status.idle": "2021-05-21T01:48:00.545681Z",
     "shell.execute_reply": "2021-05-21T01:48:00.545124Z",
     "shell.execute_reply.started": "2021-05-21T01:48:00.436203Z"
    },
    "tags": []
   },
   "outputs": [
    {
     "name": "stdout",
     "output_type": "stream",
     "text": [
      "{'selectkbest__k': 44}\n"
     ]
    },
    {
     "data": {
      "image/png": "[encoded data removed]",
      "text/plain": [
       "<Figure size 720x360 with 1 Axes>"
      ]
     },
     "metadata": {
      "needs_background": "light"
     },
     "output_type": "display_data"
    }
   ],
   "source": [
    "print(lr_grid_cv.best_params_)\n",
    "best_k = lr_grid_cv.best_params_['selectkbest__k']\n",
    "plt.subplots(figsize=(10, 5))\n",
    "plt.errorbar(cv_k, score_mean, yerr=score_std)\n",
    "plt.axvline(x=best_k, c='r', ls='--', alpha=.5)\n",
    "plt.xlabel('k')\n",
    "plt.ylabel('CV score (r-squared)')\n",
    "plt.title('Pipeline mean CV score (error bars +/- 1sd)');"
   ]
  },
  {
   "cell_type": "code",
   "execution_count": 244,
   "metadata": {
    "execution": {
     "iopub.execute_input": "2021-05-21T01:48:05.778122Z",
     "iopub.status.busy": "2021-05-21T01:48:05.777598Z",
     "iopub.status.idle": "2021-05-21T01:48:05.782946Z",
     "shell.execute_reply": "2021-05-21T01:48:05.782357Z",
     "shell.execute_reply.started": "2021-05-21T01:48:05.778057Z"
    },
    "tags": []
   },
   "outputs": [],
   "source": [
    "pipe2 = make_pipeline(\n",
    "    SimpleImputer(strategy='median'), \n",
    "    StandardScaler(),\n",
    "    SelectKBest(k=44),\n",
    "    LogisticRegression(max_iter=200),\n",
    ")"
   ]
  },
  {
   "cell_type": "code",
   "execution_count": 245,
   "metadata": {
    "execution": {
     "iopub.execute_input": "2021-05-21T01:48:39.424138Z",
     "iopub.status.busy": "2021-05-21T01:48:39.423928Z",
     "iopub.status.idle": "2021-05-21T01:48:39.620931Z",
     "shell.execute_reply": "2021-05-21T01:48:39.620485Z",
     "shell.execute_reply.started": "2021-05-21T01:48:39.424116Z"
    }
   },
   "outputs": [
    {
     "data": {
      "text/plain": [
       "Pipeline(steps=[('simpleimputer', SimpleImputer(strategy='median')),\n",
       "                ('standardscaler', StandardScaler()),\n",
       "                ('selectkbest', SelectKBest(k=44)),\n",
       "                ('logisticregression', LogisticRegression(max_iter=200))])"
      ]
     },
     "execution_count": 245,
     "metadata": {},
     "output_type": "execute_result"
    }
   ],
   "source": [
    "pipe2.fit(X_train, y_train)"
   ]
  },
  {
   "cell_type": "code",
   "execution_count": 248,
   "metadata": {
    "execution": {
     "iopub.execute_input": "2021-05-21T01:49:38.321433Z",
     "iopub.status.busy": "2021-05-21T01:49:38.321194Z",
     "iopub.status.idle": "2021-05-21T01:49:38.330481Z",
     "shell.execute_reply": "2021-05-21T01:49:38.329995Z",
     "shell.execute_reply.started": "2021-05-21T01:49:38.321410Z"
    },
    "tags": []
   },
   "outputs": [],
   "source": [
    "y_pred = pipe2.predict(X_test)"
   ]
  },
  {
   "cell_type": "code",
   "execution_count": 251,
   "metadata": {
    "execution": {
     "iopub.execute_input": "2021-05-21T01:52:03.532621Z",
     "iopub.status.busy": "2021-05-21T01:52:03.532407Z",
     "iopub.status.idle": "2021-05-21T01:52:03.538977Z",
     "shell.execute_reply": "2021-05-21T01:52:03.538505Z",
     "shell.execute_reply.started": "2021-05-21T01:52:03.532599Z"
    }
   },
   "outputs": [],
   "source": [
    "cf = confusion_matrix(y_test,y_pred)"
   ]
  },
  {
   "cell_type": "code",
   "execution_count": 252,
   "metadata": {
    "execution": {
     "iopub.execute_input": "2021-05-21T01:52:03.764523Z",
     "iopub.status.busy": "2021-05-21T01:52:03.764263Z",
     "iopub.status.idle": "2021-05-21T01:52:03.956413Z",
     "shell.execute_reply": "2021-05-21T01:52:03.955454Z",
     "shell.execute_reply.started": "2021-05-21T01:52:03.764491Z"
    },
    "tags": []
   },
   "outputs": [
    {
     "name": "stdout",
     "output_type": "stream",
     "text": [
      "Confusion matrix, without normalization\n",
      "[[1508   12  299]\n",
      " [ 820    9  224]\n",
      " [ 737    5  376]]\n"
     ]
    },
    {
     "data": {
      "image/png": "[encoded data removed]",
      "text/plain": [
       "<Figure size 432x288 with 2 Axes>"
      ]
     },
     "metadata": {
      "needs_background": "light"
     },
     "output_type": "display_data"
    }
   ],
   "source": [
    "plot_confusion_matrix(cf, class_names, title='Logistic')"
   ]
  },
  {
   "cell_type": "code",
   "execution_count": 253,
   "metadata": {
    "execution": {
     "iopub.execute_input": "2021-05-21T01:55:03.153638Z",
     "iopub.status.busy": "2021-05-21T01:55:03.153487Z",
     "iopub.status.idle": "2021-05-21T01:55:03.162090Z",
     "shell.execute_reply": "2021-05-21T01:55:03.160906Z",
     "shell.execute_reply.started": "2021-05-21T01:55:03.153622Z"
    }
   },
   "outputs": [
    {
     "ename": "AttributeError",
     "evalue": "'Pipeline' object has no attribute 'feature_importances_'",
     "output_type": "error",
     "traceback": [
      "\u001b[0;31m---------------------------------------------------------------------------\u001b[0m",
      "\u001b[0;31mAttributeError\u001b[0m                            Traceback (most recent call last)",
      "\u001b[0;32m<ipython-input-253-0f358b52c516>\u001b[0m in \u001b[0;36m<module>\u001b[0;34m\u001b[0m\n\u001b[0;32m----> 1\u001b[0;31m \u001b[0mimportance\u001b[0m \u001b[0;34m=\u001b[0m \u001b[0mpipe2\u001b[0m\u001b[0;34m.\u001b[0m\u001b[0mfeature_importances_\u001b[0m\u001b[0;34m\u001b[0m\u001b[0;34m\u001b[0m\u001b[0m\n\u001b[0m\u001b[1;32m      2\u001b[0m \u001b[0mimportance\u001b[0m\u001b[0;34m.\u001b[0m\u001b[0msort\u001b[0m\u001b[0;34m(\u001b[0m\u001b[0;34m)\u001b[0m\u001b[0;34m\u001b[0m\u001b[0;34m\u001b[0m\u001b[0m\n\u001b[1;32m      3\u001b[0m \u001b[0mplt\u001b[0m\u001b[0;34m.\u001b[0m\u001b[0mbar\u001b[0m\u001b[0;34m(\u001b[0m\u001b[0;34m[\u001b[0m\u001b[0mx\u001b[0m \u001b[0;32mfor\u001b[0m \u001b[0mx\u001b[0m \u001b[0;32min\u001b[0m \u001b[0mrange\u001b[0m\u001b[0;34m(\u001b[0m\u001b[0mlen\u001b[0m\u001b[0;34m(\u001b[0m\u001b[0mimportance\u001b[0m\u001b[0;34m)\u001b[0m\u001b[0;34m)\u001b[0m\u001b[0;34m]\u001b[0m\u001b[0;34m,\u001b[0m \u001b[0mimportance\u001b[0m\u001b[0;34m)\u001b[0m\u001b[0;34m\u001b[0m\u001b[0;34m\u001b[0m\u001b[0m\n\u001b[1;32m      4\u001b[0m \u001b[0mplt\u001b[0m\u001b[0;34m.\u001b[0m\u001b[0mshow\u001b[0m\u001b[0;34m(\u001b[0m\u001b[0;34m)\u001b[0m\u001b[0;34m\u001b[0m\u001b[0;34m\u001b[0m\u001b[0m\n",
      "\u001b[0;31mAttributeError\u001b[0m: 'Pipeline' object has no attribute 'feature_importances_'"
     ]
    }
   ],
   "source": [
    "importance = pipe2.feature_importances_\n",
    "importance.sort()\n",
    "plt.bar([x for x in range(len(importance))], importance)\n",
    "plt.show()"
   ]
  },
  {
   "cell_type": "code",
   "execution_count": 187,
   "metadata": {
    "execution": {
     "iopub.execute_input": "2021-05-21T01:20:26.032447Z",
     "iopub.status.busy": "2021-05-21T01:20:26.032268Z",
     "iopub.status.idle": "2021-05-21T01:20:26.047116Z",
     "shell.execute_reply": "2021-05-21T01:20:26.046736Z",
     "shell.execute_reply.started": "2021-05-21T01:20:26.032426Z"
    },
    "tags": []
   },
   "outputs": [],
   "source": [
    "kbest_score = {}\n",
    "for i, score in enumerate(skb.scores_):\n",
    "    #print(X_train.columns.values[i], score)\n",
    "    kbest_score[X_train.columns.values[i]] = score"
   ]
  },
  {
   "cell_type": "code",
   "execution_count": 254,
   "metadata": {
    "execution": {
     "iopub.execute_input": "2021-05-21T01:56:46.967691Z",
     "iopub.status.busy": "2021-05-21T01:56:46.967507Z",
     "iopub.status.idle": "2021-05-21T01:56:46.972919Z",
     "shell.execute_reply": "2021-05-21T01:56:46.972346Z",
     "shell.execute_reply.started": "2021-05-21T01:56:46.967668Z"
    },
    "tags": []
   },
   "outputs": [
    {
     "name": "stdout",
     "output_type": "stream",
     "text": [
      "{'buildUpPlayPassing_h': 81.90724385968889, 'defencePressure_a': 77.68463052053018, 'buildUpPlayPassing_a': 76.62631898110682, 'defencePressure_h': 68.15745446168533, 'chanceCreationShooting_h': 30.72459740662652, 'interceptions_a': 28.603195266336108, 'chanceCreationShooting_a': 28.16873000380979, 'possession_h': 15.1942238973895, 'vision_h': 14.890572297013604, 'interceptions_h': 12.99113488768439, 'away_strikers': 11.235765519864557, 'defenceAggression_a': 11.136874549094873, 'defenceTeamWidth_a': 10.341126325468851, 'heading_accuracy_a': 10.294047971900262, 'defenceAggression_h': 9.895751764710184, 'defenceTeamWidth_h': 9.402922669093543, 'positioning_a': 8.885799640702036, 'volleys_h': 8.234677642372453, 'standing_tackle_h': 8.216783298657624, 'reactions_a': 7.460395019203794, 'aggression_a': 7.396953956705028, 'standing_tackle_a': 7.123940006119333, 'short_passing_a': 6.808360913607796, 'vision_a': 6.735743156822005, 'aggression_h': 6.029485974237208, 'away_midfielders': 5.764043254989248, 'heading_accuracy_h': 5.5166924447646775, 'marking_a': 5.495361368597323, 'penalties_h': 5.381116111943287, 'jumping_h': 4.860277138582823, 'penalties_a': 4.62564735186949, 'positioning_h': 4.451276847925383, 'short_passing_h': 4.417183339647625, 'shot_power_h': 4.147798969281314, 'chanceCreationPassing_h': 4.116974309868762, 'balance_a': 3.8560727222412754, 'chanceCreationCrossing_a': 3.823430641778827, 'strength_a': 3.2632358254794767, 'jumping_a': 3.170442288266633, 'buildUpPlaySpeed_a': 2.916541369849516, 'home_strikers': 2.829500394956055, 'sliding_tackle_h': 2.4935161860352726, 'buildUpPlaySpeed_h': 2.1845935406211034, 'finishing_a': 2.110804367031542, 'stamina_h': 2.045566855177299, 'chanceCreationCrossing_h': 1.9504791912903683, 'volleys_a': 1.827597291672935, 'sliding_tackle_a': 1.8035572617288063, 'home_midfielders': 1.7289051084493172, 'marking_h': 1.6788038309648592, 'long_passing_a': 1.6001109009430932, 'ball_control_h': 1.5961832356478456, 'reactions_h': 1.5894859714735248, 'ball_control_a': 1.4549370978157106, 'gk_kicking_a': 1.3471519781883232, 'gk_kicking_h': 1.334434611134502, 'curve_h': 1.329088472940288, 'agility_h': 1.2841265522058116, 'long_shots_a': 1.1918239004116769, 'long_shots_h': 1.1619470678123527, 'acceleration_a': 1.1484644132498856, 'agility_a': 1.0964806942030394, 'gk_positioning_h': 0.8590426473490717, 'dribbling_a': 0.8093665614809129, 'sprint_speed_a': 0.8086125323198872, 'strength_h': 0.7810897810573842, 'gk_reflexes_a': 0.7718228303405128, 'gk_handling_h': 0.7703392166103782, 'gk_diving_a': 0.70553812995803, 'dribbling_h': 0.6315776766146874, 'free_kick_accuracy_h': 0.5553630122227696, 'gk_handling_a': 0.5301290481221081, 'acceleration_h': 0.5227393364890152, 'balance_h': 0.5197769716014378, 'gk_positioning_a': 0.5170637261695158, 'gk_diving_h': 0.5005759732617799, 'sprint_speed_h': 0.4559009584110194, 'gk_reflexes_h': 0.4539603102463932, 'stamina_a': 0.34460426092515006, 'crossing_a': 0.32911133897976785, 'shot_power_a': 0.29016225114711786, 'chanceCreationPassing_a': 0.25969027849397364, 'away_defenders': 0.0895365022578001, 'crossing_h': 0.07886987650736431, 'home_defenders': 0.0660321043947787, 'curve_a': 0.061915289489999976, 'long_passing_h': 0.040844261830737076, 'finishing_h': 0.015565629742610313, 'free_kick_accuracy_a': 0.003946553201582885}\n"
     ]
    }
   ],
   "source": [
    "sorted_values = sorted(kbest_score.values(), reverse=True) # Sort the values\n",
    "kbest_sorted = {}\n",
    "for i in sorted_values:\n",
    "    for k in kbest_score.keys():\n",
    "        if kbest_score[k] == i:\n",
    "            kbest_sorted[k] = kbest_score[k]\n",
    "            break\n",
    "print(kbest_sorted)"
   ]
  },
  {
   "cell_type": "code",
   "execution_count": 256,
   "metadata": {
    "execution": {
     "iopub.execute_input": "2021-05-21T01:58:06.129233Z",
     "iopub.status.busy": "2021-05-21T01:58:06.129009Z",
     "iopub.status.idle": "2021-05-21T01:58:06.214462Z",
     "shell.execute_reply": "2021-05-21T01:58:06.213285Z",
     "shell.execute_reply.started": "2021-05-21T01:58:06.129208Z"
    },
    "tags": []
   },
   "outputs": [
    {
     "ename": "TypeError",
     "evalue": "unsupported operand type(s) for +: 'int' and 'dict'",
     "output_type": "error",
     "traceback": [
      "\u001b[0;31m---------------------------------------------------------------------------\u001b[0m",
      "\u001b[0;31mTypeError\u001b[0m                                 Traceback (most recent call last)",
      "\u001b[0;32m<ipython-input-256-5b6ad8579ec2>\u001b[0m in \u001b[0;36m<module>\u001b[0;34m\u001b[0m\n\u001b[0;32m----> 1\u001b[0;31m \u001b[0mplt\u001b[0m\u001b[0;34m.\u001b[0m\u001b[0mbar\u001b[0m\u001b[0;34m(\u001b[0m\u001b[0;34m[\u001b[0m\u001b[0mx\u001b[0m \u001b[0;32mfor\u001b[0m \u001b[0mx\u001b[0m \u001b[0;32min\u001b[0m \u001b[0mrange\u001b[0m\u001b[0;34m(\u001b[0m\u001b[0;36m44\u001b[0m\u001b[0;34m)\u001b[0m\u001b[0;34m]\u001b[0m\u001b[0;34m,\u001b[0m \u001b[0mkbest_sorted\u001b[0m\u001b[0;34m)\u001b[0m\u001b[0;34m\u001b[0m\u001b[0;34m\u001b[0m\u001b[0m\n\u001b[0m\u001b[1;32m      2\u001b[0m \u001b[0mplt\u001b[0m\u001b[0;34m.\u001b[0m\u001b[0mshow\u001b[0m\u001b[0;34m(\u001b[0m\u001b[0;34m)\u001b[0m\u001b[0;34m\u001b[0m\u001b[0;34m\u001b[0m\u001b[0m\n",
      "\u001b[0;32m/usr/lib/python3.9/site-packages/matplotlib/pyplot.py\u001b[0m in \u001b[0;36mbar\u001b[0;34m(x, height, width, bottom, align, data, **kwargs)\u001b[0m\n\u001b[1;32m   2618\u001b[0m         \u001b[0mx\u001b[0m\u001b[0;34m,\u001b[0m \u001b[0mheight\u001b[0m\u001b[0;34m,\u001b[0m \u001b[0mwidth\u001b[0m\u001b[0;34m=\u001b[0m\u001b[0;36m0.8\u001b[0m\u001b[0;34m,\u001b[0m \u001b[0mbottom\u001b[0m\u001b[0;34m=\u001b[0m\u001b[0;32mNone\u001b[0m\u001b[0;34m,\u001b[0m \u001b[0;34m*\u001b[0m\u001b[0;34m,\u001b[0m \u001b[0malign\u001b[0m\u001b[0;34m=\u001b[0m\u001b[0;34m'center'\u001b[0m\u001b[0;34m,\u001b[0m\u001b[0;34m\u001b[0m\u001b[0;34m\u001b[0m\u001b[0m\n\u001b[1;32m   2619\u001b[0m         data=None, **kwargs):\n\u001b[0;32m-> 2620\u001b[0;31m     return gca().bar(\n\u001b[0m\u001b[1;32m   2621\u001b[0m         \u001b[0mx\u001b[0m\u001b[0;34m,\u001b[0m \u001b[0mheight\u001b[0m\u001b[0;34m,\u001b[0m \u001b[0mwidth\u001b[0m\u001b[0;34m=\u001b[0m\u001b[0mwidth\u001b[0m\u001b[0;34m,\u001b[0m \u001b[0mbottom\u001b[0m\u001b[0;34m=\u001b[0m\u001b[0mbottom\u001b[0m\u001b[0;34m,\u001b[0m \u001b[0malign\u001b[0m\u001b[0;34m=\u001b[0m\u001b[0malign\u001b[0m\u001b[0;34m,\u001b[0m\u001b[0;34m\u001b[0m\u001b[0;34m\u001b[0m\u001b[0m\n\u001b[1;32m   2622\u001b[0m         **({\"data\": data} if data is not None else {}), **kwargs)\n",
      "\u001b[0;32m/usr/lib/python3.9/site-packages/matplotlib/__init__.py\u001b[0m in \u001b[0;36minner\u001b[0;34m(ax, data, *args, **kwargs)\u001b[0m\n\u001b[1;32m   1350\u001b[0m     \u001b[0;32mdef\u001b[0m \u001b[0minner\u001b[0m\u001b[0;34m(\u001b[0m\u001b[0max\u001b[0m\u001b[0;34m,\u001b[0m \u001b[0;34m*\u001b[0m\u001b[0margs\u001b[0m\u001b[0;34m,\u001b[0m \u001b[0mdata\u001b[0m\u001b[0;34m=\u001b[0m\u001b[0;32mNone\u001b[0m\u001b[0;34m,\u001b[0m \u001b[0;34m**\u001b[0m\u001b[0mkwargs\u001b[0m\u001b[0;34m)\u001b[0m\u001b[0;34m:\u001b[0m\u001b[0;34m\u001b[0m\u001b[0;34m\u001b[0m\u001b[0m\n\u001b[1;32m   1351\u001b[0m         \u001b[0;32mif\u001b[0m \u001b[0mdata\u001b[0m \u001b[0;32mis\u001b[0m \u001b[0;32mNone\u001b[0m\u001b[0;34m:\u001b[0m\u001b[0;34m\u001b[0m\u001b[0;34m\u001b[0m\u001b[0m\n\u001b[0;32m-> 1352\u001b[0;31m             \u001b[0;32mreturn\u001b[0m \u001b[0mfunc\u001b[0m\u001b[0;34m(\u001b[0m\u001b[0max\u001b[0m\u001b[0;34m,\u001b[0m \u001b[0;34m*\u001b[0m\u001b[0mmap\u001b[0m\u001b[0;34m(\u001b[0m\u001b[0msanitize_sequence\u001b[0m\u001b[0;34m,\u001b[0m \u001b[0margs\u001b[0m\u001b[0;34m)\u001b[0m\u001b[0;34m,\u001b[0m \u001b[0;34m**\u001b[0m\u001b[0mkwargs\u001b[0m\u001b[0;34m)\u001b[0m\u001b[0;34m\u001b[0m\u001b[0;34m\u001b[0m\u001b[0m\n\u001b[0m\u001b[1;32m   1353\u001b[0m \u001b[0;34m\u001b[0m\u001b[0m\n\u001b[1;32m   1354\u001b[0m         \u001b[0mbound\u001b[0m \u001b[0;34m=\u001b[0m \u001b[0mnew_sig\u001b[0m\u001b[0;34m.\u001b[0m\u001b[0mbind\u001b[0m\u001b[0;34m(\u001b[0m\u001b[0max\u001b[0m\u001b[0;34m,\u001b[0m \u001b[0;34m*\u001b[0m\u001b[0margs\u001b[0m\u001b[0;34m,\u001b[0m \u001b[0;34m**\u001b[0m\u001b[0mkwargs\u001b[0m\u001b[0;34m)\u001b[0m\u001b[0;34m\u001b[0m\u001b[0;34m\u001b[0m\u001b[0m\n",
      "\u001b[0;32m/usr/lib/python3.9/site-packages/matplotlib/axes/_axes.py\u001b[0m in \u001b[0;36mbar\u001b[0;34m(self, x, height, width, bottom, align, **kwargs)\u001b[0m\n\u001b[1;32m   2355\u001b[0m                    hatch)\n\u001b[1;32m   2356\u001b[0m         \u001b[0;32mfor\u001b[0m \u001b[0ml\u001b[0m\u001b[0;34m,\u001b[0m \u001b[0mb\u001b[0m\u001b[0;34m,\u001b[0m \u001b[0mw\u001b[0m\u001b[0;34m,\u001b[0m \u001b[0mh\u001b[0m\u001b[0;34m,\u001b[0m \u001b[0mc\u001b[0m\u001b[0;34m,\u001b[0m \u001b[0me\u001b[0m\u001b[0;34m,\u001b[0m \u001b[0mlw\u001b[0m\u001b[0;34m,\u001b[0m \u001b[0mhtch\u001b[0m \u001b[0;32min\u001b[0m \u001b[0margs\u001b[0m\u001b[0;34m:\u001b[0m\u001b[0;34m\u001b[0m\u001b[0;34m\u001b[0m\u001b[0m\n\u001b[0;32m-> 2357\u001b[0;31m             r = mpatches.Rectangle(\n\u001b[0m\u001b[1;32m   2358\u001b[0m                 \u001b[0mxy\u001b[0m\u001b[0;34m=\u001b[0m\u001b[0;34m(\u001b[0m\u001b[0ml\u001b[0m\u001b[0;34m,\u001b[0m \u001b[0mb\u001b[0m\u001b[0;34m)\u001b[0m\u001b[0;34m,\u001b[0m \u001b[0mwidth\u001b[0m\u001b[0;34m=\u001b[0m\u001b[0mw\u001b[0m\u001b[0;34m,\u001b[0m \u001b[0mheight\u001b[0m\u001b[0;34m=\u001b[0m\u001b[0mh\u001b[0m\u001b[0;34m,\u001b[0m\u001b[0;34m\u001b[0m\u001b[0;34m\u001b[0m\u001b[0m\n\u001b[1;32m   2359\u001b[0m                 \u001b[0mfacecolor\u001b[0m\u001b[0;34m=\u001b[0m\u001b[0mc\u001b[0m\u001b[0;34m,\u001b[0m\u001b[0;34m\u001b[0m\u001b[0;34m\u001b[0m\u001b[0m\n",
      "\u001b[0;32m/usr/lib/python3.9/site-packages/matplotlib/patches.py\u001b[0m in \u001b[0;36m__init__\u001b[0;34m(self, xy, width, height, angle, **kwargs)\u001b[0m\n\u001b[1;32m    756\u001b[0m         \u001b[0mself\u001b[0m\u001b[0;34m.\u001b[0m\u001b[0m_height\u001b[0m \u001b[0;34m=\u001b[0m \u001b[0mheight\u001b[0m\u001b[0;34m\u001b[0m\u001b[0;34m\u001b[0m\u001b[0m\n\u001b[1;32m    757\u001b[0m         \u001b[0mself\u001b[0m\u001b[0;34m.\u001b[0m\u001b[0mangle\u001b[0m \u001b[0;34m=\u001b[0m \u001b[0mfloat\u001b[0m\u001b[0;34m(\u001b[0m\u001b[0mangle\u001b[0m\u001b[0;34m)\u001b[0m\u001b[0;34m\u001b[0m\u001b[0;34m\u001b[0m\u001b[0m\n\u001b[0;32m--> 758\u001b[0;31m         \u001b[0mself\u001b[0m\u001b[0;34m.\u001b[0m\u001b[0m_convert_units\u001b[0m\u001b[0;34m(\u001b[0m\u001b[0;34m)\u001b[0m  \u001b[0;31m# Validate the inputs.\u001b[0m\u001b[0;34m\u001b[0m\u001b[0;34m\u001b[0m\u001b[0m\n\u001b[0m\u001b[1;32m    759\u001b[0m \u001b[0;34m\u001b[0m\u001b[0m\n\u001b[1;32m    760\u001b[0m     \u001b[0;32mdef\u001b[0m \u001b[0mget_path\u001b[0m\u001b[0;34m(\u001b[0m\u001b[0mself\u001b[0m\u001b[0;34m)\u001b[0m\u001b[0;34m:\u001b[0m\u001b[0;34m\u001b[0m\u001b[0;34m\u001b[0m\u001b[0m\n",
      "\u001b[0;32m/usr/lib/python3.9/site-packages/matplotlib/patches.py\u001b[0m in \u001b[0;36m_convert_units\u001b[0;34m(self)\u001b[0m\n\u001b[1;32m    767\u001b[0m         \u001b[0my0\u001b[0m \u001b[0;34m=\u001b[0m \u001b[0mself\u001b[0m\u001b[0;34m.\u001b[0m\u001b[0mconvert_yunits\u001b[0m\u001b[0;34m(\u001b[0m\u001b[0mself\u001b[0m\u001b[0;34m.\u001b[0m\u001b[0m_y0\u001b[0m\u001b[0;34m)\u001b[0m\u001b[0;34m\u001b[0m\u001b[0;34m\u001b[0m\u001b[0m\n\u001b[1;32m    768\u001b[0m         \u001b[0mx1\u001b[0m \u001b[0;34m=\u001b[0m \u001b[0mself\u001b[0m\u001b[0;34m.\u001b[0m\u001b[0mconvert_xunits\u001b[0m\u001b[0;34m(\u001b[0m\u001b[0mself\u001b[0m\u001b[0;34m.\u001b[0m\u001b[0m_x0\u001b[0m \u001b[0;34m+\u001b[0m \u001b[0mself\u001b[0m\u001b[0;34m.\u001b[0m\u001b[0m_width\u001b[0m\u001b[0;34m)\u001b[0m\u001b[0;34m\u001b[0m\u001b[0;34m\u001b[0m\u001b[0m\n\u001b[0;32m--> 769\u001b[0;31m         \u001b[0my1\u001b[0m \u001b[0;34m=\u001b[0m \u001b[0mself\u001b[0m\u001b[0;34m.\u001b[0m\u001b[0mconvert_yunits\u001b[0m\u001b[0;34m(\u001b[0m\u001b[0mself\u001b[0m\u001b[0;34m.\u001b[0m\u001b[0m_y0\u001b[0m \u001b[0;34m+\u001b[0m \u001b[0mself\u001b[0m\u001b[0;34m.\u001b[0m\u001b[0m_height\u001b[0m\u001b[0;34m)\u001b[0m\u001b[0;34m\u001b[0m\u001b[0;34m\u001b[0m\u001b[0m\n\u001b[0m\u001b[1;32m    770\u001b[0m         \u001b[0;32mreturn\u001b[0m \u001b[0mx0\u001b[0m\u001b[0;34m,\u001b[0m \u001b[0my0\u001b[0m\u001b[0;34m,\u001b[0m \u001b[0mx1\u001b[0m\u001b[0;34m,\u001b[0m \u001b[0my1\u001b[0m\u001b[0;34m\u001b[0m\u001b[0;34m\u001b[0m\u001b[0m\n\u001b[1;32m    771\u001b[0m \u001b[0;34m\u001b[0m\u001b[0m\n",
      "\u001b[0;31mTypeError\u001b[0m: unsupported operand type(s) for +: 'int' and 'dict'"
     ]
    },
    {
     "data": {
      "image/png": "[encoded data removed]",
      "text/plain": [
       "<Figure size 432x288 with 1 Axes>"
      ]
     },
     "metadata": {
      "needs_background": "light"
     },
     "output_type": "display_data"
    }
   ],
   "source": [
    "plt.bar([x for x in range(44)], kbest_sorted)\n",
    "plt.show()"
   ]
  },
  {
   "cell_type": "code",
   "execution_count": null,
   "metadata": {},
   "outputs": [],
   "source": [
    "pl_list.append(confusion_matrix(y2_test,y2_pred))"
   ]
  },
  {
   "cell_type": "code",
   "execution_count": 226,
   "metadata": {
    "execution": {
     "iopub.execute_input": "2021-05-21T01:38:52.514975Z",
     "iopub.status.busy": "2021-05-21T01:38:52.514822Z",
     "iopub.status.idle": "2021-05-21T01:38:52.519349Z",
     "shell.execute_reply": "2021-05-21T01:38:52.518774Z",
     "shell.execute_reply.started": "2021-05-21T01:38:52.514959Z"
    }
   },
   "outputs": [
    {
     "data": {
      "text/plain": [
       "[LogisticRegression(max_iter=200),\n",
       " KNeighborsClassifier(),\n",
       " RandomForestClassifier(),\n",
       " RidgeClassifier(),\n",
       " SVC()]"
      ]
     },
     "execution_count": 226,
     "metadata": {},
     "output_type": "execute_result"
    }
   ],
   "source": [
    "models"
   ]
  },
  {
   "cell_type": "code",
   "execution_count": null,
   "metadata": {},
   "outputs": [],
   "source": []
  }
 ],
 "metadata": {
  "kernelspec": {
   "display_name": "Python 3",
   "language": "python",
   "name": "python3"
  },
  "language_info": {
   "codemirror_mode": {
    "name": "ipython",
    "version": 3
   },
   "file_extension": ".py",
   "mimetype": "text/x-python",
   "name": "python",
   "nbconvert_exporter": "python",
   "pygments_lexer": "ipython3",
   "version": "3.9.5"
  }
 },
 "nbformat": 4,
 "nbformat_minor": 4
}
