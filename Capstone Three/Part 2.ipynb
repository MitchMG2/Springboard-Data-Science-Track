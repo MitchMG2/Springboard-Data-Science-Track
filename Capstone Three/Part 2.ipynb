{
 "cells": [
  {
   "cell_type": "markdown",
   "metadata": {},
   "source": [
    "### Imports"
   ]
  },
  {
   "cell_type": "code",
   "execution_count": 1,
   "metadata": {
    "execution": {
     "iopub.execute_input": "2021-04-09T00:55:49.339611Z",
     "iopub.status.busy": "2021-04-09T00:55:49.339395Z",
     "iopub.status.idle": "2021-04-09T00:55:49.671786Z",
     "shell.execute_reply": "2021-04-09T00:55:49.671391Z",
     "shell.execute_reply.started": "2021-04-09T00:55:49.339571Z"
    },
    "tags": []
   },
   "outputs": [],
   "source": [
    "import pandas as pd\n",
    "import numpy as np\n",
    "import matplotlib.pyplot as plt\n",
    "import datetime\n",
    "import os"
   ]
  },
  {
   "cell_type": "code",
   "execution_count": 2,
   "metadata": {
    "execution": {
     "iopub.execute_input": "2021-04-09T00:55:49.672538Z",
     "iopub.status.busy": "2021-04-09T00:55:49.672426Z",
     "iopub.status.idle": "2021-04-09T00:55:50.187218Z",
     "shell.execute_reply": "2021-04-09T00:55:50.186832Z",
     "shell.execute_reply.started": "2021-04-09T00:55:49.672524Z"
    },
    "tags": []
   },
   "outputs": [],
   "source": [
    "Country = pd.read_csv('data/Country.csv')\n",
    "League = pd.read_csv('data/League.csv')\n",
    "Match = pd.read_csv('data/statless_matches.csv')\n",
    "Player = pd.read_csv('data/player_red.csv')\n",
    "Player_att = pd.read_csv('data/player_att_red.csv')\n",
    "Team = pd.read_csv('data/team_red.csv')\n",
    "Team_att = pd.read_csv('data/team_att_red.csv')"
   ]
  },
  {
   "cell_type": "code",
   "execution_count": 3,
   "metadata": {
    "execution": {
     "iopub.execute_input": "2021-04-09T00:55:50.187979Z",
     "iopub.status.busy": "2021-04-09T00:55:50.187841Z",
     "iopub.status.idle": "2021-04-09T00:55:50.192371Z",
     "shell.execute_reply": "2021-04-09T00:55:50.191865Z",
     "shell.execute_reply.started": "2021-04-09T00:55:50.187962Z"
    },
    "tags": []
   },
   "outputs": [
    {
     "data": {
      "text/plain": [
       "array(['id', 'country_id', 'league_id', 'season', 'stage', 'date',\n",
       "       'match_api_id', 'home_team_api_id', 'away_team_api_id',\n",
       "       'home_team_goal', 'away_team_goal', 'home_player_Y1',\n",
       "       'home_player_Y2', 'home_player_Y3', 'home_player_Y4',\n",
       "       'home_player_Y5', 'home_player_Y6', 'home_player_Y7',\n",
       "       'home_player_Y8', 'home_player_Y9', 'home_player_Y10',\n",
       "       'home_player_Y11', 'away_player_Y1', 'away_player_Y2',\n",
       "       'away_player_Y3', 'away_player_Y4', 'away_player_Y5',\n",
       "       'away_player_Y6', 'away_player_Y7', 'away_player_Y8',\n",
       "       'away_player_Y9', 'away_player_Y10', 'away_player_Y11',\n",
       "       'home_player_1', 'home_player_2', 'home_player_3', 'home_player_4',\n",
       "       'home_player_5', 'home_player_6', 'home_player_7', 'home_player_8',\n",
       "       'home_player_9', 'home_player_10', 'home_player_11',\n",
       "       'away_player_1', 'away_player_2', 'away_player_3', 'away_player_4',\n",
       "       'away_player_5', 'away_player_6', 'away_player_7', 'away_player_8',\n",
       "       'away_player_9', 'away_player_10', 'away_player_11'], dtype=object)"
      ]
     },
     "execution_count": 3,
     "metadata": {},
     "output_type": "execute_result"
    }
   ],
   "source": [
    "Match.columns.values"
   ]
  },
  {
   "cell_type": "code",
   "execution_count": 4,
   "metadata": {
    "execution": {
     "iopub.execute_input": "2021-04-09T00:55:50.193560Z",
     "iopub.status.busy": "2021-04-09T00:55:50.193359Z",
     "iopub.status.idle": "2021-04-09T00:55:50.200890Z",
     "shell.execute_reply": "2021-04-09T00:55:50.200434Z",
     "shell.execute_reply.started": "2021-04-09T00:55:50.193526Z"
    },
    "tags": []
   },
   "outputs": [],
   "source": [
    "y_coord = ['home_player_Y1',\n",
    "       'home_player_Y2', 'home_player_Y3', 'home_player_Y4',\n",
    "       'home_player_Y5', 'home_player_Y6', 'home_player_Y7',\n",
    "       'home_player_Y8', 'home_player_Y9', 'home_player_Y10',\n",
    "       'home_player_Y11', 'away_player_Y1', 'away_player_Y2',\n",
    "       'away_player_Y3', 'away_player_Y4', 'away_player_Y5',\n",
    "       'away_player_Y6', 'away_player_Y7', 'away_player_Y8',\n",
    "       'away_player_Y9', 'away_player_Y10', 'away_player_Y11']"
   ]
  },
  {
   "cell_type": "code",
   "execution_count": 5,
   "metadata": {
    "execution": {
     "iopub.execute_input": "2021-04-09T00:55:50.201781Z",
     "iopub.status.busy": "2021-04-09T00:55:50.201632Z",
     "iopub.status.idle": "2021-04-09T00:55:50.209463Z",
     "shell.execute_reply": "2021-04-09T00:55:50.209096Z",
     "shell.execute_reply.started": "2021-04-09T00:55:50.201761Z"
    }
   },
   "outputs": [
    {
     "name": "stdout",
     "output_type": "stream",
     "text": [
      "0        10.0\n",
      "1        10.0\n",
      "2        10.0\n",
      "3        10.0\n",
      "4        10.0\n",
      "         ... \n",
      "21356    11.0\n",
      "21357    11.0\n",
      "21358    11.0\n",
      "21359    11.0\n",
      "21360    11.0\n",
      "Length: 21361, dtype: float64\n"
     ]
    }
   ],
   "source": [
    "print(Match[y_coord].max(axis=1))"
   ]
  },
  {
   "cell_type": "code",
   "execution_count": 6,
   "metadata": {
    "execution": {
     "iopub.execute_input": "2021-04-09T00:55:50.210865Z",
     "iopub.status.busy": "2021-04-09T00:55:50.210730Z",
     "iopub.status.idle": "2021-04-09T00:55:50.219649Z",
     "shell.execute_reply": "2021-04-09T00:55:50.219058Z",
     "shell.execute_reply.started": "2021-04-09T00:55:50.210847Z"
    }
   },
   "outputs": [
    {
     "name": "stdout",
     "output_type": "stream",
     "text": [
      "0        1.0\n",
      "1        1.0\n",
      "2        1.0\n",
      "3        1.0\n",
      "4        1.0\n",
      "        ... \n",
      "21356    1.0\n",
      "21357    1.0\n",
      "21358    1.0\n",
      "21359    1.0\n",
      "21360    1.0\n",
      "Length: 21361, dtype: float64\n"
     ]
    }
   ],
   "source": [
    "print(Match[y_coord].min(axis=1))"
   ]
  },
  {
   "cell_type": "code",
   "execution_count": 7,
   "metadata": {
    "execution": {
     "iopub.execute_input": "2021-04-09T00:55:50.221323Z",
     "iopub.status.busy": "2021-04-09T00:55:50.221102Z",
     "iopub.status.idle": "2021-04-09T00:55:50.233864Z",
     "shell.execute_reply": "2021-04-09T00:55:50.232881Z",
     "shell.execute_reply.started": "2021-04-09T00:55:50.221295Z"
    },
    "tags": []
   },
   "outputs": [
    {
     "name": "stdout",
     "output_type": "stream",
     "text": [
      "0        5.545455\n",
      "1        5.545455\n",
      "2        5.545455\n",
      "3        5.545455\n",
      "4        5.545455\n",
      "           ...   \n",
      "21356    5.500000\n",
      "21357    5.454545\n",
      "21358    6.045455\n",
      "21359    5.454545\n",
      "21360    5.500000\n",
      "Length: 21361, dtype: float64\n"
     ]
    }
   ],
   "source": [
    "print(Match[y_coord].mean(axis=1))"
   ]
  },
  {
   "cell_type": "code",
   "execution_count": 8,
   "metadata": {
    "execution": {
     "iopub.execute_input": "2021-04-09T00:55:50.237000Z",
     "iopub.status.busy": "2021-04-09T00:55:50.236664Z",
     "iopub.status.idle": "2021-04-09T00:55:50.272551Z",
     "shell.execute_reply": "2021-04-09T00:55:50.272161Z",
     "shell.execute_reply.started": "2021-04-09T00:55:50.236972Z"
    },
    "tags": []
   },
   "outputs": [
    {
     "name": "stdout",
     "output_type": "stream",
     "text": [
      "      home_player_Y1  home_player_Y2  home_player_Y3  home_player_Y4  \\\n",
      "1.0          21361.0             NaN             NaN             NaN   \n",
      "3.0              NaN         21361.0         21360.0         21356.0   \n",
      "5.0              NaN             NaN             1.0             5.0   \n",
      "6.0              NaN             NaN             NaN             NaN   \n",
      "7.0              NaN             NaN             NaN             NaN   \n",
      "8.0              NaN             NaN             NaN             NaN   \n",
      "9.0              NaN             NaN             NaN             NaN   \n",
      "10.0             NaN             NaN             NaN             NaN   \n",
      "11.0             NaN             NaN             NaN             NaN   \n",
      "\n",
      "      home_player_Y5  home_player_Y6  home_player_Y7  home_player_Y8  \\\n",
      "1.0              NaN             NaN             NaN             NaN   \n",
      "3.0          20033.0           248.0             3.0             4.0   \n",
      "5.0             37.0          1597.0           718.0           402.0   \n",
      "6.0              6.0          7217.0          6341.0           461.0   \n",
      "7.0           1284.0         12235.0         13660.0         13958.0   \n",
      "8.0              1.0            61.0           634.0          6517.0   \n",
      "9.0              NaN             3.0             5.0            19.0   \n",
      "10.0             NaN             NaN             NaN             NaN   \n",
      "11.0             NaN             NaN             NaN             NaN   \n",
      "\n",
      "      home_player_Y9  home_player_Y10  ...  away_player_Y2  away_player_Y3  \\\n",
      "1.0              NaN              NaN  ...             NaN             NaN   \n",
      "3.0              NaN              NaN  ...         21361.0         21361.0   \n",
      "5.0              NaN              NaN  ...             NaN             NaN   \n",
      "6.0             53.0             69.0  ...             NaN             NaN   \n",
      "7.0           8667.0           1063.0  ...             NaN             NaN   \n",
      "8.0           7260.0           6407.0  ...             NaN             NaN   \n",
      "9.0           1167.0           1426.0  ...             NaN             NaN   \n",
      "10.0          4214.0          11743.0  ...             NaN             NaN   \n",
      "11.0             NaN            653.0  ...             NaN             NaN   \n",
      "\n",
      "      away_player_Y4  away_player_Y5  away_player_Y6  away_player_Y7  \\\n",
      "1.0              NaN             NaN             NaN             NaN   \n",
      "3.0          21360.0         20004.0           311.0             3.0   \n",
      "5.0              1.0            33.0          1554.0           663.0   \n",
      "6.0              NaN            10.0          7277.0          6336.0   \n",
      "7.0              NaN          1313.0         12152.0         13651.0   \n",
      "8.0              NaN             NaN            64.0           706.0   \n",
      "9.0              NaN             1.0             3.0             2.0   \n",
      "10.0             NaN             NaN             NaN             NaN   \n",
      "11.0             NaN             NaN             NaN             NaN   \n",
      "\n",
      "      away_player_Y8  away_player_Y9  away_player_Y10  away_player_Y11  \n",
      "1.0              NaN             NaN              NaN              NaN  \n",
      "3.0              1.0             NaN              NaN              NaN  \n",
      "5.0            364.0             NaN              NaN              NaN  \n",
      "6.0            495.0            74.0             72.0              NaN  \n",
      "7.0          13932.0          8673.0           1414.0              1.0  \n",
      "8.0           6545.0          7258.0           6466.0              1.0  \n",
      "9.0             22.0          1137.0           1443.0              NaN  \n",
      "10.0             2.0          4219.0          11349.0          11352.0  \n",
      "11.0             NaN             NaN            617.0          10007.0  \n",
      "\n",
      "[9 rows x 22 columns]\n"
     ]
    }
   ],
   "source": [
    "print(Match[y_coord].apply(pd.Series.value_counts))"
   ]
  },
  {
   "cell_type": "markdown",
   "metadata": {},
   "source": [
    "player_y1 is ALWAYS goalkeeper at coordinate 1.0\n",
    "<br>\n",
    "y2-y5 is almost always defender at coordinate 3. Set 3 as default for defenders\n",
    "\n",
    "coordinate 6-8 should be midfield\n",
    "coordinate 9-11 is striker zone"
   ]
  },
  {
   "cell_type": "code",
   "execution_count": 9,
   "metadata": {
    "execution": {
     "iopub.execute_input": "2021-04-09T00:55:50.273345Z",
     "iopub.status.busy": "2021-04-09T00:55:50.273225Z",
     "iopub.status.idle": "2021-04-09T00:55:50.293109Z",
     "shell.execute_reply": "2021-04-09T00:55:50.292251Z",
     "shell.execute_reply.started": "2021-04-09T00:55:50.273329Z"
    },
    "tags": []
   },
   "outputs": [
    {
     "data": {
      "text/html": [
       "<div>\n",
       "<style scoped>\n",
       "    .dataframe tbody tr th:only-of-type {\n",
       "        vertical-align: middle;\n",
       "    }\n",
       "\n",
       "    .dataframe tbody tr th {\n",
       "        vertical-align: top;\n",
       "    }\n",
       "\n",
       "    .dataframe thead th {\n",
       "        text-align: right;\n",
       "    }\n",
       "</style>\n",
       "<table border=\"1\" class=\"dataframe\">\n",
       "  <thead>\n",
       "    <tr style=\"text-align: right;\">\n",
       "      <th></th>\n",
       "      <th>id</th>\n",
       "      <th>player_api_id</th>\n",
       "      <th>overall_rating</th>\n",
       "      <th>potential</th>\n",
       "      <th>attacking_work_rate</th>\n",
       "      <th>defensive_work_rate</th>\n",
       "      <th>crossing</th>\n",
       "      <th>finishing</th>\n",
       "      <th>heading_accuracy</th>\n",
       "      <th>short_passing</th>\n",
       "      <th>...</th>\n",
       "      <th>vision</th>\n",
       "      <th>penalties</th>\n",
       "      <th>marking</th>\n",
       "      <th>standing_tackle</th>\n",
       "      <th>sliding_tackle</th>\n",
       "      <th>gk_diving</th>\n",
       "      <th>gk_handling</th>\n",
       "      <th>gk_kicking</th>\n",
       "      <th>gk_positioning</th>\n",
       "      <th>gk_reflexes</th>\n",
       "    </tr>\n",
       "  </thead>\n",
       "  <tbody>\n",
       "    <tr>\n",
       "      <th>0</th>\n",
       "      <td>1</td>\n",
       "      <td>505942</td>\n",
       "      <td>67.0</td>\n",
       "      <td>71.0</td>\n",
       "      <td>medium</td>\n",
       "      <td>medium</td>\n",
       "      <td>49.0</td>\n",
       "      <td>44.0</td>\n",
       "      <td>71.0</td>\n",
       "      <td>61.0</td>\n",
       "      <td>...</td>\n",
       "      <td>54.0</td>\n",
       "      <td>48.0</td>\n",
       "      <td>65.0</td>\n",
       "      <td>69.0</td>\n",
       "      <td>69.0</td>\n",
       "      <td>6.0</td>\n",
       "      <td>11.0</td>\n",
       "      <td>10.0</td>\n",
       "      <td>8.0</td>\n",
       "      <td>8.0</td>\n",
       "    </tr>\n",
       "    <tr>\n",
       "      <th>1</th>\n",
       "      <td>2</td>\n",
       "      <td>505942</td>\n",
       "      <td>67.0</td>\n",
       "      <td>71.0</td>\n",
       "      <td>medium</td>\n",
       "      <td>medium</td>\n",
       "      <td>49.0</td>\n",
       "      <td>44.0</td>\n",
       "      <td>71.0</td>\n",
       "      <td>61.0</td>\n",
       "      <td>...</td>\n",
       "      <td>54.0</td>\n",
       "      <td>48.0</td>\n",
       "      <td>65.0</td>\n",
       "      <td>69.0</td>\n",
       "      <td>69.0</td>\n",
       "      <td>6.0</td>\n",
       "      <td>11.0</td>\n",
       "      <td>10.0</td>\n",
       "      <td>8.0</td>\n",
       "      <td>8.0</td>\n",
       "    </tr>\n",
       "    <tr>\n",
       "      <th>2</th>\n",
       "      <td>3</td>\n",
       "      <td>505942</td>\n",
       "      <td>62.0</td>\n",
       "      <td>66.0</td>\n",
       "      <td>medium</td>\n",
       "      <td>medium</td>\n",
       "      <td>49.0</td>\n",
       "      <td>44.0</td>\n",
       "      <td>71.0</td>\n",
       "      <td>61.0</td>\n",
       "      <td>...</td>\n",
       "      <td>54.0</td>\n",
       "      <td>48.0</td>\n",
       "      <td>65.0</td>\n",
       "      <td>66.0</td>\n",
       "      <td>69.0</td>\n",
       "      <td>6.0</td>\n",
       "      <td>11.0</td>\n",
       "      <td>10.0</td>\n",
       "      <td>8.0</td>\n",
       "      <td>8.0</td>\n",
       "    </tr>\n",
       "  </tbody>\n",
       "</table>\n",
       "<p>3 rows × 39 columns</p>\n",
       "</div>"
      ],
      "text/plain": [
       "   id  player_api_id  overall_rating  potential attacking_work_rate  \\\n",
       "0   1         505942            67.0       71.0              medium   \n",
       "1   2         505942            67.0       71.0              medium   \n",
       "2   3         505942            62.0       66.0              medium   \n",
       "\n",
       "  defensive_work_rate  crossing  finishing  heading_accuracy  short_passing  \\\n",
       "0              medium      49.0       44.0              71.0           61.0   \n",
       "1              medium      49.0       44.0              71.0           61.0   \n",
       "2              medium      49.0       44.0              71.0           61.0   \n",
       "\n",
       "   ...  vision  penalties  marking  standing_tackle  sliding_tackle  \\\n",
       "0  ...    54.0       48.0     65.0             69.0            69.0   \n",
       "1  ...    54.0       48.0     65.0             69.0            69.0   \n",
       "2  ...    54.0       48.0     65.0             66.0            69.0   \n",
       "\n",
       "   gk_diving  gk_handling  gk_kicking  gk_positioning  gk_reflexes  \n",
       "0        6.0         11.0        10.0             8.0          8.0  \n",
       "1        6.0         11.0        10.0             8.0          8.0  \n",
       "2        6.0         11.0        10.0             8.0          8.0  \n",
       "\n",
       "[3 rows x 39 columns]"
      ]
     },
     "execution_count": 9,
     "metadata": {},
     "output_type": "execute_result"
    }
   ],
   "source": [
    "Player_att.head(3)"
   ]
  },
  {
   "cell_type": "code",
   "execution_count": 10,
   "metadata": {
    "execution": {
     "iopub.execute_input": "2021-04-09T00:55:50.294364Z",
     "iopub.status.busy": "2021-04-09T00:55:50.294163Z",
     "iopub.status.idle": "2021-04-09T00:55:50.298361Z",
     "shell.execute_reply": "2021-04-09T00:55:50.297735Z",
     "shell.execute_reply.started": "2021-04-09T00:55:50.294342Z"
    }
   },
   "outputs": [
    {
     "data": {
      "text/plain": [
       "array(['id', 'player_api_id', 'overall_rating', 'potential',\n",
       "       'attacking_work_rate', 'defensive_work_rate', 'crossing',\n",
       "       'finishing', 'heading_accuracy', 'short_passing', 'volleys',\n",
       "       'dribbling', 'curve', 'free_kick_accuracy', 'long_passing',\n",
       "       'ball_control', 'acceleration', 'sprint_speed', 'agility',\n",
       "       'reactions', 'balance', 'shot_power', 'jumping', 'stamina',\n",
       "       'strength', 'long_shots', 'aggression', 'interceptions',\n",
       "       'positioning', 'vision', 'penalties', 'marking', 'standing_tackle',\n",
       "       'sliding_tackle', 'gk_diving', 'gk_handling', 'gk_kicking',\n",
       "       'gk_positioning', 'gk_reflexes'], dtype=object)"
      ]
     },
     "execution_count": 10,
     "metadata": {},
     "output_type": "execute_result"
    }
   ],
   "source": [
    "Player_att.columns.values"
   ]
  },
  {
   "cell_type": "code",
   "execution_count": 27,
   "metadata": {
    "execution": {
     "iopub.execute_input": "2021-04-09T01:02:11.179174Z",
     "iopub.status.busy": "2021-04-09T01:02:11.178998Z",
     "iopub.status.idle": "2021-04-09T01:02:11.319104Z",
     "shell.execute_reply": "2021-04-09T01:02:11.318639Z",
     "shell.execute_reply.started": "2021-04-09T01:02:11.179154Z"
    },
    "tags": []
   },
   "outputs": [
    {
     "name": "stderr",
     "output_type": "stream",
     "text": [
      "<ipython-input-27-4d211e163bf0>:1: FutureWarning: Passing 'suffixes' as a <class 'str'>, is not supported and may give unexpected results. Provide 'suffixes' as a tuple instead. In the future a 'TypeError' will be raised.\n",
      "  merged_match_test1 = pd.merge(Match, Player_att, how='left', left_on='home_player_1', right_on='id', suffixes='_1')\n",
      "<ipython-input-27-4d211e163bf0>:2: FutureWarning: Passing 'suffixes' as a <class 'str'>, is not supported and may give unexpected results. Provide 'suffixes' as a tuple instead. In the future a 'TypeError' will be raised.\n",
      "  merged_match_test1 = pd.merge(Match, Player_att, how='outer', left_on='home_player_2', right_on='id', suffixes='_2')\n"
     ]
    }
   ],
   "source": [
    "merged_match_test1 = pd.merge(Match, Player_att, how='left', left_on='home_player_1', right_on='id', suffixes='_1')\n",
    "merged_match_test1 = pd.merge(Match, Player_att, how='outer', left_on='home_player_2', right_on='id', suffixes='_2')"
   ]
  },
  {
   "cell_type": "code",
   "execution_count": 28,
   "metadata": {
    "execution": {
     "iopub.execute_input": "2021-04-09T01:02:11.821445Z",
     "iopub.status.busy": "2021-04-09T01:02:11.821224Z",
     "iopub.status.idle": "2021-04-09T01:02:11.825614Z",
     "shell.execute_reply": "2021-04-09T01:02:11.825054Z",
     "shell.execute_reply.started": "2021-04-09T01:02:11.821407Z"
    },
    "tags": []
   },
   "outputs": [
    {
     "data": {
      "text/plain": [
       "array(['id_', 'country_id', 'league_id', 'season', 'stage', 'date',\n",
       "       'match_api_id', 'home_team_api_id', 'away_team_api_id',\n",
       "       'home_team_goal', 'away_team_goal', 'home_player_Y1',\n",
       "       'home_player_Y2', 'home_player_Y3', 'home_player_Y4',\n",
       "       'home_player_Y5', 'home_player_Y6', 'home_player_Y7',\n",
       "       'home_player_Y8', 'home_player_Y9', 'home_player_Y10',\n",
       "       'home_player_Y11', 'away_player_Y1', 'away_player_Y2',\n",
       "       'away_player_Y3', 'away_player_Y4', 'away_player_Y5',\n",
       "       'away_player_Y6', 'away_player_Y7', 'away_player_Y8',\n",
       "       'away_player_Y9', 'away_player_Y10', 'away_player_Y11',\n",
       "       'home_player_1', 'home_player_2', 'home_player_3', 'home_player_4',\n",
       "       'home_player_5', 'home_player_6', 'home_player_7', 'home_player_8',\n",
       "       'home_player_9', 'home_player_10', 'home_player_11',\n",
       "       'away_player_1', 'away_player_2', 'away_player_3', 'away_player_4',\n",
       "       'away_player_5', 'away_player_6', 'away_player_7', 'away_player_8',\n",
       "       'away_player_9', 'away_player_10', 'away_player_11', 'id2',\n",
       "       'player_api_id', 'overall_rating', 'potential',\n",
       "       'attacking_work_rate', 'defensive_work_rate', 'crossing',\n",
       "       'finishing', 'heading_accuracy', 'short_passing', 'volleys',\n",
       "       'dribbling', 'curve', 'free_kick_accuracy', 'long_passing',\n",
       "       'ball_control', 'acceleration', 'sprint_speed', 'agility',\n",
       "       'reactions', 'balance', 'shot_power', 'jumping', 'stamina',\n",
       "       'strength', 'long_shots', 'aggression', 'interceptions',\n",
       "       'positioning', 'vision', 'penalties', 'marking', 'standing_tackle',\n",
       "       'sliding_tackle', 'gk_diving', 'gk_handling', 'gk_kicking',\n",
       "       'gk_positioning', 'gk_reflexes'], dtype=object)"
      ]
     },
     "execution_count": 28,
     "metadata": {},
     "output_type": "execute_result"
    }
   ],
   "source": [
    "merged_match_test1.columns.values"
   ]
  },
  {
   "cell_type": "code",
   "execution_count": 26,
   "metadata": {
    "execution": {
     "iopub.execute_input": "2021-04-09T00:59:53.717906Z",
     "iopub.status.busy": "2021-04-09T00:59:53.717501Z",
     "iopub.status.idle": "2021-04-09T00:59:53.755011Z",
     "shell.execute_reply": "2021-04-09T00:59:53.754602Z",
     "shell.execute_reply.started": "2021-04-09T00:59:53.717860Z"
    },
    "tags": []
   },
   "outputs": [
    {
     "name": "stdout",
     "output_type": "stream",
     "text": [
      "   id_  country_id  league_id     season  stage                 date  \\\n",
      "0  146           1          1  2008/2009     24  2009-02-27 00:00:00   \n",
      "1  154           1          1  2008/2009     25  2009-03-08 00:00:00   \n",
      "\n",
      "   match_api_id  home_team_api_id  away_team_api_id  home_team_goal  \\\n",
      "0        493017              8203              9987               2   \n",
      "1        493025              9984              8342               1   \n",
      "\n",
      "   away_team_goal  home_player_Y1  home_player_Y2  home_player_Y3  \\\n",
      "0               1             1.0             3.0             3.0   \n",
      "1               3             1.0             3.0             3.0   \n",
      "\n",
      "   home_player_Y4  home_player_Y5  home_player_Y6  home_player_Y7  \\\n",
      "0             3.0             3.0             7.0             7.0   \n",
      "1             3.0             3.0             7.0             7.0   \n",
      "\n",
      "   home_player_Y8  home_player_Y9  home_player_Y10  home_player_Y11  \\\n",
      "0             7.0             7.0             10.0             10.0   \n",
      "1             7.0             7.0             10.0             10.0   \n",
      "\n",
      "   away_player_Y1  away_player_Y2  away_player_Y3  away_player_Y4  \\\n",
      "0             1.0             3.0             3.0             3.0   \n",
      "1             1.0             3.0             3.0             3.0   \n",
      "\n",
      "   away_player_Y5  away_player_Y6  away_player_Y7  away_player_Y8  \\\n",
      "0             3.0             7.0             7.0             7.0   \n",
      "1             3.0             7.0             7.0             7.0   \n",
      "\n",
      "   away_player_Y9  away_player_Y10  away_player_Y11  home_player_1  \\\n",
      "0             7.0             10.0             10.0        38327.0   \n",
      "1             7.0             10.0             10.0        36835.0   \n",
      "\n",
      "   home_player_2  home_player_3  home_player_4  home_player_5  home_player_6  \\\n",
      "0        67950.0        67958.0        67959.0        37112.0        36393.0   \n",
      "1        37047.0        37021.0        37051.0       104386.0        32863.0   \n",
      "\n",
      "   home_player_7  home_player_8  home_player_9  home_player_10  \\\n",
      "0       148286.0        67898.0       164352.0         38801.0   \n",
      "1        37957.0        37909.0        38357.0         37065.0   \n",
      "\n",
      "   home_player_11  away_player_1  away_player_2  away_player_3  away_player_4  \\\n",
      "0         26502.0        37937.0        38293.0       148313.0       104411.0   \n",
      "1         78462.0        37990.0        21812.0        11736.0        37858.0   \n",
      "\n",
      "   away_player_5  away_player_6  away_player_7  away_player_8  away_player_9  \\\n",
      "0       148314.0        37202.0        43158.0         9307.0        42153.0   \n",
      "1        38366.0        37983.0        39578.0        38336.0        52280.0   \n",
      "\n",
      "   away_player_10  away_player_11      id2  player_api_id  overall_rating  \\\n",
      "0         32690.0         38782.0  67950.0       500602.0            72.0   \n",
      "1         27423.0         38440.0  37047.0       240235.0            65.0   \n",
      "\n",
      "   potential attacking_work_rate defensive_work_rate  crossing  finishing  \\\n",
      "0       77.0              medium              medium      70.0       50.0   \n",
      "1       76.0              medium              medium      48.0       31.0   \n",
      "\n",
      "   heading_accuracy  short_passing  volleys  dribbling  curve  \\\n",
      "0              59.0           77.0     62.0       69.0   60.0   \n",
      "1              57.0           68.0     33.0       56.0   45.0   \n",
      "\n",
      "   free_kick_accuracy  long_passing  ball_control  acceleration  sprint_speed  \\\n",
      "0                64.0          77.0          75.0          69.0          69.0   \n",
      "1                46.0          62.0          65.0          69.0          71.0   \n",
      "\n",
      "   agility  reactions  balance  shot_power  jumping  stamina  strength  \\\n",
      "0     69.0       65.0     68.0        59.0     61.0     70.0      56.0   \n",
      "1     55.0       66.0     62.0        59.0     65.0     78.0      63.0   \n",
      "\n",
      "   long_shots  aggression  interceptions  positioning  vision  penalties  \\\n",
      "0        64.0        68.0           58.0         63.0    80.0       52.0   \n",
      "1        55.0        69.0           65.0         46.0    60.0       42.0   \n",
      "\n",
      "   marking  standing_tackle  sliding_tackle  gk_diving  gk_handling  \\\n",
      "0     58.0             64.0            70.0        7.0         15.0   \n",
      "1     60.0             62.0            62.0        8.0          6.0   \n",
      "\n",
      "   gk_kicking  gk_positioning  gk_reflexes  \n",
      "0        10.0             7.0         15.0  \n",
      "1        12.0            13.0         14.0  \n"
     ]
    }
   ],
   "source": [
    "with pd.option_context('display.max_rows', None, 'display.max_columns', None):\n",
    "    print(merged_match_test1.head(2))"
   ]
  },
  {
   "cell_type": "code",
   "execution_count": 16,
   "metadata": {
    "execution": {
     "iopub.execute_input": "2021-04-09T00:57:25.979553Z",
     "iopub.status.busy": "2021-04-09T00:57:25.979332Z",
     "iopub.status.idle": "2021-04-09T00:57:26.001172Z",
     "shell.execute_reply": "2021-04-09T00:57:26.000779Z",
     "shell.execute_reply.started": "2021-04-09T00:57:25.979528Z"
    },
    "tags": []
   },
   "outputs": [
    {
     "data": {
      "text/html": [
       "<div>\n",
       "<style scoped>\n",
       "    .dataframe tbody tr th:only-of-type {\n",
       "        vertical-align: middle;\n",
       "    }\n",
       "\n",
       "    .dataframe tbody tr th {\n",
       "        vertical-align: top;\n",
       "    }\n",
       "\n",
       "    .dataframe thead th {\n",
       "        text-align: right;\n",
       "    }\n",
       "</style>\n",
       "<table border=\"1\" class=\"dataframe\">\n",
       "  <thead>\n",
       "    <tr style=\"text-align: right;\">\n",
       "      <th></th>\n",
       "      <th>id</th>\n",
       "      <th>player_api_id</th>\n",
       "      <th>overall_rating</th>\n",
       "      <th>potential</th>\n",
       "      <th>attacking_work_rate</th>\n",
       "      <th>defensive_work_rate</th>\n",
       "      <th>crossing</th>\n",
       "      <th>finishing</th>\n",
       "      <th>heading_accuracy</th>\n",
       "      <th>short_passing</th>\n",
       "      <th>...</th>\n",
       "      <th>vision</th>\n",
       "      <th>penalties</th>\n",
       "      <th>marking</th>\n",
       "      <th>standing_tackle</th>\n",
       "      <th>sliding_tackle</th>\n",
       "      <th>gk_diving</th>\n",
       "      <th>gk_handling</th>\n",
       "      <th>gk_kicking</th>\n",
       "      <th>gk_positioning</th>\n",
       "      <th>gk_reflexes</th>\n",
       "    </tr>\n",
       "  </thead>\n",
       "  <tbody>\n",
       "    <tr>\n",
       "      <th>67897</th>\n",
       "      <td>67898</td>\n",
       "      <td>157630</td>\n",
       "      <td>77.0</td>\n",
       "      <td>77.0</td>\n",
       "      <td>medium</td>\n",
       "      <td>high</td>\n",
       "      <td>51.0</td>\n",
       "      <td>23.0</td>\n",
       "      <td>81.0</td>\n",
       "      <td>72.0</td>\n",
       "      <td>...</td>\n",
       "      <td>59.0</td>\n",
       "      <td>60.0</td>\n",
       "      <td>76.0</td>\n",
       "      <td>74.0</td>\n",
       "      <td>75.0</td>\n",
       "      <td>9.0</td>\n",
       "      <td>13.0</td>\n",
       "      <td>8.0</td>\n",
       "      <td>13.0</td>\n",
       "      <td>6.0</td>\n",
       "    </tr>\n",
       "  </tbody>\n",
       "</table>\n",
       "<p>1 rows × 39 columns</p>\n",
       "</div>"
      ],
      "text/plain": [
       "          id  player_api_id  overall_rating  potential attacking_work_rate  \\\n",
       "67897  67898         157630            77.0       77.0              medium   \n",
       "\n",
       "      defensive_work_rate  crossing  finishing  heading_accuracy  \\\n",
       "67897                high      51.0       23.0              81.0   \n",
       "\n",
       "       short_passing  ...  vision  penalties  marking  standing_tackle  \\\n",
       "67897           72.0  ...    59.0       60.0     76.0             74.0   \n",
       "\n",
       "       sliding_tackle  gk_diving  gk_handling  gk_kicking  gk_positioning  \\\n",
       "67897            75.0        9.0         13.0         8.0            13.0   \n",
       "\n",
       "       gk_reflexes  \n",
       "67897          6.0  \n",
       "\n",
       "[1 rows x 39 columns]"
      ]
     },
     "execution_count": 16,
     "metadata": {},
     "output_type": "execute_result"
    }
   ],
   "source": [
    "Player_att.loc[Player_att['id'] == 67898]"
   ]
  },
  {
   "cell_type": "code",
   "execution_count": null,
   "metadata": {},
   "outputs": [],
   "source": []
  }
 ],
 "metadata": {
  "kernelspec": {
   "display_name": "Python 3",
   "language": "python",
   "name": "python3"
  },
  "language_info": {
   "codemirror_mode": {
    "name": "ipython",
    "version": 3
   },
   "file_extension": ".py",
   "mimetype": "text/x-python",
   "name": "python",
   "nbconvert_exporter": "python",
   "pygments_lexer": "ipython3",
   "version": "3.9.2"
  }
 },
 "nbformat": 4,
 "nbformat_minor": 4
}
