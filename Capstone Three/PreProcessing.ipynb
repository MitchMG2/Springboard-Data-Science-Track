{
 "cells": [
  {
   "cell_type": "markdown",
   "metadata": {},
   "source": [
    "### Imports"
   ]
  },
  {
   "cell_type": "code",
   "execution_count": 1,
   "metadata": {
    "execution": {
     "iopub.execute_input": "2021-05-06T00:57:13.167087Z",
     "iopub.status.busy": "2021-05-06T00:57:13.166866Z",
     "iopub.status.idle": "2021-05-06T00:57:13.893184Z",
     "shell.execute_reply": "2021-05-06T00:57:13.892807Z",
     "shell.execute_reply.started": "2021-05-06T00:57:13.167063Z"
    },
    "tags": []
   },
   "outputs": [],
   "source": [
    "import pandas as pd\n",
    "import numpy as np\n",
    "import os\n",
    "import pickle\n",
    "import matplotlib.pyplot as plt\n",
    "import seaborn as sns\n",
    "from sklearn import __version__ as sklearn_version\n",
    "from sklearn.decomposition import PCA\n",
    "from sklearn.preprocessing import scale\n",
    "from sklearn.model_selection import train_test_split, cross_validate, GridSearchCV, learning_curve\n",
    "from sklearn.preprocessing import StandardScaler, MinMaxScaler\n",
    "from sklearn.dummy import DummyRegressor\n",
    "from sklearn.linear_model import LinearRegression\n",
    "from sklearn.ensemble import RandomForestRegressor\n",
    "from sklearn.metrics import r2_score, mean_squared_error, mean_absolute_error\n",
    "from sklearn.pipeline import make_pipeline\n",
    "from sklearn.impute import SimpleImputer\n",
    "from sklearn.feature_selection import SelectKBest, f_regression\n",
    "import datetime"
   ]
  },
  {
   "cell_type": "code",
   "execution_count": 2,
   "metadata": {
    "execution": {
     "iopub.execute_input": "2021-05-06T00:57:13.899791Z",
     "iopub.status.busy": "2021-05-06T00:57:13.899554Z",
     "iopub.status.idle": "2021-05-06T00:57:13.986784Z",
     "shell.execute_reply": "2021-05-06T00:57:13.986359Z",
     "shell.execute_reply.started": "2021-05-06T00:57:13.899760Z"
    },
    "tags": []
   },
   "outputs": [],
   "source": [
    "df = pd.read_csv('data/Final_merged_dataset_clean.csv')"
   ]
  },
  {
   "cell_type": "code",
   "execution_count": 3,
   "metadata": {
    "execution": {
     "iopub.execute_input": "2021-05-06T00:57:14.144879Z",
     "iopub.status.busy": "2021-05-06T00:57:14.144722Z",
     "iopub.status.idle": "2021-05-06T00:57:14.148224Z",
     "shell.execute_reply": "2021-05-06T00:57:14.147664Z",
     "shell.execute_reply.started": "2021-05-06T00:57:14.144863Z"
    },
    "tags": []
   },
   "outputs": [
    {
     "data": {
      "text/plain": [
       "((13297, 96),\n",
       " array(['id', 'home_team_api_id', 'away_team_api_id', 'crossing_h',\n",
       "        'finishing_h', 'heading_accuracy_h', 'short_passing_h',\n",
       "        'volleys_h', 'dribbling_h', 'curve_h', 'free_kick_accuracy_h',\n",
       "        'long_passing_h', 'ball_control_h', 'acceleration_h',\n",
       "        'sprint_speed_h', 'agility_h', 'reactions_h', 'balance_h',\n",
       "        'shot_power_h', 'jumping_h', 'stamina_h', 'strength_h',\n",
       "        'long_shots_h', 'aggression_h', 'interceptions_h', 'positioning_h',\n",
       "        'vision_h', 'penalties_h', 'marking_h', 'standing_tackle_h',\n",
       "        'sliding_tackle_h', 'gk_diving_h', 'gk_handling_h', 'gk_kicking_h',\n",
       "        'gk_positioning_h', 'gk_reflexes_h', 'crossing_a', 'finishing_a',\n",
       "        'heading_accuracy_a', 'short_passing_a', 'volleys_a',\n",
       "        'dribbling_a', 'curve_a', 'free_kick_accuracy_a', 'long_passing_a',\n",
       "        'ball_control_a', 'acceleration_a', 'sprint_speed_a', 'agility_a',\n",
       "        'reactions_a', 'balance_a', 'shot_power_a', 'jumping_a',\n",
       "        'stamina_a', 'strength_a', 'long_shots_a', 'aggression_a',\n",
       "        'interceptions_a', 'positioning_a', 'vision_a', 'penalties_a',\n",
       "        'marking_a', 'standing_tackle_a', 'sliding_tackle_a',\n",
       "        'gk_diving_a', 'gk_handling_a', 'gk_kicking_a', 'gk_positioning_a',\n",
       "        'gk_reflexes_a', 'home_strikers', 'home_midfielders',\n",
       "        'home_defenders', 'away_strikers', 'away_midfielders',\n",
       "        'away_defenders', 'match_winner', 'possession_h', 'possession_a',\n",
       "        'fouls_h', 'fouls_a', 'buildUpPlaySpeed_h', 'buildUpPlayPassing_h',\n",
       "        'chanceCreationPassing_h', 'chanceCreationCrossing_h',\n",
       "        'chanceCreationShooting_h', 'defencePressure_h',\n",
       "        'defenceAggression_h', 'defenceTeamWidth_h', 'buildUpPlaySpeed_a',\n",
       "        'buildUpPlayPassing_a', 'chanceCreationPassing_a',\n",
       "        'chanceCreationCrossing_a', 'chanceCreationShooting_a',\n",
       "        'defencePressure_a', 'defenceAggression_a', 'defenceTeamWidth_a'],\n",
       "       dtype=object))"
      ]
     },
     "execution_count": 3,
     "metadata": {},
     "output_type": "execute_result"
    }
   ],
   "source": [
    "df.shape, df.columns.values"
   ]
  },
  {
   "cell_type": "code",
   "execution_count": 4,
   "metadata": {
    "execution": {
     "iopub.execute_input": "2021-05-06T00:57:17.207642Z",
     "iopub.status.busy": "2021-05-06T00:57:17.207270Z",
     "iopub.status.idle": "2021-05-06T00:57:17.231629Z",
     "shell.execute_reply": "2021-05-06T00:57:17.231125Z",
     "shell.execute_reply.started": "2021-05-06T00:57:17.207602Z"
    },
    "tags": []
   },
   "outputs": [
    {
     "data": {
      "text/html": [
       "<div>\n",
       "<style scoped>\n",
       "    .dataframe tbody tr th:only-of-type {\n",
       "        vertical-align: middle;\n",
       "    }\n",
       "\n",
       "    .dataframe tbody tr th {\n",
       "        vertical-align: top;\n",
       "    }\n",
       "\n",
       "    .dataframe thead th {\n",
       "        text-align: right;\n",
       "    }\n",
       "</style>\n",
       "<table border=\"1\" class=\"dataframe\">\n",
       "  <thead>\n",
       "    <tr style=\"text-align: right;\">\n",
       "      <th></th>\n",
       "      <th>id</th>\n",
       "      <th>home_team_api_id</th>\n",
       "      <th>away_team_api_id</th>\n",
       "      <th>crossing_h</th>\n",
       "      <th>finishing_h</th>\n",
       "      <th>heading_accuracy_h</th>\n",
       "      <th>short_passing_h</th>\n",
       "      <th>volleys_h</th>\n",
       "      <th>dribbling_h</th>\n",
       "      <th>curve_h</th>\n",
       "      <th>...</th>\n",
       "      <th>defenceAggression_h</th>\n",
       "      <th>defenceTeamWidth_h</th>\n",
       "      <th>buildUpPlaySpeed_a</th>\n",
       "      <th>buildUpPlayPassing_a</th>\n",
       "      <th>chanceCreationPassing_a</th>\n",
       "      <th>chanceCreationCrossing_a</th>\n",
       "      <th>chanceCreationShooting_a</th>\n",
       "      <th>defencePressure_a</th>\n",
       "      <th>defenceAggression_a</th>\n",
       "      <th>defenceTeamWidth_a</th>\n",
       "    </tr>\n",
       "  </thead>\n",
       "  <tbody>\n",
       "    <tr>\n",
       "      <th>0</th>\n",
       "      <td>1729</td>\n",
       "      <td>10260</td>\n",
       "      <td>10261</td>\n",
       "      <td>81.0</td>\n",
       "      <td>72.0</td>\n",
       "      <td>81.0</td>\n",
       "      <td>81.0</td>\n",
       "      <td>79.0</td>\n",
       "      <td>79.0</td>\n",
       "      <td>79.0</td>\n",
       "      <td>...</td>\n",
       "      <td>48.000000</td>\n",
       "      <td>54.833333</td>\n",
       "      <td>58.166667</td>\n",
       "      <td>55.333333</td>\n",
       "      <td>53.500000</td>\n",
       "      <td>57.333333</td>\n",
       "      <td>49.833333</td>\n",
       "      <td>46.666667</td>\n",
       "      <td>48.333333</td>\n",
       "      <td>48.333333</td>\n",
       "    </tr>\n",
       "    <tr>\n",
       "      <th>1</th>\n",
       "      <td>1730</td>\n",
       "      <td>9825</td>\n",
       "      <td>8659</td>\n",
       "      <td>77.0</td>\n",
       "      <td>80.0</td>\n",
       "      <td>90.0</td>\n",
       "      <td>88.0</td>\n",
       "      <td>79.0</td>\n",
       "      <td>79.0</td>\n",
       "      <td>80.0</td>\n",
       "      <td>...</td>\n",
       "      <td>46.500000</td>\n",
       "      <td>50.500000</td>\n",
       "      <td>57.500000</td>\n",
       "      <td>51.500000</td>\n",
       "      <td>53.000000</td>\n",
       "      <td>56.000000</td>\n",
       "      <td>54.666667</td>\n",
       "      <td>43.000000</td>\n",
       "      <td>45.666667</td>\n",
       "      <td>54.833333</td>\n",
       "    </tr>\n",
       "    <tr>\n",
       "      <th>2</th>\n",
       "      <td>1731</td>\n",
       "      <td>8472</td>\n",
       "      <td>8650</td>\n",
       "      <td>79.0</td>\n",
       "      <td>66.0</td>\n",
       "      <td>78.0</td>\n",
       "      <td>82.0</td>\n",
       "      <td>69.0</td>\n",
       "      <td>80.0</td>\n",
       "      <td>78.0</td>\n",
       "      <td>...</td>\n",
       "      <td>52.166667</td>\n",
       "      <td>51.833333</td>\n",
       "      <td>57.666667</td>\n",
       "      <td>44.333333</td>\n",
       "      <td>41.333333</td>\n",
       "      <td>47.833333</td>\n",
       "      <td>57.333333</td>\n",
       "      <td>51.000000</td>\n",
       "      <td>52.500000</td>\n",
       "      <td>56.000000</td>\n",
       "    </tr>\n",
       "    <tr>\n",
       "      <th>3</th>\n",
       "      <td>1732</td>\n",
       "      <td>8654</td>\n",
       "      <td>8528</td>\n",
       "      <td>81.0</td>\n",
       "      <td>71.0</td>\n",
       "      <td>77.0</td>\n",
       "      <td>87.0</td>\n",
       "      <td>69.0</td>\n",
       "      <td>81.0</td>\n",
       "      <td>80.0</td>\n",
       "      <td>...</td>\n",
       "      <td>42.833333</td>\n",
       "      <td>40.166667</td>\n",
       "      <td>47.166667</td>\n",
       "      <td>50.666667</td>\n",
       "      <td>52.666667</td>\n",
       "      <td>55.500000</td>\n",
       "      <td>45.500000</td>\n",
       "      <td>50.000000</td>\n",
       "      <td>54.000000</td>\n",
       "      <td>46.000000</td>\n",
       "    </tr>\n",
       "    <tr>\n",
       "      <th>4</th>\n",
       "      <td>1734</td>\n",
       "      <td>8668</td>\n",
       "      <td>8655</td>\n",
       "      <td>74.0</td>\n",
       "      <td>80.0</td>\n",
       "      <td>74.0</td>\n",
       "      <td>83.0</td>\n",
       "      <td>77.0</td>\n",
       "      <td>80.0</td>\n",
       "      <td>78.0</td>\n",
       "      <td>...</td>\n",
       "      <td>57.500000</td>\n",
       "      <td>56.333333</td>\n",
       "      <td>52.500000</td>\n",
       "      <td>63.833333</td>\n",
       "      <td>57.000000</td>\n",
       "      <td>56.000000</td>\n",
       "      <td>42.000000</td>\n",
       "      <td>45.666667</td>\n",
       "      <td>55.000000</td>\n",
       "      <td>46.666667</td>\n",
       "    </tr>\n",
       "  </tbody>\n",
       "</table>\n",
       "<p>5 rows × 96 columns</p>\n",
       "</div>"
      ],
      "text/plain": [
       "     id  home_team_api_id  away_team_api_id  crossing_h  finishing_h  \\\n",
       "0  1729             10260             10261        81.0         72.0   \n",
       "1  1730              9825              8659        77.0         80.0   \n",
       "2  1731              8472              8650        79.0         66.0   \n",
       "3  1732              8654              8528        81.0         71.0   \n",
       "4  1734              8668              8655        74.0         80.0   \n",
       "\n",
       "   heading_accuracy_h  short_passing_h  volleys_h  dribbling_h  curve_h  ...  \\\n",
       "0                81.0             81.0       79.0         79.0     79.0  ...   \n",
       "1                90.0             88.0       79.0         79.0     80.0  ...   \n",
       "2                78.0             82.0       69.0         80.0     78.0  ...   \n",
       "3                77.0             87.0       69.0         81.0     80.0  ...   \n",
       "4                74.0             83.0       77.0         80.0     78.0  ...   \n",
       "\n",
       "   defenceAggression_h  defenceTeamWidth_h  buildUpPlaySpeed_a  \\\n",
       "0            48.000000           54.833333           58.166667   \n",
       "1            46.500000           50.500000           57.500000   \n",
       "2            52.166667           51.833333           57.666667   \n",
       "3            42.833333           40.166667           47.166667   \n",
       "4            57.500000           56.333333           52.500000   \n",
       "\n",
       "   buildUpPlayPassing_a  chanceCreationPassing_a  chanceCreationCrossing_a  \\\n",
       "0             55.333333                53.500000                 57.333333   \n",
       "1             51.500000                53.000000                 56.000000   \n",
       "2             44.333333                41.333333                 47.833333   \n",
       "3             50.666667                52.666667                 55.500000   \n",
       "4             63.833333                57.000000                 56.000000   \n",
       "\n",
       "   chanceCreationShooting_a  defencePressure_a  defenceAggression_a  \\\n",
       "0                 49.833333          46.666667            48.333333   \n",
       "1                 54.666667          43.000000            45.666667   \n",
       "2                 57.333333          51.000000            52.500000   \n",
       "3                 45.500000          50.000000            54.000000   \n",
       "4                 42.000000          45.666667            55.000000   \n",
       "\n",
       "   defenceTeamWidth_a  \n",
       "0           48.333333  \n",
       "1           54.833333  \n",
       "2           56.000000  \n",
       "3           46.000000  \n",
       "4           46.666667  \n",
       "\n",
       "[5 rows x 96 columns]"
      ]
     },
     "execution_count": 4,
     "metadata": {},
     "output_type": "execute_result"
    }
   ],
   "source": [
    "df.head(5)"
   ]
  },
  {
   "cell_type": "code",
   "execution_count": 23,
   "metadata": {
    "execution": {
     "iopub.execute_input": "2021-05-06T01:06:32.274084Z",
     "iopub.status.busy": "2021-05-06T01:06:32.273378Z",
     "iopub.status.idle": "2021-05-06T01:06:32.278208Z",
     "shell.execute_reply": "2021-05-06T01:06:32.276706Z",
     "shell.execute_reply.started": "2021-05-06T01:06:32.274002Z"
    },
    "tags": []
   },
   "outputs": [],
   "source": [
    "####pd.get_dummies(df, columns='').head()"
   ]
  },
  {
   "cell_type": "code",
   "execution_count": 24,
   "metadata": {
    "execution": {
     "iopub.execute_input": "2021-05-06T01:06:40.716535Z",
     "iopub.status.busy": "2021-05-06T01:06:40.716352Z",
     "iopub.status.idle": "2021-05-06T01:06:40.733684Z",
     "shell.execute_reply": "2021-05-06T01:06:40.733119Z",
     "shell.execute_reply.started": "2021-05-06T01:06:40.716515Z"
    },
    "tags": []
   },
   "outputs": [],
   "source": [
    "X_train, X_test, y_train, y_test = train_test_split(df.drop(columns=['match_winner', 'id']), \n",
    "                                                    df.match_winner, test_size=0.3, \n",
    "                                                    random_state=47)"
   ]
  },
  {
   "cell_type": "code",
   "execution_count": 25,
   "metadata": {
    "execution": {
     "iopub.execute_input": "2021-05-06T01:06:40.870485Z",
     "iopub.status.busy": "2021-05-06T01:06:40.870061Z",
     "iopub.status.idle": "2021-05-06T01:06:40.874006Z",
     "shell.execute_reply": "2021-05-06T01:06:40.873550Z",
     "shell.execute_reply.started": "2021-05-06T01:06:40.870437Z"
    },
    "tags": []
   },
   "outputs": [
    {
     "data": {
      "text/plain": [
       "((9307, 94), (3990, 94))"
      ]
     },
     "execution_count": 25,
     "metadata": {},
     "output_type": "execute_result"
    }
   ],
   "source": [
    "X_train.shape, X_test.shape"
   ]
  },
  {
   "cell_type": "code",
   "execution_count": 26,
   "metadata": {
    "execution": {
     "iopub.execute_input": "2021-05-06T01:06:41.030660Z",
     "iopub.status.busy": "2021-05-06T01:06:41.030426Z",
     "iopub.status.idle": "2021-05-06T01:06:41.034138Z",
     "shell.execute_reply": "2021-05-06T01:06:41.033670Z",
     "shell.execute_reply.started": "2021-05-06T01:06:41.030635Z"
    },
    "tags": []
   },
   "outputs": [
    {
     "data": {
      "text/plain": [
       "((9307,), (3990,))"
      ]
     },
     "execution_count": 26,
     "metadata": {},
     "output_type": "execute_result"
    }
   ],
   "source": [
    "y_train.shape, y_test.shape"
   ]
  },
  {
   "cell_type": "code",
   "execution_count": 27,
   "metadata": {
    "execution": {
     "iopub.execute_input": "2021-05-06T01:06:41.178182Z",
     "iopub.status.busy": "2021-05-06T01:06:41.178027Z",
     "iopub.status.idle": "2021-05-06T01:06:41.182798Z",
     "shell.execute_reply": "2021-05-06T01:06:41.181833Z",
     "shell.execute_reply.started": "2021-05-06T01:06:41.178166Z"
    },
    "tags": []
   },
   "outputs": [
    {
     "data": {
      "text/plain": [
       "home_team_api_id              int64\n",
       "away_team_api_id              int64\n",
       "crossing_h                  float64\n",
       "finishing_h                 float64\n",
       "heading_accuracy_h          float64\n",
       "                             ...   \n",
       "chanceCreationCrossing_a    float64\n",
       "chanceCreationShooting_a    float64\n",
       "defencePressure_a           float64\n",
       "defenceAggression_a         float64\n",
       "defenceTeamWidth_a          float64\n",
       "Length: 94, dtype: object"
      ]
     },
     "execution_count": 27,
     "metadata": {},
     "output_type": "execute_result"
    }
   ],
   "source": [
    "X_train.dtypes"
   ]
  },
  {
   "cell_type": "code",
   "execution_count": 28,
   "metadata": {
    "execution": {
     "iopub.execute_input": "2021-05-06T01:06:41.314817Z",
     "iopub.status.busy": "2021-05-06T01:06:41.314586Z",
     "iopub.status.idle": "2021-05-06T01:06:41.320991Z",
     "shell.execute_reply": "2021-05-06T01:06:41.320395Z",
     "shell.execute_reply.started": "2021-05-06T01:06:41.314791Z"
    },
    "tags": []
   },
   "outputs": [
    {
     "data": {
      "text/plain": [
       "home_team_api_id              int64\n",
       "away_team_api_id              int64\n",
       "crossing_h                  float64\n",
       "finishing_h                 float64\n",
       "heading_accuracy_h          float64\n",
       "                             ...   \n",
       "chanceCreationCrossing_a    float64\n",
       "chanceCreationShooting_a    float64\n",
       "defencePressure_a           float64\n",
       "defenceAggression_a         float64\n",
       "defenceTeamWidth_a          float64\n",
       "Length: 94, dtype: object"
      ]
     },
     "execution_count": 28,
     "metadata": {},
     "output_type": "execute_result"
    }
   ],
   "source": [
    "X_test.dtypes"
   ]
  },
  {
   "cell_type": "code",
   "execution_count": 29,
   "metadata": {
    "execution": {
     "iopub.execute_input": "2021-05-06T01:06:43.161778Z",
     "iopub.status.busy": "2021-05-06T01:06:43.161494Z",
     "iopub.status.idle": "2021-05-06T01:06:43.169121Z",
     "shell.execute_reply": "2021-05-06T01:06:43.166988Z",
     "shell.execute_reply.started": "2021-05-06T01:06:43.161736Z"
    },
    "tags": []
   },
   "outputs": [
    {
     "data": {
      "text/plain": [
       "1.8189534758783712"
      ]
     },
     "execution_count": 29,
     "metadata": {},
     "output_type": "execute_result"
    }
   ],
   "source": [
    "train_mean = y_train.mean()\n",
    "train_mean"
   ]
  },
  {
   "cell_type": "markdown",
   "metadata": {},
   "source": [
    "Draw most likely outcome, though this could be influence by even distribution of wins and losses for home teams"
   ]
  },
  {
   "cell_type": "code",
   "execution_count": 30,
   "metadata": {
    "execution": {
     "iopub.execute_input": "2021-05-06T01:06:43.461918Z",
     "iopub.status.busy": "2021-05-06T01:06:43.461696Z",
     "iopub.status.idle": "2021-05-06T01:06:43.468214Z",
     "shell.execute_reply": "2021-05-06T01:06:43.466840Z",
     "shell.execute_reply.started": "2021-05-06T01:06:43.461894Z"
    },
    "tags": []
   },
   "outputs": [
    {
     "data": {
      "text/plain": [
       "array([[1.81895348]])"
      ]
     },
     "execution_count": 30,
     "metadata": {},
     "output_type": "execute_result"
    }
   ],
   "source": [
    "dumb_reg = DummyRegressor(strategy='mean')\n",
    "dumb_reg.fit(X_train, y_train)\n",
    "dumb_reg.constant_"
   ]
  },
  {
   "cell_type": "code",
   "execution_count": 31,
   "metadata": {
    "execution": {
     "iopub.execute_input": "2021-05-06T01:06:43.627224Z",
     "iopub.status.busy": "2021-05-06T01:06:43.627037Z",
     "iopub.status.idle": "2021-05-06T01:06:43.679042Z",
     "shell.execute_reply": "2021-05-06T01:06:43.678611Z",
     "shell.execute_reply.started": "2021-05-06T01:06:43.627207Z"
    },
    "tags": []
   },
   "outputs": [],
   "source": [
    "X_defaults_median = X_train.median()\n",
    "X_tr = X_train.fillna(X_defaults_median)\n",
    "X_te = X_test.fillna(X_defaults_median)"
   ]
  },
  {
   "cell_type": "code",
   "execution_count": 32,
   "metadata": {
    "execution": {
     "iopub.execute_input": "2021-05-06T01:06:44.023951Z",
     "iopub.status.busy": "2021-05-06T01:06:44.023795Z",
     "iopub.status.idle": "2021-05-06T01:06:44.049490Z",
     "shell.execute_reply": "2021-05-06T01:06:44.048758Z",
     "shell.execute_reply.started": "2021-05-06T01:06:44.023935Z"
    },
    "tags": []
   },
   "outputs": [],
   "source": [
    "scaler = StandardScaler()\n",
    "scaler.fit(X_tr)\n",
    "X_tr_scaled = scaler.transform(X_train)\n",
    "X_te_scaled = scaler.transform(X_te)"
   ]
  },
  {
   "cell_type": "code",
   "execution_count": 33,
   "metadata": {
    "execution": {
     "iopub.execute_input": "2021-05-06T01:09:56.728738Z",
     "iopub.status.busy": "2021-05-06T01:09:56.728582Z",
     "iopub.status.idle": "2021-05-06T01:09:56.730979Z",
     "shell.execute_reply": "2021-05-06T01:09:56.730435Z",
     "shell.execute_reply.started": "2021-05-06T01:09:56.728721Z"
    }
   },
   "outputs": [],
   "source": [
    "from sklearn.ensemble import RandomForestClassifier"
   ]
  },
  {
   "cell_type": "code",
   "execution_count": 34,
   "metadata": {
    "execution": {
     "iopub.execute_input": "2021-05-06T01:10:28.218317Z",
     "iopub.status.busy": "2021-05-06T01:10:28.218165Z",
     "iopub.status.idle": "2021-05-06T01:10:28.220647Z",
     "shell.execute_reply": "2021-05-06T01:10:28.220159Z",
     "shell.execute_reply.started": "2021-05-06T01:10:28.218301Z"
    }
   },
   "outputs": [],
   "source": [
    "RF_model = RandomForestRegressor(n_estimators=50)"
   ]
  },
  {
   "cell_type": "code",
   "execution_count": 36,
   "metadata": {
    "execution": {
     "iopub.execute_input": "2021-05-06T01:11:13.705480Z",
     "iopub.status.busy": "2021-05-06T01:11:13.705325Z",
     "iopub.status.idle": "2021-05-06T01:11:24.109675Z",
     "shell.execute_reply": "2021-05-06T01:11:24.109240Z",
     "shell.execute_reply.started": "2021-05-06T01:11:13.705464Z"
    },
    "tags": []
   },
   "outputs": [
    {
     "data": {
      "text/plain": [
       "RandomForestRegressor(n_estimators=50)"
      ]
     },
     "execution_count": 36,
     "metadata": {},
     "output_type": "execute_result"
    }
   ],
   "source": [
    "RF_model.fit(X_tr_scaled, y_train)"
   ]
  },
  {
   "cell_type": "code",
   "execution_count": 37,
   "metadata": {
    "execution": {
     "iopub.execute_input": "2021-05-06T01:12:11.793138Z",
     "iopub.status.busy": "2021-05-06T01:12:11.792981Z",
     "iopub.status.idle": "2021-05-06T01:12:17.127408Z",
     "shell.execute_reply": "2021-05-06T01:12:17.126779Z",
     "shell.execute_reply.started": "2021-05-06T01:12:11.793118Z"
    }
   },
   "outputs": [],
   "source": [
    "cv_results = cross_validate(RF_model, X_te, y_test, scoring='neg_mean_absolute_error', cv=5, n_jobs=-1)"
   ]
  },
  {
   "cell_type": "code",
   "execution_count": 38,
   "metadata": {
    "execution": {
     "iopub.execute_input": "2021-05-06T01:12:17.148611Z",
     "iopub.status.busy": "2021-05-06T01:12:17.148401Z",
     "iopub.status.idle": "2021-05-06T01:12:17.153807Z",
     "shell.execute_reply": "2021-05-06T01:12:17.153121Z",
     "shell.execute_reply.started": "2021-05-06T01:12:17.148582Z"
    }
   },
   "outputs": [
    {
     "data": {
      "text/plain": [
       "array([-0.69461153, -0.72190476, -0.69370927, -0.70867168, -0.72864662])"
      ]
     },
     "execution_count": 38,
     "metadata": {},
     "output_type": "execute_result"
    }
   ],
   "source": [
    "cv_results['test_score']"
   ]
  },
  {
   "cell_type": "code",
   "execution_count": 44,
   "metadata": {
    "execution": {
     "iopub.execute_input": "2021-05-06T01:13:37.767773Z",
     "iopub.status.busy": "2021-05-06T01:13:37.767357Z",
     "iopub.status.idle": "2021-05-06T01:13:37.785072Z",
     "shell.execute_reply": "2021-05-06T01:13:37.784731Z",
     "shell.execute_reply.started": "2021-05-06T01:13:37.767727Z"
    },
    "tags": []
   },
   "outputs": [
    {
     "data": {
      "text/plain": [
       "array([2.18, 2.3 , 2.3 , ..., 2.18, 2.3 , 2.18])"
      ]
     },
     "execution_count": 44,
     "metadata": {},
     "output_type": "execute_result"
    }
   ],
   "source": [
    "RF_model.predict(X_te)"
   ]
  },
  {
   "cell_type": "code",
   "execution_count": 47,
   "metadata": {
    "execution": {
     "iopub.execute_input": "2021-05-06T01:16:59.725525Z",
     "iopub.status.busy": "2021-05-06T01:16:59.725368Z",
     "iopub.status.idle": "2021-05-06T01:16:59.738014Z",
     "shell.execute_reply": "2021-05-06T01:16:59.737607Z",
     "shell.execute_reply.started": "2021-05-06T01:16:59.725509Z"
    },
    "tags": []
   },
   "outputs": [
    {
     "data": {
      "text/plain": [
       "array([0.01284862, 0.0108646 , 0.01031224, 0.0115938 , 0.01350716,\n",
       "       0.00830469, 0.01089182, 0.00803822, 0.0105065 , 0.01153687,\n",
       "       0.00909883, 0.0077792 , 0.01042581, 0.01134903, 0.01156163,\n",
       "       0.00821349, 0.01147819, 0.00927434, 0.01207432, 0.01096794,\n",
       "       0.01275748, 0.00866984, 0.01186357, 0.01328167, 0.00894514,\n",
       "       0.00935537, 0.01099009, 0.01259689, 0.01065713, 0.01082681,\n",
       "       0.00835682, 0.00845445, 0.01274301, 0.00703461, 0.00767727,\n",
       "       0.00979961, 0.01110262, 0.01384182, 0.00831331, 0.01031096,\n",
       "       0.00807445, 0.00959894, 0.01085307, 0.00915354, 0.0084462 ,\n",
       "       0.01030932, 0.00957829, 0.01098923, 0.00859322, 0.01203713,\n",
       "       0.00855011, 0.01164774, 0.01267888, 0.01202069, 0.00923022,\n",
       "       0.01281983, 0.0120553 , 0.00843179, 0.00937191, 0.00979904,\n",
       "       0.01081529, 0.00938766, 0.00979077, 0.00807458, 0.00745995,\n",
       "       0.0119132 , 0.00742079, 0.00693152, 0.00252088, 0.00380277,\n",
       "       0.00263539, 0.00330997, 0.00419905, 0.00285177, 0.01095538,\n",
       "       0.00994006, 0.01064354, 0.01217965, 0.00956836, 0.03289534,\n",
       "       0.01476373, 0.01037614, 0.01296878, 0.01500792, 0.01284398,\n",
       "       0.01095023, 0.01020435, 0.03134882, 0.01233177, 0.01087732,\n",
       "       0.01583896, 0.01615928, 0.01691981, 0.00966834])"
      ]
     },
     "execution_count": 47,
     "metadata": {},
     "output_type": "execute_result"
    }
   ],
   "source": [
    "importance = RF_model.feature_importances_\n",
    "importance"
   ]
  },
  {
   "cell_type": "code",
   "execution_count": 48,
   "metadata": {
    "execution": {
     "iopub.execute_input": "2021-05-06T01:17:00.771318Z",
     "iopub.status.busy": "2021-05-06T01:17:00.771160Z",
     "iopub.status.idle": "2021-05-06T01:17:00.785616Z",
     "shell.execute_reply": "2021-05-06T01:17:00.785266Z",
     "shell.execute_reply.started": "2021-05-06T01:17:00.771302Z"
    },
    "tags": []
   },
   "outputs": [
    {
     "name": "stdout",
     "output_type": "stream",
     "text": [
      "Feature: 0, Score: 0.01285\n",
      "Feature: 1, Score: 0.01086\n",
      "Feature: 2, Score: 0.01031\n",
      "Feature: 3, Score: 0.01159\n",
      "Feature: 4, Score: 0.01351\n",
      "Feature: 5, Score: 0.00830\n",
      "Feature: 6, Score: 0.01089\n",
      "Feature: 7, Score: 0.00804\n",
      "Feature: 8, Score: 0.01051\n",
      "Feature: 9, Score: 0.01154\n",
      "Feature: 10, Score: 0.00910\n",
      "Feature: 11, Score: 0.00778\n",
      "Feature: 12, Score: 0.01043\n",
      "Feature: 13, Score: 0.01135\n",
      "Feature: 14, Score: 0.01156\n",
      "Feature: 15, Score: 0.00821\n",
      "Feature: 16, Score: 0.01148\n",
      "Feature: 17, Score: 0.00927\n",
      "Feature: 18, Score: 0.01207\n",
      "Feature: 19, Score: 0.01097\n",
      "Feature: 20, Score: 0.01276\n",
      "Feature: 21, Score: 0.00867\n",
      "Feature: 22, Score: 0.01186\n",
      "Feature: 23, Score: 0.01328\n",
      "Feature: 24, Score: 0.00895\n",
      "Feature: 25, Score: 0.00936\n",
      "Feature: 26, Score: 0.01099\n",
      "Feature: 27, Score: 0.01260\n",
      "Feature: 28, Score: 0.01066\n",
      "Feature: 29, Score: 0.01083\n",
      "Feature: 30, Score: 0.00836\n",
      "Feature: 31, Score: 0.00845\n",
      "Feature: 32, Score: 0.01274\n",
      "Feature: 33, Score: 0.00703\n",
      "Feature: 34, Score: 0.00768\n",
      "Feature: 35, Score: 0.00980\n",
      "Feature: 36, Score: 0.01110\n",
      "Feature: 37, Score: 0.01384\n",
      "Feature: 38, Score: 0.00831\n",
      "Feature: 39, Score: 0.01031\n",
      "Feature: 40, Score: 0.00807\n",
      "Feature: 41, Score: 0.00960\n",
      "Feature: 42, Score: 0.01085\n",
      "Feature: 43, Score: 0.00915\n",
      "Feature: 44, Score: 0.00845\n",
      "Feature: 45, Score: 0.01031\n",
      "Feature: 46, Score: 0.00958\n",
      "Feature: 47, Score: 0.01099\n",
      "Feature: 48, Score: 0.00859\n",
      "Feature: 49, Score: 0.01204\n",
      "Feature: 50, Score: 0.00855\n",
      "Feature: 51, Score: 0.01165\n",
      "Feature: 52, Score: 0.01268\n",
      "Feature: 53, Score: 0.01202\n",
      "Feature: 54, Score: 0.00923\n",
      "Feature: 55, Score: 0.01282\n",
      "Feature: 56, Score: 0.01206\n",
      "Feature: 57, Score: 0.00843\n",
      "Feature: 58, Score: 0.00937\n",
      "Feature: 59, Score: 0.00980\n",
      "Feature: 60, Score: 0.01082\n",
      "Feature: 61, Score: 0.00939\n",
      "Feature: 62, Score: 0.00979\n",
      "Feature: 63, Score: 0.00807\n",
      "Feature: 64, Score: 0.00746\n",
      "Feature: 65, Score: 0.01191\n",
      "Feature: 66, Score: 0.00742\n",
      "Feature: 67, Score: 0.00693\n",
      "Feature: 68, Score: 0.00252\n",
      "Feature: 69, Score: 0.00380\n",
      "Feature: 70, Score: 0.00264\n",
      "Feature: 71, Score: 0.00331\n",
      "Feature: 72, Score: 0.00420\n",
      "Feature: 73, Score: 0.00285\n",
      "Feature: 74, Score: 0.01096\n",
      "Feature: 75, Score: 0.00994\n",
      "Feature: 76, Score: 0.01064\n",
      "Feature: 77, Score: 0.01218\n",
      "Feature: 78, Score: 0.00957\n",
      "Feature: 79, Score: 0.03290\n",
      "Feature: 80, Score: 0.01476\n",
      "Feature: 81, Score: 0.01038\n",
      "Feature: 82, Score: 0.01297\n",
      "Feature: 83, Score: 0.01501\n",
      "Feature: 84, Score: 0.01284\n",
      "Feature: 85, Score: 0.01095\n",
      "Feature: 86, Score: 0.01020\n",
      "Feature: 87, Score: 0.03135\n",
      "Feature: 88, Score: 0.01233\n",
      "Feature: 89, Score: 0.01088\n",
      "Feature: 90, Score: 0.01584\n",
      "Feature: 91, Score: 0.01616\n",
      "Feature: 92, Score: 0.01692\n",
      "Feature: 93, Score: 0.00967\n"
     ]
    }
   ],
   "source": [
    "for i,v in enumerate(importance):\n",
    "\tprint('Feature: %0d, Score: %.5f' % (i,v))"
   ]
  },
  {
   "cell_type": "code",
   "execution_count": 51,
   "metadata": {
    "execution": {
     "iopub.execute_input": "2021-05-06T01:18:24.908167Z",
     "iopub.status.busy": "2021-05-06T01:18:24.907986Z",
     "iopub.status.idle": "2021-05-06T01:18:25.173049Z",
     "shell.execute_reply": "2021-05-06T01:18:25.172724Z",
     "shell.execute_reply.started": "2021-05-06T01:18:24.908146Z"
    },
    "tags": []
   },
   "outputs": [
    {
     "data": {
      "image/png": "[encoded data removed]",
      "text/plain": [
       "<Figure size 432x288 with 1 Axes>"
      ]
     },
     "metadata": {
      "needs_background": "light"
     },
     "output_type": "display_data"
    }
   ],
   "source": [
    "plt.bar([x for x in range(len(importance))], importance)\n",
    "plt.show()"
   ]
  },
  {
   "cell_type": "code",
   "execution_count": 57,
   "metadata": {
    "execution": {
     "iopub.execute_input": "2021-05-06T01:20:25.915663Z",
     "iopub.status.busy": "2021-05-06T01:20:25.915375Z",
     "iopub.status.idle": "2021-05-06T01:20:25.919987Z",
     "shell.execute_reply": "2021-05-06T01:20:25.919471Z",
     "shell.execute_reply.started": "2021-05-06T01:20:25.915597Z"
    },
    "tags": []
   },
   "outputs": [],
   "source": [
    "importance.sort()"
   ]
  },
  {
   "cell_type": "code",
   "execution_count": 58,
   "metadata": {
    "execution": {
     "iopub.execute_input": "2021-05-06T01:20:26.218975Z",
     "iopub.status.busy": "2021-05-06T01:20:26.218811Z",
     "iopub.status.idle": "2021-05-06T01:20:26.222552Z",
     "shell.execute_reply": "2021-05-06T01:20:26.222012Z",
     "shell.execute_reply.started": "2021-05-06T01:20:26.218958Z"
    },
    "tags": []
   },
   "outputs": [
    {
     "data": {
      "text/plain": [
       "array([0.00252088, 0.00263539, 0.00285177, 0.00330997, 0.00380277,\n",
       "       0.00419905, 0.00693152, 0.00703461, 0.00742079, 0.00745995,\n",
       "       0.00767727, 0.0077792 , 0.00803822, 0.00807445, 0.00807458,\n",
       "       0.00821349, 0.00830469, 0.00831331, 0.00835682, 0.00843179,\n",
       "       0.0084462 , 0.00845445, 0.00855011, 0.00859322, 0.00866984,\n",
       "       0.00894514, 0.00909883, 0.00915354, 0.00923022, 0.00927434,\n",
       "       0.00935537, 0.00937191, 0.00938766, 0.00956836, 0.00957829,\n",
       "       0.00959894, 0.00966834, 0.00979077, 0.00979904, 0.00979961,\n",
       "       0.00994006, 0.01020435, 0.01030932, 0.01031096, 0.01031224,\n",
       "       0.01037614, 0.01042581, 0.0105065 , 0.01064354, 0.01065713,\n",
       "       0.01081529, 0.01082681, 0.01085307, 0.0108646 , 0.01087732,\n",
       "       0.01089182, 0.01095023, 0.01095538, 0.01096794, 0.01098923,\n",
       "       0.01099009, 0.01110262, 0.01134903, 0.01147819, 0.01153687,\n",
       "       0.01156163, 0.0115938 , 0.01164774, 0.01186357, 0.0119132 ,\n",
       "       0.01202069, 0.01203713, 0.0120553 , 0.01207432, 0.01217965,\n",
       "       0.01233177, 0.01259689, 0.01267888, 0.01274301, 0.01275748,\n",
       "       0.01281983, 0.01284398, 0.01284862, 0.01296878, 0.01328167,\n",
       "       0.01350716, 0.01384182, 0.01476373, 0.01500792, 0.01583896,\n",
       "       0.01615928, 0.01691981, 0.03134882, 0.03289534])"
      ]
     },
     "execution_count": 58,
     "metadata": {},
     "output_type": "execute_result"
    }
   ],
   "source": [
    "importance"
   ]
  },
  {
   "cell_type": "code",
   "execution_count": 59,
   "metadata": {
    "execution": {
     "iopub.execute_input": "2021-05-06T01:20:55.754001Z",
     "iopub.status.busy": "2021-05-06T01:20:55.753838Z",
     "iopub.status.idle": "2021-05-06T01:20:55.756761Z",
     "shell.execute_reply": "2021-05-06T01:20:55.756389Z",
     "shell.execute_reply.started": "2021-05-06T01:20:55.753984Z"
    }
   },
   "outputs": [
    {
     "data": {
      "text/plain": [
       "'fouls_a'"
      ]
     },
     "execution_count": 59,
     "metadata": {},
     "output_type": "execute_result"
    }
   ],
   "source": [
    "df.columns[79]"
   ]
  },
  {
   "cell_type": "code",
   "execution_count": 60,
   "metadata": {
    "execution": {
     "iopub.execute_input": "2021-05-06T01:21:14.503550Z",
     "iopub.status.busy": "2021-05-06T01:21:14.503192Z",
     "iopub.status.idle": "2021-05-06T01:21:14.507457Z",
     "shell.execute_reply": "2021-05-06T01:21:14.506466Z",
     "shell.execute_reply.started": "2021-05-06T01:21:14.503510Z"
    }
   },
   "outputs": [
    {
     "data": {
      "text/plain": [
       "'defenceTeamWidth_h'"
      ]
     },
     "execution_count": 60,
     "metadata": {},
     "output_type": "execute_result"
    }
   ],
   "source": [
    "df.columns[87]"
   ]
  },
  {
   "cell_type": "code",
   "execution_count": 62,
   "metadata": {
    "execution": {
     "iopub.execute_input": "2021-05-06T01:21:42.989613Z",
     "iopub.status.busy": "2021-05-06T01:21:42.989308Z",
     "iopub.status.idle": "2021-05-06T01:21:43.084685Z",
     "shell.execute_reply": "2021-05-06T01:21:43.084263Z",
     "shell.execute_reply.started": "2021-05-06T01:21:42.989580Z"
    },
    "tags": []
   },
   "outputs": [
    {
     "data": {
      "text/plain": [
       "(array([5399.,  555., 1557., 2127., 1913., 1257.,  344.,  100.,   35.,\n",
       "          10.]),\n",
       " array([ 0. ,  3.2,  6.4,  9.6, 12.8, 16. , 19.2, 22.4, 25.6, 28.8, 32. ]),\n",
       " <BarContainer object of 10 artists>)"
      ]
     },
     "execution_count": 62,
     "metadata": {},
     "output_type": "execute_result"
    },
    {
     "data": {
      "image/png": "[encoded data removed]",
      "text/plain": [
       "<Figure size 432x288 with 1 Axes>"
      ]
     },
     "metadata": {
      "needs_background": "light"
     },
     "output_type": "display_data"
    }
   ],
   "source": [
    "plt.hist(df['fouls_a'])"
   ]
  },
  {
   "cell_type": "code",
   "execution_count": 64,
   "metadata": {
    "execution": {
     "iopub.execute_input": "2021-05-06T01:22:06.587607Z",
     "iopub.status.busy": "2021-05-06T01:22:06.587440Z",
     "iopub.status.idle": "2021-05-06T01:22:06.677788Z",
     "shell.execute_reply": "2021-05-06T01:22:06.677406Z",
     "shell.execute_reply.started": "2021-05-06T01:22:06.587591Z"
    },
    "tags": []
   },
   "outputs": [
    {
     "data": {
      "text/plain": [
       "(array([  64.,  127.,  604., 1673., 2018., 3281., 3239., 1475.,  223.,\n",
       "         593.]),\n",
       " array([33.66666667, 36.95      , 40.23333333, 43.51666667, 46.8       ,\n",
       "        50.08333333, 53.36666667, 56.65      , 59.93333333, 63.21666667,\n",
       "        66.5       ]),\n",
       " <BarContainer object of 10 artists>)"
      ]
     },
     "execution_count": 64,
     "metadata": {},
     "output_type": "execute_result"
    },
    {
     "data": {
      "image/png": "[encoded data removed]",
      "text/plain": [
       "<Figure size 432x288 with 1 Axes>"
      ]
     },
     "metadata": {
      "needs_background": "light"
     },
     "output_type": "display_data"
    }
   ],
   "source": [
    "plt.hist(df['defenceTeamWidth_h'])"
   ]
  },
  {
   "cell_type": "code",
   "execution_count": null,
   "metadata": {},
   "outputs": [],
   "source": []
  }
 ],
 "metadata": {
  "kernelspec": {
   "display_name": "Python 3",
   "language": "python",
   "name": "python3"
  },
  "language_info": {
   "codemirror_mode": {
    "name": "ipython",
    "version": 3
   },
   "file_extension": ".py",
   "mimetype": "text/x-python",
   "name": "python",
   "nbconvert_exporter": "python",
   "pygments_lexer": "ipython3",
   "version": "3.9.4"
  }
 },
 "nbformat": 4,
 "nbformat_minor": 4
}
