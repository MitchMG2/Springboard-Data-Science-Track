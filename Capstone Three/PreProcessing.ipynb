{
 "cells": [
  {
   "cell_type": "markdown",
   "metadata": {},
   "source": [
    "### Imports"
   ]
  },
  {
   "cell_type": "code",
   "execution_count": 38,
   "metadata": {
    "execution": {
     "iopub.execute_input": "2021-05-06T23:15:55.828706Z",
     "iopub.status.busy": "2021-05-06T23:15:55.828557Z",
     "iopub.status.idle": "2021-05-06T23:15:55.834865Z",
     "shell.execute_reply": "2021-05-06T23:15:55.833134Z",
     "shell.execute_reply.started": "2021-05-06T23:15:55.828689Z"
    },
    "tags": []
   },
   "outputs": [],
   "source": [
    "import pandas as pd\n",
    "import numpy as np\n",
    "import os\n",
    "import pickle\n",
    "import matplotlib.pyplot as plt\n",
    "import seaborn as sns\n",
    "from sklearn import __version__ as sklearn_version\n",
    "from sklearn.decomposition import PCA\n",
    "from sklearn.preprocessing import scale\n",
    "from sklearn.model_selection import train_test_split, cross_validate, GridSearchCV, learning_curve\n",
    "from sklearn.preprocessing import StandardScaler, MinMaxScaler\n",
    "from sklearn.dummy import DummyRegressor\n",
    "from sklearn.ensemble import RandomForestClassifier\n",
    "from sklearn.metrics import r2_score, mean_squared_error, mean_absolute_error\n",
    "from sklearn.pipeline import make_pipeline\n",
    "from sklearn.impute import SimpleImputer\n",
    "from sklearn.feature_selection import SelectKBest, f_regression\n",
    "import datetime"
   ]
  },
  {
   "cell_type": "code",
   "execution_count": 2,
   "metadata": {
    "execution": {
     "iopub.execute_input": "2021-05-06T23:05:01.659203Z",
     "iopub.status.busy": "2021-05-06T23:05:01.659071Z",
     "iopub.status.idle": "2021-05-06T23:05:01.749008Z",
     "shell.execute_reply": "2021-05-06T23:05:01.748529Z",
     "shell.execute_reply.started": "2021-05-06T23:05:01.659186Z"
    },
    "tags": []
   },
   "outputs": [],
   "source": [
    "df = pd.read_csv('data/Final_merged_dataset_clean.csv')"
   ]
  },
  {
   "cell_type": "code",
   "execution_count": 3,
   "metadata": {
    "execution": {
     "iopub.execute_input": "2021-05-06T23:05:01.749940Z",
     "iopub.status.busy": "2021-05-06T23:05:01.749797Z",
     "iopub.status.idle": "2021-05-06T23:05:01.754110Z",
     "shell.execute_reply": "2021-05-06T23:05:01.753800Z",
     "shell.execute_reply.started": "2021-05-06T23:05:01.749924Z"
    },
    "tags": []
   },
   "outputs": [
    {
     "data": {
      "text/plain": [
       "((13297, 96),\n",
       " array(['id', 'home_team_api_id', 'away_team_api_id', 'crossing_h',\n",
       "        'finishing_h', 'heading_accuracy_h', 'short_passing_h',\n",
       "        'volleys_h', 'dribbling_h', 'curve_h', 'free_kick_accuracy_h',\n",
       "        'long_passing_h', 'ball_control_h', 'acceleration_h',\n",
       "        'sprint_speed_h', 'agility_h', 'reactions_h', 'balance_h',\n",
       "        'shot_power_h', 'jumping_h', 'stamina_h', 'strength_h',\n",
       "        'long_shots_h', 'aggression_h', 'interceptions_h', 'positioning_h',\n",
       "        'vision_h', 'penalties_h', 'marking_h', 'standing_tackle_h',\n",
       "        'sliding_tackle_h', 'gk_diving_h', 'gk_handling_h', 'gk_kicking_h',\n",
       "        'gk_positioning_h', 'gk_reflexes_h', 'crossing_a', 'finishing_a',\n",
       "        'heading_accuracy_a', 'short_passing_a', 'volleys_a',\n",
       "        'dribbling_a', 'curve_a', 'free_kick_accuracy_a', 'long_passing_a',\n",
       "        'ball_control_a', 'acceleration_a', 'sprint_speed_a', 'agility_a',\n",
       "        'reactions_a', 'balance_a', 'shot_power_a', 'jumping_a',\n",
       "        'stamina_a', 'strength_a', 'long_shots_a', 'aggression_a',\n",
       "        'interceptions_a', 'positioning_a', 'vision_a', 'penalties_a',\n",
       "        'marking_a', 'standing_tackle_a', 'sliding_tackle_a',\n",
       "        'gk_diving_a', 'gk_handling_a', 'gk_kicking_a', 'gk_positioning_a',\n",
       "        'gk_reflexes_a', 'home_strikers', 'home_midfielders',\n",
       "        'home_defenders', 'away_strikers', 'away_midfielders',\n",
       "        'away_defenders', 'match_winner', 'possession_h', 'possession_a',\n",
       "        'fouls_h', 'fouls_a', 'buildUpPlaySpeed_h', 'buildUpPlayPassing_h',\n",
       "        'chanceCreationPassing_h', 'chanceCreationCrossing_h',\n",
       "        'chanceCreationShooting_h', 'defencePressure_h',\n",
       "        'defenceAggression_h', 'defenceTeamWidth_h', 'buildUpPlaySpeed_a',\n",
       "        'buildUpPlayPassing_a', 'chanceCreationPassing_a',\n",
       "        'chanceCreationCrossing_a', 'chanceCreationShooting_a',\n",
       "        'defencePressure_a', 'defenceAggression_a', 'defenceTeamWidth_a'],\n",
       "       dtype=object))"
      ]
     },
     "execution_count": 3,
     "metadata": {},
     "output_type": "execute_result"
    }
   ],
   "source": [
    "df.shape, df.columns.values"
   ]
  },
  {
   "cell_type": "code",
   "execution_count": 4,
   "metadata": {
    "execution": {
     "iopub.execute_input": "2021-05-06T23:05:01.754865Z",
     "iopub.status.busy": "2021-05-06T23:05:01.754732Z",
     "iopub.status.idle": "2021-05-06T23:05:01.797666Z",
     "shell.execute_reply": "2021-05-06T23:05:01.797085Z",
     "shell.execute_reply.started": "2021-05-06T23:05:01.754844Z"
    },
    "tags": []
   },
   "outputs": [
    {
     "data": {
      "text/html": [
       "<div>\n",
       "<style scoped>\n",
       "    .dataframe tbody tr th:only-of-type {\n",
       "        vertical-align: middle;\n",
       "    }\n",
       "\n",
       "    .dataframe tbody tr th {\n",
       "        vertical-align: top;\n",
       "    }\n",
       "\n",
       "    .dataframe thead th {\n",
       "        text-align: right;\n",
       "    }\n",
       "</style>\n",
       "<table border=\"1\" class=\"dataframe\">\n",
       "  <thead>\n",
       "    <tr style=\"text-align: right;\">\n",
       "      <th></th>\n",
       "      <th>id</th>\n",
       "      <th>home_team_api_id</th>\n",
       "      <th>away_team_api_id</th>\n",
       "      <th>crossing_h</th>\n",
       "      <th>finishing_h</th>\n",
       "      <th>heading_accuracy_h</th>\n",
       "      <th>short_passing_h</th>\n",
       "      <th>volleys_h</th>\n",
       "      <th>dribbling_h</th>\n",
       "      <th>curve_h</th>\n",
       "      <th>...</th>\n",
       "      <th>defenceAggression_h</th>\n",
       "      <th>defenceTeamWidth_h</th>\n",
       "      <th>buildUpPlaySpeed_a</th>\n",
       "      <th>buildUpPlayPassing_a</th>\n",
       "      <th>chanceCreationPassing_a</th>\n",
       "      <th>chanceCreationCrossing_a</th>\n",
       "      <th>chanceCreationShooting_a</th>\n",
       "      <th>defencePressure_a</th>\n",
       "      <th>defenceAggression_a</th>\n",
       "      <th>defenceTeamWidth_a</th>\n",
       "    </tr>\n",
       "  </thead>\n",
       "  <tbody>\n",
       "    <tr>\n",
       "      <th>0</th>\n",
       "      <td>1729</td>\n",
       "      <td>10260</td>\n",
       "      <td>10261</td>\n",
       "      <td>81.0</td>\n",
       "      <td>72.0</td>\n",
       "      <td>81.0</td>\n",
       "      <td>81.0</td>\n",
       "      <td>79.0</td>\n",
       "      <td>79.0</td>\n",
       "      <td>79.0</td>\n",
       "      <td>...</td>\n",
       "      <td>48.000000</td>\n",
       "      <td>54.833333</td>\n",
       "      <td>58.166667</td>\n",
       "      <td>55.333333</td>\n",
       "      <td>53.500000</td>\n",
       "      <td>57.333333</td>\n",
       "      <td>49.833333</td>\n",
       "      <td>46.666667</td>\n",
       "      <td>48.333333</td>\n",
       "      <td>48.333333</td>\n",
       "    </tr>\n",
       "    <tr>\n",
       "      <th>1</th>\n",
       "      <td>1730</td>\n",
       "      <td>9825</td>\n",
       "      <td>8659</td>\n",
       "      <td>77.0</td>\n",
       "      <td>80.0</td>\n",
       "      <td>90.0</td>\n",
       "      <td>88.0</td>\n",
       "      <td>79.0</td>\n",
       "      <td>79.0</td>\n",
       "      <td>80.0</td>\n",
       "      <td>...</td>\n",
       "      <td>46.500000</td>\n",
       "      <td>50.500000</td>\n",
       "      <td>57.500000</td>\n",
       "      <td>51.500000</td>\n",
       "      <td>53.000000</td>\n",
       "      <td>56.000000</td>\n",
       "      <td>54.666667</td>\n",
       "      <td>43.000000</td>\n",
       "      <td>45.666667</td>\n",
       "      <td>54.833333</td>\n",
       "    </tr>\n",
       "    <tr>\n",
       "      <th>2</th>\n",
       "      <td>1731</td>\n",
       "      <td>8472</td>\n",
       "      <td>8650</td>\n",
       "      <td>79.0</td>\n",
       "      <td>66.0</td>\n",
       "      <td>78.0</td>\n",
       "      <td>82.0</td>\n",
       "      <td>69.0</td>\n",
       "      <td>80.0</td>\n",
       "      <td>78.0</td>\n",
       "      <td>...</td>\n",
       "      <td>52.166667</td>\n",
       "      <td>51.833333</td>\n",
       "      <td>57.666667</td>\n",
       "      <td>44.333333</td>\n",
       "      <td>41.333333</td>\n",
       "      <td>47.833333</td>\n",
       "      <td>57.333333</td>\n",
       "      <td>51.000000</td>\n",
       "      <td>52.500000</td>\n",
       "      <td>56.000000</td>\n",
       "    </tr>\n",
       "    <tr>\n",
       "      <th>3</th>\n",
       "      <td>1732</td>\n",
       "      <td>8654</td>\n",
       "      <td>8528</td>\n",
       "      <td>81.0</td>\n",
       "      <td>71.0</td>\n",
       "      <td>77.0</td>\n",
       "      <td>87.0</td>\n",
       "      <td>69.0</td>\n",
       "      <td>81.0</td>\n",
       "      <td>80.0</td>\n",
       "      <td>...</td>\n",
       "      <td>42.833333</td>\n",
       "      <td>40.166667</td>\n",
       "      <td>47.166667</td>\n",
       "      <td>50.666667</td>\n",
       "      <td>52.666667</td>\n",
       "      <td>55.500000</td>\n",
       "      <td>45.500000</td>\n",
       "      <td>50.000000</td>\n",
       "      <td>54.000000</td>\n",
       "      <td>46.000000</td>\n",
       "    </tr>\n",
       "    <tr>\n",
       "      <th>4</th>\n",
       "      <td>1734</td>\n",
       "      <td>8668</td>\n",
       "      <td>8655</td>\n",
       "      <td>74.0</td>\n",
       "      <td>80.0</td>\n",
       "      <td>74.0</td>\n",
       "      <td>83.0</td>\n",
       "      <td>77.0</td>\n",
       "      <td>80.0</td>\n",
       "      <td>78.0</td>\n",
       "      <td>...</td>\n",
       "      <td>57.500000</td>\n",
       "      <td>56.333333</td>\n",
       "      <td>52.500000</td>\n",
       "      <td>63.833333</td>\n",
       "      <td>57.000000</td>\n",
       "      <td>56.000000</td>\n",
       "      <td>42.000000</td>\n",
       "      <td>45.666667</td>\n",
       "      <td>55.000000</td>\n",
       "      <td>46.666667</td>\n",
       "    </tr>\n",
       "  </tbody>\n",
       "</table>\n",
       "<p>5 rows × 96 columns</p>\n",
       "</div>"
      ],
      "text/plain": [
       "     id  home_team_api_id  away_team_api_id  crossing_h  finishing_h  \\\n",
       "0  1729             10260             10261        81.0         72.0   \n",
       "1  1730              9825              8659        77.0         80.0   \n",
       "2  1731              8472              8650        79.0         66.0   \n",
       "3  1732              8654              8528        81.0         71.0   \n",
       "4  1734              8668              8655        74.0         80.0   \n",
       "\n",
       "   heading_accuracy_h  short_passing_h  volleys_h  dribbling_h  curve_h  ...  \\\n",
       "0                81.0             81.0       79.0         79.0     79.0  ...   \n",
       "1                90.0             88.0       79.0         79.0     80.0  ...   \n",
       "2                78.0             82.0       69.0         80.0     78.0  ...   \n",
       "3                77.0             87.0       69.0         81.0     80.0  ...   \n",
       "4                74.0             83.0       77.0         80.0     78.0  ...   \n",
       "\n",
       "   defenceAggression_h  defenceTeamWidth_h  buildUpPlaySpeed_a  \\\n",
       "0            48.000000           54.833333           58.166667   \n",
       "1            46.500000           50.500000           57.500000   \n",
       "2            52.166667           51.833333           57.666667   \n",
       "3            42.833333           40.166667           47.166667   \n",
       "4            57.500000           56.333333           52.500000   \n",
       "\n",
       "   buildUpPlayPassing_a  chanceCreationPassing_a  chanceCreationCrossing_a  \\\n",
       "0             55.333333                53.500000                 57.333333   \n",
       "1             51.500000                53.000000                 56.000000   \n",
       "2             44.333333                41.333333                 47.833333   \n",
       "3             50.666667                52.666667                 55.500000   \n",
       "4             63.833333                57.000000                 56.000000   \n",
       "\n",
       "   chanceCreationShooting_a  defencePressure_a  defenceAggression_a  \\\n",
       "0                 49.833333          46.666667            48.333333   \n",
       "1                 54.666667          43.000000            45.666667   \n",
       "2                 57.333333          51.000000            52.500000   \n",
       "3                 45.500000          50.000000            54.000000   \n",
       "4                 42.000000          45.666667            55.000000   \n",
       "\n",
       "   defenceTeamWidth_a  \n",
       "0           48.333333  \n",
       "1           54.833333  \n",
       "2           56.000000  \n",
       "3           46.000000  \n",
       "4           46.666667  \n",
       "\n",
       "[5 rows x 96 columns]"
      ]
     },
     "execution_count": 4,
     "metadata": {},
     "output_type": "execute_result"
    }
   ],
   "source": [
    "df.head(5)"
   ]
  },
  {
   "cell_type": "code",
   "execution_count": 5,
   "metadata": {
    "execution": {
     "iopub.execute_input": "2021-05-06T23:05:01.798521Z",
     "iopub.status.busy": "2021-05-06T23:05:01.798389Z",
     "iopub.status.idle": "2021-05-06T23:05:01.824144Z",
     "shell.execute_reply": "2021-05-06T23:05:01.823602Z",
     "shell.execute_reply.started": "2021-05-06T23:05:01.798503Z"
    },
    "tags": []
   },
   "outputs": [],
   "source": [
    "####pd.get_dummies(df, columns='').head()"
   ]
  },
  {
   "cell_type": "code",
   "execution_count": 6,
   "metadata": {
    "execution": {
     "iopub.execute_input": "2021-05-06T23:05:01.825969Z",
     "iopub.status.busy": "2021-05-06T23:05:01.825818Z",
     "iopub.status.idle": "2021-05-06T23:05:01.869330Z",
     "shell.execute_reply": "2021-05-06T23:05:01.868830Z",
     "shell.execute_reply.started": "2021-05-06T23:05:01.825951Z"
    },
    "tags": []
   },
   "outputs": [],
   "source": [
    "X_train, X_test, y_train, y_test = train_test_split(df.drop(columns=['match_winner', 'id']), \n",
    "                                                    df.match_winner, test_size=0.3, \n",
    "                                                    random_state=47)"
   ]
  },
  {
   "cell_type": "code",
   "execution_count": 7,
   "metadata": {
    "execution": {
     "iopub.execute_input": "2021-05-06T23:05:01.870818Z",
     "iopub.status.busy": "2021-05-06T23:05:01.870632Z",
     "iopub.status.idle": "2021-05-06T23:05:01.906995Z",
     "shell.execute_reply": "2021-05-06T23:05:01.906486Z",
     "shell.execute_reply.started": "2021-05-06T23:05:01.870795Z"
    },
    "tags": []
   },
   "outputs": [
    {
     "data": {
      "text/plain": [
       "((9307, 94), (3990, 94))"
      ]
     },
     "execution_count": 7,
     "metadata": {},
     "output_type": "execute_result"
    }
   ],
   "source": [
    "X_train.shape, X_test.shape"
   ]
  },
  {
   "cell_type": "code",
   "execution_count": 8,
   "metadata": {
    "execution": {
     "iopub.execute_input": "2021-05-06T23:05:01.907930Z",
     "iopub.status.busy": "2021-05-06T23:05:01.907764Z",
     "iopub.status.idle": "2021-05-06T23:05:01.951670Z",
     "shell.execute_reply": "2021-05-06T23:05:01.951145Z",
     "shell.execute_reply.started": "2021-05-06T23:05:01.907908Z"
    },
    "tags": []
   },
   "outputs": [
    {
     "data": {
      "text/plain": [
       "((9307,), (3990,))"
      ]
     },
     "execution_count": 8,
     "metadata": {},
     "output_type": "execute_result"
    }
   ],
   "source": [
    "y_train.shape, y_test.shape"
   ]
  },
  {
   "cell_type": "code",
   "execution_count": 9,
   "metadata": {
    "execution": {
     "iopub.execute_input": "2021-05-06T23:05:01.952691Z",
     "iopub.status.busy": "2021-05-06T23:05:01.952494Z",
     "iopub.status.idle": "2021-05-06T23:05:01.993468Z",
     "shell.execute_reply": "2021-05-06T23:05:01.993015Z",
     "shell.execute_reply.started": "2021-05-06T23:05:01.952670Z"
    },
    "tags": []
   },
   "outputs": [
    {
     "data": {
      "text/plain": [
       "home_team_api_id              int64\n",
       "away_team_api_id              int64\n",
       "crossing_h                  float64\n",
       "finishing_h                 float64\n",
       "heading_accuracy_h          float64\n",
       "                             ...   \n",
       "chanceCreationCrossing_a    float64\n",
       "chanceCreationShooting_a    float64\n",
       "defencePressure_a           float64\n",
       "defenceAggression_a         float64\n",
       "defenceTeamWidth_a          float64\n",
       "Length: 94, dtype: object"
      ]
     },
     "execution_count": 9,
     "metadata": {},
     "output_type": "execute_result"
    }
   ],
   "source": [
    "X_train.dtypes"
   ]
  },
  {
   "cell_type": "code",
   "execution_count": 10,
   "metadata": {
    "execution": {
     "iopub.execute_input": "2021-05-06T23:05:01.994516Z",
     "iopub.status.busy": "2021-05-06T23:05:01.994331Z",
     "iopub.status.idle": "2021-05-06T23:05:02.032227Z",
     "shell.execute_reply": "2021-05-06T23:05:02.031777Z",
     "shell.execute_reply.started": "2021-05-06T23:05:01.994490Z"
    },
    "tags": []
   },
   "outputs": [
    {
     "data": {
      "text/plain": [
       "home_team_api_id              int64\n",
       "away_team_api_id              int64\n",
       "crossing_h                  float64\n",
       "finishing_h                 float64\n",
       "heading_accuracy_h          float64\n",
       "                             ...   \n",
       "chanceCreationCrossing_a    float64\n",
       "chanceCreationShooting_a    float64\n",
       "defencePressure_a           float64\n",
       "defenceAggression_a         float64\n",
       "defenceTeamWidth_a          float64\n",
       "Length: 94, dtype: object"
      ]
     },
     "execution_count": 10,
     "metadata": {},
     "output_type": "execute_result"
    }
   ],
   "source": [
    "X_test.dtypes"
   ]
  },
  {
   "cell_type": "code",
   "execution_count": 11,
   "metadata": {
    "execution": {
     "iopub.execute_input": "2021-05-06T23:05:02.033316Z",
     "iopub.status.busy": "2021-05-06T23:05:02.033071Z",
     "iopub.status.idle": "2021-05-06T23:05:02.070997Z",
     "shell.execute_reply": "2021-05-06T23:05:02.070523Z",
     "shell.execute_reply.started": "2021-05-06T23:05:02.033291Z"
    },
    "tags": []
   },
   "outputs": [
    {
     "data": {
      "text/plain": [
       "1.8189534758783712"
      ]
     },
     "execution_count": 11,
     "metadata": {},
     "output_type": "execute_result"
    }
   ],
   "source": [
    "train_mean = y_train.mean()\n",
    "train_mean"
   ]
  },
  {
   "cell_type": "markdown",
   "metadata": {},
   "source": [
    "Draw most likely outcome, though this could be influence by even distribution of wins and losses for home teams"
   ]
  },
  {
   "cell_type": "code",
   "execution_count": 12,
   "metadata": {
    "execution": {
     "iopub.execute_input": "2021-05-06T23:05:02.072178Z",
     "iopub.status.busy": "2021-05-06T23:05:02.071979Z",
     "iopub.status.idle": "2021-05-06T23:05:02.115654Z",
     "shell.execute_reply": "2021-05-06T23:05:02.115117Z",
     "shell.execute_reply.started": "2021-05-06T23:05:02.072151Z"
    },
    "tags": []
   },
   "outputs": [
    {
     "data": {
      "text/plain": [
       "array([[1.81895348]])"
      ]
     },
     "execution_count": 12,
     "metadata": {},
     "output_type": "execute_result"
    }
   ],
   "source": [
    "dumb_reg = DummyRegressor(strategy='mean')\n",
    "dumb_reg.fit(X_train, y_train)\n",
    "dumb_reg.constant_"
   ]
  },
  {
   "cell_type": "code",
   "execution_count": 13,
   "metadata": {
    "execution": {
     "iopub.execute_input": "2021-05-06T23:05:02.116596Z",
     "iopub.status.busy": "2021-05-06T23:05:02.116449Z",
     "iopub.status.idle": "2021-05-06T23:05:02.198194Z",
     "shell.execute_reply": "2021-05-06T23:05:02.197802Z",
     "shell.execute_reply.started": "2021-05-06T23:05:02.116578Z"
    },
    "tags": []
   },
   "outputs": [],
   "source": [
    "X_defaults_median = X_train.median()\n",
    "X_tr = X_train.fillna(X_defaults_median)\n",
    "X_te = X_test.fillna(X_defaults_median)"
   ]
  },
  {
   "cell_type": "code",
   "execution_count": 14,
   "metadata": {
    "execution": {
     "iopub.execute_input": "2021-05-06T23:05:02.199047Z",
     "iopub.status.busy": "2021-05-06T23:05:02.198868Z",
     "iopub.status.idle": "2021-05-06T23:05:02.223682Z",
     "shell.execute_reply": "2021-05-06T23:05:02.223174Z",
     "shell.execute_reply.started": "2021-05-06T23:05:02.199032Z"
    },
    "tags": []
   },
   "outputs": [],
   "source": [
    "scaler = StandardScaler()\n",
    "scaler.fit(X_tr)\n",
    "X_tr_scaled = scaler.transform(X_train)\n",
    "X_te_scaled = scaler.transform(X_te)"
   ]
  },
  {
   "cell_type": "code",
   "execution_count": 15,
   "metadata": {
    "execution": {
     "iopub.execute_input": "2021-05-06T23:05:02.224523Z",
     "iopub.status.busy": "2021-05-06T23:05:02.224370Z",
     "iopub.status.idle": "2021-05-06T23:05:02.256792Z",
     "shell.execute_reply": "2021-05-06T23:05:02.256294Z",
     "shell.execute_reply.started": "2021-05-06T23:05:02.224506Z"
    }
   },
   "outputs": [],
   "source": [
    "from sklearn.ensemble import RandomForestClassifier"
   ]
  },
  {
   "cell_type": "code",
   "execution_count": 16,
   "metadata": {
    "execution": {
     "iopub.execute_input": "2021-05-06T23:05:02.257529Z",
     "iopub.status.busy": "2021-05-06T23:05:02.257409Z",
     "iopub.status.idle": "2021-05-06T23:05:02.292110Z",
     "shell.execute_reply": "2021-05-06T23:05:02.291382Z",
     "shell.execute_reply.started": "2021-05-06T23:05:02.257514Z"
    }
   },
   "outputs": [],
   "source": [
    "RF_model = RandomForestRegressor(n_estimators=50)"
   ]
  },
  {
   "cell_type": "code",
   "execution_count": 17,
   "metadata": {
    "execution": {
     "iopub.execute_input": "2021-05-06T23:05:02.293408Z",
     "iopub.status.busy": "2021-05-06T23:05:02.293212Z",
     "iopub.status.idle": "2021-05-06T23:05:12.751978Z",
     "shell.execute_reply": "2021-05-06T23:05:12.751626Z",
     "shell.execute_reply.started": "2021-05-06T23:05:02.293384Z"
    },
    "tags": []
   },
   "outputs": [
    {
     "data": {
      "text/plain": [
       "RandomForestRegressor(n_estimators=50)"
      ]
     },
     "execution_count": 17,
     "metadata": {},
     "output_type": "execute_result"
    }
   ],
   "source": [
    "RF_model.fit(X_tr_scaled, y_train)"
   ]
  },
  {
   "cell_type": "code",
   "execution_count": 18,
   "metadata": {
    "execution": {
     "iopub.execute_input": "2021-05-06T23:05:12.753021Z",
     "iopub.status.busy": "2021-05-06T23:05:12.752795Z",
     "iopub.status.idle": "2021-05-06T23:05:18.247848Z",
     "shell.execute_reply": "2021-05-06T23:05:18.247223Z",
     "shell.execute_reply.started": "2021-05-06T23:05:12.752996Z"
    }
   },
   "outputs": [],
   "source": [
    "cv_results = cross_validate(RF_model, X_te, y_test, scoring='neg_mean_absolute_error', cv=5, n_jobs=-1)"
   ]
  },
  {
   "cell_type": "code",
   "execution_count": 19,
   "metadata": {
    "execution": {
     "iopub.execute_input": "2021-05-06T23:05:18.248818Z",
     "iopub.status.busy": "2021-05-06T23:05:18.248688Z",
     "iopub.status.idle": "2021-05-06T23:05:18.252681Z",
     "shell.execute_reply": "2021-05-06T23:05:18.252290Z",
     "shell.execute_reply.started": "2021-05-06T23:05:18.248801Z"
    }
   },
   "outputs": [
    {
     "data": {
      "text/plain": [
       "array([-0.68982456, -0.72238095, -0.70045113, -0.71062657, -0.73857143])"
      ]
     },
     "execution_count": 19,
     "metadata": {},
     "output_type": "execute_result"
    }
   ],
   "source": [
    "cv_results['test_score']"
   ]
  },
  {
   "cell_type": "code",
   "execution_count": 20,
   "metadata": {
    "execution": {
     "iopub.execute_input": "2021-05-06T23:05:18.253816Z",
     "iopub.status.busy": "2021-05-06T23:05:18.253447Z",
     "iopub.status.idle": "2021-05-06T23:05:18.269193Z",
     "shell.execute_reply": "2021-05-06T23:05:18.268787Z",
     "shell.execute_reply.started": "2021-05-06T23:05:18.253769Z"
    },
    "tags": []
   },
   "outputs": [
    {
     "data": {
      "text/plain": [
       "array([2.22, 2.28, 2.28, ..., 2.22, 2.28, 2.22])"
      ]
     },
     "execution_count": 20,
     "metadata": {},
     "output_type": "execute_result"
    }
   ],
   "source": [
    "RF_model.predict(X_te)"
   ]
  },
  {
   "cell_type": "code",
   "execution_count": 21,
   "metadata": {
    "execution": {
     "iopub.execute_input": "2021-05-06T23:05:18.270226Z",
     "iopub.status.busy": "2021-05-06T23:05:18.270020Z",
     "iopub.status.idle": "2021-05-06T23:05:18.279225Z",
     "shell.execute_reply": "2021-05-06T23:05:18.278808Z",
     "shell.execute_reply.started": "2021-05-06T23:05:18.270206Z"
    },
    "tags": []
   },
   "outputs": [
    {
     "data": {
      "text/plain": [
       "array([0.01200102, 0.01149   , 0.0108239 , 0.01150081, 0.01400084,\n",
       "       0.00830155, 0.01013679, 0.00790254, 0.00957798, 0.01235282,\n",
       "       0.00915584, 0.00779779, 0.00992792, 0.01135109, 0.01036994,\n",
       "       0.00854157, 0.01147262, 0.00901699, 0.01212158, 0.01172731,\n",
       "       0.0123875 , 0.00909068, 0.01301968, 0.01384422, 0.00932452,\n",
       "       0.01016797, 0.01088521, 0.01082982, 0.00958032, 0.01063525,\n",
       "       0.00842772, 0.00835752, 0.01292713, 0.00761865, 0.00812492,\n",
       "       0.01057205, 0.01112465, 0.01306824, 0.0084341 , 0.01093857,\n",
       "       0.00818988, 0.00933782, 0.01108917, 0.00976667, 0.00734882,\n",
       "       0.01081295, 0.00935697, 0.01106486, 0.00922662, 0.01238828,\n",
       "       0.00965631, 0.01151841, 0.01138995, 0.01280478, 0.00840994,\n",
       "       0.01144947, 0.01332756, 0.00893918, 0.00840595, 0.009903  ,\n",
       "       0.01062252, 0.00940484, 0.00949711, 0.00834941, 0.00753072,\n",
       "       0.01262362, 0.00731996, 0.00736532, 0.00304492, 0.00375003,\n",
       "       0.00285353, 0.00335296, 0.00450091, 0.00278381, 0.01061065,\n",
       "       0.01078074, 0.0113679 , 0.01171736, 0.00975443, 0.03417059,\n",
       "       0.01393097, 0.01095551, 0.01259943, 0.01580418, 0.012369  ,\n",
       "       0.01101678, 0.0098045 , 0.02713855, 0.0115966 , 0.01271854,\n",
       "       0.01608024, 0.0173218 , 0.01442994, 0.0095164 ])"
      ]
     },
     "execution_count": 21,
     "metadata": {},
     "output_type": "execute_result"
    }
   ],
   "source": [
    "importance = RF_model.feature_importances_\n",
    "importance"
   ]
  },
  {
   "cell_type": "code",
   "execution_count": 22,
   "metadata": {
    "execution": {
     "iopub.execute_input": "2021-05-06T23:05:18.280059Z",
     "iopub.status.busy": "2021-05-06T23:05:18.279923Z",
     "iopub.status.idle": "2021-05-06T23:05:18.286675Z",
     "shell.execute_reply": "2021-05-06T23:05:18.286297Z",
     "shell.execute_reply.started": "2021-05-06T23:05:18.280042Z"
    },
    "tags": []
   },
   "outputs": [
    {
     "name": "stdout",
     "output_type": "stream",
     "text": [
      "Feature: 0, Score: 0.01200\n",
      "Feature: 1, Score: 0.01149\n",
      "Feature: 2, Score: 0.01082\n",
      "Feature: 3, Score: 0.01150\n",
      "Feature: 4, Score: 0.01400\n",
      "Feature: 5, Score: 0.00830\n",
      "Feature: 6, Score: 0.01014\n",
      "Feature: 7, Score: 0.00790\n",
      "Feature: 8, Score: 0.00958\n",
      "Feature: 9, Score: 0.01235\n",
      "Feature: 10, Score: 0.00916\n",
      "Feature: 11, Score: 0.00780\n",
      "Feature: 12, Score: 0.00993\n",
      "Feature: 13, Score: 0.01135\n",
      "Feature: 14, Score: 0.01037\n",
      "Feature: 15, Score: 0.00854\n",
      "Feature: 16, Score: 0.01147\n",
      "Feature: 17, Score: 0.00902\n",
      "Feature: 18, Score: 0.01212\n",
      "Feature: 19, Score: 0.01173\n",
      "Feature: 20, Score: 0.01239\n",
      "Feature: 21, Score: 0.00909\n",
      "Feature: 22, Score: 0.01302\n",
      "Feature: 23, Score: 0.01384\n",
      "Feature: 24, Score: 0.00932\n",
      "Feature: 25, Score: 0.01017\n",
      "Feature: 26, Score: 0.01089\n",
      "Feature: 27, Score: 0.01083\n",
      "Feature: 28, Score: 0.00958\n",
      "Feature: 29, Score: 0.01064\n",
      "Feature: 30, Score: 0.00843\n",
      "Feature: 31, Score: 0.00836\n",
      "Feature: 32, Score: 0.01293\n",
      "Feature: 33, Score: 0.00762\n",
      "Feature: 34, Score: 0.00812\n",
      "Feature: 35, Score: 0.01057\n",
      "Feature: 36, Score: 0.01112\n",
      "Feature: 37, Score: 0.01307\n",
      "Feature: 38, Score: 0.00843\n",
      "Feature: 39, Score: 0.01094\n",
      "Feature: 40, Score: 0.00819\n",
      "Feature: 41, Score: 0.00934\n",
      "Feature: 42, Score: 0.01109\n",
      "Feature: 43, Score: 0.00977\n",
      "Feature: 44, Score: 0.00735\n",
      "Feature: 45, Score: 0.01081\n",
      "Feature: 46, Score: 0.00936\n",
      "Feature: 47, Score: 0.01106\n",
      "Feature: 48, Score: 0.00923\n",
      "Feature: 49, Score: 0.01239\n",
      "Feature: 50, Score: 0.00966\n",
      "Feature: 51, Score: 0.01152\n",
      "Feature: 52, Score: 0.01139\n",
      "Feature: 53, Score: 0.01280\n",
      "Feature: 54, Score: 0.00841\n",
      "Feature: 55, Score: 0.01145\n",
      "Feature: 56, Score: 0.01333\n",
      "Feature: 57, Score: 0.00894\n",
      "Feature: 58, Score: 0.00841\n",
      "Feature: 59, Score: 0.00990\n",
      "Feature: 60, Score: 0.01062\n",
      "Feature: 61, Score: 0.00940\n",
      "Feature: 62, Score: 0.00950\n",
      "Feature: 63, Score: 0.00835\n",
      "Feature: 64, Score: 0.00753\n",
      "Feature: 65, Score: 0.01262\n",
      "Feature: 66, Score: 0.00732\n",
      "Feature: 67, Score: 0.00737\n",
      "Feature: 68, Score: 0.00304\n",
      "Feature: 69, Score: 0.00375\n",
      "Feature: 70, Score: 0.00285\n",
      "Feature: 71, Score: 0.00335\n",
      "Feature: 72, Score: 0.00450\n",
      "Feature: 73, Score: 0.00278\n",
      "Feature: 74, Score: 0.01061\n",
      "Feature: 75, Score: 0.01078\n",
      "Feature: 76, Score: 0.01137\n",
      "Feature: 77, Score: 0.01172\n",
      "Feature: 78, Score: 0.00975\n",
      "Feature: 79, Score: 0.03417\n",
      "Feature: 80, Score: 0.01393\n",
      "Feature: 81, Score: 0.01096\n",
      "Feature: 82, Score: 0.01260\n",
      "Feature: 83, Score: 0.01580\n",
      "Feature: 84, Score: 0.01237\n",
      "Feature: 85, Score: 0.01102\n",
      "Feature: 86, Score: 0.00980\n",
      "Feature: 87, Score: 0.02714\n",
      "Feature: 88, Score: 0.01160\n",
      "Feature: 89, Score: 0.01272\n",
      "Feature: 90, Score: 0.01608\n",
      "Feature: 91, Score: 0.01732\n",
      "Feature: 92, Score: 0.01443\n",
      "Feature: 93, Score: 0.00952\n"
     ]
    }
   ],
   "source": [
    "for i,v in enumerate(importance):\n",
    "\tprint('Feature: %0d, Score: %.5f' % (i,v))"
   ]
  },
  {
   "cell_type": "code",
   "execution_count": 23,
   "metadata": {
    "execution": {
     "iopub.execute_input": "2021-05-06T23:05:18.287377Z",
     "iopub.status.busy": "2021-05-06T23:05:18.287261Z",
     "iopub.status.idle": "2021-05-06T23:05:18.499370Z",
     "shell.execute_reply": "2021-05-06T23:05:18.498986Z",
     "shell.execute_reply.started": "2021-05-06T23:05:18.287362Z"
    },
    "tags": []
   },
   "outputs": [
    {
     "data": {
      "image/png": "[encoded data removed]",
      "text/plain": [
       "<Figure size 432x288 with 1 Axes>"
      ]
     },
     "metadata": {
      "needs_background": "light"
     },
     "output_type": "display_data"
    }
   ],
   "source": [
    "plt.bar([x for x in range(len(importance))], importance)\n",
    "plt.show()"
   ]
  },
  {
   "cell_type": "code",
   "execution_count": 24,
   "metadata": {
    "execution": {
     "iopub.execute_input": "2021-05-06T23:05:18.501718Z",
     "iopub.status.busy": "2021-05-06T23:05:18.501582Z",
     "iopub.status.idle": "2021-05-06T23:05:18.503673Z",
     "shell.execute_reply": "2021-05-06T23:05:18.503340Z",
     "shell.execute_reply.started": "2021-05-06T23:05:18.501703Z"
    },
    "tags": []
   },
   "outputs": [],
   "source": [
    "importance.sort()"
   ]
  },
  {
   "cell_type": "code",
   "execution_count": 25,
   "metadata": {
    "execution": {
     "iopub.execute_input": "2021-05-06T23:05:18.504587Z",
     "iopub.status.busy": "2021-05-06T23:05:18.504468Z",
     "iopub.status.idle": "2021-05-06T23:05:18.508485Z",
     "shell.execute_reply": "2021-05-06T23:05:18.508171Z",
     "shell.execute_reply.started": "2021-05-06T23:05:18.504573Z"
    },
    "tags": []
   },
   "outputs": [
    {
     "data": {
      "text/plain": [
       "array([0.00278381, 0.00285353, 0.00304492, 0.00335296, 0.00375003,\n",
       "       0.00450091, 0.00731996, 0.00734882, 0.00736532, 0.00753072,\n",
       "       0.00761865, 0.00779779, 0.00790254, 0.00812492, 0.00818988,\n",
       "       0.00830155, 0.00834941, 0.00835752, 0.00840595, 0.00840994,\n",
       "       0.00842772, 0.0084341 , 0.00854157, 0.00893918, 0.00901699,\n",
       "       0.00909068, 0.00915584, 0.00922662, 0.00932452, 0.00933782,\n",
       "       0.00935697, 0.00940484, 0.00949711, 0.0095164 , 0.00957798,\n",
       "       0.00958032, 0.00965631, 0.00975443, 0.00976667, 0.0098045 ,\n",
       "       0.009903  , 0.00992792, 0.01013679, 0.01016797, 0.01036994,\n",
       "       0.01057205, 0.01061065, 0.01062252, 0.01063525, 0.01078074,\n",
       "       0.01081295, 0.0108239 , 0.01082982, 0.01088521, 0.01093857,\n",
       "       0.01095551, 0.01101678, 0.01106486, 0.01108917, 0.01112465,\n",
       "       0.01135109, 0.0113679 , 0.01138995, 0.01144947, 0.01147262,\n",
       "       0.01149   , 0.01150081, 0.01151841, 0.0115966 , 0.01171736,\n",
       "       0.01172731, 0.01200102, 0.01212158, 0.01235282, 0.012369  ,\n",
       "       0.0123875 , 0.01238828, 0.01259943, 0.01262362, 0.01271854,\n",
       "       0.01280478, 0.01292713, 0.01301968, 0.01306824, 0.01332756,\n",
       "       0.01384422, 0.01393097, 0.01400084, 0.01442994, 0.01580418,\n",
       "       0.01608024, 0.0173218 , 0.02713855, 0.03417059])"
      ]
     },
     "execution_count": 25,
     "metadata": {},
     "output_type": "execute_result"
    }
   ],
   "source": [
    "importance"
   ]
  },
  {
   "cell_type": "code",
   "execution_count": 26,
   "metadata": {
    "execution": {
     "iopub.execute_input": "2021-05-06T23:05:18.509109Z",
     "iopub.status.busy": "2021-05-06T23:05:18.509000Z",
     "iopub.status.idle": "2021-05-06T23:05:18.512262Z",
     "shell.execute_reply": "2021-05-06T23:05:18.511776Z",
     "shell.execute_reply.started": "2021-05-06T23:05:18.509095Z"
    }
   },
   "outputs": [
    {
     "data": {
      "text/plain": [
       "'fouls_a'"
      ]
     },
     "execution_count": 26,
     "metadata": {},
     "output_type": "execute_result"
    }
   ],
   "source": [
    "df.columns[79]"
   ]
  },
  {
   "cell_type": "code",
   "execution_count": 27,
   "metadata": {
    "execution": {
     "iopub.execute_input": "2021-05-06T23:05:18.513537Z",
     "iopub.status.busy": "2021-05-06T23:05:18.513274Z",
     "iopub.status.idle": "2021-05-06T23:05:18.516891Z",
     "shell.execute_reply": "2021-05-06T23:05:18.516449Z",
     "shell.execute_reply.started": "2021-05-06T23:05:18.513515Z"
    }
   },
   "outputs": [
    {
     "data": {
      "text/plain": [
       "'defenceTeamWidth_h'"
      ]
     },
     "execution_count": 27,
     "metadata": {},
     "output_type": "execute_result"
    }
   ],
   "source": [
    "df.columns[87]"
   ]
  },
  {
   "cell_type": "code",
   "execution_count": 28,
   "metadata": {
    "execution": {
     "iopub.execute_input": "2021-05-06T23:05:18.517810Z",
     "iopub.status.busy": "2021-05-06T23:05:18.517642Z",
     "iopub.status.idle": "2021-05-06T23:05:18.673059Z",
     "shell.execute_reply": "2021-05-06T23:05:18.672603Z",
     "shell.execute_reply.started": "2021-05-06T23:05:18.517788Z"
    },
    "tags": []
   },
   "outputs": [
    {
     "data": {
      "text/plain": [
       "(array([5399.,  555., 1557., 2127., 1913., 1257.,  344.,  100.,   35.,\n",
       "          10.]),\n",
       " array([ 0. ,  3.2,  6.4,  9.6, 12.8, 16. , 19.2, 22.4, 25.6, 28.8, 32. ]),\n",
       " <BarContainer object of 10 artists>)"
      ]
     },
     "execution_count": 28,
     "metadata": {},
     "output_type": "execute_result"
    },
    {
     "data": {
      "image/png": "[encoded data removed]",
      "text/plain": [
       "<Figure size 432x288 with 1 Axes>"
      ]
     },
     "metadata": {
      "needs_background": "light"
     },
     "output_type": "display_data"
    }
   ],
   "source": [
    "plt.hist(df['fouls_a'])"
   ]
  },
  {
   "cell_type": "code",
   "execution_count": 29,
   "metadata": {
    "execution": {
     "iopub.execute_input": "2021-05-06T23:05:18.674100Z",
     "iopub.status.busy": "2021-05-06T23:05:18.673924Z",
     "iopub.status.idle": "2021-05-06T23:05:18.762063Z",
     "shell.execute_reply": "2021-05-06T23:05:18.761645Z",
     "shell.execute_reply.started": "2021-05-06T23:05:18.674077Z"
    },
    "tags": []
   },
   "outputs": [
    {
     "data": {
      "text/plain": [
       "(array([  64.,  127.,  604., 1673., 2018., 3281., 3239., 1475.,  223.,\n",
       "         593.]),\n",
       " array([33.66666667, 36.95      , 40.23333333, 43.51666667, 46.8       ,\n",
       "        50.08333333, 53.36666667, 56.65      , 59.93333333, 63.21666667,\n",
       "        66.5       ]),\n",
       " <BarContainer object of 10 artists>)"
      ]
     },
     "execution_count": 29,
     "metadata": {},
     "output_type": "execute_result"
    },
    {
     "data": {
      "image/png": "[encoded data removed]",
      "text/plain": [
       "<Figure size 432x288 with 1 Axes>"
      ]
     },
     "metadata": {
      "needs_background": "light"
     },
     "output_type": "display_data"
    }
   ],
   "source": [
    "plt.hist(df['defenceTeamWidth_h'])"
   ]
  },
  {
   "cell_type": "markdown",
   "metadata": {},
   "source": [
    "# Make The Pipeline"
   ]
  },
  {
   "cell_type": "code",
   "execution_count": 36,
   "metadata": {
    "execution": {
     "iopub.execute_input": "2021-05-06T23:13:47.011144Z",
     "iopub.status.busy": "2021-05-06T23:13:47.010947Z",
     "iopub.status.idle": "2021-05-06T23:13:47.013471Z",
     "shell.execute_reply": "2021-05-06T23:13:47.013028Z",
     "shell.execute_reply.started": "2021-05-06T23:13:47.011126Z"
    },
    "tags": []
   },
   "outputs": [],
   "source": [
    "from sklearn.svm import SVC\n",
    "from sklearn.linear_model import RidgeClassifier, LogisticRegression\n",
    "from sklearn.neighbors import KNeighborsClassifier"
   ]
  },
  {
   "cell_type": "code",
   "execution_count": 59,
   "metadata": {
    "execution": {
     "iopub.execute_input": "2021-05-07T01:12:48.012054Z",
     "iopub.status.busy": "2021-05-07T01:12:48.011905Z",
     "iopub.status.idle": "2021-05-07T01:12:48.015574Z",
     "shell.execute_reply": "2021-05-07T01:12:48.014644Z",
     "shell.execute_reply.started": "2021-05-07T01:12:48.012038Z"
    },
    "tags": []
   },
   "outputs": [],
   "source": [
    "model_list = [RandomForestClassifier(),\n",
    "    RidgeClassifier(),\n",
    "    LogisticRegression(),\n",
    "    KNeighborsClassifier(),\n",
    "    SVC()]"
   ]
  },
  {
   "cell_type": "code",
   "execution_count": 45,
   "metadata": {
    "execution": {
     "iopub.execute_input": "2021-05-07T01:08:49.494741Z",
     "iopub.status.busy": "2021-05-07T01:08:49.494502Z",
     "iopub.status.idle": "2021-05-07T01:08:49.696578Z",
     "shell.execute_reply": "2021-05-07T01:08:49.696133Z",
     "shell.execute_reply.started": "2021-05-07T01:08:49.494712Z"
    }
   },
   "outputs": [
    {
     "data": {
      "text/plain": [
       "Pipeline(steps=[('standardscaler', StandardScaler()),\n",
       "                ('pca', PCA(n_components=2))])"
      ]
     },
     "execution_count": 45,
     "metadata": {},
     "output_type": "execute_result"
    }
   ],
   "source": [
    "pipe.fit(X_train, y_train)"
   ]
  },
  {
   "cell_type": "code",
   "execution_count": 62,
   "metadata": {
    "execution": {
     "iopub.execute_input": "2021-05-07T01:15:49.221333Z",
     "iopub.status.busy": "2021-05-07T01:15:49.221169Z",
     "iopub.status.idle": "2021-05-07T01:15:49.224885Z",
     "shell.execute_reply": "2021-05-07T01:15:49.224494Z",
     "shell.execute_reply.started": "2021-05-07T01:15:49.221316Z"
    },
    "tags": []
   },
   "outputs": [],
   "source": [
    "K_fit = KNeighborsClassifier().fit(X_tr_scaled, y_train)"
   ]
  },
  {
   "cell_type": "code",
   "execution_count": 63,
   "metadata": {
    "execution": {
     "iopub.execute_input": "2021-05-07T01:15:49.582816Z",
     "iopub.status.busy": "2021-05-07T01:15:49.582669Z",
     "iopub.status.idle": "2021-05-07T01:15:50.840251Z",
     "shell.execute_reply": "2021-05-07T01:15:50.839654Z",
     "shell.execute_reply.started": "2021-05-07T01:15:49.582800Z"
    },
    "tags": []
   },
   "outputs": [],
   "source": [
    "K_cv_results = cross_validate(K_fit, X_te, y_test, scoring='neg_mean_absolute_error', cv=5, n_jobs=-1)"
   ]
  },
  {
   "cell_type": "code",
   "execution_count": 64,
   "metadata": {
    "execution": {
     "iopub.execute_input": "2021-05-07T01:15:50.868984Z",
     "iopub.status.busy": "2021-05-07T01:15:50.868858Z",
     "iopub.status.idle": "2021-05-07T01:15:50.872005Z",
     "shell.execute_reply": "2021-05-07T01:15:50.871580Z",
     "shell.execute_reply.started": "2021-05-07T01:15:50.868968Z"
    },
    "tags": []
   },
   "outputs": [
    {
     "data": {
      "text/plain": [
       "array([-0.68982456, -0.72238095, -0.70045113, -0.71062657, -0.73857143])"
      ]
     },
     "execution_count": 64,
     "metadata": {},
     "output_type": "execute_result"
    }
   ],
   "source": [
    "cv_results['test_score']"
   ]
  },
  {
   "cell_type": "code",
   "execution_count": 69,
   "metadata": {
    "execution": {
     "iopub.execute_input": "2021-05-07T01:17:52.299611Z",
     "iopub.status.busy": "2021-05-07T01:17:52.299453Z",
     "iopub.status.idle": "2021-05-07T01:17:54.702823Z",
     "shell.execute_reply": "2021-05-07T01:17:54.702406Z",
     "shell.execute_reply.started": "2021-05-07T01:17:52.299594Z"
    },
    "tags": []
   },
   "outputs": [],
   "source": [
    "k_pred = K_fit.predict(X_te)"
   ]
  },
  {
   "cell_type": "code",
   "execution_count": 72,
   "metadata": {
    "execution": {
     "iopub.execute_input": "2021-05-07T01:18:18.925376Z",
     "iopub.status.busy": "2021-05-07T01:18:18.924949Z",
     "iopub.status.idle": "2021-05-07T01:18:18.928310Z",
     "shell.execute_reply": "2021-05-07T01:18:18.927975Z",
     "shell.execute_reply.started": "2021-05-07T01:18:18.925360Z"
    },
    "tags": []
   },
   "outputs": [
    {
     "data": {
      "text/plain": [
       "array([1, 3])"
      ]
     },
     "execution_count": 72,
     "metadata": {},
     "output_type": "execute_result"
    }
   ],
   "source": [
    "np.unique(k_pred)"
   ]
  },
  {
   "cell_type": "code",
   "execution_count": 73,
   "metadata": {
    "execution": {
     "iopub.execute_input": "2021-05-07T01:18:27.855398Z",
     "iopub.status.busy": "2021-05-07T01:18:27.855232Z",
     "iopub.status.idle": "2021-05-07T01:18:27.858406Z",
     "shell.execute_reply": "2021-05-07T01:18:27.857926Z",
     "shell.execute_reply.started": "2021-05-07T01:18:27.855380Z"
    }
   },
   "outputs": [
    {
     "data": {
      "text/plain": [
       "(3990,)"
      ]
     },
     "execution_count": 73,
     "metadata": {},
     "output_type": "execute_result"
    }
   ],
   "source": [
    "k_pred.shape"
   ]
  },
  {
   "cell_type": "code",
   "execution_count": 74,
   "metadata": {
    "execution": {
     "iopub.execute_input": "2021-05-07T01:18:51.442206Z",
     "iopub.status.busy": "2021-05-07T01:18:51.441945Z",
     "iopub.status.idle": "2021-05-07T01:18:51.552744Z",
     "shell.execute_reply": "2021-05-07T01:18:51.552373Z",
     "shell.execute_reply.started": "2021-05-07T01:18:51.442176Z"
    }
   },
   "outputs": [
    {
     "data": {
      "text/plain": [
       "[<matplotlib.lines.Line2D at 0x7f8f51052d30>]"
      ]
     },
     "execution_count": 74,
     "metadata": {},
     "output_type": "execute_result"
    },
    {
     "data": {
      "image/png": "[encoded data removed]",
      "text/plain": [
       "<Figure size 432x288 with 1 Axes>"
      ]
     },
     "metadata": {
      "needs_background": "light"
     },
     "output_type": "display_data"
    }
   ],
   "source": [
    "plt.plot(k_pred)"
   ]
  },
  {
   "cell_type": "code",
   "execution_count": 77,
   "metadata": {
    "execution": {
     "iopub.execute_input": "2021-05-07T01:19:18.767838Z",
     "iopub.status.busy": "2021-05-07T01:19:18.767623Z",
     "iopub.status.idle": "2021-05-07T01:19:18.901463Z",
     "shell.execute_reply": "2021-05-07T01:19:18.901063Z",
     "shell.execute_reply.started": "2021-05-07T01:19:18.767814Z"
    },
    "tags": []
   },
   "outputs": [
    {
     "data": {
      "text/plain": [
       "(array([3977.,    0.,    0.,    0.,    0.,    0.,    0.,    0.,    0.,\n",
       "          13.]),\n",
       " array([1. , 1.2, 1.4, 1.6, 1.8, 2. , 2.2, 2.4, 2.6, 2.8, 3. ]),\n",
       " <BarContainer object of 10 artists>)"
      ]
     },
     "execution_count": 77,
     "metadata": {},
     "output_type": "execute_result"
    },
    {
     "data": {
      "image/png": "[encoded data removed]",
      "text/plain": [
       "<Figure size 432x288 with 1 Axes>"
      ]
     },
     "metadata": {
      "needs_background": "light"
     },
     "output_type": "display_data"
    }
   ],
   "source": [
    "plt.hist(k_pred)"
   ]
  },
  {
   "cell_type": "code",
   "execution_count": null,
   "metadata": {},
   "outputs": [],
   "source": [
    "###Lasso CV?Kold Prism and Koll"
   ]
  }
 ],
 "metadata": {
  "kernelspec": {
   "display_name": "Python 3",
   "language": "python",
   "name": "python3"
  },
  "language_info": {
   "codemirror_mode": {
    "name": "ipython",
    "version": 3
   },
   "file_extension": ".py",
   "mimetype": "text/x-python",
   "name": "python",
   "nbconvert_exporter": "python",
   "pygments_lexer": "ipython3",
   "version": "3.9.4"
  }
 },
 "nbformat": 4,
 "nbformat_minor": 4
}
