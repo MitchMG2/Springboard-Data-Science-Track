{
 "cells": [
  {
   "cell_type": "code",
   "execution_count": 1,
   "metadata": {},
   "outputs": [],
   "source": [
    "import pandas as pd\n",
    "import numpy as np\n",
    "import os\n",
    "import matplotlib.pyplot as plt\n",
    "import seaborn as sns\n",
    "import datetime\n",
    "import math\n",
    "import sklearn\n",
    "from sklearn.model_selection import train_test_split, TimeSeriesSplit, GridSearchCV"
   ]
  },
  {
   "cell_type": "code",
   "execution_count": 2,
   "metadata": {},
   "outputs": [],
   "source": [
    "dataset = pd.read_csv('data/all_exchanges_data_cleaned.csv')\n",
    "fourday = pd.read_csv('data/fourday.csv')"
   ]
  },
  {
   "cell_type": "code",
   "execution_count": 3,
   "metadata": {},
   "outputs": [
    {
     "data": {
      "text/plain": [
       "<bound method DataFrame.info of              Date          Open          High           Low         Close  \\\n",
       "0      2000-10-10  10569.169922  10623.549805  10488.889648  10524.400391   \n",
       "1      2000-10-10   1036.500000   1036.500000   1036.500000   1036.500000   \n",
       "2      2000-10-10  15739.389648  15739.389648  15434.740234  15554.110352   \n",
       "3      2000-10-11  10521.070313  10566.580078  10350.889648  10413.790039   \n",
       "4      2000-10-11   1009.489990   1009.489990   1009.489990   1009.489990   \n",
       "...           ...           ...           ...           ...           ...   \n",
       "19953  2020-10-07  27971.359375  28369.660156  27971.359375  28303.460938   \n",
       "19954  2020-10-07    979.710022    983.119995    974.849976    978.059998   \n",
       "19955  2020-10-07  23999.789063  24243.910156  23905.419922  24242.859375   \n",
       "19956  2020-10-07  23272.449219  23432.730469  23272.449219  23422.820313   \n",
       "19957  2020-10-08  23272.449219  23701.769531  23477.730469  23647.070313   \n",
       "\n",
       "          Adj Close        Volume  Percent Change                 Index  \n",
       "0      10524.400391  2.120700e+08       -0.416612  Dow Jones Industrial  \n",
       "1       1036.500000  0.000000e+00        0.408801           Euronext100  \n",
       "2      15554.110352  0.000000e+00       -0.888200             Hang Seng  \n",
       "3      10413.790039  3.245200e+08       -1.050990  Dow Jones Industrial  \n",
       "4       1009.489990  0.000000e+00       -2.605886           Euronext100  \n",
       "...             ...           ...             ...                   ...  \n",
       "19953  28303.460938  3.287500e+08        1.910869  Dow Jones Industrial  \n",
       "19954    978.059998  2.322297e+08       -0.104181           Euronext100  \n",
       "19955  24242.859375  1.537076e+09        1.093419             Hang Seng  \n",
       "19956  23422.820313  5.210000e+04       -0.046557            Nikkei 225  \n",
       "19957  23647.070313  0.000000e+00        0.957400            Nikkei 225  \n",
       "\n",
       "[19958 rows x 9 columns]>"
      ]
     },
     "execution_count": 3,
     "metadata": {},
     "output_type": "execute_result"
    }
   ],
   "source": [
    "dataset.info"
   ]
  },
  {
   "cell_type": "code",
   "execution_count": 4,
   "metadata": {},
   "outputs": [
    {
     "data": {
      "text/html": [
       "<div>\n",
       "<style scoped>\n",
       "    .dataframe tbody tr th:only-of-type {\n",
       "        vertical-align: middle;\n",
       "    }\n",
       "\n",
       "    .dataframe tbody tr th {\n",
       "        vertical-align: top;\n",
       "    }\n",
       "\n",
       "    .dataframe thead th {\n",
       "        text-align: right;\n",
       "    }\n",
       "</style>\n",
       "<table border=\"1\" class=\"dataframe\">\n",
       "  <thead>\n",
       "    <tr style=\"text-align: right;\">\n",
       "      <th></th>\n",
       "      <th>Open</th>\n",
       "      <th>High</th>\n",
       "      <th>Low</th>\n",
       "      <th>Close</th>\n",
       "      <th>Adj Close</th>\n",
       "      <th>Volume</th>\n",
       "      <th>Percent Change</th>\n",
       "    </tr>\n",
       "  </thead>\n",
       "  <tbody>\n",
       "    <tr>\n",
       "      <th>count</th>\n",
       "      <td>19958.000000</td>\n",
       "      <td>19958.000000</td>\n",
       "      <td>19958.000000</td>\n",
       "      <td>19958.000000</td>\n",
       "      <td>19958.000000</td>\n",
       "      <td>1.995800e+04</td>\n",
       "      <td>19958.000000</td>\n",
       "    </tr>\n",
       "    <tr>\n",
       "      <th>mean</th>\n",
       "      <td>12359.002648</td>\n",
       "      <td>12432.552746</td>\n",
       "      <td>12275.562052</td>\n",
       "      <td>12356.404874</td>\n",
       "      <td>12356.404874</td>\n",
       "      <td>4.463857e+08</td>\n",
       "      <td>0.018235</td>\n",
       "    </tr>\n",
       "    <tr>\n",
       "      <th>std</th>\n",
       "      <td>8513.927306</td>\n",
       "      <td>8558.398208</td>\n",
       "      <td>8460.504323</td>\n",
       "      <td>8510.861717</td>\n",
       "      <td>8510.861717</td>\n",
       "      <td>7.229008e+08</td>\n",
       "      <td>1.368694</td>\n",
       "    </tr>\n",
       "    <tr>\n",
       "      <th>min</th>\n",
       "      <td>427.600006</td>\n",
       "      <td>436.519989</td>\n",
       "      <td>419.489990</td>\n",
       "      <td>419.950012</td>\n",
       "      <td>419.950012</td>\n",
       "      <td>0.000000e+00</td>\n",
       "      <td>-12.926546</td>\n",
       "    </tr>\n",
       "    <tr>\n",
       "      <th>25%</th>\n",
       "      <td>1085.022461</td>\n",
       "      <td>1090.065003</td>\n",
       "      <td>1081.955017</td>\n",
       "      <td>1086.654968</td>\n",
       "      <td>1086.654968</td>\n",
       "      <td>1.347000e+05</td>\n",
       "      <td>-0.597822</td>\n",
       "    </tr>\n",
       "    <tr>\n",
       "      <th>50%</th>\n",
       "      <td>11933.995117</td>\n",
       "      <td>12011.040039</td>\n",
       "      <td>11834.734863</td>\n",
       "      <td>11932.549805</td>\n",
       "      <td>11932.549805</td>\n",
       "      <td>2.048604e+08</td>\n",
       "      <td>0.049819</td>\n",
       "    </tr>\n",
       "    <tr>\n",
       "      <th>75%</th>\n",
       "      <td>19283.262696</td>\n",
       "      <td>19401.442383</td>\n",
       "      <td>19161.534668</td>\n",
       "      <td>19287.947266</td>\n",
       "      <td>19287.947266</td>\n",
       "      <td>3.603706e+08</td>\n",
       "      <td>0.665370</td>\n",
       "    </tr>\n",
       "    <tr>\n",
       "      <th>max</th>\n",
       "      <td>33335.480469</td>\n",
       "      <td>33484.078125</td>\n",
       "      <td>32897.039063</td>\n",
       "      <td>33154.121094</td>\n",
       "      <td>33154.121094</td>\n",
       "      <td>9.799120e+09</td>\n",
       "      <td>14.347069</td>\n",
       "    </tr>\n",
       "  </tbody>\n",
       "</table>\n",
       "</div>"
      ],
      "text/plain": [
       "               Open          High           Low         Close     Adj Close  \\\n",
       "count  19958.000000  19958.000000  19958.000000  19958.000000  19958.000000   \n",
       "mean   12359.002648  12432.552746  12275.562052  12356.404874  12356.404874   \n",
       "std     8513.927306   8558.398208   8460.504323   8510.861717   8510.861717   \n",
       "min      427.600006    436.519989    419.489990    419.950012    419.950012   \n",
       "25%     1085.022461   1090.065003   1081.955017   1086.654968   1086.654968   \n",
       "50%    11933.995117  12011.040039  11834.734863  11932.549805  11932.549805   \n",
       "75%    19283.262696  19401.442383  19161.534668  19287.947266  19287.947266   \n",
       "max    33335.480469  33484.078125  32897.039063  33154.121094  33154.121094   \n",
       "\n",
       "             Volume  Percent Change  \n",
       "count  1.995800e+04    19958.000000  \n",
       "mean   4.463857e+08        0.018235  \n",
       "std    7.229008e+08        1.368694  \n",
       "min    0.000000e+00      -12.926546  \n",
       "25%    1.347000e+05       -0.597822  \n",
       "50%    2.048604e+08        0.049819  \n",
       "75%    3.603706e+08        0.665370  \n",
       "max    9.799120e+09       14.347069  "
      ]
     },
     "execution_count": 4,
     "metadata": {},
     "output_type": "execute_result"
    }
   ],
   "source": [
    "dataset.describe()"
   ]
  },
  {
   "cell_type": "code",
   "execution_count": 5,
   "metadata": {},
   "outputs": [
    {
     "data": {
      "text/plain": [
       "Index(['index', 'Date', 'Open', 'High', 'Low', 'Close', 'Adj Close',\n",
       "       'Percent Change', 'Index'],\n",
       "      dtype='object')"
      ]
     },
     "execution_count": 5,
     "metadata": {},
     "output_type": "execute_result"
    }
   ],
   "source": [
    "fourday.columns"
   ]
  },
  {
   "cell_type": "code",
   "execution_count": 6,
   "metadata": {},
   "outputs": [],
   "source": [
    "fourday.drop('index', 1, inplace=True)"
   ]
  },
  {
   "cell_type": "code",
   "execution_count": 7,
   "metadata": {},
   "outputs": [],
   "source": [
    "DJI = fourday.loc[fourday['Index'] == 'Dow Jones Industrial']\n",
    "N100 = fourday.loc[fourday['Index'] == 'Euronext100']\n",
    "HSI = fourday.loc[fourday['Index'] == 'Hang Seng']\n",
    "N225 = fourday.loc[fourday['Index'] == 'Nikkei 225']"
   ]
  },
  {
   "cell_type": "code",
   "execution_count": 8,
   "metadata": {},
   "outputs": [],
   "source": [
    "DJI = DJI.reset_index(drop=True)\n",
    "HSI = HSI.reset_index(drop=True)\n",
    "N100 = N100.reset_index(drop=True)\n",
    "N225 = N225.reset_index(drop=True)"
   ]
  },
  {
   "cell_type": "code",
   "execution_count": 9,
   "metadata": {},
   "outputs": [
    {
     "name": "stdout",
     "output_type": "stream",
     "text": [
      "(4515, 8) (4515, 8) (4515, 8) (4515, 8)\n"
     ]
    }
   ],
   "source": [
    "print(DJI.shape, HSI.shape, N100.shape, N225.shape)"
   ]
  },
  {
   "cell_type": "code",
   "execution_count": 10,
   "metadata": {},
   "outputs": [],
   "source": [
    "###\n",
    "###\n",
    "###\n",
    "###MERGE WITH DIFFERENTIATING COLUMN NAMES\n",
    "###\n",
    "###\n",
    "###"
   ]
  },
  {
   "cell_type": "code",
   "execution_count": 11,
   "metadata": {},
   "outputs": [],
   "source": [
    "Merged_df = [DJI, N100, HSI, N225]"
   ]
  },
  {
   "cell_type": "code",
   "execution_count": 12,
   "metadata": {},
   "outputs": [
    {
     "data": {
      "text/plain": [
       "Index(['Date', 'Open', 'High', 'Low', 'Close', 'Adj Close', 'Percent Change',\n",
       "       'Index'],\n",
       "      dtype='object')"
      ]
     },
     "execution_count": 12,
     "metadata": {},
     "output_type": "execute_result"
    }
   ],
   "source": [
    "DJI.columns"
   ]
  },
  {
   "cell_type": "code",
   "execution_count": 13,
   "metadata": {},
   "outputs": [
    {
     "data": {
      "text/html": [
       "<div>\n",
       "<style scoped>\n",
       "    .dataframe tbody tr th:only-of-type {\n",
       "        vertical-align: middle;\n",
       "    }\n",
       "\n",
       "    .dataframe tbody tr th {\n",
       "        vertical-align: top;\n",
       "    }\n",
       "\n",
       "    .dataframe thead th {\n",
       "        text-align: right;\n",
       "    }\n",
       "</style>\n",
       "<table border=\"1\" class=\"dataframe\">\n",
       "  <thead>\n",
       "    <tr style=\"text-align: right;\">\n",
       "      <th></th>\n",
       "      <th>Date</th>\n",
       "      <th>Open</th>\n",
       "      <th>High</th>\n",
       "      <th>Low</th>\n",
       "      <th>Close</th>\n",
       "      <th>Adj Close</th>\n",
       "      <th>Percent Change</th>\n",
       "      <th>Index</th>\n",
       "    </tr>\n",
       "  </thead>\n",
       "  <tbody>\n",
       "    <tr>\n",
       "      <th>0</th>\n",
       "      <td>2000-10-11</td>\n",
       "      <td>15376.620117</td>\n",
       "      <td>15376.620117</td>\n",
       "      <td>15073.950195</td>\n",
       "      <td>15127.000000</td>\n",
       "      <td>15127.000000</td>\n",
       "      <td>-2.745965</td>\n",
       "      <td>Hang Seng</td>\n",
       "    </tr>\n",
       "    <tr>\n",
       "      <th>1</th>\n",
       "      <td>2000-10-12</td>\n",
       "      <td>15071.919922</td>\n",
       "      <td>15244.650391</td>\n",
       "      <td>14883.320313</td>\n",
       "      <td>15074.799805</td>\n",
       "      <td>15074.799805</td>\n",
       "      <td>-0.345080</td>\n",
       "      <td>Hang Seng</td>\n",
       "    </tr>\n",
       "    <tr>\n",
       "      <th>2</th>\n",
       "      <td>2000-10-13</td>\n",
       "      <td>14679.990234</td>\n",
       "      <td>14786.040039</td>\n",
       "      <td>14494.379883</td>\n",
       "      <td>14680.500000</td>\n",
       "      <td>14680.500000</td>\n",
       "      <td>-2.615622</td>\n",
       "      <td>Hang Seng</td>\n",
       "    </tr>\n",
       "    <tr>\n",
       "      <th>3</th>\n",
       "      <td>2000-10-16</td>\n",
       "      <td>15185.679688</td>\n",
       "      <td>15284.650391</td>\n",
       "      <td>14956.879883</td>\n",
       "      <td>14973.400391</td>\n",
       "      <td>14973.400391</td>\n",
       "      <td>1.995166</td>\n",
       "      <td>Hang Seng</td>\n",
       "    </tr>\n",
       "    <tr>\n",
       "      <th>4</th>\n",
       "      <td>2000-10-17</td>\n",
       "      <td>15081.759766</td>\n",
       "      <td>15134.530273</td>\n",
       "      <td>14794.809570</td>\n",
       "      <td>14873.429688</td>\n",
       "      <td>14873.429688</td>\n",
       "      <td>-0.667655</td>\n",
       "      <td>Hang Seng</td>\n",
       "    </tr>\n",
       "    <tr>\n",
       "      <th>...</th>\n",
       "      <td>...</td>\n",
       "      <td>...</td>\n",
       "      <td>...</td>\n",
       "      <td>...</td>\n",
       "      <td>...</td>\n",
       "      <td>...</td>\n",
       "      <td>...</td>\n",
       "      <td>...</td>\n",
       "    </tr>\n",
       "    <tr>\n",
       "      <th>4510</th>\n",
       "      <td>2020-09-29</td>\n",
       "      <td>23584.609375</td>\n",
       "      <td>23601.400391</td>\n",
       "      <td>23256.919922</td>\n",
       "      <td>23275.529297</td>\n",
       "      <td>23275.529297</td>\n",
       "      <td>-0.854153</td>\n",
       "      <td>Hang Seng</td>\n",
       "    </tr>\n",
       "    <tr>\n",
       "      <th>4511</th>\n",
       "      <td>2020-09-30</td>\n",
       "      <td>23548.890625</td>\n",
       "      <td>23780.869141</td>\n",
       "      <td>23368.490234</td>\n",
       "      <td>23459.050781</td>\n",
       "      <td>23459.050781</td>\n",
       "      <td>0.788474</td>\n",
       "      <td>Hang Seng</td>\n",
       "    </tr>\n",
       "    <tr>\n",
       "      <th>4512</th>\n",
       "      <td>2020-10-05</td>\n",
       "      <td>24039.390625</td>\n",
       "      <td>24039.390625</td>\n",
       "      <td>23674.519531</td>\n",
       "      <td>23767.779297</td>\n",
       "      <td>23767.779297</td>\n",
       "      <td>1.316032</td>\n",
       "      <td>Hang Seng</td>\n",
       "    </tr>\n",
       "    <tr>\n",
       "      <th>4513</th>\n",
       "      <td>2020-10-06</td>\n",
       "      <td>23895.210938</td>\n",
       "      <td>24005.029297</td>\n",
       "      <td>23842.250000</td>\n",
       "      <td>23980.650391</td>\n",
       "      <td>23980.650391</td>\n",
       "      <td>0.895629</td>\n",
       "      <td>Hang Seng</td>\n",
       "    </tr>\n",
       "    <tr>\n",
       "      <th>4514</th>\n",
       "      <td>2020-10-07</td>\n",
       "      <td>23999.789063</td>\n",
       "      <td>24243.910156</td>\n",
       "      <td>23905.419922</td>\n",
       "      <td>24242.859375</td>\n",
       "      <td>24242.859375</td>\n",
       "      <td>1.093419</td>\n",
       "      <td>Hang Seng</td>\n",
       "    </tr>\n",
       "  </tbody>\n",
       "</table>\n",
       "<p>4515 rows × 8 columns</p>\n",
       "</div>"
      ],
      "text/plain": [
       "            Date          Open          High           Low         Close  \\\n",
       "0     2000-10-11  15376.620117  15376.620117  15073.950195  15127.000000   \n",
       "1     2000-10-12  15071.919922  15244.650391  14883.320313  15074.799805   \n",
       "2     2000-10-13  14679.990234  14786.040039  14494.379883  14680.500000   \n",
       "3     2000-10-16  15185.679688  15284.650391  14956.879883  14973.400391   \n",
       "4     2000-10-17  15081.759766  15134.530273  14794.809570  14873.429688   \n",
       "...          ...           ...           ...           ...           ...   \n",
       "4510  2020-09-29  23584.609375  23601.400391  23256.919922  23275.529297   \n",
       "4511  2020-09-30  23548.890625  23780.869141  23368.490234  23459.050781   \n",
       "4512  2020-10-05  24039.390625  24039.390625  23674.519531  23767.779297   \n",
       "4513  2020-10-06  23895.210938  24005.029297  23842.250000  23980.650391   \n",
       "4514  2020-10-07  23999.789063  24243.910156  23905.419922  24242.859375   \n",
       "\n",
       "         Adj Close  Percent Change      Index  \n",
       "0     15127.000000       -2.745965  Hang Seng  \n",
       "1     15074.799805       -0.345080  Hang Seng  \n",
       "2     14680.500000       -2.615622  Hang Seng  \n",
       "3     14973.400391        1.995166  Hang Seng  \n",
       "4     14873.429688       -0.667655  Hang Seng  \n",
       "...            ...             ...        ...  \n",
       "4510  23275.529297       -0.854153  Hang Seng  \n",
       "4511  23459.050781        0.788474  Hang Seng  \n",
       "4512  23767.779297        1.316032  Hang Seng  \n",
       "4513  23980.650391        0.895629  Hang Seng  \n",
       "4514  24242.859375        1.093419  Hang Seng  \n",
       "\n",
       "[4515 rows x 8 columns]"
      ]
     },
     "execution_count": 13,
     "metadata": {},
     "output_type": "execute_result"
    }
   ],
   "source": [
    "Merged_df[2]"
   ]
  },
  {
   "cell_type": "code",
   "execution_count": 14,
   "metadata": {},
   "outputs": [],
   "source": [
    "All_exchanges_mg = Merged_df[0].merge(Merged_df[1], how='inner', suffixes=('_Dow', '_Eur'), left_index=True, right_index=True)"
   ]
  },
  {
   "cell_type": "code",
   "execution_count": 15,
   "metadata": {},
   "outputs": [],
   "source": [
    "for column in (Merged_df[2].columns.values):\n",
    "    Merged_df[2] = Merged_df[2].rename(columns={column: column + '_HSI'})"
   ]
  },
  {
   "cell_type": "code",
   "execution_count": 16,
   "metadata": {},
   "outputs": [],
   "source": [
    "for column in (Merged_df[3].columns.values):\n",
    "    Merged_df[3] = Merged_df[3].rename(columns={column: column + '_NIK'})"
   ]
  },
  {
   "cell_type": "code",
   "execution_count": 17,
   "metadata": {},
   "outputs": [],
   "source": [
    "All_exchanges_mg = All_exchanges_mg.merge(Merged_df[2], how='inner', left_index=True, right_index=True)"
   ]
  },
  {
   "cell_type": "code",
   "execution_count": 18,
   "metadata": {},
   "outputs": [],
   "source": [
    "All_exchanges_mg = All_exchanges_mg.merge(Merged_df[3], how='inner', left_index=True, right_index=True)"
   ]
  },
  {
   "cell_type": "code",
   "execution_count": 19,
   "metadata": {},
   "outputs": [
    {
     "data": {
      "text/plain": [
       "Index(['Date_Dow', 'Open_Dow', 'High_Dow', 'Low_Dow', 'Close_Dow',\n",
       "       'Adj Close_Dow', 'Percent Change_Dow', 'Index_Dow', 'Date_Eur',\n",
       "       'Open_Eur', 'High_Eur', 'Low_Eur', 'Close_Eur', 'Adj Close_Eur',\n",
       "       'Percent Change_Eur', 'Index_Eur', 'Date_HSI', 'Open_HSI', 'High_HSI',\n",
       "       'Low_HSI', 'Close_HSI', 'Adj Close_HSI', 'Percent Change_HSI',\n",
       "       'Index_HSI', 'Date_NIK', 'Open_NIK', 'High_NIK', 'Low_NIK', 'Close_NIK',\n",
       "       'Adj Close_NIK', 'Percent Change_NIK', 'Index_NIK'],\n",
       "      dtype='object')"
      ]
     },
     "execution_count": 19,
     "metadata": {},
     "output_type": "execute_result"
    }
   ],
   "source": [
    "All_exchanges_mg.columns"
   ]
  },
  {
   "cell_type": "code",
   "execution_count": 20,
   "metadata": {},
   "outputs": [
    {
     "data": {
      "text/plain": [
       "(4515, 32)"
      ]
     },
     "execution_count": 20,
     "metadata": {},
     "output_type": "execute_result"
    }
   ],
   "source": [
    "All_exchanges_mg.shape"
   ]
  },
  {
   "cell_type": "code",
   "execution_count": 21,
   "metadata": {},
   "outputs": [
    {
     "name": "stdout",
     "output_type": "stream",
     "text": [
      "Index(['Date', 'Open', 'High', 'Low', 'Close', 'Adj Close', 'Percent Change',\n",
      "       'Index'],\n",
      "      dtype='object') 8\n"
     ]
    }
   ],
   "source": [
    "print(DJI.columns, len(DJI.columns))"
   ]
  },
  {
   "cell_type": "code",
   "execution_count": 22,
   "metadata": {},
   "outputs": [],
   "source": [
    "### Times in Greenwich Mean Time\n",
    "\n",
    "###Both day ahead\n",
    "### Japan Exchange Group / N225    12am to 6am\n",
    "### Hong Kong / Hang Seng =        1:30am to 8am\n",
    "\n",
    "###Both lag day behind locally\n",
    "### EuroNext / N100 =              8am to 4:30pm\n",
    "### NYSE / DJI =                   2:30pm to 9pm\n",
    "\n",
    "###Observations\n",
    "### Jap and Hong Kong close before EuroNext opens SAME DAY\n",
    "### Hong Kong closes RIGHT as Euronext Opens SAME DAY\n",
    "###New York and EuroNext close before Jap and Hong Kong open THE DAY BEFORE\n",
    "###NYSE is mid-dayish when EURO closes\n",
    "\n",
    "###For test case leave out NYSE in test train split and begin running models on that"
   ]
  },
  {
   "cell_type": "code",
   "execution_count": 23,
   "metadata": {},
   "outputs": [],
   "source": [
    "tscv = TimeSeriesSplit(n_splits=5)"
   ]
  },
  {
   "cell_type": "code",
   "execution_count": 24,
   "metadata": {},
   "outputs": [
    {
     "data": {
      "text/html": [
       "<div>\n",
       "<style scoped>\n",
       "    .dataframe tbody tr th:only-of-type {\n",
       "        vertical-align: middle;\n",
       "    }\n",
       "\n",
       "    .dataframe tbody tr th {\n",
       "        vertical-align: top;\n",
       "    }\n",
       "\n",
       "    .dataframe thead th {\n",
       "        text-align: right;\n",
       "    }\n",
       "</style>\n",
       "<table border=\"1\" class=\"dataframe\">\n",
       "  <thead>\n",
       "    <tr style=\"text-align: right;\">\n",
       "      <th></th>\n",
       "      <th>Date_Dow</th>\n",
       "      <th>Open_Dow</th>\n",
       "      <th>High_Dow</th>\n",
       "      <th>Low_Dow</th>\n",
       "      <th>Close_Dow</th>\n",
       "      <th>Adj Close_Dow</th>\n",
       "      <th>Percent Change_Dow</th>\n",
       "      <th>Index_Dow</th>\n",
       "    </tr>\n",
       "  </thead>\n",
       "  <tbody>\n",
       "    <tr>\n",
       "      <th>0</th>\n",
       "      <td>2000-10-11</td>\n",
       "      <td>10521.070313</td>\n",
       "      <td>10566.580078</td>\n",
       "      <td>10350.889648</td>\n",
       "      <td>10413.790039</td>\n",
       "      <td>10413.790039</td>\n",
       "      <td>-1.050990</td>\n",
       "      <td>Dow Jones Industrial</td>\n",
       "    </tr>\n",
       "    <tr>\n",
       "      <th>1</th>\n",
       "      <td>2000-10-12</td>\n",
       "      <td>10424.139648</td>\n",
       "      <td>10460.400391</td>\n",
       "      <td>10023.490234</td>\n",
       "      <td>10034.580078</td>\n",
       "      <td>10034.580078</td>\n",
       "      <td>-3.641421</td>\n",
       "      <td>Dow Jones Industrial</td>\n",
       "    </tr>\n",
       "    <tr>\n",
       "      <th>2</th>\n",
       "      <td>2000-10-13</td>\n",
       "      <td>10031.620117</td>\n",
       "      <td>10208.089844</td>\n",
       "      <td>10014.240234</td>\n",
       "      <td>10192.179688</td>\n",
       "      <td>10192.179688</td>\n",
       "      <td>1.570565</td>\n",
       "      <td>Dow Jones Industrial</td>\n",
       "    </tr>\n",
       "    <tr>\n",
       "      <th>3</th>\n",
       "      <td>2000-10-16</td>\n",
       "      <td>10184.780273</td>\n",
       "      <td>10272.089844</td>\n",
       "      <td>10177.759766</td>\n",
       "      <td>10238.799805</td>\n",
       "      <td>10238.799805</td>\n",
       "      <td>0.457411</td>\n",
       "      <td>Dow Jones Industrial</td>\n",
       "    </tr>\n",
       "    <tr>\n",
       "      <th>4</th>\n",
       "      <td>2000-10-17</td>\n",
       "      <td>10242.870117</td>\n",
       "      <td>10293.919922</td>\n",
       "      <td>10026.450195</td>\n",
       "      <td>10089.709961</td>\n",
       "      <td>10089.709961</td>\n",
       "      <td>-1.456126</td>\n",
       "      <td>Dow Jones Industrial</td>\n",
       "    </tr>\n",
       "    <tr>\n",
       "      <th>...</th>\n",
       "      <td>...</td>\n",
       "      <td>...</td>\n",
       "      <td>...</td>\n",
       "      <td>...</td>\n",
       "      <td>...</td>\n",
       "      <td>...</td>\n",
       "      <td>...</td>\n",
       "      <td>...</td>\n",
       "    </tr>\n",
       "    <tr>\n",
       "      <th>4510</th>\n",
       "      <td>2020-09-29</td>\n",
       "      <td>27560.240234</td>\n",
       "      <td>27605.599609</td>\n",
       "      <td>27338.089844</td>\n",
       "      <td>27452.660156</td>\n",
       "      <td>27452.660156</td>\n",
       "      <td>-0.476363</td>\n",
       "      <td>Dow Jones Industrial</td>\n",
       "    </tr>\n",
       "    <tr>\n",
       "      <th>4511</th>\n",
       "      <td>2020-09-30</td>\n",
       "      <td>27514.640625</td>\n",
       "      <td>28026.330078</td>\n",
       "      <td>27511.060547</td>\n",
       "      <td>27781.699219</td>\n",
       "      <td>27781.699219</td>\n",
       "      <td>1.198569</td>\n",
       "      <td>Dow Jones Industrial</td>\n",
       "    </tr>\n",
       "    <tr>\n",
       "      <th>4512</th>\n",
       "      <td>2020-10-05</td>\n",
       "      <td>27825.419922</td>\n",
       "      <td>28162.640625</td>\n",
       "      <td>27825.419922</td>\n",
       "      <td>28148.640625</td>\n",
       "      <td>28148.640625</td>\n",
       "      <td>1.682741</td>\n",
       "      <td>Dow Jones Industrial</td>\n",
       "    </tr>\n",
       "    <tr>\n",
       "      <th>4513</th>\n",
       "      <td>2020-10-06</td>\n",
       "      <td>28214.240234</td>\n",
       "      <td>28354.480469</td>\n",
       "      <td>27728.029297</td>\n",
       "      <td>27772.759766</td>\n",
       "      <td>27772.759766</td>\n",
       "      <td>-1.335343</td>\n",
       "      <td>Dow Jones Industrial</td>\n",
       "    </tr>\n",
       "    <tr>\n",
       "      <th>4514</th>\n",
       "      <td>2020-10-07</td>\n",
       "      <td>27971.359375</td>\n",
       "      <td>28369.660156</td>\n",
       "      <td>27971.359375</td>\n",
       "      <td>28303.460938</td>\n",
       "      <td>28303.460938</td>\n",
       "      <td>1.910869</td>\n",
       "      <td>Dow Jones Industrial</td>\n",
       "    </tr>\n",
       "  </tbody>\n",
       "</table>\n",
       "<p>4515 rows × 8 columns</p>\n",
       "</div>"
      ],
      "text/plain": [
       "        Date_Dow      Open_Dow      High_Dow       Low_Dow     Close_Dow  \\\n",
       "0     2000-10-11  10521.070313  10566.580078  10350.889648  10413.790039   \n",
       "1     2000-10-12  10424.139648  10460.400391  10023.490234  10034.580078   \n",
       "2     2000-10-13  10031.620117  10208.089844  10014.240234  10192.179688   \n",
       "3     2000-10-16  10184.780273  10272.089844  10177.759766  10238.799805   \n",
       "4     2000-10-17  10242.870117  10293.919922  10026.450195  10089.709961   \n",
       "...          ...           ...           ...           ...           ...   \n",
       "4510  2020-09-29  27560.240234  27605.599609  27338.089844  27452.660156   \n",
       "4511  2020-09-30  27514.640625  28026.330078  27511.060547  27781.699219   \n",
       "4512  2020-10-05  27825.419922  28162.640625  27825.419922  28148.640625   \n",
       "4513  2020-10-06  28214.240234  28354.480469  27728.029297  27772.759766   \n",
       "4514  2020-10-07  27971.359375  28369.660156  27971.359375  28303.460938   \n",
       "\n",
       "      Adj Close_Dow  Percent Change_Dow             Index_Dow  \n",
       "0      10413.790039           -1.050990  Dow Jones Industrial  \n",
       "1      10034.580078           -3.641421  Dow Jones Industrial  \n",
       "2      10192.179688            1.570565  Dow Jones Industrial  \n",
       "3      10238.799805            0.457411  Dow Jones Industrial  \n",
       "4      10089.709961           -1.456126  Dow Jones Industrial  \n",
       "...             ...                 ...                   ...  \n",
       "4510   27452.660156           -0.476363  Dow Jones Industrial  \n",
       "4511   27781.699219            1.198569  Dow Jones Industrial  \n",
       "4512   28148.640625            1.682741  Dow Jones Industrial  \n",
       "4513   27772.759766           -1.335343  Dow Jones Industrial  \n",
       "4514   28303.460938            1.910869  Dow Jones Industrial  \n",
       "\n",
       "[4515 rows x 8 columns]"
      ]
     },
     "execution_count": 24,
     "metadata": {},
     "output_type": "execute_result"
    }
   ],
   "source": [
    "All_exchanges_mg[All_exchanges_mg.columns[:8]]"
   ]
  },
  {
   "cell_type": "code",
   "execution_count": 25,
   "metadata": {},
   "outputs": [],
   "source": [
    "y = All_exchanges_mg[All_exchanges_mg.columns[:8]]"
   ]
  },
  {
   "cell_type": "code",
   "execution_count": 26,
   "metadata": {},
   "outputs": [],
   "source": [
    "X = All_exchanges_mg[All_exchanges_mg.columns[8:]]"
   ]
  },
  {
   "cell_type": "code",
   "execution_count": 27,
   "metadata": {},
   "outputs": [
    {
     "name": "stdout",
     "output_type": "stream",
     "text": [
      "(4515, 24) (4515, 8)\n"
     ]
    }
   ],
   "source": [
    "print(X.shape, y.shape)"
   ]
  },
  {
   "cell_type": "code",
   "execution_count": 28,
   "metadata": {},
   "outputs": [
    {
     "data": {
      "text/plain": [
       "<function pandas.core.series.Series.shift(self, periods=1, freq=None, axis=0, fill_value=None) -> 'Series'>"
      ]
     },
     "execution_count": 28,
     "metadata": {},
     "output_type": "execute_result"
    }
   ],
   "source": [
    "pd.Series.shift \n",
    "\n",
    "##set import above"
   ]
  },
  {
   "cell_type": "code",
   "execution_count": 29,
   "metadata": {},
   "outputs": [
    {
     "name": "stdout",
     "output_type": "stream",
     "text": [
      "TimeSeriesSplit(gap=0, max_train_size=None, n_splits=5, test_size=None)\n"
     ]
    }
   ],
   "source": [
    "print(tscv)"
   ]
  },
  {
   "cell_type": "code",
   "execution_count": 30,
   "metadata": {},
   "outputs": [
    {
     "name": "stdout",
     "output_type": "stream",
     "text": [
      "<generator object TimeSeriesSplit.split at 0x7f2efa2b8e40>\n"
     ]
    }
   ],
   "source": [
    "print(tscv.split(X))"
   ]
  },
  {
   "cell_type": "code",
   "execution_count": 31,
   "metadata": {},
   "outputs": [],
   "source": [
    "for train_index, test_index in tscv.split(X):\n",
    "    X_train, X_test = X.values[train_index], X.values[test_index]\n",
    "    y_train, y_test = y.values[train_index], y.values[test_index]"
   ]
  },
  {
   "cell_type": "code",
   "execution_count": 32,
   "metadata": {},
   "outputs": [
    {
     "name": "stdout",
     "output_type": "stream",
     "text": [
      "(3763, 24) (3763, 8) (752, 24) (752, 8)\n"
     ]
    }
   ],
   "source": [
    "print(X_train.shape, y_train.shape, X_test.shape, y_test.shape)"
   ]
  },
  {
   "cell_type": "code",
   "execution_count": 33,
   "metadata": {},
   "outputs": [],
   "source": [
    "#############\n",
    "    ####    TODO LIST\n",
    "    ####    Re-organize merge into acceptable renamed columns\n",
    "    ####    Redo y potentially? investitage\n",
    "    ####    Run model with test tran split to see if it works, no need to re-do y"
   ]
  },
  {
   "cell_type": "code",
   "execution_count": 34,
   "metadata": {},
   "outputs": [],
   "source": [
    "pd.DataFrame(X_train).to_csv('data/X_train.csv', index=False)\n",
    "pd.DataFrame(X_test).to_csv('data/X_test.csv', index=False)\n",
    "pd.DataFrame(y_train).to_csv('data/y_train.csv', index=False)\n",
    "pd.DataFrame(y_test).to_csv('data/y_test.csv', index=False)"
   ]
  }
 ],
 "metadata": {
  "kernelspec": {
   "display_name": "Python 3",
   "language": "python",
   "name": "python3"
  },
  "language_info": {
   "codemirror_mode": {
    "name": "ipython",
    "version": 3
   },
   "file_extension": ".py",
   "mimetype": "text/x-python",
   "name": "python",
   "nbconvert_exporter": "python",
   "pygments_lexer": "ipython3",
   "version": "3.9.1"
  }
 },
 "nbformat": 4,
 "nbformat_minor": 4
}
