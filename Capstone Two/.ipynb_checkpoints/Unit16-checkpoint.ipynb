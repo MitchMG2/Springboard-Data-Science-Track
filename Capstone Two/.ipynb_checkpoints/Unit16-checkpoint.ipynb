{
 "cells": [
  {
   "cell_type": "code",
   "execution_count": 17,
   "metadata": {},
   "outputs": [],
   "source": [
    "import pandas as pd\n",
    "import numpy as np\n",
    "import os\n",
    "import matplotlib.pyplot as plt\n",
    "import seaborn as sns\n",
    "import datetime\n",
    "import math\n",
    "from sklearn.model_selection import train_test_split\n",
    "from sklearn.model_selection import TimeSeriesSplit"
   ]
  },
  {
   "cell_type": "code",
   "execution_count": 4,
   "metadata": {},
   "outputs": [],
   "source": [
    "dataset = pd.read_csv('data/all_exchanges_data_cleaned.csv')"
   ]
  },
  {
   "cell_type": "code",
   "execution_count": 5,
   "metadata": {},
   "outputs": [
    {
     "data": {
      "text/plain": [
       "<bound method DataFrame.info of              Date          Open          High           Low         Close  \\\n",
       "0      2000-10-10  10569.169922  10623.549805  10488.889648  10524.400391   \n",
       "1      2000-10-10   1036.500000   1036.500000   1036.500000   1036.500000   \n",
       "2      2000-10-10  15739.389648  15739.389648  15434.740234  15554.110352   \n",
       "3      2000-10-11  10521.070313  10566.580078  10350.889648  10413.790039   \n",
       "4      2000-10-11   1009.489990   1009.489990   1009.489990   1009.489990   \n",
       "...           ...           ...           ...           ...           ...   \n",
       "19953  2020-10-07  27971.359375  28369.660156  27971.359375  28303.460938   \n",
       "19954  2020-10-07    979.710022    983.119995    974.849976    978.059998   \n",
       "19955  2020-10-07  23999.789063  24243.910156  23905.419922  24242.859375   \n",
       "19956  2020-10-07  23272.449219  23432.730469  23272.449219  23422.820313   \n",
       "19957  2020-10-08  23272.449219  23701.769531  23477.730469  23647.070313   \n",
       "\n",
       "          Adj Close        Volume  Percent Change                 Index  \n",
       "0      10524.400391  2.120700e+08       -0.416612  Dow Jones Industrial  \n",
       "1       1036.500000  0.000000e+00        0.408801           Euronext100  \n",
       "2      15554.110352  0.000000e+00       -0.888200             Hang Seng  \n",
       "3      10413.790039  3.245200e+08       -1.050990  Dow Jones Industrial  \n",
       "4       1009.489990  0.000000e+00       -2.605886           Euronext100  \n",
       "...             ...           ...             ...                   ...  \n",
       "19953  28303.460938  3.287500e+08        1.910869  Dow Jones Industrial  \n",
       "19954    978.059998  2.322297e+08       -0.104181           Euronext100  \n",
       "19955  24242.859375  1.537076e+09        1.093419             Hang Seng  \n",
       "19956  23422.820313  5.210000e+04       -0.046557            Nikkei 225  \n",
       "19957  23647.070313  0.000000e+00        0.957400            Nikkei 225  \n",
       "\n",
       "[19958 rows x 9 columns]>"
      ]
     },
     "execution_count": 5,
     "metadata": {},
     "output_type": "execute_result"
    }
   ],
   "source": [
    "dataset.info"
   ]
  },
  {
   "cell_type": "code",
   "execution_count": 7,
   "metadata": {},
   "outputs": [
    {
     "data": {
      "text/html": [
       "<div>\n",
       "<style scoped>\n",
       "    .dataframe tbody tr th:only-of-type {\n",
       "        vertical-align: middle;\n",
       "    }\n",
       "\n",
       "    .dataframe tbody tr th {\n",
       "        vertical-align: top;\n",
       "    }\n",
       "\n",
       "    .dataframe thead th {\n",
       "        text-align: right;\n",
       "    }\n",
       "</style>\n",
       "<table border=\"1\" class=\"dataframe\">\n",
       "  <thead>\n",
       "    <tr style=\"text-align: right;\">\n",
       "      <th></th>\n",
       "      <th>Open</th>\n",
       "      <th>High</th>\n",
       "      <th>Low</th>\n",
       "      <th>Close</th>\n",
       "      <th>Adj Close</th>\n",
       "      <th>Volume</th>\n",
       "      <th>Percent Change</th>\n",
       "    </tr>\n",
       "  </thead>\n",
       "  <tbody>\n",
       "    <tr>\n",
       "      <th>count</th>\n",
       "      <td>19958.000000</td>\n",
       "      <td>19958.000000</td>\n",
       "      <td>19958.000000</td>\n",
       "      <td>19958.000000</td>\n",
       "      <td>19958.000000</td>\n",
       "      <td>1.995800e+04</td>\n",
       "      <td>19958.000000</td>\n",
       "    </tr>\n",
       "    <tr>\n",
       "      <th>mean</th>\n",
       "      <td>12359.002648</td>\n",
       "      <td>12432.552746</td>\n",
       "      <td>12275.562052</td>\n",
       "      <td>12356.404874</td>\n",
       "      <td>12356.404874</td>\n",
       "      <td>4.463857e+08</td>\n",
       "      <td>0.018235</td>\n",
       "    </tr>\n",
       "    <tr>\n",
       "      <th>std</th>\n",
       "      <td>8513.927306</td>\n",
       "      <td>8558.398208</td>\n",
       "      <td>8460.504323</td>\n",
       "      <td>8510.861717</td>\n",
       "      <td>8510.861717</td>\n",
       "      <td>7.229008e+08</td>\n",
       "      <td>1.368694</td>\n",
       "    </tr>\n",
       "    <tr>\n",
       "      <th>min</th>\n",
       "      <td>427.600006</td>\n",
       "      <td>436.519989</td>\n",
       "      <td>419.489990</td>\n",
       "      <td>419.950012</td>\n",
       "      <td>419.950012</td>\n",
       "      <td>0.000000e+00</td>\n",
       "      <td>-12.926546</td>\n",
       "    </tr>\n",
       "    <tr>\n",
       "      <th>25%</th>\n",
       "      <td>1085.022461</td>\n",
       "      <td>1090.065003</td>\n",
       "      <td>1081.955017</td>\n",
       "      <td>1086.654968</td>\n",
       "      <td>1086.654968</td>\n",
       "      <td>1.347000e+05</td>\n",
       "      <td>-0.597822</td>\n",
       "    </tr>\n",
       "    <tr>\n",
       "      <th>50%</th>\n",
       "      <td>11933.995117</td>\n",
       "      <td>12011.040039</td>\n",
       "      <td>11834.734863</td>\n",
       "      <td>11932.549805</td>\n",
       "      <td>11932.549805</td>\n",
       "      <td>2.048604e+08</td>\n",
       "      <td>0.049819</td>\n",
       "    </tr>\n",
       "    <tr>\n",
       "      <th>75%</th>\n",
       "      <td>19283.262696</td>\n",
       "      <td>19401.442383</td>\n",
       "      <td>19161.534668</td>\n",
       "      <td>19287.947266</td>\n",
       "      <td>19287.947266</td>\n",
       "      <td>3.603706e+08</td>\n",
       "      <td>0.665370</td>\n",
       "    </tr>\n",
       "    <tr>\n",
       "      <th>max</th>\n",
       "      <td>33335.480469</td>\n",
       "      <td>33484.078125</td>\n",
       "      <td>32897.039063</td>\n",
       "      <td>33154.121094</td>\n",
       "      <td>33154.121094</td>\n",
       "      <td>9.799120e+09</td>\n",
       "      <td>14.347069</td>\n",
       "    </tr>\n",
       "  </tbody>\n",
       "</table>\n",
       "</div>"
      ],
      "text/plain": [
       "               Open          High           Low         Close     Adj Close  \\\n",
       "count  19958.000000  19958.000000  19958.000000  19958.000000  19958.000000   \n",
       "mean   12359.002648  12432.552746  12275.562052  12356.404874  12356.404874   \n",
       "std     8513.927306   8558.398208   8460.504323   8510.861717   8510.861717   \n",
       "min      427.600006    436.519989    419.489990    419.950012    419.950012   \n",
       "25%     1085.022461   1090.065003   1081.955017   1086.654968   1086.654968   \n",
       "50%    11933.995117  12011.040039  11834.734863  11932.549805  11932.549805   \n",
       "75%    19283.262696  19401.442383  19161.534668  19287.947266  19287.947266   \n",
       "max    33335.480469  33484.078125  32897.039063  33154.121094  33154.121094   \n",
       "\n",
       "             Volume  Percent Change  \n",
       "count  1.995800e+04    19958.000000  \n",
       "mean   4.463857e+08        0.018235  \n",
       "std    7.229008e+08        1.368694  \n",
       "min    0.000000e+00      -12.926546  \n",
       "25%    1.347000e+05       -0.597822  \n",
       "50%    2.048604e+08        0.049819  \n",
       "75%    3.603706e+08        0.665370  \n",
       "max    9.799120e+09       14.347069  "
      ]
     },
     "execution_count": 7,
     "metadata": {},
     "output_type": "execute_result"
    }
   ],
   "source": [
    "dataset.describe()"
   ]
  },
  {
   "cell_type": "code",
   "execution_count": 10,
   "metadata": {},
   "outputs": [
    {
     "data": {
      "text/plain": [
       "<AxesSubplot:>"
      ]
     },
     "execution_count": 10,
     "metadata": {},
     "output_type": "execute_result"
    },
    {
     "data": {
      "image/png": "[encoded data removed]",
      "text/plain": [
       "<Figure size 432x288 with 1 Axes>"
      ]
     },
     "metadata": {
      "needs_background": "light"
     },
     "output_type": "display_data"
    }
   ],
   "source": [
    "y.plot()"
   ]
  },
  {
   "cell_type": "code",
   "execution_count": 14,
   "metadata": {},
   "outputs": [],
   "source": [
    "DJI = dataset.loc[dataset['Index'] == 'Dow Jones Industrial']\n",
    "N100 = dataset.loc[dataset['Index'] == 'Euronext100']\n",
    "HSI = dataset.loc[dataset['Index'] == 'Hang Seng']\n",
    "N225 = dataset.loc[dataset['Index'] == 'Nikkei 225']"
   ]
  },
  {
   "cell_type": "code",
   "execution_count": 15,
   "metadata": {},
   "outputs": [],
   "source": [
    "DJI = DJI.reset_index(drop=True)\n",
    "HSI = HSI.reset_index(drop=True)\n",
    "N100 = N100.reset_index(drop=True)\n",
    "N225 = N225.reset_index(drop=True)"
   ]
  },
  {
   "cell_type": "code",
   "execution_count": 24,
   "metadata": {},
   "outputs": [
    {
     "data": {
      "text/plain": [
       "Index(['Date', 'Open', 'High', 'Low', 'Close', 'Adj Close', 'Volume',\n",
       "       'Percent Change', 'Index'],\n",
       "      dtype='object')"
      ]
     },
     "execution_count": 24,
     "metadata": {},
     "output_type": "execute_result"
    }
   ],
   "source": [
    "DJI.columns"
   ]
  },
  {
   "cell_type": "code",
   "execution_count": null,
   "metadata": {},
   "outputs": [],
   "source": [
    "### Times in Greenwich Mean Time\n",
    "\n",
    "###Both day ahead\n",
    "### Japan Exchange Group / N225    12am to 6am\n",
    "### Hong Kong / Hang Seng =        1:30am to 8am\n",
    "\n",
    "###Both lag day behind locally\n",
    "### EuroNext / N100 =              8am to 4:30pm\n",
    "### NYSE / DJI =                   2:30pm to 9pm\n",
    "\n",
    "###Observations\n",
    "### Jap and Hong Kong close before EuroNext opens SAME DAY\n",
    "### Hong Kong closes RIGHT as Euronext Opens SAME DAY\n",
    "###New York and EuroNext close before Jap and Hong Kong open THE DAY BEFORE\n",
    "###NYSE is mid-dayish when EURO closes\n",
    "\n",
    "###For test case leave out NYSE in test train split and begin running models on that"
   ]
  },
  {
   "cell_type": "code",
   "execution_count": 26,
   "metadata": {},
   "outputs": [],
   "source": [
    "tscv = TimeSeriesSplit()"
   ]
  },
  {
   "cell_type": "code",
   "execution_count": 8,
   "metadata": {},
   "outputs": [],
   "source": [
    "y = DJI['Percent Change']"
   ]
  },
  {
   "cell_type": "code",
   "execution_count": 32,
   "metadata": {},
   "outputs": [],
   "source": [
    "X = dataset.loc[dataset['Index'] != 'Dow Jones Industrial'] "
   ]
  },
  {
   "cell_type": "code",
   "execution_count": null,
   "metadata": {},
   "outputs": [],
   "source": [
    "pandas.Series.shift \n",
    "\n",
    "##set import above"
   ]
  },
  {
   "cell_type": "code",
   "execution_count": 33,
   "metadata": {},
   "outputs": [],
   "source": [
    "X2 = N100"
   ]
  },
  {
   "cell_type": "code",
   "execution_count": 30,
   "metadata": {},
   "outputs": [
    {
     "data": {
      "text/plain": [
       "pandas.core.series.Series"
      ]
     },
     "execution_count": 30,
     "metadata": {},
     "output_type": "execute_result"
    }
   ],
   "source": [
    "type(y)"
   ]
  },
  {
   "cell_type": "code",
   "execution_count": 31,
   "metadata": {},
   "outputs": [
    {
     "data": {
      "text/plain": [
       "pandas.core.frame.DataFrame"
      ]
     },
     "execution_count": 31,
     "metadata": {},
     "output_type": "execute_result"
    }
   ],
   "source": [
    "type(X)"
   ]
  },
  {
   "cell_type": "code",
   "execution_count": 23,
   "metadata": {},
   "outputs": [
    {
     "name": "stdout",
     "output_type": "stream",
     "text": [
      "TimeSeriesSplit(max_train_size=None, n_splits=5)\n"
     ]
    }
   ],
   "source": [
    "print(tscv)"
   ]
  },
  {
   "cell_type": "code",
   "execution_count": null,
   "metadata": {},
   "outputs": [],
   "source": [
    "X_train, X_test, y_train, y_test = tscv(X, y, test_size=0.20, random_state=42)"
   ]
  }
 ],
 "metadata": {
  "kernelspec": {
   "display_name": "Python 3",
   "language": "python",
   "name": "python3"
  },
  "language_info": {
   "codemirror_mode": {
    "name": "ipython",
    "version": 3
   },
   "file_extension": ".py",
   "mimetype": "text/x-python",
   "name": "python",
   "nbconvert_exporter": "python",
   "pygments_lexer": "ipython3",
   "version": "3.9.1"
  }
 },
 "nbformat": 4,
 "nbformat_minor": 4
}
