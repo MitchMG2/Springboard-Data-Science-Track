{
 "cells": [
  {
   "cell_type": "code",
   "execution_count": 1,
   "metadata": {
    "execution": {
     "iopub.execute_input": "2021-02-05T01:35:57.825711Z",
     "iopub.status.busy": "2021-02-05T01:35:57.825514Z",
     "iopub.status.idle": "2021-02-05T01:35:58.532115Z",
     "shell.execute_reply": "2021-02-05T01:35:58.531737Z",
     "shell.execute_reply.started": "2021-02-05T01:35:57.825684Z"
    }
   },
   "outputs": [],
   "source": [
    "import pandas as pd\n",
    "import numpy as np\n",
    "import os\n",
    "import matplotlib.pyplot as plt\n",
    "import seaborn as sns\n",
    "import datetime\n",
    "import math\n",
    "import sklearn\n",
    "from sklearn.metrics import mean_squared_error, r2_score\n",
    "from sklearn.model_selection import GridSearchCV, cross_val_score, TimeSeriesSplit\n",
    "from sklearn.linear_model import LinearRegression\n",
    "from sklearn.ensemble import RandomForestRegressor\n",
    "from sklearn.neighbors import KNeighborsRegressor"
   ]
  },
  {
   "cell_type": "code",
   "execution_count": 2,
   "metadata": {
    "execution": {
     "iopub.execute_input": "2021-02-05T01:35:58.532871Z",
     "iopub.status.busy": "2021-02-05T01:35:58.532747Z",
     "iopub.status.idle": "2021-02-05T01:35:58.555782Z",
     "shell.execute_reply": "2021-02-05T01:35:58.555336Z",
     "shell.execute_reply.started": "2021-02-05T01:35:58.532856Z"
    }
   },
   "outputs": [],
   "source": [
    "X_train = pd.read_csv('data/X_train.csv')\n",
    "X_test = pd.read_csv('data/X_test.csv')\n",
    "y_train = pd.read_csv('data/y_train.csv')\n",
    "y_test = pd.read_csv('data/y_test.csv')"
   ]
  },
  {
   "cell_type": "code",
   "execution_count": 3,
   "metadata": {
    "execution": {
     "iopub.execute_input": "2021-02-05T01:35:58.610733Z",
     "iopub.status.busy": "2021-02-05T01:35:58.610538Z",
     "iopub.status.idle": "2021-02-05T01:35:58.637203Z",
     "shell.execute_reply": "2021-02-05T01:35:58.636733Z",
     "shell.execute_reply.started": "2021-02-05T01:35:58.610709Z"
    }
   },
   "outputs": [],
   "source": [
    "X2_train = pd.read_csv('data/X2_train.csv')\n",
    "X2_test = pd.read_csv('data/X2_test.csv')\n",
    "y2_train = pd.read_csv('data/y2_train.csv')\n",
    "y2_test = pd.read_csv('data/y2_test.csv')"
   ]
  },
  {
   "cell_type": "code",
   "execution_count": 15,
   "metadata": {
    "execution": {
     "iopub.execute_input": "2021-02-05T01:40:45.711093Z",
     "iopub.status.busy": "2021-02-05T01:40:45.710931Z",
     "iopub.status.idle": "2021-02-05T01:40:45.714264Z",
     "shell.execute_reply": "2021-02-05T01:40:45.713787Z",
     "shell.execute_reply.started": "2021-02-05T01:40:45.711076Z"
    }
   },
   "outputs": [
    {
     "name": "stdout",
     "output_type": "stream",
     "text": [
      "(4105, 18) (4105, 1) (410, 18) (410, 1) (4104, 18) (4104, 1) (410, 18) (410, 1)\n"
     ]
    }
   ],
   "source": [
    "print(X_train.shape, y_train.shape, X_test.shape, y_test.shape, X2_train.shape, y2_train.shape, X2_test.shape, y2_test.shape)"
   ]
  },
  {
   "cell_type": "code",
   "execution_count": 20,
   "metadata": {
    "execution": {
     "iopub.execute_input": "2021-02-05T01:52:28.079489Z",
     "iopub.status.busy": "2021-02-05T01:52:28.079331Z",
     "iopub.status.idle": "2021-02-05T01:52:28.081981Z",
     "shell.execute_reply": "2021-02-05T01:52:28.081603Z",
     "shell.execute_reply.started": "2021-02-05T01:52:28.079472Z"
    }
   },
   "outputs": [],
   "source": [
    "models = []\n",
    "models.append(('LR', LinearRegression()))\n",
    "models.append(('KNN', KNeighborsRegressor()))\n",
    "models.append(('RFR', RandomForestRegressor()))\n",
    "###reshape data for RandomForestRegressor\n",
    "###boosted ntrees (xg_boost)\n",
    "###support vector machines"
   ]
  },
  {
   "cell_type": "code",
   "execution_count": 57,
   "metadata": {
    "execution": {
     "iopub.execute_input": "2021-02-05T02:17:17.153986Z",
     "iopub.status.busy": "2021-02-05T02:17:17.153833Z",
     "iopub.status.idle": "2021-02-05T02:17:43.682337Z",
     "shell.execute_reply": "2021-02-05T02:17:43.681775Z",
     "shell.execute_reply.started": "2021-02-05T02:17:17.153970Z"
    }
   },
   "outputs": [
    {
     "name": "stdout",
     "output_type": "stream",
     "text": [
      "LR: -0.797767 (0.628795)\n",
      "KNN: -1.669319 (1.253311)\n",
      "RFR: -1.182625 (0.891494)\n"
     ]
    }
   ],
   "source": [
    "results = []\n",
    "names = []\n",
    "\n",
    "for name, model in models:\n",
    "    tscv = TimeSeriesSplit(n_splits=10)\n",
    "    \n",
    "    if name != 'RFR':\n",
    "        model.fit(X_train, y_train)\n",
    "        cv_results = cross_val_score(model, X_train, y_train, cv=tscv, scoring='neg_mean_squared_error')\n",
    "    else:\n",
    "        model.fit(X_train, y_train.values.ravel())\n",
    "        cv_results = cross_val_score(model, X_train, y_train.values.ravel(), cv=tscv, scoring='neg_mean_squared_error')\n",
    "    ###scoring : neg_mean_squared_error, neg_mean_absolute_error, r2\n",
    "    names.append(name)\n",
    "    results.append(cv_results)\n",
    "    \n",
    "    print('%s: %f (%f)' % (name, cv_results.mean(), cv_results.std()))"
   ]
  },
  {
   "cell_type": "code",
   "execution_count": 37,
   "metadata": {
    "execution": {
     "iopub.execute_input": "2021-02-05T01:58:53.916403Z",
     "iopub.status.busy": "2021-02-05T01:58:53.916246Z",
     "iopub.status.idle": "2021-02-05T01:58:54.012064Z",
     "shell.execute_reply": "2021-02-05T01:58:54.011457Z",
     "shell.execute_reply.started": "2021-02-05T01:58:53.916387Z"
    }
   },
   "outputs": [
    {
     "data": {
      "image/png": "[encoded data removed]",
      "text/plain": [
       "<Figure size 432x288 with 1 Axes>"
      ]
     },
     "metadata": {
      "needs_background": "light"
     },
     "output_type": "display_data"
    }
   ],
   "source": [
    "# Compare Algorithms\n",
    "plt.boxplot(results, labels=names)\n",
    "plt.title('Algorithm Comparison')\n",
    "plt.show()"
   ]
  },
  {
   "cell_type": "code",
   "execution_count": 38,
   "metadata": {
    "execution": {
     "iopub.execute_input": "2021-02-05T01:58:54.393196Z",
     "iopub.status.busy": "2021-02-05T01:58:54.393029Z",
     "iopub.status.idle": "2021-02-05T01:58:54.396623Z",
     "shell.execute_reply": "2021-02-05T01:58:54.396084Z",
     "shell.execute_reply.started": "2021-02-05T01:58:54.393178Z"
    }
   },
   "outputs": [
    {
     "data": {
      "text/plain": [
       "[('LR', LinearRegression()),\n",
       " ('KNN', KNeighborsRegressor()),\n",
       " ('RFR', RandomForestRegressor())]"
      ]
     },
     "execution_count": 38,
     "metadata": {},
     "output_type": "execute_result"
    }
   ],
   "source": [
    "models"
   ]
  },
  {
   "cell_type": "code",
   "execution_count": 39,
   "metadata": {
    "execution": {
     "iopub.execute_input": "2021-02-05T01:58:54.931139Z",
     "iopub.status.busy": "2021-02-05T01:58:54.930860Z",
     "iopub.status.idle": "2021-02-05T01:58:55.021508Z",
     "shell.execute_reply": "2021-02-05T01:58:55.020881Z",
     "shell.execute_reply.started": "2021-02-05T01:58:54.931108Z"
    }
   },
   "outputs": [
    {
     "data": {
      "text/plain": [
       "<matplotlib.collections.PathCollection at 0x7f1499120190>"
      ]
     },
     "execution_count": 39,
     "metadata": {},
     "output_type": "execute_result"
    },
    {
     "data": {
      "image/png": "[encoded data removed]",
      "text/plain": [
       "<Figure size 432x288 with 1 Axes>"
      ]
     },
     "metadata": {
      "needs_background": "light"
     },
     "output_type": "display_data"
    }
   ],
   "source": [
    "y_pred_LR = models[0][1].predict(X_test)\n",
    "plt.scatter(y_test, y_pred_LR)"
   ]
  },
  {
   "cell_type": "code",
   "execution_count": 40,
   "metadata": {
    "execution": {
     "iopub.execute_input": "2021-02-05T01:58:55.206258Z",
     "iopub.status.busy": "2021-02-05T01:58:55.206104Z",
     "iopub.status.idle": "2021-02-05T01:58:55.335560Z",
     "shell.execute_reply": "2021-02-05T01:58:55.335008Z",
     "shell.execute_reply.started": "2021-02-05T01:58:55.206242Z"
    }
   },
   "outputs": [
    {
     "data": {
      "text/plain": [
       "<matplotlib.collections.PathCollection at 0x7f14990721c0>"
      ]
     },
     "execution_count": 40,
     "metadata": {},
     "output_type": "execute_result"
    },
    {
     "data": {
      "image/png": "[encoded data removed]",
      "text/plain": [
       "<Figure size 432x288 with 1 Axes>"
      ]
     },
     "metadata": {
      "needs_background": "light"
     },
     "output_type": "display_data"
    }
   ],
   "source": [
    "y_predK = models[1][1].predict(X_test)\n",
    "plt.scatter(y_test, y_predK)\n",
    "####Hyper parameters"
   ]
  },
  {
   "cell_type": "code",
   "execution_count": 41,
   "metadata": {
    "execution": {
     "iopub.execute_input": "2021-02-05T01:58:55.424851Z",
     "iopub.status.busy": "2021-02-05T01:58:55.424731Z",
     "iopub.status.idle": "2021-02-05T01:58:55.539447Z",
     "shell.execute_reply": "2021-02-05T01:58:55.538860Z",
     "shell.execute_reply.started": "2021-02-05T01:58:55.424836Z"
    }
   },
   "outputs": [
    {
     "data": {
      "text/plain": [
       "<matplotlib.collections.PathCollection at 0x7f149903dd30>"
      ]
     },
     "execution_count": 41,
     "metadata": {},
     "output_type": "execute_result"
    },
    {
     "data": {
      "image/png": "[encoded data removed]",
      "text/plain": [
       "<Figure size 432x288 with 1 Axes>"
      ]
     },
     "metadata": {
      "needs_background": "light"
     },
     "output_type": "display_data"
    }
   ],
   "source": [
    "y_predRF = models[2][1].predict(X_test)\n",
    "plt.scatter(y_test, y_predRF)"
   ]
  },
  {
   "cell_type": "code",
   "execution_count": 42,
   "metadata": {
    "execution": {
     "iopub.execute_input": "2021-02-05T01:58:55.676765Z",
     "iopub.status.busy": "2021-02-05T01:58:55.676591Z",
     "iopub.status.idle": "2021-02-05T01:58:55.678761Z",
     "shell.execute_reply": "2021-02-05T01:58:55.678268Z",
     "shell.execute_reply.started": "2021-02-05T01:58:55.676747Z"
    }
   },
   "outputs": [],
   "source": [
    "###find best base model\n",
    "###improve other mldels with hyperparameter\n",
    "#### find best model"
   ]
  },
  {
   "cell_type": "code",
   "execution_count": 43,
   "metadata": {
    "execution": {
     "iopub.execute_input": "2021-02-05T01:58:56.030926Z",
     "iopub.status.busy": "2021-02-05T01:58:56.030697Z",
     "iopub.status.idle": "2021-02-05T01:58:56.033338Z",
     "shell.execute_reply": "2021-02-05T01:58:56.032710Z",
     "shell.execute_reply.started": "2021-02-05T01:58:56.030907Z"
    }
   },
   "outputs": [],
   "source": [
    "###two results based on shifted time"
   ]
  },
  {
   "cell_type": "markdown",
   "metadata": {},
   "source": [
    "Best Base Model so far seems to be random forrest regressor"
   ]
  },
  {
   "cell_type": "code",
   "execution_count": 56,
   "metadata": {
    "execution": {
     "iopub.execute_input": "2021-02-05T02:15:52.952289Z",
     "iopub.status.busy": "2021-02-05T02:15:52.952069Z",
     "iopub.status.idle": "2021-02-05T02:15:52.955977Z",
     "shell.execute_reply": "2021-02-05T02:15:52.955453Z",
     "shell.execute_reply.started": "2021-02-05T02:15:52.952267Z"
    }
   },
   "outputs": [
    {
     "name": "stdout",
     "output_type": "stream",
     "text": [
      "LR {'copy_X': True, 'fit_intercept': True, 'n_jobs': None, 'normalize': False, 'positive': False}\n",
      "KNN {'algorithm': 'auto', 'leaf_size': 30, 'metric': 'minkowski', 'metric_params': None, 'n_jobs': None, 'n_neighbors': 5, 'p': 2, 'weights': 'uniform'}\n",
      "RFR {'bootstrap': True, 'ccp_alpha': 0.0, 'criterion': 'mse', 'max_depth': None, 'max_features': 'auto', 'max_leaf_nodes': None, 'max_samples': None, 'min_impurity_decrease': 0.0, 'min_impurity_split': None, 'min_samples_leaf': 1, 'min_samples_split': 2, 'min_weight_fraction_leaf': 0.0, 'n_estimators': 100, 'n_jobs': None, 'oob_score': False, 'random_state': None, 'verbose': 0, 'warm_start': False}\n"
     ]
    }
   ],
   "source": [
    "for name, model in models:\n",
    "    print(name, model.get_params())"
   ]
  },
  {
   "cell_type": "code",
   "execution_count": null,
   "metadata": {},
   "outputs": [],
   "source": [
    "model = KNeighborsRegressor()\n",
    "param_search = {'n_neighbors' : [1, 5, ]"
   ]
  },
  {
   "cell_type": "code",
   "execution_count": 63,
   "metadata": {
    "execution": {
     "iopub.execute_input": "2021-02-05T02:22:03.835943Z",
     "iopub.status.busy": "2021-02-05T02:22:03.835786Z",
     "iopub.status.idle": "2021-02-05T02:22:42.658868Z",
     "shell.execute_reply": "2021-02-05T02:22:42.658492Z",
     "shell.execute_reply.started": "2021-02-05T02:22:03.835927Z"
    }
   },
   "outputs": [
    {
     "name": "stdout",
     "output_type": "stream",
     "text": [
      "-1.2212287078232538 RandomForestRegressor(n_estimators=50)\n"
     ]
    }
   ],
   "source": [
    "model = RandomForestRegressor()\n",
    "param_search = {'n_estimators' : [20, 50, 100]}\n",
    "gsearch = GridSearchCV(estimator=model, cv=tscv, param_grid=param_search, scoring = 'neg_mean_squared_error')\n",
    "gsearch.fit(X_train, y_train.values.ravel())          \n",
    "best_score = gsearch.best_score_\n",
    "best_model = gsearch.best_estimator_\n",
    "print(best_score, best_model)"
   ]
  },
  {
   "cell_type": "code",
   "execution_count": null,
   "metadata": {},
   "outputs": [],
   "source": []
  }
 ],
 "metadata": {
  "kernelspec": {
   "display_name": "Python 3",
   "language": "python",
   "name": "python3"
  },
  "language_info": {
   "codemirror_mode": {
    "name": "ipython",
    "version": 3
   },
   "file_extension": ".py",
   "mimetype": "text/x-python",
   "name": "python",
   "nbconvert_exporter": "python",
   "pygments_lexer": "ipython3",
   "version": "3.9.1"
  }
 },
 "nbformat": 4,
 "nbformat_minor": 4
}
