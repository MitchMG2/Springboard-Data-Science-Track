{
 "cells": [
  {
   "cell_type": "code",
   "execution_count": 1,
   "metadata": {
    "execution": {
     "iopub.execute_input": "2021-02-05T20:00:25.548068Z",
     "iopub.status.busy": "2021-02-05T20:00:25.547944Z",
     "iopub.status.idle": "2021-02-05T20:00:26.239800Z",
     "shell.execute_reply": "2021-02-05T20:00:26.239353Z",
     "shell.execute_reply.started": "2021-02-05T20:00:25.548052Z"
    }
   },
   "outputs": [],
   "source": [
    "import pandas as pd\n",
    "import numpy as np\n",
    "import os\n",
    "import matplotlib.pyplot as plt\n",
    "import seaborn as sns\n",
    "import datetime\n",
    "import math\n",
    "import sklearn\n",
    "from sklearn.metrics import mean_squared_error, r2_score\n",
    "from sklearn.model_selection import GridSearchCV, cross_val_score, TimeSeriesSplit\n",
    "from sklearn.linear_model import LinearRegression\n",
    "from sklearn.ensemble import RandomForestRegressor\n",
    "from sklearn.neighbors import KNeighborsRegressor\n",
    "from xgboost import XGBRegressor"
   ]
  },
  {
   "cell_type": "code",
   "execution_count": 2,
   "metadata": {
    "execution": {
     "iopub.execute_input": "2021-02-05T20:00:26.240623Z",
     "iopub.status.busy": "2021-02-05T20:00:26.240481Z",
     "iopub.status.idle": "2021-02-05T20:00:26.266518Z",
     "shell.execute_reply": "2021-02-05T20:00:26.266007Z",
     "shell.execute_reply.started": "2021-02-05T20:00:26.240605Z"
    }
   },
   "outputs": [],
   "source": [
    "X_train = pd.read_csv('data/X_train.csv')\n",
    "X_test = pd.read_csv('data/X_test.csv')\n",
    "y_train = pd.read_csv('data/y_train.csv')\n",
    "y_test = pd.read_csv('data/y_test.csv')"
   ]
  },
  {
   "cell_type": "code",
   "execution_count": 3,
   "metadata": {
    "execution": {
     "iopub.execute_input": "2021-02-05T20:00:26.267414Z",
     "iopub.status.busy": "2021-02-05T20:00:26.267259Z",
     "iopub.status.idle": "2021-02-05T20:00:26.289125Z",
     "shell.execute_reply": "2021-02-05T20:00:26.288751Z",
     "shell.execute_reply.started": "2021-02-05T20:00:26.267391Z"
    }
   },
   "outputs": [],
   "source": [
    "X2_train = pd.read_csv('data/X2_train.csv')\n",
    "X2_test = pd.read_csv('data/X2_test.csv')\n",
    "y2_train = pd.read_csv('data/y2_train.csv')\n",
    "y2_test = pd.read_csv('data/y2_test.csv')"
   ]
  },
  {
   "cell_type": "code",
   "execution_count": 4,
   "metadata": {
    "execution": {
     "iopub.execute_input": "2021-02-05T20:00:26.289854Z",
     "iopub.status.busy": "2021-02-05T20:00:26.289728Z",
     "iopub.status.idle": "2021-02-05T20:00:26.293600Z",
     "shell.execute_reply": "2021-02-05T20:00:26.293150Z",
     "shell.execute_reply.started": "2021-02-05T20:00:26.289838Z"
    }
   },
   "outputs": [
    {
     "name": "stdout",
     "output_type": "stream",
     "text": [
      "(4105, 18) (4105, 1) (410, 18) (410, 1) (4104, 18) (4104, 1) (410, 18) (410, 1)\n"
     ]
    }
   ],
   "source": [
    "print(X_train.shape, y_train.shape, X_test.shape, y_test.shape, X2_train.shape, y2_train.shape, X2_test.shape, y2_test.shape)"
   ]
  },
  {
   "cell_type": "code",
   "execution_count": 5,
   "metadata": {
    "execution": {
     "iopub.execute_input": "2021-02-05T20:00:26.294673Z",
     "iopub.status.busy": "2021-02-05T20:00:26.294536Z",
     "iopub.status.idle": "2021-02-05T20:00:26.307168Z",
     "shell.execute_reply": "2021-02-05T20:00:26.306759Z",
     "shell.execute_reply.started": "2021-02-05T20:00:26.294655Z"
    }
   },
   "outputs": [],
   "source": [
    "models = []\n",
    "models.append(('LR', LinearRegression()))\n",
    "models.append(('KNN', KNeighborsRegressor()))\n",
    "models.append(('XGB', XGBRegressor()))\n",
    "models.append(('RFR', RandomForestRegressor()))\n",
    "###boosted ntrees (xg_boost)"
   ]
  },
  {
   "cell_type": "code",
   "execution_count": 6,
   "metadata": {
    "execution": {
     "iopub.execute_input": "2021-02-05T20:00:26.308561Z",
     "iopub.status.busy": "2021-02-05T20:00:26.308359Z",
     "iopub.status.idle": "2021-02-05T20:00:57.891770Z",
     "shell.execute_reply": "2021-02-05T20:00:57.891277Z",
     "shell.execute_reply.started": "2021-02-05T20:00:26.308533Z"
    }
   },
   "outputs": [
    {
     "name": "stdout",
     "output_type": "stream",
     "text": [
      "LR: -0.797767 (0.628795)\n",
      "KNN: -1.669319 (1.253311)\n",
      "XGB: -1.460775 (1.113711)\n",
      "RFR: -1.188712 (0.889926)\n"
     ]
    }
   ],
   "source": [
    "results = []\n",
    "names = []\n",
    "\n",
    "for name, model in models:\n",
    "    tscv = TimeSeriesSplit(n_splits=10)\n",
    "    \n",
    "    if name != 'RFR':\n",
    "        model.fit(X_train, y_train)\n",
    "        cv_results = cross_val_score(model, X_train, y_train, cv=tscv, scoring='neg_mean_squared_error')\n",
    "    else:\n",
    "        model.fit(X_train, y_train.values.ravel())\n",
    "        cv_results = cross_val_score(model, X_train, y_train.values.ravel(), cv=tscv, scoring='neg_mean_squared_error')\n",
    "    ###scoring : neg_mean_squared_error, neg_mean_absolute_error, r2\n",
    "    names.append(name)\n",
    "    results.append(cv_results)\n",
    "    \n",
    "    print('%s: %f (%f)' % (name, cv_results.mean(), cv_results.std()))"
   ]
  },
  {
   "cell_type": "code",
   "execution_count": 7,
   "metadata": {
    "execution": {
     "iopub.execute_input": "2021-02-05T20:00:57.892763Z",
     "iopub.status.busy": "2021-02-05T20:00:57.892632Z",
     "iopub.status.idle": "2021-02-05T20:00:58.011910Z",
     "shell.execute_reply": "2021-02-05T20:00:58.011477Z",
     "shell.execute_reply.started": "2021-02-05T20:00:57.892746Z"
    }
   },
   "outputs": [
    {
     "data": {
      "image/png": "[encoded data removed]",
      "text/plain": [
       "<Figure size 432x288 with 1 Axes>"
      ]
     },
     "metadata": {
      "needs_background": "light"
     },
     "output_type": "display_data"
    }
   ],
   "source": [
    "# Compare Algorithms\n",
    "plt.boxplot(results, labels=names)\n",
    "plt.title('Algorithm Comparison')\n",
    "plt.show()"
   ]
  },
  {
   "cell_type": "code",
   "execution_count": 8,
   "metadata": {
    "execution": {
     "iopub.execute_input": "2021-02-05T20:00:58.012910Z",
     "iopub.status.busy": "2021-02-05T20:00:58.012724Z",
     "iopub.status.idle": "2021-02-05T20:00:58.476237Z",
     "shell.execute_reply": "2021-02-05T20:00:58.475657Z",
     "shell.execute_reply.started": "2021-02-05T20:00:58.012887Z"
    }
   },
   "outputs": [
    {
     "data": {
      "image/png": "[encoded data removed]",
      "text/plain": [
       "<Figure size 432x288 with 1 Axes>"
      ]
     },
     "metadata": {
      "needs_background": "light"
     },
     "output_type": "display_data"
    },
    {
     "data": {
      "image/png": "[encoded data removed]",
      "text/plain": [
       "<Figure size 432x288 with 1 Axes>"
      ]
     },
     "metadata": {
      "needs_background": "light"
     },
     "output_type": "display_data"
    },
    {
     "data": {
      "image/png": "[encoded data removed]",
      "text/plain": [
       "<Figure size 432x288 with 1 Axes>"
      ]
     },
     "metadata": {
      "needs_background": "light"
     },
     "output_type": "display_data"
    },
    {
     "data": {
      "image/png": "[encoded data removed]",
      "text/plain": [
       "<Figure size 432x288 with 1 Axes>"
      ]
     },
     "metadata": {
      "needs_background": "light"
     },
     "output_type": "display_data"
    }
   ],
   "source": [
    "for i in range(len(models)):\n",
    "    plt.figure()\n",
    "    y_pred_LR = models[i][1].predict(X_test)\n",
    "    plt.scatter(y_test, y_pred_LR)\n",
    "    plt.title(models[i][0])\n",
    "    plt.show()"
   ]
  },
  {
   "cell_type": "markdown",
   "metadata": {},
   "source": [
    "Best Base Model so far seems to be random forrest regressor"
   ]
  },
  {
   "cell_type": "code",
   "execution_count": 9,
   "metadata": {
    "execution": {
     "iopub.execute_input": "2021-02-05T20:00:58.477353Z",
     "iopub.status.busy": "2021-02-05T20:00:58.477166Z",
     "iopub.status.idle": "2021-02-05T20:00:58.481965Z",
     "shell.execute_reply": "2021-02-05T20:00:58.481383Z",
     "shell.execute_reply.started": "2021-02-05T20:00:58.477330Z"
    }
   },
   "outputs": [
    {
     "name": "stdout",
     "output_type": "stream",
     "text": [
      "LR {'copy_X': True, 'fit_intercept': True, 'n_jobs': None, 'normalize': False, 'positive': False}\n",
      "KNN {'algorithm': 'auto', 'leaf_size': 30, 'metric': 'minkowski', 'metric_params': None, 'n_jobs': None, 'n_neighbors': 5, 'p': 2, 'weights': 'uniform'}\n",
      "XGB {'objective': 'reg:squarederror', 'base_score': 0.5, 'booster': 'gbtree', 'colsample_bylevel': 1, 'colsample_bynode': 1, 'colsample_bytree': 1, 'gamma': 0, 'gpu_id': -1, 'importance_type': 'gain', 'interaction_constraints': '', 'learning_rate': 0.300000012, 'max_delta_step': 0, 'max_depth': 6, 'min_child_weight': 1, 'missing': nan, 'monotone_constraints': '()', 'n_estimators': 100, 'n_jobs': 8, 'num_parallel_tree': 1, 'random_state': 0, 'reg_alpha': 0, 'reg_lambda': 1, 'scale_pos_weight': 1, 'subsample': 1, 'tree_method': 'exact', 'validate_parameters': 1, 'verbosity': None}\n",
      "RFR {'bootstrap': True, 'ccp_alpha': 0.0, 'criterion': 'mse', 'max_depth': None, 'max_features': 'auto', 'max_leaf_nodes': None, 'max_samples': None, 'min_impurity_decrease': 0.0, 'min_impurity_split': None, 'min_samples_leaf': 1, 'min_samples_split': 2, 'min_weight_fraction_leaf': 0.0, 'n_estimators': 100, 'n_jobs': None, 'oob_score': False, 'random_state': None, 'verbose': 0, 'warm_start': False}\n"
     ]
    }
   ],
   "source": [
    "for name, model in models:\n",
    "    print(name, model.get_params())"
   ]
  },
  {
   "cell_type": "code",
   "execution_count": 10,
   "metadata": {
    "execution": {
     "iopub.execute_input": "2021-02-05T20:00:58.830567Z",
     "iopub.status.busy": "2021-02-05T20:00:58.830367Z",
     "iopub.status.idle": "2021-02-05T20:08:45.021504Z",
     "shell.execute_reply": "2021-02-05T20:08:45.021006Z",
     "shell.execute_reply.started": "2021-02-05T20:00:58.830542Z"
    }
   },
   "outputs": [
    {
     "name": "stdout",
     "output_type": "stream",
     "text": [
      "KNN\n",
      "-1.2367414767293954 KNeighborsRegressor(leaf_size=5, n_jobs=-1, n_neighbors=200)\n",
      "XGB\n",
      "-1.1476706434330874 XGBRegressor(base_score=2.0, booster='gbtree', colsample_bylevel=1,\n",
      "             colsample_bynode=1, colsample_bytree=1, gamma=0, gpu_id=-1,\n",
      "             importance_type='gain', interaction_constraints='',\n",
      "             learning_rate=0.3, max_delta_step=0, max_depth=6,\n",
      "             min_child_weight=1, missing=nan, monotone_constraints='()',\n",
      "             n_estimators=20, n_jobs=-1, num_parallel_tree=1, random_state=0,\n",
      "             reg_alpha=0, reg_lambda=1, scale_pos_weight=1, subsample=1,\n",
      "             tree_method='exact', validate_parameters=1, verbosity=None)\n",
      "RFR\n",
      "-1.1164221749251129 RandomForestRegressor(n_estimators=50, n_jobs=-1)\n"
     ]
    }
   ],
   "source": [
    "param_search = {}\n",
    "param_search['KNN'] = {'n_neighbors' : [1, 5, 10, 20, 50, 100, 200], 'leaf_size' : [5, 10, 20, 30, 50], 'n_jobs' :[-1]}\n",
    "param_search['XGB'] = {'n_estimators' : [20, 50, 100, 200], 'base_score' : [0.5, 1.0, 2.0], 'learning_rate' : [0.2, 0.3, 0.5, 1.0], 'n_jobs' : [-1]}\n",
    "param_search['RFR'] = {'n_estimators' : [20, 50, 100, 200], 'n_jobs' : [-1]}\n",
    "tuned_results = []\n",
    "tuned_best_score = []\n",
    "tuned_best_estimator = []\n",
    "for name, model in models:\n",
    "    if name != 'LR':\n",
    "        print(name)\n",
    "        gsearch = GridSearchCV(estimator=model, cv=tscv, param_grid=param_search[name], scoring = 'neg_mean_squared_error')\n",
    "        if name != 'RFR':\n",
    "            gsearch.fit(X_train, y_train)\n",
    "        else :\n",
    "            gsearch.fit(X_train, y_train.values.ravel())\n",
    "        best_score = gsearch.best_score_\n",
    "        best_model = gsearch.best_estimator_\n",
    "        tuned_results.append(gsearch)\n",
    "        tuned_best_score.append(best_score)\n",
    "        tuned_best_estimator.append(best_model)\n",
    "        print(best_score, best_model)"
   ]
  },
  {
   "cell_type": "code",
   "execution_count": 16,
   "metadata": {
    "execution": {
     "iopub.execute_input": "2021-02-05T20:55:45.196498Z",
     "iopub.status.busy": "2021-02-05T20:55:45.196186Z",
     "iopub.status.idle": "2021-02-05T20:55:45.199996Z",
     "shell.execute_reply": "2021-02-05T20:55:45.199525Z",
     "shell.execute_reply.started": "2021-02-05T20:55:45.196469Z"
    }
   },
   "outputs": [
    {
     "name": "stdout",
     "output_type": "stream",
     "text": [
      "LR -0.7977670130085517\n",
      "KNN -1.6693189335304575\n",
      "XGB -1.4607752644613747\n",
      "RFR -1.1887123006522695\n"
     ]
    }
   ],
   "source": [
    "for i in range(len(results)):\n",
    "    print(names[i], results[i].mean())\n",
    "#Print results in for loop to compare to tuned models"
   ]
  },
  {
   "cell_type": "code",
   "execution_count": 31,
   "metadata": {
    "execution": {
     "iopub.execute_input": "2021-02-05T20:58:09.140755Z",
     "iopub.status.busy": "2021-02-05T20:58:09.140600Z",
     "iopub.status.idle": "2021-02-05T20:58:09.146627Z",
     "shell.execute_reply": "2021-02-05T20:58:09.146137Z",
     "shell.execute_reply.started": "2021-02-05T20:58:09.140739Z"
    }
   },
   "outputs": [
    {
     "name": "stdout",
     "output_type": "stream",
     "text": [
      "KNeighborsRegressor(leaf_size=5, n_jobs=-1, n_neighbors=200) -1.2367414767293954\n",
      "XGBRegressor(base_score=2.0, booster='gbtree', colsample_bylevel=1,\n",
      "             colsample_bynode=1, colsample_bytree=1, gamma=0, gpu_id=-1,\n",
      "             importance_type='gain', interaction_constraints='',\n",
      "             learning_rate=0.3, max_delta_step=0, max_depth=6,\n",
      "             min_child_weight=1, missing=nan, monotone_constraints='()',\n",
      "             n_estimators=20, n_jobs=-1, num_parallel_tree=1, random_state=0,\n",
      "             reg_alpha=0, reg_lambda=1, scale_pos_weight=1, subsample=1,\n",
      "             tree_method='exact', validate_parameters=1, verbosity=None) -1.1476706434330874\n",
      "RandomForestRegressor(n_estimators=50, n_jobs=-1) -1.1164221749251129\n"
     ]
    }
   ],
   "source": [
    "for i in range(len(tuned_best_score)):\n",
    "    print(tuned_best_estimator[i], tuned_best_score[i])"
   ]
  },
  {
   "cell_type": "code",
   "execution_count": null,
   "metadata": {},
   "outputs": [],
   "source": [
    "# min samples leaf, min samples split, max depth, criterion\n",
    "# Score is mean squared error so do square root of positive version of that number.\n",
    "# This shows accurate to within that value's percentage change.\n",
    "#Linear Regression cannot be tuned"
   ]
  }
 ],
 "metadata": {
  "kernelspec": {
   "display_name": "Python 3",
   "language": "python",
   "name": "python3"
  },
  "language_info": {
   "codemirror_mode": {
    "name": "ipython",
    "version": 3
   },
   "file_extension": ".py",
   "mimetype": "text/x-python",
   "name": "python",
   "nbconvert_exporter": "python",
   "pygments_lexer": "ipython3",
   "version": "3.9.1"
  }
 },
 "nbformat": 4,
 "nbformat_minor": 4
}
