{
 "cells": [
  {
   "cell_type": "code",
   "execution_count": 32,
   "metadata": {},
   "outputs": [],
   "source": [
    "import pandas as pd\n",
    "import numpy as np\n",
    "import os\n",
    "import matplotlib.pyplot as plt\n",
    "import seaborn as sns\n",
    "import datetime\n",
    "import math\n",
    "import sklearn\n",
    "from sklearn.metrics import mean_squared_error, r2_score\n",
    "from sklearn.model_selection import GridSearchCV, cross_val_score, TimeSeriesSplit\n",
    "from sklearn.linear_model import LinearRegression\n",
    "from sklearn.ensemble import RandomForestRegressor\n",
    "from sklearn.neighbors import KNeighborsRegressor"
   ]
  },
  {
   "cell_type": "code",
   "execution_count": 22,
   "metadata": {},
   "outputs": [],
   "source": [
    "X_train = pd.read_csv('data/X_train.csv')\n",
    "X_test = pd.read_csv('data/X_test.csv')\n",
    "y_train = pd.read_csv('data/y_train.csv')\n",
    "y_test = pd.read_csv('data/y_test.csv')"
   ]
  },
  {
   "cell_type": "code",
   "execution_count": 23,
   "metadata": {},
   "outputs": [
    {
     "data": {
      "text/html": [
       "<div>\n",
       "<style scoped>\n",
       "    .dataframe tbody tr th:only-of-type {\n",
       "        vertical-align: middle;\n",
       "    }\n",
       "\n",
       "    .dataframe tbody tr th {\n",
       "        vertical-align: top;\n",
       "    }\n",
       "\n",
       "    .dataframe thead th {\n",
       "        text-align: right;\n",
       "    }\n",
       "</style>\n",
       "<table border=\"1\" class=\"dataframe\">\n",
       "  <thead>\n",
       "    <tr style=\"text-align: right;\">\n",
       "      <th></th>\n",
       "      <th>0</th>\n",
       "      <th>1</th>\n",
       "      <th>2</th>\n",
       "      <th>3</th>\n",
       "      <th>4</th>\n",
       "      <th>5</th>\n",
       "      <th>6</th>\n",
       "      <th>7</th>\n",
       "      <th>8</th>\n",
       "      <th>9</th>\n",
       "      <th>10</th>\n",
       "      <th>11</th>\n",
       "      <th>12</th>\n",
       "      <th>13</th>\n",
       "      <th>14</th>\n",
       "      <th>15</th>\n",
       "      <th>16</th>\n",
       "      <th>17</th>\n",
       "    </tr>\n",
       "  </thead>\n",
       "  <tbody>\n",
       "    <tr>\n",
       "      <th>0</th>\n",
       "      <td>1009.489990</td>\n",
       "      <td>1009.489990</td>\n",
       "      <td>1009.489990</td>\n",
       "      <td>1009.489990</td>\n",
       "      <td>1009.489990</td>\n",
       "      <td>-2.605886</td>\n",
       "      <td>15376.620117</td>\n",
       "      <td>15376.620117</td>\n",
       "      <td>15073.950195</td>\n",
       "      <td>15127.000000</td>\n",
       "      <td>15127.000000</td>\n",
       "      <td>-2.745965</td>\n",
       "      <td>15795.150391</td>\n",
       "      <td>15795.150391</td>\n",
       "      <td>15424.709961</td>\n",
       "      <td>15513.570313</td>\n",
       "      <td>15513.570313</td>\n",
       "      <td>-1.984805</td>\n",
       "    </tr>\n",
       "    <tr>\n",
       "      <th>1</th>\n",
       "      <td>1015.780029</td>\n",
       "      <td>1015.780029</td>\n",
       "      <td>1015.780029</td>\n",
       "      <td>1015.780029</td>\n",
       "      <td>1015.780029</td>\n",
       "      <td>0.623091</td>\n",
       "      <td>15071.919922</td>\n",
       "      <td>15244.650391</td>\n",
       "      <td>14883.320313</td>\n",
       "      <td>15074.799805</td>\n",
       "      <td>15074.799805</td>\n",
       "      <td>-0.345080</td>\n",
       "      <td>15491.799805</td>\n",
       "      <td>15580.320313</td>\n",
       "      <td>15392.740234</td>\n",
       "      <td>15550.639648</td>\n",
       "      <td>15550.639648</td>\n",
       "      <td>0.238948</td>\n",
       "    </tr>\n",
       "    <tr>\n",
       "      <th>2</th>\n",
       "      <td>1022.469971</td>\n",
       "      <td>1022.469971</td>\n",
       "      <td>1022.469971</td>\n",
       "      <td>1022.469971</td>\n",
       "      <td>1022.469971</td>\n",
       "      <td>0.658601</td>\n",
       "      <td>14679.990234</td>\n",
       "      <td>14786.040039</td>\n",
       "      <td>14494.379883</td>\n",
       "      <td>14680.500000</td>\n",
       "      <td>14680.500000</td>\n",
       "      <td>-2.615622</td>\n",
       "      <td>15516.150391</td>\n",
       "      <td>15516.150391</td>\n",
       "      <td>15101.639648</td>\n",
       "      <td>15330.309570</td>\n",
       "      <td>15330.309570</td>\n",
       "      <td>-1.416855</td>\n",
       "    </tr>\n",
       "    <tr>\n",
       "      <th>3</th>\n",
       "      <td>1026.880005</td>\n",
       "      <td>1026.880005</td>\n",
       "      <td>1026.880005</td>\n",
       "      <td>1026.880005</td>\n",
       "      <td>1026.880005</td>\n",
       "      <td>0.431312</td>\n",
       "      <td>15185.679688</td>\n",
       "      <td>15284.650391</td>\n",
       "      <td>14956.879883</td>\n",
       "      <td>14973.400391</td>\n",
       "      <td>14973.400391</td>\n",
       "      <td>1.995166</td>\n",
       "      <td>15366.809570</td>\n",
       "      <td>15688.169922</td>\n",
       "      <td>15366.809570</td>\n",
       "      <td>15512.320313</td>\n",
       "      <td>15512.320313</td>\n",
       "      <td>1.187261</td>\n",
       "    </tr>\n",
       "    <tr>\n",
       "      <th>4</th>\n",
       "      <td>1021.460022</td>\n",
       "      <td>1021.460022</td>\n",
       "      <td>1021.460022</td>\n",
       "      <td>1021.460022</td>\n",
       "      <td>1021.460022</td>\n",
       "      <td>-0.527811</td>\n",
       "      <td>15081.759766</td>\n",
       "      <td>15134.530273</td>\n",
       "      <td>14794.809570</td>\n",
       "      <td>14873.429688</td>\n",
       "      <td>14873.429688</td>\n",
       "      <td>-0.667655</td>\n",
       "      <td>15526.990234</td>\n",
       "      <td>15545.059570</td>\n",
       "      <td>15340.219727</td>\n",
       "      <td>15340.219727</td>\n",
       "      <td>15340.219727</td>\n",
       "      <td>-1.109445</td>\n",
       "    </tr>\n",
       "    <tr>\n",
       "      <th>5</th>\n",
       "      <td>1003.859985</td>\n",
       "      <td>1003.859985</td>\n",
       "      <td>1003.859985</td>\n",
       "      <td>1003.859985</td>\n",
       "      <td>1003.859985</td>\n",
       "      <td>-1.723027</td>\n",
       "      <td>14751.940430</td>\n",
       "      <td>14751.940430</td>\n",
       "      <td>14356.059570</td>\n",
       "      <td>14458.519531</td>\n",
       "      <td>14458.519531</td>\n",
       "      <td>-2.789606</td>\n",
       "      <td>15324.349609</td>\n",
       "      <td>15324.349609</td>\n",
       "      <td>14832.969727</td>\n",
       "      <td>14872.480469</td>\n",
       "      <td>14872.480469</td>\n",
       "      <td>-3.049104</td>\n",
       "    </tr>\n",
       "    <tr>\n",
       "      <th>6</th>\n",
       "      <td>1025.310059</td>\n",
       "      <td>1025.310059</td>\n",
       "      <td>1025.310059</td>\n",
       "      <td>1025.310059</td>\n",
       "      <td>1025.310059</td>\n",
       "      <td>2.136760</td>\n",
       "      <td>14352.419922</td>\n",
       "      <td>14422.519531</td>\n",
       "      <td>14107.740234</td>\n",
       "      <td>14422.519531</td>\n",
       "      <td>14422.519531</td>\n",
       "      <td>-0.248988</td>\n",
       "      <td>14901.110352</td>\n",
       "      <td>15027.129883</td>\n",
       "      <td>14707.879883</td>\n",
       "      <td>14811.080078</td>\n",
       "      <td>14811.080078</td>\n",
       "      <td>-0.412846</td>\n",
       "    </tr>\n",
       "    <tr>\n",
       "      <th>7</th>\n",
       "      <td>1038.229980</td>\n",
       "      <td>1038.229980</td>\n",
       "      <td>1038.229980</td>\n",
       "      <td>1038.229980</td>\n",
       "      <td>1038.229980</td>\n",
       "      <td>1.260099</td>\n",
       "      <td>14822.429688</td>\n",
       "      <td>15105.450195</td>\n",
       "      <td>14822.429688</td>\n",
       "      <td>15044.530273</td>\n",
       "      <td>15044.530273</td>\n",
       "      <td>4.312774</td>\n",
       "      <td>14842.809570</td>\n",
       "      <td>15314.969727</td>\n",
       "      <td>14842.809570</td>\n",
       "      <td>15198.730469</td>\n",
       "      <td>15198.730469</td>\n",
       "      <td>2.617300</td>\n",
       "    </tr>\n",
       "    <tr>\n",
       "      <th>8</th>\n",
       "      <td>1045.369995</td>\n",
       "      <td>1045.369995</td>\n",
       "      <td>1045.369995</td>\n",
       "      <td>1045.369995</td>\n",
       "      <td>1045.369995</td>\n",
       "      <td>0.687710</td>\n",
       "      <td>15038.250000</td>\n",
       "      <td>15161.030273</td>\n",
       "      <td>14864.830078</td>\n",
       "      <td>15102.360352</td>\n",
       "      <td>15102.360352</td>\n",
       "      <td>0.384393</td>\n",
       "      <td>15197.929688</td>\n",
       "      <td>15224.809570</td>\n",
       "      <td>15035.240234</td>\n",
       "      <td>15097.959961</td>\n",
       "      <td>15097.959961</td>\n",
       "      <td>-0.663019</td>\n",
       "    </tr>\n",
       "    <tr>\n",
       "      <th>9</th>\n",
       "      <td>1066.640015</td>\n",
       "      <td>1066.640015</td>\n",
       "      <td>1066.640015</td>\n",
       "      <td>1066.640015</td>\n",
       "      <td>1066.640015</td>\n",
       "      <td>2.034688</td>\n",
       "      <td>15125.830078</td>\n",
       "      <td>15209.339844</td>\n",
       "      <td>14885.650391</td>\n",
       "      <td>14925.929688</td>\n",
       "      <td>14925.929688</td>\n",
       "      <td>-1.168232</td>\n",
       "      <td>15100.080078</td>\n",
       "      <td>15229.459961</td>\n",
       "      <td>15066.599609</td>\n",
       "      <td>15148.190430</td>\n",
       "      <td>15148.190430</td>\n",
       "      <td>0.332697</td>\n",
       "    </tr>\n",
       "  </tbody>\n",
       "</table>\n",
       "</div>"
      ],
      "text/plain": [
       "             0            1            2            3            4         5  \\\n",
       "0  1009.489990  1009.489990  1009.489990  1009.489990  1009.489990 -2.605886   \n",
       "1  1015.780029  1015.780029  1015.780029  1015.780029  1015.780029  0.623091   \n",
       "2  1022.469971  1022.469971  1022.469971  1022.469971  1022.469971  0.658601   \n",
       "3  1026.880005  1026.880005  1026.880005  1026.880005  1026.880005  0.431312   \n",
       "4  1021.460022  1021.460022  1021.460022  1021.460022  1021.460022 -0.527811   \n",
       "5  1003.859985  1003.859985  1003.859985  1003.859985  1003.859985 -1.723027   \n",
       "6  1025.310059  1025.310059  1025.310059  1025.310059  1025.310059  2.136760   \n",
       "7  1038.229980  1038.229980  1038.229980  1038.229980  1038.229980  1.260099   \n",
       "8  1045.369995  1045.369995  1045.369995  1045.369995  1045.369995  0.687710   \n",
       "9  1066.640015  1066.640015  1066.640015  1066.640015  1066.640015  2.034688   \n",
       "\n",
       "              6             7             8             9            10  \\\n",
       "0  15376.620117  15376.620117  15073.950195  15127.000000  15127.000000   \n",
       "1  15071.919922  15244.650391  14883.320313  15074.799805  15074.799805   \n",
       "2  14679.990234  14786.040039  14494.379883  14680.500000  14680.500000   \n",
       "3  15185.679688  15284.650391  14956.879883  14973.400391  14973.400391   \n",
       "4  15081.759766  15134.530273  14794.809570  14873.429688  14873.429688   \n",
       "5  14751.940430  14751.940430  14356.059570  14458.519531  14458.519531   \n",
       "6  14352.419922  14422.519531  14107.740234  14422.519531  14422.519531   \n",
       "7  14822.429688  15105.450195  14822.429688  15044.530273  15044.530273   \n",
       "8  15038.250000  15161.030273  14864.830078  15102.360352  15102.360352   \n",
       "9  15125.830078  15209.339844  14885.650391  14925.929688  14925.929688   \n",
       "\n",
       "         11            12            13            14            15  \\\n",
       "0 -2.745965  15795.150391  15795.150391  15424.709961  15513.570313   \n",
       "1 -0.345080  15491.799805  15580.320313  15392.740234  15550.639648   \n",
       "2 -2.615622  15516.150391  15516.150391  15101.639648  15330.309570   \n",
       "3  1.995166  15366.809570  15688.169922  15366.809570  15512.320313   \n",
       "4 -0.667655  15526.990234  15545.059570  15340.219727  15340.219727   \n",
       "5 -2.789606  15324.349609  15324.349609  14832.969727  14872.480469   \n",
       "6 -0.248988  14901.110352  15027.129883  14707.879883  14811.080078   \n",
       "7  4.312774  14842.809570  15314.969727  14842.809570  15198.730469   \n",
       "8  0.384393  15197.929688  15224.809570  15035.240234  15097.959961   \n",
       "9 -1.168232  15100.080078  15229.459961  15066.599609  15148.190430   \n",
       "\n",
       "             16        17  \n",
       "0  15513.570313 -1.984805  \n",
       "1  15550.639648  0.238948  \n",
       "2  15330.309570 -1.416855  \n",
       "3  15512.320313  1.187261  \n",
       "4  15340.219727 -1.109445  \n",
       "5  14872.480469 -3.049104  \n",
       "6  14811.080078 -0.412846  \n",
       "7  15198.730469  2.617300  \n",
       "8  15097.959961 -0.663019  \n",
       "9  15148.190430  0.332697  "
      ]
     },
     "execution_count": 23,
     "metadata": {},
     "output_type": "execute_result"
    }
   ],
   "source": [
    "X_train.head(10)"
   ]
  },
  {
   "cell_type": "code",
   "execution_count": 24,
   "metadata": {},
   "outputs": [
    {
     "data": {
      "text/html": [
       "<div>\n",
       "<style scoped>\n",
       "    .dataframe tbody tr th:only-of-type {\n",
       "        vertical-align: middle;\n",
       "    }\n",
       "\n",
       "    .dataframe tbody tr th {\n",
       "        vertical-align: top;\n",
       "    }\n",
       "\n",
       "    .dataframe thead th {\n",
       "        text-align: right;\n",
       "    }\n",
       "</style>\n",
       "<table border=\"1\" class=\"dataframe\">\n",
       "  <thead>\n",
       "    <tr style=\"text-align: right;\">\n",
       "      <th></th>\n",
       "      <th>0</th>\n",
       "    </tr>\n",
       "  </thead>\n",
       "  <tbody>\n",
       "    <tr>\n",
       "      <th>0</th>\n",
       "      <td>-1.050990</td>\n",
       "    </tr>\n",
       "    <tr>\n",
       "      <th>1</th>\n",
       "      <td>-3.641421</td>\n",
       "    </tr>\n",
       "    <tr>\n",
       "      <th>2</th>\n",
       "      <td>1.570565</td>\n",
       "    </tr>\n",
       "    <tr>\n",
       "      <th>3</th>\n",
       "      <td>0.457411</td>\n",
       "    </tr>\n",
       "    <tr>\n",
       "      <th>4</th>\n",
       "      <td>-1.456126</td>\n",
       "    </tr>\n",
       "  </tbody>\n",
       "</table>\n",
       "</div>"
      ],
      "text/plain": [
       "          0\n",
       "0 -1.050990\n",
       "1 -3.641421\n",
       "2  1.570565\n",
       "3  0.457411\n",
       "4 -1.456126"
      ]
     },
     "execution_count": 24,
     "metadata": {},
     "output_type": "execute_result"
    }
   ],
   "source": [
    "y_train.head(5)"
   ]
  },
  {
   "cell_type": "code",
   "execution_count": 46,
   "metadata": {},
   "outputs": [],
   "source": [
    "models = []\n",
    "models.append(('LR', LinearRegression()))\n",
    "models.append(('KNN', KNeighborsRegressor())) \n",
    "###reshape data for RandomForestRegressor\n",
    "###boosted ntrees (xg_boost)\n",
    "###suppoort vector machines"
   ]
  },
  {
   "cell_type": "code",
   "execution_count": 39,
   "metadata": {},
   "outputs": [
    {
     "name": "stdout",
     "output_type": "stream",
     "text": [
      "LR: -0.797767 (0.628795)\n",
      "KNN: -1.669319 (1.253311)\n"
     ]
    }
   ],
   "source": [
    "results = []\n",
    "names = []\n",
    "\n",
    "for name, model in models:\n",
    "    tscv = TimeSeriesSplit(n_splits=10)\n",
    "    model.fit(X_train, y_train)\n",
    "    cv_results = cross_val_score(model, X_train, y_train, cv=tscv, scoring='neg_mean_squared_error')\n",
    "    ###scoring : neg_mean_squared_error, neg_mean_absolute_error, r2\n",
    "    names.append(name)\n",
    "    results.append(cv_results)\n",
    "    \n",
    "    print('%s: %f (%f)' % (name, cv_results.mean(), cv_results.std()))"
   ]
  },
  {
   "cell_type": "code",
   "execution_count": 40,
   "metadata": {},
   "outputs": [
    {
     "data": {
      "image/png": "[encoded data removed]",
      "text/plain": [
       "<Figure size 432x288 with 1 Axes>"
      ]
     },
     "metadata": {
      "needs_background": "light"
     },
     "output_type": "display_data"
    }
   ],
   "source": [
    "# Compare Algorithms\n",
    "plt.boxplot(results, labels=names)\n",
    "plt.title('Algorithm Comparison')\n",
    "plt.show()"
   ]
  },
  {
   "cell_type": "code",
   "execution_count": 41,
   "metadata": {},
   "outputs": [
    {
     "data": {
      "text/plain": [
       "[('LR', LinearRegression()), ('KNN', KNeighborsRegressor())]"
      ]
     },
     "execution_count": 41,
     "metadata": {},
     "output_type": "execute_result"
    }
   ],
   "source": [
    "models"
   ]
  },
  {
   "cell_type": "code",
   "execution_count": 42,
   "metadata": {},
   "outputs": [
    {
     "data": {
      "text/plain": [
       "<matplotlib.collections.PathCollection at 0x7f9a076bfc70>"
      ]
     },
     "execution_count": 42,
     "metadata": {},
     "output_type": "execute_result"
    },
    {
     "data": {
      "image/png": "[encoded data removed]",
      "text/plain": [
       "<Figure size 432x288 with 1 Axes>"
      ]
     },
     "metadata": {
      "needs_background": "light"
     },
     "output_type": "display_data"
    }
   ],
   "source": [
    "y_pred_LR = models[0][1].predict(X_test)\n",
    "plt.scatter(y_test, y_pred_LR)"
   ]
  },
  {
   "cell_type": "code",
   "execution_count": 43,
   "metadata": {},
   "outputs": [
    {
     "data": {
      "text/plain": [
       "<matplotlib.collections.PathCollection at 0x7f9a07692d30>"
      ]
     },
     "execution_count": 43,
     "metadata": {},
     "output_type": "execute_result"
    },
    {
     "data": {
      "image/png": "[encoded data removed]",
      "text/plain": [
       "<Figure size 432x288 with 1 Axes>"
      ]
     },
     "metadata": {
      "needs_background": "light"
     },
     "output_type": "display_data"
    }
   ],
   "source": [
    "y_predK = models[1][1].predict(X_test)\n",
    "plt.scatter(y_test, y_predK)\n",
    "####Hyper parameters"
   ]
  },
  {
   "cell_type": "code",
   "execution_count": 44,
   "metadata": {},
   "outputs": [
    {
     "data": {
      "text/plain": [
       "<matplotlib.collections.PathCollection at 0x7f9a075e7910>"
      ]
     },
     "execution_count": 44,
     "metadata": {},
     "output_type": "execute_result"
    },
    {
     "data": {
      "image/png": "[encoded data removed]",
      "text/plain": [
       "<Figure size 432x288 with 1 Axes>"
      ]
     },
     "metadata": {
      "needs_background": "light"
     },
     "output_type": "display_data"
    }
   ],
   "source": [
    "y_predRF = models[1][1].predict(X_test)\n",
    "plt.scatter(y_test, y_predRF)"
   ]
  },
  {
   "cell_type": "code",
   "execution_count": 47,
   "metadata": {},
   "outputs": [],
   "source": [
    "###find best base model\n",
    "###improve other mldels with hyperparameter\n",
    "#### find best model"
   ]
  },
  {
   "cell_type": "code",
   "execution_count": 48,
   "metadata": {},
   "outputs": [],
   "source": [
    "###two results based on shifted time"
   ]
  },
  {
   "cell_type": "code",
   "execution_count": null,
   "metadata": {},
   "outputs": [],
   "source": []
  }
 ],
 "metadata": {
  "kernelspec": {
   "display_name": "Python 3",
   "language": "python",
   "name": "python3"
  },
  "language_info": {
   "codemirror_mode": {
    "name": "ipython",
    "version": 3
   },
   "file_extension": ".py",
   "mimetype": "text/x-python",
   "name": "python",
   "nbconvert_exporter": "python",
   "pygments_lexer": "ipython3",
   "version": "3.9.1"
  }
 },
 "nbformat": 4,
 "nbformat_minor": 4
}
