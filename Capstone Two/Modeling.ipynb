{
 "cells": [
  {
   "cell_type": "markdown",
   "metadata": {},
   "source": [
    "### Imports"
   ]
  },
  {
   "cell_type": "code",
   "execution_count": 1,
   "metadata": {
    "execution": {
     "iopub.execute_input": "2021-02-19T02:06:09.420008Z",
     "iopub.status.busy": "2021-02-19T02:06:09.419783Z",
     "iopub.status.idle": "2021-02-19T02:06:10.280790Z",
     "shell.execute_reply": "2021-02-19T02:06:10.280345Z",
     "shell.execute_reply.started": "2021-02-19T02:06:09.419985Z"
    }
   },
   "outputs": [],
   "source": [
    "### Standard imports\n",
    "import pandas as pd\n",
    "import numpy as np\n",
    "import os\n",
    "import matplotlib.pyplot as plt\n",
    "import seaborn as sns\n",
    "import datetime\n",
    "import math\n",
    "\n",
    "###\n",
    "### SKlearn\n",
    "###\n",
    "import sklearn\n",
    "    ### Metrics\n",
    "from sklearn.metrics import mean_squared_error, r2_score\n",
    "    ### Grid Search and time split\n",
    "from sklearn.model_selection import GridSearchCV, cross_val_score, TimeSeriesSplit\n",
    "    ### The four models to be used\n",
    "from sklearn.linear_model import LinearRegression\n",
    "from sklearn.ensemble import RandomForestRegressor\n",
    "from sklearn.neighbors import KNeighborsRegressor\n",
    "from xgboost import XGBRegressor"
   ]
  },
  {
   "cell_type": "markdown",
   "metadata": {},
   "source": [
    "Import Test-train time series-split data"
   ]
  },
  {
   "cell_type": "code",
   "execution_count": 2,
   "metadata": {
    "execution": {
     "iopub.execute_input": "2021-02-19T02:06:10.281752Z",
     "iopub.status.busy": "2021-02-19T02:06:10.281597Z",
     "iopub.status.idle": "2021-02-19T02:06:10.310952Z",
     "shell.execute_reply": "2021-02-19T02:06:10.310460Z",
     "shell.execute_reply.started": "2021-02-19T02:06:10.281728Z"
    }
   },
   "outputs": [],
   "source": [
    "X_train = pd.read_csv('data/X_train.csv')\n",
    "X_test = pd.read_csv('data/X_test.csv')\n",
    "y_train = pd.read_csv('data/y_train.csv')\n",
    "y_test = pd.read_csv('data/y_test.csv')"
   ]
  },
  {
   "cell_type": "markdown",
   "metadata": {},
   "source": [
    "As well as the shifted data, denoted by 2 after X or y"
   ]
  },
  {
   "cell_type": "code",
   "execution_count": 3,
   "metadata": {
    "execution": {
     "iopub.execute_input": "2021-02-19T02:06:10.312100Z",
     "iopub.status.busy": "2021-02-19T02:06:10.311895Z",
     "iopub.status.idle": "2021-02-19T02:06:10.338639Z",
     "shell.execute_reply": "2021-02-19T02:06:10.336913Z",
     "shell.execute_reply.started": "2021-02-19T02:06:10.312072Z"
    }
   },
   "outputs": [],
   "source": [
    "X2_train = pd.read_csv('data/X2_train.csv')\n",
    "X2_test = pd.read_csv('data/X2_test.csv')\n",
    "y2_train = pd.read_csv('data/y2_train.csv')\n",
    "y2_test = pd.read_csv('data/y2_test.csv')"
   ]
  },
  {
   "cell_type": "markdown",
   "metadata": {},
   "source": [
    "Make sure the data still looks the same as when it left the pre-processing stage"
   ]
  },
  {
   "cell_type": "code",
   "execution_count": 4,
   "metadata": {
    "execution": {
     "iopub.execute_input": "2021-02-19T02:06:10.340285Z",
     "iopub.status.busy": "2021-02-19T02:06:10.340091Z",
     "iopub.status.idle": "2021-02-19T02:06:10.345102Z",
     "shell.execute_reply": "2021-02-19T02:06:10.343573Z",
     "shell.execute_reply.started": "2021-02-19T02:06:10.340268Z"
    }
   },
   "outputs": [
    {
     "name": "stdout",
     "output_type": "stream",
     "text": [
      "(4105, 18) (4105, 1) (410, 18) (410, 1) (4104, 18) (4104, 1) (410, 18) (410, 1)\n"
     ]
    }
   ],
   "source": [
    "print(X_train.shape, y_train.shape, X_test.shape, y_test.shape, X2_train.shape, y2_train.shape, X2_test.shape, y2_test.shape)"
   ]
  },
  {
   "cell_type": "markdown",
   "metadata": {
    "execution": {
     "iopub.execute_input": "2021-02-14T03:05:21.022885Z",
     "iopub.status.busy": "2021-02-14T03:05:21.022730Z",
     "iopub.status.idle": "2021-02-14T03:05:21.025846Z",
     "shell.execute_reply": "2021-02-14T03:05:21.025295Z",
     "shell.execute_reply.started": "2021-02-14T03:05:21.022869Z"
    }
   },
   "source": [
    "Looks Good!"
   ]
  },
  {
   "cell_type": "markdown",
   "metadata": {},
   "source": [
    "# Modeling"
   ]
  },
  {
   "cell_type": "markdown",
   "metadata": {},
   "source": [
    "Append all models into a list. \n",
    "Useful to run the same fitting, gridsearch, scoring and predict functions in a single loop.\n",
    "Insert string of acronym of model names for easy referencing during functions"
   ]
  },
  {
   "cell_type": "code",
   "execution_count": 5,
   "metadata": {
    "execution": {
     "iopub.execute_input": "2021-02-19T02:06:10.346986Z",
     "iopub.status.busy": "2021-02-19T02:06:10.346552Z",
     "iopub.status.idle": "2021-02-19T02:06:10.349922Z",
     "shell.execute_reply": "2021-02-19T02:06:10.349470Z",
     "shell.execute_reply.started": "2021-02-19T02:06:10.346964Z"
    }
   },
   "outputs": [],
   "source": [
    "models = []\n",
    "models.append(('LR', LinearRegression()))\n",
    "models.append(('KNN', KNeighborsRegressor()))\n",
    "models.append(('XGB', XGBRegressor()))\n",
    "models.append(('RFR', RandomForestRegressor()))\n",
    "###boosted ntrees (xg_boost)"
   ]
  },
  {
   "cell_type": "markdown",
   "metadata": {},
   "source": [
    "# INSERT SOMETHING HERE TO EXPLAIN FOR LOOP"
   ]
  },
  {
   "cell_type": "code",
   "execution_count": 6,
   "metadata": {
    "execution": {
     "iopub.execute_input": "2021-02-19T02:06:10.350972Z",
     "iopub.status.busy": "2021-02-19T02:06:10.350745Z",
     "iopub.status.idle": "2021-02-19T02:06:44.357496Z",
     "shell.execute_reply": "2021-02-19T02:06:44.357101Z",
     "shell.execute_reply.started": "2021-02-19T02:06:10.350944Z"
    }
   },
   "outputs": [
    {
     "name": "stdout",
     "output_type": "stream",
     "text": [
      "LR: -0.797767 (0.628795)\n",
      "KNN: -1.669319 (1.253311)\n",
      "XGB: -1.460775 (1.113711)\n",
      "RFR: -1.275142 (0.988207)\n"
     ]
    }
   ],
   "source": [
    "results = []\n",
    "names = []\n",
    "\n",
    "for name, model in models:\n",
    "    tscv = TimeSeriesSplit(n_splits=10)\n",
    "    \n",
    "    if name != 'RFR':\n",
    "        model.fit(X_train, y_train)\n",
    "        cv_results = cross_val_score(model, X_train, y_train, cv=tscv, scoring='neg_mean_squared_error')\n",
    "    else:\n",
    "        model.fit(X_train, y_train.values.ravel())\n",
    "        cv_results = cross_val_score(model, X_train, y_train.values.ravel(), cv=tscv, scoring='neg_mean_squared_error')\n",
    "    ###scoring : neg_mean_squared_error, neg_mean_absolute_error, r2\n",
    "    names.append(name)\n",
    "    results.append(cv_results)\n",
    "    \n",
    "    print('%s: %f (%f)' % (name, cv_results.mean(), cv_results.std()))"
   ]
  },
  {
   "cell_type": "markdown",
   "metadata": {},
   "source": [
    "Compare scores of algorithms using boxplots"
   ]
  },
  {
   "cell_type": "code",
   "execution_count": 7,
   "metadata": {
    "execution": {
     "iopub.execute_input": "2021-02-19T02:06:44.358197Z",
     "iopub.status.busy": "2021-02-19T02:06:44.358083Z",
     "iopub.status.idle": "2021-02-19T02:06:44.544297Z",
     "shell.execute_reply": "2021-02-19T02:06:44.543744Z",
     "shell.execute_reply.started": "2021-02-19T02:06:44.358182Z"
    }
   },
   "outputs": [
    {
     "data": {
      "image/png": "[encoded data removed]",
      "text/plain": [
       "<Figure size 432x288 with 1 Axes>"
      ]
     },
     "metadata": {
      "needs_background": "light"
     },
     "output_type": "display_data"
    }
   ],
   "source": [
    "plt.boxplot(results, labels=names)\n",
    "plt.title('Algorithm Comparison')\n",
    "plt.show()"
   ]
  },
  {
   "cell_type": "markdown",
   "metadata": {},
   "source": [
    "Linear Regression seems to be the best performing (closest to zero) while having the least variation as well"
   ]
  },
  {
   "cell_type": "markdown",
   "metadata": {
    "execution": {
     "iopub.execute_input": "2021-02-14T03:10:51.321219Z",
     "iopub.status.busy": "2021-02-14T03:10:51.321064Z",
     "iopub.status.idle": "2021-02-14T03:10:51.324477Z",
     "shell.execute_reply": "2021-02-14T03:10:51.323851Z",
     "shell.execute_reply.started": "2021-02-14T03:10:51.321203Z"
    }
   },
   "source": [
    "Lets plot some scatter plots of the results"
   ]
  },
  {
   "cell_type": "markdown",
   "metadata": {},
   "source": [
    "REDO CELL 10 AS A LINECHART. START AT 100 AND CHANGE BASED ON PERCENTAGE"
   ]
  },
  {
   "cell_type": "code",
   "execution_count": 9,
   "metadata": {
    "execution": {
     "iopub.execute_input": "2021-02-19T02:07:08.062607Z",
     "iopub.status.busy": "2021-02-19T02:07:08.062379Z",
     "iopub.status.idle": "2021-02-19T02:07:08.492179Z",
     "shell.execute_reply": "2021-02-19T02:07:08.491789Z",
     "shell.execute_reply.started": "2021-02-19T02:07:08.062584Z"
    },
    "tags": []
   },
   "outputs": [
    {
     "data": {
      "image/png": "[encoded data removed]",
      "text/plain": [
       "<Figure size 432x288 with 1 Axes>"
      ]
     },
     "metadata": {
      "needs_background": "light"
     },
     "output_type": "display_data"
    },
    {
     "data": {
      "image/png": "[encoded data removed]",
      "text/plain": [
       "<Figure size 432x288 with 1 Axes>"
      ]
     },
     "metadata": {
      "needs_background": "light"
     },
     "output_type": "display_data"
    },
    {
     "data": {
      "image/png": "[encoded data removed]",
      "text/plain": [
       "<Figure size 432x288 with 1 Axes>"
      ]
     },
     "metadata": {
      "needs_background": "light"
     },
     "output_type": "display_data"
    },
    {
     "data": {
      "image/png": "[encoded data removed]",
      "text/plain": [
       "<Figure size 432x288 with 1 Axes>"
      ]
     },
     "metadata": {
      "needs_background": "light"
     },
     "output_type": "display_data"
    }
   ],
   "source": [
    "for i in range(len(models)):\n",
    "    plt.figure()\n",
    "    y_pred_LR = models[i][1].predict(X_test)\n",
    "    plt.scatter(y_test, y_pred_LR)\n",
    "    plt.xlabel('Actual Value')\n",
    "    plt.ylabel('Expected Value')\n",
    "    plt.title(models[i][0])\n",
    "    plt.show()"
   ]
  },
  {
   "cell_type": "markdown",
   "metadata": {},
   "source": [
    "Best Base Model so far seems to be linear regression"
   ]
  },
  {
   "cell_type": "markdown",
   "metadata": {
    "execution": {
     "iopub.execute_input": "2021-02-14T03:11:55.556152Z",
     "iopub.status.busy": "2021-02-14T03:11:55.555992Z",
     "iopub.status.idle": "2021-02-14T03:11:55.559006Z",
     "shell.execute_reply": "2021-02-14T03:11:55.558531Z",
     "shell.execute_reply.started": "2021-02-14T03:11:55.556136Z"
    }
   },
   "source": [
    "Lets get all available parameters that can be tuned from each model"
   ]
  },
  {
   "cell_type": "code",
   "execution_count": 10,
   "metadata": {
    "execution": {
     "iopub.execute_input": "2021-02-19T02:07:10.593412Z",
     "iopub.status.busy": "2021-02-19T02:07:10.593250Z",
     "iopub.status.idle": "2021-02-19T02:07:10.596959Z",
     "shell.execute_reply": "2021-02-19T02:07:10.596588Z",
     "shell.execute_reply.started": "2021-02-19T02:07:10.593394Z"
    },
    "tags": []
   },
   "outputs": [
    {
     "name": "stdout",
     "output_type": "stream",
     "text": [
      "LR {'copy_X': True, 'fit_intercept': True, 'n_jobs': None, 'normalize': False, 'positive': False}\n",
      "KNN {'algorithm': 'auto', 'leaf_size': 30, 'metric': 'minkowski', 'metric_params': None, 'n_jobs': None, 'n_neighbors': 5, 'p': 2, 'weights': 'uniform'}\n",
      "XGB {'objective': 'reg:squarederror', 'base_score': 0.5, 'booster': 'gbtree', 'colsample_bylevel': 1, 'colsample_bynode': 1, 'colsample_bytree': 1, 'gamma': 0, 'gpu_id': -1, 'importance_type': 'gain', 'interaction_constraints': '', 'learning_rate': 0.300000012, 'max_delta_step': 0, 'max_depth': 6, 'min_child_weight': 1, 'missing': nan, 'monotone_constraints': '()', 'n_estimators': 100, 'n_jobs': 8, 'num_parallel_tree': 1, 'random_state': 0, 'reg_alpha': 0, 'reg_lambda': 1, 'scale_pos_weight': 1, 'subsample': 1, 'tree_method': 'exact', 'validate_parameters': 1, 'verbosity': None}\n",
      "RFR {'bootstrap': True, 'ccp_alpha': 0.0, 'criterion': 'mse', 'max_depth': None, 'max_features': 'auto', 'max_leaf_nodes': None, 'max_samples': None, 'min_impurity_decrease': 0.0, 'min_impurity_split': None, 'min_samples_leaf': 1, 'min_samples_split': 2, 'min_weight_fraction_leaf': 0.0, 'n_estimators': 100, 'n_jobs': None, 'oob_score': False, 'random_state': None, 'verbose': 0, 'warm_start': False}\n"
     ]
    }
   ],
   "source": [
    "for name, model in models:\n",
    "    print(name, model.get_params())"
   ]
  },
  {
   "cell_type": "markdown",
   "metadata": {
    "execution": {
     "iopub.execute_input": "2021-02-14T03:12:19.656260Z",
     "iopub.status.busy": "2021-02-14T03:12:19.656101Z",
     "iopub.status.idle": "2021-02-14T03:12:19.658245Z",
     "shell.execute_reply": "2021-02-14T03:12:19.657873Z",
     "shell.execute_reply.started": "2021-02-14T03:12:19.656244Z"
    }
   },
   "source": [
    "### Hypertuning"
   ]
  },
  {
   "cell_type": "code",
   "execution_count": 11,
   "metadata": {
    "execution": {
     "iopub.execute_input": "2021-02-19T02:07:12.152337Z",
     "iopub.status.busy": "2021-02-19T02:07:12.152121Z",
     "iopub.status.idle": "2021-02-19T02:10:56.130624Z",
     "shell.execute_reply": "2021-02-19T02:10:56.129902Z",
     "shell.execute_reply.started": "2021-02-19T02:07:12.152312Z"
    },
    "tags": []
   },
   "outputs": [
    {
     "name": "stdout",
     "output_type": "stream",
     "text": [
      "KNN\n",
      "-1.2367414767293954 KNeighborsRegressor(leaf_size=5, n_jobs=-1, n_neighbors=200)\n",
      "XGB\n",
      "-1.1476706434330874 XGBRegressor(base_score=2.0, booster='gbtree', colsample_bylevel=1,\n",
      "             colsample_bynode=1, colsample_bytree=1, gamma=0, gpu_id=-1,\n",
      "             importance_type='gain', interaction_constraints='',\n",
      "             learning_rate=0.3, max_delta_step=0, max_depth=6,\n",
      "             min_child_weight=1, missing=nan, monotone_constraints='()',\n",
      "             n_estimators=20, n_jobs=-1, num_parallel_tree=1, random_state=0,\n",
      "             reg_alpha=0, reg_lambda=1, scale_pos_weight=1, subsample=1,\n",
      "             tree_method='exact', validate_parameters=1, verbosity=None)\n",
      "RFR\n",
      "-1.1382296774856973 RandomForestRegressor(n_estimators=200, n_jobs=-1)\n"
     ]
    }
   ],
   "source": [
    "param_search = {}\n",
    "param_search['KNN'] = {'n_neighbors' : [1, 5, 10, 20, 50, 100, 200], 'leaf_size' : [5, 10, 20, 30, 50], 'n_jobs' :[-1]}\n",
    "param_search['XGB'] = {'n_estimators' : [20, 50, 100, 200], 'base_score' : [0.5, 1.0, 2.0], 'learning_rate' : [0.2, 0.3, 0.5, 1.0], 'n_jobs' : [-1]}\n",
    "param_search['RFR'] = {'n_estimators' : [20, 50, 100, 200], 'n_jobs' : [-1]}\n",
    "tuned_results = []\n",
    "tuned_best_score = []\n",
    "tuned_best_estimator = []\n",
    "for name, model in models:\n",
    "    if name != 'LR':\n",
    "        print(name)\n",
    "        gsearch = GridSearchCV(estimator=model, cv=tscv, param_grid=param_search[name], scoring = 'neg_mean_squared_error')\n",
    "        if name != 'RFR':\n",
    "            gsearch.fit(X_train, y_train)\n",
    "        else :\n",
    "            gsearch.fit(X_train, y_train.values.ravel())\n",
    "        best_score = gsearch.best_score_\n",
    "        best_model = gsearch.best_estimator_\n",
    "        tuned_results.append(gsearch)\n",
    "        tuned_best_score.append(best_score)\n",
    "        tuned_best_estimator.append(best_model)\n",
    "        print(best_score, best_model)"
   ]
  },
  {
   "cell_type": "code",
   "execution_count": 12,
   "metadata": {
    "execution": {
     "iopub.execute_input": "2021-02-12T01:22:30.438018Z",
     "iopub.status.busy": "2021-02-12T01:22:30.437826Z",
     "iopub.status.idle": "2021-02-12T01:22:30.442167Z",
     "shell.execute_reply": "2021-02-12T01:22:30.441589Z",
     "shell.execute_reply.started": "2021-02-12T01:22:30.437993Z"
    }
   },
   "outputs": [
    {
     "name": "stdout",
     "output_type": "stream",
     "text": [
      "LR -0.7977670130085517\n",
      "KNN -1.6693189335304575\n",
      "XGB -1.4607752644613747\n",
      "RFR -1.1601918606604629\n"
     ]
    }
   ],
   "source": [
    "for i in range(len(results)):\n",
    "    print(names[i], results[i].mean())\n",
    "#Print results in for loop to compare to tuned models"
   ]
  },
  {
   "cell_type": "code",
   "execution_count": 13,
   "metadata": {
    "execution": {
     "iopub.execute_input": "2021-02-12T01:22:30.443246Z",
     "iopub.status.busy": "2021-02-12T01:22:30.443039Z",
     "iopub.status.idle": "2021-02-12T01:22:30.460040Z",
     "shell.execute_reply": "2021-02-12T01:22:30.459327Z",
     "shell.execute_reply.started": "2021-02-12T01:22:30.443220Z"
    }
   },
   "outputs": [
    {
     "name": "stdout",
     "output_type": "stream",
     "text": [
      "KNeighborsRegressor(leaf_size=5, n_jobs=-1, n_neighbors=200) -1.2367414767293954\n",
      "XGBRegressor(base_score=2.0, booster='gbtree', colsample_bylevel=1,\n",
      "             colsample_bynode=1, colsample_bytree=1, gamma=0, gpu_id=-1,\n",
      "             importance_type='gain', interaction_constraints='',\n",
      "             learning_rate=0.3, max_delta_step=0, max_depth=6,\n",
      "             min_child_weight=1, missing=nan, monotone_constraints='()',\n",
      "             n_estimators=20, n_jobs=-1, num_parallel_tree=1, random_state=0,\n",
      "             reg_alpha=0, reg_lambda=1, scale_pos_weight=1, subsample=1,\n",
      "             tree_method='exact', validate_parameters=1, verbosity=None) -1.1476706434330874\n",
      "RandomForestRegressor(n_estimators=200, n_jobs=-1) -1.1418816023476197\n"
     ]
    }
   ],
   "source": [
    "for i in range(len(tuned_best_score)):\n",
    "    print(tuned_best_estimator[i], tuned_best_score[i])"
   ]
  },
  {
   "cell_type": "markdown",
   "metadata": {},
   "source": [
    "Even after tuning, Linear regression still the best predictor model."
   ]
  },
  {
   "cell_type": "markdown",
   "metadata": {},
   "source": [
    "Lets work on the shifted models"
   ]
  },
  {
   "cell_type": "code",
   "execution_count": 17,
   "metadata": {
    "execution": {
     "iopub.execute_input": "2021-02-12T01:24:50.216263Z",
     "iopub.status.busy": "2021-02-12T01:24:50.216106Z",
     "iopub.status.idle": "2021-02-12T01:25:33.470147Z",
     "shell.execute_reply": "2021-02-12T01:25:33.469681Z",
     "shell.execute_reply.started": "2021-02-12T01:24:50.216247Z"
    }
   },
   "outputs": [
    {
     "name": "stdout",
     "output_type": "stream",
     "text": [
      "LR: -1.212995 (0.958964)\n",
      "KNN: -1.596295 (1.157928)\n",
      "XGB: -1.897913 (1.086404)\n",
      "RFR: -1.789444 (1.337633)\n"
     ]
    }
   ],
   "source": [
    "results2 = []\n",
    "names2 = []\n",
    "\n",
    "for name, model in models:\n",
    "    tscv = TimeSeriesSplit(n_splits=10)\n",
    "    \n",
    "    if name != 'RFR':\n",
    "        model.fit(X2_train, y2_train)\n",
    "        cv_results2 = cross_val_score(model, X2_train, y2_train, cv=tscv, scoring='neg_mean_squared_error')\n",
    "    else:\n",
    "        model.fit(X2_train, y2_train.values.ravel())\n",
    "        cv_results2 = cross_val_score(model, X2_train, y2_train.values.ravel(), cv=tscv, scoring='neg_mean_squared_error')\n",
    "    ###scoring : neg_mean_squared_error, neg_mean_absolute_error, r2\n",
    "    names2.append(name)\n",
    "    results2.append(cv_results2)\n",
    "    \n",
    "    print('%s: %f (%f)' % (name, cv_results2.mean(), cv_results2.std()))"
   ]
  },
  {
   "cell_type": "code",
   "execution_count": 18,
   "metadata": {
    "execution": {
     "iopub.execute_input": "2021-02-12T01:25:33.534091Z",
     "iopub.status.busy": "2021-02-12T01:25:33.533973Z",
     "iopub.status.idle": "2021-02-12T01:25:33.617055Z",
     "shell.execute_reply": "2021-02-12T01:25:33.616630Z",
     "shell.execute_reply.started": "2021-02-12T01:25:33.534076Z"
    }
   },
   "outputs": [
    {
     "data": {
      "image/png": "[encoded data removed]",
      "text/plain": [
       "<Figure size 432x288 with 1 Axes>"
      ]
     },
     "metadata": {
      "needs_background": "light"
     },
     "output_type": "display_data"
    }
   ],
   "source": [
    "# Compare Algorithms\n",
    "plt.boxplot(results2, labels=names2)\n",
    "plt.title('Algorithm Comparison for time-shifted data')\n",
    "plt.show()"
   ]
  },
  {
   "cell_type": "code",
   "execution_count": 19,
   "metadata": {
    "execution": {
     "iopub.execute_input": "2021-02-12T01:25:33.617947Z",
     "iopub.status.busy": "2021-02-12T01:25:33.617828Z",
     "iopub.status.idle": "2021-02-12T01:25:34.013988Z",
     "shell.execute_reply": "2021-02-12T01:25:34.013396Z",
     "shell.execute_reply.started": "2021-02-12T01:25:33.617931Z"
    }
   },
   "outputs": [
    {
     "data": {
      "image/png": "[encoded data removed]",
      "text/plain": [
       "<Figure size 432x288 with 1 Axes>"
      ]
     },
     "metadata": {
      "needs_background": "light"
     },
     "output_type": "display_data"
    },
    {
     "data": {
      "image/png": "[encoded data removed]",
      "text/plain": [
       "<Figure size 432x288 with 1 Axes>"
      ]
     },
     "metadata": {
      "needs_background": "light"
     },
     "output_type": "display_data"
    },
    {
     "data": {
      "image/png": "[encoded data removed]",
      "text/plain": [
       "<Figure size 432x288 with 1 Axes>"
      ]
     },
     "metadata": {
      "needs_background": "light"
     },
     "output_type": "display_data"
    },
    {
     "data": {
      "image/png": "[encoded data removed]",
      "text/plain": [
       "<Figure size 432x288 with 1 Axes>"
      ]
     },
     "metadata": {
      "needs_background": "light"
     },
     "output_type": "display_data"
    }
   ],
   "source": [
    "for i in range(len(models)):\n",
    "    plt.figure()\n",
    "    y_pred_LR2 = models[i][1].predict(X2_test)\n",
    "    plt.scatter(y2_test, y_pred_LR2)\n",
    "    plt.title(models[i][0])\n",
    "    plt.show()"
   ]
  },
  {
   "cell_type": "markdown",
   "metadata": {},
   "source": [
    "It was found earlier that an untuned Linear Regression model was the best time-series predictor model to run on the dataset. This will be re-affirmed by again running grid search on the models for a better tuned model to see if we arrive to the same conclusion."
   ]
  },
  {
   "cell_type": "code",
   "execution_count": 20,
   "metadata": {
    "execution": {
     "iopub.execute_input": "2021-02-12T01:29:38.247706Z",
     "iopub.status.busy": "2021-02-12T01:29:38.247555Z",
     "iopub.status.idle": "2021-02-12T01:32:53.655905Z",
     "shell.execute_reply": "2021-02-12T01:32:53.653888Z",
     "shell.execute_reply.started": "2021-02-12T01:29:38.247690Z"
    }
   },
   "outputs": [
    {
     "name": "stdout",
     "output_type": "stream",
     "text": [
      "KNN\n",
      "-1.236922529689319 KNeighborsRegressor(leaf_size=5, n_jobs=-1, n_neighbors=200)\n",
      "XGB\n",
      "-1.550759739045334 XGBRegressor(base_score=0.5, booster='gbtree', colsample_bylevel=1,\n",
      "             colsample_bynode=1, colsample_bytree=1, gamma=0, gpu_id=-1,\n",
      "             importance_type='gain', interaction_constraints='',\n",
      "             learning_rate=0.2, max_delta_step=0, max_depth=6,\n",
      "             min_child_weight=1, missing=nan, monotone_constraints='()',\n",
      "             n_estimators=20, n_jobs=-1, num_parallel_tree=1, random_state=0,\n",
      "             reg_alpha=0, reg_lambda=1, scale_pos_weight=1, subsample=1,\n",
      "             tree_method='exact', validate_parameters=1, verbosity=None)\n",
      "RFR\n",
      "-1.7133577400611084 RandomForestRegressor(n_estimators=50, n_jobs=-1)\n"
     ]
    }
   ],
   "source": [
    "param_search = {}\n",
    "param_search['KNN'] = {'n_neighbors' : [1, 5, 10, 20, 50, 100, 200], 'leaf_size' : [5, 10, 20, 30, 50], 'n_jobs' :[-1]}\n",
    "param_search['XGB'] = {'n_estimators' : [20, 50, 100, 200], 'base_score' : [0.5, 1.0, 2.0], 'learning_rate' : [0.2, 0.3, 0.5, 1.0], 'n_jobs' : [-1]}\n",
    "param_search['RFR'] = {'n_estimators' : [20, 50, 100, 200], 'n_jobs' : [-1]}\n",
    "tuned_results2 = []\n",
    "tuned_best_score2 = []\n",
    "tuned_best_estimator2 = []\n",
    "for name, model in models:\n",
    "    if name != 'LR':\n",
    "        print(name)\n",
    "        gsearch = GridSearchCV(estimator=model, cv=tscv, param_grid=param_search[name], scoring = 'neg_mean_squared_error')\n",
    "        if name != 'RFR':\n",
    "            gsearch.fit(X2_train, y2_train)\n",
    "        else :\n",
    "            gsearch.fit(X2_train, y2_train.values.ravel())\n",
    "        best_score = gsearch.best_score_\n",
    "        best_model = gsearch.best_estimator_\n",
    "        tuned_results.append(gsearch)\n",
    "        tuned_best_score.append(best_score)\n",
    "        tuned_best_estimator.append(best_model)\n",
    "        print(best_score, best_model)"
   ]
  },
  {
   "cell_type": "code",
   "execution_count": 25,
   "metadata": {
    "execution": {
     "iopub.execute_input": "2021-02-12T01:43:24.864203Z",
     "iopub.status.busy": "2021-02-12T01:43:24.863952Z",
     "iopub.status.idle": "2021-02-12T01:43:24.867815Z",
     "shell.execute_reply": "2021-02-12T01:43:24.867474Z",
     "shell.execute_reply.started": "2021-02-12T01:43:24.864177Z"
    }
   },
   "outputs": [
    {
     "data": {
      "text/plain": [
       "('LR', -1.212994856526859)"
      ]
     },
     "execution_count": 25,
     "metadata": {},
     "output_type": "execute_result"
    }
   ],
   "source": [
    "names[0], results2[0].mean()"
   ]
  },
  {
   "cell_type": "markdown",
   "metadata": {},
   "source": [
    "Even After Tuning, the best model by a small margin is linear regression with a negative mean squared error of around 1.21."
   ]
  }
 ],
 "metadata": {
  "kernelspec": {
   "display_name": "Python 3",
   "language": "python",
   "name": "python3"
  },
  "language_info": {
   "codemirror_mode": {
    "name": "ipython",
    "version": 3
   },
   "file_extension": ".py",
   "mimetype": "text/x-python",
   "name": "python",
   "nbconvert_exporter": "python",
   "pygments_lexer": "ipython3",
   "version": "3.9.1"
  }
 },
 "nbformat": 4,
 "nbformat_minor": 4
}
