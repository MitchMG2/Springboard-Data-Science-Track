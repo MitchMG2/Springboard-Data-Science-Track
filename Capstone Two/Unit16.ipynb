{
 "cells": [
  {
   "cell_type": "markdown",
   "metadata": {},
   "source": [
    "#### Imports"
   ]
  },
  {
   "cell_type": "code",
   "execution_count": 1,
   "metadata": {
    "execution": {
     "iopub.execute_input": "2021-02-17T22:17:21.275286Z",
     "iopub.status.busy": "2021-02-17T22:17:21.275165Z",
     "iopub.status.idle": "2021-02-17T22:17:21.927742Z",
     "shell.execute_reply": "2021-02-17T22:17:21.927337Z",
     "shell.execute_reply.started": "2021-02-17T22:17:21.275271Z"
    }
   },
   "outputs": [],
   "source": [
    "import pandas as pd\n",
    "import numpy as np\n",
    "import os\n",
    "import matplotlib.pyplot as plt\n",
    "import datetime\n",
    "import math\n",
    "import sklearn\n",
    "from sklearn.model_selection import TimeSeriesSplit"
   ]
  },
  {
   "cell_type": "markdown",
   "metadata": {},
   "source": [
    "Import and examine datasets"
   ]
  },
  {
   "cell_type": "code",
   "execution_count": 2,
   "metadata": {
    "execution": {
     "iopub.execute_input": "2021-02-17T22:17:21.928496Z",
     "iopub.status.busy": "2021-02-17T22:17:21.928374Z",
     "iopub.status.idle": "2021-02-17T22:17:21.973817Z",
     "shell.execute_reply": "2021-02-17T22:17:21.973296Z",
     "shell.execute_reply.started": "2021-02-17T22:17:21.928481Z"
    }
   },
   "outputs": [],
   "source": [
    "dataset = pd.read_csv('data/all_exchanges_data_cleaned.csv')\n",
    "fourday = pd.read_csv('data/fourday.csv')"
   ]
  },
  {
   "cell_type": "code",
   "execution_count": 3,
   "metadata": {
    "execution": {
     "iopub.execute_input": "2021-02-17T22:17:21.974983Z",
     "iopub.status.busy": "2021-02-17T22:17:21.974769Z",
     "iopub.status.idle": "2021-02-17T22:17:22.016278Z",
     "shell.execute_reply": "2021-02-17T22:17:22.015115Z",
     "shell.execute_reply.started": "2021-02-17T22:17:21.974955Z"
    }
   },
   "outputs": [
    {
     "data": {
      "text/html": [
       "<div>\n",
       "<style scoped>\n",
       "    .dataframe tbody tr th:only-of-type {\n",
       "        vertical-align: middle;\n",
       "    }\n",
       "\n",
       "    .dataframe tbody tr th {\n",
       "        vertical-align: top;\n",
       "    }\n",
       "\n",
       "    .dataframe thead th {\n",
       "        text-align: right;\n",
       "    }\n",
       "</style>\n",
       "<table border=\"1\" class=\"dataframe\">\n",
       "  <thead>\n",
       "    <tr style=\"text-align: right;\">\n",
       "      <th></th>\n",
       "      <th>Open</th>\n",
       "      <th>High</th>\n",
       "      <th>Low</th>\n",
       "      <th>Close</th>\n",
       "      <th>Adj Close</th>\n",
       "      <th>Volume</th>\n",
       "      <th>Percent Change</th>\n",
       "    </tr>\n",
       "  </thead>\n",
       "  <tbody>\n",
       "    <tr>\n",
       "      <th>count</th>\n",
       "      <td>19958.000000</td>\n",
       "      <td>19958.000000</td>\n",
       "      <td>19958.000000</td>\n",
       "      <td>19958.000000</td>\n",
       "      <td>19958.000000</td>\n",
       "      <td>1.995800e+04</td>\n",
       "      <td>19958.000000</td>\n",
       "    </tr>\n",
       "    <tr>\n",
       "      <th>mean</th>\n",
       "      <td>12359.002648</td>\n",
       "      <td>12432.552746</td>\n",
       "      <td>12275.562052</td>\n",
       "      <td>12356.404874</td>\n",
       "      <td>12356.404874</td>\n",
       "      <td>4.463857e+08</td>\n",
       "      <td>0.018235</td>\n",
       "    </tr>\n",
       "    <tr>\n",
       "      <th>std</th>\n",
       "      <td>8513.927306</td>\n",
       "      <td>8558.398208</td>\n",
       "      <td>8460.504323</td>\n",
       "      <td>8510.861717</td>\n",
       "      <td>8510.861717</td>\n",
       "      <td>7.229008e+08</td>\n",
       "      <td>1.368694</td>\n",
       "    </tr>\n",
       "    <tr>\n",
       "      <th>min</th>\n",
       "      <td>427.600006</td>\n",
       "      <td>436.519989</td>\n",
       "      <td>419.489990</td>\n",
       "      <td>419.950012</td>\n",
       "      <td>419.950012</td>\n",
       "      <td>0.000000e+00</td>\n",
       "      <td>-12.926546</td>\n",
       "    </tr>\n",
       "    <tr>\n",
       "      <th>25%</th>\n",
       "      <td>1085.022461</td>\n",
       "      <td>1090.065003</td>\n",
       "      <td>1081.955017</td>\n",
       "      <td>1086.654968</td>\n",
       "      <td>1086.654968</td>\n",
       "      <td>1.347000e+05</td>\n",
       "      <td>-0.597822</td>\n",
       "    </tr>\n",
       "    <tr>\n",
       "      <th>50%</th>\n",
       "      <td>11933.995117</td>\n",
       "      <td>12011.040039</td>\n",
       "      <td>11834.734863</td>\n",
       "      <td>11932.549805</td>\n",
       "      <td>11932.549805</td>\n",
       "      <td>2.048604e+08</td>\n",
       "      <td>0.049819</td>\n",
       "    </tr>\n",
       "    <tr>\n",
       "      <th>75%</th>\n",
       "      <td>19283.262696</td>\n",
       "      <td>19401.442383</td>\n",
       "      <td>19161.534668</td>\n",
       "      <td>19287.947266</td>\n",
       "      <td>19287.947266</td>\n",
       "      <td>3.603706e+08</td>\n",
       "      <td>0.665370</td>\n",
       "    </tr>\n",
       "    <tr>\n",
       "      <th>max</th>\n",
       "      <td>33335.480469</td>\n",
       "      <td>33484.078125</td>\n",
       "      <td>32897.039063</td>\n",
       "      <td>33154.121094</td>\n",
       "      <td>33154.121094</td>\n",
       "      <td>9.799120e+09</td>\n",
       "      <td>14.347069</td>\n",
       "    </tr>\n",
       "  </tbody>\n",
       "</table>\n",
       "</div>"
      ],
      "text/plain": [
       "               Open          High           Low         Close     Adj Close  \\\n",
       "count  19958.000000  19958.000000  19958.000000  19958.000000  19958.000000   \n",
       "mean   12359.002648  12432.552746  12275.562052  12356.404874  12356.404874   \n",
       "std     8513.927306   8558.398208   8460.504323   8510.861717   8510.861717   \n",
       "min      427.600006    436.519989    419.489990    419.950012    419.950012   \n",
       "25%     1085.022461   1090.065003   1081.955017   1086.654968   1086.654968   \n",
       "50%    11933.995117  12011.040039  11834.734863  11932.549805  11932.549805   \n",
       "75%    19283.262696  19401.442383  19161.534668  19287.947266  19287.947266   \n",
       "max    33335.480469  33484.078125  32897.039063  33154.121094  33154.121094   \n",
       "\n",
       "             Volume  Percent Change  \n",
       "count  1.995800e+04    19958.000000  \n",
       "mean   4.463857e+08        0.018235  \n",
       "std    7.229008e+08        1.368694  \n",
       "min    0.000000e+00      -12.926546  \n",
       "25%    1.347000e+05       -0.597822  \n",
       "50%    2.048604e+08        0.049819  \n",
       "75%    3.603706e+08        0.665370  \n",
       "max    9.799120e+09       14.347069  "
      ]
     },
     "execution_count": 3,
     "metadata": {},
     "output_type": "execute_result"
    }
   ],
   "source": [
    "dataset.describe()"
   ]
  },
  {
   "cell_type": "code",
   "execution_count": 4,
   "metadata": {
    "execution": {
     "iopub.execute_input": "2021-02-17T22:17:22.018422Z",
     "iopub.status.busy": "2021-02-17T22:17:22.018263Z",
     "iopub.status.idle": "2021-02-17T22:17:22.023282Z",
     "shell.execute_reply": "2021-02-17T22:17:22.022790Z",
     "shell.execute_reply.started": "2021-02-17T22:17:22.018407Z"
    }
   },
   "outputs": [
    {
     "data": {
      "text/plain": [
       "Index(['index', 'Date', 'Open', 'High', 'Low', 'Close', 'Adj Close',\n",
       "       'Percent Change', 'Index'],\n",
       "      dtype='object')"
      ]
     },
     "execution_count": 4,
     "metadata": {},
     "output_type": "execute_result"
    }
   ],
   "source": [
    "fourday.columns"
   ]
  },
  {
   "cell_type": "code",
   "execution_count": 5,
   "metadata": {
    "execution": {
     "iopub.execute_input": "2021-02-17T22:17:22.024255Z",
     "iopub.status.busy": "2021-02-17T22:17:22.024137Z",
     "iopub.status.idle": "2021-02-17T22:17:22.039265Z",
     "shell.execute_reply": "2021-02-17T22:17:22.038616Z",
     "shell.execute_reply.started": "2021-02-17T22:17:22.024239Z"
    }
   },
   "outputs": [
    {
     "data": {
      "text/html": [
       "<div>\n",
       "<style scoped>\n",
       "    .dataframe tbody tr th:only-of-type {\n",
       "        vertical-align: middle;\n",
       "    }\n",
       "\n",
       "    .dataframe tbody tr th {\n",
       "        vertical-align: top;\n",
       "    }\n",
       "\n",
       "    .dataframe thead th {\n",
       "        text-align: right;\n",
       "    }\n",
       "</style>\n",
       "<table border=\"1\" class=\"dataframe\">\n",
       "  <thead>\n",
       "    <tr style=\"text-align: right;\">\n",
       "      <th></th>\n",
       "      <th>index</th>\n",
       "      <th>Date</th>\n",
       "      <th>Open</th>\n",
       "      <th>High</th>\n",
       "      <th>Low</th>\n",
       "      <th>Close</th>\n",
       "      <th>Adj Close</th>\n",
       "      <th>Percent Change</th>\n",
       "      <th>Index</th>\n",
       "    </tr>\n",
       "  </thead>\n",
       "  <tbody>\n",
       "    <tr>\n",
       "      <th>0</th>\n",
       "      <td>3</td>\n",
       "      <td>2000-10-11</td>\n",
       "      <td>10521.070313</td>\n",
       "      <td>10566.580078</td>\n",
       "      <td>10350.889648</td>\n",
       "      <td>10413.790039</td>\n",
       "      <td>10413.790039</td>\n",
       "      <td>-1.050990</td>\n",
       "      <td>Dow Jones Industrial</td>\n",
       "    </tr>\n",
       "    <tr>\n",
       "      <th>1</th>\n",
       "      <td>4</td>\n",
       "      <td>2000-10-11</td>\n",
       "      <td>1009.489990</td>\n",
       "      <td>1009.489990</td>\n",
       "      <td>1009.489990</td>\n",
       "      <td>1009.489990</td>\n",
       "      <td>1009.489990</td>\n",
       "      <td>-2.605886</td>\n",
       "      <td>Euronext100</td>\n",
       "    </tr>\n",
       "    <tr>\n",
       "      <th>2</th>\n",
       "      <td>5</td>\n",
       "      <td>2000-10-11</td>\n",
       "      <td>15376.620117</td>\n",
       "      <td>15376.620117</td>\n",
       "      <td>15073.950195</td>\n",
       "      <td>15127.000000</td>\n",
       "      <td>15127.000000</td>\n",
       "      <td>-2.745965</td>\n",
       "      <td>Hang Seng</td>\n",
       "    </tr>\n",
       "    <tr>\n",
       "      <th>3</th>\n",
       "      <td>6</td>\n",
       "      <td>2000-10-11</td>\n",
       "      <td>15795.150391</td>\n",
       "      <td>15795.150391</td>\n",
       "      <td>15424.709961</td>\n",
       "      <td>15513.570313</td>\n",
       "      <td>15513.570313</td>\n",
       "      <td>-1.984805</td>\n",
       "      <td>Nikkei 225</td>\n",
       "    </tr>\n",
       "    <tr>\n",
       "      <th>4</th>\n",
       "      <td>7</td>\n",
       "      <td>2000-10-12</td>\n",
       "      <td>10424.139648</td>\n",
       "      <td>10460.400391</td>\n",
       "      <td>10023.490234</td>\n",
       "      <td>10034.580078</td>\n",
       "      <td>10034.580078</td>\n",
       "      <td>-3.641421</td>\n",
       "      <td>Dow Jones Industrial</td>\n",
       "    </tr>\n",
       "  </tbody>\n",
       "</table>\n",
       "</div>"
      ],
      "text/plain": [
       "   index        Date          Open          High           Low         Close  \\\n",
       "0      3  2000-10-11  10521.070313  10566.580078  10350.889648  10413.790039   \n",
       "1      4  2000-10-11   1009.489990   1009.489990   1009.489990   1009.489990   \n",
       "2      5  2000-10-11  15376.620117  15376.620117  15073.950195  15127.000000   \n",
       "3      6  2000-10-11  15795.150391  15795.150391  15424.709961  15513.570313   \n",
       "4      7  2000-10-12  10424.139648  10460.400391  10023.490234  10034.580078   \n",
       "\n",
       "      Adj Close  Percent Change                 Index  \n",
       "0  10413.790039       -1.050990  Dow Jones Industrial  \n",
       "1   1009.489990       -2.605886           Euronext100  \n",
       "2  15127.000000       -2.745965             Hang Seng  \n",
       "3  15513.570313       -1.984805            Nikkei 225  \n",
       "4  10034.580078       -3.641421  Dow Jones Industrial  "
      ]
     },
     "execution_count": 5,
     "metadata": {},
     "output_type": "execute_result"
    }
   ],
   "source": [
    "fourday.head(5)"
   ]
  },
  {
   "cell_type": "markdown",
   "metadata": {
    "execution": {
     "iopub.execute_input": "2021-02-05T01:34:40.902090Z",
     "iopub.status.busy": "2021-02-05T01:34:40.901929Z",
     "iopub.status.idle": "2021-02-05T01:34:40.904117Z",
     "shell.execute_reply": "2021-02-05T01:34:40.903691Z",
     "shell.execute_reply.started": "2021-02-05T01:34:40.902074Z"
    }
   },
   "source": [
    "Index Column is redundant and Date column no longer necessary because data is sorted, and will intefere with test-train splits."
   ]
  },
  {
   "cell_type": "code",
   "execution_count": 6,
   "metadata": {
    "execution": {
     "iopub.execute_input": "2021-02-17T22:17:22.040663Z",
     "iopub.status.busy": "2021-02-17T22:17:22.040406Z",
     "iopub.status.idle": "2021-02-17T22:17:22.046015Z",
     "shell.execute_reply": "2021-02-17T22:17:22.045493Z",
     "shell.execute_reply.started": "2021-02-17T22:17:22.040635Z"
    }
   },
   "outputs": [],
   "source": [
    "fourday.drop(['index', 'Date'], 1, inplace=True)"
   ]
  },
  {
   "cell_type": "markdown",
   "metadata": {},
   "source": [
    "Split merged dataset by indeces using the Index Column created when wrangling."
   ]
  },
  {
   "cell_type": "code",
   "execution_count": 7,
   "metadata": {
    "execution": {
     "iopub.execute_input": "2021-02-17T22:17:22.047115Z",
     "iopub.status.busy": "2021-02-17T22:17:22.046923Z",
     "iopub.status.idle": "2021-02-17T22:17:22.060800Z",
     "shell.execute_reply": "2021-02-17T22:17:22.060219Z",
     "shell.execute_reply.started": "2021-02-17T22:17:22.047091Z"
    }
   },
   "outputs": [],
   "source": [
    "DJI = fourday.loc[fourday['Index'] == 'Dow Jones Industrial']\n",
    "N100 = fourday.loc[fourday['Index'] == 'Euronext100']\n",
    "HSI = fourday.loc[fourday['Index'] == 'Hang Seng']\n",
    "N225 = fourday.loc[fourday['Index'] == 'Nikkei 225']"
   ]
  },
  {
   "cell_type": "code",
   "execution_count": 8,
   "metadata": {
    "execution": {
     "iopub.execute_input": "2021-02-17T22:17:22.061657Z",
     "iopub.status.busy": "2021-02-17T22:17:22.061524Z",
     "iopub.status.idle": "2021-02-17T22:17:22.070757Z",
     "shell.execute_reply": "2021-02-17T22:17:22.070080Z",
     "shell.execute_reply.started": "2021-02-17T22:17:22.061641Z"
    }
   },
   "outputs": [],
   "source": [
    "DJI = DJI.reset_index(drop=True)\n",
    "HSI = HSI.reset_index(drop=True)\n",
    "N100 = N100.reset_index(drop=True)\n",
    "N225 = N225.reset_index(drop=True)"
   ]
  },
  {
   "cell_type": "markdown",
   "metadata": {},
   "source": [
    "For test train split, Index Column is a redundant string variable since datasets are already separated by index. The variable was derived from separate datasets anyways to keep track during the merge. Drop Index Column"
   ]
  },
  {
   "cell_type": "code",
   "execution_count": 9,
   "metadata": {
    "execution": {
     "iopub.execute_input": "2021-02-17T22:17:22.071977Z",
     "iopub.status.busy": "2021-02-17T22:17:22.071728Z",
     "iopub.status.idle": "2021-02-17T22:17:22.077425Z",
     "shell.execute_reply": "2021-02-17T22:17:22.077004Z",
     "shell.execute_reply.started": "2021-02-17T22:17:22.071950Z"
    }
   },
   "outputs": [],
   "source": [
    "DJI.drop('Index', 1, inplace=True)\n",
    "HSI.drop('Index', 1, inplace=True)\n",
    "N100.drop('Index', 1, inplace=True)\n",
    "N225.drop('Index', 1, inplace=True)"
   ]
  },
  {
   "cell_type": "markdown",
   "metadata": {},
   "source": [
    "Create a second set of datasets where DJI and HSI are shifted a day earlier than the Asian market counterparts. This is in line with NYSE and Euronext exchanges operating at earlier times than Asian markets"
   ]
  },
  {
   "cell_type": "code",
   "execution_count": 10,
   "metadata": {
    "execution": {
     "iopub.execute_input": "2021-02-17T22:17:22.078179Z",
     "iopub.status.busy": "2021-02-17T22:17:22.078043Z",
     "iopub.status.idle": "2021-02-17T22:17:22.086938Z",
     "shell.execute_reply": "2021-02-17T22:17:22.086501Z",
     "shell.execute_reply.started": "2021-02-17T22:17:22.078163Z"
    }
   },
   "outputs": [],
   "source": [
    "DJI_shifted = DJI.drop(DJI.index[0])\n",
    "HSI_shifted = HSI.drop(DJI.index[0])\n",
    "N100_shifted = N100.drop(DJI.index[-1])\n",
    "N225_shifted = N225.drop(DJI.index[-1])\n",
    "\n",
    "DJI_shifted = DJI_shifted.reset_index(drop=True)\n",
    "HSI_shifted = HSI_shifted.reset_index(drop=True)\n",
    "N100_shifted = N100_shifted.reset_index(drop=True)\n",
    "N225_shifted = N225_shifted.reset_index(drop=True)"
   ]
  },
  {
   "cell_type": "code",
   "execution_count": 11,
   "metadata": {
    "execution": {
     "iopub.execute_input": "2021-02-17T22:17:22.087745Z",
     "iopub.status.busy": "2021-02-17T22:17:22.087543Z",
     "iopub.status.idle": "2021-02-17T22:17:22.092709Z",
     "shell.execute_reply": "2021-02-17T22:17:22.092226Z",
     "shell.execute_reply.started": "2021-02-17T22:17:22.087720Z"
    }
   },
   "outputs": [
    {
     "data": {
      "text/plain": [
       "(Open              float64\n",
       " High              float64\n",
       " Low               float64\n",
       " Close             float64\n",
       " Adj Close         float64\n",
       " Percent Change    float64\n",
       " dtype: object,\n",
       " Open              float64\n",
       " High              float64\n",
       " Low               float64\n",
       " Close             float64\n",
       " Adj Close         float64\n",
       " Percent Change    float64\n",
       " dtype: object)"
      ]
     },
     "execution_count": 11,
     "metadata": {},
     "output_type": "execute_result"
    }
   ],
   "source": [
    "DJI.dtypes, DJI_shifted.dtypes"
   ]
  },
  {
   "cell_type": "code",
   "execution_count": 12,
   "metadata": {
    "execution": {
     "iopub.execute_input": "2021-02-17T22:17:22.093677Z",
     "iopub.status.busy": "2021-02-17T22:17:22.093499Z",
     "iopub.status.idle": "2021-02-17T22:17:22.097267Z",
     "shell.execute_reply": "2021-02-17T22:17:22.096837Z",
     "shell.execute_reply.started": "2021-02-17T22:17:22.093654Z"
    }
   },
   "outputs": [
    {
     "name": "stdout",
     "output_type": "stream",
     "text": [
      "(4515, 6) (4515, 6) (4515, 6) (4515, 6) (4514, 6) (4514, 6) (4514, 6) (4514, 6)\n"
     ]
    }
   ],
   "source": [
    "print(DJI.shape, HSI.shape, N100.shape, N225.shape, DJI_shifted.shape, HSI_shifted.shape, N100_shifted.shape, N225_shifted.shape)"
   ]
  },
  {
   "cell_type": "markdown",
   "metadata": {},
   "source": [
    "Re-merge the separate indices. Do the same with the row-shifted datasets"
   ]
  },
  {
   "cell_type": "code",
   "execution_count": 13,
   "metadata": {
    "execution": {
     "iopub.execute_input": "2021-02-17T22:17:22.098200Z",
     "iopub.status.busy": "2021-02-17T22:17:22.098010Z",
     "iopub.status.idle": "2021-02-17T22:17:22.106978Z",
     "shell.execute_reply": "2021-02-17T22:17:22.106160Z",
     "shell.execute_reply.started": "2021-02-17T22:17:22.098176Z"
    }
   },
   "outputs": [],
   "source": [
    "Merged_df = [DJI, N100, HSI, N225]\n",
    "Merged_df_shifted = [DJI_shifted, N100_shifted, HSI_shifted, N225_shifted]"
   ]
  },
  {
   "cell_type": "code",
   "execution_count": 14,
   "metadata": {
    "execution": {
     "iopub.execute_input": "2021-02-17T22:17:22.109282Z",
     "iopub.status.busy": "2021-02-17T22:17:22.108921Z",
     "iopub.status.idle": "2021-02-17T22:17:22.118446Z",
     "shell.execute_reply": "2021-02-17T22:17:22.117809Z",
     "shell.execute_reply.started": "2021-02-17T22:17:22.109242Z"
    }
   },
   "outputs": [
    {
     "data": {
      "text/plain": [
       "Index(['Open', 'High', 'Low', 'Close', 'Adj Close', 'Percent Change'], dtype='object')"
      ]
     },
     "execution_count": 14,
     "metadata": {},
     "output_type": "execute_result"
    }
   ],
   "source": [
    "DJI.columns"
   ]
  },
  {
   "cell_type": "markdown",
   "metadata": {},
   "source": [
    "All Indeces/Exchanges need to be merged with a suffix after each column to keep track of the index due to repeated column names during the merge. The same will be done to the shifted dataset."
   ]
  },
  {
   "cell_type": "code",
   "execution_count": 15,
   "metadata": {
    "execution": {
     "iopub.execute_input": "2021-02-17T22:17:22.119500Z",
     "iopub.status.busy": "2021-02-17T22:17:22.119272Z",
     "iopub.status.idle": "2021-02-17T22:17:22.127613Z",
     "shell.execute_reply": "2021-02-17T22:17:22.127188Z",
     "shell.execute_reply.started": "2021-02-17T22:17:22.119475Z"
    }
   },
   "outputs": [],
   "source": [
    "All_exchanges_mg = Merged_df[0].merge(Merged_df[1], how='inner', suffixes=('_Dow', '_Eur'), left_index=True, right_index=True)\n",
    "\n",
    "All_exchanges_shifted_mg = Merged_df_shifted[0].merge(Merged_df_shifted[1], how='inner', suffixes=('_Dow', '_Eur'), left_index=True, right_index=True)"
   ]
  },
  {
   "cell_type": "code",
   "execution_count": 16,
   "metadata": {
    "execution": {
     "iopub.execute_input": "2021-02-17T22:17:22.128367Z",
     "iopub.status.busy": "2021-02-17T22:17:22.128218Z",
     "iopub.status.idle": "2021-02-17T22:17:22.137597Z",
     "shell.execute_reply": "2021-02-17T22:17:22.137095Z",
     "shell.execute_reply.started": "2021-02-17T22:17:22.128350Z"
    }
   },
   "outputs": [],
   "source": [
    "for column in (Merged_df[2].columns.values):\n",
    "    Merged_df[2] = Merged_df[2].rename(columns={column: column + '_HSI'})"
   ]
  },
  {
   "cell_type": "code",
   "execution_count": 17,
   "metadata": {
    "execution": {
     "iopub.execute_input": "2021-02-17T22:17:22.138512Z",
     "iopub.status.busy": "2021-02-17T22:17:22.138346Z",
     "iopub.status.idle": "2021-02-17T22:17:22.143787Z",
     "shell.execute_reply": "2021-02-17T22:17:22.143362Z",
     "shell.execute_reply.started": "2021-02-17T22:17:22.138491Z"
    }
   },
   "outputs": [],
   "source": [
    "for column in (Merged_df_shifted[2].columns.values):\n",
    "    Merged_df_shifted[2] = Merged_df_shifted[2].rename(columns={column: column + '_HSI'})"
   ]
  },
  {
   "cell_type": "code",
   "execution_count": 18,
   "metadata": {
    "execution": {
     "iopub.execute_input": "2021-02-17T22:17:22.144513Z",
     "iopub.status.busy": "2021-02-17T22:17:22.144400Z",
     "iopub.status.idle": "2021-02-17T22:17:22.152405Z",
     "shell.execute_reply": "2021-02-17T22:17:22.151985Z",
     "shell.execute_reply.started": "2021-02-17T22:17:22.144498Z"
    }
   },
   "outputs": [],
   "source": [
    "for column in (Merged_df[3].columns.values):\n",
    "    Merged_df[3] = Merged_df[3].rename(columns={column: column + '_NIK'})"
   ]
  },
  {
   "cell_type": "code",
   "execution_count": 19,
   "metadata": {
    "execution": {
     "iopub.execute_input": "2021-02-17T22:17:22.154291Z",
     "iopub.status.busy": "2021-02-17T22:17:22.154148Z",
     "iopub.status.idle": "2021-02-17T22:17:22.159612Z",
     "shell.execute_reply": "2021-02-17T22:17:22.159244Z",
     "shell.execute_reply.started": "2021-02-17T22:17:22.154275Z"
    }
   },
   "outputs": [],
   "source": [
    "for column in (Merged_df_shifted[3].columns.values):\n",
    "    Merged_df_shifted[3] = Merged_df_shifted[3].rename(columns={column: column + '_NIK'})"
   ]
  },
  {
   "cell_type": "code",
   "execution_count": 20,
   "metadata": {
    "execution": {
     "iopub.execute_input": "2021-02-17T22:17:22.160553Z",
     "iopub.status.busy": "2021-02-17T22:17:22.160434Z",
     "iopub.status.idle": "2021-02-17T22:17:22.172322Z",
     "shell.execute_reply": "2021-02-17T22:17:22.171812Z",
     "shell.execute_reply.started": "2021-02-17T22:17:22.160538Z"
    }
   },
   "outputs": [],
   "source": [
    "All_exchanges_mg = All_exchanges_mg.merge(Merged_df[2], how='inner', left_index=True, right_index=True)\n",
    "\n",
    "All_exchanges_shifted_mg = All_exchanges_shifted_mg.merge(Merged_df_shifted[2], how='inner', left_index=True, right_index=True)"
   ]
  },
  {
   "cell_type": "code",
   "execution_count": 21,
   "metadata": {
    "execution": {
     "iopub.execute_input": "2021-02-17T22:17:22.173274Z",
     "iopub.status.busy": "2021-02-17T22:17:22.173108Z",
     "iopub.status.idle": "2021-02-17T22:17:22.184412Z",
     "shell.execute_reply": "2021-02-17T22:17:22.183698Z",
     "shell.execute_reply.started": "2021-02-17T22:17:22.173252Z"
    }
   },
   "outputs": [],
   "source": [
    "All_exchanges_mg = All_exchanges_mg.merge(Merged_df[3], how='inner', left_index=True, right_index=True)\n",
    "\n",
    "All_exchanges_shifted_mg = All_exchanges_shifted_mg.merge(Merged_df_shifted[3], how='inner', left_index=True, right_index=True)"
   ]
  },
  {
   "cell_type": "markdown",
   "metadata": {},
   "source": [
    "Analyze the resulting datasets"
   ]
  },
  {
   "cell_type": "code",
   "execution_count": 22,
   "metadata": {
    "execution": {
     "iopub.execute_input": "2021-02-17T22:17:22.185610Z",
     "iopub.status.busy": "2021-02-17T22:17:22.185420Z",
     "iopub.status.idle": "2021-02-17T22:17:22.188958Z",
     "shell.execute_reply": "2021-02-17T22:17:22.188368Z",
     "shell.execute_reply.started": "2021-02-17T22:17:22.185593Z"
    }
   },
   "outputs": [
    {
     "data": {
      "text/plain": [
       "Index(['Open_Dow', 'High_Dow', 'Low_Dow', 'Close_Dow', 'Adj Close_Dow',\n",
       "       'Percent Change_Dow', 'Open_Eur', 'High_Eur', 'Low_Eur', 'Close_Eur',\n",
       "       'Adj Close_Eur', 'Percent Change_Eur', 'Open_HSI', 'High_HSI',\n",
       "       'Low_HSI', 'Close_HSI', 'Adj Close_HSI', 'Percent Change_HSI',\n",
       "       'Open_NIK', 'High_NIK', 'Low_NIK', 'Close_NIK', 'Adj Close_NIK',\n",
       "       'Percent Change_NIK'],\n",
       "      dtype='object')"
      ]
     },
     "execution_count": 22,
     "metadata": {},
     "output_type": "execute_result"
    }
   ],
   "source": [
    "All_exchanges_mg.columns"
   ]
  },
  {
   "cell_type": "code",
   "execution_count": 23,
   "metadata": {
    "execution": {
     "iopub.execute_input": "2021-02-17T22:17:22.189800Z",
     "iopub.status.busy": "2021-02-17T22:17:22.189670Z",
     "iopub.status.idle": "2021-02-17T22:17:22.199578Z",
     "shell.execute_reply": "2021-02-17T22:17:22.198830Z",
     "shell.execute_reply.started": "2021-02-17T22:17:22.189784Z"
    }
   },
   "outputs": [
    {
     "data": {
      "text/plain": [
       "Index(['Open_Dow', 'High_Dow', 'Low_Dow', 'Close_Dow', 'Adj Close_Dow',\n",
       "       'Percent Change_Dow', 'Open_Eur', 'High_Eur', 'Low_Eur', 'Close_Eur',\n",
       "       'Adj Close_Eur', 'Percent Change_Eur', 'Open_HSI', 'High_HSI',\n",
       "       'Low_HSI', 'Close_HSI', 'Adj Close_HSI', 'Percent Change_HSI',\n",
       "       'Open_NIK', 'High_NIK', 'Low_NIK', 'Close_NIK', 'Adj Close_NIK',\n",
       "       'Percent Change_NIK'],\n",
       "      dtype='object')"
      ]
     },
     "execution_count": 23,
     "metadata": {},
     "output_type": "execute_result"
    }
   ],
   "source": [
    "All_exchanges_shifted_mg.columns"
   ]
  },
  {
   "cell_type": "code",
   "execution_count": 24,
   "metadata": {
    "execution": {
     "iopub.execute_input": "2021-02-17T22:17:22.200661Z",
     "iopub.status.busy": "2021-02-17T22:17:22.200510Z",
     "iopub.status.idle": "2021-02-17T22:17:22.209086Z",
     "shell.execute_reply": "2021-02-17T22:17:22.208709Z",
     "shell.execute_reply.started": "2021-02-17T22:17:22.200636Z"
    }
   },
   "outputs": [
    {
     "data": {
      "text/plain": [
       "((4515, 24), (4514, 24))"
      ]
     },
     "execution_count": 24,
     "metadata": {},
     "output_type": "execute_result"
    }
   ],
   "source": [
    "All_exchanges_mg.shape, All_exchanges_shifted_mg.shape"
   ]
  },
  {
   "cell_type": "code",
   "execution_count": 25,
   "metadata": {
    "execution": {
     "iopub.execute_input": "2021-02-17T22:17:22.209860Z",
     "iopub.status.busy": "2021-02-17T22:17:22.209732Z",
     "iopub.status.idle": "2021-02-17T22:17:22.215122Z",
     "shell.execute_reply": "2021-02-17T22:17:22.214560Z",
     "shell.execute_reply.started": "2021-02-17T22:17:22.209844Z"
    }
   },
   "outputs": [
    {
     "name": "stdout",
     "output_type": "stream",
     "text": [
      "Index(['Open', 'High', 'Low', 'Close', 'Adj Close', 'Percent Change'], dtype='object') 6\n"
     ]
    }
   ],
   "source": [
    "print(DJI.columns, len(DJI.columns))"
   ]
  },
  {
   "cell_type": "markdown",
   "metadata": {},
   "source": [
    "Each Exchange contains 6 columns, four of these merged produce 24 columns total. Splits can therefore be done per 6 columns manually."
   ]
  },
  {
   "cell_type": "code",
   "execution_count": 26,
   "metadata": {
    "execution": {
     "iopub.execute_input": "2021-02-17T22:17:24.583548Z",
     "iopub.status.busy": "2021-02-17T22:17:24.583434Z",
     "iopub.status.idle": "2021-02-17T22:17:24.595596Z",
     "shell.execute_reply": "2021-02-17T22:17:24.595156Z",
     "shell.execute_reply.started": "2021-02-17T22:17:24.583533Z"
    }
   },
   "outputs": [
    {
     "data": {
      "text/html": [
       "<div>\n",
       "<style scoped>\n",
       "    .dataframe tbody tr th:only-of-type {\n",
       "        vertical-align: middle;\n",
       "    }\n",
       "\n",
       "    .dataframe tbody tr th {\n",
       "        vertical-align: top;\n",
       "    }\n",
       "\n",
       "    .dataframe thead th {\n",
       "        text-align: right;\n",
       "    }\n",
       "</style>\n",
       "<table border=\"1\" class=\"dataframe\">\n",
       "  <thead>\n",
       "    <tr style=\"text-align: right;\">\n",
       "      <th></th>\n",
       "      <th>Open_Dow</th>\n",
       "      <th>High_Dow</th>\n",
       "      <th>Low_Dow</th>\n",
       "      <th>Close_Dow</th>\n",
       "      <th>Adj Close_Dow</th>\n",
       "      <th>Percent Change_Dow</th>\n",
       "    </tr>\n",
       "  </thead>\n",
       "  <tbody>\n",
       "    <tr>\n",
       "      <th>0</th>\n",
       "      <td>10521.070313</td>\n",
       "      <td>10566.580078</td>\n",
       "      <td>10350.889648</td>\n",
       "      <td>10413.790039</td>\n",
       "      <td>10413.790039</td>\n",
       "      <td>-1.050990</td>\n",
       "    </tr>\n",
       "    <tr>\n",
       "      <th>1</th>\n",
       "      <td>10424.139648</td>\n",
       "      <td>10460.400391</td>\n",
       "      <td>10023.490234</td>\n",
       "      <td>10034.580078</td>\n",
       "      <td>10034.580078</td>\n",
       "      <td>-3.641421</td>\n",
       "    </tr>\n",
       "    <tr>\n",
       "      <th>2</th>\n",
       "      <td>10031.620117</td>\n",
       "      <td>10208.089844</td>\n",
       "      <td>10014.240234</td>\n",
       "      <td>10192.179688</td>\n",
       "      <td>10192.179688</td>\n",
       "      <td>1.570565</td>\n",
       "    </tr>\n",
       "    <tr>\n",
       "      <th>3</th>\n",
       "      <td>10184.780273</td>\n",
       "      <td>10272.089844</td>\n",
       "      <td>10177.759766</td>\n",
       "      <td>10238.799805</td>\n",
       "      <td>10238.799805</td>\n",
       "      <td>0.457411</td>\n",
       "    </tr>\n",
       "    <tr>\n",
       "      <th>4</th>\n",
       "      <td>10242.870117</td>\n",
       "      <td>10293.919922</td>\n",
       "      <td>10026.450195</td>\n",
       "      <td>10089.709961</td>\n",
       "      <td>10089.709961</td>\n",
       "      <td>-1.456126</td>\n",
       "    </tr>\n",
       "    <tr>\n",
       "      <th>...</th>\n",
       "      <td>...</td>\n",
       "      <td>...</td>\n",
       "      <td>...</td>\n",
       "      <td>...</td>\n",
       "      <td>...</td>\n",
       "      <td>...</td>\n",
       "    </tr>\n",
       "    <tr>\n",
       "      <th>4510</th>\n",
       "      <td>27560.240234</td>\n",
       "      <td>27605.599609</td>\n",
       "      <td>27338.089844</td>\n",
       "      <td>27452.660156</td>\n",
       "      <td>27452.660156</td>\n",
       "      <td>-0.476363</td>\n",
       "    </tr>\n",
       "    <tr>\n",
       "      <th>4511</th>\n",
       "      <td>27514.640625</td>\n",
       "      <td>28026.330078</td>\n",
       "      <td>27511.060547</td>\n",
       "      <td>27781.699219</td>\n",
       "      <td>27781.699219</td>\n",
       "      <td>1.198569</td>\n",
       "    </tr>\n",
       "    <tr>\n",
       "      <th>4512</th>\n",
       "      <td>27825.419922</td>\n",
       "      <td>28162.640625</td>\n",
       "      <td>27825.419922</td>\n",
       "      <td>28148.640625</td>\n",
       "      <td>28148.640625</td>\n",
       "      <td>1.682741</td>\n",
       "    </tr>\n",
       "    <tr>\n",
       "      <th>4513</th>\n",
       "      <td>28214.240234</td>\n",
       "      <td>28354.480469</td>\n",
       "      <td>27728.029297</td>\n",
       "      <td>27772.759766</td>\n",
       "      <td>27772.759766</td>\n",
       "      <td>-1.335343</td>\n",
       "    </tr>\n",
       "    <tr>\n",
       "      <th>4514</th>\n",
       "      <td>27971.359375</td>\n",
       "      <td>28369.660156</td>\n",
       "      <td>27971.359375</td>\n",
       "      <td>28303.460938</td>\n",
       "      <td>28303.460938</td>\n",
       "      <td>1.910869</td>\n",
       "    </tr>\n",
       "  </tbody>\n",
       "</table>\n",
       "<p>4515 rows × 6 columns</p>\n",
       "</div>"
      ],
      "text/plain": [
       "          Open_Dow      High_Dow       Low_Dow     Close_Dow  Adj Close_Dow  \\\n",
       "0     10521.070313  10566.580078  10350.889648  10413.790039   10413.790039   \n",
       "1     10424.139648  10460.400391  10023.490234  10034.580078   10034.580078   \n",
       "2     10031.620117  10208.089844  10014.240234  10192.179688   10192.179688   \n",
       "3     10184.780273  10272.089844  10177.759766  10238.799805   10238.799805   \n",
       "4     10242.870117  10293.919922  10026.450195  10089.709961   10089.709961   \n",
       "...            ...           ...           ...           ...            ...   \n",
       "4510  27560.240234  27605.599609  27338.089844  27452.660156   27452.660156   \n",
       "4511  27514.640625  28026.330078  27511.060547  27781.699219   27781.699219   \n",
       "4512  27825.419922  28162.640625  27825.419922  28148.640625   28148.640625   \n",
       "4513  28214.240234  28354.480469  27728.029297  27772.759766   27772.759766   \n",
       "4514  27971.359375  28369.660156  27971.359375  28303.460938   28303.460938   \n",
       "\n",
       "      Percent Change_Dow  \n",
       "0              -1.050990  \n",
       "1              -3.641421  \n",
       "2               1.570565  \n",
       "3               0.457411  \n",
       "4              -1.456126  \n",
       "...                  ...  \n",
       "4510           -0.476363  \n",
       "4511            1.198569  \n",
       "4512            1.682741  \n",
       "4513           -1.335343  \n",
       "4514            1.910869  \n",
       "\n",
       "[4515 rows x 6 columns]"
      ]
     },
     "execution_count": 26,
     "metadata": {},
     "output_type": "execute_result"
    }
   ],
   "source": [
    "### Check that the above logic is correct rather than assume\n",
    "All_exchanges_mg[All_exchanges_mg.columns[:6]]"
   ]
  },
  {
   "cell_type": "markdown",
   "metadata": {},
   "source": [
    "### Test Train Split"
   ]
  },
  {
   "cell_type": "code",
   "execution_count": 27,
   "metadata": {
    "execution": {
     "iopub.execute_input": "2021-02-05T01:34:56.311774Z",
     "iopub.status.busy": "2021-02-05T01:34:56.311623Z",
     "iopub.status.idle": "2021-02-05T01:34:56.314264Z",
     "shell.execute_reply": "2021-02-05T01:34:56.313854Z",
     "shell.execute_reply.started": "2021-02-05T01:34:56.311758Z"
    }
   },
   "outputs": [],
   "source": [
    "### Create initial time series split, assign it to variable\n",
    "tscv = TimeSeriesSplit(n_splits=10)"
   ]
  },
  {
   "cell_type": "markdown",
   "metadata": {},
   "source": [
    "Y variable is the percent change, that is what we are aiming to predict, on both datasets"
   ]
  },
  {
   "cell_type": "code",
   "execution_count": 30,
   "metadata": {
    "execution": {
     "iopub.execute_input": "2021-02-05T01:35:04.646833Z",
     "iopub.status.busy": "2021-02-05T01:35:04.646671Z",
     "iopub.status.idle": "2021-02-05T01:35:04.649142Z",
     "shell.execute_reply": "2021-02-05T01:35:04.648713Z",
     "shell.execute_reply.started": "2021-02-05T01:35:04.646817Z"
    }
   },
   "outputs": [],
   "source": [
    "y = All_exchanges_mg[All_exchanges_mg.columns[5]]\n",
    "y2 = All_exchanges_shifted_mg[All_exchanges_shifted_mg.columns[5]]"
   ]
  },
  {
   "cell_type": "markdown",
   "metadata": {},
   "source": [
    "X variable will be our Dow Dataset, first six rows of merged data"
   ]
  },
  {
   "cell_type": "code",
   "execution_count": 31,
   "metadata": {
    "execution": {
     "iopub.execute_input": "2021-02-05T01:35:12.416384Z",
     "iopub.status.busy": "2021-02-05T01:35:12.416213Z",
     "iopub.status.idle": "2021-02-05T01:35:12.420926Z",
     "shell.execute_reply": "2021-02-05T01:35:12.420403Z",
     "shell.execute_reply.started": "2021-02-05T01:35:12.416369Z"
    }
   },
   "outputs": [],
   "source": [
    "X = All_exchanges_mg[All_exchanges_mg.columns[6:]]\n",
    "X2 = All_exchanges_shifted_mg[All_exchanges_shifted_mg.columns[6:]]"
   ]
  },
  {
   "cell_type": "markdown",
   "metadata": {},
   "source": [
    "Make sure equal number of rows are present before the split"
   ]
  },
  {
   "cell_type": "code",
   "execution_count": 32,
   "metadata": {
    "execution": {
     "iopub.execute_input": "2021-02-05T01:35:13.249000Z",
     "iopub.status.busy": "2021-02-05T01:35:13.248794Z",
     "iopub.status.idle": "2021-02-05T01:35:13.252244Z",
     "shell.execute_reply": "2021-02-05T01:35:13.251781Z",
     "shell.execute_reply.started": "2021-02-05T01:35:13.248977Z"
    }
   },
   "outputs": [
    {
     "name": "stdout",
     "output_type": "stream",
     "text": [
      "(4515, 18) (4515,) (4514, 18) (4514,)\n"
     ]
    }
   ],
   "source": [
    "print(X.shape, y.shape, X2.shape, y2.shape)"
   ]
  },
  {
   "cell_type": "markdown",
   "metadata": {
    "execution": {
     "iopub.execute_input": "2021-02-17T22:25:07.272609Z",
     "iopub.status.busy": "2021-02-17T22:25:07.272399Z",
     "iopub.status.idle": "2021-02-17T22:25:07.275908Z",
     "shell.execute_reply": "2021-02-17T22:25:07.275218Z",
     "shell.execute_reply.started": "2021-02-17T22:25:07.272590Z"
    }
   },
   "source": [
    "Run timeseries test train splits"
   ]
  },
  {
   "cell_type": "code",
   "execution_count": 33,
   "metadata": {
    "execution": {
     "iopub.execute_input": "2021-02-05T01:35:18.523522Z",
     "iopub.status.busy": "2021-02-05T01:35:18.523372Z",
     "iopub.status.idle": "2021-02-05T01:35:18.527541Z",
     "shell.execute_reply": "2021-02-05T01:35:18.527065Z",
     "shell.execute_reply.started": "2021-02-05T01:35:18.523507Z"
    }
   },
   "outputs": [],
   "source": [
    "for train_index, test_index in tscv.split(X):\n",
    "    X_train, X_test = X.values[train_index], X.values[test_index]\n",
    "    y_train, y_test = y.values[train_index], y.values[test_index]"
   ]
  },
  {
   "cell_type": "code",
   "execution_count": 34,
   "metadata": {
    "execution": {
     "iopub.execute_input": "2021-02-05T01:35:20.018023Z",
     "iopub.status.busy": "2021-02-05T01:35:20.017866Z",
     "iopub.status.idle": "2021-02-05T01:35:20.022493Z",
     "shell.execute_reply": "2021-02-05T01:35:20.021996Z",
     "shell.execute_reply.started": "2021-02-05T01:35:20.018007Z"
    }
   },
   "outputs": [],
   "source": [
    "for train_index, test_index in tscv.split(X2):\n",
    "    X2_train, X2_test = X2.values[train_index], X2.values[test_index]\n",
    "    y2_train, y2_test = y2.values[train_index], y2.values[test_index]"
   ]
  },
  {
   "cell_type": "markdown",
   "metadata": {},
   "source": [
    "Check shapes to make sure splits were accurate"
   ]
  },
  {
   "cell_type": "code",
   "execution_count": 35,
   "metadata": {
    "execution": {
     "iopub.execute_input": "2021-02-05T01:35:23.000432Z",
     "iopub.status.busy": "2021-02-05T01:35:23.000224Z",
     "iopub.status.idle": "2021-02-05T01:35:23.004003Z",
     "shell.execute_reply": "2021-02-05T01:35:23.003592Z",
     "shell.execute_reply.started": "2021-02-05T01:35:23.000409Z"
    }
   },
   "outputs": [
    {
     "name": "stdout",
     "output_type": "stream",
     "text": [
      "(4105, 18) (4105,) (410, 18) (410,) (4104, 18) (4104,) (410, 18) (410,)\n"
     ]
    }
   ],
   "source": [
    "print(X_train.shape, y_train.shape, X_test.shape, y_test.shape, X2_train.shape, y2_train.shape, X2_test.shape, y2_test.shape)"
   ]
  },
  {
   "cell_type": "markdown",
   "metadata": {},
   "source": [
    "Save all splits to csv files"
   ]
  },
  {
   "cell_type": "code",
   "execution_count": 36,
   "metadata": {
    "execution": {
     "iopub.execute_input": "2021-02-05T01:35:30.061771Z",
     "iopub.status.busy": "2021-02-05T01:35:30.061615Z",
     "iopub.status.idle": "2021-02-05T01:35:30.286866Z",
     "shell.execute_reply": "2021-02-05T01:35:30.286518Z",
     "shell.execute_reply.started": "2021-02-05T01:35:30.061755Z"
    }
   },
   "outputs": [],
   "source": [
    "pd.DataFrame(X_train).to_csv('data/X_train.csv', index=False)\n",
    "pd.DataFrame(X_test).to_csv('data/X_test.csv', index=False)\n",
    "pd.DataFrame(y_train).to_csv('data/y_train.csv', index=False)\n",
    "pd.DataFrame(y_test).to_csv('data/y_test.csv', index=False)\n",
    "\n",
    "pd.DataFrame(X2_train).to_csv('data/X2_train.csv', index=False)\n",
    "pd.DataFrame(X2_test).to_csv('data/X2_test.csv', index=False)\n",
    "pd.DataFrame(y2_train).to_csv('data/y2_train.csv', index=False)\n",
    "pd.DataFrame(y2_test).to_csv('data/y2_test.csv', index=False)"
   ]
  },
  {
   "cell_type": "code",
   "execution_count": null,
   "metadata": {},
   "outputs": [],
   "source": [
    "### Times in Greenwich Mean Time\n",
    "\n",
    "###Both day ahead\n",
    "### Japan Exchange Group / N225    12am to 6am\n",
    "### Hong Kong / Hang Seng =        1:30am to 8am\n",
    "\n",
    "###Both lag day behind locally\n",
    "### EuroNext / N100 =              8am to 4:30pm\n",
    "### NYSE / DJI =                   2:30pm to 9pm\n",
    "\n",
    "###Observations\n",
    "### Jap and Hong Kong close before EuroNext opens SAME DAY\n",
    "### Hong Kong closes RIGHT as Euronext Opens SAME DAY\n",
    "###New York and EuroNext close before Jap and Hong Kong open THE DAY BEFORE\n",
    "###NYSE is mid-dayish when EURO closes\n",
    "\n",
    "###For test case leave out NYSE in test train split and begin running models on that"
   ]
  }
 ],
 "metadata": {
  "kernelspec": {
   "display_name": "Python 3",
   "language": "python",
   "name": "python3"
  },
  "language_info": {
   "codemirror_mode": {
    "name": "ipython",
    "version": 3
   },
   "file_extension": ".py",
   "mimetype": "text/x-python",
   "name": "python",
   "nbconvert_exporter": "python",
   "pygments_lexer": "ipython3",
   "version": "3.9.1"
  }
 },
 "nbformat": 4,
 "nbformat_minor": 4
}
