{
 "cells": [
  {
   "cell_type": "code",
   "execution_count": 1,
   "metadata": {
    "execution": {
     "iopub.execute_input": "2021-02-05T01:34:39.539041Z",
     "iopub.status.busy": "2021-02-05T01:34:39.538865Z",
     "iopub.status.idle": "2021-02-05T01:34:40.171468Z",
     "shell.execute_reply": "2021-02-05T01:34:40.171033Z",
     "shell.execute_reply.started": "2021-02-05T01:34:39.539025Z"
    }
   },
   "outputs": [],
   "source": [
    "import pandas as pd\n",
    "import numpy as np\n",
    "import os\n",
    "import matplotlib.pyplot as plt\n",
    "import datetime\n",
    "import math\n",
    "import sklearn\n",
    "from sklearn.model_selection import TimeSeriesSplit"
   ]
  },
  {
   "cell_type": "code",
   "execution_count": 2,
   "metadata": {
    "execution": {
     "iopub.execute_input": "2021-02-05T01:34:40.175678Z",
     "iopub.status.busy": "2021-02-05T01:34:40.175525Z",
     "iopub.status.idle": "2021-02-05T01:34:40.233172Z",
     "shell.execute_reply": "2021-02-05T01:34:40.232774Z",
     "shell.execute_reply.started": "2021-02-05T01:34:40.175653Z"
    }
   },
   "outputs": [],
   "source": [
    "dataset = pd.read_csv('data/all_exchanges_data_cleaned.csv')\n",
    "fourday = pd.read_csv('data/fourday.csv')"
   ]
  },
  {
   "cell_type": "code",
   "execution_count": 3,
   "metadata": {
    "execution": {
     "iopub.execute_input": "2021-02-05T01:34:40.234081Z",
     "iopub.status.busy": "2021-02-05T01:34:40.233929Z",
     "iopub.status.idle": "2021-02-05T01:34:40.266287Z",
     "shell.execute_reply": "2021-02-05T01:34:40.265932Z",
     "shell.execute_reply.started": "2021-02-05T01:34:40.234057Z"
    }
   },
   "outputs": [
    {
     "data": {
      "text/html": [
       "<div>\n",
       "<style scoped>\n",
       "    .dataframe tbody tr th:only-of-type {\n",
       "        vertical-align: middle;\n",
       "    }\n",
       "\n",
       "    .dataframe tbody tr th {\n",
       "        vertical-align: top;\n",
       "    }\n",
       "\n",
       "    .dataframe thead th {\n",
       "        text-align: right;\n",
       "    }\n",
       "</style>\n",
       "<table border=\"1\" class=\"dataframe\">\n",
       "  <thead>\n",
       "    <tr style=\"text-align: right;\">\n",
       "      <th></th>\n",
       "      <th>Open</th>\n",
       "      <th>High</th>\n",
       "      <th>Low</th>\n",
       "      <th>Close</th>\n",
       "      <th>Adj Close</th>\n",
       "      <th>Volume</th>\n",
       "      <th>Percent Change</th>\n",
       "    </tr>\n",
       "  </thead>\n",
       "  <tbody>\n",
       "    <tr>\n",
       "      <th>count</th>\n",
       "      <td>19958.000000</td>\n",
       "      <td>19958.000000</td>\n",
       "      <td>19958.000000</td>\n",
       "      <td>19958.000000</td>\n",
       "      <td>19958.000000</td>\n",
       "      <td>1.995800e+04</td>\n",
       "      <td>19958.000000</td>\n",
       "    </tr>\n",
       "    <tr>\n",
       "      <th>mean</th>\n",
       "      <td>12359.002648</td>\n",
       "      <td>12432.552746</td>\n",
       "      <td>12275.562052</td>\n",
       "      <td>12356.404874</td>\n",
       "      <td>12356.404874</td>\n",
       "      <td>4.463857e+08</td>\n",
       "      <td>0.018235</td>\n",
       "    </tr>\n",
       "    <tr>\n",
       "      <th>std</th>\n",
       "      <td>8513.927306</td>\n",
       "      <td>8558.398208</td>\n",
       "      <td>8460.504323</td>\n",
       "      <td>8510.861717</td>\n",
       "      <td>8510.861717</td>\n",
       "      <td>7.229008e+08</td>\n",
       "      <td>1.368694</td>\n",
       "    </tr>\n",
       "    <tr>\n",
       "      <th>min</th>\n",
       "      <td>427.600006</td>\n",
       "      <td>436.519989</td>\n",
       "      <td>419.489990</td>\n",
       "      <td>419.950012</td>\n",
       "      <td>419.950012</td>\n",
       "      <td>0.000000e+00</td>\n",
       "      <td>-12.926546</td>\n",
       "    </tr>\n",
       "    <tr>\n",
       "      <th>25%</th>\n",
       "      <td>1085.022461</td>\n",
       "      <td>1090.065003</td>\n",
       "      <td>1081.955017</td>\n",
       "      <td>1086.654968</td>\n",
       "      <td>1086.654968</td>\n",
       "      <td>1.347000e+05</td>\n",
       "      <td>-0.597822</td>\n",
       "    </tr>\n",
       "    <tr>\n",
       "      <th>50%</th>\n",
       "      <td>11933.995117</td>\n",
       "      <td>12011.040039</td>\n",
       "      <td>11834.734863</td>\n",
       "      <td>11932.549805</td>\n",
       "      <td>11932.549805</td>\n",
       "      <td>2.048604e+08</td>\n",
       "      <td>0.049819</td>\n",
       "    </tr>\n",
       "    <tr>\n",
       "      <th>75%</th>\n",
       "      <td>19283.262696</td>\n",
       "      <td>19401.442383</td>\n",
       "      <td>19161.534668</td>\n",
       "      <td>19287.947266</td>\n",
       "      <td>19287.947266</td>\n",
       "      <td>3.603706e+08</td>\n",
       "      <td>0.665370</td>\n",
       "    </tr>\n",
       "    <tr>\n",
       "      <th>max</th>\n",
       "      <td>33335.480469</td>\n",
       "      <td>33484.078125</td>\n",
       "      <td>32897.039063</td>\n",
       "      <td>33154.121094</td>\n",
       "      <td>33154.121094</td>\n",
       "      <td>9.799120e+09</td>\n",
       "      <td>14.347069</td>\n",
       "    </tr>\n",
       "  </tbody>\n",
       "</table>\n",
       "</div>"
      ],
      "text/plain": [
       "               Open          High           Low         Close     Adj Close  \\\n",
       "count  19958.000000  19958.000000  19958.000000  19958.000000  19958.000000   \n",
       "mean   12359.002648  12432.552746  12275.562052  12356.404874  12356.404874   \n",
       "std     8513.927306   8558.398208   8460.504323   8510.861717   8510.861717   \n",
       "min      427.600006    436.519989    419.489990    419.950012    419.950012   \n",
       "25%     1085.022461   1090.065003   1081.955017   1086.654968   1086.654968   \n",
       "50%    11933.995117  12011.040039  11834.734863  11932.549805  11932.549805   \n",
       "75%    19283.262696  19401.442383  19161.534668  19287.947266  19287.947266   \n",
       "max    33335.480469  33484.078125  32897.039063  33154.121094  33154.121094   \n",
       "\n",
       "             Volume  Percent Change  \n",
       "count  1.995800e+04    19958.000000  \n",
       "mean   4.463857e+08        0.018235  \n",
       "std    7.229008e+08        1.368694  \n",
       "min    0.000000e+00      -12.926546  \n",
       "25%    1.347000e+05       -0.597822  \n",
       "50%    2.048604e+08        0.049819  \n",
       "75%    3.603706e+08        0.665370  \n",
       "max    9.799120e+09       14.347069  "
      ]
     },
     "execution_count": 3,
     "metadata": {},
     "output_type": "execute_result"
    }
   ],
   "source": [
    "dataset.describe()"
   ]
  },
  {
   "cell_type": "code",
   "execution_count": 4,
   "metadata": {
    "execution": {
     "iopub.execute_input": "2021-02-05T01:34:40.454052Z",
     "iopub.status.busy": "2021-02-05T01:34:40.453876Z",
     "iopub.status.idle": "2021-02-05T01:34:40.457320Z",
     "shell.execute_reply": "2021-02-05T01:34:40.456899Z",
     "shell.execute_reply.started": "2021-02-05T01:34:40.454034Z"
    }
   },
   "outputs": [
    {
     "data": {
      "text/plain": [
       "Index(['index', 'Date', 'Open', 'High', 'Low', 'Close', 'Adj Close',\n",
       "       'Percent Change', 'Index'],\n",
       "      dtype='object')"
      ]
     },
     "execution_count": 4,
     "metadata": {},
     "output_type": "execute_result"
    }
   ],
   "source": [
    "fourday.columns"
   ]
  },
  {
   "cell_type": "code",
   "execution_count": 5,
   "metadata": {
    "execution": {
     "iopub.execute_input": "2021-02-05T01:34:40.902090Z",
     "iopub.status.busy": "2021-02-05T01:34:40.901929Z",
     "iopub.status.idle": "2021-02-05T01:34:40.904117Z",
     "shell.execute_reply": "2021-02-05T01:34:40.903691Z",
     "shell.execute_reply.started": "2021-02-05T01:34:40.902074Z"
    }
   },
   "outputs": [],
   "source": [
    "###create DJI shifted, so date is oneday earlier\n",
    "###MAKE SURE TO PRESERVE SHAPE OF ROWS\n",
    "\n",
    "###remove first row, and last row of other dataset\n",
    "###reset index in the process\n",
    "###shpould be sufficient for date shift"
   ]
  },
  {
   "cell_type": "code",
   "execution_count": 6,
   "metadata": {
    "execution": {
     "iopub.execute_input": "2021-02-05T01:34:41.081117Z",
     "iopub.status.busy": "2021-02-05T01:34:41.080962Z",
     "iopub.status.idle": "2021-02-05T01:34:41.084764Z",
     "shell.execute_reply": "2021-02-05T01:34:41.084096Z",
     "shell.execute_reply.started": "2021-02-05T01:34:41.081101Z"
    }
   },
   "outputs": [],
   "source": [
    "fourday.drop(['index', 'Date'], 1, inplace=True)"
   ]
  },
  {
   "cell_type": "code",
   "execution_count": 7,
   "metadata": {
    "execution": {
     "iopub.execute_input": "2021-02-05T01:34:41.264340Z",
     "iopub.status.busy": "2021-02-05T01:34:41.264106Z",
     "iopub.status.idle": "2021-02-05T01:34:41.277789Z",
     "shell.execute_reply": "2021-02-05T01:34:41.277275Z",
     "shell.execute_reply.started": "2021-02-05T01:34:41.264316Z"
    }
   },
   "outputs": [],
   "source": [
    "DJI = fourday.loc[fourday['Index'] == 'Dow Jones Industrial']\n",
    "N100 = fourday.loc[fourday['Index'] == 'Euronext100']\n",
    "HSI = fourday.loc[fourday['Index'] == 'Hang Seng']\n",
    "N225 = fourday.loc[fourday['Index'] == 'Nikkei 225']"
   ]
  },
  {
   "cell_type": "code",
   "execution_count": 8,
   "metadata": {
    "execution": {
     "iopub.execute_input": "2021-02-05T01:34:41.445126Z",
     "iopub.status.busy": "2021-02-05T01:34:41.444969Z",
     "iopub.status.idle": "2021-02-05T01:34:41.448411Z",
     "shell.execute_reply": "2021-02-05T01:34:41.447959Z",
     "shell.execute_reply.started": "2021-02-05T01:34:41.445109Z"
    }
   },
   "outputs": [],
   "source": [
    "DJI = DJI.reset_index(drop=True)\n",
    "HSI = HSI.reset_index(drop=True)\n",
    "N100 = N100.reset_index(drop=True)\n",
    "N225 = N225.reset_index(drop=True)"
   ]
  },
  {
   "cell_type": "code",
   "execution_count": 9,
   "metadata": {
    "execution": {
     "iopub.execute_input": "2021-02-05T01:34:41.998955Z",
     "iopub.status.busy": "2021-02-05T01:34:41.998803Z",
     "iopub.status.idle": "2021-02-05T01:34:42.003710Z",
     "shell.execute_reply": "2021-02-05T01:34:42.003041Z",
     "shell.execute_reply.started": "2021-02-05T01:34:41.998940Z"
    }
   },
   "outputs": [],
   "source": [
    "DJI.drop('Index', 1, inplace=True)\n",
    "HSI.drop('Index', 1, inplace=True)\n",
    "N100.drop('Index', 1, inplace=True)\n",
    "N225.drop('Index', 1, inplace=True)"
   ]
  },
  {
   "cell_type": "code",
   "execution_count": 10,
   "metadata": {
    "execution": {
     "iopub.execute_input": "2021-02-05T01:34:43.158683Z",
     "iopub.status.busy": "2021-02-05T01:34:43.158529Z",
     "iopub.status.idle": "2021-02-05T01:34:43.163631Z",
     "shell.execute_reply": "2021-02-05T01:34:43.163226Z",
     "shell.execute_reply.started": "2021-02-05T01:34:43.158667Z"
    }
   },
   "outputs": [],
   "source": [
    "DJI_shifted = DJI.drop(DJI.index[0])\n",
    "HSI_shifted = HSI.drop(DJI.index[0])\n",
    "N100_shifted = N100.drop(DJI.index[-1])\n",
    "N225_shifted = N225.drop(DJI.index[-1])\n",
    "\n",
    "DJI_shifted = DJI_shifted.reset_index(drop=True)\n",
    "HSI_shifted = HSI_shifted.reset_index(drop=True)\n",
    "N100_shifted = N100_shifted.reset_index(drop=True)\n",
    "N225_shifted = N225_shifted.reset_index(drop=True)"
   ]
  },
  {
   "cell_type": "code",
   "execution_count": 11,
   "metadata": {
    "execution": {
     "iopub.execute_input": "2021-02-05T01:34:43.478996Z",
     "iopub.status.busy": "2021-02-05T01:34:43.478843Z",
     "iopub.status.idle": "2021-02-05T01:34:43.482938Z",
     "shell.execute_reply": "2021-02-05T01:34:43.482504Z",
     "shell.execute_reply.started": "2021-02-05T01:34:43.478980Z"
    }
   },
   "outputs": [
    {
     "data": {
      "text/plain": [
       "(Open              float64\n",
       " High              float64\n",
       " Low               float64\n",
       " Close             float64\n",
       " Adj Close         float64\n",
       " Percent Change    float64\n",
       " dtype: object,\n",
       " Open              float64\n",
       " High              float64\n",
       " Low               float64\n",
       " Close             float64\n",
       " Adj Close         float64\n",
       " Percent Change    float64\n",
       " dtype: object)"
      ]
     },
     "execution_count": 11,
     "metadata": {},
     "output_type": "execute_result"
    }
   ],
   "source": [
    "DJI.dtypes, DJI_shifted.dtypes"
   ]
  },
  {
   "cell_type": "code",
   "execution_count": 12,
   "metadata": {
    "execution": {
     "iopub.execute_input": "2021-02-05T01:34:44.261857Z",
     "iopub.status.busy": "2021-02-05T01:34:44.261697Z",
     "iopub.status.idle": "2021-02-05T01:34:44.263902Z",
     "shell.execute_reply": "2021-02-05T01:34:44.263360Z",
     "shell.execute_reply.started": "2021-02-05T01:34:44.261842Z"
    }
   },
   "outputs": [],
   "source": [
    "#DJI['Date'] = pd.to_datetime(DJI['Date'], format='%Y-%m-%d')\n",
    "#N100['Date'] = pd.to_datetime(N100['Date'], format='%Y-%m-%d')\n",
    "#HSI['Date'] = pd.to_datetime(HSI['Date'], format='%Y-%m-%d')\n",
    "#N225['Date'] = pd.to_datetime(N225['Date'], format='%Y-%m-%d')"
   ]
  },
  {
   "cell_type": "code",
   "execution_count": 13,
   "metadata": {
    "execution": {
     "iopub.execute_input": "2021-02-05T01:34:44.923431Z",
     "iopub.status.busy": "2021-02-05T01:34:44.923269Z",
     "iopub.status.idle": "2021-02-05T01:34:44.926651Z",
     "shell.execute_reply": "2021-02-05T01:34:44.926166Z",
     "shell.execute_reply.started": "2021-02-05T01:34:44.923415Z"
    }
   },
   "outputs": [
    {
     "name": "stdout",
     "output_type": "stream",
     "text": [
      "(4515, 6) (4515, 6) (4515, 6) (4515, 6) (4514, 6) (4514, 6) (4514, 6) (4514, 6)\n"
     ]
    }
   ],
   "source": [
    "print(DJI.shape, HSI.shape, N100.shape, N225.shape, DJI_shifted.shape, HSI_shifted.shape, N100_shifted.shape, N225_shifted.shape)"
   ]
  },
  {
   "cell_type": "code",
   "execution_count": 14,
   "metadata": {
    "execution": {
     "iopub.execute_input": "2021-02-05T01:34:45.148669Z",
     "iopub.status.busy": "2021-02-05T01:34:45.148496Z",
     "iopub.status.idle": "2021-02-05T01:34:45.151382Z",
     "shell.execute_reply": "2021-02-05T01:34:45.150943Z",
     "shell.execute_reply.started": "2021-02-05T01:34:45.148648Z"
    }
   },
   "outputs": [],
   "source": [
    "Merged_df = [DJI, N100, HSI, N225]\n",
    "Merged_df_shifted = [DJI_shifted, N100_shifted, HSI_shifted, N225_shifted]"
   ]
  },
  {
   "cell_type": "code",
   "execution_count": 15,
   "metadata": {
    "execution": {
     "iopub.execute_input": "2021-02-05T01:34:45.385138Z",
     "iopub.status.busy": "2021-02-05T01:34:45.384910Z",
     "iopub.status.idle": "2021-02-05T01:34:45.388985Z",
     "shell.execute_reply": "2021-02-05T01:34:45.388450Z",
     "shell.execute_reply.started": "2021-02-05T01:34:45.385115Z"
    }
   },
   "outputs": [
    {
     "data": {
      "text/plain": [
       "Index(['Open', 'High', 'Low', 'Close', 'Adj Close', 'Percent Change'], dtype='object')"
      ]
     },
     "execution_count": 15,
     "metadata": {},
     "output_type": "execute_result"
    }
   ],
   "source": [
    "DJI.columns"
   ]
  },
  {
   "cell_type": "code",
   "execution_count": 16,
   "metadata": {
    "execution": {
     "iopub.execute_input": "2021-02-05T01:34:46.087803Z",
     "iopub.status.busy": "2021-02-05T01:34:46.087648Z",
     "iopub.status.idle": "2021-02-05T01:34:46.092068Z",
     "shell.execute_reply": "2021-02-05T01:34:46.091661Z",
     "shell.execute_reply.started": "2021-02-05T01:34:46.087787Z"
    }
   },
   "outputs": [],
   "source": [
    "All_exchanges_mg = Merged_df[0].merge(Merged_df[1], how='inner', suffixes=('_Dow', '_Eur'), left_index=True, right_index=True)\n",
    "\n",
    "All_exchanges_shifted_mg = Merged_df_shifted[0].merge(Merged_df_shifted[1], how='inner', suffixes=('_Dow', '_Eur'), left_index=True, right_index=True)"
   ]
  },
  {
   "cell_type": "code",
   "execution_count": 17,
   "metadata": {
    "execution": {
     "iopub.execute_input": "2021-02-05T01:34:46.640981Z",
     "iopub.status.busy": "2021-02-05T01:34:46.640813Z",
     "iopub.status.idle": "2021-02-05T01:34:46.645133Z",
     "shell.execute_reply": "2021-02-05T01:34:46.644727Z",
     "shell.execute_reply.started": "2021-02-05T01:34:46.640965Z"
    }
   },
   "outputs": [],
   "source": [
    "for column in (Merged_df[2].columns.values):\n",
    "    Merged_df[2] = Merged_df[2].rename(columns={column: column + '_HSI'})"
   ]
  },
  {
   "cell_type": "code",
   "execution_count": 18,
   "metadata": {
    "execution": {
     "iopub.execute_input": "2021-02-05T01:34:47.052826Z",
     "iopub.status.busy": "2021-02-05T01:34:47.052673Z",
     "iopub.status.idle": "2021-02-05T01:34:47.057310Z",
     "shell.execute_reply": "2021-02-05T01:34:47.056762Z",
     "shell.execute_reply.started": "2021-02-05T01:34:47.052810Z"
    }
   },
   "outputs": [],
   "source": [
    "for column in (Merged_df_shifted[2].columns.values):\n",
    "    Merged_df_shifted[2] = Merged_df_shifted[2].rename(columns={column: column + '_HSI'})"
   ]
  },
  {
   "cell_type": "code",
   "execution_count": 19,
   "metadata": {
    "execution": {
     "iopub.execute_input": "2021-02-05T01:34:47.664804Z",
     "iopub.status.busy": "2021-02-05T01:34:47.664642Z",
     "iopub.status.idle": "2021-02-05T01:34:47.669506Z",
     "shell.execute_reply": "2021-02-05T01:34:47.669141Z",
     "shell.execute_reply.started": "2021-02-05T01:34:47.664785Z"
    }
   },
   "outputs": [],
   "source": [
    "for column in (Merged_df[3].columns.values):\n",
    "    Merged_df[3] = Merged_df[3].rename(columns={column: column + '_NIK'})"
   ]
  },
  {
   "cell_type": "code",
   "execution_count": 20,
   "metadata": {
    "execution": {
     "iopub.execute_input": "2021-02-05T01:34:48.081828Z",
     "iopub.status.busy": "2021-02-05T01:34:48.081623Z",
     "iopub.status.idle": "2021-02-05T01:34:48.086239Z",
     "shell.execute_reply": "2021-02-05T01:34:48.085845Z",
     "shell.execute_reply.started": "2021-02-05T01:34:48.081812Z"
    }
   },
   "outputs": [],
   "source": [
    "for column in (Merged_df_shifted[3].columns.values):\n",
    "    Merged_df_shifted[3] = Merged_df_shifted[3].rename(columns={column: column + '_NIK'})"
   ]
  },
  {
   "cell_type": "code",
   "execution_count": 21,
   "metadata": {
    "execution": {
     "iopub.execute_input": "2021-02-05T01:34:48.334084Z",
     "iopub.status.busy": "2021-02-05T01:34:48.333920Z",
     "iopub.status.idle": "2021-02-05T01:34:48.337951Z",
     "shell.execute_reply": "2021-02-05T01:34:48.337582Z",
     "shell.execute_reply.started": "2021-02-05T01:34:48.334068Z"
    }
   },
   "outputs": [],
   "source": [
    "All_exchanges_mg = All_exchanges_mg.merge(Merged_df[2], how='inner', left_index=True, right_index=True)\n",
    "\n",
    "All_exchanges_shifted_mg = All_exchanges_shifted_mg.merge(Merged_df_shifted[2], how='inner', left_index=True, right_index=True)"
   ]
  },
  {
   "cell_type": "code",
   "execution_count": 22,
   "metadata": {
    "execution": {
     "iopub.execute_input": "2021-02-05T01:34:48.571794Z",
     "iopub.status.busy": "2021-02-05T01:34:48.571641Z",
     "iopub.status.idle": "2021-02-05T01:34:48.576352Z",
     "shell.execute_reply": "2021-02-05T01:34:48.575914Z",
     "shell.execute_reply.started": "2021-02-05T01:34:48.571778Z"
    }
   },
   "outputs": [],
   "source": [
    "All_exchanges_mg = All_exchanges_mg.merge(Merged_df[3], how='inner', left_index=True, right_index=True)\n",
    "\n",
    "All_exchanges_shifted_mg = All_exchanges_shifted_mg.merge(Merged_df_shifted[3], how='inner', left_index=True, right_index=True)"
   ]
  },
  {
   "cell_type": "code",
   "execution_count": 23,
   "metadata": {
    "execution": {
     "iopub.execute_input": "2021-02-05T01:34:48.773018Z",
     "iopub.status.busy": "2021-02-05T01:34:48.772814Z",
     "iopub.status.idle": "2021-02-05T01:34:48.777260Z",
     "shell.execute_reply": "2021-02-05T01:34:48.776669Z",
     "shell.execute_reply.started": "2021-02-05T01:34:48.772996Z"
    }
   },
   "outputs": [
    {
     "data": {
      "text/plain": [
       "Index(['Open_Dow', 'High_Dow', 'Low_Dow', 'Close_Dow', 'Adj Close_Dow',\n",
       "       'Percent Change_Dow', 'Open_Eur', 'High_Eur', 'Low_Eur', 'Close_Eur',\n",
       "       'Adj Close_Eur', 'Percent Change_Eur', 'Open_HSI', 'High_HSI',\n",
       "       'Low_HSI', 'Close_HSI', 'Adj Close_HSI', 'Percent Change_HSI',\n",
       "       'Open_NIK', 'High_NIK', 'Low_NIK', 'Close_NIK', 'Adj Close_NIK',\n",
       "       'Percent Change_NIK'],\n",
       "      dtype='object')"
      ]
     },
     "execution_count": 23,
     "metadata": {},
     "output_type": "execute_result"
    }
   ],
   "source": [
    "All_exchanges_mg.columns"
   ]
  },
  {
   "cell_type": "code",
   "execution_count": 24,
   "metadata": {
    "execution": {
     "iopub.execute_input": "2021-02-05T01:34:50.059659Z",
     "iopub.status.busy": "2021-02-05T01:34:50.059443Z",
     "iopub.status.idle": "2021-02-05T01:34:50.063332Z",
     "shell.execute_reply": "2021-02-05T01:34:50.062893Z",
     "shell.execute_reply.started": "2021-02-05T01:34:50.059636Z"
    }
   },
   "outputs": [
    {
     "data": {
      "text/plain": [
       "Index(['Open_Dow', 'High_Dow', 'Low_Dow', 'Close_Dow', 'Adj Close_Dow',\n",
       "       'Percent Change_Dow', 'Open_Eur', 'High_Eur', 'Low_Eur', 'Close_Eur',\n",
       "       'Adj Close_Eur', 'Percent Change_Eur', 'Open_HSI', 'High_HSI',\n",
       "       'Low_HSI', 'Close_HSI', 'Adj Close_HSI', 'Percent Change_HSI',\n",
       "       'Open_NIK', 'High_NIK', 'Low_NIK', 'Close_NIK', 'Adj Close_NIK',\n",
       "       'Percent Change_NIK'],\n",
       "      dtype='object')"
      ]
     },
     "execution_count": 24,
     "metadata": {},
     "output_type": "execute_result"
    }
   ],
   "source": [
    "All_exchanges_shifted_mg.columns"
   ]
  },
  {
   "cell_type": "code",
   "execution_count": 25,
   "metadata": {
    "execution": {
     "iopub.execute_input": "2021-02-05T01:34:51.500510Z",
     "iopub.status.busy": "2021-02-05T01:34:51.500357Z",
     "iopub.status.idle": "2021-02-05T01:34:51.503522Z",
     "shell.execute_reply": "2021-02-05T01:34:51.502971Z",
     "shell.execute_reply.started": "2021-02-05T01:34:51.500494Z"
    }
   },
   "outputs": [
    {
     "data": {
      "text/plain": [
       "((4515, 24), (4514, 24))"
      ]
     },
     "execution_count": 25,
     "metadata": {},
     "output_type": "execute_result"
    }
   ],
   "source": [
    "All_exchanges_mg.shape, All_exchanges_shifted_mg.shape"
   ]
  },
  {
   "cell_type": "code",
   "execution_count": 26,
   "metadata": {
    "execution": {
     "iopub.execute_input": "2021-02-05T01:34:54.942818Z",
     "iopub.status.busy": "2021-02-05T01:34:54.942609Z",
     "iopub.status.idle": "2021-02-05T01:34:54.946134Z",
     "shell.execute_reply": "2021-02-05T01:34:54.945612Z",
     "shell.execute_reply.started": "2021-02-05T01:34:54.942795Z"
    }
   },
   "outputs": [
    {
     "name": "stdout",
     "output_type": "stream",
     "text": [
      "Index(['Open', 'High', 'Low', 'Close', 'Adj Close', 'Percent Change'], dtype='object') 6\n"
     ]
    }
   ],
   "source": [
    "print(DJI.columns, len(DJI.columns))"
   ]
  },
  {
   "cell_type": "code",
   "execution_count": 27,
   "metadata": {
    "execution": {
     "iopub.execute_input": "2021-02-05T01:34:56.311774Z",
     "iopub.status.busy": "2021-02-05T01:34:56.311623Z",
     "iopub.status.idle": "2021-02-05T01:34:56.314264Z",
     "shell.execute_reply": "2021-02-05T01:34:56.313854Z",
     "shell.execute_reply.started": "2021-02-05T01:34:56.311758Z"
    }
   },
   "outputs": [],
   "source": [
    "tscv = TimeSeriesSplit(n_splits=10)"
   ]
  },
  {
   "cell_type": "code",
   "execution_count": 28,
   "metadata": {
    "execution": {
     "iopub.execute_input": "2021-02-05T01:35:01.019613Z",
     "iopub.status.busy": "2021-02-05T01:35:01.019457Z",
     "iopub.status.idle": "2021-02-05T01:35:01.022069Z",
     "shell.execute_reply": "2021-02-05T01:35:01.021684Z",
     "shell.execute_reply.started": "2021-02-05T01:35:01.019597Z"
    }
   },
   "outputs": [
    {
     "name": "stdout",
     "output_type": "stream",
     "text": [
      "TimeSeriesSplit(gap=0, max_train_size=None, n_splits=10, test_size=None)\n"
     ]
    }
   ],
   "source": [
    "print(tscv)"
   ]
  },
  {
   "cell_type": "code",
   "execution_count": 29,
   "metadata": {
    "execution": {
     "iopub.execute_input": "2021-02-05T01:35:01.790108Z",
     "iopub.status.busy": "2021-02-05T01:35:01.789955Z",
     "iopub.status.idle": "2021-02-05T01:35:01.801581Z",
     "shell.execute_reply": "2021-02-05T01:35:01.800969Z",
     "shell.execute_reply.started": "2021-02-05T01:35:01.790092Z"
    }
   },
   "outputs": [
    {
     "data": {
      "text/html": [
       "<div>\n",
       "<style scoped>\n",
       "    .dataframe tbody tr th:only-of-type {\n",
       "        vertical-align: middle;\n",
       "    }\n",
       "\n",
       "    .dataframe tbody tr th {\n",
       "        vertical-align: top;\n",
       "    }\n",
       "\n",
       "    .dataframe thead th {\n",
       "        text-align: right;\n",
       "    }\n",
       "</style>\n",
       "<table border=\"1\" class=\"dataframe\">\n",
       "  <thead>\n",
       "    <tr style=\"text-align: right;\">\n",
       "      <th></th>\n",
       "      <th>Open_Dow</th>\n",
       "      <th>High_Dow</th>\n",
       "      <th>Low_Dow</th>\n",
       "      <th>Close_Dow</th>\n",
       "      <th>Adj Close_Dow</th>\n",
       "      <th>Percent Change_Dow</th>\n",
       "    </tr>\n",
       "  </thead>\n",
       "  <tbody>\n",
       "    <tr>\n",
       "      <th>0</th>\n",
       "      <td>10521.070313</td>\n",
       "      <td>10566.580078</td>\n",
       "      <td>10350.889648</td>\n",
       "      <td>10413.790039</td>\n",
       "      <td>10413.790039</td>\n",
       "      <td>-1.050990</td>\n",
       "    </tr>\n",
       "    <tr>\n",
       "      <th>1</th>\n",
       "      <td>10424.139648</td>\n",
       "      <td>10460.400391</td>\n",
       "      <td>10023.490234</td>\n",
       "      <td>10034.580078</td>\n",
       "      <td>10034.580078</td>\n",
       "      <td>-3.641421</td>\n",
       "    </tr>\n",
       "    <tr>\n",
       "      <th>2</th>\n",
       "      <td>10031.620117</td>\n",
       "      <td>10208.089844</td>\n",
       "      <td>10014.240234</td>\n",
       "      <td>10192.179688</td>\n",
       "      <td>10192.179688</td>\n",
       "      <td>1.570565</td>\n",
       "    </tr>\n",
       "    <tr>\n",
       "      <th>3</th>\n",
       "      <td>10184.780273</td>\n",
       "      <td>10272.089844</td>\n",
       "      <td>10177.759766</td>\n",
       "      <td>10238.799805</td>\n",
       "      <td>10238.799805</td>\n",
       "      <td>0.457411</td>\n",
       "    </tr>\n",
       "    <tr>\n",
       "      <th>4</th>\n",
       "      <td>10242.870117</td>\n",
       "      <td>10293.919922</td>\n",
       "      <td>10026.450195</td>\n",
       "      <td>10089.709961</td>\n",
       "      <td>10089.709961</td>\n",
       "      <td>-1.456126</td>\n",
       "    </tr>\n",
       "    <tr>\n",
       "      <th>...</th>\n",
       "      <td>...</td>\n",
       "      <td>...</td>\n",
       "      <td>...</td>\n",
       "      <td>...</td>\n",
       "      <td>...</td>\n",
       "      <td>...</td>\n",
       "    </tr>\n",
       "    <tr>\n",
       "      <th>4510</th>\n",
       "      <td>27560.240234</td>\n",
       "      <td>27605.599609</td>\n",
       "      <td>27338.089844</td>\n",
       "      <td>27452.660156</td>\n",
       "      <td>27452.660156</td>\n",
       "      <td>-0.476363</td>\n",
       "    </tr>\n",
       "    <tr>\n",
       "      <th>4511</th>\n",
       "      <td>27514.640625</td>\n",
       "      <td>28026.330078</td>\n",
       "      <td>27511.060547</td>\n",
       "      <td>27781.699219</td>\n",
       "      <td>27781.699219</td>\n",
       "      <td>1.198569</td>\n",
       "    </tr>\n",
       "    <tr>\n",
       "      <th>4512</th>\n",
       "      <td>27825.419922</td>\n",
       "      <td>28162.640625</td>\n",
       "      <td>27825.419922</td>\n",
       "      <td>28148.640625</td>\n",
       "      <td>28148.640625</td>\n",
       "      <td>1.682741</td>\n",
       "    </tr>\n",
       "    <tr>\n",
       "      <th>4513</th>\n",
       "      <td>28214.240234</td>\n",
       "      <td>28354.480469</td>\n",
       "      <td>27728.029297</td>\n",
       "      <td>27772.759766</td>\n",
       "      <td>27772.759766</td>\n",
       "      <td>-1.335343</td>\n",
       "    </tr>\n",
       "    <tr>\n",
       "      <th>4514</th>\n",
       "      <td>27971.359375</td>\n",
       "      <td>28369.660156</td>\n",
       "      <td>27971.359375</td>\n",
       "      <td>28303.460938</td>\n",
       "      <td>28303.460938</td>\n",
       "      <td>1.910869</td>\n",
       "    </tr>\n",
       "  </tbody>\n",
       "</table>\n",
       "<p>4515 rows × 6 columns</p>\n",
       "</div>"
      ],
      "text/plain": [
       "          Open_Dow      High_Dow       Low_Dow     Close_Dow  Adj Close_Dow  \\\n",
       "0     10521.070313  10566.580078  10350.889648  10413.790039   10413.790039   \n",
       "1     10424.139648  10460.400391  10023.490234  10034.580078   10034.580078   \n",
       "2     10031.620117  10208.089844  10014.240234  10192.179688   10192.179688   \n",
       "3     10184.780273  10272.089844  10177.759766  10238.799805   10238.799805   \n",
       "4     10242.870117  10293.919922  10026.450195  10089.709961   10089.709961   \n",
       "...            ...           ...           ...           ...            ...   \n",
       "4510  27560.240234  27605.599609  27338.089844  27452.660156   27452.660156   \n",
       "4511  27514.640625  28026.330078  27511.060547  27781.699219   27781.699219   \n",
       "4512  27825.419922  28162.640625  27825.419922  28148.640625   28148.640625   \n",
       "4513  28214.240234  28354.480469  27728.029297  27772.759766   27772.759766   \n",
       "4514  27971.359375  28369.660156  27971.359375  28303.460938   28303.460938   \n",
       "\n",
       "      Percent Change_Dow  \n",
       "0              -1.050990  \n",
       "1              -3.641421  \n",
       "2               1.570565  \n",
       "3               0.457411  \n",
       "4              -1.456126  \n",
       "...                  ...  \n",
       "4510           -0.476363  \n",
       "4511            1.198569  \n",
       "4512            1.682741  \n",
       "4513           -1.335343  \n",
       "4514            1.910869  \n",
       "\n",
       "[4515 rows x 6 columns]"
      ]
     },
     "execution_count": 29,
     "metadata": {},
     "output_type": "execute_result"
    }
   ],
   "source": [
    "All_exchanges_mg[All_exchanges_mg.columns[:6]]"
   ]
  },
  {
   "cell_type": "code",
   "execution_count": 30,
   "metadata": {
    "execution": {
     "iopub.execute_input": "2021-02-05T01:35:04.646833Z",
     "iopub.status.busy": "2021-02-05T01:35:04.646671Z",
     "iopub.status.idle": "2021-02-05T01:35:04.649142Z",
     "shell.execute_reply": "2021-02-05T01:35:04.648713Z",
     "shell.execute_reply.started": "2021-02-05T01:35:04.646817Z"
    }
   },
   "outputs": [],
   "source": [
    "y = All_exchanges_mg[All_exchanges_mg.columns[5]]\n",
    "y2 = All_exchanges_shifted_mg[All_exchanges_shifted_mg.columns[5]]"
   ]
  },
  {
   "cell_type": "code",
   "execution_count": 31,
   "metadata": {
    "execution": {
     "iopub.execute_input": "2021-02-05T01:35:12.416384Z",
     "iopub.status.busy": "2021-02-05T01:35:12.416213Z",
     "iopub.status.idle": "2021-02-05T01:35:12.420926Z",
     "shell.execute_reply": "2021-02-05T01:35:12.420403Z",
     "shell.execute_reply.started": "2021-02-05T01:35:12.416369Z"
    }
   },
   "outputs": [],
   "source": [
    "X = All_exchanges_mg[All_exchanges_mg.columns[6:]]\n",
    "X2 = All_exchanges_shifted_mg[All_exchanges_shifted_mg.columns[6:]]"
   ]
  },
  {
   "cell_type": "code",
   "execution_count": 32,
   "metadata": {
    "execution": {
     "iopub.execute_input": "2021-02-05T01:35:13.249000Z",
     "iopub.status.busy": "2021-02-05T01:35:13.248794Z",
     "iopub.status.idle": "2021-02-05T01:35:13.252244Z",
     "shell.execute_reply": "2021-02-05T01:35:13.251781Z",
     "shell.execute_reply.started": "2021-02-05T01:35:13.248977Z"
    }
   },
   "outputs": [
    {
     "name": "stdout",
     "output_type": "stream",
     "text": [
      "(4515, 18) (4515,) (4514, 18) (4514,)\n"
     ]
    }
   ],
   "source": [
    "print(X.shape, y.shape, X2.shape, y2.shape)"
   ]
  },
  {
   "cell_type": "code",
   "execution_count": 33,
   "metadata": {
    "execution": {
     "iopub.execute_input": "2021-02-05T01:35:18.523522Z",
     "iopub.status.busy": "2021-02-05T01:35:18.523372Z",
     "iopub.status.idle": "2021-02-05T01:35:18.527541Z",
     "shell.execute_reply": "2021-02-05T01:35:18.527065Z",
     "shell.execute_reply.started": "2021-02-05T01:35:18.523507Z"
    }
   },
   "outputs": [],
   "source": [
    "for train_index, test_index in tscv.split(X):\n",
    "    X_train, X_test = X.values[train_index], X.values[test_index]\n",
    "    y_train, y_test = y.values[train_index], y.values[test_index]"
   ]
  },
  {
   "cell_type": "code",
   "execution_count": 34,
   "metadata": {
    "execution": {
     "iopub.execute_input": "2021-02-05T01:35:20.018023Z",
     "iopub.status.busy": "2021-02-05T01:35:20.017866Z",
     "iopub.status.idle": "2021-02-05T01:35:20.022493Z",
     "shell.execute_reply": "2021-02-05T01:35:20.021996Z",
     "shell.execute_reply.started": "2021-02-05T01:35:20.018007Z"
    }
   },
   "outputs": [],
   "source": [
    "for train_index, test_index in tscv.split(X2):\n",
    "    X2_train, X2_test = X2.values[train_index], X2.values[test_index]\n",
    "    y2_train, y2_test = y2.values[train_index], y2.values[test_index]"
   ]
  },
  {
   "cell_type": "code",
   "execution_count": 35,
   "metadata": {
    "execution": {
     "iopub.execute_input": "2021-02-05T01:35:23.000432Z",
     "iopub.status.busy": "2021-02-05T01:35:23.000224Z",
     "iopub.status.idle": "2021-02-05T01:35:23.004003Z",
     "shell.execute_reply": "2021-02-05T01:35:23.003592Z",
     "shell.execute_reply.started": "2021-02-05T01:35:23.000409Z"
    }
   },
   "outputs": [
    {
     "name": "stdout",
     "output_type": "stream",
     "text": [
      "(4105, 18) (4105,) (410, 18) (410,) (4104, 18) (4104,) (410, 18) (410,)\n"
     ]
    }
   ],
   "source": [
    "print(X_train.shape, y_train.shape, X_test.shape, y_test.shape, X2_train.shape, y2_train.shape, X2_test.shape, y2_test.shape)"
   ]
  },
  {
   "cell_type": "code",
   "execution_count": 36,
   "metadata": {
    "execution": {
     "iopub.execute_input": "2021-02-05T01:35:30.061771Z",
     "iopub.status.busy": "2021-02-05T01:35:30.061615Z",
     "iopub.status.idle": "2021-02-05T01:35:30.286866Z",
     "shell.execute_reply": "2021-02-05T01:35:30.286518Z",
     "shell.execute_reply.started": "2021-02-05T01:35:30.061755Z"
    }
   },
   "outputs": [],
   "source": [
    "pd.DataFrame(X_train).to_csv('data/X_train.csv', index=False)\n",
    "pd.DataFrame(X_test).to_csv('data/X_test.csv', index=False)\n",
    "pd.DataFrame(y_train).to_csv('data/y_train.csv', index=False)\n",
    "pd.DataFrame(y_test).to_csv('data/y_test.csv', index=False)\n",
    "\n",
    "pd.DataFrame(X2_train).to_csv('data/X2_train.csv', index=False)\n",
    "pd.DataFrame(X2_test).to_csv('data/X2_test.csv', index=False)\n",
    "pd.DataFrame(y2_train).to_csv('data/y2_train.csv', index=False)\n",
    "pd.DataFrame(y2_test).to_csv('data/y2_test.csv', index=False)"
   ]
  },
  {
   "cell_type": "code",
   "execution_count": null,
   "metadata": {},
   "outputs": [],
   "source": [
    "### Times in Greenwich Mean Time\n",
    "\n",
    "###Both day ahead\n",
    "### Japan Exchange Group / N225    12am to 6am\n",
    "### Hong Kong / Hang Seng =        1:30am to 8am\n",
    "\n",
    "###Both lag day behind locally\n",
    "### EuroNext / N100 =              8am to 4:30pm\n",
    "### NYSE / DJI =                   2:30pm to 9pm\n",
    "\n",
    "###Observations\n",
    "### Jap and Hong Kong close before EuroNext opens SAME DAY\n",
    "### Hong Kong closes RIGHT as Euronext Opens SAME DAY\n",
    "###New York and EuroNext close before Jap and Hong Kong open THE DAY BEFORE\n",
    "###NYSE is mid-dayish when EURO closes\n",
    "\n",
    "###For test case leave out NYSE in test train split and begin running models on that"
   ]
  }
 ],
 "metadata": {
  "kernelspec": {
   "display_name": "Python 3",
   "language": "python",
   "name": "python3"
  },
  "language_info": {
   "codemirror_mode": {
    "name": "ipython",
    "version": 3
   },
   "file_extension": ".py",
   "mimetype": "text/x-python",
   "name": "python",
   "nbconvert_exporter": "python",
   "pygments_lexer": "ipython3",
   "version": "3.9.1"
  }
 },
 "nbformat": 4,
 "nbformat_minor": 4
}
