{
 "cells": [
  {
   "cell_type": "markdown",
   "metadata": {
    "execution": {
     "iopub.execute_input": "2021-02-14T03:13:19.869874Z",
     "iopub.status.busy": "2021-02-14T03:13:19.869726Z",
     "iopub.status.idle": "2021-02-14T03:13:19.871898Z",
     "shell.execute_reply": "2021-02-14T03:13:19.871493Z",
     "shell.execute_reply.started": "2021-02-14T03:13:19.869858Z"
    }
   },
   "source": [
    "### Imports"
   ]
  },
  {
   "cell_type": "code",
   "execution_count": 1,
   "metadata": {
    "execution": {
     "iopub.execute_input": "2021-02-17T22:49:12.699127Z",
     "iopub.status.busy": "2021-02-17T22:49:12.699018Z",
     "iopub.status.idle": "2021-02-17T22:49:13.013884Z",
     "shell.execute_reply": "2021-02-17T22:49:13.013501Z",
     "shell.execute_reply.started": "2021-02-17T22:49:12.699111Z"
    }
   },
   "outputs": [],
   "source": [
    "import pandas as pd\n",
    "import matplotlib.pyplot as plt\n",
    "import datetime\n",
    "import os"
   ]
  },
  {
   "cell_type": "markdown",
   "metadata": {},
   "source": [
    "Pandas read data. Each index is stored in a csv derived from yahoo finance"
   ]
  },
  {
   "cell_type": "code",
   "execution_count": 2,
   "metadata": {
    "execution": {
     "iopub.execute_input": "2021-02-17T22:49:13.014582Z",
     "iopub.status.busy": "2021-02-17T22:49:13.014470Z",
     "iopub.status.idle": "2021-02-17T22:49:13.079562Z",
     "shell.execute_reply": "2021-02-17T22:49:13.079177Z",
     "shell.execute_reply.started": "2021-02-17T22:49:13.014568Z"
    }
   },
   "outputs": [],
   "source": [
    "#Import Data from CSV into Pandas Dataframes\n",
    "\n",
    "#Dow Jones Industrial Average NYSE\n",
    "DJI = pd.read_csv('IndexHistory/DJI.csv')\n",
    "#EuroNext100 Euronext Stock Exchange\n",
    "N100 = pd.read_csv('IndexHistory/N100.csv')\n",
    "#Hang Seng Index Hogn Kong Stock Exchange\n",
    "HSI = pd.read_csv('IndexHistory/HSI.csv')\n",
    "#Nikkei225 Index, Nikkei Stock Exchange\n",
    "N225 = pd.read_csv('IndexHistory/N225.csv')"
   ]
  },
  {
   "cell_type": "code",
   "execution_count": 3,
   "metadata": {
    "execution": {
     "iopub.execute_input": "2021-02-17T22:49:13.080271Z",
     "iopub.status.busy": "2021-02-17T22:49:13.080157Z",
     "iopub.status.idle": "2021-02-17T22:49:13.089905Z",
     "shell.execute_reply": "2021-02-17T22:49:13.089516Z",
     "shell.execute_reply.started": "2021-02-17T22:49:13.080257Z"
    }
   },
   "outputs": [
    {
     "name": "stdout",
     "output_type": "stream",
     "text": [
      "<class 'pandas.core.frame.DataFrame'>\n",
      "RangeIndex: 5031 entries, 0 to 5030\n",
      "Data columns (total 7 columns):\n",
      " #   Column     Non-Null Count  Dtype  \n",
      "---  ------     --------------  -----  \n",
      " 0   Date       5031 non-null   object \n",
      " 1   Open       5031 non-null   float64\n",
      " 2   High       5031 non-null   float64\n",
      " 3   Low        5031 non-null   float64\n",
      " 4   Close      5031 non-null   float64\n",
      " 5   Adj Close  5031 non-null   float64\n",
      " 6   Volume     5031 non-null   int64  \n",
      "dtypes: float64(5), int64(1), object(1)\n",
      "memory usage: 275.3+ KB\n"
     ]
    }
   ],
   "source": [
    "DJI.info()"
   ]
  },
  {
   "cell_type": "markdown",
   "metadata": {},
   "source": [
    "'Date' column is object datatype, must convert to datetime64 using pd.to_datetime()\n",
    "Repeat for all four dataframes"
   ]
  },
  {
   "cell_type": "code",
   "execution_count": 4,
   "metadata": {
    "execution": {
     "iopub.execute_input": "2021-02-17T22:49:13.090821Z",
     "iopub.status.busy": "2021-02-17T22:49:13.090641Z",
     "iopub.status.idle": "2021-02-17T22:49:13.099392Z",
     "shell.execute_reply": "2021-02-17T22:49:13.098924Z",
     "shell.execute_reply.started": "2021-02-17T22:49:13.090799Z"
    }
   },
   "outputs": [],
   "source": [
    "DJI['Date'] = pd.to_datetime(DJI['Date'], format='%Y-%m-%d')\n",
    "N100['Date'] = pd.to_datetime(N100['Date'], format='%Y-%m-%d')\n",
    "HSI['Date'] = pd.to_datetime(HSI['Date'], format='%Y-%m-%d')\n",
    "N225['Date'] = pd.to_datetime(N225['Date'], format='%Y-%m-%d')"
   ]
  },
  {
   "cell_type": "markdown",
   "metadata": {
    "execution": {
     "iopub.execute_input": "2021-02-14T03:14:18.931944Z",
     "iopub.status.busy": "2021-02-14T03:14:18.931785Z",
     "iopub.status.idle": "2021-02-14T03:14:18.935062Z",
     "shell.execute_reply": "2021-02-14T03:14:18.934426Z",
     "shell.execute_reply.started": "2021-02-14T03:14:18.931927Z"
    }
   },
   "source": [
    "Double check datetime worked"
   ]
  },
  {
   "cell_type": "code",
   "execution_count": 5,
   "metadata": {
    "execution": {
     "iopub.execute_input": "2021-02-17T22:49:13.101591Z",
     "iopub.status.busy": "2021-02-17T22:49:13.101416Z",
     "iopub.status.idle": "2021-02-17T22:49:13.108727Z",
     "shell.execute_reply": "2021-02-17T22:49:13.108372Z",
     "shell.execute_reply.started": "2021-02-17T22:49:13.101573Z"
    }
   },
   "outputs": [
    {
     "name": "stdout",
     "output_type": "stream",
     "text": [
      "<class 'pandas.core.frame.DataFrame'>\n",
      "RangeIndex: 5031 entries, 0 to 5030\n",
      "Data columns (total 7 columns):\n",
      " #   Column     Non-Null Count  Dtype         \n",
      "---  ------     --------------  -----         \n",
      " 0   Date       5031 non-null   datetime64[ns]\n",
      " 1   Open       5031 non-null   float64       \n",
      " 2   High       5031 non-null   float64       \n",
      " 3   Low        5031 non-null   float64       \n",
      " 4   Close      5031 non-null   float64       \n",
      " 5   Adj Close  5031 non-null   float64       \n",
      " 6   Volume     5031 non-null   int64         \n",
      "dtypes: datetime64[ns](1), float64(5), int64(1)\n",
      "memory usage: 275.3 KB\n"
     ]
    }
   ],
   "source": [
    "DJI.info()"
   ]
  },
  {
   "cell_type": "markdown",
   "metadata": {},
   "source": [
    "Running through some basic sanity checks"
   ]
  },
  {
   "cell_type": "code",
   "execution_count": 6,
   "metadata": {
    "execution": {
     "iopub.execute_input": "2021-02-17T22:49:13.109601Z",
     "iopub.status.busy": "2021-02-17T22:49:13.109490Z",
     "iopub.status.idle": "2021-02-17T22:49:13.119882Z",
     "shell.execute_reply": "2021-02-17T22:49:13.119524Z",
     "shell.execute_reply.started": "2021-02-17T22:49:13.109588Z"
    }
   },
   "outputs": [
    {
     "data": {
      "text/html": [
       "<div>\n",
       "<style scoped>\n",
       "    .dataframe tbody tr th:only-of-type {\n",
       "        vertical-align: middle;\n",
       "    }\n",
       "\n",
       "    .dataframe tbody tr th {\n",
       "        vertical-align: top;\n",
       "    }\n",
       "\n",
       "    .dataframe thead th {\n",
       "        text-align: right;\n",
       "    }\n",
       "</style>\n",
       "<table border=\"1\" class=\"dataframe\">\n",
       "  <thead>\n",
       "    <tr style=\"text-align: right;\">\n",
       "      <th></th>\n",
       "      <th>Date</th>\n",
       "      <th>Open</th>\n",
       "      <th>High</th>\n",
       "      <th>Low</th>\n",
       "      <th>Close</th>\n",
       "      <th>Adj Close</th>\n",
       "      <th>Volume</th>\n",
       "    </tr>\n",
       "  </thead>\n",
       "  <tbody>\n",
       "    <tr>\n",
       "      <th>0</th>\n",
       "      <td>2000-10-09</td>\n",
       "      <td>10596.910156</td>\n",
       "      <td>10641.309570</td>\n",
       "      <td>10546.230469</td>\n",
       "      <td>10568.429688</td>\n",
       "      <td>10568.429688</td>\n",
       "      <td>167770000</td>\n",
       "    </tr>\n",
       "    <tr>\n",
       "      <th>1</th>\n",
       "      <td>2000-10-10</td>\n",
       "      <td>10569.169922</td>\n",
       "      <td>10623.549805</td>\n",
       "      <td>10488.889648</td>\n",
       "      <td>10524.400391</td>\n",
       "      <td>10524.400391</td>\n",
       "      <td>212070000</td>\n",
       "    </tr>\n",
       "    <tr>\n",
       "      <th>2</th>\n",
       "      <td>2000-10-11</td>\n",
       "      <td>10521.070313</td>\n",
       "      <td>10566.580078</td>\n",
       "      <td>10350.889648</td>\n",
       "      <td>10413.790039</td>\n",
       "      <td>10413.790039</td>\n",
       "      <td>324520000</td>\n",
       "    </tr>\n",
       "    <tr>\n",
       "      <th>3</th>\n",
       "      <td>2000-10-12</td>\n",
       "      <td>10424.139648</td>\n",
       "      <td>10460.400391</td>\n",
       "      <td>10023.490234</td>\n",
       "      <td>10034.580078</td>\n",
       "      <td>10034.580078</td>\n",
       "      <td>367130000</td>\n",
       "    </tr>\n",
       "    <tr>\n",
       "      <th>4</th>\n",
       "      <td>2000-10-13</td>\n",
       "      <td>10031.620117</td>\n",
       "      <td>10208.089844</td>\n",
       "      <td>10014.240234</td>\n",
       "      <td>10192.179688</td>\n",
       "      <td>10192.179688</td>\n",
       "      <td>300410000</td>\n",
       "    </tr>\n",
       "    <tr>\n",
       "      <th>5</th>\n",
       "      <td>2000-10-16</td>\n",
       "      <td>10184.780273</td>\n",
       "      <td>10272.089844</td>\n",
       "      <td>10177.759766</td>\n",
       "      <td>10238.799805</td>\n",
       "      <td>10238.799805</td>\n",
       "      <td>270220000</td>\n",
       "    </tr>\n",
       "    <tr>\n",
       "      <th>6</th>\n",
       "      <td>2000-10-17</td>\n",
       "      <td>10242.870117</td>\n",
       "      <td>10293.919922</td>\n",
       "      <td>10026.450195</td>\n",
       "      <td>10089.709961</td>\n",
       "      <td>10089.709961</td>\n",
       "      <td>253140000</td>\n",
       "    </tr>\n",
       "    <tr>\n",
       "      <th>7</th>\n",
       "      <td>2000-10-18</td>\n",
       "      <td>10085.990234</td>\n",
       "      <td>10085.990234</td>\n",
       "      <td>9654.639648</td>\n",
       "      <td>9975.019531</td>\n",
       "      <td>9975.019531</td>\n",
       "      <td>372410000</td>\n",
       "    </tr>\n",
       "    <tr>\n",
       "      <th>8</th>\n",
       "      <td>2000-10-19</td>\n",
       "      <td>10014.610352</td>\n",
       "      <td>10142.980469</td>\n",
       "      <td>10014.610352</td>\n",
       "      <td>10142.980469</td>\n",
       "      <td>10142.980469</td>\n",
       "      <td>343710000</td>\n",
       "    </tr>\n",
       "    <tr>\n",
       "      <th>9</th>\n",
       "      <td>2000-10-20</td>\n",
       "      <td>10141.129883</td>\n",
       "      <td>10229.549805</td>\n",
       "      <td>10067.509766</td>\n",
       "      <td>10226.589844</td>\n",
       "      <td>10226.589844</td>\n",
       "      <td>319750000</td>\n",
       "    </tr>\n",
       "  </tbody>\n",
       "</table>\n",
       "</div>"
      ],
      "text/plain": [
       "        Date          Open          High           Low         Close  \\\n",
       "0 2000-10-09  10596.910156  10641.309570  10546.230469  10568.429688   \n",
       "1 2000-10-10  10569.169922  10623.549805  10488.889648  10524.400391   \n",
       "2 2000-10-11  10521.070313  10566.580078  10350.889648  10413.790039   \n",
       "3 2000-10-12  10424.139648  10460.400391  10023.490234  10034.580078   \n",
       "4 2000-10-13  10031.620117  10208.089844  10014.240234  10192.179688   \n",
       "5 2000-10-16  10184.780273  10272.089844  10177.759766  10238.799805   \n",
       "6 2000-10-17  10242.870117  10293.919922  10026.450195  10089.709961   \n",
       "7 2000-10-18  10085.990234  10085.990234   9654.639648   9975.019531   \n",
       "8 2000-10-19  10014.610352  10142.980469  10014.610352  10142.980469   \n",
       "9 2000-10-20  10141.129883  10229.549805  10067.509766  10226.589844   \n",
       "\n",
       "      Adj Close     Volume  \n",
       "0  10568.429688  167770000  \n",
       "1  10524.400391  212070000  \n",
       "2  10413.790039  324520000  \n",
       "3  10034.580078  367130000  \n",
       "4  10192.179688  300410000  \n",
       "5  10238.799805  270220000  \n",
       "6  10089.709961  253140000  \n",
       "7   9975.019531  372410000  \n",
       "8  10142.980469  343710000  \n",
       "9  10226.589844  319750000  "
      ]
     },
     "execution_count": 6,
     "metadata": {},
     "output_type": "execute_result"
    }
   ],
   "source": [
    "DJI.head(10)"
   ]
  },
  {
   "cell_type": "code",
   "execution_count": 7,
   "metadata": {
    "execution": {
     "iopub.execute_input": "2021-02-17T22:49:13.120561Z",
     "iopub.status.busy": "2021-02-17T22:49:13.120450Z",
     "iopub.status.idle": "2021-02-17T22:49:13.123548Z",
     "shell.execute_reply": "2021-02-17T22:49:13.123076Z",
     "shell.execute_reply.started": "2021-02-17T22:49:13.120547Z"
    }
   },
   "outputs": [
    {
     "data": {
      "text/plain": [
       "((5031, 7), (5140, 7), (4999, 7), (5012, 7))"
      ]
     },
     "execution_count": 7,
     "metadata": {},
     "output_type": "execute_result"
    }
   ],
   "source": [
    "DJI.shape, N100.shape, HSI.shape, N225.shape"
   ]
  },
  {
   "cell_type": "code",
   "execution_count": 8,
   "metadata": {
    "execution": {
     "iopub.execute_input": "2021-02-17T22:49:13.124602Z",
     "iopub.status.busy": "2021-02-17T22:49:13.124459Z",
     "iopub.status.idle": "2021-02-17T22:49:13.127916Z",
     "shell.execute_reply": "2021-02-17T22:49:13.127332Z",
     "shell.execute_reply.started": "2021-02-17T22:49:13.124587Z"
    }
   },
   "outputs": [
    {
     "data": {
      "text/plain": [
       "Index(['Date', 'Open', 'High', 'Low', 'Close', 'Adj Close', 'Volume'], dtype='object')"
      ]
     },
     "execution_count": 8,
     "metadata": {},
     "output_type": "execute_result"
    }
   ],
   "source": [
    "DJI.columns"
   ]
  },
  {
   "cell_type": "markdown",
   "metadata": {},
   "source": [
    "We will use this data to perform analysis on the closing prices of each index. The best way to do this is to compare percentage changes. We will calculate the closing price's percent change from previous close."
   ]
  },
  {
   "cell_type": "code",
   "execution_count": 9,
   "metadata": {
    "execution": {
     "iopub.execute_input": "2021-02-17T22:49:13.128938Z",
     "iopub.status.busy": "2021-02-17T22:49:13.128750Z",
     "iopub.status.idle": "2021-02-17T22:49:13.141301Z",
     "shell.execute_reply": "2021-02-17T22:49:13.140889Z",
     "shell.execute_reply.started": "2021-02-17T22:49:13.128914Z"
    }
   },
   "outputs": [],
   "source": [
    "#Use pct_change() method to calculate percentage for 'Close' column\n",
    "#pct_change isnt out of 100, rather it returns a decimal value, so multiply by 100 after the fact\n",
    "DJI['Percent Change'] = DJI['Close'].pct_change() * 100\n",
    "N100['Percent Change'] = N100['Close'].pct_change() * 100\n",
    "HSI['Percent Change'] = HSI['Close'].pct_change() * 100\n",
    "N225['Percent Change'] = N225['Close'].pct_change() * 100"
   ]
  },
  {
   "cell_type": "markdown",
   "metadata": {},
   "source": [
    "For best analysis, datasets must be merged. But before we can do that, we must still differentiate what each row's index represents. To achieve this, we will insert an extra column and populate it with the name of the corresponding index."
   ]
  },
  {
   "cell_type": "code",
   "execution_count": 10,
   "metadata": {
    "execution": {
     "iopub.execute_input": "2021-02-17T22:49:13.142218Z",
     "iopub.status.busy": "2021-02-17T22:49:13.142034Z",
     "iopub.status.idle": "2021-02-17T22:49:13.146589Z",
     "shell.execute_reply": "2021-02-17T22:49:13.146138Z",
     "shell.execute_reply.started": "2021-02-17T22:49:13.142195Z"
    }
   },
   "outputs": [],
   "source": [
    "####Insert index name as new column\n",
    "DJI['Index'] = 'Dow Jones Industrial'\n",
    "N100['Index'] = 'Euronext100'\n",
    "HSI['Index'] = 'Hang Seng'\n",
    "N225['Index'] = 'Nikkei 225'"
   ]
  },
  {
   "cell_type": "markdown",
   "metadata": {},
   "source": [
    "Sanity check"
   ]
  },
  {
   "cell_type": "code",
   "execution_count": 11,
   "metadata": {
    "execution": {
     "iopub.execute_input": "2021-02-17T22:49:13.147629Z",
     "iopub.status.busy": "2021-02-17T22:49:13.147432Z",
     "iopub.status.idle": "2021-02-17T22:49:13.157235Z",
     "shell.execute_reply": "2021-02-17T22:49:13.156730Z",
     "shell.execute_reply.started": "2021-02-17T22:49:13.147604Z"
    }
   },
   "outputs": [
    {
     "data": {
      "text/html": [
       "<div>\n",
       "<style scoped>\n",
       "    .dataframe tbody tr th:only-of-type {\n",
       "        vertical-align: middle;\n",
       "    }\n",
       "\n",
       "    .dataframe tbody tr th {\n",
       "        vertical-align: top;\n",
       "    }\n",
       "\n",
       "    .dataframe thead th {\n",
       "        text-align: right;\n",
       "    }\n",
       "</style>\n",
       "<table border=\"1\" class=\"dataframe\">\n",
       "  <thead>\n",
       "    <tr style=\"text-align: right;\">\n",
       "      <th></th>\n",
       "      <th>Date</th>\n",
       "      <th>Open</th>\n",
       "      <th>High</th>\n",
       "      <th>Low</th>\n",
       "      <th>Close</th>\n",
       "      <th>Adj Close</th>\n",
       "      <th>Volume</th>\n",
       "      <th>Percent Change</th>\n",
       "      <th>Index</th>\n",
       "    </tr>\n",
       "  </thead>\n",
       "  <tbody>\n",
       "    <tr>\n",
       "      <th>0</th>\n",
       "      <td>2000-10-09</td>\n",
       "      <td>10596.910156</td>\n",
       "      <td>10641.309570</td>\n",
       "      <td>10546.230469</td>\n",
       "      <td>10568.429688</td>\n",
       "      <td>10568.429688</td>\n",
       "      <td>167770000</td>\n",
       "      <td>NaN</td>\n",
       "      <td>Dow Jones Industrial</td>\n",
       "    </tr>\n",
       "    <tr>\n",
       "      <th>1</th>\n",
       "      <td>2000-10-10</td>\n",
       "      <td>10569.169922</td>\n",
       "      <td>10623.549805</td>\n",
       "      <td>10488.889648</td>\n",
       "      <td>10524.400391</td>\n",
       "      <td>10524.400391</td>\n",
       "      <td>212070000</td>\n",
       "      <td>-0.416612</td>\n",
       "      <td>Dow Jones Industrial</td>\n",
       "    </tr>\n",
       "    <tr>\n",
       "      <th>2</th>\n",
       "      <td>2000-10-11</td>\n",
       "      <td>10521.070313</td>\n",
       "      <td>10566.580078</td>\n",
       "      <td>10350.889648</td>\n",
       "      <td>10413.790039</td>\n",
       "      <td>10413.790039</td>\n",
       "      <td>324520000</td>\n",
       "      <td>-1.050990</td>\n",
       "      <td>Dow Jones Industrial</td>\n",
       "    </tr>\n",
       "    <tr>\n",
       "      <th>3</th>\n",
       "      <td>2000-10-12</td>\n",
       "      <td>10424.139648</td>\n",
       "      <td>10460.400391</td>\n",
       "      <td>10023.490234</td>\n",
       "      <td>10034.580078</td>\n",
       "      <td>10034.580078</td>\n",
       "      <td>367130000</td>\n",
       "      <td>-3.641421</td>\n",
       "      <td>Dow Jones Industrial</td>\n",
       "    </tr>\n",
       "    <tr>\n",
       "      <th>4</th>\n",
       "      <td>2000-10-13</td>\n",
       "      <td>10031.620117</td>\n",
       "      <td>10208.089844</td>\n",
       "      <td>10014.240234</td>\n",
       "      <td>10192.179688</td>\n",
       "      <td>10192.179688</td>\n",
       "      <td>300410000</td>\n",
       "      <td>1.570565</td>\n",
       "      <td>Dow Jones Industrial</td>\n",
       "    </tr>\n",
       "  </tbody>\n",
       "</table>\n",
       "</div>"
      ],
      "text/plain": [
       "        Date          Open          High           Low         Close  \\\n",
       "0 2000-10-09  10596.910156  10641.309570  10546.230469  10568.429688   \n",
       "1 2000-10-10  10569.169922  10623.549805  10488.889648  10524.400391   \n",
       "2 2000-10-11  10521.070313  10566.580078  10350.889648  10413.790039   \n",
       "3 2000-10-12  10424.139648  10460.400391  10023.490234  10034.580078   \n",
       "4 2000-10-13  10031.620117  10208.089844  10014.240234  10192.179688   \n",
       "\n",
       "      Adj Close     Volume  Percent Change                 Index  \n",
       "0  10568.429688  167770000             NaN  Dow Jones Industrial  \n",
       "1  10524.400391  212070000       -0.416612  Dow Jones Industrial  \n",
       "2  10413.790039  324520000       -1.050990  Dow Jones Industrial  \n",
       "3  10034.580078  367130000       -3.641421  Dow Jones Industrial  \n",
       "4  10192.179688  300410000        1.570565  Dow Jones Industrial  "
      ]
     },
     "execution_count": 11,
     "metadata": {},
     "output_type": "execute_result"
    }
   ],
   "source": [
    "DJI.head(5)"
   ]
  },
  {
   "cell_type": "code",
   "execution_count": 12,
   "metadata": {
    "execution": {
     "iopub.execute_input": "2021-02-17T22:49:13.158198Z",
     "iopub.status.busy": "2021-02-17T22:49:13.158008Z",
     "iopub.status.idle": "2021-02-17T22:49:13.169208Z",
     "shell.execute_reply": "2021-02-17T22:49:13.168794Z",
     "shell.execute_reply.started": "2021-02-17T22:49:13.158173Z"
    }
   },
   "outputs": [
    {
     "data": {
      "text/html": [
       "<div>\n",
       "<style scoped>\n",
       "    .dataframe tbody tr th:only-of-type {\n",
       "        vertical-align: middle;\n",
       "    }\n",
       "\n",
       "    .dataframe tbody tr th {\n",
       "        vertical-align: top;\n",
       "    }\n",
       "\n",
       "    .dataframe thead th {\n",
       "        text-align: right;\n",
       "    }\n",
       "</style>\n",
       "<table border=\"1\" class=\"dataframe\">\n",
       "  <thead>\n",
       "    <tr style=\"text-align: right;\">\n",
       "      <th></th>\n",
       "      <th>Date</th>\n",
       "      <th>Open</th>\n",
       "      <th>High</th>\n",
       "      <th>Low</th>\n",
       "      <th>Close</th>\n",
       "      <th>Adj Close</th>\n",
       "      <th>Volume</th>\n",
       "      <th>Percent Change</th>\n",
       "      <th>Index</th>\n",
       "    </tr>\n",
       "  </thead>\n",
       "  <tbody>\n",
       "    <tr>\n",
       "      <th>5026</th>\n",
       "      <td>2020-10-01</td>\n",
       "      <td>27940.630859</td>\n",
       "      <td>28041.460938</td>\n",
       "      <td>27669.259766</td>\n",
       "      <td>27816.900391</td>\n",
       "      <td>27816.900391</td>\n",
       "      <td>373450000</td>\n",
       "      <td>0.126706</td>\n",
       "      <td>Dow Jones Industrial</td>\n",
       "    </tr>\n",
       "    <tr>\n",
       "      <th>5027</th>\n",
       "      <td>2020-10-02</td>\n",
       "      <td>27536.390625</td>\n",
       "      <td>27861.429688</td>\n",
       "      <td>27382.939453</td>\n",
       "      <td>27682.810547</td>\n",
       "      <td>27682.810547</td>\n",
       "      <td>392770000</td>\n",
       "      <td>-0.482045</td>\n",
       "      <td>Dow Jones Industrial</td>\n",
       "    </tr>\n",
       "    <tr>\n",
       "      <th>5028</th>\n",
       "      <td>2020-10-05</td>\n",
       "      <td>27825.419922</td>\n",
       "      <td>28162.640625</td>\n",
       "      <td>27825.419922</td>\n",
       "      <td>28148.640625</td>\n",
       "      <td>28148.640625</td>\n",
       "      <td>318210000</td>\n",
       "      <td>1.682741</td>\n",
       "      <td>Dow Jones Industrial</td>\n",
       "    </tr>\n",
       "    <tr>\n",
       "      <th>5029</th>\n",
       "      <td>2020-10-06</td>\n",
       "      <td>28214.240234</td>\n",
       "      <td>28354.480469</td>\n",
       "      <td>27728.029297</td>\n",
       "      <td>27772.759766</td>\n",
       "      <td>27772.759766</td>\n",
       "      <td>435030000</td>\n",
       "      <td>-1.335343</td>\n",
       "      <td>Dow Jones Industrial</td>\n",
       "    </tr>\n",
       "    <tr>\n",
       "      <th>5030</th>\n",
       "      <td>2020-10-07</td>\n",
       "      <td>27971.359375</td>\n",
       "      <td>28369.660156</td>\n",
       "      <td>27971.359375</td>\n",
       "      <td>28303.460938</td>\n",
       "      <td>28303.460938</td>\n",
       "      <td>328750000</td>\n",
       "      <td>1.910869</td>\n",
       "      <td>Dow Jones Industrial</td>\n",
       "    </tr>\n",
       "  </tbody>\n",
       "</table>\n",
       "</div>"
      ],
      "text/plain": [
       "           Date          Open          High           Low         Close  \\\n",
       "5026 2020-10-01  27940.630859  28041.460938  27669.259766  27816.900391   \n",
       "5027 2020-10-02  27536.390625  27861.429688  27382.939453  27682.810547   \n",
       "5028 2020-10-05  27825.419922  28162.640625  27825.419922  28148.640625   \n",
       "5029 2020-10-06  28214.240234  28354.480469  27728.029297  27772.759766   \n",
       "5030 2020-10-07  27971.359375  28369.660156  27971.359375  28303.460938   \n",
       "\n",
       "         Adj Close     Volume  Percent Change                 Index  \n",
       "5026  27816.900391  373450000        0.126706  Dow Jones Industrial  \n",
       "5027  27682.810547  392770000       -0.482045  Dow Jones Industrial  \n",
       "5028  28148.640625  318210000        1.682741  Dow Jones Industrial  \n",
       "5029  27772.759766  435030000       -1.335343  Dow Jones Industrial  \n",
       "5030  28303.460938  328750000        1.910869  Dow Jones Industrial  "
      ]
     },
     "execution_count": 12,
     "metadata": {},
     "output_type": "execute_result"
    }
   ],
   "source": [
    "DJI.tail(5)"
   ]
  },
  {
   "cell_type": "markdown",
   "metadata": {},
   "source": [
    "Percent change inherently will not have a value with the first row. Since Percent Change will become the basis of our modeling, it must be dropped. "
   ]
  },
  {
   "cell_type": "markdown",
   "metadata": {},
   "source": [
    "While working with NaN values, check how many exist throughout the datasets."
   ]
  },
  {
   "cell_type": "markdown",
   "metadata": {},
   "source": [
    "Check for null values"
   ]
  },
  {
   "cell_type": "code",
   "execution_count": 13,
   "metadata": {
    "execution": {
     "iopub.execute_input": "2021-02-17T22:49:13.169941Z",
     "iopub.status.busy": "2021-02-17T22:49:13.169818Z",
     "iopub.status.idle": "2021-02-17T22:49:13.178716Z",
     "shell.execute_reply": "2021-02-17T22:49:13.178305Z",
     "shell.execute_reply.started": "2021-02-17T22:49:13.169926Z"
    }
   },
   "outputs": [
    {
     "name": "stdout",
     "output_type": "stream",
     "text": [
      "Date              0\n",
      "Open              0\n",
      "High              0\n",
      "Low               0\n",
      "Close             0\n",
      "Adj Close         0\n",
      "Volume            0\n",
      "Percent Change    1\n",
      "Index             0\n",
      "dtype: int64 Date               0\n",
      "Open              32\n",
      "High              32\n",
      "Low               32\n",
      "Close             32\n",
      "Adj Close         32\n",
      "Volume            32\n",
      "Percent Change     1\n",
      "Index              0\n",
      "dtype: int64 Date                0\n",
      "Open              115\n",
      "High              115\n",
      "Low               115\n",
      "Close             115\n",
      "Adj Close         115\n",
      "Volume            115\n",
      "Percent Change      1\n",
      "Index               0\n",
      "dtype: int64 Date               0\n",
      "Open              73\n",
      "High              73\n",
      "Low               73\n",
      "Close             73\n",
      "Adj Close         73\n",
      "Volume            73\n",
      "Percent Change     1\n",
      "Index              0\n",
      "dtype: int64\n"
     ]
    }
   ],
   "source": [
    "print(pd.isna(DJI).sum(), pd.isna(N100).sum(), pd.isna(N225).sum(), pd.isna(HSI).sum())"
   ]
  },
  {
   "cell_type": "markdown",
   "metadata": {},
   "source": [
    "Isna sum divided by len of dataframes to obtain the percentage of missing values relative to the datasets"
   ]
  },
  {
   "cell_type": "code",
   "execution_count": 14,
   "metadata": {
    "execution": {
     "iopub.execute_input": "2021-02-17T22:49:13.179551Z",
     "iopub.status.busy": "2021-02-17T22:49:13.179435Z",
     "iopub.status.idle": "2021-02-17T22:49:13.187917Z",
     "shell.execute_reply": "2021-02-17T22:49:13.187466Z",
     "shell.execute_reply.started": "2021-02-17T22:49:13.179537Z"
    }
   },
   "outputs": [
    {
     "data": {
      "text/plain": [
       "Date              0.000000\n",
       "Open              0.010901\n",
       "High              0.010901\n",
       "Low               0.010901\n",
       "Close             0.010901\n",
       "Adj Close         0.010901\n",
       "Volume            0.010901\n",
       "Percent Change    0.000198\n",
       "Index             0.000000\n",
       "dtype: float64"
      ]
     },
     "execution_count": 14,
     "metadata": {},
     "output_type": "execute_result"
    }
   ],
   "source": [
    "(pd.isna(DJI).sum() + pd.isna(N100).sum() + pd.isna(N225).sum() + pd.isna(HSI).sum()) / (len(DJI) + len(N100) + len(N225) + len(HSI))"
   ]
  },
  {
   "cell_type": "markdown",
   "metadata": {},
   "source": [
    "Missing Values constitute around 10.9% of all values. Keeping around 90% of the data after dropping missing value rows feels acceptable."
   ]
  },
  {
   "cell_type": "markdown",
   "metadata": {
    "execution": {
     "iopub.execute_input": "2021-02-14T03:35:06.459166Z",
     "iopub.status.busy": "2021-02-14T03:35:06.459026Z",
     "iopub.status.idle": "2021-02-14T03:35:06.476707Z",
     "shell.execute_reply": "2021-02-14T03:35:06.475267Z",
     "shell.execute_reply.started": "2021-02-14T03:35:06.459146Z"
    }
   },
   "source": [
    "But first, drop the first row of the datasets due to NaN Percent Change"
   ]
  },
  {
   "cell_type": "code",
   "execution_count": 15,
   "metadata": {
    "execution": {
     "iopub.execute_input": "2021-02-17T22:49:13.188669Z",
     "iopub.status.busy": "2021-02-17T22:49:13.188549Z",
     "iopub.status.idle": "2021-02-17T22:49:13.195147Z",
     "shell.execute_reply": "2021-02-17T22:49:13.194611Z",
     "shell.execute_reply.started": "2021-02-17T22:49:13.188654Z"
    }
   },
   "outputs": [],
   "source": [
    "DJI.drop(DJI.index[0], inplace=True)\n",
    "N100.drop(N100.index[0], inplace=True)\n",
    "HSI.drop(HSI.index[0], inplace=True)\n",
    "N225.drop(N225.index[0], inplace=True)"
   ]
  },
  {
   "cell_type": "code",
   "execution_count": 16,
   "metadata": {
    "execution": {
     "iopub.execute_input": "2021-02-17T22:49:13.196138Z",
     "iopub.status.busy": "2021-02-17T22:49:13.195952Z",
     "iopub.status.idle": "2021-02-17T22:49:13.205224Z",
     "shell.execute_reply": "2021-02-17T22:49:13.204682Z",
     "shell.execute_reply.started": "2021-02-17T22:49:13.196115Z"
    }
   },
   "outputs": [
    {
     "data": {
      "text/html": [
       "<div>\n",
       "<style scoped>\n",
       "    .dataframe tbody tr th:only-of-type {\n",
       "        vertical-align: middle;\n",
       "    }\n",
       "\n",
       "    .dataframe tbody tr th {\n",
       "        vertical-align: top;\n",
       "    }\n",
       "\n",
       "    .dataframe thead th {\n",
       "        text-align: right;\n",
       "    }\n",
       "</style>\n",
       "<table border=\"1\" class=\"dataframe\">\n",
       "  <thead>\n",
       "    <tr style=\"text-align: right;\">\n",
       "      <th></th>\n",
       "      <th>Date</th>\n",
       "      <th>Open</th>\n",
       "      <th>High</th>\n",
       "      <th>Low</th>\n",
       "      <th>Close</th>\n",
       "      <th>Adj Close</th>\n",
       "      <th>Volume</th>\n",
       "      <th>Percent Change</th>\n",
       "      <th>Index</th>\n",
       "    </tr>\n",
       "  </thead>\n",
       "  <tbody>\n",
       "    <tr>\n",
       "      <th>1</th>\n",
       "      <td>2000-10-10</td>\n",
       "      <td>10569.169922</td>\n",
       "      <td>10623.549805</td>\n",
       "      <td>10488.889648</td>\n",
       "      <td>10524.400391</td>\n",
       "      <td>10524.400391</td>\n",
       "      <td>212070000</td>\n",
       "      <td>-0.416612</td>\n",
       "      <td>Dow Jones Industrial</td>\n",
       "    </tr>\n",
       "    <tr>\n",
       "      <th>2</th>\n",
       "      <td>2000-10-11</td>\n",
       "      <td>10521.070313</td>\n",
       "      <td>10566.580078</td>\n",
       "      <td>10350.889648</td>\n",
       "      <td>10413.790039</td>\n",
       "      <td>10413.790039</td>\n",
       "      <td>324520000</td>\n",
       "      <td>-1.050990</td>\n",
       "      <td>Dow Jones Industrial</td>\n",
       "    </tr>\n",
       "    <tr>\n",
       "      <th>3</th>\n",
       "      <td>2000-10-12</td>\n",
       "      <td>10424.139648</td>\n",
       "      <td>10460.400391</td>\n",
       "      <td>10023.490234</td>\n",
       "      <td>10034.580078</td>\n",
       "      <td>10034.580078</td>\n",
       "      <td>367130000</td>\n",
       "      <td>-3.641421</td>\n",
       "      <td>Dow Jones Industrial</td>\n",
       "    </tr>\n",
       "    <tr>\n",
       "      <th>4</th>\n",
       "      <td>2000-10-13</td>\n",
       "      <td>10031.620117</td>\n",
       "      <td>10208.089844</td>\n",
       "      <td>10014.240234</td>\n",
       "      <td>10192.179688</td>\n",
       "      <td>10192.179688</td>\n",
       "      <td>300410000</td>\n",
       "      <td>1.570565</td>\n",
       "      <td>Dow Jones Industrial</td>\n",
       "    </tr>\n",
       "    <tr>\n",
       "      <th>5</th>\n",
       "      <td>2000-10-16</td>\n",
       "      <td>10184.780273</td>\n",
       "      <td>10272.089844</td>\n",
       "      <td>10177.759766</td>\n",
       "      <td>10238.799805</td>\n",
       "      <td>10238.799805</td>\n",
       "      <td>270220000</td>\n",
       "      <td>0.457411</td>\n",
       "      <td>Dow Jones Industrial</td>\n",
       "    </tr>\n",
       "  </tbody>\n",
       "</table>\n",
       "</div>"
      ],
      "text/plain": [
       "        Date          Open          High           Low         Close  \\\n",
       "1 2000-10-10  10569.169922  10623.549805  10488.889648  10524.400391   \n",
       "2 2000-10-11  10521.070313  10566.580078  10350.889648  10413.790039   \n",
       "3 2000-10-12  10424.139648  10460.400391  10023.490234  10034.580078   \n",
       "4 2000-10-13  10031.620117  10208.089844  10014.240234  10192.179688   \n",
       "5 2000-10-16  10184.780273  10272.089844  10177.759766  10238.799805   \n",
       "\n",
       "      Adj Close     Volume  Percent Change                 Index  \n",
       "1  10524.400391  212070000       -0.416612  Dow Jones Industrial  \n",
       "2  10413.790039  324520000       -1.050990  Dow Jones Industrial  \n",
       "3  10034.580078  367130000       -3.641421  Dow Jones Industrial  \n",
       "4  10192.179688  300410000        1.570565  Dow Jones Industrial  \n",
       "5  10238.799805  270220000        0.457411  Dow Jones Industrial  "
      ]
     },
     "execution_count": 16,
     "metadata": {},
     "output_type": "execute_result"
    }
   ],
   "source": [
    "DJI.head(5)"
   ]
  },
  {
   "cell_type": "code",
   "execution_count": 17,
   "metadata": {
    "execution": {
     "iopub.execute_input": "2021-02-17T22:49:13.206296Z",
     "iopub.status.busy": "2021-02-17T22:49:13.206116Z",
     "iopub.status.idle": "2021-02-17T22:49:13.215820Z",
     "shell.execute_reply": "2021-02-17T22:49:13.215270Z",
     "shell.execute_reply.started": "2021-02-17T22:49:13.206273Z"
    }
   },
   "outputs": [
    {
     "data": {
      "text/html": [
       "<div>\n",
       "<style scoped>\n",
       "    .dataframe tbody tr th:only-of-type {\n",
       "        vertical-align: middle;\n",
       "    }\n",
       "\n",
       "    .dataframe tbody tr th {\n",
       "        vertical-align: top;\n",
       "    }\n",
       "\n",
       "    .dataframe thead th {\n",
       "        text-align: right;\n",
       "    }\n",
       "</style>\n",
       "<table border=\"1\" class=\"dataframe\">\n",
       "  <thead>\n",
       "    <tr style=\"text-align: right;\">\n",
       "      <th></th>\n",
       "      <th>Date</th>\n",
       "      <th>Open</th>\n",
       "      <th>High</th>\n",
       "      <th>Low</th>\n",
       "      <th>Close</th>\n",
       "      <th>Adj Close</th>\n",
       "      <th>Volume</th>\n",
       "      <th>Percent Change</th>\n",
       "      <th>Index</th>\n",
       "    </tr>\n",
       "  </thead>\n",
       "  <tbody>\n",
       "    <tr>\n",
       "      <th>5007</th>\n",
       "      <td>2020-10-02</td>\n",
       "      <td>23294.800781</td>\n",
       "      <td>23365.580078</td>\n",
       "      <td>22951.410156</td>\n",
       "      <td>23029.900391</td>\n",
       "      <td>23029.900391</td>\n",
       "      <td>86300.0</td>\n",
       "      <td>-0.668664</td>\n",
       "      <td>Nikkei 225</td>\n",
       "    </tr>\n",
       "    <tr>\n",
       "      <th>5008</th>\n",
       "      <td>2020-10-05</td>\n",
       "      <td>23254.279297</td>\n",
       "      <td>23377.429688</td>\n",
       "      <td>23252.689453</td>\n",
       "      <td>23312.140625</td>\n",
       "      <td>23312.140625</td>\n",
       "      <td>59500.0</td>\n",
       "      <td>1.225538</td>\n",
       "      <td>Nikkei 225</td>\n",
       "    </tr>\n",
       "    <tr>\n",
       "      <th>5009</th>\n",
       "      <td>2020-10-06</td>\n",
       "      <td>23420.070313</td>\n",
       "      <td>23441.160156</td>\n",
       "      <td>23331.400391</td>\n",
       "      <td>23433.730469</td>\n",
       "      <td>23433.730469</td>\n",
       "      <td>57700.0</td>\n",
       "      <td>0.521573</td>\n",
       "      <td>Nikkei 225</td>\n",
       "    </tr>\n",
       "    <tr>\n",
       "      <th>5010</th>\n",
       "      <td>2020-10-07</td>\n",
       "      <td>23272.449219</td>\n",
       "      <td>23432.730469</td>\n",
       "      <td>23272.449219</td>\n",
       "      <td>23422.820313</td>\n",
       "      <td>23422.820313</td>\n",
       "      <td>52100.0</td>\n",
       "      <td>-0.046557</td>\n",
       "      <td>Nikkei 225</td>\n",
       "    </tr>\n",
       "    <tr>\n",
       "      <th>5011</th>\n",
       "      <td>2020-10-08</td>\n",
       "      <td>23272.449219</td>\n",
       "      <td>23701.769531</td>\n",
       "      <td>23477.730469</td>\n",
       "      <td>23647.070313</td>\n",
       "      <td>23647.070313</td>\n",
       "      <td>0.0</td>\n",
       "      <td>0.957400</td>\n",
       "      <td>Nikkei 225</td>\n",
       "    </tr>\n",
       "  </tbody>\n",
       "</table>\n",
       "</div>"
      ],
      "text/plain": [
       "           Date          Open          High           Low         Close  \\\n",
       "5007 2020-10-02  23294.800781  23365.580078  22951.410156  23029.900391   \n",
       "5008 2020-10-05  23254.279297  23377.429688  23252.689453  23312.140625   \n",
       "5009 2020-10-06  23420.070313  23441.160156  23331.400391  23433.730469   \n",
       "5010 2020-10-07  23272.449219  23432.730469  23272.449219  23422.820313   \n",
       "5011 2020-10-08  23272.449219  23701.769531  23477.730469  23647.070313   \n",
       "\n",
       "         Adj Close   Volume  Percent Change       Index  \n",
       "5007  23029.900391  86300.0       -0.668664  Nikkei 225  \n",
       "5008  23312.140625  59500.0        1.225538  Nikkei 225  \n",
       "5009  23433.730469  57700.0        0.521573  Nikkei 225  \n",
       "5010  23422.820313  52100.0       -0.046557  Nikkei 225  \n",
       "5011  23647.070313      0.0        0.957400  Nikkei 225  "
      ]
     },
     "execution_count": 17,
     "metadata": {},
     "output_type": "execute_result"
    }
   ],
   "source": [
    "N225.tail(5)"
   ]
  },
  {
   "cell_type": "markdown",
   "metadata": {},
   "source": [
    "Index Needs to be reset due to dropped first row"
   ]
  },
  {
   "cell_type": "code",
   "execution_count": 18,
   "metadata": {
    "execution": {
     "iopub.execute_input": "2021-02-17T22:49:13.216861Z",
     "iopub.status.busy": "2021-02-17T22:49:13.216681Z",
     "iopub.status.idle": "2021-02-17T22:49:13.220182Z",
     "shell.execute_reply": "2021-02-17T22:49:13.219632Z",
     "shell.execute_reply.started": "2021-02-17T22:49:13.216837Z"
    }
   },
   "outputs": [],
   "source": [
    "DJI.reset_index(inplace=True, drop=True)\n",
    "N100.reset_index(inplace=True, drop=True)\n",
    "HSI.reset_index(inplace=True, drop=True)\n",
    "N225.reset_index(inplace=True, drop=True)"
   ]
  },
  {
   "cell_type": "code",
   "execution_count": 19,
   "metadata": {
    "execution": {
     "iopub.execute_input": "2021-02-17T22:49:13.221066Z",
     "iopub.status.busy": "2021-02-17T22:49:13.220906Z",
     "iopub.status.idle": "2021-02-17T22:49:13.234314Z",
     "shell.execute_reply": "2021-02-17T22:49:13.233784Z",
     "shell.execute_reply.started": "2021-02-17T22:49:13.221050Z"
    }
   },
   "outputs": [
    {
     "data": {
      "text/html": [
       "<div>\n",
       "<style scoped>\n",
       "    .dataframe tbody tr th:only-of-type {\n",
       "        vertical-align: middle;\n",
       "    }\n",
       "\n",
       "    .dataframe tbody tr th {\n",
       "        vertical-align: top;\n",
       "    }\n",
       "\n",
       "    .dataframe thead th {\n",
       "        text-align: right;\n",
       "    }\n",
       "</style>\n",
       "<table border=\"1\" class=\"dataframe\">\n",
       "  <thead>\n",
       "    <tr style=\"text-align: right;\">\n",
       "      <th></th>\n",
       "      <th>Date</th>\n",
       "      <th>Open</th>\n",
       "      <th>High</th>\n",
       "      <th>Low</th>\n",
       "      <th>Close</th>\n",
       "      <th>Adj Close</th>\n",
       "      <th>Volume</th>\n",
       "      <th>Percent Change</th>\n",
       "      <th>Index</th>\n",
       "    </tr>\n",
       "  </thead>\n",
       "  <tbody>\n",
       "    <tr>\n",
       "      <th>0</th>\n",
       "      <td>2000-10-10</td>\n",
       "      <td>10569.169922</td>\n",
       "      <td>10623.549805</td>\n",
       "      <td>10488.889648</td>\n",
       "      <td>10524.400391</td>\n",
       "      <td>10524.400391</td>\n",
       "      <td>212070000</td>\n",
       "      <td>-0.416612</td>\n",
       "      <td>Dow Jones Industrial</td>\n",
       "    </tr>\n",
       "    <tr>\n",
       "      <th>1</th>\n",
       "      <td>2000-10-11</td>\n",
       "      <td>10521.070313</td>\n",
       "      <td>10566.580078</td>\n",
       "      <td>10350.889648</td>\n",
       "      <td>10413.790039</td>\n",
       "      <td>10413.790039</td>\n",
       "      <td>324520000</td>\n",
       "      <td>-1.050990</td>\n",
       "      <td>Dow Jones Industrial</td>\n",
       "    </tr>\n",
       "    <tr>\n",
       "      <th>2</th>\n",
       "      <td>2000-10-12</td>\n",
       "      <td>10424.139648</td>\n",
       "      <td>10460.400391</td>\n",
       "      <td>10023.490234</td>\n",
       "      <td>10034.580078</td>\n",
       "      <td>10034.580078</td>\n",
       "      <td>367130000</td>\n",
       "      <td>-3.641421</td>\n",
       "      <td>Dow Jones Industrial</td>\n",
       "    </tr>\n",
       "    <tr>\n",
       "      <th>3</th>\n",
       "      <td>2000-10-13</td>\n",
       "      <td>10031.620117</td>\n",
       "      <td>10208.089844</td>\n",
       "      <td>10014.240234</td>\n",
       "      <td>10192.179688</td>\n",
       "      <td>10192.179688</td>\n",
       "      <td>300410000</td>\n",
       "      <td>1.570565</td>\n",
       "      <td>Dow Jones Industrial</td>\n",
       "    </tr>\n",
       "    <tr>\n",
       "      <th>4</th>\n",
       "      <td>2000-10-16</td>\n",
       "      <td>10184.780273</td>\n",
       "      <td>10272.089844</td>\n",
       "      <td>10177.759766</td>\n",
       "      <td>10238.799805</td>\n",
       "      <td>10238.799805</td>\n",
       "      <td>270220000</td>\n",
       "      <td>0.457411</td>\n",
       "      <td>Dow Jones Industrial</td>\n",
       "    </tr>\n",
       "  </tbody>\n",
       "</table>\n",
       "</div>"
      ],
      "text/plain": [
       "        Date          Open          High           Low         Close  \\\n",
       "0 2000-10-10  10569.169922  10623.549805  10488.889648  10524.400391   \n",
       "1 2000-10-11  10521.070313  10566.580078  10350.889648  10413.790039   \n",
       "2 2000-10-12  10424.139648  10460.400391  10023.490234  10034.580078   \n",
       "3 2000-10-13  10031.620117  10208.089844  10014.240234  10192.179688   \n",
       "4 2000-10-16  10184.780273  10272.089844  10177.759766  10238.799805   \n",
       "\n",
       "      Adj Close     Volume  Percent Change                 Index  \n",
       "0  10524.400391  212070000       -0.416612  Dow Jones Industrial  \n",
       "1  10413.790039  324520000       -1.050990  Dow Jones Industrial  \n",
       "2  10034.580078  367130000       -3.641421  Dow Jones Industrial  \n",
       "3  10192.179688  300410000        1.570565  Dow Jones Industrial  \n",
       "4  10238.799805  270220000        0.457411  Dow Jones Industrial  "
      ]
     },
     "execution_count": 19,
     "metadata": {},
     "output_type": "execute_result"
    }
   ],
   "source": [
    "DJI.head(5)"
   ]
  },
  {
   "cell_type": "markdown",
   "metadata": {},
   "source": [
    "Plot all datasets as a sanity check and view any visual trend on the Closing prices."
   ]
  },
  {
   "cell_type": "code",
   "execution_count": 20,
   "metadata": {
    "execution": {
     "iopub.execute_input": "2021-02-17T22:49:13.235423Z",
     "iopub.status.busy": "2021-02-17T22:49:13.235256Z",
     "iopub.status.idle": "2021-02-17T22:49:13.369851Z",
     "shell.execute_reply": "2021-02-17T22:49:13.369300Z",
     "shell.execute_reply.started": "2021-02-17T22:49:13.235407Z"
    }
   },
   "outputs": [
    {
     "data": {
      "image/png": "[encoded data removed]",
      "text/plain": [
       "<Figure size 432x288 with 1 Axes>"
      ]
     },
     "metadata": {
      "needs_background": "light"
     },
     "output_type": "display_data"
    }
   ],
   "source": [
    "DJI_Plot = DJI.plot(kind = 'line', x = 'Date', y = 'Close')"
   ]
  },
  {
   "cell_type": "code",
   "execution_count": 21,
   "metadata": {
    "execution": {
     "iopub.execute_input": "2021-02-17T22:49:13.370890Z",
     "iopub.status.busy": "2021-02-17T22:49:13.370696Z",
     "iopub.status.idle": "2021-02-17T22:49:13.513827Z",
     "shell.execute_reply": "2021-02-17T22:49:13.513365Z",
     "shell.execute_reply.started": "2021-02-17T22:49:13.370866Z"
    }
   },
   "outputs": [
    {
     "data": {
      "image/png": "[encoded data removed]",
      "text/plain": [
       "<Figure size 432x288 with 1 Axes>"
      ]
     },
     "metadata": {
      "needs_background": "light"
     },
     "output_type": "display_data"
    }
   ],
   "source": [
    "N100_Plot = N100.plot(kind = 'line', x = 'Date', y = 'Close')"
   ]
  },
  {
   "cell_type": "code",
   "execution_count": 22,
   "metadata": {
    "execution": {
     "iopub.execute_input": "2021-02-17T22:49:13.514900Z",
     "iopub.status.busy": "2021-02-17T22:49:13.514712Z",
     "iopub.status.idle": "2021-02-17T22:49:13.670464Z",
     "shell.execute_reply": "2021-02-17T22:49:13.670121Z",
     "shell.execute_reply.started": "2021-02-17T22:49:13.514876Z"
    }
   },
   "outputs": [
    {
     "data": {
      "image/png": "[encoded data removed]",
      "text/plain": [
       "<Figure size 432x288 with 1 Axes>"
      ]
     },
     "metadata": {
      "needs_background": "light"
     },
     "output_type": "display_data"
    }
   ],
   "source": [
    "HSI_Plot = HSI.plot(kind = 'line', x = 'Date', y = 'Close')"
   ]
  },
  {
   "cell_type": "code",
   "execution_count": 23,
   "metadata": {
    "execution": {
     "iopub.execute_input": "2021-02-17T22:49:13.672557Z",
     "iopub.status.busy": "2021-02-17T22:49:13.672420Z",
     "iopub.status.idle": "2021-02-17T22:49:13.793112Z",
     "shell.execute_reply": "2021-02-17T22:49:13.792768Z",
     "shell.execute_reply.started": "2021-02-17T22:49:13.672540Z"
    }
   },
   "outputs": [
    {
     "data": {
      "image/png": "[encoded data removed]",
      "text/plain": [
       "<Figure size 432x288 with 1 Axes>"
      ]
     },
     "metadata": {
      "needs_background": "light"
     },
     "output_type": "display_data"
    }
   ],
   "source": [
    "N225_Plot = N225.plot(kind = 'line', x = 'Date', y = 'Close')"
   ]
  },
  {
   "cell_type": "markdown",
   "metadata": {},
   "source": [
    "All four plots merged nominally"
   ]
  },
  {
   "cell_type": "code",
   "execution_count": 24,
   "metadata": {
    "execution": {
     "iopub.execute_input": "2021-02-17T22:49:14.011395Z",
     "iopub.status.busy": "2021-02-17T22:49:14.011205Z",
     "iopub.status.idle": "2021-02-17T22:49:14.167466Z",
     "shell.execute_reply": "2021-02-17T22:49:14.167080Z",
     "shell.execute_reply.started": "2021-02-17T22:49:14.011379Z"
    }
   },
   "outputs": [
    {
     "data": {
      "image/png": "[encoded data removed]",
      "text/plain": [
       "<Figure size 432x288 with 1 Axes>"
      ]
     },
     "metadata": {
      "needs_background": "light"
     },
     "output_type": "display_data"
    }
   ],
   "source": [
    "plt.plot(DJI['Date'], DJI['Close'], color='red', label='Dow Jones')\n",
    "plt.plot(HSI['Date'], HSI['Close'], color='orange', label='Hang Seng')\n",
    "plt.plot(N225['Date'], N225['Close'], color='green', label='Nikkei 225')\n",
    "plt.plot(N100['Date'], N100['Close'], color='blue', label='Euronext 100')\n",
    "plt.xlabel('Date')\n",
    "plt.ylabel('Closing Price')\n",
    "plt.title('Visual Trend Comparison of Four Indexes Throughout Time')\n",
    "plt.legend(loc='upper left')\n",
    "plt.tight_layout()\n",
    "plt.xticks(rotation=45)\n",
    "plt.show()"
   ]
  },
  {
   "cell_type": "markdown",
   "metadata": {},
   "source": [
    "Now its time to merge the datasets."
   ]
  },
  {
   "cell_type": "code",
   "execution_count": 24,
   "metadata": {
    "execution": {
     "iopub.execute_input": "2021-02-14T03:36:35.972929Z",
     "iopub.status.busy": "2021-02-14T03:36:35.972809Z",
     "iopub.status.idle": "2021-02-14T03:36:35.974913Z",
     "shell.execute_reply": "2021-02-14T03:36:35.974605Z",
     "shell.execute_reply.started": "2021-02-14T03:36:35.972913Z"
    }
   },
   "outputs": [],
   "source": [
    "Merged_df = [DJI, N100, HSI, N225]"
   ]
  },
  {
   "cell_type": "code",
   "execution_count": 25,
   "metadata": {
    "execution": {
     "iopub.execute_input": "2021-02-14T03:36:35.975552Z",
     "iopub.status.busy": "2021-02-14T03:36:35.975442Z",
     "iopub.status.idle": "2021-02-14T03:36:35.987204Z",
     "shell.execute_reply": "2021-02-14T03:36:35.986768Z",
     "shell.execute_reply.started": "2021-02-14T03:36:35.975537Z"
    }
   },
   "outputs": [],
   "source": [
    "All_exchanges = pd.concat(Merged_df, join='inner')"
   ]
  },
  {
   "cell_type": "code",
   "execution_count": 26,
   "metadata": {
    "execution": {
     "iopub.execute_input": "2021-02-14T03:36:35.987957Z",
     "iopub.status.busy": "2021-02-14T03:36:35.987842Z",
     "iopub.status.idle": "2021-02-14T03:36:36.002770Z",
     "shell.execute_reply": "2021-02-14T03:36:36.002327Z",
     "shell.execute_reply.started": "2021-02-14T03:36:35.987942Z"
    }
   },
   "outputs": [
    {
     "data": {
      "text/html": [
       "<div>\n",
       "<style scoped>\n",
       "    .dataframe tbody tr th:only-of-type {\n",
       "        vertical-align: middle;\n",
       "    }\n",
       "\n",
       "    .dataframe tbody tr th {\n",
       "        vertical-align: top;\n",
       "    }\n",
       "\n",
       "    .dataframe thead th {\n",
       "        text-align: right;\n",
       "    }\n",
       "</style>\n",
       "<table border=\"1\" class=\"dataframe\">\n",
       "  <thead>\n",
       "    <tr style=\"text-align: right;\">\n",
       "      <th></th>\n",
       "      <th>Date</th>\n",
       "      <th>Open</th>\n",
       "      <th>High</th>\n",
       "      <th>Low</th>\n",
       "      <th>Close</th>\n",
       "      <th>Adj Close</th>\n",
       "      <th>Volume</th>\n",
       "      <th>Percent Change</th>\n",
       "      <th>Index</th>\n",
       "    </tr>\n",
       "  </thead>\n",
       "  <tbody>\n",
       "    <tr>\n",
       "      <th>0</th>\n",
       "      <td>2000-10-10</td>\n",
       "      <td>10569.169922</td>\n",
       "      <td>10623.549805</td>\n",
       "      <td>10488.889648</td>\n",
       "      <td>10524.400391</td>\n",
       "      <td>10524.400391</td>\n",
       "      <td>212070000.0</td>\n",
       "      <td>-0.416612</td>\n",
       "      <td>Dow Jones Industrial</td>\n",
       "    </tr>\n",
       "    <tr>\n",
       "      <th>1</th>\n",
       "      <td>2000-10-11</td>\n",
       "      <td>10521.070313</td>\n",
       "      <td>10566.580078</td>\n",
       "      <td>10350.889648</td>\n",
       "      <td>10413.790039</td>\n",
       "      <td>10413.790039</td>\n",
       "      <td>324520000.0</td>\n",
       "      <td>-1.050990</td>\n",
       "      <td>Dow Jones Industrial</td>\n",
       "    </tr>\n",
       "    <tr>\n",
       "      <th>2</th>\n",
       "      <td>2000-10-12</td>\n",
       "      <td>10424.139648</td>\n",
       "      <td>10460.400391</td>\n",
       "      <td>10023.490234</td>\n",
       "      <td>10034.580078</td>\n",
       "      <td>10034.580078</td>\n",
       "      <td>367130000.0</td>\n",
       "      <td>-3.641421</td>\n",
       "      <td>Dow Jones Industrial</td>\n",
       "    </tr>\n",
       "    <tr>\n",
       "      <th>3</th>\n",
       "      <td>2000-10-13</td>\n",
       "      <td>10031.620117</td>\n",
       "      <td>10208.089844</td>\n",
       "      <td>10014.240234</td>\n",
       "      <td>10192.179688</td>\n",
       "      <td>10192.179688</td>\n",
       "      <td>300410000.0</td>\n",
       "      <td>1.570565</td>\n",
       "      <td>Dow Jones Industrial</td>\n",
       "    </tr>\n",
       "    <tr>\n",
       "      <th>4</th>\n",
       "      <td>2000-10-16</td>\n",
       "      <td>10184.780273</td>\n",
       "      <td>10272.089844</td>\n",
       "      <td>10177.759766</td>\n",
       "      <td>10238.799805</td>\n",
       "      <td>10238.799805</td>\n",
       "      <td>270220000.0</td>\n",
       "      <td>0.457411</td>\n",
       "      <td>Dow Jones Industrial</td>\n",
       "    </tr>\n",
       "    <tr>\n",
       "      <th>5</th>\n",
       "      <td>2000-10-17</td>\n",
       "      <td>10242.870117</td>\n",
       "      <td>10293.919922</td>\n",
       "      <td>10026.450195</td>\n",
       "      <td>10089.709961</td>\n",
       "      <td>10089.709961</td>\n",
       "      <td>253140000.0</td>\n",
       "      <td>-1.456126</td>\n",
       "      <td>Dow Jones Industrial</td>\n",
       "    </tr>\n",
       "    <tr>\n",
       "      <th>6</th>\n",
       "      <td>2000-10-18</td>\n",
       "      <td>10085.990234</td>\n",
       "      <td>10085.990234</td>\n",
       "      <td>9654.639648</td>\n",
       "      <td>9975.019531</td>\n",
       "      <td>9975.019531</td>\n",
       "      <td>372410000.0</td>\n",
       "      <td>-1.136707</td>\n",
       "      <td>Dow Jones Industrial</td>\n",
       "    </tr>\n",
       "    <tr>\n",
       "      <th>7</th>\n",
       "      <td>2000-10-19</td>\n",
       "      <td>10014.610352</td>\n",
       "      <td>10142.980469</td>\n",
       "      <td>10014.610352</td>\n",
       "      <td>10142.980469</td>\n",
       "      <td>10142.980469</td>\n",
       "      <td>343710000.0</td>\n",
       "      <td>1.683816</td>\n",
       "      <td>Dow Jones Industrial</td>\n",
       "    </tr>\n",
       "    <tr>\n",
       "      <th>8</th>\n",
       "      <td>2000-10-20</td>\n",
       "      <td>10141.129883</td>\n",
       "      <td>10229.549805</td>\n",
       "      <td>10067.509766</td>\n",
       "      <td>10226.589844</td>\n",
       "      <td>10226.589844</td>\n",
       "      <td>319750000.0</td>\n",
       "      <td>0.824308</td>\n",
       "      <td>Dow Jones Industrial</td>\n",
       "    </tr>\n",
       "    <tr>\n",
       "      <th>9</th>\n",
       "      <td>2000-10-23</td>\n",
       "      <td>10230.290039</td>\n",
       "      <td>10361.250000</td>\n",
       "      <td>10216.230469</td>\n",
       "      <td>10271.719727</td>\n",
       "      <td>10271.719727</td>\n",
       "      <td>339180000.0</td>\n",
       "      <td>0.441299</td>\n",
       "      <td>Dow Jones Industrial</td>\n",
       "    </tr>\n",
       "  </tbody>\n",
       "</table>\n",
       "</div>"
      ],
      "text/plain": [
       "        Date          Open          High           Low         Close  \\\n",
       "0 2000-10-10  10569.169922  10623.549805  10488.889648  10524.400391   \n",
       "1 2000-10-11  10521.070313  10566.580078  10350.889648  10413.790039   \n",
       "2 2000-10-12  10424.139648  10460.400391  10023.490234  10034.580078   \n",
       "3 2000-10-13  10031.620117  10208.089844  10014.240234  10192.179688   \n",
       "4 2000-10-16  10184.780273  10272.089844  10177.759766  10238.799805   \n",
       "5 2000-10-17  10242.870117  10293.919922  10026.450195  10089.709961   \n",
       "6 2000-10-18  10085.990234  10085.990234   9654.639648   9975.019531   \n",
       "7 2000-10-19  10014.610352  10142.980469  10014.610352  10142.980469   \n",
       "8 2000-10-20  10141.129883  10229.549805  10067.509766  10226.589844   \n",
       "9 2000-10-23  10230.290039  10361.250000  10216.230469  10271.719727   \n",
       "\n",
       "      Adj Close       Volume  Percent Change                 Index  \n",
       "0  10524.400391  212070000.0       -0.416612  Dow Jones Industrial  \n",
       "1  10413.790039  324520000.0       -1.050990  Dow Jones Industrial  \n",
       "2  10034.580078  367130000.0       -3.641421  Dow Jones Industrial  \n",
       "3  10192.179688  300410000.0        1.570565  Dow Jones Industrial  \n",
       "4  10238.799805  270220000.0        0.457411  Dow Jones Industrial  \n",
       "5  10089.709961  253140000.0       -1.456126  Dow Jones Industrial  \n",
       "6   9975.019531  372410000.0       -1.136707  Dow Jones Industrial  \n",
       "7  10142.980469  343710000.0        1.683816  Dow Jones Industrial  \n",
       "8  10226.589844  319750000.0        0.824308  Dow Jones Industrial  \n",
       "9  10271.719727  339180000.0        0.441299  Dow Jones Industrial  "
      ]
     },
     "execution_count": 26,
     "metadata": {},
     "output_type": "execute_result"
    }
   ],
   "source": [
    "All_exchanges.head(10)"
   ]
  },
  {
   "cell_type": "code",
   "execution_count": 27,
   "metadata": {
    "execution": {
     "iopub.execute_input": "2021-02-14T03:36:36.003495Z",
     "iopub.status.busy": "2021-02-14T03:36:36.003378Z",
     "iopub.status.idle": "2021-02-14T03:36:36.009553Z",
     "shell.execute_reply": "2021-02-14T03:36:36.009260Z",
     "shell.execute_reply.started": "2021-02-14T03:36:36.003479Z"
    }
   },
   "outputs": [
    {
     "data": {
      "text/plain": [
       "(20178, 9)"
      ]
     },
     "execution_count": 27,
     "metadata": {},
     "output_type": "execute_result"
    }
   ],
   "source": [
    "All_exchanges.shape"
   ]
  },
  {
   "cell_type": "markdown",
   "metadata": {},
   "source": [
    "The data is unsorted by date. We must sort the values as well as reset the index due to duplicate index numbers"
   ]
  },
  {
   "cell_type": "code",
   "execution_count": 28,
   "metadata": {
    "execution": {
     "iopub.execute_input": "2021-02-14T03:36:36.010214Z",
     "iopub.status.busy": "2021-02-14T03:36:36.010102Z",
     "iopub.status.idle": "2021-02-14T03:36:36.022331Z",
     "shell.execute_reply": "2021-02-14T03:36:36.021928Z",
     "shell.execute_reply.started": "2021-02-14T03:36:36.010199Z"
    }
   },
   "outputs": [],
   "source": [
    "All_exchanges.sort_values(by = ['Date','Index'], inplace=True)"
   ]
  },
  {
   "cell_type": "code",
   "execution_count": 29,
   "metadata": {
    "execution": {
     "iopub.execute_input": "2021-02-14T03:36:36.023131Z",
     "iopub.status.busy": "2021-02-14T03:36:36.022997Z",
     "iopub.status.idle": "2021-02-14T03:36:36.036963Z",
     "shell.execute_reply": "2021-02-14T03:36:36.036605Z",
     "shell.execute_reply.started": "2021-02-14T03:36:36.023107Z"
    }
   },
   "outputs": [],
   "source": [
    "All_exchanges.reset_index(inplace=True, drop=True)"
   ]
  },
  {
   "cell_type": "markdown",
   "metadata": {},
   "source": [
    "Sanity check"
   ]
  },
  {
   "cell_type": "code",
   "execution_count": 30,
   "metadata": {
    "execution": {
     "iopub.execute_input": "2021-02-14T03:36:36.037678Z",
     "iopub.status.busy": "2021-02-14T03:36:36.037562Z",
     "iopub.status.idle": "2021-02-14T03:36:36.050840Z",
     "shell.execute_reply": "2021-02-14T03:36:36.050417Z",
     "shell.execute_reply.started": "2021-02-14T03:36:36.037663Z"
    }
   },
   "outputs": [
    {
     "data": {
      "text/html": [
       "<div>\n",
       "<style scoped>\n",
       "    .dataframe tbody tr th:only-of-type {\n",
       "        vertical-align: middle;\n",
       "    }\n",
       "\n",
       "    .dataframe tbody tr th {\n",
       "        vertical-align: top;\n",
       "    }\n",
       "\n",
       "    .dataframe thead th {\n",
       "        text-align: right;\n",
       "    }\n",
       "</style>\n",
       "<table border=\"1\" class=\"dataframe\">\n",
       "  <thead>\n",
       "    <tr style=\"text-align: right;\">\n",
       "      <th></th>\n",
       "      <th>Date</th>\n",
       "      <th>Open</th>\n",
       "      <th>High</th>\n",
       "      <th>Low</th>\n",
       "      <th>Close</th>\n",
       "      <th>Adj Close</th>\n",
       "      <th>Volume</th>\n",
       "      <th>Percent Change</th>\n",
       "      <th>Index</th>\n",
       "    </tr>\n",
       "  </thead>\n",
       "  <tbody>\n",
       "    <tr>\n",
       "      <th>0</th>\n",
       "      <td>2000-10-10</td>\n",
       "      <td>10569.169922</td>\n",
       "      <td>10623.549805</td>\n",
       "      <td>10488.889648</td>\n",
       "      <td>10524.400391</td>\n",
       "      <td>10524.400391</td>\n",
       "      <td>212070000.0</td>\n",
       "      <td>-0.416612</td>\n",
       "      <td>Dow Jones Industrial</td>\n",
       "    </tr>\n",
       "    <tr>\n",
       "      <th>1</th>\n",
       "      <td>2000-10-10</td>\n",
       "      <td>1036.500000</td>\n",
       "      <td>1036.500000</td>\n",
       "      <td>1036.500000</td>\n",
       "      <td>1036.500000</td>\n",
       "      <td>1036.500000</td>\n",
       "      <td>0.0</td>\n",
       "      <td>0.408801</td>\n",
       "      <td>Euronext100</td>\n",
       "    </tr>\n",
       "    <tr>\n",
       "      <th>2</th>\n",
       "      <td>2000-10-10</td>\n",
       "      <td>15739.389648</td>\n",
       "      <td>15739.389648</td>\n",
       "      <td>15434.740234</td>\n",
       "      <td>15554.110352</td>\n",
       "      <td>15554.110352</td>\n",
       "      <td>0.0</td>\n",
       "      <td>-0.888200</td>\n",
       "      <td>Hang Seng</td>\n",
       "    </tr>\n",
       "    <tr>\n",
       "      <th>3</th>\n",
       "      <td>2000-10-11</td>\n",
       "      <td>10521.070313</td>\n",
       "      <td>10566.580078</td>\n",
       "      <td>10350.889648</td>\n",
       "      <td>10413.790039</td>\n",
       "      <td>10413.790039</td>\n",
       "      <td>324520000.0</td>\n",
       "      <td>-1.050990</td>\n",
       "      <td>Dow Jones Industrial</td>\n",
       "    </tr>\n",
       "    <tr>\n",
       "      <th>4</th>\n",
       "      <td>2000-10-11</td>\n",
       "      <td>1009.489990</td>\n",
       "      <td>1009.489990</td>\n",
       "      <td>1009.489990</td>\n",
       "      <td>1009.489990</td>\n",
       "      <td>1009.489990</td>\n",
       "      <td>0.0</td>\n",
       "      <td>-2.605886</td>\n",
       "      <td>Euronext100</td>\n",
       "    </tr>\n",
       "    <tr>\n",
       "      <th>5</th>\n",
       "      <td>2000-10-11</td>\n",
       "      <td>15376.620117</td>\n",
       "      <td>15376.620117</td>\n",
       "      <td>15073.950195</td>\n",
       "      <td>15127.000000</td>\n",
       "      <td>15127.000000</td>\n",
       "      <td>0.0</td>\n",
       "      <td>-2.745965</td>\n",
       "      <td>Hang Seng</td>\n",
       "    </tr>\n",
       "    <tr>\n",
       "      <th>6</th>\n",
       "      <td>2000-10-11</td>\n",
       "      <td>15795.150391</td>\n",
       "      <td>15795.150391</td>\n",
       "      <td>15424.709961</td>\n",
       "      <td>15513.570313</td>\n",
       "      <td>15513.570313</td>\n",
       "      <td>0.0</td>\n",
       "      <td>-1.984805</td>\n",
       "      <td>Nikkei 225</td>\n",
       "    </tr>\n",
       "    <tr>\n",
       "      <th>7</th>\n",
       "      <td>2000-10-12</td>\n",
       "      <td>10424.139648</td>\n",
       "      <td>10460.400391</td>\n",
       "      <td>10023.490234</td>\n",
       "      <td>10034.580078</td>\n",
       "      <td>10034.580078</td>\n",
       "      <td>367130000.0</td>\n",
       "      <td>-3.641421</td>\n",
       "      <td>Dow Jones Industrial</td>\n",
       "    </tr>\n",
       "    <tr>\n",
       "      <th>8</th>\n",
       "      <td>2000-10-12</td>\n",
       "      <td>1015.780029</td>\n",
       "      <td>1015.780029</td>\n",
       "      <td>1015.780029</td>\n",
       "      <td>1015.780029</td>\n",
       "      <td>1015.780029</td>\n",
       "      <td>0.0</td>\n",
       "      <td>0.623091</td>\n",
       "      <td>Euronext100</td>\n",
       "    </tr>\n",
       "    <tr>\n",
       "      <th>9</th>\n",
       "      <td>2000-10-12</td>\n",
       "      <td>15071.919922</td>\n",
       "      <td>15244.650391</td>\n",
       "      <td>14883.320313</td>\n",
       "      <td>15074.799805</td>\n",
       "      <td>15074.799805</td>\n",
       "      <td>0.0</td>\n",
       "      <td>-0.345080</td>\n",
       "      <td>Hang Seng</td>\n",
       "    </tr>\n",
       "  </tbody>\n",
       "</table>\n",
       "</div>"
      ],
      "text/plain": [
       "        Date          Open          High           Low         Close  \\\n",
       "0 2000-10-10  10569.169922  10623.549805  10488.889648  10524.400391   \n",
       "1 2000-10-10   1036.500000   1036.500000   1036.500000   1036.500000   \n",
       "2 2000-10-10  15739.389648  15739.389648  15434.740234  15554.110352   \n",
       "3 2000-10-11  10521.070313  10566.580078  10350.889648  10413.790039   \n",
       "4 2000-10-11   1009.489990   1009.489990   1009.489990   1009.489990   \n",
       "5 2000-10-11  15376.620117  15376.620117  15073.950195  15127.000000   \n",
       "6 2000-10-11  15795.150391  15795.150391  15424.709961  15513.570313   \n",
       "7 2000-10-12  10424.139648  10460.400391  10023.490234  10034.580078   \n",
       "8 2000-10-12   1015.780029   1015.780029   1015.780029   1015.780029   \n",
       "9 2000-10-12  15071.919922  15244.650391  14883.320313  15074.799805   \n",
       "\n",
       "      Adj Close       Volume  Percent Change                 Index  \n",
       "0  10524.400391  212070000.0       -0.416612  Dow Jones Industrial  \n",
       "1   1036.500000          0.0        0.408801           Euronext100  \n",
       "2  15554.110352          0.0       -0.888200             Hang Seng  \n",
       "3  10413.790039  324520000.0       -1.050990  Dow Jones Industrial  \n",
       "4   1009.489990          0.0       -2.605886           Euronext100  \n",
       "5  15127.000000          0.0       -2.745965             Hang Seng  \n",
       "6  15513.570313          0.0       -1.984805            Nikkei 225  \n",
       "7  10034.580078  367130000.0       -3.641421  Dow Jones Industrial  \n",
       "8   1015.780029          0.0        0.623091           Euronext100  \n",
       "9  15074.799805          0.0       -0.345080             Hang Seng  "
      ]
     },
     "execution_count": 30,
     "metadata": {},
     "output_type": "execute_result"
    }
   ],
   "source": [
    "All_exchanges.head(10)"
   ]
  },
  {
   "cell_type": "code",
   "execution_count": 31,
   "metadata": {
    "execution": {
     "iopub.execute_input": "2021-02-14T03:36:36.051538Z",
     "iopub.status.busy": "2021-02-14T03:36:36.051424Z",
     "iopub.status.idle": "2021-02-14T03:36:36.065540Z",
     "shell.execute_reply": "2021-02-14T03:36:36.065173Z",
     "shell.execute_reply.started": "2021-02-14T03:36:36.051523Z"
    }
   },
   "outputs": [
    {
     "data": {
      "text/plain": [
       "array(['Dow Jones Industrial', 'Euronext100', 'Hang Seng', 'Nikkei 225'],\n",
       "      dtype=object)"
      ]
     },
     "execution_count": 31,
     "metadata": {},
     "output_type": "execute_result"
    }
   ],
   "source": [
    "All_exchanges['Index'].unique()"
   ]
  },
  {
   "cell_type": "code",
   "execution_count": 32,
   "metadata": {
    "execution": {
     "iopub.execute_input": "2021-02-14T03:36:36.066361Z",
     "iopub.status.busy": "2021-02-14T03:36:36.066228Z",
     "iopub.status.idle": "2021-02-14T03:36:36.081509Z",
     "shell.execute_reply": "2021-02-14T03:36:36.081029Z",
     "shell.execute_reply.started": "2021-02-14T03:36:36.066344Z"
    }
   },
   "outputs": [
    {
     "data": {
      "text/html": [
       "<div>\n",
       "<style scoped>\n",
       "    .dataframe tbody tr th:only-of-type {\n",
       "        vertical-align: middle;\n",
       "    }\n",
       "\n",
       "    .dataframe tbody tr th {\n",
       "        vertical-align: top;\n",
       "    }\n",
       "\n",
       "    .dataframe thead th {\n",
       "        text-align: right;\n",
       "    }\n",
       "</style>\n",
       "<table border=\"1\" class=\"dataframe\">\n",
       "  <thead>\n",
       "    <tr style=\"text-align: right;\">\n",
       "      <th></th>\n",
       "      <th>Date</th>\n",
       "      <th>Open</th>\n",
       "      <th>High</th>\n",
       "      <th>Low</th>\n",
       "      <th>Close</th>\n",
       "      <th>Adj Close</th>\n",
       "      <th>Volume</th>\n",
       "      <th>Percent Change</th>\n",
       "      <th>Index</th>\n",
       "    </tr>\n",
       "  </thead>\n",
       "  <tbody>\n",
       "    <tr>\n",
       "      <th>20168</th>\n",
       "      <td>2020-10-05</td>\n",
       "      <td>23254.279297</td>\n",
       "      <td>23377.429688</td>\n",
       "      <td>23252.689453</td>\n",
       "      <td>23312.140625</td>\n",
       "      <td>23312.140625</td>\n",
       "      <td>5.950000e+04</td>\n",
       "      <td>1.225538</td>\n",
       "      <td>Nikkei 225</td>\n",
       "    </tr>\n",
       "    <tr>\n",
       "      <th>20169</th>\n",
       "      <td>2020-10-06</td>\n",
       "      <td>28214.240234</td>\n",
       "      <td>28354.480469</td>\n",
       "      <td>27728.029297</td>\n",
       "      <td>27772.759766</td>\n",
       "      <td>27772.759766</td>\n",
       "      <td>4.350300e+08</td>\n",
       "      <td>-1.335343</td>\n",
       "      <td>Dow Jones Industrial</td>\n",
       "    </tr>\n",
       "    <tr>\n",
       "      <th>20170</th>\n",
       "      <td>2020-10-06</td>\n",
       "      <td>977.750000</td>\n",
       "      <td>983.700012</td>\n",
       "      <td>971.280029</td>\n",
       "      <td>979.080017</td>\n",
       "      <td>979.080017</td>\n",
       "      <td>2.466716e+08</td>\n",
       "      <td>0.392722</td>\n",
       "      <td>Euronext100</td>\n",
       "    </tr>\n",
       "    <tr>\n",
       "      <th>20171</th>\n",
       "      <td>2020-10-06</td>\n",
       "      <td>23895.210938</td>\n",
       "      <td>24005.029297</td>\n",
       "      <td>23842.250000</td>\n",
       "      <td>23980.650391</td>\n",
       "      <td>23980.650391</td>\n",
       "      <td>1.325452e+09</td>\n",
       "      <td>0.895629</td>\n",
       "      <td>Hang Seng</td>\n",
       "    </tr>\n",
       "    <tr>\n",
       "      <th>20172</th>\n",
       "      <td>2020-10-06</td>\n",
       "      <td>23420.070313</td>\n",
       "      <td>23441.160156</td>\n",
       "      <td>23331.400391</td>\n",
       "      <td>23433.730469</td>\n",
       "      <td>23433.730469</td>\n",
       "      <td>5.770000e+04</td>\n",
       "      <td>0.521573</td>\n",
       "      <td>Nikkei 225</td>\n",
       "    </tr>\n",
       "    <tr>\n",
       "      <th>20173</th>\n",
       "      <td>2020-10-07</td>\n",
       "      <td>27971.359375</td>\n",
       "      <td>28369.660156</td>\n",
       "      <td>27971.359375</td>\n",
       "      <td>28303.460938</td>\n",
       "      <td>28303.460938</td>\n",
       "      <td>3.287500e+08</td>\n",
       "      <td>1.910869</td>\n",
       "      <td>Dow Jones Industrial</td>\n",
       "    </tr>\n",
       "    <tr>\n",
       "      <th>20174</th>\n",
       "      <td>2020-10-07</td>\n",
       "      <td>979.710022</td>\n",
       "      <td>983.119995</td>\n",
       "      <td>974.849976</td>\n",
       "      <td>978.059998</td>\n",
       "      <td>978.059998</td>\n",
       "      <td>2.322297e+08</td>\n",
       "      <td>-0.104181</td>\n",
       "      <td>Euronext100</td>\n",
       "    </tr>\n",
       "    <tr>\n",
       "      <th>20175</th>\n",
       "      <td>2020-10-07</td>\n",
       "      <td>23999.789063</td>\n",
       "      <td>24243.910156</td>\n",
       "      <td>23905.419922</td>\n",
       "      <td>24242.859375</td>\n",
       "      <td>24242.859375</td>\n",
       "      <td>1.537076e+09</td>\n",
       "      <td>1.093419</td>\n",
       "      <td>Hang Seng</td>\n",
       "    </tr>\n",
       "    <tr>\n",
       "      <th>20176</th>\n",
       "      <td>2020-10-07</td>\n",
       "      <td>23272.449219</td>\n",
       "      <td>23432.730469</td>\n",
       "      <td>23272.449219</td>\n",
       "      <td>23422.820313</td>\n",
       "      <td>23422.820313</td>\n",
       "      <td>5.210000e+04</td>\n",
       "      <td>-0.046557</td>\n",
       "      <td>Nikkei 225</td>\n",
       "    </tr>\n",
       "    <tr>\n",
       "      <th>20177</th>\n",
       "      <td>2020-10-08</td>\n",
       "      <td>23272.449219</td>\n",
       "      <td>23701.769531</td>\n",
       "      <td>23477.730469</td>\n",
       "      <td>23647.070313</td>\n",
       "      <td>23647.070313</td>\n",
       "      <td>0.000000e+00</td>\n",
       "      <td>0.957400</td>\n",
       "      <td>Nikkei 225</td>\n",
       "    </tr>\n",
       "  </tbody>\n",
       "</table>\n",
       "</div>"
      ],
      "text/plain": [
       "            Date          Open          High           Low         Close  \\\n",
       "20168 2020-10-05  23254.279297  23377.429688  23252.689453  23312.140625   \n",
       "20169 2020-10-06  28214.240234  28354.480469  27728.029297  27772.759766   \n",
       "20170 2020-10-06    977.750000    983.700012    971.280029    979.080017   \n",
       "20171 2020-10-06  23895.210938  24005.029297  23842.250000  23980.650391   \n",
       "20172 2020-10-06  23420.070313  23441.160156  23331.400391  23433.730469   \n",
       "20173 2020-10-07  27971.359375  28369.660156  27971.359375  28303.460938   \n",
       "20174 2020-10-07    979.710022    983.119995    974.849976    978.059998   \n",
       "20175 2020-10-07  23999.789063  24243.910156  23905.419922  24242.859375   \n",
       "20176 2020-10-07  23272.449219  23432.730469  23272.449219  23422.820313   \n",
       "20177 2020-10-08  23272.449219  23701.769531  23477.730469  23647.070313   \n",
       "\n",
       "          Adj Close        Volume  Percent Change                 Index  \n",
       "20168  23312.140625  5.950000e+04        1.225538            Nikkei 225  \n",
       "20169  27772.759766  4.350300e+08       -1.335343  Dow Jones Industrial  \n",
       "20170    979.080017  2.466716e+08        0.392722           Euronext100  \n",
       "20171  23980.650391  1.325452e+09        0.895629             Hang Seng  \n",
       "20172  23433.730469  5.770000e+04        0.521573            Nikkei 225  \n",
       "20173  28303.460938  3.287500e+08        1.910869  Dow Jones Industrial  \n",
       "20174    978.059998  2.322297e+08       -0.104181           Euronext100  \n",
       "20175  24242.859375  1.537076e+09        1.093419             Hang Seng  \n",
       "20176  23422.820313  5.210000e+04       -0.046557            Nikkei 225  \n",
       "20177  23647.070313  0.000000e+00        0.957400            Nikkei 225  "
      ]
     },
     "execution_count": 32,
     "metadata": {},
     "output_type": "execute_result"
    }
   ],
   "source": [
    "All_exchanges.tail(10)"
   ]
  },
  {
   "cell_type": "markdown",
   "metadata": {},
   "source": [
    "The merged dataset inherited all the NaN values. It is easier to run the dropna command on a single merged dataset than earlier with four separate dataframes."
   ]
  },
  {
   "cell_type": "code",
   "execution_count": 33,
   "metadata": {
    "execution": {
     "iopub.execute_input": "2021-02-14T03:36:36.082253Z",
     "iopub.status.busy": "2021-02-14T03:36:36.082137Z",
     "iopub.status.idle": "2021-02-14T03:36:36.091473Z",
     "shell.execute_reply": "2021-02-14T03:36:36.090857Z",
     "shell.execute_reply.started": "2021-02-14T03:36:36.082237Z"
    }
   },
   "outputs": [
    {
     "data": {
      "text/plain": [
       "Date                0\n",
       "Open              220\n",
       "High              220\n",
       "Low               220\n",
       "Close             220\n",
       "Adj Close         220\n",
       "Volume            220\n",
       "Percent Change      0\n",
       "Index               0\n",
       "dtype: int64"
      ]
     },
     "execution_count": 33,
     "metadata": {},
     "output_type": "execute_result"
    }
   ],
   "source": [
    "All_exchanges.isnull().sum()"
   ]
  },
  {
   "cell_type": "code",
   "execution_count": 34,
   "metadata": {
    "execution": {
     "iopub.execute_input": "2021-02-14T03:36:36.092682Z",
     "iopub.status.busy": "2021-02-14T03:36:36.092428Z",
     "iopub.status.idle": "2021-02-14T03:36:36.103000Z",
     "shell.execute_reply": "2021-02-14T03:36:36.102533Z",
     "shell.execute_reply.started": "2021-02-14T03:36:36.092648Z"
    }
   },
   "outputs": [],
   "source": [
    "All_exchanges = All_exchanges.dropna()"
   ]
  },
  {
   "cell_type": "code",
   "execution_count": 35,
   "metadata": {
    "execution": {
     "iopub.execute_input": "2021-02-14T03:36:36.103826Z",
     "iopub.status.busy": "2021-02-14T03:36:36.103681Z",
     "iopub.status.idle": "2021-02-14T03:36:36.115195Z",
     "shell.execute_reply": "2021-02-14T03:36:36.114730Z",
     "shell.execute_reply.started": "2021-02-14T03:36:36.103808Z"
    }
   },
   "outputs": [
    {
     "data": {
      "text/plain": [
       "Date              0\n",
       "Open              0\n",
       "High              0\n",
       "Low               0\n",
       "Close             0\n",
       "Adj Close         0\n",
       "Volume            0\n",
       "Percent Change    0\n",
       "Index             0\n",
       "dtype: int64"
      ]
     },
     "execution_count": 35,
     "metadata": {},
     "output_type": "execute_result"
    }
   ],
   "source": [
    "All_exchanges.isnull().sum()"
   ]
  },
  {
   "cell_type": "markdown",
   "metadata": {},
   "source": [
    "Time to save the new cleaned dataframe to a csv"
   ]
  },
  {
   "cell_type": "code",
   "execution_count": 41,
   "metadata": {},
   "outputs": [],
   "source": [
    "datapath = 'data'\n",
    "if not os.path.exists(datapath):\n",
    "    os.mkdir(datapath)"
   ]
  },
  {
   "cell_type": "code",
   "execution_count": 42,
   "metadata": {},
   "outputs": [],
   "source": [
    "datapath_all_exchanges = os.path.join(datapath, 'all_exchanges_data_cleaned.csv')\n",
    "if not os.path.exists(datapath_all_exchanges):\n",
    "    All_exchanges.to_csv(datapath_all_exchanges, index=False)"
   ]
  }
 ],
 "metadata": {
  "kernelspec": {
   "display_name": "Python 3",
   "language": "python",
   "name": "python3"
  },
  "language_info": {
   "codemirror_mode": {
    "name": "ipython",
    "version": 3
   },
   "file_extension": ".py",
   "mimetype": "text/x-python",
   "name": "python",
   "nbconvert_exporter": "python",
   "pygments_lexer": "ipython3",
   "version": "3.9.1"
  }
 },
 "nbformat": 4,
 "nbformat_minor": 4
}
