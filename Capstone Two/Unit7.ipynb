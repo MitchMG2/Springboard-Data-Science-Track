{
 "cells": [
  {
   "cell_type": "code",
   "execution_count": 1,
   "metadata": {},
   "outputs": [],
   "source": [
    "import pandas as pd\n",
    "import matplotlib.pyplot as plt\n",
    "import datetime\n",
    "import os"
   ]
  },
  {
   "cell_type": "code",
   "execution_count": 2,
   "metadata": {},
   "outputs": [],
   "source": [
    "#Import Data from CSV into Pandas Dataframes\n",
    "\n",
    "#Dow Jones Industrial Average NYSE\n",
    "DJI = pd.read_csv('IndexHistory/DJI.csv')\n",
    "#EuroNext100 Euronext Stock Exchange\n",
    "N100 = pd.read_csv('IndexHistory/N100.csv')\n",
    "#Hang Seng Index Hogn Kong Stock Exchange\n",
    "HSI = pd.read_csv('IndexHistory/HSI.csv')\n",
    "#Nikkei225 Index, Nikkei Stock Exchange\n",
    "N225 = pd.read_csv('IndexHistory/N225.csv')"
   ]
  },
  {
   "cell_type": "code",
   "execution_count": 3,
   "metadata": {},
   "outputs": [
    {
     "name": "stdout",
     "output_type": "stream",
     "text": [
      "<class 'pandas.core.frame.DataFrame'>\n",
      "RangeIndex: 5031 entries, 0 to 5030\n",
      "Data columns (total 7 columns):\n",
      " #   Column     Non-Null Count  Dtype  \n",
      "---  ------     --------------  -----  \n",
      " 0   Date       5031 non-null   object \n",
      " 1   Open       5031 non-null   float64\n",
      " 2   High       5031 non-null   float64\n",
      " 3   Low        5031 non-null   float64\n",
      " 4   Close      5031 non-null   float64\n",
      " 5   Adj Close  5031 non-null   float64\n",
      " 6   Volume     5031 non-null   int64  \n",
      "dtypes: float64(5), int64(1), object(1)\n",
      "memory usage: 275.3+ KB\n"
     ]
    }
   ],
   "source": [
    "DJI.info()"
   ]
  },
  {
   "cell_type": "markdown",
   "metadata": {},
   "source": [
    "'Date' column is object datatype, must convert to datetime64 using pd.to_datetime()\n",
    "Repeat for all four dataframes"
   ]
  },
  {
   "cell_type": "code",
   "execution_count": 4,
   "metadata": {},
   "outputs": [],
   "source": [
    "DJI['Date'] = pd.to_datetime(DJI['Date'], format='%Y-%m-%d')\n",
    "N100['Date'] = pd.to_datetime(N100['Date'], format='%Y-%m-%d')\n",
    "HSI['Date'] = pd.to_datetime(HSI['Date'], format='%Y-%m-%d')\n",
    "N225['Date'] = pd.to_datetime(N225['Date'], format='%Y-%m-%d')"
   ]
  },
  {
   "cell_type": "code",
   "execution_count": 5,
   "metadata": {},
   "outputs": [
    {
     "name": "stdout",
     "output_type": "stream",
     "text": [
      "<class 'pandas.core.frame.DataFrame'>\n",
      "RangeIndex: 5031 entries, 0 to 5030\n",
      "Data columns (total 7 columns):\n",
      " #   Column     Non-Null Count  Dtype         \n",
      "---  ------     --------------  -----         \n",
      " 0   Date       5031 non-null   datetime64[ns]\n",
      " 1   Open       5031 non-null   float64       \n",
      " 2   High       5031 non-null   float64       \n",
      " 3   Low        5031 non-null   float64       \n",
      " 4   Close      5031 non-null   float64       \n",
      " 5   Adj Close  5031 non-null   float64       \n",
      " 6   Volume     5031 non-null   int64         \n",
      "dtypes: datetime64[ns](1), float64(5), int64(1)\n",
      "memory usage: 275.3 KB\n"
     ]
    }
   ],
   "source": [
    "DJI.info()"
   ]
  },
  {
   "cell_type": "code",
   "execution_count": 6,
   "metadata": {},
   "outputs": [
    {
     "data": {
      "text/html": [
       "<div>\n",
       "<style scoped>\n",
       "    .dataframe tbody tr th:only-of-type {\n",
       "        vertical-align: middle;\n",
       "    }\n",
       "\n",
       "    .dataframe tbody tr th {\n",
       "        vertical-align: top;\n",
       "    }\n",
       "\n",
       "    .dataframe thead th {\n",
       "        text-align: right;\n",
       "    }\n",
       "</style>\n",
       "<table border=\"1\" class=\"dataframe\">\n",
       "  <thead>\n",
       "    <tr style=\"text-align: right;\">\n",
       "      <th></th>\n",
       "      <th>Date</th>\n",
       "      <th>Open</th>\n",
       "      <th>High</th>\n",
       "      <th>Low</th>\n",
       "      <th>Close</th>\n",
       "      <th>Adj Close</th>\n",
       "      <th>Volume</th>\n",
       "    </tr>\n",
       "  </thead>\n",
       "  <tbody>\n",
       "    <tr>\n",
       "      <th>0</th>\n",
       "      <td>2000-10-09</td>\n",
       "      <td>10596.910156</td>\n",
       "      <td>10641.309570</td>\n",
       "      <td>10546.230469</td>\n",
       "      <td>10568.429688</td>\n",
       "      <td>10568.429688</td>\n",
       "      <td>167770000</td>\n",
       "    </tr>\n",
       "    <tr>\n",
       "      <th>1</th>\n",
       "      <td>2000-10-10</td>\n",
       "      <td>10569.169922</td>\n",
       "      <td>10623.549805</td>\n",
       "      <td>10488.889648</td>\n",
       "      <td>10524.400391</td>\n",
       "      <td>10524.400391</td>\n",
       "      <td>212070000</td>\n",
       "    </tr>\n",
       "    <tr>\n",
       "      <th>2</th>\n",
       "      <td>2000-10-11</td>\n",
       "      <td>10521.070313</td>\n",
       "      <td>10566.580078</td>\n",
       "      <td>10350.889648</td>\n",
       "      <td>10413.790039</td>\n",
       "      <td>10413.790039</td>\n",
       "      <td>324520000</td>\n",
       "    </tr>\n",
       "    <tr>\n",
       "      <th>3</th>\n",
       "      <td>2000-10-12</td>\n",
       "      <td>10424.139648</td>\n",
       "      <td>10460.400391</td>\n",
       "      <td>10023.490234</td>\n",
       "      <td>10034.580078</td>\n",
       "      <td>10034.580078</td>\n",
       "      <td>367130000</td>\n",
       "    </tr>\n",
       "    <tr>\n",
       "      <th>4</th>\n",
       "      <td>2000-10-13</td>\n",
       "      <td>10031.620117</td>\n",
       "      <td>10208.089844</td>\n",
       "      <td>10014.240234</td>\n",
       "      <td>10192.179688</td>\n",
       "      <td>10192.179688</td>\n",
       "      <td>300410000</td>\n",
       "    </tr>\n",
       "    <tr>\n",
       "      <th>5</th>\n",
       "      <td>2000-10-16</td>\n",
       "      <td>10184.780273</td>\n",
       "      <td>10272.089844</td>\n",
       "      <td>10177.759766</td>\n",
       "      <td>10238.799805</td>\n",
       "      <td>10238.799805</td>\n",
       "      <td>270220000</td>\n",
       "    </tr>\n",
       "    <tr>\n",
       "      <th>6</th>\n",
       "      <td>2000-10-17</td>\n",
       "      <td>10242.870117</td>\n",
       "      <td>10293.919922</td>\n",
       "      <td>10026.450195</td>\n",
       "      <td>10089.709961</td>\n",
       "      <td>10089.709961</td>\n",
       "      <td>253140000</td>\n",
       "    </tr>\n",
       "    <tr>\n",
       "      <th>7</th>\n",
       "      <td>2000-10-18</td>\n",
       "      <td>10085.990234</td>\n",
       "      <td>10085.990234</td>\n",
       "      <td>9654.639648</td>\n",
       "      <td>9975.019531</td>\n",
       "      <td>9975.019531</td>\n",
       "      <td>372410000</td>\n",
       "    </tr>\n",
       "    <tr>\n",
       "      <th>8</th>\n",
       "      <td>2000-10-19</td>\n",
       "      <td>10014.610352</td>\n",
       "      <td>10142.980469</td>\n",
       "      <td>10014.610352</td>\n",
       "      <td>10142.980469</td>\n",
       "      <td>10142.980469</td>\n",
       "      <td>343710000</td>\n",
       "    </tr>\n",
       "    <tr>\n",
       "      <th>9</th>\n",
       "      <td>2000-10-20</td>\n",
       "      <td>10141.129883</td>\n",
       "      <td>10229.549805</td>\n",
       "      <td>10067.509766</td>\n",
       "      <td>10226.589844</td>\n",
       "      <td>10226.589844</td>\n",
       "      <td>319750000</td>\n",
       "    </tr>\n",
       "  </tbody>\n",
       "</table>\n",
       "</div>"
      ],
      "text/plain": [
       "        Date          Open          High           Low         Close  \\\n",
       "0 2000-10-09  10596.910156  10641.309570  10546.230469  10568.429688   \n",
       "1 2000-10-10  10569.169922  10623.549805  10488.889648  10524.400391   \n",
       "2 2000-10-11  10521.070313  10566.580078  10350.889648  10413.790039   \n",
       "3 2000-10-12  10424.139648  10460.400391  10023.490234  10034.580078   \n",
       "4 2000-10-13  10031.620117  10208.089844  10014.240234  10192.179688   \n",
       "5 2000-10-16  10184.780273  10272.089844  10177.759766  10238.799805   \n",
       "6 2000-10-17  10242.870117  10293.919922  10026.450195  10089.709961   \n",
       "7 2000-10-18  10085.990234  10085.990234   9654.639648   9975.019531   \n",
       "8 2000-10-19  10014.610352  10142.980469  10014.610352  10142.980469   \n",
       "9 2000-10-20  10141.129883  10229.549805  10067.509766  10226.589844   \n",
       "\n",
       "      Adj Close     Volume  \n",
       "0  10568.429688  167770000  \n",
       "1  10524.400391  212070000  \n",
       "2  10413.790039  324520000  \n",
       "3  10034.580078  367130000  \n",
       "4  10192.179688  300410000  \n",
       "5  10238.799805  270220000  \n",
       "6  10089.709961  253140000  \n",
       "7   9975.019531  372410000  \n",
       "8  10142.980469  343710000  \n",
       "9  10226.589844  319750000  "
      ]
     },
     "execution_count": 6,
     "metadata": {},
     "output_type": "execute_result"
    }
   ],
   "source": [
    "DJI.head(10)"
   ]
  },
  {
   "cell_type": "code",
   "execution_count": 7,
   "metadata": {},
   "outputs": [
    {
     "data": {
      "text/plain": [
       "(5031, 7)"
      ]
     },
     "execution_count": 7,
     "metadata": {},
     "output_type": "execute_result"
    }
   ],
   "source": [
    "DJI.shape"
   ]
  },
  {
   "cell_type": "code",
   "execution_count": 8,
   "metadata": {},
   "outputs": [
    {
     "data": {
      "text/plain": [
       "(5140, 7)"
      ]
     },
     "execution_count": 8,
     "metadata": {},
     "output_type": "execute_result"
    }
   ],
   "source": [
    "N100.shape"
   ]
  },
  {
   "cell_type": "code",
   "execution_count": 9,
   "metadata": {},
   "outputs": [
    {
     "data": {
      "text/plain": [
       "(4999, 7)"
      ]
     },
     "execution_count": 9,
     "metadata": {},
     "output_type": "execute_result"
    }
   ],
   "source": [
    "HSI.shape"
   ]
  },
  {
   "cell_type": "code",
   "execution_count": 10,
   "metadata": {},
   "outputs": [
    {
     "data": {
      "text/plain": [
       "(5012, 7)"
      ]
     },
     "execution_count": 10,
     "metadata": {},
     "output_type": "execute_result"
    }
   ],
   "source": [
    "N225.shape"
   ]
  },
  {
   "cell_type": "code",
   "execution_count": 11,
   "metadata": {},
   "outputs": [
    {
     "data": {
      "text/plain": [
       "Index(['Date', 'Open', 'High', 'Low', 'Close', 'Adj Close', 'Volume'], dtype='object')"
      ]
     },
     "execution_count": 11,
     "metadata": {},
     "output_type": "execute_result"
    }
   ],
   "source": [
    "DJI.columns"
   ]
  },
  {
   "cell_type": "markdown",
   "metadata": {},
   "source": [
    "We will use this data to perform analysis on the closing prices of each index. The best way to do this is to compare percentage changes. We will calculate the closing price's percent change from previous close."
   ]
  },
  {
   "cell_type": "code",
   "execution_count": 12,
   "metadata": {},
   "outputs": [],
   "source": [
    "#Use pct_change() method to calculate percentage for 'Close' column\n",
    "#pct_change isnt out of 100, rather it returns a decimal value, so multiply by 100 after the fact\n",
    "DJI['Percent Change'] = DJI['Close'].pct_change() * 100\n",
    "N100['Percent Change'] = N100['Close'].pct_change() * 100\n",
    "HSI['Percent Change'] = HSI['Close'].pct_change() * 100\n",
    "N225['Percent Change'] = N225['Close'].pct_change() * 100"
   ]
  },
  {
   "cell_type": "markdown",
   "metadata": {},
   "source": [
    "For best analysis, datasets must be merged. But before we can do that, we must still differentiate what each row's index represents. To achieve this, we will insert an extra column and populate it with the name of the corresponding index."
   ]
  },
  {
   "cell_type": "code",
   "execution_count": 13,
   "metadata": {},
   "outputs": [],
   "source": [
    "####Insert index name as new column\n",
    "DJI['Index'] = 'Dow Jones Industrial'\n",
    "N100['Index'] = 'Euronext100'\n",
    "HSI['Index'] = 'Hang Seng'\n",
    "N225['Index'] = 'Nikkei 225'"
   ]
  },
  {
   "cell_type": "markdown",
   "metadata": {},
   "source": [
    "Sanity check"
   ]
  },
  {
   "cell_type": "code",
   "execution_count": 14,
   "metadata": {},
   "outputs": [
    {
     "data": {
      "text/html": [
       "<div>\n",
       "<style scoped>\n",
       "    .dataframe tbody tr th:only-of-type {\n",
       "        vertical-align: middle;\n",
       "    }\n",
       "\n",
       "    .dataframe tbody tr th {\n",
       "        vertical-align: top;\n",
       "    }\n",
       "\n",
       "    .dataframe thead th {\n",
       "        text-align: right;\n",
       "    }\n",
       "</style>\n",
       "<table border=\"1\" class=\"dataframe\">\n",
       "  <thead>\n",
       "    <tr style=\"text-align: right;\">\n",
       "      <th></th>\n",
       "      <th>Date</th>\n",
       "      <th>Open</th>\n",
       "      <th>High</th>\n",
       "      <th>Low</th>\n",
       "      <th>Close</th>\n",
       "      <th>Adj Close</th>\n",
       "      <th>Volume</th>\n",
       "      <th>Percent Change</th>\n",
       "      <th>Index</th>\n",
       "    </tr>\n",
       "  </thead>\n",
       "  <tbody>\n",
       "    <tr>\n",
       "      <th>0</th>\n",
       "      <td>2000-10-09</td>\n",
       "      <td>10596.910156</td>\n",
       "      <td>10641.309570</td>\n",
       "      <td>10546.230469</td>\n",
       "      <td>10568.429688</td>\n",
       "      <td>10568.429688</td>\n",
       "      <td>167770000</td>\n",
       "      <td>NaN</td>\n",
       "      <td>Dow Jones Industrial</td>\n",
       "    </tr>\n",
       "    <tr>\n",
       "      <th>1</th>\n",
       "      <td>2000-10-10</td>\n",
       "      <td>10569.169922</td>\n",
       "      <td>10623.549805</td>\n",
       "      <td>10488.889648</td>\n",
       "      <td>10524.400391</td>\n",
       "      <td>10524.400391</td>\n",
       "      <td>212070000</td>\n",
       "      <td>-0.416612</td>\n",
       "      <td>Dow Jones Industrial</td>\n",
       "    </tr>\n",
       "    <tr>\n",
       "      <th>2</th>\n",
       "      <td>2000-10-11</td>\n",
       "      <td>10521.070313</td>\n",
       "      <td>10566.580078</td>\n",
       "      <td>10350.889648</td>\n",
       "      <td>10413.790039</td>\n",
       "      <td>10413.790039</td>\n",
       "      <td>324520000</td>\n",
       "      <td>-1.050990</td>\n",
       "      <td>Dow Jones Industrial</td>\n",
       "    </tr>\n",
       "    <tr>\n",
       "      <th>3</th>\n",
       "      <td>2000-10-12</td>\n",
       "      <td>10424.139648</td>\n",
       "      <td>10460.400391</td>\n",
       "      <td>10023.490234</td>\n",
       "      <td>10034.580078</td>\n",
       "      <td>10034.580078</td>\n",
       "      <td>367130000</td>\n",
       "      <td>-3.641421</td>\n",
       "      <td>Dow Jones Industrial</td>\n",
       "    </tr>\n",
       "    <tr>\n",
       "      <th>4</th>\n",
       "      <td>2000-10-13</td>\n",
       "      <td>10031.620117</td>\n",
       "      <td>10208.089844</td>\n",
       "      <td>10014.240234</td>\n",
       "      <td>10192.179688</td>\n",
       "      <td>10192.179688</td>\n",
       "      <td>300410000</td>\n",
       "      <td>1.570565</td>\n",
       "      <td>Dow Jones Industrial</td>\n",
       "    </tr>\n",
       "  </tbody>\n",
       "</table>\n",
       "</div>"
      ],
      "text/plain": [
       "        Date          Open          High           Low         Close  \\\n",
       "0 2000-10-09  10596.910156  10641.309570  10546.230469  10568.429688   \n",
       "1 2000-10-10  10569.169922  10623.549805  10488.889648  10524.400391   \n",
       "2 2000-10-11  10521.070313  10566.580078  10350.889648  10413.790039   \n",
       "3 2000-10-12  10424.139648  10460.400391  10023.490234  10034.580078   \n",
       "4 2000-10-13  10031.620117  10208.089844  10014.240234  10192.179688   \n",
       "\n",
       "      Adj Close     Volume  Percent Change                 Index  \n",
       "0  10568.429688  167770000             NaN  Dow Jones Industrial  \n",
       "1  10524.400391  212070000       -0.416612  Dow Jones Industrial  \n",
       "2  10413.790039  324520000       -1.050990  Dow Jones Industrial  \n",
       "3  10034.580078  367130000       -3.641421  Dow Jones Industrial  \n",
       "4  10192.179688  300410000        1.570565  Dow Jones Industrial  "
      ]
     },
     "execution_count": 14,
     "metadata": {},
     "output_type": "execute_result"
    }
   ],
   "source": [
    "DJI.head(5)"
   ]
  },
  {
   "cell_type": "code",
   "execution_count": 50,
   "metadata": {},
   "outputs": [
    {
     "name": "stdout",
     "output_type": "stream",
     "text": [
      "Date              0\n",
      "Open              0\n",
      "High              0\n",
      "Low               0\n",
      "Close             0\n",
      "Adj Close         0\n",
      "Volume            0\n",
      "Percent Change    0\n",
      "Index             0\n",
      "dtype: int64 Date               0\n",
      "Open              32\n",
      "High              32\n",
      "Low               32\n",
      "Close             32\n",
      "Adj Close         32\n",
      "Volume            32\n",
      "Percent Change     0\n",
      "Index              0\n",
      "dtype: int64 Date                0\n",
      "Open              115\n",
      "High              115\n",
      "Low               115\n",
      "Close             115\n",
      "Adj Close         115\n",
      "Volume            115\n",
      "Percent Change      0\n",
      "Index               0\n",
      "dtype: int64 Date               0\n",
      "Open              73\n",
      "High              73\n",
      "Low               73\n",
      "Close             73\n",
      "Adj Close         73\n",
      "Volume            73\n",
      "Percent Change     0\n",
      "Index              0\n",
      "dtype: int64\n"
     ]
    }
   ],
   "source": [
    "print(pd.isna(DJI).sum(), pd.isna(N100).sum(), pd.isna(N225).sum(), pd.isna(HSI).sum())"
   ]
  },
  {
   "cell_type": "markdown",
   "metadata": {},
   "source": [
    "First row of each dataset has a NaN percent change at row 0, as expected."
   ]
  },
  {
   "cell_type": "code",
   "execution_count": 19,
   "metadata": {},
   "outputs": [],
   "source": [
    "DJI.drop(DJI.index[0], inplace=True)\n",
    "N100.drop(N100.index[0], inplace=True)\n",
    "HSI.drop(HSI.index[0], inplace=True)\n",
    "N225.drop(N225.index[0], inplace=True)"
   ]
  },
  {
   "cell_type": "code",
   "execution_count": 20,
   "metadata": {},
   "outputs": [
    {
     "data": {
      "text/html": [
       "<div>\n",
       "<style scoped>\n",
       "    .dataframe tbody tr th:only-of-type {\n",
       "        vertical-align: middle;\n",
       "    }\n",
       "\n",
       "    .dataframe tbody tr th {\n",
       "        vertical-align: top;\n",
       "    }\n",
       "\n",
       "    .dataframe thead th {\n",
       "        text-align: right;\n",
       "    }\n",
       "</style>\n",
       "<table border=\"1\" class=\"dataframe\">\n",
       "  <thead>\n",
       "    <tr style=\"text-align: right;\">\n",
       "      <th></th>\n",
       "      <th>Date</th>\n",
       "      <th>Open</th>\n",
       "      <th>High</th>\n",
       "      <th>Low</th>\n",
       "      <th>Close</th>\n",
       "      <th>Adj Close</th>\n",
       "      <th>Volume</th>\n",
       "      <th>Percent Change</th>\n",
       "      <th>Index</th>\n",
       "    </tr>\n",
       "  </thead>\n",
       "  <tbody>\n",
       "    <tr>\n",
       "      <th>1</th>\n",
       "      <td>2000-10-10</td>\n",
       "      <td>10569.169922</td>\n",
       "      <td>10623.549805</td>\n",
       "      <td>10488.889648</td>\n",
       "      <td>10524.400391</td>\n",
       "      <td>10524.400391</td>\n",
       "      <td>212070000</td>\n",
       "      <td>-0.416612</td>\n",
       "      <td>Dow Jones Industrial</td>\n",
       "    </tr>\n",
       "    <tr>\n",
       "      <th>2</th>\n",
       "      <td>2000-10-11</td>\n",
       "      <td>10521.070313</td>\n",
       "      <td>10566.580078</td>\n",
       "      <td>10350.889648</td>\n",
       "      <td>10413.790039</td>\n",
       "      <td>10413.790039</td>\n",
       "      <td>324520000</td>\n",
       "      <td>-1.050990</td>\n",
       "      <td>Dow Jones Industrial</td>\n",
       "    </tr>\n",
       "    <tr>\n",
       "      <th>3</th>\n",
       "      <td>2000-10-12</td>\n",
       "      <td>10424.139648</td>\n",
       "      <td>10460.400391</td>\n",
       "      <td>10023.490234</td>\n",
       "      <td>10034.580078</td>\n",
       "      <td>10034.580078</td>\n",
       "      <td>367130000</td>\n",
       "      <td>-3.641421</td>\n",
       "      <td>Dow Jones Industrial</td>\n",
       "    </tr>\n",
       "    <tr>\n",
       "      <th>4</th>\n",
       "      <td>2000-10-13</td>\n",
       "      <td>10031.620117</td>\n",
       "      <td>10208.089844</td>\n",
       "      <td>10014.240234</td>\n",
       "      <td>10192.179688</td>\n",
       "      <td>10192.179688</td>\n",
       "      <td>300410000</td>\n",
       "      <td>1.570565</td>\n",
       "      <td>Dow Jones Industrial</td>\n",
       "    </tr>\n",
       "    <tr>\n",
       "      <th>5</th>\n",
       "      <td>2000-10-16</td>\n",
       "      <td>10184.780273</td>\n",
       "      <td>10272.089844</td>\n",
       "      <td>10177.759766</td>\n",
       "      <td>10238.799805</td>\n",
       "      <td>10238.799805</td>\n",
       "      <td>270220000</td>\n",
       "      <td>0.457411</td>\n",
       "      <td>Dow Jones Industrial</td>\n",
       "    </tr>\n",
       "  </tbody>\n",
       "</table>\n",
       "</div>"
      ],
      "text/plain": [
       "        Date          Open          High           Low         Close  \\\n",
       "1 2000-10-10  10569.169922  10623.549805  10488.889648  10524.400391   \n",
       "2 2000-10-11  10521.070313  10566.580078  10350.889648  10413.790039   \n",
       "3 2000-10-12  10424.139648  10460.400391  10023.490234  10034.580078   \n",
       "4 2000-10-13  10031.620117  10208.089844  10014.240234  10192.179688   \n",
       "5 2000-10-16  10184.780273  10272.089844  10177.759766  10238.799805   \n",
       "\n",
       "      Adj Close     Volume  Percent Change                 Index  \n",
       "1  10524.400391  212070000       -0.416612  Dow Jones Industrial  \n",
       "2  10413.790039  324520000       -1.050990  Dow Jones Industrial  \n",
       "3  10034.580078  367130000       -3.641421  Dow Jones Industrial  \n",
       "4  10192.179688  300410000        1.570565  Dow Jones Industrial  \n",
       "5  10238.799805  270220000        0.457411  Dow Jones Industrial  "
      ]
     },
     "execution_count": 20,
     "metadata": {},
     "output_type": "execute_result"
    }
   ],
   "source": [
    "DJI.head(5)"
   ]
  },
  {
   "cell_type": "code",
   "execution_count": 21,
   "metadata": {},
   "outputs": [
    {
     "data": {
      "text/html": [
       "<div>\n",
       "<style scoped>\n",
       "    .dataframe tbody tr th:only-of-type {\n",
       "        vertical-align: middle;\n",
       "    }\n",
       "\n",
       "    .dataframe tbody tr th {\n",
       "        vertical-align: top;\n",
       "    }\n",
       "\n",
       "    .dataframe thead th {\n",
       "        text-align: right;\n",
       "    }\n",
       "</style>\n",
       "<table border=\"1\" class=\"dataframe\">\n",
       "  <thead>\n",
       "    <tr style=\"text-align: right;\">\n",
       "      <th></th>\n",
       "      <th>Date</th>\n",
       "      <th>Open</th>\n",
       "      <th>High</th>\n",
       "      <th>Low</th>\n",
       "      <th>Close</th>\n",
       "      <th>Adj Close</th>\n",
       "      <th>Volume</th>\n",
       "      <th>Percent Change</th>\n",
       "      <th>Index</th>\n",
       "    </tr>\n",
       "  </thead>\n",
       "  <tbody>\n",
       "    <tr>\n",
       "      <th>1</th>\n",
       "      <td>2000-10-11</td>\n",
       "      <td>15795.150391</td>\n",
       "      <td>15795.150391</td>\n",
       "      <td>15424.709961</td>\n",
       "      <td>15513.570313</td>\n",
       "      <td>15513.570313</td>\n",
       "      <td>0.0</td>\n",
       "      <td>-1.984805</td>\n",
       "      <td>Nikkei 225</td>\n",
       "    </tr>\n",
       "    <tr>\n",
       "      <th>2</th>\n",
       "      <td>2000-10-12</td>\n",
       "      <td>15491.799805</td>\n",
       "      <td>15580.320313</td>\n",
       "      <td>15392.740234</td>\n",
       "      <td>15550.639648</td>\n",
       "      <td>15550.639648</td>\n",
       "      <td>0.0</td>\n",
       "      <td>0.238948</td>\n",
       "      <td>Nikkei 225</td>\n",
       "    </tr>\n",
       "    <tr>\n",
       "      <th>3</th>\n",
       "      <td>2000-10-13</td>\n",
       "      <td>15516.150391</td>\n",
       "      <td>15516.150391</td>\n",
       "      <td>15101.639648</td>\n",
       "      <td>15330.309570</td>\n",
       "      <td>15330.309570</td>\n",
       "      <td>0.0</td>\n",
       "      <td>-1.416855</td>\n",
       "      <td>Nikkei 225</td>\n",
       "    </tr>\n",
       "    <tr>\n",
       "      <th>4</th>\n",
       "      <td>2000-10-16</td>\n",
       "      <td>15366.809570</td>\n",
       "      <td>15688.169922</td>\n",
       "      <td>15366.809570</td>\n",
       "      <td>15512.320313</td>\n",
       "      <td>15512.320313</td>\n",
       "      <td>0.0</td>\n",
       "      <td>1.187261</td>\n",
       "      <td>Nikkei 225</td>\n",
       "    </tr>\n",
       "    <tr>\n",
       "      <th>5</th>\n",
       "      <td>2000-10-17</td>\n",
       "      <td>15526.990234</td>\n",
       "      <td>15545.059570</td>\n",
       "      <td>15340.219727</td>\n",
       "      <td>15340.219727</td>\n",
       "      <td>15340.219727</td>\n",
       "      <td>0.0</td>\n",
       "      <td>-1.109445</td>\n",
       "      <td>Nikkei 225</td>\n",
       "    </tr>\n",
       "  </tbody>\n",
       "</table>\n",
       "</div>"
      ],
      "text/plain": [
       "        Date          Open          High           Low         Close  \\\n",
       "1 2000-10-11  15795.150391  15795.150391  15424.709961  15513.570313   \n",
       "2 2000-10-12  15491.799805  15580.320313  15392.740234  15550.639648   \n",
       "3 2000-10-13  15516.150391  15516.150391  15101.639648  15330.309570   \n",
       "4 2000-10-16  15366.809570  15688.169922  15366.809570  15512.320313   \n",
       "5 2000-10-17  15526.990234  15545.059570  15340.219727  15340.219727   \n",
       "\n",
       "      Adj Close  Volume  Percent Change       Index  \n",
       "1  15513.570313     0.0       -1.984805  Nikkei 225  \n",
       "2  15550.639648     0.0        0.238948  Nikkei 225  \n",
       "3  15330.309570     0.0       -1.416855  Nikkei 225  \n",
       "4  15512.320313     0.0        1.187261  Nikkei 225  \n",
       "5  15340.219727     0.0       -1.109445  Nikkei 225  "
      ]
     },
     "execution_count": 21,
     "metadata": {},
     "output_type": "execute_result"
    }
   ],
   "source": [
    "N225.head(5)"
   ]
  },
  {
   "cell_type": "code",
   "execution_count": 22,
   "metadata": {},
   "outputs": [
    {
     "data": {
      "text/html": [
       "<div>\n",
       "<style scoped>\n",
       "    .dataframe tbody tr th:only-of-type {\n",
       "        vertical-align: middle;\n",
       "    }\n",
       "\n",
       "    .dataframe tbody tr th {\n",
       "        vertical-align: top;\n",
       "    }\n",
       "\n",
       "    .dataframe thead th {\n",
       "        text-align: right;\n",
       "    }\n",
       "</style>\n",
       "<table border=\"1\" class=\"dataframe\">\n",
       "  <thead>\n",
       "    <tr style=\"text-align: right;\">\n",
       "      <th></th>\n",
       "      <th>Date</th>\n",
       "      <th>Open</th>\n",
       "      <th>High</th>\n",
       "      <th>Low</th>\n",
       "      <th>Close</th>\n",
       "      <th>Adj Close</th>\n",
       "      <th>Volume</th>\n",
       "      <th>Percent Change</th>\n",
       "      <th>Index</th>\n",
       "    </tr>\n",
       "  </thead>\n",
       "  <tbody>\n",
       "    <tr>\n",
       "      <th>5007</th>\n",
       "      <td>2020-10-02</td>\n",
       "      <td>23294.800781</td>\n",
       "      <td>23365.580078</td>\n",
       "      <td>22951.410156</td>\n",
       "      <td>23029.900391</td>\n",
       "      <td>23029.900391</td>\n",
       "      <td>86300.0</td>\n",
       "      <td>-0.668664</td>\n",
       "      <td>Nikkei 225</td>\n",
       "    </tr>\n",
       "    <tr>\n",
       "      <th>5008</th>\n",
       "      <td>2020-10-05</td>\n",
       "      <td>23254.279297</td>\n",
       "      <td>23377.429688</td>\n",
       "      <td>23252.689453</td>\n",
       "      <td>23312.140625</td>\n",
       "      <td>23312.140625</td>\n",
       "      <td>59500.0</td>\n",
       "      <td>1.225538</td>\n",
       "      <td>Nikkei 225</td>\n",
       "    </tr>\n",
       "    <tr>\n",
       "      <th>5009</th>\n",
       "      <td>2020-10-06</td>\n",
       "      <td>23420.070313</td>\n",
       "      <td>23441.160156</td>\n",
       "      <td>23331.400391</td>\n",
       "      <td>23433.730469</td>\n",
       "      <td>23433.730469</td>\n",
       "      <td>57700.0</td>\n",
       "      <td>0.521573</td>\n",
       "      <td>Nikkei 225</td>\n",
       "    </tr>\n",
       "    <tr>\n",
       "      <th>5010</th>\n",
       "      <td>2020-10-07</td>\n",
       "      <td>23272.449219</td>\n",
       "      <td>23432.730469</td>\n",
       "      <td>23272.449219</td>\n",
       "      <td>23422.820313</td>\n",
       "      <td>23422.820313</td>\n",
       "      <td>52100.0</td>\n",
       "      <td>-0.046557</td>\n",
       "      <td>Nikkei 225</td>\n",
       "    </tr>\n",
       "    <tr>\n",
       "      <th>5011</th>\n",
       "      <td>2020-10-08</td>\n",
       "      <td>23272.449219</td>\n",
       "      <td>23701.769531</td>\n",
       "      <td>23477.730469</td>\n",
       "      <td>23647.070313</td>\n",
       "      <td>23647.070313</td>\n",
       "      <td>0.0</td>\n",
       "      <td>0.957400</td>\n",
       "      <td>Nikkei 225</td>\n",
       "    </tr>\n",
       "  </tbody>\n",
       "</table>\n",
       "</div>"
      ],
      "text/plain": [
       "           Date          Open          High           Low         Close  \\\n",
       "5007 2020-10-02  23294.800781  23365.580078  22951.410156  23029.900391   \n",
       "5008 2020-10-05  23254.279297  23377.429688  23252.689453  23312.140625   \n",
       "5009 2020-10-06  23420.070313  23441.160156  23331.400391  23433.730469   \n",
       "5010 2020-10-07  23272.449219  23432.730469  23272.449219  23422.820313   \n",
       "5011 2020-10-08  23272.449219  23701.769531  23477.730469  23647.070313   \n",
       "\n",
       "         Adj Close   Volume  Percent Change       Index  \n",
       "5007  23029.900391  86300.0       -0.668664  Nikkei 225  \n",
       "5008  23312.140625  59500.0        1.225538  Nikkei 225  \n",
       "5009  23433.730469  57700.0        0.521573  Nikkei 225  \n",
       "5010  23422.820313  52100.0       -0.046557  Nikkei 225  \n",
       "5011  23647.070313      0.0        0.957400  Nikkei 225  "
      ]
     },
     "execution_count": 22,
     "metadata": {},
     "output_type": "execute_result"
    }
   ],
   "source": [
    "N225.tail(5)"
   ]
  },
  {
   "cell_type": "markdown",
   "metadata": {},
   "source": [
    "Index Needs to be reset due to dropped values"
   ]
  },
  {
   "cell_type": "code",
   "execution_count": 23,
   "metadata": {},
   "outputs": [],
   "source": [
    "DJI.reset_index(inplace=True, drop=True)\n",
    "N100.reset_index(inplace=True, drop=True)\n",
    "HSI.reset_index(inplace=True, drop=True)\n",
    "N225.reset_index(inplace=True, drop=True)"
   ]
  },
  {
   "cell_type": "code",
   "execution_count": 24,
   "metadata": {},
   "outputs": [
    {
     "data": {
      "text/html": [
       "<div>\n",
       "<style scoped>\n",
       "    .dataframe tbody tr th:only-of-type {\n",
       "        vertical-align: middle;\n",
       "    }\n",
       "\n",
       "    .dataframe tbody tr th {\n",
       "        vertical-align: top;\n",
       "    }\n",
       "\n",
       "    .dataframe thead th {\n",
       "        text-align: right;\n",
       "    }\n",
       "</style>\n",
       "<table border=\"1\" class=\"dataframe\">\n",
       "  <thead>\n",
       "    <tr style=\"text-align: right;\">\n",
       "      <th></th>\n",
       "      <th>Date</th>\n",
       "      <th>Open</th>\n",
       "      <th>High</th>\n",
       "      <th>Low</th>\n",
       "      <th>Close</th>\n",
       "      <th>Adj Close</th>\n",
       "      <th>Volume</th>\n",
       "      <th>Percent Change</th>\n",
       "      <th>Index</th>\n",
       "    </tr>\n",
       "  </thead>\n",
       "  <tbody>\n",
       "    <tr>\n",
       "      <th>0</th>\n",
       "      <td>2000-10-10</td>\n",
       "      <td>10569.169922</td>\n",
       "      <td>10623.549805</td>\n",
       "      <td>10488.889648</td>\n",
       "      <td>10524.400391</td>\n",
       "      <td>10524.400391</td>\n",
       "      <td>212070000</td>\n",
       "      <td>-0.416612</td>\n",
       "      <td>Dow Jones Industrial</td>\n",
       "    </tr>\n",
       "    <tr>\n",
       "      <th>1</th>\n",
       "      <td>2000-10-11</td>\n",
       "      <td>10521.070313</td>\n",
       "      <td>10566.580078</td>\n",
       "      <td>10350.889648</td>\n",
       "      <td>10413.790039</td>\n",
       "      <td>10413.790039</td>\n",
       "      <td>324520000</td>\n",
       "      <td>-1.050990</td>\n",
       "      <td>Dow Jones Industrial</td>\n",
       "    </tr>\n",
       "    <tr>\n",
       "      <th>2</th>\n",
       "      <td>2000-10-12</td>\n",
       "      <td>10424.139648</td>\n",
       "      <td>10460.400391</td>\n",
       "      <td>10023.490234</td>\n",
       "      <td>10034.580078</td>\n",
       "      <td>10034.580078</td>\n",
       "      <td>367130000</td>\n",
       "      <td>-3.641421</td>\n",
       "      <td>Dow Jones Industrial</td>\n",
       "    </tr>\n",
       "    <tr>\n",
       "      <th>3</th>\n",
       "      <td>2000-10-13</td>\n",
       "      <td>10031.620117</td>\n",
       "      <td>10208.089844</td>\n",
       "      <td>10014.240234</td>\n",
       "      <td>10192.179688</td>\n",
       "      <td>10192.179688</td>\n",
       "      <td>300410000</td>\n",
       "      <td>1.570565</td>\n",
       "      <td>Dow Jones Industrial</td>\n",
       "    </tr>\n",
       "    <tr>\n",
       "      <th>4</th>\n",
       "      <td>2000-10-16</td>\n",
       "      <td>10184.780273</td>\n",
       "      <td>10272.089844</td>\n",
       "      <td>10177.759766</td>\n",
       "      <td>10238.799805</td>\n",
       "      <td>10238.799805</td>\n",
       "      <td>270220000</td>\n",
       "      <td>0.457411</td>\n",
       "      <td>Dow Jones Industrial</td>\n",
       "    </tr>\n",
       "  </tbody>\n",
       "</table>\n",
       "</div>"
      ],
      "text/plain": [
       "        Date          Open          High           Low         Close  \\\n",
       "0 2000-10-10  10569.169922  10623.549805  10488.889648  10524.400391   \n",
       "1 2000-10-11  10521.070313  10566.580078  10350.889648  10413.790039   \n",
       "2 2000-10-12  10424.139648  10460.400391  10023.490234  10034.580078   \n",
       "3 2000-10-13  10031.620117  10208.089844  10014.240234  10192.179688   \n",
       "4 2000-10-16  10184.780273  10272.089844  10177.759766  10238.799805   \n",
       "\n",
       "      Adj Close     Volume  Percent Change                 Index  \n",
       "0  10524.400391  212070000       -0.416612  Dow Jones Industrial  \n",
       "1  10413.790039  324520000       -1.050990  Dow Jones Industrial  \n",
       "2  10034.580078  367130000       -3.641421  Dow Jones Industrial  \n",
       "3  10192.179688  300410000        1.570565  Dow Jones Industrial  \n",
       "4  10238.799805  270220000        0.457411  Dow Jones Industrial  "
      ]
     },
     "execution_count": 24,
     "metadata": {},
     "output_type": "execute_result"
    }
   ],
   "source": [
    "DJI.head(5)"
   ]
  },
  {
   "cell_type": "markdown",
   "metadata": {},
   "source": [
    "Plot all datasets as a sanity check and view any visual trend on the Closing prices."
   ]
  },
  {
   "cell_type": "code",
   "execution_count": 25,
   "metadata": {},
   "outputs": [
    {
     "data": {
      "image/png": "[encoded data removed]",
      "text/plain": [
       "<Figure size 432x288 with 1 Axes>"
      ]
     },
     "metadata": {
      "needs_background": "light"
     },
     "output_type": "display_data"
    }
   ],
   "source": [
    "DJI_Plot = DJI.plot(kind = 'line', x = 'Date', y = 'Close')"
   ]
  },
  {
   "cell_type": "code",
   "execution_count": 26,
   "metadata": {},
   "outputs": [
    {
     "data": {
      "image/png": "[encoded data removed]",
      "text/plain": [
       "<Figure size 432x288 with 1 Axes>"
      ]
     },
     "metadata": {
      "needs_background": "light"
     },
     "output_type": "display_data"
    }
   ],
   "source": [
    "N100_Plot = N100.plot(kind = 'line', x = 'Date', y = 'Close')"
   ]
  },
  {
   "cell_type": "code",
   "execution_count": 27,
   "metadata": {},
   "outputs": [
    {
     "data": {
      "image/png": "[encoded data removed]",
      "text/plain": [
       "<Figure size 432x288 with 1 Axes>"
      ]
     },
     "metadata": {
      "needs_background": "light"
     },
     "output_type": "display_data"
    }
   ],
   "source": [
    "HSI_Plot = HSI.plot(kind = 'line', x = 'Date', y = 'Close')"
   ]
  },
  {
   "cell_type": "code",
   "execution_count": 28,
   "metadata": {},
   "outputs": [
    {
     "data": {
      "image/png": "[encoded data removed]",
      "text/plain": [
       "<Figure size 432x288 with 1 Axes>"
      ]
     },
     "metadata": {
      "needs_background": "light"
     },
     "output_type": "display_data"
    }
   ],
   "source": [
    "N225_Plot = N225.plot(kind = 'line', x = 'Date', y = 'Close')"
   ]
  },
  {
   "cell_type": "markdown",
   "metadata": {},
   "source": [
    "Now its time to merge the datasets."
   ]
  },
  {
   "cell_type": "code",
   "execution_count": 29,
   "metadata": {},
   "outputs": [],
   "source": [
    "Merged_df = [DJI, N100, HSI, N225]"
   ]
  },
  {
   "cell_type": "code",
   "execution_count": 30,
   "metadata": {},
   "outputs": [],
   "source": [
    "All_exchanges = pd.concat(Merged_df, join='inner')"
   ]
  },
  {
   "cell_type": "code",
   "execution_count": 31,
   "metadata": {},
   "outputs": [
    {
     "data": {
      "text/html": [
       "<div>\n",
       "<style scoped>\n",
       "    .dataframe tbody tr th:only-of-type {\n",
       "        vertical-align: middle;\n",
       "    }\n",
       "\n",
       "    .dataframe tbody tr th {\n",
       "        vertical-align: top;\n",
       "    }\n",
       "\n",
       "    .dataframe thead th {\n",
       "        text-align: right;\n",
       "    }\n",
       "</style>\n",
       "<table border=\"1\" class=\"dataframe\">\n",
       "  <thead>\n",
       "    <tr style=\"text-align: right;\">\n",
       "      <th></th>\n",
       "      <th>Date</th>\n",
       "      <th>Open</th>\n",
       "      <th>High</th>\n",
       "      <th>Low</th>\n",
       "      <th>Close</th>\n",
       "      <th>Adj Close</th>\n",
       "      <th>Volume</th>\n",
       "      <th>Percent Change</th>\n",
       "      <th>Index</th>\n",
       "    </tr>\n",
       "  </thead>\n",
       "  <tbody>\n",
       "    <tr>\n",
       "      <th>0</th>\n",
       "      <td>2000-10-10</td>\n",
       "      <td>10569.169922</td>\n",
       "      <td>10623.549805</td>\n",
       "      <td>10488.889648</td>\n",
       "      <td>10524.400391</td>\n",
       "      <td>10524.400391</td>\n",
       "      <td>212070000.0</td>\n",
       "      <td>-0.416612</td>\n",
       "      <td>Dow Jones Industrial</td>\n",
       "    </tr>\n",
       "    <tr>\n",
       "      <th>1</th>\n",
       "      <td>2000-10-11</td>\n",
       "      <td>10521.070313</td>\n",
       "      <td>10566.580078</td>\n",
       "      <td>10350.889648</td>\n",
       "      <td>10413.790039</td>\n",
       "      <td>10413.790039</td>\n",
       "      <td>324520000.0</td>\n",
       "      <td>-1.050990</td>\n",
       "      <td>Dow Jones Industrial</td>\n",
       "    </tr>\n",
       "    <tr>\n",
       "      <th>2</th>\n",
       "      <td>2000-10-12</td>\n",
       "      <td>10424.139648</td>\n",
       "      <td>10460.400391</td>\n",
       "      <td>10023.490234</td>\n",
       "      <td>10034.580078</td>\n",
       "      <td>10034.580078</td>\n",
       "      <td>367130000.0</td>\n",
       "      <td>-3.641421</td>\n",
       "      <td>Dow Jones Industrial</td>\n",
       "    </tr>\n",
       "    <tr>\n",
       "      <th>3</th>\n",
       "      <td>2000-10-13</td>\n",
       "      <td>10031.620117</td>\n",
       "      <td>10208.089844</td>\n",
       "      <td>10014.240234</td>\n",
       "      <td>10192.179688</td>\n",
       "      <td>10192.179688</td>\n",
       "      <td>300410000.0</td>\n",
       "      <td>1.570565</td>\n",
       "      <td>Dow Jones Industrial</td>\n",
       "    </tr>\n",
       "    <tr>\n",
       "      <th>4</th>\n",
       "      <td>2000-10-16</td>\n",
       "      <td>10184.780273</td>\n",
       "      <td>10272.089844</td>\n",
       "      <td>10177.759766</td>\n",
       "      <td>10238.799805</td>\n",
       "      <td>10238.799805</td>\n",
       "      <td>270220000.0</td>\n",
       "      <td>0.457411</td>\n",
       "      <td>Dow Jones Industrial</td>\n",
       "    </tr>\n",
       "    <tr>\n",
       "      <th>5</th>\n",
       "      <td>2000-10-17</td>\n",
       "      <td>10242.870117</td>\n",
       "      <td>10293.919922</td>\n",
       "      <td>10026.450195</td>\n",
       "      <td>10089.709961</td>\n",
       "      <td>10089.709961</td>\n",
       "      <td>253140000.0</td>\n",
       "      <td>-1.456126</td>\n",
       "      <td>Dow Jones Industrial</td>\n",
       "    </tr>\n",
       "    <tr>\n",
       "      <th>6</th>\n",
       "      <td>2000-10-18</td>\n",
       "      <td>10085.990234</td>\n",
       "      <td>10085.990234</td>\n",
       "      <td>9654.639648</td>\n",
       "      <td>9975.019531</td>\n",
       "      <td>9975.019531</td>\n",
       "      <td>372410000.0</td>\n",
       "      <td>-1.136707</td>\n",
       "      <td>Dow Jones Industrial</td>\n",
       "    </tr>\n",
       "    <tr>\n",
       "      <th>7</th>\n",
       "      <td>2000-10-19</td>\n",
       "      <td>10014.610352</td>\n",
       "      <td>10142.980469</td>\n",
       "      <td>10014.610352</td>\n",
       "      <td>10142.980469</td>\n",
       "      <td>10142.980469</td>\n",
       "      <td>343710000.0</td>\n",
       "      <td>1.683816</td>\n",
       "      <td>Dow Jones Industrial</td>\n",
       "    </tr>\n",
       "    <tr>\n",
       "      <th>8</th>\n",
       "      <td>2000-10-20</td>\n",
       "      <td>10141.129883</td>\n",
       "      <td>10229.549805</td>\n",
       "      <td>10067.509766</td>\n",
       "      <td>10226.589844</td>\n",
       "      <td>10226.589844</td>\n",
       "      <td>319750000.0</td>\n",
       "      <td>0.824308</td>\n",
       "      <td>Dow Jones Industrial</td>\n",
       "    </tr>\n",
       "    <tr>\n",
       "      <th>9</th>\n",
       "      <td>2000-10-23</td>\n",
       "      <td>10230.290039</td>\n",
       "      <td>10361.250000</td>\n",
       "      <td>10216.230469</td>\n",
       "      <td>10271.719727</td>\n",
       "      <td>10271.719727</td>\n",
       "      <td>339180000.0</td>\n",
       "      <td>0.441299</td>\n",
       "      <td>Dow Jones Industrial</td>\n",
       "    </tr>\n",
       "  </tbody>\n",
       "</table>\n",
       "</div>"
      ],
      "text/plain": [
       "        Date          Open          High           Low         Close  \\\n",
       "0 2000-10-10  10569.169922  10623.549805  10488.889648  10524.400391   \n",
       "1 2000-10-11  10521.070313  10566.580078  10350.889648  10413.790039   \n",
       "2 2000-10-12  10424.139648  10460.400391  10023.490234  10034.580078   \n",
       "3 2000-10-13  10031.620117  10208.089844  10014.240234  10192.179688   \n",
       "4 2000-10-16  10184.780273  10272.089844  10177.759766  10238.799805   \n",
       "5 2000-10-17  10242.870117  10293.919922  10026.450195  10089.709961   \n",
       "6 2000-10-18  10085.990234  10085.990234   9654.639648   9975.019531   \n",
       "7 2000-10-19  10014.610352  10142.980469  10014.610352  10142.980469   \n",
       "8 2000-10-20  10141.129883  10229.549805  10067.509766  10226.589844   \n",
       "9 2000-10-23  10230.290039  10361.250000  10216.230469  10271.719727   \n",
       "\n",
       "      Adj Close       Volume  Percent Change                 Index  \n",
       "0  10524.400391  212070000.0       -0.416612  Dow Jones Industrial  \n",
       "1  10413.790039  324520000.0       -1.050990  Dow Jones Industrial  \n",
       "2  10034.580078  367130000.0       -3.641421  Dow Jones Industrial  \n",
       "3  10192.179688  300410000.0        1.570565  Dow Jones Industrial  \n",
       "4  10238.799805  270220000.0        0.457411  Dow Jones Industrial  \n",
       "5  10089.709961  253140000.0       -1.456126  Dow Jones Industrial  \n",
       "6   9975.019531  372410000.0       -1.136707  Dow Jones Industrial  \n",
       "7  10142.980469  343710000.0        1.683816  Dow Jones Industrial  \n",
       "8  10226.589844  319750000.0        0.824308  Dow Jones Industrial  \n",
       "9  10271.719727  339180000.0        0.441299  Dow Jones Industrial  "
      ]
     },
     "execution_count": 31,
     "metadata": {},
     "output_type": "execute_result"
    }
   ],
   "source": [
    "All_exchanges.head(10)"
   ]
  },
  {
   "cell_type": "code",
   "execution_count": 32,
   "metadata": {},
   "outputs": [
    {
     "data": {
      "text/plain": [
       "(20178, 9)"
      ]
     },
     "execution_count": 32,
     "metadata": {},
     "output_type": "execute_result"
    }
   ],
   "source": [
    "All_exchanges.shape"
   ]
  },
  {
   "cell_type": "markdown",
   "metadata": {},
   "source": [
    "The data is unsorted by date. We must sort the values as well as reset the index due to duplicate index numbers"
   ]
  },
  {
   "cell_type": "code",
   "execution_count": 33,
   "metadata": {},
   "outputs": [],
   "source": [
    "All_exchanges.sort_values(by = ['Date','Index'], inplace=True)"
   ]
  },
  {
   "cell_type": "code",
   "execution_count": 34,
   "metadata": {},
   "outputs": [],
   "source": [
    "All_exchanges.reset_index(inplace=True, drop=True)"
   ]
  },
  {
   "cell_type": "markdown",
   "metadata": {},
   "source": [
    "Sanity check"
   ]
  },
  {
   "cell_type": "code",
   "execution_count": 35,
   "metadata": {},
   "outputs": [
    {
     "data": {
      "text/html": [
       "<div>\n",
       "<style scoped>\n",
       "    .dataframe tbody tr th:only-of-type {\n",
       "        vertical-align: middle;\n",
       "    }\n",
       "\n",
       "    .dataframe tbody tr th {\n",
       "        vertical-align: top;\n",
       "    }\n",
       "\n",
       "    .dataframe thead th {\n",
       "        text-align: right;\n",
       "    }\n",
       "</style>\n",
       "<table border=\"1\" class=\"dataframe\">\n",
       "  <thead>\n",
       "    <tr style=\"text-align: right;\">\n",
       "      <th></th>\n",
       "      <th>Date</th>\n",
       "      <th>Open</th>\n",
       "      <th>High</th>\n",
       "      <th>Low</th>\n",
       "      <th>Close</th>\n",
       "      <th>Adj Close</th>\n",
       "      <th>Volume</th>\n",
       "      <th>Percent Change</th>\n",
       "      <th>Index</th>\n",
       "    </tr>\n",
       "  </thead>\n",
       "  <tbody>\n",
       "    <tr>\n",
       "      <th>0</th>\n",
       "      <td>2000-10-10</td>\n",
       "      <td>10569.169922</td>\n",
       "      <td>10623.549805</td>\n",
       "      <td>10488.889648</td>\n",
       "      <td>10524.400391</td>\n",
       "      <td>10524.400391</td>\n",
       "      <td>212070000.0</td>\n",
       "      <td>-0.416612</td>\n",
       "      <td>Dow Jones Industrial</td>\n",
       "    </tr>\n",
       "    <tr>\n",
       "      <th>1</th>\n",
       "      <td>2000-10-10</td>\n",
       "      <td>1036.500000</td>\n",
       "      <td>1036.500000</td>\n",
       "      <td>1036.500000</td>\n",
       "      <td>1036.500000</td>\n",
       "      <td>1036.500000</td>\n",
       "      <td>0.0</td>\n",
       "      <td>0.408801</td>\n",
       "      <td>Euronext100</td>\n",
       "    </tr>\n",
       "    <tr>\n",
       "      <th>2</th>\n",
       "      <td>2000-10-10</td>\n",
       "      <td>15739.389648</td>\n",
       "      <td>15739.389648</td>\n",
       "      <td>15434.740234</td>\n",
       "      <td>15554.110352</td>\n",
       "      <td>15554.110352</td>\n",
       "      <td>0.0</td>\n",
       "      <td>-0.888200</td>\n",
       "      <td>Hang Seng</td>\n",
       "    </tr>\n",
       "    <tr>\n",
       "      <th>3</th>\n",
       "      <td>2000-10-11</td>\n",
       "      <td>10521.070313</td>\n",
       "      <td>10566.580078</td>\n",
       "      <td>10350.889648</td>\n",
       "      <td>10413.790039</td>\n",
       "      <td>10413.790039</td>\n",
       "      <td>324520000.0</td>\n",
       "      <td>-1.050990</td>\n",
       "      <td>Dow Jones Industrial</td>\n",
       "    </tr>\n",
       "    <tr>\n",
       "      <th>4</th>\n",
       "      <td>2000-10-11</td>\n",
       "      <td>1009.489990</td>\n",
       "      <td>1009.489990</td>\n",
       "      <td>1009.489990</td>\n",
       "      <td>1009.489990</td>\n",
       "      <td>1009.489990</td>\n",
       "      <td>0.0</td>\n",
       "      <td>-2.605886</td>\n",
       "      <td>Euronext100</td>\n",
       "    </tr>\n",
       "    <tr>\n",
       "      <th>5</th>\n",
       "      <td>2000-10-11</td>\n",
       "      <td>15376.620117</td>\n",
       "      <td>15376.620117</td>\n",
       "      <td>15073.950195</td>\n",
       "      <td>15127.000000</td>\n",
       "      <td>15127.000000</td>\n",
       "      <td>0.0</td>\n",
       "      <td>-2.745965</td>\n",
       "      <td>Hang Seng</td>\n",
       "    </tr>\n",
       "    <tr>\n",
       "      <th>6</th>\n",
       "      <td>2000-10-11</td>\n",
       "      <td>15795.150391</td>\n",
       "      <td>15795.150391</td>\n",
       "      <td>15424.709961</td>\n",
       "      <td>15513.570313</td>\n",
       "      <td>15513.570313</td>\n",
       "      <td>0.0</td>\n",
       "      <td>-1.984805</td>\n",
       "      <td>Nikkei 225</td>\n",
       "    </tr>\n",
       "    <tr>\n",
       "      <th>7</th>\n",
       "      <td>2000-10-12</td>\n",
       "      <td>10424.139648</td>\n",
       "      <td>10460.400391</td>\n",
       "      <td>10023.490234</td>\n",
       "      <td>10034.580078</td>\n",
       "      <td>10034.580078</td>\n",
       "      <td>367130000.0</td>\n",
       "      <td>-3.641421</td>\n",
       "      <td>Dow Jones Industrial</td>\n",
       "    </tr>\n",
       "    <tr>\n",
       "      <th>8</th>\n",
       "      <td>2000-10-12</td>\n",
       "      <td>1015.780029</td>\n",
       "      <td>1015.780029</td>\n",
       "      <td>1015.780029</td>\n",
       "      <td>1015.780029</td>\n",
       "      <td>1015.780029</td>\n",
       "      <td>0.0</td>\n",
       "      <td>0.623091</td>\n",
       "      <td>Euronext100</td>\n",
       "    </tr>\n",
       "    <tr>\n",
       "      <th>9</th>\n",
       "      <td>2000-10-12</td>\n",
       "      <td>15071.919922</td>\n",
       "      <td>15244.650391</td>\n",
       "      <td>14883.320313</td>\n",
       "      <td>15074.799805</td>\n",
       "      <td>15074.799805</td>\n",
       "      <td>0.0</td>\n",
       "      <td>-0.345080</td>\n",
       "      <td>Hang Seng</td>\n",
       "    </tr>\n",
       "  </tbody>\n",
       "</table>\n",
       "</div>"
      ],
      "text/plain": [
       "        Date          Open          High           Low         Close  \\\n",
       "0 2000-10-10  10569.169922  10623.549805  10488.889648  10524.400391   \n",
       "1 2000-10-10   1036.500000   1036.500000   1036.500000   1036.500000   \n",
       "2 2000-10-10  15739.389648  15739.389648  15434.740234  15554.110352   \n",
       "3 2000-10-11  10521.070313  10566.580078  10350.889648  10413.790039   \n",
       "4 2000-10-11   1009.489990   1009.489990   1009.489990   1009.489990   \n",
       "5 2000-10-11  15376.620117  15376.620117  15073.950195  15127.000000   \n",
       "6 2000-10-11  15795.150391  15795.150391  15424.709961  15513.570313   \n",
       "7 2000-10-12  10424.139648  10460.400391  10023.490234  10034.580078   \n",
       "8 2000-10-12   1015.780029   1015.780029   1015.780029   1015.780029   \n",
       "9 2000-10-12  15071.919922  15244.650391  14883.320313  15074.799805   \n",
       "\n",
       "      Adj Close       Volume  Percent Change                 Index  \n",
       "0  10524.400391  212070000.0       -0.416612  Dow Jones Industrial  \n",
       "1   1036.500000          0.0        0.408801           Euronext100  \n",
       "2  15554.110352          0.0       -0.888200             Hang Seng  \n",
       "3  10413.790039  324520000.0       -1.050990  Dow Jones Industrial  \n",
       "4   1009.489990          0.0       -2.605886           Euronext100  \n",
       "5  15127.000000          0.0       -2.745965             Hang Seng  \n",
       "6  15513.570313          0.0       -1.984805            Nikkei 225  \n",
       "7  10034.580078  367130000.0       -3.641421  Dow Jones Industrial  \n",
       "8   1015.780029          0.0        0.623091           Euronext100  \n",
       "9  15074.799805          0.0       -0.345080             Hang Seng  "
      ]
     },
     "execution_count": 35,
     "metadata": {},
     "output_type": "execute_result"
    }
   ],
   "source": [
    "All_exchanges.head(10)"
   ]
  },
  {
   "cell_type": "code",
   "execution_count": 36,
   "metadata": {},
   "outputs": [
    {
     "data": {
      "text/plain": [
       "array(['Dow Jones Industrial', 'Euronext100', 'Hang Seng', 'Nikkei 225'],\n",
       "      dtype=object)"
      ]
     },
     "execution_count": 36,
     "metadata": {},
     "output_type": "execute_result"
    }
   ],
   "source": [
    "All_exchanges['Index'].unique()"
   ]
  },
  {
   "cell_type": "code",
   "execution_count": 37,
   "metadata": {},
   "outputs": [
    {
     "data": {
      "text/html": [
       "<div>\n",
       "<style scoped>\n",
       "    .dataframe tbody tr th:only-of-type {\n",
       "        vertical-align: middle;\n",
       "    }\n",
       "\n",
       "    .dataframe tbody tr th {\n",
       "        vertical-align: top;\n",
       "    }\n",
       "\n",
       "    .dataframe thead th {\n",
       "        text-align: right;\n",
       "    }\n",
       "</style>\n",
       "<table border=\"1\" class=\"dataframe\">\n",
       "  <thead>\n",
       "    <tr style=\"text-align: right;\">\n",
       "      <th></th>\n",
       "      <th>Date</th>\n",
       "      <th>Open</th>\n",
       "      <th>High</th>\n",
       "      <th>Low</th>\n",
       "      <th>Close</th>\n",
       "      <th>Adj Close</th>\n",
       "      <th>Volume</th>\n",
       "      <th>Percent Change</th>\n",
       "      <th>Index</th>\n",
       "    </tr>\n",
       "  </thead>\n",
       "  <tbody>\n",
       "    <tr>\n",
       "      <th>20168</th>\n",
       "      <td>2020-10-05</td>\n",
       "      <td>23254.279297</td>\n",
       "      <td>23377.429688</td>\n",
       "      <td>23252.689453</td>\n",
       "      <td>23312.140625</td>\n",
       "      <td>23312.140625</td>\n",
       "      <td>5.950000e+04</td>\n",
       "      <td>1.225538</td>\n",
       "      <td>Nikkei 225</td>\n",
       "    </tr>\n",
       "    <tr>\n",
       "      <th>20169</th>\n",
       "      <td>2020-10-06</td>\n",
       "      <td>28214.240234</td>\n",
       "      <td>28354.480469</td>\n",
       "      <td>27728.029297</td>\n",
       "      <td>27772.759766</td>\n",
       "      <td>27772.759766</td>\n",
       "      <td>4.350300e+08</td>\n",
       "      <td>-1.335343</td>\n",
       "      <td>Dow Jones Industrial</td>\n",
       "    </tr>\n",
       "    <tr>\n",
       "      <th>20170</th>\n",
       "      <td>2020-10-06</td>\n",
       "      <td>977.750000</td>\n",
       "      <td>983.700012</td>\n",
       "      <td>971.280029</td>\n",
       "      <td>979.080017</td>\n",
       "      <td>979.080017</td>\n",
       "      <td>2.466716e+08</td>\n",
       "      <td>0.392722</td>\n",
       "      <td>Euronext100</td>\n",
       "    </tr>\n",
       "    <tr>\n",
       "      <th>20171</th>\n",
       "      <td>2020-10-06</td>\n",
       "      <td>23895.210938</td>\n",
       "      <td>24005.029297</td>\n",
       "      <td>23842.250000</td>\n",
       "      <td>23980.650391</td>\n",
       "      <td>23980.650391</td>\n",
       "      <td>1.325452e+09</td>\n",
       "      <td>0.895629</td>\n",
       "      <td>Hang Seng</td>\n",
       "    </tr>\n",
       "    <tr>\n",
       "      <th>20172</th>\n",
       "      <td>2020-10-06</td>\n",
       "      <td>23420.070313</td>\n",
       "      <td>23441.160156</td>\n",
       "      <td>23331.400391</td>\n",
       "      <td>23433.730469</td>\n",
       "      <td>23433.730469</td>\n",
       "      <td>5.770000e+04</td>\n",
       "      <td>0.521573</td>\n",
       "      <td>Nikkei 225</td>\n",
       "    </tr>\n",
       "    <tr>\n",
       "      <th>20173</th>\n",
       "      <td>2020-10-07</td>\n",
       "      <td>27971.359375</td>\n",
       "      <td>28369.660156</td>\n",
       "      <td>27971.359375</td>\n",
       "      <td>28303.460938</td>\n",
       "      <td>28303.460938</td>\n",
       "      <td>3.287500e+08</td>\n",
       "      <td>1.910869</td>\n",
       "      <td>Dow Jones Industrial</td>\n",
       "    </tr>\n",
       "    <tr>\n",
       "      <th>20174</th>\n",
       "      <td>2020-10-07</td>\n",
       "      <td>979.710022</td>\n",
       "      <td>983.119995</td>\n",
       "      <td>974.849976</td>\n",
       "      <td>978.059998</td>\n",
       "      <td>978.059998</td>\n",
       "      <td>2.322297e+08</td>\n",
       "      <td>-0.104181</td>\n",
       "      <td>Euronext100</td>\n",
       "    </tr>\n",
       "    <tr>\n",
       "      <th>20175</th>\n",
       "      <td>2020-10-07</td>\n",
       "      <td>23999.789063</td>\n",
       "      <td>24243.910156</td>\n",
       "      <td>23905.419922</td>\n",
       "      <td>24242.859375</td>\n",
       "      <td>24242.859375</td>\n",
       "      <td>1.537076e+09</td>\n",
       "      <td>1.093419</td>\n",
       "      <td>Hang Seng</td>\n",
       "    </tr>\n",
       "    <tr>\n",
       "      <th>20176</th>\n",
       "      <td>2020-10-07</td>\n",
       "      <td>23272.449219</td>\n",
       "      <td>23432.730469</td>\n",
       "      <td>23272.449219</td>\n",
       "      <td>23422.820313</td>\n",
       "      <td>23422.820313</td>\n",
       "      <td>5.210000e+04</td>\n",
       "      <td>-0.046557</td>\n",
       "      <td>Nikkei 225</td>\n",
       "    </tr>\n",
       "    <tr>\n",
       "      <th>20177</th>\n",
       "      <td>2020-10-08</td>\n",
       "      <td>23272.449219</td>\n",
       "      <td>23701.769531</td>\n",
       "      <td>23477.730469</td>\n",
       "      <td>23647.070313</td>\n",
       "      <td>23647.070313</td>\n",
       "      <td>0.000000e+00</td>\n",
       "      <td>0.957400</td>\n",
       "      <td>Nikkei 225</td>\n",
       "    </tr>\n",
       "  </tbody>\n",
       "</table>\n",
       "</div>"
      ],
      "text/plain": [
       "            Date          Open          High           Low         Close  \\\n",
       "20168 2020-10-05  23254.279297  23377.429688  23252.689453  23312.140625   \n",
       "20169 2020-10-06  28214.240234  28354.480469  27728.029297  27772.759766   \n",
       "20170 2020-10-06    977.750000    983.700012    971.280029    979.080017   \n",
       "20171 2020-10-06  23895.210938  24005.029297  23842.250000  23980.650391   \n",
       "20172 2020-10-06  23420.070313  23441.160156  23331.400391  23433.730469   \n",
       "20173 2020-10-07  27971.359375  28369.660156  27971.359375  28303.460938   \n",
       "20174 2020-10-07    979.710022    983.119995    974.849976    978.059998   \n",
       "20175 2020-10-07  23999.789063  24243.910156  23905.419922  24242.859375   \n",
       "20176 2020-10-07  23272.449219  23432.730469  23272.449219  23422.820313   \n",
       "20177 2020-10-08  23272.449219  23701.769531  23477.730469  23647.070313   \n",
       "\n",
       "          Adj Close        Volume  Percent Change                 Index  \n",
       "20168  23312.140625  5.950000e+04        1.225538            Nikkei 225  \n",
       "20169  27772.759766  4.350300e+08       -1.335343  Dow Jones Industrial  \n",
       "20170    979.080017  2.466716e+08        0.392722           Euronext100  \n",
       "20171  23980.650391  1.325452e+09        0.895629             Hang Seng  \n",
       "20172  23433.730469  5.770000e+04        0.521573            Nikkei 225  \n",
       "20173  28303.460938  3.287500e+08        1.910869  Dow Jones Industrial  \n",
       "20174    978.059998  2.322297e+08       -0.104181           Euronext100  \n",
       "20175  24242.859375  1.537076e+09        1.093419             Hang Seng  \n",
       "20176  23422.820313  5.210000e+04       -0.046557            Nikkei 225  \n",
       "20177  23647.070313  0.000000e+00        0.957400            Nikkei 225  "
      ]
     },
     "execution_count": 37,
     "metadata": {},
     "output_type": "execute_result"
    }
   ],
   "source": [
    "All_exchanges.tail(10)"
   ]
  },
  {
   "cell_type": "code",
   "execution_count": 38,
   "metadata": {},
   "outputs": [
    {
     "data": {
      "text/plain": [
       "Date                0\n",
       "Open              220\n",
       "High              220\n",
       "Low               220\n",
       "Close             220\n",
       "Adj Close         220\n",
       "Volume            220\n",
       "Percent Change      0\n",
       "Index               0\n",
       "dtype: int64"
      ]
     },
     "execution_count": 38,
     "metadata": {},
     "output_type": "execute_result"
    }
   ],
   "source": [
    "All_exchanges.isnull().sum()"
   ]
  },
  {
   "cell_type": "code",
   "execution_count": 39,
   "metadata": {},
   "outputs": [],
   "source": [
    "All_exchanges = All_exchanges.dropna()"
   ]
  },
  {
   "cell_type": "code",
   "execution_count": 40,
   "metadata": {},
   "outputs": [
    {
     "data": {
      "text/plain": [
       "Date              0\n",
       "Open              0\n",
       "High              0\n",
       "Low               0\n",
       "Close             0\n",
       "Adj Close         0\n",
       "Volume            0\n",
       "Percent Change    0\n",
       "Index             0\n",
       "dtype: int64"
      ]
     },
     "execution_count": 40,
     "metadata": {},
     "output_type": "execute_result"
    }
   ],
   "source": [
    "All_exchanges.isnull().sum()"
   ]
  },
  {
   "cell_type": "code",
   "execution_count": 41,
   "metadata": {},
   "outputs": [],
   "source": [
    "datapath = 'data'\n",
    "if not os.path.exists(datapath):\n",
    "    os.mkdir(datapath)"
   ]
  },
  {
   "cell_type": "code",
   "execution_count": 42,
   "metadata": {},
   "outputs": [],
   "source": [
    "datapath_all_exchanges = os.path.join(datapath, 'all_exchanges_data_cleaned.csv')\n",
    "if not os.path.exists(datapath_all_exchanges):\n",
    "    All_exchanges.to_csv(datapath_all_exchanges, index=False)"
   ]
  }
 ],
 "metadata": {
  "kernelspec": {
   "display_name": "Python 3",
   "language": "python",
   "name": "python3"
  },
  "language_info": {
   "codemirror_mode": {
    "name": "ipython",
    "version": 3
   },
   "file_extension": ".py",
   "mimetype": "text/x-python",
   "name": "python",
   "nbconvert_exporter": "python",
   "pygments_lexer": "ipython3",
   "version": "3.9.1"
  }
 },
 "nbformat": 4,
 "nbformat_minor": 4
}
