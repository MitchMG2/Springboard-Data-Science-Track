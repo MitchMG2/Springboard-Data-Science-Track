{
 "cells": [
  {
   "cell_type": "markdown",
   "metadata": {},
   "source": [
    "# Imports"
   ]
  },
  {
   "cell_type": "code",
   "execution_count": 25,
   "metadata": {
    "execution": {
     "iopub.execute_input": "2021-06-01T00:53:25.190553Z",
     "iopub.status.busy": "2021-06-01T00:53:25.190340Z",
     "iopub.status.idle": "2021-06-01T00:53:25.193528Z",
     "shell.execute_reply": "2021-06-01T00:53:25.192849Z",
     "shell.execute_reply.started": "2021-06-01T00:53:25.190530Z"
    },
    "tags": []
   },
   "outputs": [],
   "source": [
    "import pandas as pd\n",
    "import numpy as np\n",
    "import seaborn as sns\n",
    "import matplotlib.pyplot as plt"
   ]
  },
  {
   "cell_type": "code",
   "execution_count": 26,
   "metadata": {
    "execution": {
     "iopub.execute_input": "2021-06-01T00:53:25.546843Z",
     "iopub.status.busy": "2021-06-01T00:53:25.546661Z",
     "iopub.status.idle": "2021-06-01T00:53:25.560918Z",
     "shell.execute_reply": "2021-06-01T00:53:25.560005Z",
     "shell.execute_reply.started": "2021-06-01T00:53:25.546821Z"
    },
    "tags": []
   },
   "outputs": [],
   "source": [
    "df = pd.read_csv('data/winequalityN.csv')"
   ]
  },
  {
   "cell_type": "markdown",
   "metadata": {},
   "source": [
    "# Initial Exploratory Look at the Data"
   ]
  },
  {
   "cell_type": "code",
   "execution_count": 27,
   "metadata": {
    "execution": {
     "iopub.execute_input": "2021-06-01T00:53:25.940932Z",
     "iopub.status.busy": "2021-06-01T00:53:25.940714Z",
     "iopub.status.idle": "2021-06-01T00:53:25.968402Z",
     "shell.execute_reply": "2021-06-01T00:53:25.967982Z",
     "shell.execute_reply.started": "2021-06-01T00:53:25.940907Z"
    },
    "tags": []
   },
   "outputs": [
    {
     "data": {
      "text/html": [
       "<div>\n",
       "<style scoped>\n",
       "    .dataframe tbody tr th:only-of-type {\n",
       "        vertical-align: middle;\n",
       "    }\n",
       "\n",
       "    .dataframe tbody tr th {\n",
       "        vertical-align: top;\n",
       "    }\n",
       "\n",
       "    .dataframe thead th {\n",
       "        text-align: right;\n",
       "    }\n",
       "</style>\n",
       "<table border=\"1\" class=\"dataframe\">\n",
       "  <thead>\n",
       "    <tr style=\"text-align: right;\">\n",
       "      <th></th>\n",
       "      <th>type</th>\n",
       "      <th>fixed acidity</th>\n",
       "      <th>volatile acidity</th>\n",
       "      <th>citric acid</th>\n",
       "      <th>residual sugar</th>\n",
       "      <th>chlorides</th>\n",
       "      <th>free sulfur dioxide</th>\n",
       "      <th>total sulfur dioxide</th>\n",
       "      <th>density</th>\n",
       "      <th>pH</th>\n",
       "      <th>sulphates</th>\n",
       "      <th>alcohol</th>\n",
       "      <th>quality</th>\n",
       "    </tr>\n",
       "  </thead>\n",
       "  <tbody>\n",
       "    <tr>\n",
       "      <th>0</th>\n",
       "      <td>white</td>\n",
       "      <td>7.0</td>\n",
       "      <td>0.27</td>\n",
       "      <td>0.36</td>\n",
       "      <td>20.7</td>\n",
       "      <td>0.045</td>\n",
       "      <td>45.0</td>\n",
       "      <td>170.0</td>\n",
       "      <td>1.0010</td>\n",
       "      <td>3.00</td>\n",
       "      <td>0.45</td>\n",
       "      <td>8.8</td>\n",
       "      <td>6</td>\n",
       "    </tr>\n",
       "    <tr>\n",
       "      <th>1</th>\n",
       "      <td>white</td>\n",
       "      <td>6.3</td>\n",
       "      <td>0.30</td>\n",
       "      <td>0.34</td>\n",
       "      <td>1.6</td>\n",
       "      <td>0.049</td>\n",
       "      <td>14.0</td>\n",
       "      <td>132.0</td>\n",
       "      <td>0.9940</td>\n",
       "      <td>3.30</td>\n",
       "      <td>0.49</td>\n",
       "      <td>9.5</td>\n",
       "      <td>6</td>\n",
       "    </tr>\n",
       "    <tr>\n",
       "      <th>2</th>\n",
       "      <td>white</td>\n",
       "      <td>8.1</td>\n",
       "      <td>0.28</td>\n",
       "      <td>0.40</td>\n",
       "      <td>6.9</td>\n",
       "      <td>0.050</td>\n",
       "      <td>30.0</td>\n",
       "      <td>97.0</td>\n",
       "      <td>0.9951</td>\n",
       "      <td>3.26</td>\n",
       "      <td>0.44</td>\n",
       "      <td>10.1</td>\n",
       "      <td>6</td>\n",
       "    </tr>\n",
       "    <tr>\n",
       "      <th>3</th>\n",
       "      <td>white</td>\n",
       "      <td>7.2</td>\n",
       "      <td>0.23</td>\n",
       "      <td>0.32</td>\n",
       "      <td>8.5</td>\n",
       "      <td>0.058</td>\n",
       "      <td>47.0</td>\n",
       "      <td>186.0</td>\n",
       "      <td>0.9956</td>\n",
       "      <td>3.19</td>\n",
       "      <td>0.40</td>\n",
       "      <td>9.9</td>\n",
       "      <td>6</td>\n",
       "    </tr>\n",
       "    <tr>\n",
       "      <th>4</th>\n",
       "      <td>white</td>\n",
       "      <td>7.2</td>\n",
       "      <td>0.23</td>\n",
       "      <td>0.32</td>\n",
       "      <td>8.5</td>\n",
       "      <td>0.058</td>\n",
       "      <td>47.0</td>\n",
       "      <td>186.0</td>\n",
       "      <td>0.9956</td>\n",
       "      <td>3.19</td>\n",
       "      <td>0.40</td>\n",
       "      <td>9.9</td>\n",
       "      <td>6</td>\n",
       "    </tr>\n",
       "  </tbody>\n",
       "</table>\n",
       "</div>"
      ],
      "text/plain": [
       "    type  fixed acidity  volatile acidity  citric acid  residual sugar  ...  density    pH  sulphates  alcohol  quality\n",
       "0  white            7.0              0.27         0.36            20.7  ...   1.0010  3.00       0.45      8.8        6\n",
       "1  white            6.3              0.30         0.34             1.6  ...   0.9940  3.30       0.49      9.5        6\n",
       "2  white            8.1              0.28         0.40             6.9  ...   0.9951  3.26       0.44     10.1        6\n",
       "3  white            7.2              0.23         0.32             8.5  ...   0.9956  3.19       0.40      9.9        6\n",
       "4  white            7.2              0.23         0.32             8.5  ...   0.9956  3.19       0.40      9.9        6\n",
       "\n",
       "[5 rows x 13 columns]"
      ]
     },
     "execution_count": 27,
     "metadata": {},
     "output_type": "execute_result"
    }
   ],
   "source": [
    "df.head(5)"
   ]
  },
  {
   "cell_type": "code",
   "execution_count": 28,
   "metadata": {
    "execution": {
     "iopub.execute_input": "2021-06-01T00:53:26.814158Z",
     "iopub.status.busy": "2021-06-01T00:53:26.813987Z",
     "iopub.status.idle": "2021-06-01T00:53:26.816839Z",
     "shell.execute_reply": "2021-06-01T00:53:26.816512Z",
     "shell.execute_reply.started": "2021-06-01T00:53:26.814140Z"
    },
    "tags": []
   },
   "outputs": [
    {
     "data": {
      "text/plain": [
       "(6497, 13)"
      ]
     },
     "execution_count": 28,
     "metadata": {},
     "output_type": "execute_result"
    }
   ],
   "source": [
    "df.shape"
   ]
  },
  {
   "cell_type": "markdown",
   "metadata": {},
   "source": [
    "## Correlations"
   ]
  },
  {
   "cell_type": "code",
   "execution_count": 42,
   "metadata": {
    "execution": {
     "iopub.execute_input": "2021-06-01T00:58:33.945589Z",
     "iopub.status.busy": "2021-06-01T00:58:33.945399Z",
     "iopub.status.idle": "2021-06-01T00:58:33.967180Z",
     "shell.execute_reply": "2021-06-01T00:58:33.966833Z",
     "shell.execute_reply.started": "2021-06-01T00:58:33.945562Z"
    }
   },
   "outputs": [
    {
     "data": {
      "text/html": [
       "<div>\n",
       "<style scoped>\n",
       "    .dataframe tbody tr th:only-of-type {\n",
       "        vertical-align: middle;\n",
       "    }\n",
       "\n",
       "    .dataframe tbody tr th {\n",
       "        vertical-align: top;\n",
       "    }\n",
       "\n",
       "    .dataframe thead th {\n",
       "        text-align: right;\n",
       "    }\n",
       "</style>\n",
       "<table border=\"1\" class=\"dataframe\">\n",
       "  <thead>\n",
       "    <tr style=\"text-align: right;\">\n",
       "      <th></th>\n",
       "      <th>fixed acidity</th>\n",
       "      <th>volatile acidity</th>\n",
       "      <th>citric acid</th>\n",
       "      <th>residual sugar</th>\n",
       "      <th>chlorides</th>\n",
       "      <th>free sulfur dioxide</th>\n",
       "      <th>total sulfur dioxide</th>\n",
       "      <th>density</th>\n",
       "      <th>pH</th>\n",
       "      <th>sulphates</th>\n",
       "      <th>alcohol</th>\n",
       "      <th>quality</th>\n",
       "    </tr>\n",
       "  </thead>\n",
       "  <tbody>\n",
       "    <tr>\n",
       "      <th>fixed acidity</th>\n",
       "      <td>1.000000</td>\n",
       "      <td>0.220172</td>\n",
       "      <td>0.323736</td>\n",
       "      <td>-0.112319</td>\n",
       "      <td>0.298421</td>\n",
       "      <td>-0.283317</td>\n",
       "      <td>-0.329747</td>\n",
       "      <td>0.459204</td>\n",
       "      <td>-0.251814</td>\n",
       "      <td>0.300380</td>\n",
       "      <td>-0.095603</td>\n",
       "      <td>-0.077031</td>\n",
       "    </tr>\n",
       "    <tr>\n",
       "      <th>volatile acidity</th>\n",
       "      <td>0.220172</td>\n",
       "      <td>1.000000</td>\n",
       "      <td>-0.378061</td>\n",
       "      <td>-0.196702</td>\n",
       "      <td>0.377167</td>\n",
       "      <td>-0.353230</td>\n",
       "      <td>-0.414928</td>\n",
       "      <td>0.271193</td>\n",
       "      <td>0.260660</td>\n",
       "      <td>0.225476</td>\n",
       "      <td>-0.038248</td>\n",
       "      <td>-0.265953</td>\n",
       "    </tr>\n",
       "    <tr>\n",
       "      <th>citric acid</th>\n",
       "      <td>0.323736</td>\n",
       "      <td>-0.378061</td>\n",
       "      <td>1.000000</td>\n",
       "      <td>0.142486</td>\n",
       "      <td>0.039315</td>\n",
       "      <td>0.133437</td>\n",
       "      <td>0.195218</td>\n",
       "      <td>0.096320</td>\n",
       "      <td>-0.328689</td>\n",
       "      <td>0.057613</td>\n",
       "      <td>-0.010433</td>\n",
       "      <td>0.085706</td>\n",
       "    </tr>\n",
       "    <tr>\n",
       "      <th>residual sugar</th>\n",
       "      <td>-0.112319</td>\n",
       "      <td>-0.196702</td>\n",
       "      <td>0.142486</td>\n",
       "      <td>1.000000</td>\n",
       "      <td>-0.128902</td>\n",
       "      <td>0.403439</td>\n",
       "      <td>0.495820</td>\n",
       "      <td>0.552498</td>\n",
       "      <td>-0.267050</td>\n",
       "      <td>-0.185745</td>\n",
       "      <td>-0.359706</td>\n",
       "      <td>-0.036825</td>\n",
       "    </tr>\n",
       "    <tr>\n",
       "      <th>chlorides</th>\n",
       "      <td>0.298421</td>\n",
       "      <td>0.377167</td>\n",
       "      <td>0.039315</td>\n",
       "      <td>-0.128902</td>\n",
       "      <td>1.000000</td>\n",
       "      <td>-0.195042</td>\n",
       "      <td>-0.279580</td>\n",
       "      <td>0.362594</td>\n",
       "      <td>0.044806</td>\n",
       "      <td>0.395332</td>\n",
       "      <td>-0.256861</td>\n",
       "      <td>-0.200886</td>\n",
       "    </tr>\n",
       "    <tr>\n",
       "      <th>free sulfur dioxide</th>\n",
       "      <td>-0.283317</td>\n",
       "      <td>-0.353230</td>\n",
       "      <td>0.133437</td>\n",
       "      <td>0.403439</td>\n",
       "      <td>-0.195042</td>\n",
       "      <td>1.000000</td>\n",
       "      <td>0.720934</td>\n",
       "      <td>0.025717</td>\n",
       "      <td>-0.145191</td>\n",
       "      <td>-0.188489</td>\n",
       "      <td>-0.179838</td>\n",
       "      <td>0.055463</td>\n",
       "    </tr>\n",
       "    <tr>\n",
       "      <th>total sulfur dioxide</th>\n",
       "      <td>-0.329747</td>\n",
       "      <td>-0.414928</td>\n",
       "      <td>0.195218</td>\n",
       "      <td>0.495820</td>\n",
       "      <td>-0.279580</td>\n",
       "      <td>0.720934</td>\n",
       "      <td>1.000000</td>\n",
       "      <td>0.032395</td>\n",
       "      <td>-0.237687</td>\n",
       "      <td>-0.275381</td>\n",
       "      <td>-0.265740</td>\n",
       "      <td>-0.041385</td>\n",
       "    </tr>\n",
       "    <tr>\n",
       "      <th>density</th>\n",
       "      <td>0.459204</td>\n",
       "      <td>0.271193</td>\n",
       "      <td>0.096320</td>\n",
       "      <td>0.552498</td>\n",
       "      <td>0.362594</td>\n",
       "      <td>0.025717</td>\n",
       "      <td>0.032395</td>\n",
       "      <td>1.000000</td>\n",
       "      <td>0.011920</td>\n",
       "      <td>0.259454</td>\n",
       "      <td>-0.686745</td>\n",
       "      <td>-0.305858</td>\n",
       "    </tr>\n",
       "    <tr>\n",
       "      <th>pH</th>\n",
       "      <td>-0.251814</td>\n",
       "      <td>0.260660</td>\n",
       "      <td>-0.328689</td>\n",
       "      <td>-0.267050</td>\n",
       "      <td>0.044806</td>\n",
       "      <td>-0.145191</td>\n",
       "      <td>-0.237687</td>\n",
       "      <td>0.011920</td>\n",
       "      <td>1.000000</td>\n",
       "      <td>0.191248</td>\n",
       "      <td>0.121002</td>\n",
       "      <td>0.019366</td>\n",
       "    </tr>\n",
       "    <tr>\n",
       "      <th>sulphates</th>\n",
       "      <td>0.300380</td>\n",
       "      <td>0.225476</td>\n",
       "      <td>0.057613</td>\n",
       "      <td>-0.185745</td>\n",
       "      <td>0.395332</td>\n",
       "      <td>-0.188489</td>\n",
       "      <td>-0.275381</td>\n",
       "      <td>0.259454</td>\n",
       "      <td>0.191248</td>\n",
       "      <td>1.000000</td>\n",
       "      <td>-0.003261</td>\n",
       "      <td>0.038729</td>\n",
       "    </tr>\n",
       "    <tr>\n",
       "      <th>alcohol</th>\n",
       "      <td>-0.095603</td>\n",
       "      <td>-0.038248</td>\n",
       "      <td>-0.010433</td>\n",
       "      <td>-0.359706</td>\n",
       "      <td>-0.256861</td>\n",
       "      <td>-0.179838</td>\n",
       "      <td>-0.265740</td>\n",
       "      <td>-0.686745</td>\n",
       "      <td>0.121002</td>\n",
       "      <td>-0.003261</td>\n",
       "      <td>1.000000</td>\n",
       "      <td>0.444319</td>\n",
       "    </tr>\n",
       "    <tr>\n",
       "      <th>quality</th>\n",
       "      <td>-0.077031</td>\n",
       "      <td>-0.265953</td>\n",
       "      <td>0.085706</td>\n",
       "      <td>-0.036825</td>\n",
       "      <td>-0.200886</td>\n",
       "      <td>0.055463</td>\n",
       "      <td>-0.041385</td>\n",
       "      <td>-0.305858</td>\n",
       "      <td>0.019366</td>\n",
       "      <td>0.038729</td>\n",
       "      <td>0.444319</td>\n",
       "      <td>1.000000</td>\n",
       "    </tr>\n",
       "  </tbody>\n",
       "</table>\n",
       "</div>"
      ],
      "text/plain": [
       "                      fixed acidity  volatile acidity  citric acid  residual sugar  ...        pH  sulphates   alcohol   quality\n",
       "fixed acidity              1.000000          0.220172     0.323736       -0.112319  ... -0.251814   0.300380 -0.095603 -0.077031\n",
       "volatile acidity           0.220172          1.000000    -0.378061       -0.196702  ...  0.260660   0.225476 -0.038248 -0.265953\n",
       "citric acid                0.323736         -0.378061     1.000000        0.142486  ... -0.328689   0.057613 -0.010433  0.085706\n",
       "residual sugar            -0.112319         -0.196702     0.142486        1.000000  ... -0.267050  -0.185745 -0.359706 -0.036825\n",
       "chlorides                  0.298421          0.377167     0.039315       -0.128902  ...  0.044806   0.395332 -0.256861 -0.200886\n",
       "free sulfur dioxide       -0.283317         -0.353230     0.133437        0.403439  ... -0.145191  -0.188489 -0.179838  0.055463\n",
       "total sulfur dioxide      -0.329747         -0.414928     0.195218        0.495820  ... -0.237687  -0.275381 -0.265740 -0.041385\n",
       "density                    0.459204          0.271193     0.096320        0.552498  ...  0.011920   0.259454 -0.686745 -0.305858\n",
       "pH                        -0.251814          0.260660    -0.328689       -0.267050  ...  1.000000   0.191248  0.121002  0.019366\n",
       "sulphates                  0.300380          0.225476     0.057613       -0.185745  ...  0.191248   1.000000 -0.003261  0.038729\n",
       "alcohol                   -0.095603         -0.038248    -0.010433       -0.359706  ...  0.121002  -0.003261  1.000000  0.444319\n",
       "quality                   -0.077031         -0.265953     0.085706       -0.036825  ...  0.019366   0.038729  0.444319  1.000000\n",
       "\n",
       "[12 rows x 12 columns]"
      ]
     },
     "execution_count": 42,
     "metadata": {},
     "output_type": "execute_result"
    }
   ],
   "source": [
    "df.corr()"
   ]
  },
  {
   "cell_type": "code",
   "execution_count": 29,
   "metadata": {
    "execution": {
     "iopub.execute_input": "2021-06-01T00:53:27.862764Z",
     "iopub.status.busy": "2021-06-01T00:53:27.862467Z",
     "iopub.status.idle": "2021-06-01T00:53:28.045997Z",
     "shell.execute_reply": "2021-06-01T00:53:28.045593Z",
     "shell.execute_reply.started": "2021-06-01T00:53:27.862721Z"
    },
    "tags": []
   },
   "outputs": [
    {
     "data": {
      "text/plain": [
       "<AxesSubplot:>"
      ]
     },
     "execution_count": 29,
     "metadata": {},
     "output_type": "execute_result"
    },
    {
     "data": {
      "image/png": "[encoded data removed]",
      "text/plain": [
       "<Figure size 432x288 with 2 Axes>"
      ]
     },
     "metadata": {
      "needs_background": "light"
     },
     "output_type": "display_data"
    }
   ],
   "source": [
    "sns.heatmap(df.corr())"
   ]
  },
  {
   "cell_type": "markdown",
   "metadata": {
    "execution": {
     "iopub.execute_input": "2021-06-01T01:01:03.720708Z",
     "iopub.status.busy": "2021-06-01T01:01:03.720519Z",
     "iopub.status.idle": "2021-06-01T01:01:03.724070Z",
     "shell.execute_reply": "2021-06-01T01:01:03.723405Z",
     "shell.execute_reply.started": "2021-06-01T01:01:03.720688Z"
    }
   },
   "source": [
    "Wine Quality is negatively correlated to density, volatile acidity, chlorides, and positively correlated to alcohol (people like to get drunk!)"
   ]
  },
  {
   "cell_type": "markdown",
   "metadata": {
    "execution": {
     "iopub.execute_input": "2021-06-01T00:54:27.903066Z",
     "iopub.status.busy": "2021-06-01T00:54:27.902896Z",
     "iopub.status.idle": "2021-06-01T00:54:27.907033Z",
     "shell.execute_reply": "2021-06-01T00:54:27.906678Z",
     "shell.execute_reply.started": "2021-06-01T00:54:27.903048Z"
    },
    "tags": []
   },
   "source": [
    "## Distributions of the Features"
   ]
  },
  {
   "cell_type": "code",
   "execution_count": 36,
   "metadata": {
    "execution": {
     "iopub.execute_input": "2021-06-01T00:54:59.012885Z",
     "iopub.status.busy": "2021-06-01T00:54:59.012709Z",
     "iopub.status.idle": "2021-06-01T00:55:01.708378Z",
     "shell.execute_reply": "2021-06-01T00:55:01.707992Z",
     "shell.execute_reply.started": "2021-06-01T00:54:59.012864Z"
    },
    "tags": []
   },
   "outputs": [
    {
     "data": {
      "text/plain": [
       "<Figure size 432x288 with 0 Axes>"
      ]
     },
     "metadata": {},
     "output_type": "display_data"
    },
    {
     "data": {
      "image/png": "[encoded data removed]",
      "text/plain": [
       "<Figure size 360x360 with 1 Axes>"
      ]
     },
     "metadata": {
      "needs_background": "light"
     },
     "output_type": "display_data"
    },
    {
     "data": {
      "image/png": "[encoded data removed]",
      "text/plain": [
       "<Figure size 360x360 with 1 Axes>"
      ]
     },
     "metadata": {
      "needs_background": "light"
     },
     "output_type": "display_data"
    },
    {
     "data": {
      "image/png": "[encoded data removed]",
      "text/plain": [
       "<Figure size 360x360 with 1 Axes>"
      ]
     },
     "metadata": {
      "needs_background": "light"
     },
     "output_type": "display_data"
    },
    {
     "data": {
      "image/png": "[encoded data removed]",
      "text/plain": [
       "<Figure size 360x360 with 1 Axes>"
      ]
     },
     "metadata": {
      "needs_background": "light"
     },
     "output_type": "display_data"
    },
    {
     "data": {
      "image/png": "[encoded data removed]",
      "text/plain": [
       "<Figure size 360x360 with 1 Axes>"
      ]
     },
     "metadata": {
      "needs_background": "light"
     },
     "output_type": "display_data"
    },
    {
     "data": {
      "image/png": "[encoded data removed]",
      "text/plain": [
       "<Figure size 360x360 with 1 Axes>"
      ]
     },
     "metadata": {
      "needs_background": "light"
     },
     "output_type": "display_data"
    },
    {
     "data": {
      "image/png": "[encoded data removed]",
      "text/plain": [
       "<Figure size 360x360 with 1 Axes>"
      ]
     },
     "metadata": {
      "needs_background": "light"
     },
     "output_type": "display_data"
    },
    {
     "data": {
      "image/png": "[encoded data removed]",
      "text/plain": [
       "<Figure size 360x360 with 1 Axes>"
      ]
     },
     "metadata": {
      "needs_background": "light"
     },
     "output_type": "display_data"
    },
    {
     "data": {
      "image/png": "[encoded data removed]",
      "text/plain": [
       "<Figure size 360x360 with 1 Axes>"
      ]
     },
     "metadata": {
      "needs_background": "light"
     },
     "output_type": "display_data"
    },
    {
     "data": {
      "image/png": "[encoded data removed]",
      "text/plain": [
       "<Figure size 360x360 with 1 Axes>"
      ]
     },
     "metadata": {
      "needs_background": "light"
     },
     "output_type": "display_data"
    },
    {
     "data": {
      "image/png": "[encoded data removed]",
      "text/plain": [
       "<Figure size 360x360 with 1 Axes>"
      ]
     },
     "metadata": {
      "needs_background": "light"
     },
     "output_type": "display_data"
    },
    {
     "data": {
      "image/png": "[encoded data removed]",
      "text/plain": [
       "<Figure size 360x360 with 1 Axes>"
      ]
     },
     "metadata": {
      "needs_background": "light"
     },
     "output_type": "display_data"
    }
   ],
   "source": [
    "for i, col in enumerate(df.drop(['type'], axis=1).columns):\n",
    "    plt.figure(i)\n",
    "    sns.displot(df[col])"
   ]
  },
  {
   "cell_type": "code",
   "execution_count": 58,
   "metadata": {
    "execution": {
     "iopub.execute_input": "2021-06-01T01:06:46.666680Z",
     "iopub.status.busy": "2021-06-01T01:06:46.666379Z",
     "iopub.status.idle": "2021-06-01T01:06:46.735631Z",
     "shell.execute_reply": "2021-06-01T01:06:46.735142Z",
     "shell.execute_reply.started": "2021-06-01T01:06:46.666655Z"
    },
    "tags": []
   },
   "outputs": [
    {
     "name": "stderr",
     "output_type": "stream",
     "text": [
      "/usr/lib/python3.9/site-packages/seaborn/_decorators.py:36: FutureWarning: Pass the following variable as a keyword arg: x. From version 0.12, the only valid positional argument will be `data`, and passing other arguments without an explicit keyword will result in an error or misinterpretation.\n",
      "  warnings.warn(\n"
     ]
    },
    {
     "data": {
      "text/plain": [
       "<AxesSubplot:xlabel='type', ylabel='count'>"
      ]
     },
     "execution_count": 58,
     "metadata": {},
     "output_type": "execute_result"
    },
    {
     "data": {
      "image/png": "[encoded data removed]",
      "text/plain": [
       "<Figure size 432x288 with 1 Axes>"
      ]
     },
     "metadata": {
      "needs_background": "light"
     },
     "output_type": "display_data"
    }
   ],
   "source": [
    "sns.countplot(df['type'])"
   ]
  },
  {
   "cell_type": "markdown",
   "metadata": {},
   "source": [
    "### NaN Values"
   ]
  },
  {
   "cell_type": "code",
   "execution_count": 41,
   "metadata": {
    "execution": {
     "iopub.execute_input": "2021-06-01T00:57:54.780584Z",
     "iopub.status.busy": "2021-06-01T00:57:54.780366Z",
     "iopub.status.idle": "2021-06-01T00:57:54.786724Z",
     "shell.execute_reply": "2021-06-01T00:57:54.786235Z",
     "shell.execute_reply.started": "2021-06-01T00:57:54.780553Z"
    },
    "tags": []
   },
   "outputs": [
    {
     "data": {
      "text/plain": [
       "type                     0\n",
       "fixed acidity           10\n",
       "volatile acidity         8\n",
       "citric acid              3\n",
       "residual sugar           2\n",
       "chlorides                2\n",
       "free sulfur dioxide      0\n",
       "total sulfur dioxide     0\n",
       "density                  0\n",
       "pH                       9\n",
       "sulphates                4\n",
       "alcohol                  0\n",
       "quality                  0\n",
       "dtype: int64"
      ]
     },
     "execution_count": 41,
     "metadata": {},
     "output_type": "execute_result"
    }
   ],
   "source": [
    "df.isna().sum()"
   ]
  },
  {
   "cell_type": "markdown",
   "metadata": {},
   "source": [
    "At less than 10 NaN values per feature, in a dataset of over 6,400 rows, it is not worth dealing with them at the moment. Especially considering that this is just storytelling and not a full on modeling notebook."
   ]
  },
  {
   "cell_type": "markdown",
   "metadata": {},
   "source": [
    "## Explore the Correlations Suggested by the Heatmap"
   ]
  },
  {
   "cell_type": "markdown",
   "metadata": {},
   "source": [
    "Get descriptive statistics of the features, mean and 50% are the interesting metrics."
   ]
  },
  {
   "cell_type": "code",
   "execution_count": 56,
   "metadata": {
    "execution": {
     "iopub.execute_input": "2021-06-01T01:05:54.056243Z",
     "iopub.status.busy": "2021-06-01T01:05:54.056068Z",
     "iopub.status.idle": "2021-06-01T01:05:54.096886Z",
     "shell.execute_reply": "2021-06-01T01:05:54.096431Z",
     "shell.execute_reply.started": "2021-06-01T01:05:54.056226Z"
    }
   },
   "outputs": [
    {
     "data": {
      "text/html": [
       "<div>\n",
       "<style scoped>\n",
       "    .dataframe tbody tr th:only-of-type {\n",
       "        vertical-align: middle;\n",
       "    }\n",
       "\n",
       "    .dataframe tbody tr th {\n",
       "        vertical-align: top;\n",
       "    }\n",
       "\n",
       "    .dataframe thead th {\n",
       "        text-align: right;\n",
       "    }\n",
       "</style>\n",
       "<table border=\"1\" class=\"dataframe\">\n",
       "  <thead>\n",
       "    <tr style=\"text-align: right;\">\n",
       "      <th></th>\n",
       "      <th>fixed acidity</th>\n",
       "      <th>volatile acidity</th>\n",
       "      <th>citric acid</th>\n",
       "      <th>residual sugar</th>\n",
       "      <th>chlorides</th>\n",
       "      <th>free sulfur dioxide</th>\n",
       "      <th>total sulfur dioxide</th>\n",
       "      <th>density</th>\n",
       "      <th>pH</th>\n",
       "      <th>sulphates</th>\n",
       "      <th>alcohol</th>\n",
       "      <th>quality</th>\n",
       "    </tr>\n",
       "  </thead>\n",
       "  <tbody>\n",
       "    <tr>\n",
       "      <th>count</th>\n",
       "      <td>6487.000000</td>\n",
       "      <td>6489.000000</td>\n",
       "      <td>6494.000000</td>\n",
       "      <td>6495.000000</td>\n",
       "      <td>6495.000000</td>\n",
       "      <td>6497.000000</td>\n",
       "      <td>6497.000000</td>\n",
       "      <td>6497.000000</td>\n",
       "      <td>6488.000000</td>\n",
       "      <td>6493.000000</td>\n",
       "      <td>6497.000000</td>\n",
       "      <td>6497.000000</td>\n",
       "    </tr>\n",
       "    <tr>\n",
       "      <th>mean</th>\n",
       "      <td>7.216579</td>\n",
       "      <td>0.339691</td>\n",
       "      <td>0.318722</td>\n",
       "      <td>5.444326</td>\n",
       "      <td>0.056042</td>\n",
       "      <td>30.525319</td>\n",
       "      <td>115.744574</td>\n",
       "      <td>0.994697</td>\n",
       "      <td>3.218395</td>\n",
       "      <td>0.531215</td>\n",
       "      <td>10.491801</td>\n",
       "      <td>5.818378</td>\n",
       "    </tr>\n",
       "    <tr>\n",
       "      <th>std</th>\n",
       "      <td>1.296750</td>\n",
       "      <td>0.164649</td>\n",
       "      <td>0.145265</td>\n",
       "      <td>4.758125</td>\n",
       "      <td>0.035036</td>\n",
       "      <td>17.749400</td>\n",
       "      <td>56.521855</td>\n",
       "      <td>0.002999</td>\n",
       "      <td>0.160748</td>\n",
       "      <td>0.148814</td>\n",
       "      <td>1.192712</td>\n",
       "      <td>0.873255</td>\n",
       "    </tr>\n",
       "    <tr>\n",
       "      <th>min</th>\n",
       "      <td>3.800000</td>\n",
       "      <td>0.080000</td>\n",
       "      <td>0.000000</td>\n",
       "      <td>0.600000</td>\n",
       "      <td>0.009000</td>\n",
       "      <td>1.000000</td>\n",
       "      <td>6.000000</td>\n",
       "      <td>0.987110</td>\n",
       "      <td>2.720000</td>\n",
       "      <td>0.220000</td>\n",
       "      <td>8.000000</td>\n",
       "      <td>3.000000</td>\n",
       "    </tr>\n",
       "    <tr>\n",
       "      <th>25%</th>\n",
       "      <td>6.400000</td>\n",
       "      <td>0.230000</td>\n",
       "      <td>0.250000</td>\n",
       "      <td>1.800000</td>\n",
       "      <td>0.038000</td>\n",
       "      <td>17.000000</td>\n",
       "      <td>77.000000</td>\n",
       "      <td>0.992340</td>\n",
       "      <td>3.110000</td>\n",
       "      <td>0.430000</td>\n",
       "      <td>9.500000</td>\n",
       "      <td>5.000000</td>\n",
       "    </tr>\n",
       "    <tr>\n",
       "      <th>50%</th>\n",
       "      <td>7.000000</td>\n",
       "      <td>0.290000</td>\n",
       "      <td>0.310000</td>\n",
       "      <td>3.000000</td>\n",
       "      <td>0.047000</td>\n",
       "      <td>29.000000</td>\n",
       "      <td>118.000000</td>\n",
       "      <td>0.994890</td>\n",
       "      <td>3.210000</td>\n",
       "      <td>0.510000</td>\n",
       "      <td>10.300000</td>\n",
       "      <td>6.000000</td>\n",
       "    </tr>\n",
       "    <tr>\n",
       "      <th>75%</th>\n",
       "      <td>7.700000</td>\n",
       "      <td>0.400000</td>\n",
       "      <td>0.390000</td>\n",
       "      <td>8.100000</td>\n",
       "      <td>0.065000</td>\n",
       "      <td>41.000000</td>\n",
       "      <td>156.000000</td>\n",
       "      <td>0.996990</td>\n",
       "      <td>3.320000</td>\n",
       "      <td>0.600000</td>\n",
       "      <td>11.300000</td>\n",
       "      <td>6.000000</td>\n",
       "    </tr>\n",
       "    <tr>\n",
       "      <th>max</th>\n",
       "      <td>15.900000</td>\n",
       "      <td>1.580000</td>\n",
       "      <td>1.660000</td>\n",
       "      <td>65.800000</td>\n",
       "      <td>0.611000</td>\n",
       "      <td>289.000000</td>\n",
       "      <td>440.000000</td>\n",
       "      <td>1.038980</td>\n",
       "      <td>4.010000</td>\n",
       "      <td>2.000000</td>\n",
       "      <td>14.900000</td>\n",
       "      <td>9.000000</td>\n",
       "    </tr>\n",
       "  </tbody>\n",
       "</table>\n",
       "</div>"
      ],
      "text/plain": [
       "       fixed acidity  volatile acidity  citric acid  residual sugar  ...           pH    sulphates      alcohol      quality\n",
       "count    6487.000000       6489.000000  6494.000000     6495.000000  ...  6488.000000  6493.000000  6497.000000  6497.000000\n",
       "mean        7.216579          0.339691     0.318722        5.444326  ...     3.218395     0.531215    10.491801     5.818378\n",
       "std         1.296750          0.164649     0.145265        4.758125  ...     0.160748     0.148814     1.192712     0.873255\n",
       "min         3.800000          0.080000     0.000000        0.600000  ...     2.720000     0.220000     8.000000     3.000000\n",
       "25%         6.400000          0.230000     0.250000        1.800000  ...     3.110000     0.430000     9.500000     5.000000\n",
       "50%         7.000000          0.290000     0.310000        3.000000  ...     3.210000     0.510000    10.300000     6.000000\n",
       "75%         7.700000          0.400000     0.390000        8.100000  ...     3.320000     0.600000    11.300000     6.000000\n",
       "max        15.900000          1.580000     1.660000       65.800000  ...     4.010000     2.000000    14.900000     9.000000\n",
       "\n",
       "[8 rows x 12 columns]"
      ]
     },
     "execution_count": 56,
     "metadata": {},
     "output_type": "execute_result"
    }
   ],
   "source": [
    "df.describe()"
   ]
  },
  {
   "cell_type": "markdown",
   "metadata": {},
   "source": [
    "Lets Use Mean"
   ]
  },
  {
   "cell_type": "markdown",
   "metadata": {},
   "source": [
    "Mean for alcohol is 10.49, Density is .9947, Volatile Acidity is .3397, chlorides is 0.056"
   ]
  },
  {
   "cell_type": "markdown",
   "metadata": {},
   "source": [
    "Lets recap Wine quality value counts as reference against the histogram plots"
   ]
  },
  {
   "cell_type": "code",
   "execution_count": 59,
   "metadata": {
    "execution": {
     "iopub.execute_input": "2021-06-01T01:07:44.943386Z",
     "iopub.status.busy": "2021-06-01T01:07:44.943184Z",
     "iopub.status.idle": "2021-06-01T01:07:44.948353Z",
     "shell.execute_reply": "2021-06-01T01:07:44.948004Z",
     "shell.execute_reply.started": "2021-06-01T01:07:44.943365Z"
    }
   },
   "outputs": [
    {
     "data": {
      "text/plain": [
       "6    2836\n",
       "5    2138\n",
       "7    1079\n",
       "4     216\n",
       "8     193\n",
       "3      30\n",
       "9       5\n",
       "Name: quality, dtype: int64"
      ]
     },
     "execution_count": 59,
     "metadata": {},
     "output_type": "execute_result"
    }
   ],
   "source": [
    "df['quality'].value_counts()"
   ]
  },
  {
   "cell_type": "markdown",
   "metadata": {},
   "source": [
    "### Alcohol"
   ]
  },
  {
   "cell_type": "code",
   "execution_count": 98,
   "metadata": {
    "execution": {
     "iopub.execute_input": "2021-06-01T01:40:42.625019Z",
     "iopub.status.busy": "2021-06-01T01:40:42.624868Z",
     "iopub.status.idle": "2021-06-01T01:40:42.722108Z",
     "shell.execute_reply": "2021-06-01T01:40:42.719973Z",
     "shell.execute_reply.started": "2021-06-01T01:40:42.625004Z"
    },
    "tags": []
   },
   "outputs": [
    {
     "data": {
      "text/plain": [
       "Text(0.5, 1.0, 'Quality perception when Alcohol is below the mean')"
      ]
     },
     "execution_count": 98,
     "metadata": {},
     "output_type": "execute_result"
    },
    {
     "data": {
      "image/png": "[encoded data removed]",
      "text/plain": [
       "<Figure size 432x288 with 1 Axes>"
      ]
     },
     "metadata": {
      "needs_background": "light"
     },
     "output_type": "display_data"
    }
   ],
   "source": [
    "plt.hist(df[df['alcohol'] < 10.49]['quality'])\n",
    "plt.title('Quality perception when Alcohol is below the mean')"
   ]
  },
  {
   "cell_type": "code",
   "execution_count": 99,
   "metadata": {
    "execution": {
     "iopub.execute_input": "2021-06-01T01:40:45.238677Z",
     "iopub.status.busy": "2021-06-01T01:40:45.238518Z",
     "iopub.status.idle": "2021-06-01T01:40:45.333318Z",
     "shell.execute_reply": "2021-06-01T01:40:45.332862Z",
     "shell.execute_reply.started": "2021-06-01T01:40:45.238662Z"
    },
    "tags": []
   },
   "outputs": [
    {
     "data": {
      "text/plain": [
       "Text(0.5, 1.0, 'Quality perception when Alcohol is above the mean')"
      ]
     },
     "execution_count": 99,
     "metadata": {},
     "output_type": "execute_result"
    },
    {
     "data": {
      "image/png": "[encoded data removed]",
      "text/plain": [
       "<Figure size 432x288 with 1 Axes>"
      ]
     },
     "metadata": {
      "needs_background": "light"
     },
     "output_type": "display_data"
    }
   ],
   "source": [
    "plt.hist(df[df['alcohol'] > 10.49]['quality'])\n",
    "plt.title('Quality perception when Alcohol is above the mean')"
   ]
  },
  {
   "cell_type": "markdown",
   "metadata": {},
   "source": [
    "Wine with higher alcohol density (alcohol content higher than the mean of 10.49) tends to receive better wine quality review than below. This suggests a correlation."
   ]
  },
  {
   "cell_type": "markdown",
   "metadata": {
    "execution": {
     "iopub.execute_input": "2021-06-01T01:37:34.650051Z",
     "iopub.status.busy": "2021-06-01T01:37:34.649902Z",
     "iopub.status.idle": "2021-06-01T01:37:34.652782Z",
     "shell.execute_reply": "2021-06-01T01:37:34.652316Z",
     "shell.execute_reply.started": "2021-06-01T01:37:34.650036Z"
    }
   },
   "source": [
    "Lets do the same Histogram to Density and Volatile Acidity, based on the correlation heatmap, using the means of both."
   ]
  },
  {
   "cell_type": "markdown",
   "metadata": {},
   "source": [
    "### Density"
   ]
  },
  {
   "cell_type": "code",
   "execution_count": 100,
   "metadata": {
    "execution": {
     "iopub.execute_input": "2021-06-01T01:40:51.922588Z",
     "iopub.status.busy": "2021-06-01T01:40:51.922367Z",
     "iopub.status.idle": "2021-06-01T01:40:52.030703Z",
     "shell.execute_reply": "2021-06-01T01:40:52.030296Z",
     "shell.execute_reply.started": "2021-06-01T01:40:51.922557Z"
    },
    "tags": []
   },
   "outputs": [
    {
     "data": {
      "text/plain": [
       "Text(0.5, 1.0, 'Quality perception when Density is below the mean')"
      ]
     },
     "execution_count": 100,
     "metadata": {},
     "output_type": "execute_result"
    },
    {
     "data": {
      "image/png": "[encoded data removed]",
      "text/plain": [
       "<Figure size 432x288 with 1 Axes>"
      ]
     },
     "metadata": {
      "needs_background": "light"
     },
     "output_type": "display_data"
    }
   ],
   "source": [
    "plt.hist(df[df['density'] < .9947]['quality'])\n",
    "plt.title('Quality perception when Density is below the mean')"
   ]
  },
  {
   "cell_type": "code",
   "execution_count": 101,
   "metadata": {
    "execution": {
     "iopub.execute_input": "2021-06-01T01:41:00.583517Z",
     "iopub.status.busy": "2021-06-01T01:41:00.583370Z",
     "iopub.status.idle": "2021-06-01T01:41:00.671606Z",
     "shell.execute_reply": "2021-06-01T01:41:00.671269Z",
     "shell.execute_reply.started": "2021-06-01T01:41:00.583502Z"
    },
    "tags": []
   },
   "outputs": [
    {
     "data": {
      "text/plain": [
       "Text(0.5, 1.0, 'Quality perception when Density is Above the mean')"
      ]
     },
     "execution_count": 101,
     "metadata": {},
     "output_type": "execute_result"
    },
    {
     "data": {
      "image/png": "[encoded data removed]",
      "text/plain": [
       "<Figure size 432x288 with 1 Axes>"
      ]
     },
     "metadata": {
      "needs_background": "light"
     },
     "output_type": "display_data"
    }
   ],
   "source": [
    "plt.hist(df[df['density'] > .9947]['quality'])\n",
    "plt.title('Quality perception when Density is Above the mean')"
   ]
  },
  {
   "cell_type": "markdown",
   "metadata": {},
   "source": [
    "### Volatile Acidity"
   ]
  },
  {
   "cell_type": "code",
   "execution_count": 103,
   "metadata": {
    "execution": {
     "iopub.execute_input": "2021-06-01T01:41:18.825967Z",
     "iopub.status.busy": "2021-06-01T01:41:18.825739Z",
     "iopub.status.idle": "2021-06-01T01:41:18.954956Z",
     "shell.execute_reply": "2021-06-01T01:41:18.954465Z",
     "shell.execute_reply.started": "2021-06-01T01:41:18.825945Z"
    },
    "tags": []
   },
   "outputs": [
    {
     "data": {
      "text/plain": [
       "Text(0.5, 1.0, 'Quality perception when Volatile Acidity is below the mean')"
      ]
     },
     "execution_count": 103,
     "metadata": {},
     "output_type": "execute_result"
    },
    {
     "data": {
      "image/png": "[encoded data removed]",
      "text/plain": [
       "<Figure size 432x288 with 1 Axes>"
      ]
     },
     "metadata": {
      "needs_background": "light"
     },
     "output_type": "display_data"
    }
   ],
   "source": [
    "plt.hist(df[df['volatile acidity'] < .3397]['quality'])\n",
    "plt.title('Quality perception when Volatile Acidity is below the mean')"
   ]
  },
  {
   "cell_type": "code",
   "execution_count": 104,
   "metadata": {
    "execution": {
     "iopub.execute_input": "2021-06-01T01:41:21.466388Z",
     "iopub.status.busy": "2021-06-01T01:41:21.466240Z",
     "iopub.status.idle": "2021-06-01T01:41:21.568499Z",
     "shell.execute_reply": "2021-06-01T01:41:21.568123Z",
     "shell.execute_reply.started": "2021-06-01T01:41:21.466373Z"
    },
    "tags": []
   },
   "outputs": [
    {
     "data": {
      "text/plain": [
       "Text(0.5, 1.0, 'Quality perception when Volatile Acidity is above the mean')"
      ]
     },
     "execution_count": 104,
     "metadata": {},
     "output_type": "execute_result"
    },
    {
     "data": {
      "image/png": "[encoded data removed]",
      "text/plain": [
       "<Figure size 432x288 with 1 Axes>"
      ]
     },
     "metadata": {
      "needs_background": "light"
     },
     "output_type": "display_data"
    }
   ],
   "source": [
    "plt.hist(df[df['volatile acidity'] > .3397]['quality'])\n",
    "plt.title('Quality perception when Volatile Acidity is above the mean')"
   ]
  },
  {
   "cell_type": "markdown",
   "metadata": {},
   "source": [
    "### Chlorides"
   ]
  },
  {
   "cell_type": "code",
   "execution_count": 112,
   "metadata": {
    "execution": {
     "iopub.execute_input": "2021-06-01T02:04:01.159192Z",
     "iopub.status.busy": "2021-06-01T02:04:01.159045Z",
     "iopub.status.idle": "2021-06-01T02:04:01.278054Z",
     "shell.execute_reply": "2021-06-01T02:04:01.277577Z",
     "shell.execute_reply.started": "2021-06-01T02:04:01.159177Z"
    },
    "tags": []
   },
   "outputs": [
    {
     "data": {
      "text/plain": [
       "Text(0.5, 1.0, 'Quality perception when Chlorides is below the mean')"
      ]
     },
     "execution_count": 112,
     "metadata": {},
     "output_type": "execute_result"
    },
    {
     "data": {
      "image/png": "[encoded data removed]",
      "text/plain": [
       "<Figure size 432x288 with 1 Axes>"
      ]
     },
     "metadata": {
      "needs_background": "light"
     },
     "output_type": "display_data"
    }
   ],
   "source": [
    "plt.hist(df[df['chlorides'] < .056]['quality'])\n",
    "plt.title('Quality perception when Chlorides is below the mean')"
   ]
  },
  {
   "cell_type": "code",
   "execution_count": 113,
   "metadata": {
    "execution": {
     "iopub.execute_input": "2021-06-01T02:04:01.814256Z",
     "iopub.status.busy": "2021-06-01T02:04:01.814107Z",
     "iopub.status.idle": "2021-06-01T02:04:01.901857Z",
     "shell.execute_reply": "2021-06-01T02:04:01.901392Z",
     "shell.execute_reply.started": "2021-06-01T02:04:01.814241Z"
    },
    "tags": []
   },
   "outputs": [
    {
     "data": {
      "text/plain": [
       "Text(0.5, 1.0, 'Quality perception when Chlorides is above the mean')"
      ]
     },
     "execution_count": 113,
     "metadata": {},
     "output_type": "execute_result"
    },
    {
     "data": {
      "image/png": "[encoded data removed]",
      "text/plain": [
       "<Figure size 432x288 with 1 Axes>"
      ]
     },
     "metadata": {
      "needs_background": "light"
     },
     "output_type": "display_data"
    }
   ],
   "source": [
    "plt.hist(df[df['chlorides'] > .056]['quality'])\n",
    "plt.title('Quality perception when Chlorides is above the mean')"
   ]
  },
  {
   "cell_type": "markdown",
   "metadata": {},
   "source": [
    "Density Volatile Acidity and Chlorides are indeed negatively correlated to the perceived quality. The histograms for those three when below the mean look identical to the alcohol plot when above the mean. Vice versa is not necessarily true."
   ]
  },
  {
   "cell_type": "markdown",
   "metadata": {},
   "source": [
    "Correlations left out wine color due to it being a categorical variable. Plot histograms for those as well."
   ]
  },
  {
   "cell_type": "markdown",
   "metadata": {},
   "source": [
    "### Wine Color"
   ]
  },
  {
   "cell_type": "code",
   "execution_count": 92,
   "metadata": {
    "execution": {
     "iopub.execute_input": "2021-06-01T01:23:22.817358Z",
     "iopub.status.busy": "2021-06-01T01:23:22.817204Z",
     "iopub.status.idle": "2021-06-01T01:23:22.919584Z",
     "shell.execute_reply": "2021-06-01T01:23:22.919092Z",
     "shell.execute_reply.started": "2021-06-01T01:23:22.817343Z"
    },
    "tags": []
   },
   "outputs": [
    {
     "data": {
      "text/plain": [
       "Text(0.5, 1.0, 'White Wine Quality')"
      ]
     },
     "execution_count": 92,
     "metadata": {},
     "output_type": "execute_result"
    },
    {
     "data": {
      "image/png": "[encoded data removed]",
      "text/plain": [
       "<Figure size 432x288 with 1 Axes>"
      ]
     },
     "metadata": {
      "needs_background": "light"
     },
     "output_type": "display_data"
    }
   ],
   "source": [
    "plt.hist(df[df['type'] == 'white']['quality'])\n",
    "plt.title('White Wine Quality')"
   ]
  },
  {
   "cell_type": "code",
   "execution_count": 91,
   "metadata": {
    "execution": {
     "iopub.execute_input": "2021-06-01T01:23:14.796780Z",
     "iopub.status.busy": "2021-06-01T01:23:14.796599Z",
     "iopub.status.idle": "2021-06-01T01:23:14.894019Z",
     "shell.execute_reply": "2021-06-01T01:23:14.893607Z",
     "shell.execute_reply.started": "2021-06-01T01:23:14.796759Z"
    },
    "tags": []
   },
   "outputs": [
    {
     "data": {
      "text/plain": [
       "Text(0.5, 1.0, 'Red Wine Quality')"
      ]
     },
     "execution_count": 91,
     "metadata": {},
     "output_type": "execute_result"
    },
    {
     "data": {
      "image/png": "[encoded data removed]",
      "text/plain": [
       "<Figure size 432x288 with 1 Axes>"
      ]
     },
     "metadata": {
      "needs_background": "light"
     },
     "output_type": "display_data"
    }
   ],
   "source": [
    "plt.hist(df[df['type'] == 'red']['quality'])\n",
    "plt.title('Red Wine Quality')"
   ]
  },
  {
   "cell_type": "markdown",
   "metadata": {},
   "source": [
    "Red wine is more strongly centered around 5-6 for quality reviews, whereas white wine is more evenly distributed closer resembling normal distribution."
   ]
  },
  {
   "cell_type": "markdown",
   "metadata": {},
   "source": [
    "This could also be because there is far more white wine data in the dataset than red, obeying the central limit theorem."
   ]
  },
  {
   "cell_type": "code",
   "execution_count": 116,
   "metadata": {
    "execution": {
     "iopub.execute_input": "2021-06-01T02:06:05.129430Z",
     "iopub.status.busy": "2021-06-01T02:06:05.129278Z",
     "iopub.status.idle": "2021-06-01T02:06:05.212406Z",
     "shell.execute_reply": "2021-06-01T02:06:05.212033Z",
     "shell.execute_reply.started": "2021-06-01T02:06:05.129415Z"
    },
    "tags": []
   },
   "outputs": [
    {
     "data": {
      "text/plain": [
       "Text(0.5, 1.0, 'Wine Quality')"
      ]
     },
     "execution_count": 116,
     "metadata": {},
     "output_type": "execute_result"
    },
    {
     "data": {
      "image/png": "[encoded data removed]",
      "text/plain": [
       "<Figure size 432x288 with 1 Axes>"
      ]
     },
     "metadata": {
      "needs_background": "light"
     },
     "output_type": "display_data"
    }
   ],
   "source": [
    "plt.hist(df['quality'])\n",
    "plt.title('Wine Quality')"
   ]
  },
  {
   "cell_type": "markdown",
   "metadata": {},
   "source": [
    "The white wine histogram, as well as the Alcohol > mean, as well as volatile acidity and density < mean all look like very similar plots."
   ]
  },
  {
   "cell_type": "markdown",
   "metadata": {
    "execution": {
     "iopub.execute_input": "2021-06-01T01:55:50.089967Z",
     "iopub.status.busy": "2021-06-01T01:55:50.089817Z",
     "iopub.status.idle": "2021-06-01T01:55:50.092701Z",
     "shell.execute_reply": "2021-06-01T01:55:50.092206Z",
     "shell.execute_reply.started": "2021-06-01T01:55:50.089952Z"
    }
   },
   "source": [
    "This suggests correlations among all those variables, and will most likely be the biggest influences when run through training and testing models"
   ]
  },
  {
   "cell_type": "code",
   "execution_count": 124,
   "metadata": {
    "execution": {
     "iopub.execute_input": "2021-06-01T02:07:34.959903Z",
     "iopub.status.busy": "2021-06-01T02:07:34.959752Z",
     "iopub.status.idle": "2021-06-01T02:07:35.459971Z",
     "shell.execute_reply": "2021-06-01T02:07:35.459505Z",
     "shell.execute_reply.started": "2021-06-01T02:07:34.959888Z"
    },
    "tags": []
   },
   "outputs": [
    {
     "data": {
      "text/plain": [
       "Text(0.5, 1.0, 'Alcohol')"
      ]
     },
     "execution_count": 124,
     "metadata": {},
     "output_type": "execute_result"
    },
    {
     "data": {
      "image/png": "[encoded data removed]",
      "text/plain": [
       "<Figure size 432x288 with 1 Axes>"
      ]
     },
     "metadata": {
      "needs_background": "light"
     },
     "output_type": "display_data"
    },
    {
     "data": {
      "image/png": "[encoded data removed]",
      "text/plain": [
       "<Figure size 432x288 with 1 Axes>"
      ]
     },
     "metadata": {
      "needs_background": "light"
     },
     "output_type": "display_data"
    },
    {
     "data": {
      "image/png": "[encoded data removed]",
      "text/plain": [
       "<Figure size 432x288 with 1 Axes>"
      ]
     },
     "metadata": {
      "needs_background": "light"
     },
     "output_type": "display_data"
    },
    {
     "data": {
      "image/png": "[encoded data removed]",
      "text/plain": [
       "<Figure size 432x288 with 1 Axes>"
      ]
     },
     "metadata": {
      "needs_background": "light"
     },
     "output_type": "display_data"
    }
   ],
   "source": [
    "plt.figure()\n",
    "plt.hist(df['volatile acidity'], bins=50)\n",
    "plt.title('Volatile Acidity')\n",
    "plt.figure()\n",
    "plt.hist(df['density'], bins=50)\n",
    "plt.title('Density')\n",
    "plt.figure()\n",
    "plt.hist(df['chlorides'], bins=50)\n",
    "plt.title('Chlorides')\n",
    "plt.figure()\n",
    "plt.hist(df['alcohol'], bins=50)\n",
    "plt.title('Alcohol')"
   ]
  },
  {
   "cell_type": "markdown",
   "metadata": {
    "execution": {
     "iopub.execute_input": "2021-06-01T02:00:45.300345Z",
     "iopub.status.busy": "2021-06-01T02:00:45.300194Z",
     "iopub.status.idle": "2021-06-01T02:00:45.303198Z",
     "shell.execute_reply": "2021-06-01T02:00:45.302725Z",
     "shell.execute_reply.started": "2021-06-01T02:00:45.300330Z"
    }
   },
   "source": [
    "Interestingly, the four variables mentioned are severely positively skewed, alcohol less so, but still noticable."
   ]
  },
  {
   "cell_type": "markdown",
   "metadata": {
    "execution": {
     "iopub.execute_input": "2021-06-01T02:08:25.314480Z",
     "iopub.status.busy": "2021-06-01T02:08:25.314331Z",
     "iopub.status.idle": "2021-06-01T02:08:25.317266Z",
     "shell.execute_reply": "2021-06-01T02:08:25.316772Z",
     "shell.execute_reply.started": "2021-06-01T02:08:25.314465Z"
    }
   },
   "source": [
    "Then again, ALL the features have the positive skew at varying rates."
   ]
  }
 ],
 "metadata": {
  "kernelspec": {
   "display_name": "Python 3",
   "language": "python",
   "name": "python3"
  },
  "language_info": {
   "codemirror_mode": {
    "name": "ipython",
    "version": 3
   },
   "file_extension": ".py",
   "mimetype": "text/x-python",
   "name": "python",
   "nbconvert_exporter": "python",
   "pygments_lexer": "ipython3",
   "version": "3.9.5"
  }
 },
 "nbformat": 4,
 "nbformat_minor": 4
}
