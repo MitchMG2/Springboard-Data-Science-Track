{
 "cells": [
  {
   "cell_type": "markdown",
   "metadata": {},
   "source": [
    "This exercise will require you to pull some data from the Qunadl API. Qaundl is currently the most widely used aggregator of financial market data."
   ]
  },
  {
   "cell_type": "markdown",
   "metadata": {},
   "source": [
    "As a first step, you will need to register a free account on the http://www.quandl.com website."
   ]
  },
  {
   "cell_type": "markdown",
   "metadata": {},
   "source": [
    "After you register, you will be provided with a unique API key, that you should store:"
   ]
  },
  {
   "cell_type": "code",
   "execution_count": 1,
   "metadata": {},
   "outputs": [],
   "source": [
    "# Store the API key as a string - according to PEP8, constants are always named in all upper case\n",
    "API_KEY = ''"
   ]
  },
  {
   "cell_type": "markdown",
   "metadata": {},
   "source": [
    "Qaundl has a large number of data sources, but, unfortunately, most of them require a Premium subscription. Still, there are also a good number of free datasets."
   ]
  },
  {
   "cell_type": "markdown",
   "metadata": {},
   "source": [
    "For this mini project, we will focus on equities data from the Frankfurt Stock Exhange (FSE), which is available for free. We'll try and analyze the stock prices of a company called Carl Zeiss Meditec, which manufactures tools for eye examinations, as well as medical lasers for laser eye surgery: https://www.zeiss.com/meditec/int/home.html. The company is listed under the stock ticker AFX_X."
   ]
  },
  {
   "cell_type": "markdown",
   "metadata": {},
   "source": [
    "You can find the detailed Quandl API instructions here: https://docs.quandl.com/docs/time-series"
   ]
  },
  {
   "cell_type": "markdown",
   "metadata": {},
   "source": [
    "While there is a dedicated Python package for connecting to the Quandl API, we would prefer that you use the *requests* package, which can be easily downloaded using *pip* or *conda*. You can find the documentation for the package here: http://docs.python-requests.org/en/master/ "
   ]
  },
  {
   "cell_type": "markdown",
   "metadata": {},
   "source": [
    "Finally, apart from the *requests* package, you are encouraged to not use any third party Python packages, such as *pandas*, and instead focus on what's available in the Python Standard Library (the *collections* module might come in handy: https://pymotw.com/3/collections/ ).\n",
    "Also, since you won't have access to DataFrames, you are encouraged to us Python's native data structures - preferably dictionaries, though some questions can also be answered using lists.\n",
    "You can read more on these data structures here: https://docs.python.org/3/tutorial/datastructures.html"
   ]
  },
  {
   "cell_type": "markdown",
   "metadata": {},
   "source": [
    "Keep in mind that the JSON responses you will be getting from the API map almost one-to-one to Python's dictionaries. Unfortunately, they can be very nested, so make sure you read up on indexing dictionaries in the documentation provided above."
   ]
  },
  {
   "cell_type": "code",
   "execution_count": 2,
   "metadata": {},
   "outputs": [],
   "source": [
    "# First, import the relevant modules\n",
    "import requests\n",
    "import json"
   ]
  },
  {
   "cell_type": "code",
   "execution_count": 3,
   "metadata": {},
   "outputs": [],
   "source": [
    "# Now, call the Quandl API and pull out a small sample of the data (only one day) to get a glimpse\n",
    "# into the JSON structure that will be returned\n",
    "\n",
    "#Example Request URL according to documentation\n",
    "#\"https://www.quandl.com/api/v3/datasets/WIKI/FB/data.json?api_key=YOURAPIKEY\"\n",
    "url = 'https://www.quandl.com/api/v3/datasets/WIKI/FB/data.json'\n",
    "params = dict(api_key=API_KEY, collapse='daily', limit=1)\n",
    "r = requests.get(url, params=params)\n",
    "json_data = r.json()\n"
   ]
  },
  {
   "cell_type": "code",
   "execution_count": 4,
   "metadata": {},
   "outputs": [
    {
     "name": "stdout",
     "output_type": "stream",
     "text": [
      "dataset_data: {'limit': 1, 'transform': None, 'column_index': None, 'column_names': ['Date', 'Open', 'High', 'Low', 'Close', 'Volume', 'Ex-Dividend', 'Split Ratio', 'Adj. Open', 'Adj. High', 'Adj. Low', 'Adj. Close', 'Adj. Volume'], 'start_date': '2012-05-18', 'end_date': '2018-03-27', 'frequency': 'daily', 'data': [['2018-03-27', 156.31, 162.85, 150.75, 152.19, 76787884.0, 0.0, 1.0, 156.31, 162.85, 150.75, 152.19, 76787884.0]], 'collapse': 'daily', 'order': None}\n"
     ]
    }
   ],
   "source": [
    "# Inspect the JSON structure of the object you created, and take note of how nested it is,\n",
    "# as well as the overall structure\n",
    "#Print keys as defined in datacamp course\n",
    "for key in json_data.keys():\n",
    "    print(key + ':', json_data[key])"
   ]
  },
  {
   "cell_type": "code",
   "execution_count": 5,
   "metadata": {},
   "outputs": [
    {
     "name": "stdout",
     "output_type": "stream",
     "text": [
      "{\n",
      "    \"dataset_data\": {\n",
      "        \"limit\": 1,\n",
      "        \"transform\": null,\n",
      "        \"column_index\": null,\n",
      "        \"column_names\": [\n",
      "            \"Date\",\n",
      "            \"Open\",\n",
      "            \"High\",\n",
      "            \"Low\",\n",
      "            \"Close\",\n",
      "            \"Volume\",\n",
      "            \"Ex-Dividend\",\n",
      "            \"Split Ratio\",\n",
      "            \"Adj. Open\",\n",
      "            \"Adj. High\",\n",
      "            \"Adj. Low\",\n",
      "            \"Adj. Close\",\n",
      "            \"Adj. Volume\"\n",
      "        ],\n",
      "        \"start_date\": \"2012-05-18\",\n",
      "        \"end_date\": \"2018-03-27\",\n",
      "        \"frequency\": \"daily\",\n",
      "        \"data\": [\n",
      "            [\n",
      "                \"2018-03-27\",\n",
      "                156.31,\n",
      "                162.85,\n",
      "                150.75,\n",
      "                152.19,\n",
      "                76787884.0,\n",
      "                0.0,\n",
      "                1.0,\n",
      "                156.31,\n",
      "                162.85,\n",
      "                150.75,\n",
      "                152.19,\n",
      "                76787884.0\n",
      "            ]\n",
      "        ],\n",
      "        \"collapse\": \"daily\",\n",
      "        \"order\": null\n",
      "    }\n",
      "}\n"
     ]
    }
   ],
   "source": [
    "#Format Json file using dumps() method to view its nested structure\n",
    "json_formatted = json.dumps(json_data, indent=4)\n",
    "print(json_formatted)"
   ]
  },
  {
   "cell_type": "code",
   "execution_count": 6,
   "metadata": {},
   "outputs": [
    {
     "data": {
      "text/plain": [
       "[['2018-03-27',\n",
       "  156.31,\n",
       "  162.85,\n",
       "  150.75,\n",
       "  152.19,\n",
       "  76787884.0,\n",
       "  0.0,\n",
       "  1.0,\n",
       "  156.31,\n",
       "  162.85,\n",
       "  150.75,\n",
       "  152.19,\n",
       "  76787884.0]]"
      ]
     },
     "execution_count": 6,
     "metadata": {},
     "output_type": "execute_result"
    }
   ],
   "source": [
    "json_data['dataset_data']['data']"
   ]
  },
  {
   "cell_type": "markdown",
   "metadata": {},
   "source": [
    "These are your tasks for this mini project:\n",
    "\n",
    "1. Collect data from the Franfurt Stock Exchange, for the ticker AFX_X, for the whole year 2017 (keep in mind that the date format is YYYY-MM-DD).\n",
    "2. Convert the returned JSON object into a Python dictionary.\n",
    "3. Calculate what the highest and lowest opening prices were for the stock in this period.\n",
    "4. What was the largest change in any one day (based on High and Low price)?\n",
    "5. What was the largest change between any two days (based on Closing Price)?\n",
    "6. What was the average daily trading volume during this year?\n",
    "7. (Optional) What was the median trading volume during this year. (Note: you may need to implement your own function for calculating the median.)"
   ]
  },
  {
   "cell_type": "markdown",
   "metadata": {},
   "source": [
    "Question 1 :\n",
    "Collect data from the Franfurt Stock Exchange, for the ticker AFX_X, for the whole year 2017 (keep in mind that the date format is YYYY-MM-DD)."
   ]
  },
  {
   "cell_type": "code",
   "execution_count": 7,
   "metadata": {},
   "outputs": [],
   "source": [
    "#Database = FSE, dataset = AFX_X\n",
    "#Restructuring URL becomes https://www.quandl.com/api/v3/datasets/FSE/AFX_X/data.json\n",
    "#Do same requests function as above and create json dictionary\n",
    "url2 = 'https://www.quandl.com/api/v3/datasets/FSE/AFX_X/data.json'\n",
    "params2 = dict(api_key=API_KEY, start_date='2017-01-01', end_date='2017-12-31', order='asc', collapse='daily')\n",
    "r2 = requests.get(url2, params=params2)\n",
    "json_data2 = r2.json()\n"
   ]
  },
  {
   "cell_type": "code",
   "execution_count": 8,
   "metadata": {},
   "outputs": [
    {
     "name": "stdout",
     "output_type": "stream",
     "text": [
      "['Date', 'Open', 'High', 'Low', 'Close', 'Change', 'Traded Volume', 'Turnover', 'Last Price of the Day', 'Daily Traded Units', 'Daily Turnover']\n"
     ]
    }
   ],
   "source": [
    "#Check column names again for sanity check\n",
    "print(json_data2['dataset_data']['column_names'])"
   ]
  },
  {
   "cell_type": "code",
   "execution_count": 9,
   "metadata": {},
   "outputs": [],
   "source": [
    "#Format Json file using dumps() method to see what it actually looks like nested\n",
    "json2_formatted = json.dumps(json_data2, indent=4)\n",
    "#Result of print command which was far too long,\n",
    "#thus i removed it along with its output here \n",
    "\n",
    "#Relevant hierarchy portion\n",
    "#Note difference in compared to original example one row fetch in prior example.\n",
    "#Namely, different column names and some additional ones as well\n",
    "#Probably due to Frankfurt Stock Exchange supplying different levels of data\n",
    "#{\n",
    "#    \"dataset_data\": {\n",
    "#        \"limit\": null,\n",
    "#        \"transform\": null,\n",
    "#        \"column_index\": null,\n",
    "#        \"column_names\": [\n",
    "#            \"Date\",\n",
    "#            \"Open\",\n",
    "#            \"High\",\n",
    "#            \"Low\",\n",
    "#            \"Close\",\n",
    "#            \"Change\",\n",
    "#            \"Traded Volume\",\n",
    "#            \"Turnover\",\n",
    "#            \"Last Price of the Day\",\n",
    "#            \"Daily Traded Units\",\n",
    "#            \"Daily Turnover\"\n",
    "#        ],\n",
    "#        \"start_date\": \"2017-01-01\",\n",
    "#        \"end_date\": \"2017-12-31\",\n",
    "#        \"frequency\": \"daily\",\n",
    "#        \"data\": [\n",
    "#            [\n",
    "#                \"2017-12-29\",\n",
    "#                51.76,\n",
    "#                51.94,\n",
    "#                51.45,\n",
    "#                51.76,\n",
    "#                null,\n",
    "#                34640.0,\n",
    "#                1792304.0,\n",
    "#                null,\n",
    "#                null,\n",
    "#                null\n",
    "#            ],"
   ]
  },
  {
   "cell_type": "markdown",
   "metadata": {},
   "source": [
    "Question 2:\n",
    "Convert the returned JSON object into a Python dictionary."
   ]
  },
  {
   "cell_type": "code",
   "execution_count": 10,
   "metadata": {},
   "outputs": [],
   "source": [
    "#Initialize empty data dictionary\n",
    "data_dict = {}\n",
    "\n",
    "#Define column names and data, will use both to pupulate new dictionary\n",
    "columns = json_data2['dataset_data']['column_names']\n",
    "data_rows = json_data2['dataset_data']['data']"
   ]
  },
  {
   "cell_type": "code",
   "execution_count": 11,
   "metadata": {},
   "outputs": [
    {
     "data": {
      "text/plain": [
       "255"
      ]
     },
     "execution_count": 11,
     "metadata": {},
     "output_type": "execute_result"
    }
   ],
   "source": [
    "len(data_rows)"
   ]
  },
  {
   "cell_type": "code",
   "execution_count": 12,
   "metadata": {},
   "outputs": [
    {
     "name": "stdout",
     "output_type": "stream",
     "text": [
      "['2017-01-02', 34.99, 35.94, 34.99, 35.8, None, 44700.0, 1590561.0, None, None, None]\n"
     ]
    }
   ],
   "source": [
    "print(data_rows[0])"
   ]
  },
  {
   "cell_type": "code",
   "execution_count": 13,
   "metadata": {},
   "outputs": [],
   "source": [
    "#Populate new dictionary\n",
    "#Chose to do len(columns) number of keys, each key has its 255 rows\n",
    "#This way i can run loops as data_dict['key']['row_number']\n",
    "for x in range(len(columns)):\n",
    "    data_dict[columns[x]] = []\n",
    "    for i in data_rows:\n",
    "         data_dict[columns[x]].append(i[x])"
   ]
  },
  {
   "cell_type": "code",
   "execution_count": 14,
   "metadata": {},
   "outputs": [
    {
     "data": {
      "text/plain": [
       "11"
      ]
     },
     "execution_count": 14,
     "metadata": {},
     "output_type": "execute_result"
    }
   ],
   "source": [
    "len(data_dict)"
   ]
  },
  {
   "cell_type": "code",
   "execution_count": 15,
   "metadata": {},
   "outputs": [
    {
     "data": {
      "text/plain": [
       "dict_keys(['Date', 'Open', 'High', 'Low', 'Close', 'Change', 'Traded Volume', 'Turnover', 'Last Price of the Day', 'Daily Traded Units', 'Daily Turnover'])"
      ]
     },
     "execution_count": 15,
     "metadata": {},
     "output_type": "execute_result"
    }
   ],
   "source": [
    "data_dict.keys()"
   ]
  },
  {
   "cell_type": "markdown",
   "metadata": {},
   "source": [
    "Question 3:\n",
    "Calculate what the highest and lowest opening prices were for the stock in this period."
   ]
  },
  {
   "cell_type": "code",
   "execution_count": 16,
   "metadata": {},
   "outputs": [],
   "source": [
    "#Initialize min and max with the first row of the dataset\n",
    "max_open = data_dict['Open'][0]\n",
    "min_open = data_dict['Open'][0]"
   ]
  },
  {
   "cell_type": "code",
   "execution_count": 17,
   "metadata": {},
   "outputs": [
    {
     "name": "stdout",
     "output_type": "stream",
     "text": [
      "34.99 34.99\n"
     ]
    }
   ],
   "source": [
    "#For loop, inside loop make less, greater comparisons\n",
    "for i in range(len(data_dict['Open'])):\n",
    "    #Data has some NoneType values instead of floats, not sure why\n",
    "    #As a result, comparing NoneType to Float errors kept coming out\n",
    "    #This was the only solution I could come up with\n",
    "    if isinstance(data_dict['Open'][i], float) == 'True':\n",
    "        open_price= data_dict['Open'][i]\n",
    "        if open_price > max_open:\n",
    "            max_open = open_price\n",
    "        if open_price < min_open:\n",
    "            min_open = open_price\n",
    "print(max_open,min_open)\n"
   ]
  },
  {
   "cell_type": "markdown",
   "metadata": {},
   "source": [
    "Question 4:\n",
    "What was the largest change in any one day (based on High and Low price)?"
   ]
  },
  {
   "cell_type": "code",
   "execution_count": 18,
   "metadata": {},
   "outputs": [
    {
     "name": "stdout",
     "output_type": "stream",
     "text": [
      "2.8100000000000023\n"
     ]
    }
   ],
   "source": [
    "greatest_change =  data_dict['High'][0] - data_dict['Low'][0]\n",
    "for i in range(len(data_dict['High'])):\n",
    "    new_change = data_dict['High'][i] - data_dict['Low'][i]\n",
    "    if new_change > greatest_change:\n",
    "        greatest_change = new_change\n",
    "print(greatest_change)"
   ]
  },
  {
   "cell_type": "markdown",
   "metadata": {},
   "source": [
    "Question 5:\n",
    "What was the largest change between any two days (based on Closing Price)?"
   ]
  },
  {
   "cell_type": "code",
   "execution_count": 19,
   "metadata": {},
   "outputs": [
    {
     "name": "stdout",
     "output_type": "stream",
     "text": [
      "2.559999999999995\n"
     ]
    }
   ],
   "source": [
    "closing_change =  data_dict['Close'][0] - data_dict['Close'][1]\n",
    "for i in range(len(data_dict['Close'])):\n",
    "    #Change might be skewed if includes first day of dataset\n",
    "    #Because first day - 1 will produce zero\n",
    "    #Thus the \"change\" will simply be the value of the row itself\n",
    "    #Thus exclude it\n",
    "    if i != 0:\n",
    "        new_close = data_dict['Close'][i - 1] - data_dict['Close'][i]\n",
    "        if new_close > closing_change:\n",
    "            closing_change = new_close\n",
    "print(closing_change)"
   ]
  },
  {
   "cell_type": "markdown",
   "metadata": {},
   "source": [
    "Question 6:\n",
    "What was the average daily trading volume during this year?"
   ]
  },
  {
   "cell_type": "code",
   "execution_count": 20,
   "metadata": {},
   "outputs": [
    {
     "name": "stdout",
     "output_type": "stream",
     "text": [
      "89124.33725490196\n"
     ]
    }
   ],
   "source": [
    "#Average = sum/total\n",
    "average = sum(data_dict['Traded Volume'])/len(data_dict['Traded Volume'])\n",
    "print(average)"
   ]
  },
  {
   "cell_type": "markdown",
   "metadata": {},
   "source": [
    "Question 7:\n",
    "(Optional) What was the median trading volume during this year. (Note: you may need to implement your own function for calculating the median.)"
   ]
  },
  {
   "cell_type": "code",
   "execution_count": 21,
   "metadata": {},
   "outputs": [
    {
     "name": "stdout",
     "output_type": "stream",
     "text": [
      "76286.0\n"
     ]
    }
   ],
   "source": [
    "#Define Median Function\n",
    "\n",
    "def median(input):\n",
    "    input_length = len(input)\n",
    "    input_sorted = sorted(input)\n",
    "    \n",
    "    #if even number of medians, must average them\n",
    "    if input_length %2 == 0:\n",
    "        mdn = (input_sorted[input_length/2] + input_sorted[input_length/2 + 1])/2\n",
    "    else:\n",
    "        #median is simply the middle of the sorted values\n",
    "        mdn = input_sorted[int(input_length/2)]\n",
    "    return mdn\n",
    "\n",
    "print(median(data_dict['Traded Volume']))"
   ]
  },
  {
   "cell_type": "code",
   "execution_count": 22,
   "metadata": {},
   "outputs": [],
   "source": [
    "#Pseudocode, please ignore\n",
    "\n",
    "#Make my life easier: \n",
    "#Iterate new dictionary in for loop\n",
    "#Focus only on column names and data\n",
    "#drop everything else\n",
    "\n",
    "#1 and 2 are accomplished\n",
    "\n",
    "#3 max 'Open', min 'Open' inside for loop\n",
    "\n",
    "#4 for loop create new column, calculate 'High' - 'Low', column name= 'Range' \n",
    "#then min-max it\n",
    "\n",
    "#5 calculate 'Close' - previous day 'Close'\n",
    "\n",
    "#6 regular average\n",
    "\n",
    "#7 sort, select middle if middle row is an odd number, \n",
    "#  otherwise average out two middle values"
   ]
  }
 ],
 "metadata": {
  "kernelspec": {
   "display_name": "Python 3",
   "language": "python",
   "name": "python3"
  },
  "language_info": {
   "codemirror_mode": {
    "name": "ipython",
    "version": 3
   },
   "file_extension": ".py",
   "mimetype": "text/x-python",
   "name": "python",
   "nbconvert_exporter": "python",
   "pygments_lexer": "ipython3",
   "version": "3.9.0"
  }
 },
 "nbformat": 4,
 "nbformat_minor": 4
}
